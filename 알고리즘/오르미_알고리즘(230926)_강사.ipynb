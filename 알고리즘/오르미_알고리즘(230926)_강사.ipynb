{
  "cells": [
    {
      "cell_type": "markdown",
      "metadata": {
        "id": "xPJAL0fq8sBX"
      },
      "source": [
        "# 1. 자료구조와 알고리즘, 코딩테스트"
      ]
    },
    {
      "cell_type": "markdown",
      "metadata": {
        "id": "r9ZOF95mU4f5"
      },
      "source": [
        "* 추천 서적\n",
        "    * 학문적 접근 : The Art of Computer Programming(도널드 커누스)\n",
        "    * 코딩테스트 접근 : 파이썬 알고리즘 인터뷰(박상길)\n",
        "    * 기타 : 파이썬 자료구조와 알고리즘(중학교 학생 가르칠 때 사용), 그림으로 배우는 알고리즘(코드 없고 그림만 있습니다), 알고리즘 산책(역사적인 알고리즘을 쭉 훑어봅니다. 수학적인 내용이 많고 코드는 C++로 되어 있으나 보는데 큰 무리는 없습니다.)"
      ]
    },
    {
      "cell_type": "markdown",
      "metadata": {
        "id": "6O46Zg9D5tv6"
      },
      "source": [
        "## 1.1 코테 전 준비사항\n",
        "\n",
        "1. 플렛폼에 익숙해지자! (프로그래머스, 구름EDU 등)\n",
        "    * 사용 가능 라이브러리 미리 확인 등\n",
        "    * 대부분 numpy나 pandas 같은 라이브러리 사용 금지이지만 간혹가다 제한이 없는 곳도 있습니다. numpy는 python보다 대부분의 경우 속도가 빠릅니다. 크기에 따라 다르지만 100000개 이상의 배열의 연산의 경우 50배 이상의 성능을 보입니다.\n",
        "2. 언어 선택(속도 : C++, 풀이 : Python)\n",
        "3. 코드 스니펫(트리, 검색, 최단경로(예를 들어 다익스트라), 직접 제작한 함수 등), Cheatsheet, A4 용지 준비\n",
        "    * 코드 스니펫을 만들어둔 레파지토리 fork - [제주코딩베이스캠프](https://github.com/paullabkorea/programmersLv0)\n",
        "    * 시험 전 스니펫을 만들지 말고 하루 한 문제씩(저도 매일 한 문제씩 풉니다.)\n",
        "4. 유용한 라이브러리 정리! (collections, itertools(순열, 조합), functools, itertools, re, bisect, math 등) - [제주코딩베이스캠프](https://www.youtube.com/channel/UC4GnvNKtuJ4cqWsYjxNxAEQ) 유튜브 채널 확인\n",
        "5. 기억해두자! 예외처리!\n",
        "6. 속도개선\n",
        "    1. class로 구현\n",
        "    2. 메서드 대신 슬라이싱 구현(슬라이싱은 C로 구현되어 있어 메서드보다 통상 8배정도 빠릅니다.)하세요. 다만 공간복잡도가 상승할 수 있습니다. (리스트.reverse(), reversed(리스트), 리스트[::-1])\n",
        "    3. for문 대신 list comprehension을 사용하세요. 더 빠릅니다.\n",
        "    4. 재귀는 느립니다. 최후의 수단으로 사용하세요."
      ]
    },
    {
      "cell_type": "markdown",
      "metadata": {
        "id": "2GrEMayc9b3O"
      },
      "source": [
        "## 1.2 문제 유형과 출제 방식\n",
        "* 5 ~ 6시간, 6 ~ 7문제\n",
        "* 2 ~ 3시간, 3 ~ 5 문제\n",
        "* 30분씩 4문제, 2시간씩 2문제\n",
        "* 문제 유형 분석 관련 글\n",
        "    * [문제 유형 분석](https://www.hanbit.co.kr/media/channel/view.html?cms_code=CMS4385594264)\n",
        "    * [언어 유불리 여부](https://www.hanbit.co.kr/media/channel/view.html?cms_code=CMS9145550324&cate_cd=)\n",
        "    * [코딩 테스트에 가장 많이 출제 되는 알고리즘](https://www.hanbit.co.kr/media/channel/view.html?cms_code=CMS7793635735&cate_cd=)\n",
        "        * 요구사항 구현 알고리즘(33%)\n",
        "        * 그리디 알고리즘(20%)\n",
        "        * 너비우선탐색, 깊이우선탐색(20%)\n",
        "        * 정렬(8%)\n",
        "        * 다이나믹 프로그래밍, 최단경로, 이진 탐색 등\n",
        "* 전체 문제 유형\n",
        "    * 알고리즘\n",
        "        * 정렬\n",
        "        * 이진 검색\n",
        "        * 비트 연산\n",
        "        * 슬라이딩 윈도우, 페이지 교체\n",
        "        * 분할 정복\n",
        "            * 그리디 알고리즘\n",
        "            * 다이나믹 프로그래밍\n",
        "    * 자료구조\n",
        "        * 선형\n",
        "            * 스택과 큐, 데크\n",
        "            * 연결리스트, 해시 테이블\n",
        "        * 비선형\n",
        "            * 그래프(최단경로) - 다익스트라가 나오면 매우 어려운 문제\n",
        "            * 트리\n",
        "                * 힙\n",
        "                * 트라이"
      ]
    },
    {
      "cell_type": "markdown",
      "metadata": {
        "id": "UQj-NRrc9WCQ"
      },
      "source": [
        "## 1.3 워밍업 문제"
      ]
    },
    {
      "cell_type": "markdown",
      "metadata": {
        "id": "83As1RgB5tv6"
      },
      "source": [
        "### 1.3.1 1번 워밍업 문제(google)\n",
        "\n",
        "1부터 10,000까지 8이라는 숫자가 총 몇번 나오는가?\n",
        "\n",
        "8이 포함되어 있는 숫자의 갯수를 카운팅 하는 것이 아니라 8이라는 숫자를 모두 카운팅 해야 한다.\n",
        "(※ 예를들어 8808은 3, 8888은 4로 카운팅 해야 함)\n",
        "\n",
        "문제 링크 : https://codingdojang.com/scode/393"
      ]
    },
    {
      "cell_type": "code",
      "source": [
        "list(range(20))\n",
        "str(list(range(20)))\n",
        "str(list(range(20))).count('1')"
      ],
      "metadata": {
        "colab": {
          "base_uri": "https://localhost:8080/"
        },
        "id": "eJLICts03Q99",
        "outputId": "f443537b-13e2-4203-b27b-6b68e65eb0c0"
      },
      "execution_count": null,
      "outputs": [
        {
          "output_type": "execute_result",
          "data": {
            "text/plain": [
              "12"
            ]
          },
          "metadata": {},
          "execution_count": 3
        }
      ]
    },
    {
      "cell_type": "code",
      "source": [
        "%%timeit\n",
        "\n",
        "count = 0\n",
        "\n",
        "for i in range(1, 101):\n",
        "    if '8' in str(i):\n",
        "        count += str(i).count('8')\n",
        "count"
      ],
      "metadata": {
        "colab": {
          "base_uri": "https://localhost:8080/"
        },
        "id": "HQPGHiXD3jj6",
        "outputId": "87cdd69e-9112-4e49-9dca-7951e982b2f5"
      },
      "execution_count": null,
      "outputs": [
        {
          "output_type": "stream",
          "name": "stdout",
          "text": [
            "23 µs ± 725 ns per loop (mean ± std. dev. of 7 runs, 10000 loops each)\n"
          ]
        }
      ]
    },
    {
      "cell_type": "code",
      "source": [
        "%%timeit\n",
        "\n",
        "str(list(range(1, 101))).count('1')"
      ],
      "metadata": {
        "colab": {
          "base_uri": "https://localhost:8080/"
        },
        "id": "5JSnfVBy4OEr",
        "outputId": "baf5f0af-6985-4397-99b2-986b61be44f3"
      },
      "execution_count": null,
      "outputs": [
        {
          "output_type": "stream",
          "name": "stdout",
          "text": [
            "8.74 µs ± 133 ns per loop (mean ± std. dev. of 7 runs, 100000 loops each)\n"
          ]
        }
      ]
    },
    {
      "cell_type": "code",
      "source": [
        "%%timeit\n",
        "\n",
        "str([i for i in range(1, 101)]).count('8')"
      ],
      "metadata": {
        "colab": {
          "base_uri": "https://localhost:8080/"
        },
        "id": "GJfazYhx4Yh0",
        "outputId": "64a4e582-3ec8-40f2-ed40-687b282bdb44"
      },
      "execution_count": null,
      "outputs": [
        {
          "output_type": "stream",
          "name": "stdout",
          "text": [
            "13.2 µs ± 3.25 µs per loop (mean ± std. dev. of 7 runs, 100000 loops each)\n"
          ]
        }
      ]
    },
    {
      "cell_type": "markdown",
      "metadata": {
        "id": "Vpj7PJrg5tv_"
      },
      "source": [
        "### 1.3.2 2번 워밍업 문제(daum)\n",
        "\n",
        "1차원의 점들이 주어졌을 때, 그 중 가장 거리가 짧은 것의 쌍을 출력하는 함수를 작성하시오. (단 점들의 배열은 모두 정렬되어있다고 가정한다.)\n",
        "\n",
        "예를들어 S = [1, 3, 4, 8, 13, 17, 20] 이 주어졌다면, 결과값은 (3, 4)가 될 것이다.\n",
        "\n",
        "문제링크 : https://codingdojang.com/scode/408"
      ]
    },
    {
      "cell_type": "code",
      "source": [
        "s = [1, 3, 4, 8, 13, 17, 20]\n",
        "ss = s[1:]\n",
        "ss"
      ],
      "metadata": {
        "colab": {
          "base_uri": "https://localhost:8080/"
        },
        "id": "C7IY15wu8EoR",
        "outputId": "8a55828a-90c7-44bc-f83b-f83bfbe0323a"
      },
      "execution_count": null,
      "outputs": [
        {
          "output_type": "execute_result",
          "data": {
            "text/plain": [
              "[3, 4, 8, 13, 17, 20]"
            ]
          },
          "metadata": {},
          "execution_count": 14
        }
      ]
    },
    {
      "cell_type": "code",
      "source": [
        "list(zip(s, ss))"
      ],
      "metadata": {
        "colab": {
          "base_uri": "https://localhost:8080/"
        },
        "id": "S2md19hE9Hbl",
        "outputId": "043368ae-83d5-4418-d214-c59e10453465"
      },
      "execution_count": null,
      "outputs": [
        {
          "output_type": "execute_result",
          "data": {
            "text/plain": [
              "[(1, 3), (3, 4), (4, 8), (8, 13), (13, 17), (17, 20)]"
            ]
          },
          "metadata": {},
          "execution_count": 15
        }
      ]
    },
    {
      "cell_type": "code",
      "source": [
        "sorted(zip(s, ss), key=lambda x:x[1]-x[0])\n",
        "sorted(zip(s, ss), key=lambda x:x[1]-x[0])[0]"
      ],
      "metadata": {
        "colab": {
          "base_uri": "https://localhost:8080/"
        },
        "id": "7YbNvr099L0A",
        "outputId": "fec0cfec-8f8f-4e6a-f479-0db5162ee5ac"
      },
      "execution_count": null,
      "outputs": [
        {
          "output_type": "execute_result",
          "data": {
            "text/plain": [
              "(3, 4)"
            ]
          },
          "metadata": {},
          "execution_count": 18
        }
      ]
    },
    {
      "cell_type": "code",
      "source": [
        "# max, min, sorted를 사용하지 않고\n",
        "# 최솟값, 최댓값은 직접 구현하실 수 있어야 합니다.\n",
        "# 최솟값\n",
        "# 최솟값은 최댓값을 가지고 비교\n",
        "d = [10, 2, 3, 7, 15, 3, 6]\n",
        "temp = float('inf')\n",
        "for i in d:\n",
        "    if temp > i:\n",
        "        temp = i\n",
        "print(temp)"
      ],
      "metadata": {
        "colab": {
          "base_uri": "https://localhost:8080/"
        },
        "id": "mlGH-iMb9qm5",
        "outputId": "798f84bb-bbee-446f-86d3-32a725f46b4c"
      },
      "execution_count": null,
      "outputs": [
        {
          "output_type": "stream",
          "name": "stdout",
          "text": [
            "2\n"
          ]
        }
      ]
    },
    {
      "cell_type": "code",
      "source": [
        "# 최댓값\n",
        "# 최댓값은 최솟값을 가지고 비교\n",
        "d = [10, 2, 3, 7, 15, 3, 6]\n",
        "temp = -float('inf')\n",
        "for i in d:\n",
        "    if temp < i:\n",
        "        temp = i\n",
        "print(temp)"
      ],
      "metadata": {
        "colab": {
          "base_uri": "https://localhost:8080/"
        },
        "id": "iK9--l9n-wN0",
        "outputId": "075e7234-5c58-490a-b3e4-9574c904264c"
      },
      "execution_count": null,
      "outputs": [
        {
          "output_type": "stream",
          "name": "stdout",
          "text": [
            "15\n"
          ]
        }
      ]
    },
    {
      "cell_type": "code",
      "source": [
        "temp = d[0]\n",
        "for i in d[1:]:\n",
        "    if temp > i:\n",
        "        temp = i\n",
        "temp"
      ],
      "metadata": {
        "id": "vLsy78sY_YxC"
      },
      "execution_count": null,
      "outputs": []
    },
    {
      "cell_type": "code",
      "source": [
        "# 최솟값\n",
        "# 최댓값을 기본으로\n",
        "l = [1, 3, 4, 8, 13, 17, 20]\n",
        "temp = float('inf')\n",
        "for i in range(len(l)):\n",
        "    if temp > (l[i+1] - l[i]): # out of range 이 애러가 많이 납니다.\n",
        "        temp = l[i+1] - l[i]\n",
        "print(temp)"
      ],
      "metadata": {
        "id": "wPRpnrm1_neJ"
      },
      "execution_count": null,
      "outputs": []
    },
    {
      "cell_type": "code",
      "source": [
        "# 관습적으로는 많이 쓰이는 코드\n",
        "# 협업할 때에는 이런 코드를 많이 작성합니다.\n",
        "l = [1, 3, 4, 8, 13, 17, 20]\n",
        "temp = float('inf')\n",
        "index = 0\n",
        "for i in range(len(l)-1):\n",
        "    if temp > (l[i+1] - l[i]): # out of range 이 애러가 많이 납니다.\n",
        "        temp = l[i+1] - l[i]\n",
        "        index = i\n",
        "print(temp)\n",
        "print(l[index], l[index + 1])"
      ],
      "metadata": {
        "colab": {
          "base_uri": "https://localhost:8080/"
        },
        "id": "7bCUWzcBA0TG",
        "outputId": "7a6c9976-5e7c-4970-b6b6-d9b7c8d97d6f"
      },
      "execution_count": null,
      "outputs": [
        {
          "output_type": "stream",
          "name": "stdout",
          "text": [
            "1\n",
            "3 4\n"
          ]
        }
      ]
    },
    {
      "cell_type": "code",
      "source": [
        "# 혼자 코딩하실 때 사용하세요.ㅎㅎ\n",
        "l = [1, 3, 4, 8, 13, 17, 20]\n",
        "temp = float('inf')\n",
        "index = 0\n",
        "for i in range(1, len(l)):\n",
        "    if temp > (l[i] - l[i-1]): # out of range 이 애러가 많이 납니다.\n",
        "        temp = l[i] - l[i-1]\n",
        "        index = i\n",
        "print(temp)\n",
        "print(l[index-1], l[index])"
      ],
      "metadata": {
        "colab": {
          "base_uri": "https://localhost:8080/"
        },
        "id": "5MUPshnTA2Ar",
        "outputId": "359c8aa7-583a-4d28-930d-5ba3aa410acc"
      },
      "execution_count": null,
      "outputs": [
        {
          "output_type": "stream",
          "name": "stdout",
          "text": [
            "1\n",
            "3 4\n"
          ]
        }
      ]
    },
    {
      "cell_type": "markdown",
      "metadata": {
        "id": "GMB54MkT8y4C"
      },
      "source": [
        "## 1.4 기본 자료구조 및 알고리즘\n",
        "1. 스택과 큐\n",
        "2. 연결리스트\n",
        "3. 트리와 그래프\n",
        "    * 3.1 트리 구현\n",
        "    * 3.2 트리의 순회\n",
        "4. 정렬 알고리즘\n",
        "    * 4.1 선택정렬\n",
        "    * 4.2 삽입정렬\n",
        "    * 4.3 병합정렬\n",
        "    * 4.4 퀵정렬\n",
        "5. 페이지 교체 알고리즘\n",
        "6. 슬라이딩 윈도우와 투 포인터 알고리즘\n"
      ]
    },
    {
      "cell_type": "markdown",
      "metadata": {
        "id": "qUnezrWK9lxc"
      },
      "source": [
        "### 1.4.1 스택과 큐\n",
        "* 스택과 큐는 프로그래밍 언어가 생겨날 때부터 있었던 매우 고전적인 개념\n",
        "* 스택은 LIFO(Last-In-First-Out, 후입선출)\n",
        "* 큐는 FIFO(First-In_First-Out, 선입선출)\n",
        "* 특히 알고리즘 문제에서 너비우선 탐색과 깊이 우선탐색에 응용됨\n",
        "* 리스트가 스택과 큐의 모든 연산이 구현되어 있음\n",
        "* ADT(Abstract Data Type)\n",
        "    * S.top(): 스택의 가장 윗 데이터를 반환한다. 만약 스택이 비었다면 이 연산은 정의불가 상태이다.\n",
        "    * S.pop(): 스택의 가장 윗 데이터를 삭제한다. 스택이 비었다면 연산 정의불가 상태.\n",
        "    * S.push(): 스택의 가장 윗 데이터로 top이 가리키는 자리 위에(top = top + 1) 메모리를 생성, 데이터 x를 넣는다.\n",
        "    * S.empty(): 스택이 비었다면 1을 반환하고,그렇지 않다면 0을 반환한다."
      ]
    },
    {
      "cell_type": "code",
      "source": [
        "# 이런 문제는 정보처리기사에만 나옵니다.\n",
        "# 코테랑은 관련 없고, 개념을 제대로 이해하고 있는지 보는 것입니다.\n",
        "# 다음중 스택이 아닌것은?\n",
        "# 1, 2, 3, 4, 5 순서로 데이터가 들어갑니다.\n",
        "# 1. [5, 4, 3, 2, 1](스택 O)\n",
        "# 2. [3, 2, 1, 5, 4](스택 O)\n",
        "# 3. [1, 2, 3, 4, 5](스택 O)\n",
        "# 4. [2, 1, 4, 3, 5](스택 O)"
      ],
      "metadata": {
        "id": "cakuXWG0EKdZ"
      },
      "execution_count": null,
      "outputs": []
    },
    {
      "cell_type": "code",
      "source": [
        "s = [1, 2, 3, 4, 5]\n",
        "s.append(6)\n",
        "s.pop()"
      ],
      "metadata": {
        "colab": {
          "base_uri": "https://localhost:8080/"
        },
        "id": "PTYuDCMbFhif",
        "outputId": "a1ea5ad3-2a8b-4117-b8f3-8b5bfacefd1d"
      },
      "execution_count": null,
      "outputs": [
        {
          "output_type": "execute_result",
          "data": {
            "text/plain": [
              "6"
            ]
          },
          "metadata": {},
          "execution_count": 29
        }
      ]
    },
    {
      "cell_type": "code",
      "source": [
        "s = [1, 2, 3, 4, 5]\n",
        "s.insert(0, 6)\n",
        "s.pop(0)"
      ],
      "metadata": {
        "colab": {
          "base_uri": "https://localhost:8080/"
        },
        "id": "h0KLTY2MF-Az",
        "outputId": "b68a0ebc-ce44-4333-b5c1-ac847f00d441"
      },
      "execution_count": null,
      "outputs": [
        {
          "output_type": "execute_result",
          "data": {
            "text/plain": [
              "6"
            ]
          },
          "metadata": {},
          "execution_count": 28
        }
      ]
    },
    {
      "cell_type": "code",
      "source": [
        "# 오답\n",
        "def solution(data):\n",
        "    count = 0\n",
        "    for i in range(len(data)):\n",
        "        if(data[i:i+5] == [1, 2, 3, 4, 1]):\n",
        "            count += 1\n",
        "    return count\n",
        "solution([1, 2, 3, 4, 1, 2, 3, 4, 1])"
      ],
      "metadata": {
        "id": "LtJSZj1Gk8-i"
      },
      "execution_count": null,
      "outputs": []
    },
    {
      "cell_type": "code",
      "source": [
        "def solution(data):\n",
        "    new_l = []\n",
        "    cnt = 0\n",
        "    for i in data:\n",
        "        new_l.append(i)\n",
        "        if new_l[-5:] == [1, 2, 3, 4, 1]:\n",
        "            new_l = new_l[:len(new_l)-5]\n",
        "            cnt +=1\n",
        "    return cnt\n",
        "\n",
        "solution([1, 1, 1, 2, 3, 4, 1, 2, 3, 4, 1])"
      ],
      "metadata": {
        "id": "iZqsSFQVlCGv"
      },
      "execution_count": null,
      "outputs": []
    },
    {
      "cell_type": "code",
      "source": [
        "[1, 2, 3, 4, 5, 6, 7, 8][-5:] # 뒤에서부터 5개를 뽑아내겠다!\n",
        "[1, 2, 3, 4, 5, 6][-5:] # 뒤에서부터 5개를 뽑아내겠다!"
      ],
      "metadata": {
        "id": "wqAIG8WulJZE"
      },
      "execution_count": null,
      "outputs": []
    },
    {
      "cell_type": "code",
      "source": [
        "[1, 2, 3, 4, 5, 6][:len([1, 2, 3, 4, 5, 6])-5]\n",
        "[1, 2, 3, 4, 5, 6][:6-5]"
      ],
      "metadata": {
        "id": "WU7gcST2lKiB"
      },
      "execution_count": null,
      "outputs": []
    },
    {
      "cell_type": "code",
      "source": [
        "data = [1, 2, 3, 4, 5, 6, 7, 8]\n",
        "data[:len(data)-5] # data[:8-5] -> data[:3]"
      ],
      "metadata": {
        "id": "L3-dIdtPlLoS"
      },
      "execution_count": null,
      "outputs": []
    },
    {
      "cell_type": "code",
      "source": [
        "def solution(data):\n",
        "    new_l = []\n",
        "    cnt = 0\n",
        "    for i in data:\n",
        "        new_l.append(i)\n",
        "        if new_l[-5:] == [1, 2, 3, 4, 1]:\n",
        "            for i in range(5):\n",
        "                new_l.pop()\n",
        "            print(new_l)\n",
        "            cnt +=1\n",
        "    return cnt\n",
        "\n",
        "solution([1, 2, 3, 4, 1, 2, 3, 4, 1, 1])\n",
        "\n",
        "[2, 3, 4, 1, 1]"
      ],
      "metadata": {
        "id": "oqkOeht2k54q"
      },
      "execution_count": null,
      "outputs": []
    },
    {
      "cell_type": "code",
      "source": [
        "# 큐(queue)\n",
        "# 먼저 들어간 요소가 먼저 나옵니다.\n",
        "# [1, 2, 3, 4, 5]가 순서대로 데이터에 삽입된다. 다음중 큐인것은? 1번\n",
        "# 1. [1, 2, 3, 4, 5]\n",
        "# 2. ...어떤 값이든 아닙니다."
      ],
      "metadata": {
        "id": "umtuamF2zYg_"
      },
      "execution_count": null,
      "outputs": []
    },
    {
      "cell_type": "code",
      "source": [
        "q = [1, 2, 3, 4, 5]\n",
        "q.append(6)\n",
        "q.pop(0)"
      ],
      "metadata": {
        "colab": {
          "base_uri": "https://localhost:8080/"
        },
        "id": "QwSiYMUz0Ea0",
        "outputId": "0f1c3d9b-3919-4be9-f0bd-88201f0caa37"
      },
      "execution_count": null,
      "outputs": [
        {
          "output_type": "execute_result",
          "data": {
            "text/plain": [
              "1"
            ]
          },
          "metadata": {},
          "execution_count": 2
        }
      ]
    },
    {
      "cell_type": "code",
      "source": [
        "q = [1, 2, 3, 4, 5]\n",
        "q.insert(0, 6)\n",
        "q.pop()"
      ],
      "metadata": {
        "id": "kPaS86uq04_z"
      },
      "execution_count": null,
      "outputs": []
    },
    {
      "cell_type": "markdown",
      "metadata": {
        "id": "aPAtCeUK9rJM"
      },
      "source": [
        "### 1.4.2 연결리스트\n",
        "* 연결리스트, 메모리 효율을 위해 사용되는 경우가 많음\n",
        "* 다른 자료구조를 만들기 위해서도 많이 사용\n",
        "* 개념 : https://en.wikipedia.org/wiki/Linked_list\n",
        "* 알고리즘 시각화 : https://visualgo.net/ko"
      ]
    },
    {
      "cell_type": "code",
      "source": [
        "# 요구사항 분석\n",
        "# field는 2가지를 가지고 있습니다.\n",
        "# 1. data\n",
        "# 2. next\n",
        "\n",
        "# 어떤 자료구조를 사용할까요?\n",
        "# dict를 사용한 이유는 필드 이름으로 값을 호출할 수 있기 때문에 dict를 선택한 것입니다.\n",
        "# 어떤 것으로 구현하셔도 됩니다.\n",
        "\n",
        "# l = [[data, next], [data, next], [data, next], [data, next]]\n",
        "# l = [{'data': data, 'next': next}, {'data': data, 'next': next}, {'data': data, 'next': next}]\n",
        "# d = {'data': data, 'next': {'data': data, 'next': {'data': data, 'next': next}}}\n",
        "\n",
        "# 앞에서 어떤 것으로 구현했던 우리가 최종적으로 구현해야되는 모습은\n",
        "# class에 instance로 구현해야 합니다.\n",
        "\n",
        "# 왜 해야 하나요?\n",
        "# 빠르고, 다른자료구조를 구현할 수 있습니다.\n",
        "# 코딩테스트 효율성 테스트를 통과하기 위해서.(7문제 나오면 효율성 테스트는 1 ~ 2문제입니다.)"
      ],
      "metadata": {
        "id": "5l-qXGGN6AJG"
      },
      "execution_count": null,
      "outputs": []
    },
    {
      "cell_type": "code",
      "source": [
        "# step1, step2, step3 이런식으로 천천히 어려워집니다.\n",
        "# 이렇게 구현하면 느립니다! 노드가 딕셔너리인데, 리스트나 딕셔너리는 무겁습니다.\n",
        "# 12, 99, 37\n",
        "linked_list = {\n",
        "    'head': {\n",
        "        'data': 12,\n",
        "        'next': {\n",
        "            'data': 99,\n",
        "            'next': {\n",
        "                'data': 37,\n",
        "                'next': None\n",
        "            }\n",
        "        }\n",
        "    }\n",
        "}\n",
        "\n",
        "linked_list['head']\n",
        "linked_list['head']['data']\n",
        "linked_list['head']['next']\n",
        "linked_list['head']['next']['next']['data']"
      ],
      "metadata": {
        "colab": {
          "base_uri": "https://localhost:8080/"
        },
        "id": "x59LnAEW4SQx",
        "outputId": "07190942-b94b-4d60-ccdb-cacdc588f7a0"
      },
      "execution_count": null,
      "outputs": [
        {
          "output_type": "execute_result",
          "data": {
            "text/plain": [
              "37"
            ]
          },
          "metadata": {},
          "execution_count": 5
        }
      ]
    },
    {
      "cell_type": "markdown",
      "metadata": {
        "id": "Pxv7i0-RK8y2"
      },
      "source": [
        "Quiz)\n",
        "* head -> [90, next] -> [2, next] -> [77, next] -> [35, next] -> [21, next] -> None\n",
        "* 35를 출력해주세요."
      ]
    },
    {
      "cell_type": "code",
      "source": [
        "linked_list = {\n",
        "    'head': {\n",
        "        'data': 90,\n",
        "        'next': {\n",
        "            'data': 2,\n",
        "            'next': {\n",
        "                'data': 77,\n",
        "                'next': {\n",
        "                    'data': 35,\n",
        "                    'next': {\n",
        "                        'data': 21,\n",
        "                        'next': None\n",
        "                    }\n",
        "                }\n",
        "            }\n",
        "        }\n",
        "    }\n",
        "}\n",
        "\n",
        "linked_list['head']['next']['next']['next']['data']"
      ],
      "metadata": {
        "colab": {
          "base_uri": "https://localhost:8080/"
        },
        "id": "W8TyQhxM7uYj",
        "outputId": "705850ef-f5e6-4021-df35-47b491372d2e"
      },
      "execution_count": null,
      "outputs": [
        {
          "output_type": "execute_result",
          "data": {
            "text/plain": [
              "35"
            ]
          },
          "metadata": {},
          "execution_count": 6
        }
      ]
    },
    {
      "cell_type": "code",
      "source": [
        "# head -> [90, next] -> [2, next] -> [77, next] -> [35, next] -> [21, next] -> None\n",
        "linked_list = {}\n",
        "node1 = {'data': 90, 'next': None} # 이제 이것을 인스턴스로 만들겁니다!\n",
        "node2 = {'data': 2, 'next': None}\n",
        "node3 = {'data': 77, 'next': None}\n",
        "node4 = {'data': 35, 'next': None}\n",
        "node5 = {'data': 21, 'next': None}\n",
        "\n",
        "node1['next'] = node2\n",
        "node2['next'] = node3\n",
        "node3['next'] = node4\n",
        "node4['next'] = node5\n",
        "\n",
        "linked_list['head'] = node1\n",
        "\n",
        "linked_list['head']['next']['next']['next']['data']"
      ],
      "metadata": {
        "colab": {
          "base_uri": "https://localhost:8080/"
        },
        "id": "fnVfvHdI9ZC7",
        "outputId": "9ba99596-7030-46f2-fc1e-2f53cf51cb38"
      },
      "execution_count": null,
      "outputs": [
        {
          "output_type": "execute_result",
          "data": {
            "text/plain": [
              "35"
            ]
          },
          "metadata": {},
          "execution_count": 7
        }
      ]
    },
    {
      "cell_type": "code",
      "source": [
        "# head -> [90, next] -> [2, next] -> [77, next] -> [35, next] -> [21, next] -> None\n",
        "class Node:\n",
        "    def __init__(self, data):\n",
        "        self.data = data\n",
        "        self.next = None\n",
        "\n",
        "head = Node('head')\n",
        "\n",
        "node1 = Node(90)\n",
        "node2 = Node(2)\n",
        "node3 = Node(77)\n",
        "node4 = Node(35)\n",
        "node5 = Node(21)\n",
        "\n",
        "node1.next = node2\n",
        "node2.next = node3\n",
        "node3.next = node4\n",
        "node4.next = node5\n",
        "\n",
        "head.next = node1\n",
        "\n",
        "head.next.next.next.next.data"
      ],
      "metadata": {
        "colab": {
          "base_uri": "https://localhost:8080/"
        },
        "id": "wKIc1_HXA5Ea",
        "outputId": "382adbf9-d934-4a6a-cd95-d311b759ab2a"
      },
      "execution_count": null,
      "outputs": [
        {
          "output_type": "execute_result",
          "data": {
            "text/plain": [
              "35"
            ]
          },
          "metadata": {},
          "execution_count": 9
        }
      ]
    },
    {
      "cell_type": "code",
      "source": [
        "# head -> [90, next] -> [2, next] -> [77, next] -> [35, next] -> [21, next] -> None\n",
        "current = head.next\n",
        "\n",
        "current = current.next # current = head.next.next\n",
        "current = current.next # current = head.next.next.next\n",
        "current = current.next # current = head.next.next.next.next\n",
        "\n",
        "print(current.data) # head.next.next.next.next.data"
      ],
      "metadata": {
        "colab": {
          "base_uri": "https://localhost:8080/"
        },
        "id": "LSq58DBbC9A6",
        "outputId": "7d95bad1-b0bb-469a-8fa7-7caaeeea8254"
      },
      "execution_count": null,
      "outputs": [
        {
          "output_type": "stream",
          "name": "stdout",
          "text": [
            "35\n"
          ]
        }
      ]
    },
    {
      "cell_type": "code",
      "source": [
        "# head -> [90, next] -> [2, next] -> [77, next] -> [35, next] -> [21, next] -> None\n",
        "current = head.next\n",
        "for _ in range(4): # 원하는 만큼 다음 값을 호출합니다.\n",
        "    current = current.next\n",
        "print(current.data)"
      ],
      "metadata": {
        "colab": {
          "base_uri": "https://localhost:8080/"
        },
        "id": "6_kRgEU7CVxK",
        "outputId": "3ceafd90-923f-498e-c76b-cdc812279641"
      },
      "execution_count": null,
      "outputs": [
        {
          "output_type": "stream",
          "name": "stdout",
          "text": [
            "21\n"
          ]
        }
      ]
    },
    {
      "cell_type": "code",
      "source": [
        "# 이게 너무 귀찮아요!\n",
        "# node1.next = node2\n",
        "# node2.next = node3\n",
        "# node3.next = node4\n",
        "# node4.next = node5\n",
        "\n",
        "# linked_list.append(3) # 이렇게 하고 싶습니다!"
      ],
      "metadata": {
        "id": "p1tI7JYFEIvo"
      },
      "execution_count": null,
      "outputs": []
    },
    {
      "cell_type": "code",
      "source": [
        "class Node:\n",
        "    def __init__(self, data):\n",
        "        self.data = data\n",
        "        self.next = None\n",
        "\n",
        "class LinkedList: # list, tuple, dict처럼 하나에 자료형을 만드는 것입니다!\n",
        "    def __init__(self):\n",
        "        init = Node('init')\n",
        "        self.head = init\n",
        "        self.tail = init\n",
        "        self.count = 0\n",
        "\n",
        "    def __len__(self):\n",
        "        return self.count\n",
        "\n",
        "    def append(self, data):\n",
        "        return 'hello'\n",
        "\n",
        "l = LinkedList()\n",
        "l.append(10)"
      ],
      "metadata": {
        "colab": {
          "base_uri": "https://localhost:8080/",
          "height": 35
        },
        "id": "huQKNJKtEZ9k",
        "outputId": "5b016f82-26fc-40c6-da82-35a9baa5c5bd"
      },
      "execution_count": null,
      "outputs": [
        {
          "output_type": "execute_result",
          "data": {
            "text/plain": [
              "'hello'"
            ],
            "application/vnd.google.colaboratory.intrinsic+json": {
              "type": "string"
            }
          },
          "metadata": {},
          "execution_count": 16
        }
      ]
    },
    {
      "cell_type": "code",
      "source": [
        "class Node:\n",
        "    def __init__(self, data):\n",
        "        self.data = data\n",
        "        self.next = None\n",
        "\n",
        "class LinkedList: # list, tuple, dict처럼 하나에 자료형을 만드는 것입니다!\n",
        "    def __init__(self):\n",
        "        init = Node('init')\n",
        "        self.head = init\n",
        "        self.tail = init\n",
        "        self.count = 0\n",
        "\n",
        "    def __len__(self):\n",
        "        return self.count\n",
        "\n",
        "    def append(self, data):\n",
        "        new_node = Node(data)\n",
        "        self.count += 1\n",
        "        self.tail.next = new_node # 처음에는 Node('init').next\n",
        "        self.tail = new_node\n",
        "\n",
        "l = LinkedList()\n",
        "l.append(10)\n",
        "l.append(20)\n",
        "l.append(30)\n",
        "\n",
        "l.head.next.data\n",
        "l.head.next.next.data\n",
        "l.head.next.next.next.data\n",
        "\n",
        "l.head.data\n",
        "l.tail.data\n",
        "l.tail.next"
      ],
      "metadata": {
        "colab": {
          "base_uri": "https://localhost:8080/"
        },
        "id": "ziIA0UnEGNne",
        "outputId": "8a34695a-db29-45e0-b7c2-b74a7610fc98"
      },
      "execution_count": null,
      "outputs": [
        {
          "output_type": "execute_result",
          "data": {
            "text/plain": [
              "10"
            ]
          },
          "metadata": {},
          "execution_count": 26
        }
      ]
    },
    {
      "cell_type": "code",
      "source": [
        "# head -> [90, next] -> [2, next] -> [77, next] -> [35, next] -> [21, next] -> None\n",
        "class Node:\n",
        "    def __init__(self, data):\n",
        "        self.data = data\n",
        "        self.next = None\n",
        "\n",
        "init = Node('head')\n",
        "head = init\n",
        "tail = init\n",
        "\n",
        "node1 = Node(90) # tail.next = Node(90)\n",
        "tail = node1\n",
        "\n",
        "node2 = Node(2) # tail.next = Node(2), 여기서 tail은 누구인가요? node1 즉 Node(90)입니다.\n",
        "tail = node2\n",
        "\n",
        "node3 = Node(77)\n",
        "tail = node3\n",
        "\n",
        "node4 = Node(35)\n",
        "tail = node4\n",
        "\n",
        "node5 = Node(21)\n",
        "tail = node5\n",
        "\n",
        "node1.next = node2\n",
        "node2.next = node3\n",
        "node3.next = node4\n",
        "node4.next = node5\n",
        "\n",
        "head.next = node1\n",
        "\n",
        "head.next.next.next.next.data"
      ],
      "metadata": {
        "id": "qtbxGEh2Jhlx"
      },
      "execution_count": null,
      "outputs": []
    },
    {
      "cell_type": "markdown",
      "source": [
        "node 설명\n",
        "1. node가 1개도 없을 때\n",
        "```\n",
        "self.head\n",
        "    ↓\n",
        "data: 'init'\n",
        "next: None\n",
        "    ↑\n",
        "self.tail\n",
        "```\n",
        "2. node가 1번째로 들어왔을 때(10 데이터 삽입)\n",
        "```\n",
        "self.head\n",
        "    ↓\n",
        "data: 'init'       data: 10\n",
        "next: --------->   next: None\n",
        "                       ↑\n",
        "                    self.tail\n",
        "```\n",
        "```python\n",
        "# 이코드가 수행\n",
        "self.tail.next = new_node # 처음에는 Node('init').next\n",
        "self.tail = new_node\n",
        "```\n",
        "\n",
        "3. node가 2번째로 들어왔을 때(10 데이터 삽입 이후 20 데이터 삽입)\n",
        "```\n",
        "self.head\n",
        "    ↓\n",
        "data: 'init'       data: 10           data: 20\n",
        "next: --------->   next:  --------->  next: None\n",
        "                                          ↑\n",
        "                                       self.tail\n",
        "```\n",
        "```python\n",
        "# 이코드가 수행\n",
        "self.tail.next = new_node # 처음에는 Node('init').next\n",
        "self.tail = new_node\n",
        "```"
      ],
      "metadata": {
        "id": "eVGMqS8UOTpj"
      }
    },
    {
      "cell_type": "code",
      "source": [
        "# 메서드 추가해볼게요!\n",
        "# __str__\n",
        "# __repr__\n",
        "\n",
        "class Node:\n",
        "    def __init__(self, data):\n",
        "        self.data = data\n",
        "        self.next = None\n",
        "\n",
        "class LinkedList: # list, tuple, dict처럼 하나에 자료형을 만드는 것입니다!\n",
        "    def __init__(self):\n",
        "        init = Node('init')\n",
        "        self.head = init\n",
        "        self.tail = init\n",
        "        self.count = 0\n",
        "\n",
        "    def __len__(self):\n",
        "        return self.count\n",
        "\n",
        "    def __str__(self):\n",
        "        current = self.head.next\n",
        "        result = ''\n",
        "        for _ in range(self.count):\n",
        "            result += f'{str(current.data)}, '\n",
        "            current = current.next\n",
        "        return f'<{result[:-2]}>'\n",
        "\n",
        "    def __repr__(self):\n",
        "        current = self.head.next\n",
        "        result = ''\n",
        "        for _ in range(self.count):\n",
        "            result += f'{str(current.data)}, '\n",
        "            current = current.next\n",
        "        return f'<{result[:-2]}>'\n",
        "\n",
        "    def append(self, data):\n",
        "        new_node = Node(data)\n",
        "        self.count += 1\n",
        "        self.tail.next = new_node # 처음에는 Node('init').next\n",
        "        self.tail = new_node\n",
        "\n",
        "l = LinkedList()\n",
        "l.append(10)\n",
        "l.append(20)\n",
        "l.append(30)\n",
        "\n",
        "len(l)\n",
        "print(l)"
      ],
      "metadata": {
        "colab": {
          "base_uri": "https://localhost:8080/"
        },
        "id": "Y5XxZ2d2NqUk",
        "outputId": "ce734d49-3615-44e7-906a-a4a6a83c3829"
      },
      "execution_count": null,
      "outputs": [
        {
          "output_type": "stream",
          "name": "stdout",
          "text": [
            "<10, 20, 30>\n"
          ]
        }
      ]
    },
    {
      "cell_type": "code",
      "source": [
        "# 메서드 추가해볼게요!\n",
        "# indexing!\n",
        "\n",
        "class Node:\n",
        "    def __init__(self, data):\n",
        "        self.data = data\n",
        "        self.next = None\n",
        "\n",
        "class LinkedList: # list, tuple, dict처럼 하나에 자료형을 만드는 것입니다!\n",
        "    def __init__(self):\n",
        "        init = Node('init')\n",
        "        self.head = init\n",
        "        self.tail = init\n",
        "        self.count = 0\n",
        "\n",
        "    def __len__(self):\n",
        "        return self.count\n",
        "\n",
        "    def __getitem__(self, index):\n",
        "        current = self.head.next\n",
        "        for _ in range(index):\n",
        "            current = current.next\n",
        "        return current.data\n",
        "\n",
        "    def __str__(self):\n",
        "        current = self.head.next\n",
        "        result = ''\n",
        "        for _ in range(self.count):\n",
        "            result += f'{str(current.data)}, '\n",
        "            current = current.next\n",
        "        return f'<{result[:-2]}>'\n",
        "\n",
        "    def __repr__(self):\n",
        "        current = self.head.next\n",
        "        result = ''\n",
        "        for _ in range(self.count):\n",
        "            result += f'{str(current.data)}, '\n",
        "            current = current.next\n",
        "        return f'<{result[:-2]}>'\n",
        "\n",
        "    def append(self, data):\n",
        "        new_node = Node(data)\n",
        "        self.count += 1\n",
        "        self.tail.next = new_node # 처음에는 Node('init').next\n",
        "        self.tail = new_node\n",
        "\n",
        "l = LinkedList()\n",
        "l.append(10)\n",
        "l.append(20)\n",
        "l.append(30)\n",
        "\n",
        "len(l)\n",
        "print(l)\n",
        "l[2]"
      ],
      "metadata": {
        "colab": {
          "base_uri": "https://localhost:8080/"
        },
        "id": "OTS_b19NSIux",
        "outputId": "6ab85271-0cc9-478c-d661-c5d1ff3ae9c1"
      },
      "execution_count": null,
      "outputs": [
        {
          "output_type": "stream",
          "name": "stdout",
          "text": [
            "<10, 20, 30>\n"
          ]
        },
        {
          "output_type": "execute_result",
          "data": {
            "text/plain": [
              "30"
            ]
          },
          "metadata": {},
          "execution_count": 43
        }
      ]
    },
    {
      "cell_type": "code",
      "source": [
        "# 메서드 추가해볼게요!\n",
        "# pop, find\n",
        "\n",
        "class Node:\n",
        "    def __init__(self, data):\n",
        "        self.data = data\n",
        "        self.next = None\n",
        "\n",
        "class LinkedList: # list, tuple, dict처럼 하나에 자료형을 만드는 것입니다!\n",
        "    def __init__(self):\n",
        "        init = Node('init')\n",
        "        self.head = init\n",
        "        self.tail = init\n",
        "        self.count = 0\n",
        "\n",
        "    def __len__(self):\n",
        "        return self.count\n",
        "\n",
        "    def __getitem__(self, index):\n",
        "        current = self.head.next\n",
        "        for _ in range(index):\n",
        "            current = current.next\n",
        "        return current.data\n",
        "\n",
        "    def __str__(self):\n",
        "        current = self.head.next\n",
        "        result = ''\n",
        "        for _ in range(self.count):\n",
        "            result += f'{str(current.data)}, '\n",
        "            current = current.next\n",
        "        return f'<{result[:-2]}>'\n",
        "\n",
        "    def __repr__(self):\n",
        "        current = self.head.next\n",
        "        result = ''\n",
        "        for _ in range(self.count):\n",
        "            result += f'{str(current.data)}, '\n",
        "            current = current.next\n",
        "        return f'<{result[:-2]}>'\n",
        "\n",
        "    def append(self, data):\n",
        "        new_node = Node(data)\n",
        "        self.count += 1\n",
        "        self.tail.next = new_node # 처음에는 Node('init').next\n",
        "        self.tail = new_node\n",
        "\n",
        "    def pop(self):\n",
        "        if self.count == 0:\n",
        "            raise IndexError('pop from empty list')\n",
        "        last_node_data = self.tail.data\n",
        "        current = self.head.next\n",
        "        for _ in range(self.count):\n",
        "            if current.next is self.tail:\n",
        "                self.tail = current\n",
        "                break\n",
        "            current = current.next\n",
        "        self.count -= 1\n",
        "        return last_node_data\n",
        "\n",
        "l = LinkedList()\n",
        "l.append(10)\n",
        "l.append(20)\n",
        "l.append(30)\n",
        "l.append(40)\n",
        "\n",
        "len(l)\n",
        "print(l) # 출력: <10, 20, 30, 40>\n",
        "l[2]\n",
        "\n",
        "print(l.pop()) # 출력: 40\n",
        "print(l) # 출력: <10, 20, 30>\n",
        "\n",
        "print(l.pop()) # 출력: 30\n",
        "print(l) # 출력: <10, 20>\n",
        "\n",
        "print(l.pop()) # 출력: 20\n",
        "print(l) # 출력: <10>\n",
        "len(l)\n",
        "\n",
        "# error 확인\n",
        "print(l.pop())\n",
        "print(l)\n",
        "\n",
        "print(l.pop())\n",
        "print(l)"
      ],
      "metadata": {
        "colab": {
          "base_uri": "https://localhost:8080/",
          "height": 520
        },
        "id": "PqBm_6irTBm5",
        "outputId": "68891a78-0fa8-4f7b-cb71-799337c9b71f"
      },
      "execution_count": null,
      "outputs": [
        {
          "output_type": "stream",
          "name": "stdout",
          "text": [
            "<10, 20, 30, 40>\n",
            "40\n",
            "<10, 20, 30>\n",
            "30\n",
            "<10, 20>\n",
            "20\n",
            "<10>\n",
            "10\n",
            "<>\n"
          ]
        },
        {
          "output_type": "error",
          "ename": "IndexError",
          "evalue": "ignored",
          "traceback": [
            "\u001b[0;31m---------------------------------------------------------------------------\u001b[0m",
            "\u001b[0;31mIndexError\u001b[0m                                Traceback (most recent call last)",
            "\u001b[0;32m<ipython-input-53-412c1926fc0f>\u001b[0m in \u001b[0;36m<cell line: 84>\u001b[0;34m()\u001b[0m\n\u001b[1;32m     82\u001b[0m \u001b[0mprint\u001b[0m\u001b[0;34m(\u001b[0m\u001b[0ml\u001b[0m\u001b[0;34m)\u001b[0m\u001b[0;34m\u001b[0m\u001b[0;34m\u001b[0m\u001b[0m\n\u001b[1;32m     83\u001b[0m \u001b[0;34m\u001b[0m\u001b[0m\n\u001b[0;32m---> 84\u001b[0;31m \u001b[0mprint\u001b[0m\u001b[0;34m(\u001b[0m\u001b[0ml\u001b[0m\u001b[0;34m.\u001b[0m\u001b[0mpop\u001b[0m\u001b[0;34m(\u001b[0m\u001b[0;34m)\u001b[0m\u001b[0;34m)\u001b[0m\u001b[0;34m\u001b[0m\u001b[0;34m\u001b[0m\u001b[0m\n\u001b[0m\u001b[1;32m     85\u001b[0m \u001b[0mprint\u001b[0m\u001b[0;34m(\u001b[0m\u001b[0ml\u001b[0m\u001b[0;34m)\u001b[0m\u001b[0;34m\u001b[0m\u001b[0;34m\u001b[0m\u001b[0m\n",
            "\u001b[0;32m<ipython-input-53-412c1926fc0f>\u001b[0m in \u001b[0;36mpop\u001b[0;34m(self)\u001b[0m\n\u001b[1;32m     47\u001b[0m     \u001b[0;32mdef\u001b[0m \u001b[0mpop\u001b[0m\u001b[0;34m(\u001b[0m\u001b[0mself\u001b[0m\u001b[0;34m)\u001b[0m\u001b[0;34m:\u001b[0m\u001b[0;34m\u001b[0m\u001b[0;34m\u001b[0m\u001b[0m\n\u001b[1;32m     48\u001b[0m         \u001b[0;32mif\u001b[0m \u001b[0mself\u001b[0m\u001b[0;34m.\u001b[0m\u001b[0mcount\u001b[0m \u001b[0;34m==\u001b[0m \u001b[0;36m0\u001b[0m\u001b[0;34m:\u001b[0m\u001b[0;34m\u001b[0m\u001b[0;34m\u001b[0m\u001b[0m\n\u001b[0;32m---> 49\u001b[0;31m             \u001b[0;32mraise\u001b[0m \u001b[0mIndexError\u001b[0m\u001b[0;34m(\u001b[0m\u001b[0;34m'pop from empty list'\u001b[0m\u001b[0;34m)\u001b[0m\u001b[0;34m\u001b[0m\u001b[0;34m\u001b[0m\u001b[0m\n\u001b[0m\u001b[1;32m     50\u001b[0m         \u001b[0mlast_node_data\u001b[0m \u001b[0;34m=\u001b[0m \u001b[0mself\u001b[0m\u001b[0;34m.\u001b[0m\u001b[0mtail\u001b[0m\u001b[0;34m.\u001b[0m\u001b[0mdata\u001b[0m\u001b[0;34m\u001b[0m\u001b[0;34m\u001b[0m\u001b[0m\n\u001b[1;32m     51\u001b[0m         \u001b[0mcurrent\u001b[0m \u001b[0;34m=\u001b[0m \u001b[0mself\u001b[0m\u001b[0;34m.\u001b[0m\u001b[0mhead\u001b[0m\u001b[0;34m.\u001b[0m\u001b[0mnext\u001b[0m\u001b[0;34m\u001b[0m\u001b[0;34m\u001b[0m\u001b[0m\n",
            "\u001b[0;31mIndexError\u001b[0m: pop from empty list"
          ]
        }
      ]
    },
    {
      "cell_type": "code",
      "source": [
        "l = []\n",
        "l.pop()"
      ],
      "metadata": {
        "colab": {
          "base_uri": "https://localhost:8080/",
          "height": 199
        },
        "id": "yJpD3CXwVHeV",
        "outputId": "876c0092-2915-4255-a656-ee8d97a0b389"
      },
      "execution_count": null,
      "outputs": [
        {
          "output_type": "error",
          "ename": "IndexError",
          "evalue": "ignored",
          "traceback": [
            "\u001b[0;31m---------------------------------------------------------------------------\u001b[0m",
            "\u001b[0;31mIndexError\u001b[0m                                Traceback (most recent call last)",
            "\u001b[0;32m<ipython-input-52-3290a6f44f1f>\u001b[0m in \u001b[0;36m<cell line: 2>\u001b[0;34m()\u001b[0m\n\u001b[1;32m      1\u001b[0m \u001b[0ml\u001b[0m \u001b[0;34m=\u001b[0m \u001b[0;34m[\u001b[0m\u001b[0;34m]\u001b[0m\u001b[0;34m\u001b[0m\u001b[0;34m\u001b[0m\u001b[0m\n\u001b[0;32m----> 2\u001b[0;31m \u001b[0ml\u001b[0m\u001b[0;34m.\u001b[0m\u001b[0mpop\u001b[0m\u001b[0;34m(\u001b[0m\u001b[0;34m)\u001b[0m\u001b[0;34m\u001b[0m\u001b[0;34m\u001b[0m\u001b[0m\n\u001b[0m",
            "\u001b[0;31mIndexError\u001b[0m: pop from empty list"
          ]
        }
      ]
    },
    {
      "cell_type": "code",
      "source": [
        "# 메서드 추가해볼게요!\n",
        "# pop, find\n",
        "\n",
        "class Node:\n",
        "    def __init__(self, data):\n",
        "        self.data = data\n",
        "        self.next = None\n",
        "\n",
        "class LinkedList: # list, tuple, dict처럼 하나에 자료형을 만드는 것입니다!\n",
        "    def __init__(self):\n",
        "        init = Node('init')\n",
        "        self.head = init\n",
        "        self.tail = init\n",
        "        self.count = 0\n",
        "\n",
        "    def __len__(self):\n",
        "        return self.count\n",
        "\n",
        "    def __getitem__(self, index):\n",
        "        current = self.head.next\n",
        "        for _ in range(index):\n",
        "            current = current.next\n",
        "        return current.data\n",
        "\n",
        "    def __str__(self):\n",
        "        current = self.head.next\n",
        "        result = ''\n",
        "        for _ in range(self.count):\n",
        "            result += f'{str(current.data)}, '\n",
        "            current = current.next\n",
        "        return f'<{result[:-2]}>'\n",
        "\n",
        "    def __repr__(self):\n",
        "        current = self.head.next\n",
        "        result = ''\n",
        "        for _ in range(self.count):\n",
        "            result += f'{str(current.data)}, '\n",
        "            current = current.next\n",
        "        return f'<{result[:-2]}>'\n",
        "\n",
        "    def append(self, data):\n",
        "        new_node = Node(data)\n",
        "        self.count += 1\n",
        "        self.tail.next = new_node # 처음에는 Node('init').next\n",
        "        self.tail = new_node\n",
        "\n",
        "    def pop(self):\n",
        "        if self.count == 0:\n",
        "            raise IndexError('pop from empty list')\n",
        "        last_node_data = self.tail.data\n",
        "        current = self.head.next\n",
        "        for _ in range(self.count):\n",
        "            if current.next is self.tail:\n",
        "                self.tail = current\n",
        "                break\n",
        "            current = current.next\n",
        "        self.count -= 1\n",
        "        return last_node_data\n",
        "\n",
        "    def find(self, data):\n",
        "        if self.count == 0:\n",
        "            return -1\n",
        "        current = self.head.next\n",
        "        for i in range(self.count):\n",
        "            if current.data == data:\n",
        "                return i\n",
        "            current = current.next\n",
        "        return -1\n",
        "\n",
        "l = LinkedList()\n",
        "l.append(10)\n",
        "l.append(20)\n",
        "l.append(30)\n",
        "l.append(40)\n",
        "\n",
        "# len(l)\n",
        "# print(l) # 출력: <10, 20, 30, 40>\n",
        "# l[2]\n",
        "\n",
        "# print(l.pop()) # 출력: 40\n",
        "# print(l) # 출력: <10, 20, 30>\n",
        "\n",
        "# print(l.pop()) # 출력: 30\n",
        "# print(l) # 출력: <10, 20>\n",
        "\n",
        "# print(l.pop()) # 출력: 20\n",
        "# print(l) # 출력: <10>\n",
        "# len(l)\n",
        "\n",
        "# # error 확인\n",
        "# print(l.pop())\n",
        "# print(l)\n",
        "\n",
        "# print(l.pop())\n",
        "# print(l)\n",
        "\n",
        "l.find(20)"
      ],
      "metadata": {
        "colab": {
          "base_uri": "https://localhost:8080/"
        },
        "id": "QIfxmSOfVvWH",
        "outputId": "c67d5d59-7d73-4953-cfc0-bee5e266f361"
      },
      "execution_count": null,
      "outputs": [
        {
          "output_type": "execute_result",
          "data": {
            "text/plain": [
              "1"
            ]
          },
          "metadata": {},
          "execution_count": 55
        }
      ]
    },
    {
      "cell_type": "code",
      "source": [
        "[10, 20, 30].index(10)"
      ],
      "metadata": {
        "colab": {
          "base_uri": "https://localhost:8080/"
        },
        "id": "zp19PbHoYAsL",
        "outputId": "66f5b151-d8a0-4de8-aa14-d09df2e0ee4f"
      },
      "execution_count": null,
      "outputs": [
        {
          "output_type": "execute_result",
          "data": {
            "text/plain": [
              "0"
            ]
          },
          "metadata": {},
          "execution_count": 54
        }
      ]
    },
    {
      "cell_type": "code",
      "source": [
        "# 메서드 추가해볼게요!\n",
        "# iter, insert"
      ],
      "metadata": {
        "id": "UdQ09YSVYdhi"
      },
      "execution_count": null,
      "outputs": []
    },
    {
      "cell_type": "markdown",
      "metadata": {
        "id": "Zu7C8e5Wc8F0"
      },
      "source": [
        "* 과제 1 : 이해가 안되시는 부분은 손으로 직접 써보세요.\n",
        "* 과제 2 : `__iter__`, insert를 구현하여 순회와 삽입이 되게 해주세요. 과제2는 필수는 아닙니다. 만약에 따라오는 것도 벅찼다고 한다면 과제 1을 3번 손으로 써보는 것으로 하겠습니다. 디지털 기기는 안됩니다. 어떤 종이든 괜찮습니다. A4용지 괜찮습니다."
      ]
    },
    {
      "cell_type": "code",
      "source": [
        "# 메서드 추가해볼게요!\n",
        "# iter, insert\n",
        "\n",
        "class Node:\n",
        "    def __init__(self, data):\n",
        "        self.data = data\n",
        "        self.next = None\n",
        "\n",
        "class LinkedList: # list, tuple, dict처럼 하나에 자료형을 만드는 것입니다!\n",
        "    def __init__(self):\n",
        "        init = Node('init')\n",
        "        self.head = init\n",
        "        self.tail = init\n",
        "        self.count = 0\n",
        "\n",
        "    def __len__(self):\n",
        "        return self.count\n",
        "\n",
        "    def __getitem__(self, index):\n",
        "        current = self.head.next\n",
        "        for _ in range(index):\n",
        "            current = current.next\n",
        "        return current.data\n",
        "\n",
        "    def __str__(self):\n",
        "        current = self.head.next\n",
        "        result = ''\n",
        "        for _ in range(self.count):\n",
        "            result += f'{str(current.data)}, '\n",
        "            current = current.next\n",
        "        return f'<{result[:-2]}>'\n",
        "\n",
        "    def __repr__(self):\n",
        "        current = self.head.next\n",
        "        result = ''\n",
        "        for _ in range(self.count):\n",
        "            result += f'{str(current.data)}, '\n",
        "            current = current.next\n",
        "        return f'<{result[:-2]}>'\n",
        "\n",
        "    def __iter__(self):\n",
        "        current = self.head\n",
        "        current = current.next\n",
        "        while current:\n",
        "            yield current.data\n",
        "            current = current.next\n",
        "\n",
        "    def append(self, data):\n",
        "        new_node = Node(data)\n",
        "        self.count += 1\n",
        "        self.tail.next = new_node # 처음에는 Node('init').next\n",
        "        self.tail = new_node\n",
        "\n",
        "    def pop(self):\n",
        "        if self.count == 0:\n",
        "            raise IndexError('pop from empty list')\n",
        "        last_node_data = self.tail.data\n",
        "        current = self.head.next\n",
        "        for _ in range(self.count):\n",
        "            if current.next is self.tail:\n",
        "                self.tail = current\n",
        "                break\n",
        "            current = current.next\n",
        "        self.count -= 1\n",
        "        return last_node_data\n",
        "\n",
        "    def find(self, data):\n",
        "        if self.count == 0:\n",
        "            return -1\n",
        "        current = self.head.next\n",
        "        for i in range(self.count):\n",
        "            if current.data == data:\n",
        "                return i\n",
        "            current = current.next\n",
        "        return -1\n",
        "\n",
        "    def insert(self, input_index, input_data):\n",
        "        current = self.head\n",
        "\n",
        "        for i in range(input_index):\n",
        "            current = current.next\n",
        "\n",
        "        new_node = Node(input_data)\n",
        "        new_node.next = current.next\n",
        "        current.next = new_node\n",
        "        self.count +=1\n",
        "\n",
        "l = LinkedList()\n",
        "l.append(10)\n",
        "l.append(20)\n",
        "l.append(30)\n",
        "l.append(40)\n",
        "l.insert(2, 1000)\n",
        "l\n",
        "\n",
        "for i in l:\n",
        "    print(i)"
      ],
      "metadata": {
        "colab": {
          "base_uri": "https://localhost:8080/"
        },
        "id": "I28b9JBjqmVe",
        "outputId": "83b75f66-409d-4c65-d0a3-a7741d9e8fde"
      },
      "execution_count": null,
      "outputs": [
        {
          "output_type": "stream",
          "name": "stdout",
          "text": [
            "10\n",
            "20\n",
            "1000\n",
            "30\n",
            "40\n"
          ]
        }
      ]
    },
    {
      "cell_type": "markdown",
      "source": [
        "# 쉬어가기"
      ],
      "metadata": {
        "id": "fvGD4gQFq4VZ"
      }
    },
    {
      "cell_type": "code",
      "source": [
        "# 문제 링크 : https://school.programmers.co.kr/learn/courses/30/lessons/120807\n",
        "# 정수 num1과 num2가 매개변수로 주어집니다.\n",
        "# 두 수가 같으면 1 다르면 -1을 retrun하도록 solution 함수를 완성해주세요.\n",
        "\n",
        "solution = lambda num1, num2: 1 if num1 == num2 else -1\n",
        "solution(10, 20)"
      ],
      "metadata": {
        "colab": {
          "base_uri": "https://localhost:8080/"
        },
        "id": "xGbvjVORq6Of",
        "outputId": "5bbe8436-65ae-4b35-f13e-45c4876d372a"
      },
      "execution_count": null,
      "outputs": [
        {
          "output_type": "execute_result",
          "data": {
            "text/plain": [
              "-1"
            ]
          },
          "metadata": {},
          "execution_count": 59
        }
      ]
    },
    {
      "cell_type": "code",
      "source": [
        "# 문제 링크 : https://school.programmers.co.kr/learn/courses/30/lessons/120583\n",
        "# 정수가 담긴 배열 array와 정수 n이 매개변수로 주어질 때,\n",
        "# array에 n이 몇 개 있는 지를 return 하도록 solution 함수를 완성해보세요.\n",
        "\n",
        "solution = lambda l, n: l.count(n)\n",
        "solution([1, 1, 2, 3, 4, 5], 1)"
      ],
      "metadata": {
        "colab": {
          "base_uri": "https://localhost:8080/"
        },
        "id": "7YIR2bbbrUtf",
        "outputId": "b8d40b7a-9636-45a3-cda6-dd65eb2d0a54"
      },
      "execution_count": null,
      "outputs": [
        {
          "output_type": "execute_result",
          "data": {
            "text/plain": [
              "2"
            ]
          },
          "metadata": {},
          "execution_count": 60
        }
      ]
    },
    {
      "cell_type": "code",
      "source": [
        "# 문자열이 s로 주어졌을 때 가장 많이 나온 문자의 수와\n",
        "# 두번째로 나온 많이 나온 문자의 수 차는 얼마인가?\n",
        "# 예를 들어 'abcccdeef'\n",
        "# ccc => 3번\n",
        "# ee => 2번\n",
        "# 3 - 2 = 1\n",
        "s = 'abcccdeef'\n",
        "result = {}\n",
        "for i in set(s):\n",
        "    result[i] = s.count(i)\n",
        "result"
      ],
      "metadata": {
        "colab": {
          "base_uri": "https://localhost:8080/"
        },
        "id": "4qlPNTzlr7R2",
        "outputId": "2283066c-eecf-4b52-ba27-0790e3bb9c36"
      },
      "execution_count": null,
      "outputs": [
        {
          "output_type": "execute_result",
          "data": {
            "text/plain": [
              "{'e': 2, 'd': 1, 'c': 3, 'a': 1, 'b': 1, 'f': 1}"
            ]
          },
          "metadata": {},
          "execution_count": 62
        }
      ]
    },
    {
      "cell_type": "code",
      "source": [
        "sorted(result.items(), key=lambda x:x[1], reverse=True)"
      ],
      "metadata": {
        "colab": {
          "base_uri": "https://localhost:8080/"
        },
        "id": "2XX6AOensxVs",
        "outputId": "e88d16b6-0b4e-41b5-ea3a-9f4484ad0458"
      },
      "execution_count": null,
      "outputs": [
        {
          "output_type": "execute_result",
          "data": {
            "text/plain": [
              "[('c', 3), ('e', 2), ('d', 1), ('a', 1), ('b', 1), ('f', 1)]"
            ]
          },
          "metadata": {},
          "execution_count": 65
        }
      ]
    },
    {
      "cell_type": "code",
      "source": [
        "import collections\n",
        "\n",
        "s = collections.Counter('abcccdeef')\n",
        "s.most_common()"
      ],
      "metadata": {
        "colab": {
          "base_uri": "https://localhost:8080/"
        },
        "id": "zpPJcoYntQ2n",
        "outputId": "4c723d77-b5e6-40f3-ec70-3959ff4197b8"
      },
      "execution_count": null,
      "outputs": [
        {
          "output_type": "execute_result",
          "data": {
            "text/plain": [
              "[('c', 3), ('e', 2), ('a', 1), ('b', 1), ('d', 1), ('f', 1)]"
            ]
          },
          "metadata": {},
          "execution_count": 67
        }
      ]
    },
    {
      "cell_type": "code",
      "source": [
        "# 문제 링크 : https://school.programmers.co.kr/learn/courses/30/lessons/120585\n",
        "# 머쓱이는 학교에서 키 순으로 줄을 설 때 몇 번째로 서야 하는지 궁금해졌습니다.\n",
        "# 머쓱이네 반 친구들의 키가 담긴 정수 배열 array와 머쓱이의 키 height가 매개변수로 주어질 때,\n",
        "# 머쓱이보다 키 큰 사람 수를 return 하도록 solution 함수를 완성해보세요.\n",
        "\n",
        "sorted([10, 20, 30, 40, 11, 12, 19])"
      ],
      "metadata": {
        "colab": {
          "base_uri": "https://localhost:8080/"
        },
        "id": "p1a0jw85ufMi",
        "outputId": "0f99c5d6-9dcc-4e52-b68f-b91e0ef9c94d"
      },
      "execution_count": null,
      "outputs": [
        {
          "output_type": "execute_result",
          "data": {
            "text/plain": [
              "[10, 11, 12, 19, 20, 30, 40]"
            ]
          },
          "metadata": {},
          "execution_count": 68
        }
      ]
    },
    {
      "cell_type": "code",
      "source": [
        "x = 15\n",
        "for num, value in enumerate(sorted([10, 20, 30, 40, 11, 12, 19])):\n",
        "    if value > 15:\n",
        "        print(num)\n",
        "        break"
      ],
      "metadata": {
        "colab": {
          "base_uri": "https://localhost:8080/"
        },
        "id": "8DchQYnLurz3",
        "outputId": "82d4d851-3a49-43df-a882-3fad28dfe1c4"
      },
      "execution_count": null,
      "outputs": [
        {
          "output_type": "stream",
          "name": "stdout",
          "text": [
            "3\n"
          ]
        }
      ]
    },
    {
      "cell_type": "code",
      "source": [
        "# 같은 값이 있었을 경우\n",
        "x = 15\n",
        "for num, value in enumerate(sorted([10, 20, 30, 40, 15, 15, 15, 15, 11, 12, 19])):\n",
        "    if value >= 15:\n",
        "        print(num)\n",
        "        break"
      ],
      "metadata": {
        "colab": {
          "base_uri": "https://localhost:8080/"
        },
        "id": "BMBX_0v5vbG1",
        "outputId": "1f785453-4186-47e6-86e6-1ae36c0e4547"
      },
      "execution_count": null,
      "outputs": [
        {
          "output_type": "stream",
          "name": "stdout",
          "text": [
            "7\n"
          ]
        }
      ]
    },
    {
      "cell_type": "code",
      "source": [
        "x = 15\n",
        "len(list(filter(lambda y: y < x,[10, 20, 30, 40, 11, 12, 19])))"
      ],
      "metadata": {
        "colab": {
          "base_uri": "https://localhost:8080/"
        },
        "id": "E4xhZ-xovpQb",
        "outputId": "564190cc-b8e7-4897-fda0-0e800fbc7330"
      },
      "execution_count": null,
      "outputs": [
        {
          "output_type": "execute_result",
          "data": {
            "text/plain": [
              "3"
            ]
          },
          "metadata": {},
          "execution_count": 75
        }
      ]
    },
    {
      "cell_type": "code",
      "source": [
        "# 오류나는 코드\n",
        "# x = 15\n",
        "# len(filter(lambda y: y < x,[10, 20, 30, 40, 11, 12, 19]))"
      ],
      "metadata": {
        "id": "yCMjYa1Jv_B4"
      },
      "execution_count": null,
      "outputs": []
    },
    {
      "cell_type": "code",
      "source": [
        "# https://school.programmers.co.kr/learn/courses/30/lessons/120906\n",
        "# 930211 자릿수 합 9 + 3 + 0 + 2 + 1 + 1\n",
        "n = 930211\n",
        "result = 0\n",
        "\n",
        "for i in str(n):\n",
        "    result += int(i)\n",
        "\n",
        "result"
      ],
      "metadata": {
        "colab": {
          "base_uri": "https://localhost:8080/"
        },
        "id": "1jZ9XWGvwrSU",
        "outputId": "6d2784e2-42ca-43e9-dafe-265601503f43"
      },
      "execution_count": null,
      "outputs": [
        {
          "output_type": "execute_result",
          "data": {
            "text/plain": [
              "16"
            ]
          },
          "metadata": {},
          "execution_count": 78
        }
      ]
    },
    {
      "cell_type": "code",
      "source": [
        "n = 930211\n",
        "list(str(n))"
      ],
      "metadata": {
        "colab": {
          "base_uri": "https://localhost:8080/"
        },
        "id": "Wq8shf7bxVy-",
        "outputId": "471880f1-9d4f-4465-aa4d-c9df31d35c2a"
      },
      "execution_count": null,
      "outputs": [
        {
          "output_type": "execute_result",
          "data": {
            "text/plain": [
              "['9', '3', '0', '2', '1', '1']"
            ]
          },
          "metadata": {},
          "execution_count": 80
        }
      ]
    },
    {
      "cell_type": "code",
      "source": [
        "n = 930211\n",
        "sum(map(int, str(n)))\n",
        "# list를 할 필요가 없습니다. sum과 map 모두 순회할 수 있는 객체를 대상으로 합니다."
      ],
      "metadata": {
        "colab": {
          "base_uri": "https://localhost:8080/"
        },
        "id": "StAC13GRxcz1",
        "outputId": "c6bc5851-0c74-4351-857d-b42d6c73c91e"
      },
      "execution_count": null,
      "outputs": [
        {
          "output_type": "execute_result",
          "data": {
            "text/plain": [
              "16"
            ]
          },
          "metadata": {},
          "execution_count": 82
        }
      ]
    },
    {
      "cell_type": "code",
      "source": [
        "solution = lambda n:sum(map(int, str(n)))"
      ],
      "metadata": {
        "id": "V7r0iOY2xsy_"
      },
      "execution_count": null,
      "outputs": []
    },
    {
      "cell_type": "code",
      "source": [
        "# https://school.programmers.co.kr/learn/courses/30/lessons/120844\n",
        "\n",
        "l = [1, 2, 3, 4, 5, 6]\n",
        "[l[-1]] + l[:-1]"
      ],
      "metadata": {
        "colab": {
          "base_uri": "https://localhost:8080/"
        },
        "id": "-GTJkXPiyLqZ",
        "outputId": "1926a8fd-7634-4267-e0a0-2b7e4eca8c44"
      },
      "execution_count": null,
      "outputs": [
        {
          "output_type": "execute_result",
          "data": {
            "text/plain": [
              "[6, 1, 2, 3, 4, 5]"
            ]
          },
          "metadata": {},
          "execution_count": 85
        }
      ]
    },
    {
      "cell_type": "code",
      "source": [
        "l = [1, 2, 3, 4, 5, 6]\n",
        "l.insert(0, l.pop())\n",
        "l"
      ],
      "metadata": {
        "colab": {
          "base_uri": "https://localhost:8080/"
        },
        "id": "3GerdmESylIg",
        "outputId": "cce9c437-0780-40f9-96d5-cbebdb42db57"
      },
      "execution_count": null,
      "outputs": [
        {
          "output_type": "execute_result",
          "data": {
            "text/plain": [
              "[6, 1, 2, 3, 4, 5]"
            ]
          },
          "metadata": {},
          "execution_count": 87
        }
      ]
    },
    {
      "cell_type": "code",
      "source": [
        "import collections\n",
        "\n",
        "d = collections.deque([1, 2, 3, 4, 5, 6])\n",
        "\n",
        "# d.append\n",
        "# d.appendleft\n",
        "# d.extend\n",
        "# d.extendleft\n",
        "# d.pop\n",
        "# d.popleft\n",
        "\n",
        "# d.rotate(1)\n",
        "# d\n",
        "d.rotate(2)\n",
        "d"
      ],
      "metadata": {
        "colab": {
          "base_uri": "https://localhost:8080/"
        },
        "id": "19ctigday8da",
        "outputId": "5b65483b-1ef8-4485-eb73-793fd630d3b0"
      },
      "execution_count": null,
      "outputs": [
        {
          "output_type": "execute_result",
          "data": {
            "text/plain": [
              "deque([5, 6, 1, 2, 3, 4])"
            ]
          },
          "metadata": {},
          "execution_count": 91
        }
      ]
    },
    {
      "cell_type": "code",
      "source": [
        "import collections\n",
        "\n",
        "d = collections.deque([1, 2, 3, 4, 5, 6], maxlen=6)\n",
        "# d.append(10)\n",
        "# d\n",
        "d.appendleft(100)\n",
        "d"
      ],
      "metadata": {
        "colab": {
          "base_uri": "https://localhost:8080/"
        },
        "id": "dX1N0yVlz-Wg",
        "outputId": "a3957ad2-cbec-4315-98c6-f1420a83c514"
      },
      "execution_count": null,
      "outputs": [
        {
          "output_type": "execute_result",
          "data": {
            "text/plain": [
              "deque([100, 1, 2, 3, 4, 5])"
            ]
          },
          "metadata": {},
          "execution_count": 96
        }
      ]
    },
    {
      "cell_type": "code",
      "source": [
        "# 문제 링크: https://school.programmers.co.kr/learn/courses/30/lessons/120864\n",
        "# 오답\n",
        "s = \"aAb1B2cC34oOp\"\n",
        "result = 0\n",
        "for i in s:\n",
        "    if i.isdigit():\n",
        "        result += int(i)\n",
        "result"
      ],
      "metadata": {
        "colab": {
          "base_uri": "https://localhost:8080/"
        },
        "id": "lWyRKvtF6G5b",
        "outputId": "bb691d37-c07c-4e3f-ca07-9239468da396"
      },
      "execution_count": null,
      "outputs": [
        {
          "output_type": "execute_result",
          "data": {
            "text/plain": [
              "10"
            ]
          },
          "metadata": {},
          "execution_count": 98
        }
      ]
    },
    {
      "cell_type": "code",
      "source": [
        "s = \"aAb1B2cC34o30p\"\n",
        "result = []\n",
        "temp = '0'\n",
        "for i in s:\n",
        "    if i.isdigit():\n",
        "        temp += i\n",
        "    else:\n",
        "        result.append(int(temp))\n",
        "        temp = '0'\n",
        "sum(result)\n",
        "# int('02')"
      ],
      "metadata": {
        "colab": {
          "base_uri": "https://localhost:8080/"
        },
        "id": "a4KOkda764ri",
        "outputId": "04a538cb-461d-4675-9ea3-b465e01764a5"
      },
      "execution_count": null,
      "outputs": [
        {
          "output_type": "execute_result",
          "data": {
            "text/plain": [
              "2"
            ]
          },
          "metadata": {},
          "execution_count": 107
        }
      ]
    },
    {
      "cell_type": "code",
      "source": [
        "s = \"aAb1B2cC34o31\"\n",
        "result = []\n",
        "temp = '0'\n",
        "for i in s:\n",
        "    if i.isdigit():\n",
        "        temp += i\n",
        "    else:\n",
        "        result.append(int(temp))\n",
        "        temp = '0'\n",
        "    print(temp)\n",
        "    print(result)\n",
        "if s[-1].isdigit():\n",
        "    result.append(int(temp))\n",
        "print(result)\n",
        "sum(result)\n",
        "# int('02')"
      ],
      "metadata": {
        "colab": {
          "base_uri": "https://localhost:8080/"
        },
        "id": "S0zCkUYU8Y_U",
        "outputId": "9fae2f52-8b20-4abf-b4b7-a5bec474b02a"
      },
      "execution_count": null,
      "outputs": [
        {
          "output_type": "stream",
          "name": "stdout",
          "text": [
            "0\n",
            "[0]\n",
            "0\n",
            "[0, 0]\n",
            "0\n",
            "[0, 0, 0]\n",
            "01\n",
            "[0, 0, 0]\n",
            "0\n",
            "[0, 0, 0, 1]\n",
            "02\n",
            "[0, 0, 0, 1]\n",
            "0\n",
            "[0, 0, 0, 1, 2]\n",
            "0\n",
            "[0, 0, 0, 1, 2, 0]\n",
            "03\n",
            "[0, 0, 0, 1, 2, 0]\n",
            "034\n",
            "[0, 0, 0, 1, 2, 0]\n",
            "0\n",
            "[0, 0, 0, 1, 2, 0, 34]\n",
            "03\n",
            "[0, 0, 0, 1, 2, 0, 34]\n",
            "031\n",
            "[0, 0, 0, 1, 2, 0, 34]\n",
            "[0, 0, 0, 1, 2, 0, 34, 31]\n"
          ]
        },
        {
          "output_type": "execute_result",
          "data": {
            "text/plain": [
              "68"
            ]
          },
          "metadata": {},
          "execution_count": 111
        }
      ]
    },
    {
      "cell_type": "code",
      "source": [
        "s = \"aAb1B2cC34o31\"\n",
        "s += 'a' # 영문자 하나를 넣어 맨 마지막 코드가 실행되게 강제\n",
        "result = []\n",
        "temp = '0'\n",
        "for i in s:\n",
        "    if i.isdigit():\n",
        "        temp += i\n",
        "    else:\n",
        "        result.append(int(temp))\n",
        "        temp = '0'\n",
        "    print(temp)\n",
        "    print(result)\n",
        "sum(result)\n",
        "# int('02')"
      ],
      "metadata": {
        "colab": {
          "base_uri": "https://localhost:8080/"
        },
        "id": "-RlLFTVn81L5",
        "outputId": "a9cfebde-ffe6-4aa9-d47c-75499a9b831e"
      },
      "execution_count": null,
      "outputs": [
        {
          "output_type": "stream",
          "name": "stdout",
          "text": [
            "0\n",
            "[0]\n",
            "0\n",
            "[0, 0]\n",
            "0\n",
            "[0, 0, 0]\n",
            "01\n",
            "[0, 0, 0]\n",
            "0\n",
            "[0, 0, 0, 1]\n",
            "02\n",
            "[0, 0, 0, 1]\n",
            "0\n",
            "[0, 0, 0, 1, 2]\n",
            "0\n",
            "[0, 0, 0, 1, 2, 0]\n",
            "03\n",
            "[0, 0, 0, 1, 2, 0]\n",
            "034\n",
            "[0, 0, 0, 1, 2, 0]\n",
            "0\n",
            "[0, 0, 0, 1, 2, 0, 34]\n",
            "03\n",
            "[0, 0, 0, 1, 2, 0, 34]\n",
            "031\n",
            "[0, 0, 0, 1, 2, 0, 34]\n",
            "0\n",
            "[0, 0, 0, 1, 2, 0, 34, 31]\n"
          ]
        },
        {
          "output_type": "execute_result",
          "data": {
            "text/plain": [
              "68"
            ]
          },
          "metadata": {},
          "execution_count": 113
        }
      ]
    },
    {
      "cell_type": "code",
      "source": [
        "# 정답코드\n",
        "def solution(my_string):\n",
        "    result = []\n",
        "    temp = '0'\n",
        "    my_string += 'a'\n",
        "    for i in my_string:\n",
        "        if i.isdigit():\n",
        "            temp += i\n",
        "        else:\n",
        "            result.append(int(temp))\n",
        "            temp = '0'\n",
        "    return sum(result)"
      ],
      "metadata": {
        "id": "skqbdwxw8H6J"
      },
      "execution_count": null,
      "outputs": []
    },
    {
      "cell_type": "code",
      "source": [
        "# 종훈님 답안\n",
        "def solution(my_string):\n",
        "    result = 0\n",
        "    l = list(my_string)\n",
        "    dec = 1\n",
        "\n",
        "    for _ in range(len(my_string)):\n",
        "        s = l.pop()\n",
        "        if s.isdigit():\n",
        "            result += int(s)*dec\n",
        "            dec *= 10\n",
        "        else:\n",
        "            dec = 1\n",
        "\n",
        "    return result"
      ],
      "metadata": {
        "id": "NBo7VQiV9WkB"
      },
      "execution_count": null,
      "outputs": []
    },
    {
      "cell_type": "code",
      "source": [
        "import re\n",
        "\n",
        "def solution(my_string):\n",
        "    return list(map(int, re.findall(r'[0-9]+', my_string)))\n",
        "\n",
        "solution(\"aAb1B2cC34o31\") # 출력된 값을 더해주면 됩니다."
      ],
      "metadata": {
        "colab": {
          "base_uri": "https://localhost:8080/"
        },
        "id": "PJPO7vx98OXK",
        "outputId": "3d0f9016-1e3b-468f-fc49-6fb1c68f07d2"
      },
      "execution_count": null,
      "outputs": [
        {
          "output_type": "execute_result",
          "data": {
            "text/plain": [
              "[1, 2, 34, 31]"
            ]
          },
          "metadata": {},
          "execution_count": 114
        }
      ]
    },
    {
      "cell_type": "code",
      "source": [
        "# 오답\n",
        "import re\n",
        "\n",
        "def solution(string):\n",
        "    x = re.compile(r'[\\d]{1,1000}')\n",
        "    return list(map(int, x.findall(string)))\n",
        "\n",
        "solution(\"aAb1B2cC34o31\")"
      ],
      "metadata": {
        "colab": {
          "base_uri": "https://localhost:8080/"
        },
        "id": "mnnqCI-u-8p2",
        "outputId": "fe7b70cc-2e9c-441e-e181-78cfe3ab86ce"
      },
      "execution_count": null,
      "outputs": [
        {
          "output_type": "execute_result",
          "data": {
            "text/plain": [
              "[1, 2, 34, 31]"
            ]
          },
          "metadata": {},
          "execution_count": 128
        }
      ]
    },
    {
      "cell_type": "code",
      "source": [
        "# 오답\n",
        "import re\n",
        "\n",
        "def solution(string):\n",
        "    x = re.compile(r'[\\d]')\n",
        "    return list(map(int, x.findall(string)))\n",
        "\n",
        "solution(\"aAb1B2cC34o31\")"
      ],
      "metadata": {
        "colab": {
          "base_uri": "https://localhost:8080/"
        },
        "id": "vL__AdxC6kJE",
        "outputId": "479231aa-95d7-4a10-b252-8945e802a48f"
      },
      "execution_count": null,
      "outputs": [
        {
          "output_type": "execute_result",
          "data": {
            "text/plain": [
              "[1, 2, 3, 4, 3, 1]"
            ]
          },
          "metadata": {},
          "execution_count": 116
        }
      ]
    },
    {
      "cell_type": "code",
      "source": [
        "# 오답\n",
        "import re\n",
        "\n",
        "def solution(string):\n",
        "    x = re.compile(r'\\d')\n",
        "    return list(map(int, x.findall(string)))\n",
        "\n",
        "solution(\"aAb1B2cC34o31\")"
      ],
      "metadata": {
        "colab": {
          "base_uri": "https://localhost:8080/"
        },
        "id": "W-w5b8ZO-tuZ",
        "outputId": "6de608db-66db-49c3-cd2c-9c81c58a2aed"
      },
      "execution_count": null,
      "outputs": [
        {
          "output_type": "execute_result",
          "data": {
            "text/plain": [
              "[1, 2, 3, 4, 3, 1]"
            ]
          },
          "metadata": {},
          "execution_count": 117
        }
      ]
    },
    {
      "cell_type": "code",
      "source": [
        "# 정답\n",
        "import re\n",
        "\n",
        "def solution(string):\n",
        "    x = re.compile(r'\\d+')\n",
        "    return list(map(int, x.findall(string)))\n",
        "\n",
        "solution(\"aAb1B2cC34o31\")"
      ],
      "metadata": {
        "colab": {
          "base_uri": "https://localhost:8080/"
        },
        "id": "WsJWqFQl-ylj",
        "outputId": "e8043e15-b2fe-4a9e-9b8d-3be7d2c5629f"
      },
      "execution_count": null,
      "outputs": [
        {
          "output_type": "execute_result",
          "data": {
            "text/plain": [
              "[1, 2, 34, 31]"
            ]
          },
          "metadata": {},
          "execution_count": 118
        }
      ]
    },
    {
      "cell_type": "code",
      "source": [
        "import re\n",
        "\n",
        "def solution(string):\n",
        "    x = re.compile(r'\\d{1,4}')\n",
        "    return list(map(int, x.findall(string)))\n",
        "\n",
        "solution(\"aAb1B2cC34o31\")"
      ],
      "metadata": {
        "colab": {
          "base_uri": "https://localhost:8080/"
        },
        "id": "hkcD3mRQ-3dv",
        "outputId": "541d5130-8b2b-4cda-c022-ebddf0eb4180"
      },
      "execution_count": null,
      "outputs": [
        {
          "output_type": "execute_result",
          "data": {
            "text/plain": [
              "[1, 2, 34, 31]"
            ]
          },
          "metadata": {},
          "execution_count": 130
        }
      ]
    },
    {
      "cell_type": "code",
      "source": [
        "# 오답\n",
        "import re\n",
        "\n",
        "my_string = \"aAb1B2cC34oOp\" # 1, 2, 34\n",
        "def solution(my_string):\n",
        "    answer = re.findall(r\"[0-9]\", my_string)\n",
        "    return list(map(int, answer))\n",
        "print(solution(my_string))"
      ],
      "metadata": {
        "colab": {
          "base_uri": "https://localhost:8080/"
        },
        "id": "RIkfD9976O-U",
        "outputId": "8a4d2fbc-5278-4942-f568-63f0a796c775"
      },
      "execution_count": null,
      "outputs": [
        {
          "output_type": "stream",
          "name": "stdout",
          "text": [
            "[1, 2, 3, 4]\n"
          ]
        }
      ]
    },
    {
      "cell_type": "code",
      "source": [
        "#오답입니다\n",
        "def solution(my_string):\n",
        "    return list(map(int, filter(str.isdigit, my_string)))\n",
        "\n",
        "solution(\"1a2b3c4d123Z\")"
      ],
      "metadata": {
        "colab": {
          "base_uri": "https://localhost:8080/"
        },
        "id": "czdxYBvw6Rd0",
        "outputId": "633e7afa-368e-4964-9ded-8bdf02187855"
      },
      "execution_count": null,
      "outputs": [
        {
          "output_type": "execute_result",
          "data": {
            "text/plain": [
              "[1, 2, 3, 4, 1, 2, 3]"
            ]
          },
          "metadata": {},
          "execution_count": 133
        }
      ]
    },
    {
      "cell_type": "code",
      "source": [
        "# 오답\n",
        "import re\n",
        "\n",
        "s = \"aAb1B2cC34oOp\"\n",
        "replaces = re.compile('[a-zA-Z]')\n",
        "replaces.findall(s)\n",
        "\n",
        "# 정답\n",
        "import re\n",
        "\n",
        "s = \"aAb1B2cC34oOp\"\n",
        "replaces = re.compile('[^a-zA-Z]+')\n",
        "replaces.findall(s)"
      ],
      "metadata": {
        "colab": {
          "base_uri": "https://localhost:8080/"
        },
        "id": "6hrHT8_Z6SuX",
        "outputId": "f91e51eb-7dab-4399-839f-d0b6a7d3ea8c"
      },
      "execution_count": null,
      "outputs": [
        {
          "output_type": "execute_result",
          "data": {
            "text/plain": [
              "['1', '2', '34']"
            ]
          },
          "metadata": {},
          "execution_count": 137
        }
      ]
    },
    {
      "cell_type": "markdown",
      "metadata": {
        "id": "wlZsXb20-Nuc"
      },
      "source": [
        "### 1.4.3 트리와 그래프"
      ]
    },
    {
      "cell_type": "markdown",
      "metadata": {
        "id": "uRDbRJxe31RG"
      },
      "source": [
        "#### 1.4.3.1 트리 구현\n",
        "* 트리의 기본형태\n",
        "    * value\n",
        "    * child - left\n",
        "    * child - right"
      ]
    },
    {
      "cell_type": "code",
      "execution_count": null,
      "metadata": {
        "id": "o_oWjszIdlOL"
      },
      "outputs": [],
      "source": [
        "{\n",
        "    'value': 5,\n",
        "    'left': {},\n",
        "    'right': {}\n",
        "}"
      ]
    },
    {
      "cell_type": "code",
      "source": [
        "t = {\n",
        "    'root': {\n",
        "        'value': 5,\n",
        "        'left': {\n",
        "            'value': 3,\n",
        "            'left': None,\n",
        "            'right': None\n",
        "        },\n",
        "        'right': {\n",
        "            'value': 8,\n",
        "            'left': {\n",
        "                'value': 7,\n",
        "                'left': None,\n",
        "                'right': None\n",
        "            },\n",
        "            'right': {\n",
        "                'value': 9,\n",
        "                'left': None,\n",
        "                'right': None\n",
        "            }\n",
        "        }\n",
        "    }\n",
        "}\n",
        "\n",
        "t['root']['value']\n",
        "t['root']['right']['left']['value']"
      ],
      "metadata": {
        "colab": {
          "base_uri": "https://localhost:8080/"
        },
        "id": "H88xSZe2BdKm",
        "outputId": "4784a47f-853a-4fb8-e905-03c2e7e44b36"
      },
      "execution_count": null,
      "outputs": [
        {
          "output_type": "execute_result",
          "data": {
            "text/plain": [
              "7"
            ]
          },
          "metadata": {},
          "execution_count": 142
        }
      ]
    },
    {
      "cell_type": "code",
      "source": [
        "root = {'value': 'root', 'next': None}\n",
        "\n",
        "node1 = {'value': 5, 'left': None, 'right': None}\n",
        "node2 = {'value': 3, 'left': None, 'right': None}\n",
        "node3 = {'value': 8, 'left': None, 'right': None}\n",
        "node4 = {'value': 7, 'left': None, 'right': None}\n",
        "node5 = {'value': 9, 'left': None, 'right': None}\n",
        "\n",
        "root['next'] = node1\n",
        "node1['left'] = node2\n",
        "node1['right'] = node3\n",
        "node3['left'] = node4\n",
        "node3['right'] = node5\n",
        "\n",
        "root['next']['right']['left']['value']"
      ],
      "metadata": {
        "colab": {
          "base_uri": "https://localhost:8080/"
        },
        "id": "o-jME_VpFxcL",
        "outputId": "b6e981ca-34b7-414d-b401-35251bb18c42"
      },
      "execution_count": null,
      "outputs": [
        {
          "output_type": "execute_result",
          "data": {
            "text/plain": [
              "7"
            ]
          },
          "metadata": {},
          "execution_count": 143
        }
      ]
    },
    {
      "cell_type": "code",
      "source": [
        "class Node:\n",
        "    def __init__(self, value):\n",
        "        self.value = value\n",
        "        self.left = None\n",
        "        self.right = None\n",
        "\n",
        "node1 = Node(5)\n",
        "node2 = Node(3)\n",
        "node3 = Node(8)\n",
        "node4 = Node(7)\n",
        "node5 = Node(9)\n",
        "\n",
        "node1.left = node2\n",
        "node1.right = node3\n",
        "node3.left = node4\n",
        "node3.right = node5\n",
        "\n",
        "node1.value\n",
        "node1.right.value\n",
        "node1.right.left.value\n",
        "node1.right.right.value"
      ],
      "metadata": {
        "colab": {
          "base_uri": "https://localhost:8080/"
        },
        "id": "HqxgyEehHTIz",
        "outputId": "d5446010-d6da-4ab6-c108-239e7d1b6e82"
      },
      "execution_count": null,
      "outputs": [
        {
          "output_type": "execute_result",
          "data": {
            "text/plain": [
              "9"
            ]
          },
          "metadata": {},
          "execution_count": 147
        }
      ]
    },
    {
      "cell_type": "code",
      "source": [
        "찾고싶은값 = 7\n",
        "current = node1\n",
        "\n",
        "if current.value == 찾고싶은값:\n",
        "    print('찾았음!')\n",
        "elif current.value > 찾고싶은값:\n",
        "    current = current.left\n",
        "elif current.value < 찾고싶은값:\n",
        "    current = current.right\n",
        "\n",
        "current.value # 8\n",
        "\n",
        "if current.value == 찾고싶은값:\n",
        "    print('찾았음!')\n",
        "elif current.value > 찾고싶은값:\n",
        "    current = current.left\n",
        "elif current.value < 찾고싶은값:\n",
        "    current = current.right\n",
        "\n",
        "current.value # 7\n",
        "\n",
        "if current.value == 찾고싶은값:\n",
        "    print('찾았음!')\n",
        "elif current.value > 찾고싶은값:\n",
        "    current = current.left\n",
        "elif current.value < 찾고싶은값:\n",
        "    current = current.right\n",
        "\n",
        "current.value # 7"
      ],
      "metadata": {
        "colab": {
          "base_uri": "https://localhost:8080/"
        },
        "id": "PNEa8k19ILgT",
        "outputId": "7166db9a-76ae-4235-f9d1-b43dfcd7abd1"
      },
      "execution_count": null,
      "outputs": [
        {
          "output_type": "stream",
          "name": "stdout",
          "text": [
            "찾았음!\n"
          ]
        },
        {
          "output_type": "execute_result",
          "data": {
            "text/plain": [
              "7"
            ]
          },
          "metadata": {},
          "execution_count": 150
        }
      ]
    },
    {
      "cell_type": "markdown",
      "metadata": {
        "id": "J3nJnXb_-Tfp"
      },
      "source": [
        "#### 1.4.3.1 트리의 순회\n",
        "object나 array(기존 자료형)로 tree나 linked list를 구현할 수 있는데 왜 class로 구현할까요?\n",
        "1. 더 lite한 모델을 만들기 위해\n",
        "2. 확장성\n",
        "3. OOP(Object-Oriented Programming, 객체 지향 프로그래밍)에 철학에 맞기 때문에"
      ]
    },
    {
      "cell_type": "markdown",
      "metadata": {
        "id": "WyipyPZQClvl"
      },
      "source": [
        "![tree만들기_트리순회_2.png](data:image/png;base64,iVBORw0KGgoAAAANSUhEUgAADYAAAAhgCAYAAAAtAXkpAAAACXBIWXMAABYlAAAWJQFJUiTwAAAAAXNSR0IArs4c6QAAAARnQU1BAACxjwv8YQUAARueSURBVHgB7N2/b17nfcbh20YqD5I6tG5VW0MTFZCymB0sAqm7OICVbEbVNfTcP8CA1kAZDTCrw51eS0KbQMH0YFEDqaEvJwrQj0VsGdBLSA1lB5ePjx3Zim1RFF/ye857XcCD81Ai12f74H7ly30BAAAAAAAAAAAAAAAAoJxXAwAAAAAAAAAAAAAAAEBJAjAAAAAAAAAAAAAAAACAogRgAAAAAAAAAAAAAAAAAEUJwAAAAAAAAAAAAAAAAACKEoABAAAAAAAAAAAAAAAAFCUAAwAAAAAAAAAAAAAAAChKAAYAAAAAAAAAAAAAAABQlAAMAAAAAAAAAAAAAAAAoCgBGAAAAAAAAAAAAAAAAEBRAjAAAAAAAAAAAAAAAACAogRgAAAAAAAAAAAAAAAAAEUJwAAAAAAAAAAAAAAAAACKEoABAAAAAAAAAAAAAAAAFCUAAwAAAAAAAAAAAAAAAChKAAYAAAAAAAAAAAAAAABQlAAMAAAAAAAAAAAAAAAAoCgBGAAAAAAAAAAAAAAAAEBRAjAAAAAAAAAAAAAAAACAogRgAAAAAAAAAAAAAAAAAEUJwAAAAAAAAAAAAAAAAACKEoABAAAAAAAAAAAAAAAAFCUAAwAAAAAAAAAAAAAAAChKAAYAAAAAAAAAAAAAAABQlAAMAAAAAAAAAAAAAAAAoCgBGAAAAAAAAAAAAAAAAEBRAjAAAAAAAAAAAAAAAACAogRgAAAAAAAAAAAAAAAAAEUJwAAAAAAAAAAAAAAAAACKEoABAAAAAAAAAAAAAAAAFCUAAwAAAAAAAAAAAAAAAChKAAYAAAAAAAAAAAAAAABQlAAMAAAAAAAAAAAAAAAAoCgBGAAAAAAAAAAAAAAAAEBRAjAAAAAAAAAAAAAAAACAogRgAAAAAAAAAAAAAAAAAEUJwAAAAAAAAAAAAAAAAACKEoABAAAAAAAAAAAAAAAAFCUAAwAAAAAAAAAAAAAAAChKAAYAAAAAAAAAAAAAAABQlAAMAAAAAAAAAAAAAAAAoCgBGAAAAAAAAAAAAAAAAEBRAjAAAAAAAAAAAAAAAACAogRgAAAAAAAAAAAAAAAAAEUJwAAAAAAAAAAAAAAAAACKEoABAAAAAAAAAAAAAAAAFCUAAwAAAAAAAAAAAAAAAChKAAYAAAAAAAAAAAAAAABQlAAMAAAAAAAAAAAAAAAAoCgBGAAAAAAAAAAAAAAAAEBRAjAAAAAAAAAAAAAAAACAogRgAAAAAAAAAAAAAAAAAEUJwAAAAAAAAAAAAAAAAACKEoABAAAAAAAAAAAAAAAAFCUAAwAAAAAAAAAAAAAAAChKAAYAAAAAAAAAAAAAAABQlAAMAAAAAAAAAAAAAAAAoCgBGAAAAAAAAAAAAAAAAEBRAjAAAAAAAAAAAAAAAACAogRgAAAAAAAAAAAAAAAAAEUJwAAAAAAAAAAAAAAAAACKEoABAAAAAAAAAAAAAAAAFCUAAwAAAAAAAAAAAAAAAChKAAYAAAAAAAAAAAAAAABQlAAMAAAAAAAAAAAAAAAAoCgBGAAAAAAAAAAAAAAAAEBRAjAAAAAAAAAAAAAAAACAogRgAAAAAAAAAAAAAAAAAEUJwAAAAAAAAAAAAAAAAACKEoABAAAAAAAAAAAAAAAAFCUAAwAAAAAAAAAAAAAAAChKAAYAAAAAAAAAAAAAAABQlAAMAAAAAAAAAAAAAAAAoCgBGAAAAAAAAAAAAAAAAEBRAjAAAAAAAAAAAAAAAACAogRgAAAAAAAAAAAAAAAAAEUJwAAAAAAAAAAAAAAAAACKEoABAAAAAAAAAAAAAAAAFCUAAwAAAAAAAAAAAAAAAChKAAYAAAAAAAAAAAAAAABQlAAMAAAAAAAAAAAAAAAAoCgBGAAAAAAAAAAAAAAAAEBRAjAAAAAAAAAAAAAAAACAogRgAAAAAAAAAAAAAAAAAEUJwAAAAAAAAAAAAAAAAACKEoABAAAAAAAAAAAAAAAAFCUAAwAAAAAAAAAAAAAAAChKAAYAAAAAAAAAAAAAAABQlAAMAAAAAAAAAAAAAAAAoCgBGAAAAAAAAAAAAAAAAEBRAjAAAAAAAAAAAAAAAACAogRgAAAAAAAAAAAAAAAAAEUJwAAAAAAAAAAAAAAAAACKEoABAAAAAAAAAAAAAAAAFCUAAwAAAAAAAAAAAAAAAChKAAYAAAAAAAAAAAAAAABQlAAMAAAAAAAAAAAAAAAAoCgBGAAAAAAAAAAAAAAAAEBRAjAAAAAAAAAAAAAAAACAogRgAAAAAAAAAAAAAAAAAEUJwAAAAAAAAAAAAAAAAACKEoABAAAAAAAAAAAAAAAAFCUAAwAAAAAAAAAAAAAAAChKAAYAAAAAAAAAAAAAAABQlAAMAAAAAAAAAAAAAAAAoCgBGAAAAAAAAAAAAAAAAEBRAjAAAAAAAAAAAAAAAACAogRgAAAAAAAAAAAAAAAAAEUJwAAAAAAAAAAAAAAAAACKEoABAAAAAAAAAAAAAAAAFCUAAwAAAAAAAAAAAAAAAChKAAYAAAAAAAAAAAAAAABQlAAMAAAAAAAAAAAAAAAAoCgBGAAAAAAAAAAAAAAAAEBRAjAAAAAAAAAAAAAAAACAogRgAAAAAAAAAAAAAAAAAEUJwAAAAAAAAAAAAAAAAACKEoABAAAAAAAAAAAAAAAAFCUAAwAAAAAAAAAAAAAAAChKAAYAAAAAAAAAAAAAAABQlAAMAAAAAAAAAAAAAAAAoCgBGAAAAAAAAAAAAAAAAEBRAjAAAAAAAAAAAAAAAACAogRgAAAAAAAAAAAAAAAAAEUJwAAAAAAAAAAAAAAAAACKEoABAAAAAAAAAAAAAAAAFCUAAwAAAAAAAAAAAAAAAChKAAYAAAAAAAAAAAAAAABQlAAMAAAAAAAAAAAAAAAAoCgBGAAAAAAAAAAAAAAAAEBRAjAAAAAAAAAAAAAAAACAogRgAAAAAAAAAAAAAAAAAEUJwAAAAAAAAAAAAAAAAACKEoABAAAAAAAAAAAAAAAAFCUAAwAAAAAAAAAAAAAAAChKAAYAAAAAAAAAAAAAAABQlAAMAAAAAAAAAAAAAAAAoCgBGAAAAAAAAAAAAAAAAEBRAjAAAAAAAAAAAAAAAACAogRgAAAAAAAAAAAAAAAAAEUJwAAAAAAAAAAAAAAAAACKEoABAAAAAAAAAAAAAAAAFCUAAwAAAAAAAAAAAAAAAChKAAYAAAAAAAAAAAAAAABQlAAMAAAAAAAAAAAAAAAAoCgBGAAAAAAAAAAAAAAAAEBRAjAAAAAAAAAAAAAAAACAogRgAAAAAAAAAAAAAAAAAEUJwAAAAAAAAAAAAAAAAACKEoABAAAAAAAAAAAAAAAAFCUAAwAAAAAAAAAAAAAAAChKAAYAAAAAAAAAAAAAAABQlAAMAAAAAAAAAAAAAAAAoCgBGAAAAAAAAAAAAAAAAEBRAjAAAAAAAAAAAAAAAACAogRgAAAAAAAAAAAAAAAAAEUJwAAAAAAAAAAAAAAAAACKEoABAAAAAAAAAAAAAAAAFCUAAwAAAAAAAAAAAAAAAChKAAYAAAAAAAAAAAAAAABQlAAMAAAAAAAAAAAAAAAAoCgBGAAAAAAAAAAAAAAAAEBRAjAAAAAAAAAAAAAAAACAogRgAAAAAAAAAAAAAAAAAEUJwAAAAAAAAAAAAAAAAACKEoABAAAAAAAAAAAAAAAAFCUAAwAAAAAAAAAAAAAAAChKAAYAAAAAAAAAAAAAAABQlAAMAAAAAAAAAAAAAAAAoCgBGAAAAAAAAAAAAAAAAEBRAjAAAAAAAAAAAAAAAACAogRgAAAAAAAAAAAAAAAAAEUJwAAAAAAAAAAAAAAAAACKEoABAAAAAAAAAAAAAAAAFCUAAwAAAAAAAAAAAAAAAChKAAYAAAAAAAAAAAAAAABQlAAMAAAAAAAAAAAAAAAAoCgBGAAAAAAAAAAAAAAAAEBRAjAAAAAAAAAAAAAAAACAogRgAAAAAAAAAAAAAAAAAEUJwAAAAAAAAAAAAAAAAACKEoABAAAAAAAAAAAAAAAAFCUAAwAAAAAAAAAAAAAAAChKAAYAAAAAAAAAAAAAAABQlAAMAAAAAAAAAAAAAAAAoCgBGAAAAAAAAAAAAAAAAEBRAjAAAAAAAAAAAAAAAACAogRgAAAAAAAAAAAAAAAAAEUJwAAAAAAAAAAAAAAAAACKEoABAAAAAAAAAAAAAAAAFCUAAwAAAAAAAAAAAAAAAChKAAYAAAAAAAAAAAAAAABQlAAMAAAAAAAAAAAAAAAAoCgBGAAAAAAAAAAAAAAAAEBRAjAAAAAAAAAAAAAAAACAogRgAAAAAAAAAAAAAAAAAEUJwAAAAAAAAAAAAAAAAACKEoABAAAAAAAAAAAAAAAAFCUAAwAAAAAAAAAAAAAAAChKAAYAAAAAAAAAAAAAAABQlAAMAAAAAAAAAAAAAAAAoCgBGAAAAAAAAAAAAAAAAEBRAjAAAAAAAAAAAAAAAACAogRgAAAAAAAAAAAAAAAAAEUJwAAAAAAAAAAAAAAAAACKEoABAAAAAAAAAAAAAAAAFCUAAwAAAAAAAAAAAAAAAChKAAYAAAAAAAAAAAAAAABQlAAMAAAAAAAAAAAAAAAAoCgBGAAAAAAAAAAAAAAAAEBRAjAAAAAAAAAAAAAAAACAogRgAAAAAAAAAAAAAAAAAEUJwAAAAAAAAAAAAAAAAACKEoABAAAAAAAAAAAAAAAAFCUAAwAAAAAAAAAAAAAAAChKAAYAAAAAAAAAAAAAAABQlAAMAAAAAAAAAAAAAAAAoCgBGAAAAAAAAAAAAAAAAEBRAjAAAAAAAAAAAAAAAACAogRgAAAAAAAAAAAAAAAAAEUJwAAAAAAAAAAAAAAAAACKEoABAAAAAAAAAAAAAAAAFCUAAwAAAAAAAAAAAAAAAChKAAYAAAAAAAAAAAAAAABQlAAMAAAAAAAAAAAAAAAAoCgBGAAAAAAAAAAAAAAAAEBRAjAAAAAAAAAAAAAAAACAogRgAAAAAAAAAAAAAAAAAEUJwAAAAAAAAAAAAAAAAACKEoABAAAAAAAAAAAAAAAAFCUAAwAAAAAAAAAAAAAAAChKAAYAAAAAAAAAAAAAAABQlAAMAAAAAAAAAAAAAAAAoCgBGAAAAAAAAAAAAAAAAEBRAjAAAAAAAAAAAAAAAACAogRgAAAAAAAAAAAAAAAAAEUJwAAAAAAAAAAAAAAAAACKEoABAAAAAAAAAAAAAAAAFCUAAwAAAAAAAAAAAAAAAChKAAYAAAAAAAAAAAAAAABQlAAMAAAAAAAAAAAAAAAAoCgBGAAAAAAAAAAAAAAAAEBRAjAAAAAAAAAAAAAAAACAogRgAAAAAAAAAAAAAAAAAEUJwAAAAAAAAAAAAAAAAACKEoABAAAAAAAAAAAAAAAAFCUAAwAAAAAAAAAAAAAAAChKAAYAAAAAAAAAAAAAAABQlAAMAAAAAAAAAAAAAAAAoCgBGAAAAAAAAAAAAAAAAEBRAjAAAAAAAAAAAAAAAACAogRgAAAAAAAAAAAAAAAAAEUJwAAAAAAAAAAAAAAAAACKEoABAAAAAAAAAAAAAAAAFCUAAwAAAAAAAAAAAAAAAChKAAYAAAAAAAAAAAAAAABQ1E8CAAAAAAAAPbazlfzv7v550t3/70n3897X//bV/cnT3332bw/i7Lmn99dOJ6fOdPdT+/fXzjz9t3b/q9Pd77/29f99+28BAAAAAADgRb3y5b4AAAAAAABAQS3i+tNWsv2gC7t2/qf7eXfrafDVBy0Ca6cFY3/d7v+QnPn7Lhr7uwtPgzIAAAAAAAB4lgAMAAAAAACAE9dCru37ye4fu+8X++dPf+wCsEnQArDXL3SB2Ov/lPzthS4Ya3cAAAAAAAAmmwAMAAAAAACAY9OCrrbm9cWDyQy9DqOFYWfOJef/OfmbCxbDAAAAAAAAJo0ADAAAAAAAgLF4NvbaHHVLX7y8Z6Ow81MBAAAAAABgoARgAAAAAAAAHIkWfD0eJf896sKvFnxxfN6c6sKwN6a6IMxKGAAAAAAAwDAIwAAAAAAAADiUbwdfm19HX9TRYrAWhQnCAAAAAAAA+k0ABgAAAAAAwIFtjr576I9vFsL+8Z0uCAMAAAAAAKAfBGAAAAAAAAD8oLby9eBOt/L18E73M/3X1sDefCu58K/JG/vfs+cCAAAAAABAUQIwAAAAAAAAvmNnK3l0J3m4YuVrUrR1sJ//SgwGAAAAAABQkQAMAAAAAACAr6KvjaUu+BJ9TbbXLySXfpX89F/EYAAAAAAAABUIwAAAAAAAACbU3m4yWhR98cNaDDb175bBAAAAAAAATpIADAAAAAAAYIK06GvjVvJwRfTFi3lzKvl5Wwb7RXLqTAAAAAAAADgmAjAAAAAAAIAJ0GKvjaXk4Z0uAoOXcelKcnH/nJ8KAAAAAAAAYyYAAwAAAAAAGKgWeo0WuyP6YhzOnkumP0jeeKu7AwAAAAAAcPQEYAAAAAAAAAPT1r7W5rsvHBerYAAAAAAAAOMhAAMAAAAAABiAtvC1cWv/LCXb9wMn5ptVsJ/+Ijl1JgAAAAAAALwkARgAAAAAAECP7Wx10ddosYvAoIoWgr05lVye6e4AAAAAAAAcjgAMAAAAAACghzZHydp894XqLl1JLu6f81MBAAAAAADgBQnAAAAAAAAAekT4RZ+1RbC3/i352TsBAAAAAADggARgAAAAAAAAPSD8YkjOnkumP0guvhcAAAAAAACeQwAGAAAAAABQ2MZSsr6YbN8PDI4QDAAAAAAA4PkEYAAAAAAAAAU9WkluzyU7W4HBE4IBAAAAAAD8MAEYAAAAAABAIZujZG2++8KkEYIBAAAAAAD8JQEYAAAAAABAAcIveKqFYO9+mJyfCgAAAAAAwMQTgAEAAAAAAJygna1keVb4Bd/n0pXk8kwXhAEAAAAAAEwqARgAAAAAAMAJ2NtNVueT9cUAzyEEAwAAAAAAJpkADAAAAAAA4Bi18Gu02J12Bw6mxV8XryTTMwEAAAAAAJgoAjAAAAAAAIBjsjlKlmeTna0Ah9RCsOkPkovvBQAAAAAAYCIIwAAAAAAAAMasBV8t/GoBGHA0Ll1JLs90QRgAAAAAAMCQCcAAAAAAAADGZG83GS12p92Bo/f2TDI9EwAAAAAAgMESgAEAAAAAAIxBW/tqq19t/QsYr7YC9u6HyfmpAAAAAAAADI4ADAAAAAAA4Ai1pa/V+WR9McAxu3QluTzTBWEAAAAAAABDIQADAAAAAAA4Io9Wkk9/30VgwMlo8df0B8nF9wIAAAAAADAIAjAAAAAAAICX1IKvFn61AAyowRoYAAAAAAAwFAIwAAAAAACAl2D1C+qyBgYAAAAAAAyBAAwAAAAAAOAQrH5Bf1gDAwAAAAAA+kwABgAAAAAA8II2R8nybLKzFaAnWvz17ofJ+akAAAAAAAD0igAMAAAAAADggNrq1+p8sr4YoKfenkmmZwIAAAAAANAbAjAAAAAAAIADaGtfN68n2w8C9FxbA3v/o+4LAAAAAABQnQAMAAAAAADgOUYLydon3QIYMAynTieXZ5KpqwEAAAAAAChNAAYAAAAAAPADWvC1Op+sLwYYqLeuJtO/SU6dCQAAAAAAQEkCMAAAAAAAgO+xs5XcuNZ9gWE7ey55/6PuCwAAAAAAUI0ADAAAAAAA4BkbS8ntuW4BDJgMp04nl2eSqasBAAAAAAAoRQAGAAAAAADwLbf/kKwvBphQb88k0zMBAAAAAAAoQwAGAAAAAACwb2crWZ5NNkcBJtzrF5Jf/zY5ey4AAAAAAAAnTgAGAAAAAABMvO0Hyc3rXQQG0LT46/2PRGAAAAAAAMDJE4ABAAAAAAATbWMpuT2X7O0G4DtOnU4uzyRTVwMAAAAAAHBiBGAAAAAAAMDEWpvvDsCPeXsmmZ4JAAAAAADAiRCAAQAAAAAAE6etfX0+l9xbCsCBvHU1mf5NcupMAAAAAAAAjpUADAAAAAAAmCg7W8nN68n2gwC8kNcvJL/+bXL2XAAAAAAAAI6NAAwAAAAAAJgYLf66ca37AhxGi7/e/0gEBgAAAAAAHJ9XAwAAAAAAMAHa4pf4C3hZ34Sk2/cDAAAAAABwLCyAAQAAAAAAg7exlNyeS/Z2A3AkTp1Ofvlh8rN3AgAAAAAAMFYCMAAAAAAAYNBGC8nKXADG4p3/SKauBgAAAAAAYGwEYAAAAAAAwGCtzXcHYJzenkmmZwIAAAAAADAWrwYAAAAAAGCAxF/Acbm7/9asem8AAAAAAIAxEYABAAAAAACDI/4CjpsIDAAAAAAAGJefBAAAAAAAYEBu/yFZXwzAsbv7dQA2PRMAAAAAAIAj88qX+wIAAAAAADAAn84m95YCcKIuXUl++WEAAAAAAACOxKsBAAAAAAAYAPEXUMXG/lu0PBsAAAAAAIAjIQADAAAAAAB6T/wFVCMCAwAAAAAAjooADAAAAAAA6DXxF1CVCAwAAAAAADgKAjAAAAAAAKC31ubFX0BtLQK7PRcAAAAAAIBDE4ABAAAAAAC91OKvdgCqW19IVr1XAAAAAADAIQnAAAAAAACA3hF/AX1zd14EBgAAAAAAHI4ADAAAAAAA6BXxF9BXIjAAAAAAAOAwBGAAAAAAAEBvjBbEX0C/tQisvWUAAAAAAAAHJQADAAAAAAB64dFKsjIXgN5rb9m9WwEAAAAAADgQARgAAAAAAFDe9oPk098HYDA+/3j/bbsfAAAAAACA5xKAAQAAAAAApe1sJTevJ3u7ARiMvSf7b9vvujcOAAAAAADgxwjAAAAAAACAsloYceOaQAIYJm8cAAAAAABwEAIwAAAAAACgpLb41Za/hBHAkFk5BAAAAAAAnkcABgAAAAAAlLQ6n2w/CMDgtbfu9lwAAAAAAAC+lwAMAAAAAAAoZ20+WV8MwMTYWOrCVwAAAAAAgGcJwAAAAAAAgFJGC10ABjBp7u6/ffduBQAAAAAA4DsEYAAAAAAAQBk7W8naJwGYWJ9/nGzfDwAAAAAAwJ8JwAAAAAAAgBJa/HXjWrK3G4CJtfckufm77k0EAAAAAABoBGAAAAAAAEAJN68LHgCa9hYuzwYAAAAAAOArAjAAAAAAAODErc0n2w8CwNc2R8ntuQAAAAAAAAjAAAAAAACAkzVa6AIwAL5rff99vHcrAAAAAADAhBOAAQAAAAAAJ2ZnK1n7JAD8gM8/7t5KAAAAAABgcgnAAAAAAACAE7G3m9y41n0B+H57T7yVAAAAAAAw6QRgAAAAAADAiVidt2oDcBDtrVy1lggAAAAAABNLAAYAAAAAABy70UKyvhgADmh9oXs7AQAAAACAySMAAwAAAAAAjlVbslmzZAPwwtYsJwIAAAAAwEQSgAEAAAAAAMfqxrVkbzcAvKC9J8nN695QAAAAAACYNAIwAAAAAADg2FivAXg52w+SVSuKAAAAAAAwUQRgAAAAAADAsdgcdQEYAC9nfSF5PAoAAAAAADAhBGAAAAAAAMDYtdWv5dkAcEQ+239T93YDAAAAAABMAAEYAAAAAAAwdm35q0VgAByN9qZ+KqwFAAAAAICJIAADAAAAAADGamOpOwAcrUd3kocrAQAAAAAABk4ABgAAAAAAjE1bqGnrXwCMx/JssrcbAAAAAABgwARgAAAAAADA2LT4q0VgAIzH3pPk09kAAAAAAAADJgADAAAAAADGYmOpOwCM16M7ycOVAAAAAAAAAyUAAwAAAAAAjlxb/WrrXwAcj+XZZG83AAAAAADAAAnAAAAAAACAI9firxaBAXA89p4kq58EAAAAAAAYIAEYAAAAAABwpDZHycZSADhm6wvJ41EAAAAAAICBEYABAAAAAABHank2AJyQz/bf4L3dAAAAAAAAAyIAAwAAAAAAjszafLKzFQBOSHuDR4sBAAAAAAAGRAAGAAAAAAAciRYdtAAMgJM1WhDjAgAAAADAkAjAAAAAAACAIyH+Aqhh70myPBsAAAAAAGAgBGAAAAAAAMBL21jqDgA1bI6Sx6MAAAAAAAADIAADAAAAAABemvUvgHo+m032dgMAAAAAAPScAAwAAAAAAHgpLf7a2QoAxbS3ebQYAAAAAACg5wRgAAAAAADAobW4YGMpABQ1WrACBgAAAAAAfScAAwAAAAAADs36F0Bte0+S1U8CAAAAAAD0mAAMAAAAAAA4FOtfAP2wvpBs3w8AAAAAANBTAjAAAAAAAOBQ2voXAP2wMhcAAAAAAKCnBGAAAAAAAMAL2xxZ/wLok/ZuPx4FAAAAAADoIQEYAAAAAADwwpZnA0DP3LXcCAAAAAAAvSQAAwAAAAAAXkhb/trZCgA9YwUMAAAAAAD6SQAGAAAAAAC8kDULMgC9ZQUMAAAAAAD6RwAGAAAAAAAcmPUvgH5rK2APVwIAAAAAAPSIAAwAAAAAADgw618A/bcyFwAAAAAAoEcEYAAAAAAAwIFY/wIYhvaW37sVAAAAAACgJwRgAAAAAADAgVj/AhiO//rPAAAAAAAAPSEAAwAAAAAAnsv6F8CwfPEgeTwKAAAAAADQAwIwAAAAAADguax/AQzPXW87AAAAAAD0ggAMAAAAAAD4UQ9XrH8BDNHmyArY/7N3fzF2lgd+x39BZLzKzHDjKQODtGuPJZxK9XARc2FDVTnKhFzRcdW9WGVyDdvexS2qVCko7UUrJHrXNNm7SsPFqtWSclElOCqq0phKsStlYLUY1YaywmRgvCrMGK0HVek8PjFgzPw/7znveZ/PR3r1zvicGXPBeV/Jer/6AQAAAADAKBCAAQAAAAAA23rtpwGgo6yAAQAAAABA+wnAAAAAAACALV2/0luIAaCbrIABAAAAAED7CcAAAAAAAIAtLVv/Aug8K2AAAAAAANBuAjAAAAAAAOBLra0kl88HgI4rK2Dlmg8AAAAAALSTAAwAAAAAAPhSFy3CAFRD8AsAAAAAAO0lAAMAAAAAAO6ycaO3CANAHZZf3Lz2rwcAAAAAAGghARgAAAAAAHCXty4kaysBoBIl/L38iwAAAAAAAC0kAAMAAAAAAO5ycSkAVOaNlwMAAAAAALSQAAwAAAAAALjDtWXrXwA1un41eXc5AAAAAABAywjAAAAAAACAO1w+HwAqdckCJAAAAAAAtI4ADAAAAAAA+FRZ/hKAAdSrrEBurAcAAAAAAGgRARgAAAAAAPCp8uA/AHVb/mkAAAAAAIAWEYABAAAAAACfurgUACq3/GIAAAAAAIAWEYABAAAAAAC3lPWvtZUAULmNG8m7FiEBAAAAAKA1BGAAAAAAAMAtl88HAG550z0BAAAAAABaQwAGAAAAAADcWnsRgAFw21sXNu8N6wEAAAAAAFpAAAYAAAAAANx60B8AbrsVBv8iAAAAAABACwjAAAAAAAAA618A3EUcDAAAAAAA7SAAAwAAAACAyq2tJNeWAwB3KPeGjfUAAAAAAABDJgADAAAAAIDKib8A2MryTwMAAAAAAAyZAAwAAAAAACr3mof7AdiCSBgAAAAAAIZPAAYAAAAAABVbW0lWrwQAvlQJwNbfDwAAAAAAMEQCMAAAAAAAqNjbrwYAtvXGywEAAAAAAIZIAAYAAAAAABW7fD4AsK2yAgYAAAAAAAyPAAwAAAAAACq1tpKsXgkAbKsEYOvvBwAAAAAAGBIBGAAAAAAAVMqiCwC79daFAAAAAAAAQyIAAwAAAACASl0+HwDYFQEYAAAAAAAMjwAMAAAAAAAqtLZiAQyA3Sv3jI31AAAAAAAAQyAAAwAAAACACom/ANirt14NAAAAAAAwBAIwAAAAAACo0Nse4gdgj8TDAAAAAAAwHAIwAAAAAACo0Lse4gdgj966EAAAAAAAYAgEYAAAAAAAUJmy4LKxHgDYk40bAmIAAAAAABgGARgAAAAAAFTm7VcDAPvyngAMAAAAAAAGTgAGAAAAAACVWb0SANiXawIwAAAAAAAYOAEYAAAAAABUZOOGh/cB2L9yD9lYDwAAAAAAMEACMAAAAAAAqMi7vwkAHMi7rwUAAAAAABggARgAAAAAAFTkPQ/tA3BA74mJAQAAAABgoARgAAAAAABQkWvLAYADede9BAAAAAAABkoABgAAAAAAldi4kaxeCQAcyPWrm/eU9QAAAAAAAAMiAAMAAAAAgEq8+5sAQF+8+1oAAAAAAIABEYABAAAAAEAl3vOwPgB98p6oGAAAAAAABkYABgAAAAAAlVi9EgDoi9WrAQAAAAAABkQABgAAAAAAlbi2HADoi3JP2VgPAAAAAAAwAAIwAAAAAACogPgLgH77wAoYAAAAAAAMhAAMAAAAAAAqcN1D+gD02d+4twAAAAAAwEAIwAAAAAAAoAIWwADot9UrAQAAAAAABkAABgAAAAAAFVhbCQD0lbgYAAAAAAAGQwAGAAAAAAAdt3HDSgsA/Vfi4o31AAAAAAAADROAAQAAAABAx4m/AGjKB1cDAAAAAAA0TAAGAAAAAAAdd93D+QA05G/cYwAAAAAAoHECMAAAAAAA6LhrywGARliZBAAAAACA5gnAAAAAAACg49ZWAgCNEIABAAAAAEDzBGAAAAAAANBxHs4HoCkiYwAAAAAAaJ4ADAAAAAAAOuy6+AuABm3cSNbfDwAAAAAA0CABGAAAAAAAdNhHllkAaNgHYmMAAAAAAGiUAAwAAAAAADrs+tUAQKPWxcYAAAAAANAoARgAAAAAAHSYAAyApq1aAAMAAAAAgEYJwAAAAAAAoMNurgcAGiUAAwAAAACAZgnAAAAAAACgw1YtgAHQsLWVAAAAAAAADbo3AAAAAABAJ23c2DwsgFGpyekMlSCGmty+34xNBAAAAAAAaIAADAAAAAAAOmr1SqBa33k2OTyboXnpmeTacqAaH60kUwIwAAAAAABoxD0BAAAAAAA66ab1Lyo2zPgLanT9agAAAAAAgIYIwAAAAAAAoKPW3w9U6ZAVIhi4jRsBAAAAAAAaIgADAAAAAICOWlsJVGny/gADtvbbAAAAAAAADRGAAQAAAABARwnAqNWYBTAYuI/ccwAAAAAAoDECMAAAAAAA6Kib64EqHT4WYMBExwAAAAAA0BwBGAAAAAAAdJSH8anVofEAA7ZxIwAAAAAAQEPuDQAAAAAA0EkCMGo1Ob3962+9mrx9IY3y+aM2/p8HAAAAAIDmCMAAAAAAAKCDPIhPzXYKwEr8dfl8gD5bfz+ZuD8AAAAAAECf3RMAAAAAAKBzNtYD1To0sf3rAkloxt+uBQAAAAAAaIAADAAAAAAAOujmjUC1Ds9u//pNgSQ0YsO9BwAAAAAAGiEAAwAAAACADvrot4Eq7bT+VaxbAINGWNcDAAAAAIBmCMAAAAAAAKCDPvk4UKXJ+7d/vax/WciDZlgAAwAAAACAZgjAAAAAAACgg0rkAjUa22EBbO39AA1x7wEAAAAAgGYIwAAAAAAAoIOssFCrw8e2f31DoAKN8fkCAAAAAIBmCMAAAAAAAKCDrLBQq0Pj27++thKgITfFxwAAAAAA0AgBGAAAAAAAdJAFMGo1Ob396wIwaI74GAAAAAAAmiEAAwAAAACADvIQPrUSgMHwiI8BAAAAAKAZAjAAAAAAAAA649DE9q8LwAAAAAAAABg19wYAAAAAAOgcKyzU6vDs9q/vtI5XFsTGxj8Lycr711c2zz5TsCOBJQAAAAAANEMABgAAAAAAHbRT5AJdtNP6V3H96hd+Zjw5cTaZmUsOH+t9/6U/dyVZ3fzZa8vJ2xcEYQAAAAAAAAyOAAwAAAAAAIBOmLx/+9c/H0aW4OvkYu+8GyUOK8fx+c3f83QvAru4ZPEIAAAAAACA5gnAAAAAAAAA6ISxHRbA1t7vLXyd/F5yYiH7Vn5HCcGOnEpe+2kvBAMAAAAAAICmCMAAAAAAAKCDrBJRo7LQtZ2v/C558rmd37dbhyY+WxF75XmfO/AZAAAAAACAZtwTAAAAAAAA6ICyzLWdEn71K/76vBKAlbBscjoAAAAAAADQdwIwAAAAAAAAOmGYAVb5u0VgAAAAAAAANEEABgAAAAAAQCcMO766HYHttEQGAAAAAAAAe3FvAAAAAAAAoAMOTezp7bl5I3nz5WT1au9Y/23vz0rANfFAct90cuTU5nF691FXicC+8b3kwo8DAAAAAAAAfSEAAwAAAAAAoBMOz+7ufdeWk4tLvfOXKRHYzSvJ9c3jrQvJ5OZ7j88nJxezK3MLydsXtv79AAAAAAAAsBdf+d2mAAAAAAAAnfLj7wSqMzPXWwErIdjhY70Fr4npz9a71laSV57ff5hV1r2efK533kn5O156JlCdp38WAAAAAACgzyyAAQAAAAAA0Am3w66y2vV5JQArQVhZ9CrrXvtVArISdX3n2Z3XxkqMVg4rYAAAAAAAABzUPQEAAAAAAIAOK9FXCbEOEn/dViKwn/2wd97JycUAAAAAAADAgQnAAAAAAAAAYA9K/PXK8zu/ryyAlfUxAAAAAAAAOAgBGAAAAAAAdNDkdIAGlUWxcuzkyOlANdx7AAAAAACgGQIwAAAAAAAA2IeLSzu/Z2o2AAAAAAAAcCACMAAAAAAAANiH61eTmze2f8+DjwQAAAAAAAAORAAGAAAAAAAA+3BzPbl+Zfv3HBoPVGPM/+8AAAAAANAIARgAAAAAAHTQ5HSAASgrYNvxWaQmhyYCAAAAAAA0QAAGAAAAAAAA+1RWwAAAAAAAAKBJAjAAAAAAAOggKywADNrYeAAAAAAAgAYIwAAAAAAAoIM8hA/AoImPAQAAAACgGQIwAAAAAADoIA/hw2BMzW7/+s31QDUOiY8BAAAAAKAR9wYAAAAAAOgcC2DUZnJ6+9c31pObN9L/v/eB7V+/fjVQjTHxMQAAAAAANEIABgAAAAAAHWQBjNp89z9u//prLya/+kn6qkRnhy2AwafcewAAAAAAoBn3BAAAAAAA6Jyvfi1QlZ3WvQ4fS9/NzO38nrdfDVTD+iQAAAAAADRDAAYAAAAAAB103wOBqly/sv3rJdY61Oc45eTizu+5thyoRlnFAwAAAAAA+k8ABgAAAAAAHXTICguV2U1o9Y3vpW9K/LVT7FL+m9ZWAtWwAAYAAAAAAM0QgAEAAAAAQAeNTQSqspsAbG6htwR2UOV37Gb96/L5QFX+YDIAAAAAAEADBGAAAAAAANBBOy0TQdeUAGw3EdgTP0gOz2bfDh/b/B3P7vy+svwlAKM2E/cHAAAAAABogAAMAAAAAAA6SgRGbS4u7fyeQxPJH/9odwteX1R+5o///ebvGN/5vbv5b4Eucc8BAAAAAIDm3BsAAAAAAKCTSuhSVoigFrdXwGbmdn5vibmOz/dCrfIzW31WSuz18LeTuYXdBy5l+cv6F7URgAEAAAAAQHMEYAAAAAAA0FHlYfzVK4GqvPJ88o9/tLuVrvIZOXOu9/X1zc/KRyvJxo3PXi8h2V6jlhKSWf+iRmO7+MwBAAAAAAD7IwADAAAAAICOssZCjUqA9fMfJk8+t6cfy+FjveMgbt5IXnrG8h51us89BwAAAAAAGnNPAAAAAACAThKAUatry70lsEESf1G7yQcCAAAAAAA0RAAGAAAAAAAd9dWvBap1+Xzyn/7pYIKs8nf853+SXL8SqNaE6BgAAAAAABojAAMAAAAAgI76O8cCVStBVlnlKjFYU157sRd/Wf6idofGAwAAAAAANOTeAAAAAAAAnTT5QKB6Jcx65fnk2nJycnHzc9GnlaLy+y4u9c5AMjUbAAAAAACgIQIwAAAAAADoqLHxzWMi2VgPVK+sgJVjZi45Pt877zUGu3kjefPl5K1XhV/webfvNwAAAAAAQDMEYAAAAAAA0GH3TSerAjD4VAm3bsdbh4/1VovKMfFAcmj8zveW9bASUK5e7f1M+R6429SxAAAAAAAADRKAAQAAAABAhx2eTVavBPgS16/0jssBDmJsPAAAAAAAQIPuCQAAAAAA0FlWWQBomnsNAAAAAAA0SwAGAAAAAAAdNnF/AKBRhwVgAAAAAADQKAEYAAAAAAB0mFUWAJo2KTYGAAAAAIBGCcAAAAAAAKDDJqeTsYkAQGPExgAAAAAA0CwBGAAAAAAAdNx90wGARhyeDQAAAAAA0DABGAAAAAAAdJyH8wFoyqTIGAAAAAAAGicAAwAAAACAjps6FgBoxEOPBAAAAAAAaJgADAAAAAAAOs4CGABNcY8BAAAAAIDmCcAAAAAAAKDjLIAB0JQpARgAAAAAADROAAYAAAAAAB03Np5MTgcA+qqsf41NBAAAAAAAaJgADAAAAAAAKjAzFwDoK3ExAAAAAAAMhgAMAAAAAAAqMHUsANBXDz0SAAAAAABgAARgAAAAAABQgcOzAYC+cm8BAAAAAIDBEIABAAAAAEAFLIAB0G8zcwEAAAAAAAZAAAYAAAAAABUYG/egPgD9454CAAAAAACDIwADAAAAAIBKWAEDoF+mZgMAAAAAAAyIAAwAAAAAACrx4IkAQF88+EgAAAAAAIABEYABAAAAAEAlHvKwPgB98pCoGAAAAAAABkYABgAAAAAAlRgbT6aOBQAO5PDs5j1lIgAAAAAAwIAIwAAAAAAAoCIzcwGAA3nIvQQAAAAAAAZKAAYAAAAAABV58EQA4EAefCQAAAAAAMAACcAAAAAAAKAiD3loH4ADekhMDAAAAAAAAyUAAwAAAACAioyNJzNzAYB9KfeQsYkAAAAAAAADJAADAAAAAIDKPCQAA2CfpmYDAAAAAAAMmAAMAAAAAAAq86AADIB9OnI6AAAAAADAgAnAAAAAAACgMjNzydhEAGBPxsZ79xAAAAAAAGCwBGAAAAAAAFCho6cCAHsi/gIAAAAAgOEQgAEAAAAAQIUePBEA2JOjpwMAAAAAAAyBAAwAAAAAACo0+1gAYE8sgAEAAAAAwHAIwAAAAAAAoEJj4x7kB2D3yj1jcjoAAAAAAMAQCMAAAAAAAKBSR08HAHbl+HwAAAAAAIAhEYABAAAAAECljpwKAOyK1UgAAAAAABgeARgAAAAAAFRqctoD/QDs7PBs754BAAAAAAAMhwAMAAAAAAAq9pAADIAdfP3bAQAAAAAAhkgABgAAAAAAFXt4PgCwrSOnAgAAAAAADJEADAAAAAAAKjY5ncxYAQNgC4dne/cKAAAAAABgeARgAAAAAABQuYcEYABsYe5sAAAAAACAIROAAQAAAABA5U54uB+ALViJBAAAAACA4ROAAQAAAABA5cbGPeAPwN3KvWFyOgAAAAAAwJAJwAAAAAAAgBw9HQC4w/H5AAAAAAAALSAAAwAAAAAAbj3kPzYRAPjU0VMBAAAAAABaQAAGAAAAAABkbNyD/gB8RhgMAAAAAADtIQADAAAAAABuKQ/7A0DhngAAAAAAAO0hAAMAAAAAAG6ZmbP2AkAyOd27JwAAAAAAAO0gAAMAAAAAAD71yEIAqNzJxQAAAAAAAC0iAAMAAAAAAD514mwAqJz1LwAAAAAAaBcBGAAAAAAA8KmxcQ/+A9Ts+HwyOR0AAAAAAKBFBGAAAAAAAMAdTi4GgEqVAAwAAAAAAGgXARgAAAAAAHCHsgA2dSwAVKYsf1mBBAAAAACA9hGAAQAAAAAAd7EAA1AfC5AAAAAAANBOAjAAAAAAAOAuJQAbmwgAlSjrX0dPBQAAAAAAaCEBGAAAAAAAcJex8eSRhQBQiZk54S8AAAAAALSVAAwAAAAAAPhSD88HgEqcXAwAAAAAANBSAjAAAAAAAOBLTU73FmEA6Lbj871rPgAAAAAA0E4CMAAAAAAAYEsWYQC677jFRwAAAAAAaDUBGAAAAAAAsKWyAGYFDKC7XOcBAAAAAKD9BGAAAAAAAMC2rIABdNeJswEAAAAAAFpOAAYAAAAAAGzLOgxAN01OJ0dPBQAAAAAAaDkBGAAAAAAAsCMrYADd49oOAAAAAACjQQAGAAAAAADsqCyATR0LAB1R1r+OzwcAAAAAABgBAjAAAAAAAGBX/t4/DAAdYf0LAAAAAABGhwAMAAAAAADYla9/u7cYA8Bos/4FAAAAAACjRQAGAAAAAADs2umnAsCIs/4FAAAAAACjRQAGAAAAAADs2tHTycxcABhR1r8AAAAAAGD0CMAAAAAAAIA9sRwDMLpcwwEAAAAAYPQIwAAAAAAAgD0pC2BWwABGj/UvAAAAAAAYTQIwAAAAAABgzyzIAIyeM+cCAAAAAACMIAEYAAAAAACwZ1bAAEZLWf5y3QYAAAAAgNEkAAMAAAAAAPbFkgzA6LDcCAAAAAAAo0sABgAAAAAA7MvkdDJ3NgC0XFn/KtdsAAAAAABgNAnAAAAAAACAfSuLMmMTAaClSvhl/QsAAAAAAEabAAwAAAAAANi3sfHkkYUA0FLWvwAAAAAAYPQJwAAAAAAAgAM5cVZcANBG1r8AAAAAAKAbBGAAAAAAAMCBlBWwM+cCQMuIvwAAAAAAoBsEYAAAAAAAwIHNzPUOANrh+HzvAAAAAAAARp8ADAAAAAAA6IuyAjY2EQBawPoXAAAAAAB0hwAMAAAAAADoi8np5JGFADBkJf4q12QAAAAAAKAbBGAAAAAAAEDfnDgrOgAYpnINtv4FAAAAAADdIgADAAAAAAD6Zmw8OXMuAAyJazAAAAAAAHSPAAwAAAAAAOirmblk7mwAGLDj871rMAAAAAAA0C0CMAAAAAAAoO9OLiZjEwFgQCane9deAAAAAACgewRgAAAAAABA342NJ2e+HwAGpMRfJQIDAAAAAAC6RwAGAAAAAAA04ujp5MjpANCw4/O9AwAAAAAA6CYBGAAAAAAA0JhvnkvGJgJAQ8rqV1n/AgAAAAAAuksABgAAAAAANGZsPDnz/QDQkBJ/lQgMAAAAAADoLgEYAAAAAADQqKOnkyOnA0CfHZ/vHQAAAAAAQLcJwAAAAAAAgMZ985yFGoB+KtfUsv4FAAAAAAB0nwAMAAAAAABo3Nh4cuZcAOiTM8JaAAAAAACohgAMAAAAAAAYiJm5ZO5sADigsvxVrqkAAAAAAEAdBGAAAAAAAMDAlGhh6lgA2Key+lWupQAAAAAAQD0EYAAAAAAAwMCMjSdP/GDzPBEA9qhcO598LgAAAAAAQGUEYAAAAAAAwEDdWq/5bgDYo0cXe9dQAAAAAACgLgIwAAAAAABg4ObO9g4AdmduITmxEAAAAAAAoEICMAAAAAAAYChOWrIB2JVby4mLAQAAAAAAKiUAAwAAAAAAhmJsPHnyuc3zRADYQrlGulYCAAAAAEDdBGAAAAAAAMDQlFWbx54KAFt41FoiAAAAAABUTwAGAAAAAAAM1fH5ZO5sAPiCk4vJiYUAAAAAAACVE4ABAAAAAABDd/qpZGYuAPze1GwvAAMAAAAAABCAAQAAAAAArXDmXDI5HYDqlWvhE88GAAAAAADgFgEYAAAAAADQCreDh7GJAFSrXAOffE4QCwAAAAAAfEYABgAAAAAAtMbUbPLYUwGo1qOL4i8AAAAAAOBOAjAAAAAAAKBVjs/3AgiA2pzcvPadWAgAAAAAAMAdBGAAAAAAAEDrfGMxefhbAajG3EIvAAMAAAAAAPgiARgAAAAAANBKj/9pMnUsAJ03NSv+AgAAAAAAtiYAAwAAAAAAWmlsPHniB8nkdAA6q1zjnnh285o3EQAAAAAAgC8lAAMAAAAAAFqrhBFPPicCA7rJNQ4AAAAAANgNARgAAAAAANBq1nGALirXtHJtE38BAAAAAAA7EYABAAAAAACtNzWbPPZUADrjzPd71zYAAAAAAICdCMAAAAAAAICRcHw+OS0CAzrgsaeTo6cDAAAAAACwKwIwAAAAAABgZMydTR5dDMDIOrl5DTuxEAAAAAAAgF0TgAEAAAAAACPlG4siMGA0lfjrpOsXAAAAAACwRwIwAAAAAABg5IjAgFEj/gIAAAAAAPZLAAYAAAAAAIykEoHNnQ1A64m/AAAAAACAgxCAAQAAAAAAI+v0U8nD3wpAax2fF38BAAAAAAAHIwADAAAAAABG2jf/mQgMaKcSf505FwAAAAAAgAMRgAEAAAAAACNPBAa0jfgLAAAAAADoFwEYAAAAAADQCSIwoC3EXwAAAAAAQD995XebAgAAAAAA0BGXlpJfLwVgKOYWktNPBwAAAAAAoG/uDQAAAAAAQId8Y7F3FoEBg3ZysXcAAAAAAAD00z0BAAAAAADomBKBPSrCAAZI/AUAAAAAADRFAAYAAAAAAHSSCAwYFPEXAAAAAADQpK/8blMAAAAAAAA6avnF5MJPAtCIx55OTiwEAAAAAACgMQIwAAAAAACg8966kLzy75KN9QD0xdhE8vhTycPzAQAAAAAAaJQADAAAAAAAqMLq1eTnP0zWVgJwIJPTyRPPJlOzAQAAAAAAaJwADAAAAAAAqEaJv156RgQG7F+Jv558rncGAAAAAAAYhHsCAAAAAABQidvhxtSxAOxZWfwSfwEAAAAAAINmAQwAAAAAAKjOxo3k4lKy/GIAduX4fPLYU8nYRAAAAAAAAAZKAAYAAAAAAFTr0lLy66UAbOvkYu8AAAAAAAAYBgEYAAAAAABQtbICdvGFZGM9AHcoa1+PP5U8PB8AAAAAAIChEYABAAAAAADVW1tJXnqmdwYoJqeTJ55NpmYDAAAAAAAwVAIwAAAAAACA9OKvn/+rZPVKgMrNzCVnzvUiMAAAAAAAgGETgAEAAAAAAHzOpaXk10sBKjW3kJx+OgAAAAAAAK0hAAMAAAAAAPiC5ReTiy8kG+sBKjE2kTz+VPLwfAAAAAAAAFpFAAYAAAAAAPAl1laSl57pnYFum5xOnnyudwYAAAAAAGgbARgAAAAAAMAWNm4kF5d6i2BAN80tJCcXewtgAAAAAAAAbSQAAwAAAAAA2EEJwC6+kGysB+iIEnw9upicWAgAAAAAAECrCcAAAAAAAAB2YW0leemZ3hkYbVOzyRPPJpPTAQAAAAAAaD0BGAAAAAAAwB5cWkp+vRRgRM0tJCcXewtgAAAAAAAAo0AABgAAAAAAsEfXlpNXnrcGBqOkrH2dOZfMzAUAAAAAAGCkCMAAAAAAAAD2ocRfF5eSy+cDtNyR08k3v2/1CwAAAAAAGE0CMAAAAAAAgAN44+Xk0gvWwKCNSvB15vvJ0dMBAAAAAAAYWQIwAAAAAACAA7IGBu1j9QsAAAAAAOgKARgAAAAAAECfWAOD4bP6BQAAAAAAdI0ADAAAAAAAoI+sgcHwzC0kJxetfgEAAAAAAN0iAAMAAAAAAGjAteXkleetgcEgTE4nZ84lM3MBAAAAAADoHAEYAAAAAABAgy4tJb9eCtCAsvRVVr/KYfULAAAAAADoKgEYAAAAAABAw8oK2MWl5PL5AH1S1r7K6ldZ/wIAAAAAAOgyARgAAAAAAMCAvPFycumFXhAG7E8Jvkr4VQIwAAAAAACAGgjAAAAAAAAABuzSUvLGeSEY7MXYRDK30DvK1wAAAAAAALUQgAEAAAAAAAxBib8uLiWXzwfYQYm+Ti4KvwAAAAAAgDoJwAAAAAAAAIZICAZbm5lLzpxLJqcDAAAAAABQLQEYAAAAAABAC7y3nPy353tBGNSuhF9l8aucAQAAAAAAaicAAwAAAAAAaJE3Xk4uvSAEo07CLwAAAAAAgLsJwAAAAAAAAFpICEZNJqeT008lR08HAAAAAACALxCAAQAAAAAAtJgQjC6bmk1OnE2OzwcAAAAAAIAtCMAAAAAAAABGgBCMLpmZS04u9s4AAAAAAABsTwAGAAAAAAAwQt5+NVl+Mbm2HBg5wi8AAAAAAIC9E4ABAAAAAACMoPeWkzfOJ5fPB1pP+AUAAAAAALB/AjAAAAAAAIARtraSXFzqLYKVr6EtxiaSuYXk+HwyOR0AAAAAAAD2SQAGAAAAAADQARvrydULyaUXhGAM19Rs8vC3k69/qxeBAQAAAAAAcDACMAAAAAAAgI55bzl543xy+XxgYGbmkpOLvTMAAAAAAAD9IwADAAAAAADoqLIE9u5vrILRnLLwNbfQO6x9AQAAAAAANEMABgAAAAAAUAGrYPRLCb2OnkqOz1v7AgAAAAAAGAQBGAAAAAAAQEU21pOrF5I3f5FcWw7sWom9jpxOvv4ta18AAAAAAACDJAADAAAAAACo1NpK8u5vktf/S7J6JXCXEn2VY25B9AUAAAAAADAsAjAAAAAAAABuxWBvvZq8eV4MVrvb0dfX55OJ6QAAAAAAADBkAjAAAAAAAADucHsZ7M1fJNeWQwVK8HXkdDJ7SvQFAAAAAADQNgIwAAAAAAAAtnQ7Bnv7f/ZisI310AFjE8nRU73wq5zL9wAAAAAAALSTAAwAAAAAAIBde285eetCsnrVOtioKbHX5w8AAABgdPzyWvJv/1fyzlry+IPJv/hG8keTAQCgEgIwAAAAAAAA9qWsgV17bfP4Te+8eiW0yNSxZObE5vFI72zlCwAAAEbT8mry+F/c+WdzU8n/+EcBAKASAjAAAAAAAAD64vNBmIWwwSurXlOzgi8AAADomj/978kLl+/+8xKAlRAMAIDuuzcAAAAAAADQByU4OnKqd9z23nLywe9jsPUVK2H9MjndC74OH+tFX+UQfAEAAEBHbTH18NEnAQCgEhbAAAAAAAAAGJiyEnb9qihst0rUdd90cnhW7AUAAAC1KutfZQXs8/5wMnn9TwIAQCUEYAAAAAAAAAxdicDW3++dV6/2QrHb5xp8MfQqX5fQa2I6AAAAAPk3l5IfvZZ8uJGcOJz8h3+QzE0FAIBKCMAAAAAAAABorduLYTdvJB+tJOu/3Ty/3/vztZXeMQomp5NDE72g6777N88PbH4/3gu+Suxl0QsAAADYjXc2/03kD/07AgBAdQRgAAAAAAAAjLT1leRv15NPfh+JlVisBGLlKF/f/r7YKN9/blVstwHZ5PSXf1/CrRJylaN8ffv7EnV9dfP8BxNWvAAAAAAAADgYARgAAAAAAAAAAAAAAABAS90TAAAAAAAAAAAAAAAAAFpJAAYAAAAAAAAAAAAAAADQUgIwAAAAAAAAAAAAAAAAgJYSgAEAAAAAAAAAAAAAAAC01L0BAAAAAAAA8txf/UX+7MrLt77+kz/6+/nXJ74bAAAAAAAAGDYBGAAAAAAAANX7l8tL+bMrP//0+x//75/lvnu/ln/+d88GAAAAAAAAhumeAAAAAAAAQOX+/J1f3vVnP7nyswAAAAAAAMCwCcAAAAAAAACo3oeffLyrPwMAAAAAAIBBE4ABAAAAAAAAAAAAAAAAtJQADAAAAAAAAAAAAAAAAKClBGAAAAAAAAAAAAAAAAAALSUAAwAAAAAAAAAAAAAAAGgpARgAAAAAAAAAAAAAAABASwnAAAAAAAAAAAAAAAAAAFpKAAYAAAAAAAAAAAAAAADQUgIwAAAAAAAAAAAAAAAAgJYSgAEAAAAAAAAAAAAAAAC0lAAMAAAAAAAAAAAAAAAAoKUEYAAAAAAAAAAAAAAAAAAtJQADAAAAAAAAAAAAAAAAaCkBGAAAAAAAAAAAAAAAAEBLCcAAAAAAAAAAAAAAAAAAWkoABgAAAAAAAAAAAAAAANBSAjAAAAAAAAAAAAAAAACAlhKAAQAAAAAAAAAAAAAAALSUAAwAAAAAAAAAAAAAAACgpQRgAAAAAAAAAAAAAAAAAC0lAAMAAAAAAAAAAAAAAABoKQEYAAAAAAAAAAAAAAAAQEsJwAAAAAAAAAAAAAAAAABaSgAGAAAAAAAAAAAAAAAA0FICMAAAAAAAAAAAAAAAAICWEoABAAAAAAAAAAAAAAAAtJQADAAAAAAAAAAAAAAAAKClBGAAAAAAAAAAAAAAAAAALSUAAwAAAAAAAAAAAAAAAGgpARgAAAAAAAAAAAAAAABASwnAAAAAAAAAAAAAAAAAAFpKAAYAAAAAAAAAAAAAAADQUgIwAAAAAAAAAAAAAAAAgJYSgAEAAAAAAAAAAAAAAAC0lAAMAAAAAAAAAAAAAAAAoKUEYAAAAAAAAAAAAAAAAAAtJQADAAAAAAAAAAAAAAAAaCkBGAAAAAAAAAAAAAAAAEBLCcAAAAAAAAAAAAAAAAAAWkoABgAAAAAAAAAAAAAAANBSAjAAAAAAAAAAAAAAAACAlhKAAQAAAAAAAAAAAAAAALSUAAwAAAAAAICqffjJx1u/tvFxAAAAAAAAYJgEYAAAAAAAAFTto20CsI/+nwAMAAAAAACA4RKAAQAAAAAAULV3Pv5gy9c+vHkjAAAAAAAAMEwCMAAAAAAAAKr24cbWK1+vf/ROAAAAAAAAYJgEYAAAAAAAAFTtL7eJvD765OMAAAAAAADAMAnAAAAAAAAAqNrrH24dgL324f8JAAAAAAAADJMADAAAAAAAgKq9c+ODLV97/f8KwAAAAAAAABguARgAAAAAAABVe32bla+yDvbhxscBAAAAAACAYRGAAQAAAAAAUK1frf7Vju/ZLhADAAAAAACApgnAAAAAAAAAqNZffvjOju+5sPpGAAAAAAAAYFgEYAAAAAAAAFTrv753acf37GYlDAAAAAAAAJoiAAMAAAAAAKBKf/3xan71wc5xVwnAPtz4OAAAAAAAADAMAjAAAAAAAACqtJv467Y//+tfBgAAAAD4/+zdf4zc9X3n8Xe42Ki7ho2Odbk48hIwiu0GXCkGtbFJlJxCsPgjwqinpIpz+as4OqlcJWr/EfUaJbrmD4iru7S9YvJXW3Oh0ilr8Qc1GMUR4OVO2Jyy5movYm28LkuWXVcx+yNlfafcfGZYDGZmd3Z3fnx/PB7SaJed8Q8kdlbMc16fLwDQDQZgAAAAAAAAlNITyxh1PTV+MgAAAAAAAKAbDMAAAAAAAAAonQtzU8u6AtjxqdNxaX4uAAAAAAAAoNMMwAAAAAAAACidR84M1v36xp7+6FvTU/e+x0afDgAAAAAAAOg0AzAAAAAAAABKp9HVv3b2b429t+6qe9/B0SOuAgYAAAAAAEDHGYABAAAAAABQKk+cfz7G5iajnn1bdsdXN95V975Ll+dcBQwAAAAAAICOMwADAAAAAACgVB45M1j36/d+fHsM9K6v3nau31r3Ma4CBgAAAAAAQKcZgAEAAAAAAFAaB1870vDqX3tv3fXe5+lKYPW4ChgAAAAAAACdZgAGAAAAAABAKVyYm4rHRp+pe9/O/q2xo3/LB/7ZVcAAAAAAAADIAgMwAAAAAAAASuGRM4MNr/61f+v9H/raYlcB+8HIYAAAAAAAAEAnGIABAAAAAABQeMenTsePzz9X976rr/71/q83ugrYo68dieOTpwMAAAAAAADazQAMAAAAAACAQktX7Hrw5I8a3v/Dz/xBw/saXQUsefDlH8Wl+bkAAAAAAACAdjIAAwAAAAAAoNAePv2TGJubrHvf1wY+FwO96xv+2nQVsL2bdtW9L/2ePxgZDAAAAAAAAGgnAzAAAAAAAAAK6+BrR+Kx0afr3rexp3/RK3wt2Ld1d/Wx9Txa+f3TnwEAAAAAAADtYgAGAAAAAABAIV2Ym4o/OfV4w/v3b71/0at/Lehb0xN/sf2Bhvc/cmYwXvnl+QAAAAAAAIB2MAADAAAAAACgcNL4677nv9/w/r2bdsXXBj4XzdrZv7X6a+q5dHkuvvm//mv1zwQAAAAAAIBWMwADAAAAAACgUBbGX2Nzk3Xv39jTH/u23BfLtW/r7uqvrSf9WenPNAIDAAAAAACg1QzAAAAAAAAAKIx0Na5//z//S8PxV9+anjh817ejb21vLNd7v7bysZ70Z6Y/+9L8XAAAAAAAAECrGIABAAAAAABQCAtX/nrl0vmGj/nhZ/4gBnrXx0qlX/vDzzzQ8P70Z9/3giuBAQAAAAAA0DoGYAAAAAAAAOReM+Ov/Vvuj3s33BGrde+G7bF/6/0N76+OwJ43AgMAAAAAAKA1DMAAAAAAAADItVcujVUHV2Nzkw0fk8Zf+7bujlbZt2X3oiOw9HcxAgMAAAAAAKAVPvLrigAAAAAAAIAcOvjakXjkzOG4dHm24WNaPf56v0fODMbDp3+y6GP+8+1fj7237goAAAAAAABYCQMwAAAAAAAAcufS5bnq8Oqx0acXfVw7x18LmhmBfevWXfHHm3dH39qeAAAAAAAAgOUwAAMAAAAAACBXjk+djgdP/ijG5iYXfVwnxl8LmhmBDfSsjx9+5g9i5/qtAQAAAAAAAM0yAAMAAAAAACAXmr3qV9LJ8deCZkZgye/f9PnYt2V3bOzpDwAAAAAAAFiKARgAAAAAAACZloZfB187Eo+NPlP5fHbRx/at6aleZeveDXdENzw1fjIefPmx6t95MelqYA9s+nLsvXVXAAAAAAAAwGIMwAAAAAAAAMik5Qy/knRFrcN3fTsGetdHN43NTsZ9L3w/LsxNLfnYNATbv/X++OrAXQEAAAAAAAD1GIABAAAAAACQKcsdfiV7N+2KfVvui761vZEF6d/hkdODcXD0SFOPT0Owneu3Vv4ddleHbAAAAAAAALDAAAwAAAAAAICuS4Opvx97IZ5680Qcnzzd9K9LY6m/3L43dvRviSz68fnn4pEzg01dDWzBzv6t8fs3fb7672QMBgAAAAAAgAEYAAAAAAAAHZcGX69cOl8dew1dPLOs0deCrF31q5Gx2cnqCOyJsedjudIY7N4Nd8Snr99YvUIYAAAAAAAA5WMABgAAAAAAQFukkdely7Pxdhp7/XIs3v6/v4pTl16vfp7GXyuVRlH7t96f2at+NZKGYA/+7x+taOy24La+m2Kgt7/68dPXD0Tfmp7YWPnnvjW91c8BAAAAAAAoHgMwAAAAVmVsbrL65s1/+tXF6hs50xs7x2anqh8X3uwJAADQCnkdfl0tXfHs4dM/WdUQDAAAyJaFQxk29vRX//m2j90UAz3rq1fzHehd/97XAQAAYCUMwAAAAFiWdEr/0NRIHJ/6xzg+ecbACwAAaLuiDL+uloZgB187Ek+NnwwAAKDY0kBs5/otlf+/+a3K/9tsrl7VFwAAAJplAAYAAMCSjk+djn948+V44vzzBl8AAEBHpJPz927aFV8duKt6Wn6Rjc1OxiNnBqv/73VhbioAAIDiS1cH27l+a3x1413VjwAAALAYAzAAAADqSm86/PH55+Kx0WeMvgAAgI5Io6+vDXwu7t1wR+Gu9tWsdFWwH7/+nDEYAACUyMIYbN+W3bGxpz8AAADgagZgAAAAfEB6k2H15PnJ0wEAANBOafCV3uS4s39rdfB1W99NwRWvXDofQ1Nnqv+flv4f7dLluQAAAIrt3g3b44Fb7nFVMAAAAD7AAAwAAIAqwy8AAKDV0sCrb01vXF/5ONDbX/14e99NsbFnfdz2sYHY+BtOtl+OsdnJ+Kd/uRiv/PJ89fNX3h6rfv3C7FT1ys0GYgAAUBzpoIx0RTBDMAAAABIDMAAAgJJrxfArndKf3ryZ3siZ3tz56b6N0be2N67/V79R/QgAAAAAAFBkl+Zn4+3/96u4MDdV+XyuekXfdBubnap+XKk0BPuL7Q/Exh4HaAAAAJSZARgAAEBJpZPhHz79k3hs9OlYrhQbq7f1W+PT12808gIAAAAAAFjE0MUz1av5PvXmyRUdyvf7N32+ekUwQzAAAIByMgADAAAooXTVrwdP/ijG5iab/jVp8HXvhu3x1Y13GXwBAAAAAACs0NjsZLXV/P2FF5Y1BhvoWR/7t94fXx24KwAAACgXAzAAAIASWe5Vv/rW9MTeTbvigU1fNvoCAAAAAABosTQGe+TMYHUQdmFuqqlf861bd8Ufb95daTc9AQAAQDkYgAEAAJREiob3Pf/9pq76ZfgFAAAAAADQWT8+/1x1DNbMECxdDezw574dG3v6AwAAgOIzAAMAACiBp8ZPxoMv/yguXZ5d9HGGXwAAAAAAAN316GtH4rHRp5ccgqWu88PPPBD3btgeAAAAFJsBGAAAQME9fPon1dMil5KGX/u23Gf4BQAAAAAA0GVjs5PVvvPE2PNLPnbf5t2x/7fuDwAAAIrLAAwAAKDAmhl/bezpj7/cvjd29G8JAAAAAAAAsuP41On4w5OPLXk1MCMwAACAYjMAAwAAKKhmxl+u+gUAAAAAAJBtly7PxSOnB+Pg6JFFH2cEBgAAUFwGYAAAAAW01Pirb01P7N9yfzxw6z0BAAAAAABA9j362pH4T6ceX/QxRmAAAADFZAAGAABQMEuNvzb29Mff/s4fxW0fuykAAAAAAADIj7HZybjvhe/Hhbmpho8xAgMAACgeAzAAAIACaWb8dfiub8dA7/oAAAAAAAAgf4zAAAAAyueaAAAAoBCeGj+56Pjrtr4B4y8AAAAAAICcS60nNZ/b+m5q+JhHRgar7QgAAIBicAUwAACAAkgnPH7xp38Sly7P1r1/YfzVt7Y3AAAAAAAAyL9Ll+fivue/H69cOl/3/r41PXHs3/5ZbOzpDwAAAPLNFcAAAABybiHuNRp/paj3N7/zR8ZfAAAAAAAABZIGXn/zO/+x4cDrvYY0PxcAAADkmwEYAABAzj18+icxNjdZ974U/NKVvwZ61wcAAAAAAADFkhpQakGNRmCpIf1gZDAAAADINwMwAACAHHvi/PPx2OjTDe83/gIAAAAAACi21IL+9nf/qHpFsHoefe1IHJ88HQAAAOSXARgAAEBOXZibikfOND6x8c9u32P8BQAAAAAAUAK39d0Uf7xld8P7H3z5R3Fpfi4AAADIJwMwAACAnErjr7G5ybr37d20Kx649Z4AAAAAAACgHL51665qI6onNaUfjAwGAAAA+WQABgAAkEPp6l8/Pv9c3fs29vTHvi33BQAAAAAAAOWyb+vuaiuq59HXjsTxydMBAABA/hiAAQAA5NAfvvxYw/v+cvve6FvbGwAAAAAAAJRL35qe+IvtDzS8/5EzrgIGAACQRwZgAAAAOXN86nTD0xm/NvC52NG/JQAAAAAAACinnf1bY++mXXXvW6wzAQAAkF0GYAAAADnT6GTGjT39sW/L7gAAAAAAAKDc9m3dXb0aWD2uAgYAAJA/BmAAAAA5stipjN/atCsGetcHAAAAAAAA5ZbGX3tvdRUwAACAojAAAwAAyJHHRp+p+/V09a8Hbr0nAAAAAAAAIHlg0z2uAgYAAFAQBmAAAAA5cWFuKp4aP1H3vv1b7w8AAAAAAABYsNRVwFJ7AgAAIB8MwAAAAHKi0UmM6epfXxv4XAAAAAAAAMD7LXYVsCfOPx8AAADkgwEYAABAThyfPF336zv7twYAAAAAAABcbbGrgB0cPRIAAADkgwEYAABADhyfOh1jc5N179u3ZXcAAAAAAABAPekqYPVcujzX8ABCAAAAssUADAAAIAf+fuyFul9PV/8a6F0fAAAAAAAAUE+6CtjO9Vvr3vcPb74cAAAAZJ8BGAAAQA40On3xazd9LgAAAAAAAGAx9358e92vPzH2XAAAAJB9BmAAAAAZ98qlsRibm6x7344btgQAAAAAAAAs5qsD9Q8VvHR5Ll755fkAAAAg2wzAAAAAMm5oqv7Vv3b2b42B3vUBAAAAAAAAi+lb0xM712+te9/QxTMBAABAthmAAQAAZNzxqfrR7d4N2wMAAAAAAACakQ4XrOf45OkAAAAg2wzAAAAAMu745D/W/fptfTcFAAAAAAAANGNH/5a6Xz8+ZQAGAACQdQZgAAAAGXZhbiouXZ6re1+jSAcAAAAAAABXa3S4YGpRF341FQAAAGSXARgAAECGjc1N1v36bX0DAQAAAAAAAM3qW9PTcAT2yi/PBwAAANllAAYAAJBh/+fSWN2vD/SsDwAAAAAAAFiO2z9WfwB2Yc4VwAAAALLMAAwAACDDxhrEttsaxDkAAAAAAABo5La+gbpfP3XJFcAAAACyzAAMAAAgw15pENsaxTkAAAAAAABo5PqP9tT9+tvzcwEAAEB2GYABAADkUN+a3gAAAAAAAIDluO1jN9X9+tjcZAAAAJBdBmAAAAAZdmF2qu7XN/b2BwAAAAAAACxH35r6VwC7dNkVwAAAALLMAAwAACDDLl2erfv16/9VTwAAAAAAAMByXN9gAPa2ARgAAECmGYABAABkWKPTFvvWGoABAAAAAACwPK4ABgAAkE8GYAAAAAAAAAAAAAAAAAAZZQAGAAAAAAAAAAAAAAAAkFEGYAAAAAAAAAAAAAAAAAAZZQAGAAAAAAAAAAAAAAAAkFEGYAAAAAAAAAAAAAAAAAAZZQAGAAAAAAAAAAAAAAAAkFEGYAAAAAAAAAAAAAAAAAAZZQAGAAAAAAAAAAAAAAAAkFEGYAAAAAAAAAAAAAAAAAAZZQAGAAAAAAAAAAAAAAAAkFEGYAAAAAAAAAAAAAAAAAAZZQAGAAAAAAAAAAAAAAAAkFEGYAAAAAAAAAAAAAAAAAAZZQAGAAAAAAAAAAAAAAAAkFEGYAAAAAAAAAAAAAAAAAAZZQAGAAAAAAAAAAAAAAAAkFEGYAAAAAAAAAAAAAAAAAAZZQAGAAAAAAAAAAAAAAAAkFEGYAAAAAAAAAAAAAAAAAAZZQAGAAAAAAAAAAAAAAAAkFEGYAAAAAAAAAAAAAAAAAAZZQAGAAAAAAAAAAAAAAAAkFEGYAAAAAAAAAAAAAAAAAAZZQAGAAAAAAAAAAAAAAAAkFEGYAAAAAAAAAAAAAAAAAAZZQAGAAAAAAAAAAAAAAAAkFEGYAAAAAAAAAAAAAAAAAAZZQAGAAAAAAAAAAAAAAAAkFEGYAAAAAAAAAAAAAAAAAAZZQAGAAAAAAAAAAAAAAAAkFEGYAAAAAAAAAAAAAAAAAAZZQAGAAAAAAAAAAAAAAAAkFEGYAAAAAAAAAAAAAAAAAAZZQAGAAAAAAAAAAAAAAAAkFEGYAAAAAAAAAAAAAAAAAAZZQAGAAAAAAAAAAAAAAAAkFEGYAAAAAAAAAAAAAAAAAAZZQAGAAAAAAAAAAAAAAAAkFEGYAAAAAAAAAAAAAAAAAAZZQAGAAAAAAAAAAAAAAAAkFEGYAAAAAAAAAAAAAAAAAAZZQAGAACQYX1repr6GgAAAAAAADRDfwIAAMgfAzAAAIAM23vrrg997WsDnw8AAAAAAABYCf0JAAAgfz7y64oAAAAgs/5k+PF4Yuy56ud7N+2KfVt3BwAAAAAAAKyU/gQAAJAvBmAAAAAAAAAAAAAAAAAAGXVNAAAAAAAAAAAAAAAAAJBJBmAAAAAAAAAAAAAAAAAAGWUABgAAAAAAAAAAAAAAAJBRBmAAAAAAAAAAAAAAAAAAGfXRAAAAoC2mJyLemancZmufX56t/fP8u1+rfj575bFX/9pmXHfjlc+v7Y1Yu672+drK59euu/K19Pma3trjr333vvf/WgAAAAAAALJPfwIAACinj/y6IgAAAFiWFNHerkSyqbO1sDb9i9o/z0xcCW55kCJcuqVgd336/N9ErPvNWrRbf8uVoAcAAAAAAEB76U8AAAA0YgAGAACwiBTSpkYrYe2t2seLldvbb9UCXBmkANd/Sy3Q9W+KuOGWWrBLnwMAAAAAALB8+pP+BAAAsFwGYAAAAFELauk0xYtnyxnaViKFuXWVGPeJ347417c4sREAAAAAAOD99Kfl058AAADqMwADAABK5+rYNj5cO2mR1bs6yn1iWwAAAAAAABSe/tQ++hMAAIABGAAAUAIpuL1RiWxvDtfCWwpudM6GbbUw9/FttSDnlEYAAAAAACDv9Kfu0p8AAICyMQADAAAK5/3Bbfzd6EZ2pBiXopwgBwAAAAAA5IX+lG36EwAAUHQGYAAAQCGMD3/wRn4snNB4045akAMAAAAAAMgC/Sm/9CcAAKBoDMAAAIBcSqcsnn2xdsriuRdr/0z+pdMYN9weccvOiI9XPl53YwAAAAAAAHSE/lRM+hMAAFAEBmAAAEBuTE9EvF6JbeeGnLJYFul0xi1fFuMAAAAAAID20J/KR38CAADyyAAMAADItBTdRo7WgpvoVm79t0RsrsS4T35WjAMAAAAAAFZOf2KB/gQAAOSFARgAAJA58zMRw4dFNxpLMW7b/U5mBAAAAAAAmqM/sRT9CQAAyDIDMAAAIBNSdBt5NuLckOjG8mzYFrElncz4uxFr1wUAAAAAAECV/sRK6U8AAEDWGIABAABdlWLbyNFKeHuxFuFgNTbfHfGpyu0T2wIAAAAAACgp/YlW0p8AAIAsMAADAAA6LoW24cO1m+hGO1x3Y8Sd34j4+O21zwEAAAAAgGLTn2g3/QkAAOgmAzAAAKBj0mmLJw7VPkKnOJURAAAAAACKS3+iG/QnAACg0wzAAACAtkonLI48W7kdjZgaDeiahVMZP/m7EWvXBQAAAAAAkFP6E1mhPwEAAJ1iAAYAALTF9EQtug0frkU4yIoU4jZsi7hjT+1zAAAAAAAgH/Qnskp/AgAA2s0ADAAAaKnx4YgTh2ofIes23x3xqcrtE9sCAAAAAADIKP2JPNGfAACAdjAAAwAAWkJ4I8/SiYy33xdx844AAAAAAAAyQn8iz/QnAACglQzAAACAVRHeKJLrboy48xsRn/pSAAAAAAAAXaI/UST6EwAA0AoGYAAAwIqMHI04dThiajSgcIQ4AAAAAADoPP2JItOfAACA1TAAAwAAluX1oYjjByOmJwIKT4gDAAAAAID2058oE/0JAABYCQMwAACgKePDEScO1T5C2QhxAAAAAADQevoTZaY/AQAAy2EABgAALEp4gytSiPvCQxGf2BYAAAAAAMAK6U9whf4EAAA0wwAMAACoa3oi4tgB4Q3q2Xx3xB17akEOAAAAAABoztTZiKFH9SeoR38CAAAWYwAGAAB8wPxMxEuHIk4dDmAJQhwAAAAAACxNf4Lm6U8AAEA9BmAAAEBVCm/Dh2u39DnQnBTfPlUJcXfuCQAAAAAA4H30J1gZ/QkAALiaARgAABDjwxHHDkRMTwSwQinE3fmNSoz7UgAAAAAAQOnpT7B6+hMAALDAAAwAAEosBbcU3lKAA1pj890Rd+ypBTkAAAAAACgb/QlaT38CAAAMwAAAoITmZyKGD9du6XOg9bZXItydewIAAAAAAEpBf4L2058AAKC8DMAAAKBk0mmL6dTFdPoi0F7pFMYvPBTxiW0BAAAAAACFpT9B5+hPAABQTgZgAABQEumkxZcORZw6HECHbb474o49tSAHAAAAAABFoT9B9+hPAABQLgZgAABQAq8PRfz0z2sRDuiOFN/u/EbEp74UAAAAAACQe/oTdJ/+BAAA5WEABgAABZaCWwpvKcAB2eA0RgAAAAAA8kx/guzRnwAAoPgMwAAAoKCcugjZ5TRGAAAAAADySH+C7NKfAACg2AzAAACgYJy6CPnhNEYAAAAAAPJAf4L80J8AAKCYDMAAAKBAxocjjh2ImJ4IICdSfPvCQxGf2BYAAAAAAJA5+hPkj/4EAADFYwAGAAAFkE5dfOlQxKnDAeTU9j0Rd+4JAAAAAADIBP0J8k9/AgCA4jAAAwCAnEunLT793YipswHkXDqN8SsP1z4CAAAAAEC36E9QHPoTAAAUgwEYAADk2PBgxInHaycwAsWwtjfijj0R23YHAAAAAAB0nP4ExaM/AQBA/hmAAQBADqXg9tKhiFOHAyio2ysB7s6vV4LcugAAAAAAgLbTn6D49CcAAMgvAzAAAMiZ6YmIJ/fXPgLFdt2NEV95uPYRAAAAAADaRX+C8tCfAAAgnwzAAAAgR0aORhw/WDuBESiHtb0Rd+yJ2LY7AAAAAACg5fQnKB/9CQAA8scADAAAcuL4oxGnDgdQUtsrEe7OPQEAAAAAAC2jP0G56U8AAJAfBmAAAJBx0xMRxw5EjA8HUHL9t0Tc852I624MAAAAAABYMf0JWKA/AQBAPhiAAQBAhk2djXj6u7UIB5Ck+PaVh0U4AAAAAABWRn8CrqY/AQBA9hmAAQBARo0cjTh+MGJ+JgA+YG1vxB17IrbtDgAAAAAAaJr+BDSiPwEAQLYZgAEAQAadOFS7ASxmeyXC3bknAAAAAABgSfoT0Az9CQAAsskADAAAMiSdtvjCwYhXjwZAU27fXYlwX49Yuy4AAAAAAOBD9CdgufQnAADIHgMwAADIiOmJiKe/GzF1NgCWpf+WiHu+E3HdjQEAAAAAAO/Rn4CV0p8AACBbDMAAACADUnx7cn/tI8BKpPj2lYdFOAAAAAAAavQnYLX0JwAAyI5rAgAA6Kp04qL4BqzWQsifGg0AAAAAAEpOfwJaQX8CAIDscAUwAADoopGjEccPRszPBEBLrO2N+OJDETfvCAAAAAAASkh/AlpNfwIAgO4zAAMAgC4ZHowYOhgAbbFjb8S23QEAAAAAQInoT0A76U8AANA9BmAAANAFJw7VbgDttH1PxJ17AgAAAACAEtCfgE7QnwAAoDuuCQAAoKPEN6BTTlaea17yfAMAAAAAUHj6E9Ap+hMAAHSHARgAAHSQ+AZ0mggHAAAAAFBs+hPQafoTAAB03kcDAADoiOOPRpw6HAAdd/LdAHfnngAAAAAAoED0J6Bb9CcAAOisj/y6IgAAgLb66YGIV48GQFdtvjviiw8FAAAAAAAFoD8BWaA/AQBAZ1wTAABAW4lvQFaMVJ6Ljh0IAAAAAAByTn8CskJ/AgCAzjAAAwCANhLfgKwR4QAAAAAA8k1/ArJGfwIAgPYzAAMAgDYR34CsEuEAAAAAAPJJfwKySn8CAID2MgADAIA2OHFIfAOyLUW44wcDAAAAAICc0J+ArNOfAACgfQzAAACgxVJ8SzeArDs1GPGS5ysAAAAAgMzTn4C80J8AAKA9DMAAAKCFxDcgb04eEuEAAAAAALJMfwLyRn8CAIDWMwADAIAWEd+AvBLhAAAAAACySX8C8kp/AgCA1jIAAwCAFhgeFN+AfEsRLj2XAQAAAACQDfoTkHf6EwAAtI4BGAAArNLrQxFDBwMg99Jz2avPBgAAAAAAXaY/AUWhPwEAQGsYgAEAwCpMnY346Z8HQGG88NeV57bRAAAAAACgS/QnoGj0JwAAWD0DMAAAWKHpiYinvxsxPxMAhTE/W3lu+17tOQ4AAAAAgM7Sn4Ai0p8AAGD1DMAAAGAF0gvTT+73AjVQTJ7jAAAAAAA6z2uzQJF5jgMAgNUxAAMAgGVKJy6mkxe9MA0UmVNmAQAAAAA6R38CykB/AgCAlTMAAwCAZXrpUMTU2QAovPRcd/xgAAAAAADQZvoTUBb6EwAArIwBGAAALMOJSnw7dTgASmPkaO2NBwAAAAAAtIf+BJSN/gQAAMtnAAYAAE0aHqwFOICyOVl57nv12QAAAAAAoMX0J6Cs9CcAAFgeAzAAAGjC9EQlvj0eAKX1wl9HTI0GAAAAAAAtoj8BZac/AQBA8wzAAABgCSm+Pbk/Yn4mAEprfjbi6e/VnhMBAAAAAFgd/QlAfwIAgOUwAAMAgCU8/V0vOAMk6bnw2IEAAAAAAGCV9CeAGv0JAACaYwAGAACLOHEoYupsAPCu8eGI4wcDAAAAAIAV0p8APkh/AgCApRmAAQBAA8ODtQAHwAedqjw/vvpsAAAAAACwTPoTQH36EwAALM4ADAAA6pieqMS3xwOABl7469pzJQAAAAAAzdGfABanPwEAQGMGYAAAcJX5mYgn99c+AlDf/KznSgAAAACAZulPAEvTnwAAoDEDMAAAuMpLh5wqBtCM9Fz5ktNqAQAAAACWpD8BNEd/AgCA+gzAAADgfYYHI04dDgCadGqw9twJAAAAAEB9+hPA8uhPAADwYQZgAADwrnSS2AkniQEs2wkn1wIAAAAA1KU/AayM/gQAAB9kAAYAAO96cn/E/EwAsEzzsxFPf9dzKAAAAADA1fQngJXRnwAA4IMMwAAAIJweBrBaU2cjXnKKLQAAAADAe/QngNXRnwAA4AoDMAAASm98uBbgAFidU4MRbwwHAAAAAEDp6U8AraE/AQBAjQEYAACllk5dPHYgAGiRn1WeU+dnAgAAAACgtPQngNbSnwAAwAAMAICSSycvpggHQGuk59SfemMDAAAAAFBi+hNAa+lPAABgAAYAQImNHK3dAGit11+MODcUAAAAAACloz8BtIf+BABA2RmAAQBQSumEsHT6IgDtcexAxPxMAAAAAACUhv4E0F76EwAAZWYABgBAKaX4liIcAO0xPxvx0wMBAAAAAFAa+hNAe+lPAACUmQEYAAClM3K0dgOgvV5/MeLcUAAAAAAAFJ7+BNAZ+hMAAGVlAAYAQKmkUxfT6YsAdMaxAxHzMwEAAAAAUFj6E0Bn6U8AAJSRARgAAKWS4luKcAB0xvxsxEuPBwAAAABAYelPAJ2lPwEAUEYGYAAAlMb4cMTI0QCgw04NRrwxHAAAAAAAhaM/AXSH/gQAQNkYgAEAUBrHDgQAXfKzynPw/EwAAAAAABSK/gTQPfoTAABlYgAGAEApnDgUMT0RAHRJeg4ePhwAAAAAAIWhPwF0l/4EAECZGIABAFB46UXfFOAA6K7hQW+GAAAAAACKQX8CyAb9CQCAsjAAAwCg8MQ3gGyYn404diAAAAAAAHJPfwLIBv0JAICyMAADAKDQRo7WbgBkw/hwxBvDAQAAAACQW/oTQLboTwAAlIEBGAAAheb0RYDs+dmBiPmZAAAAAADIJf0JIHv0JwAAis4ADACAwkrxbXoiAMiY9Nw8fDgAAAAAAHJHfwLIJv0JAICiMwADAKCQ0ou7I0cDgIwaHnQKIwAAAACQL/oTQLbpTwAAFJkBGAAAheT0RYBsm5+NeOnxAAAAAADIDf0JINv0JwAAiswADACAwnH6IkA+nBr0ZgkAAAAAIB/0J4B80J8AACgqAzAAAAonnb4IQD4cOxAAAAAAAJmnPwHkh/4EAEARGYABAFAo48NOXwTIk/S8/cZwAAAAAABklv4EkC/6EwAARWQABgBAoTjJCyB/Tjo5FwAAAADIMP0JIH/0JwAAisYADACAwkgnL05PBAA54xRGAAAAACCr9CeAfNKfAAAoGgMwAAAK44QTvAByyymMAAAAAEAW6U8A+aU/AQBQJAZgAAAUgtMXAfItncJ4bigAAAAAADJDfwLIN/0JAIAiMQADAKAQnL4IkH9DBwMAAAAAIDP0J4D8058AAoCCMAADACD3nL4IUAzpufzVZwMAAAAAoOv0J4Bi0J8AACgKAzAAAHLP6YsAxfHznwQAAAAAQNfpTwDFoT8BAFAEBmAAAOSa0xcBiuXi2Yg3hgMAAAAAoGv0J4Bi0Z8AACgCAzAAAHLN6YsAxXPSczsAAAAA0EX6E0Dx6E8AAOSdARgAALl1bsjpiwBFND7sFEYAAAAAoDv0J4Bi0p8AAMg7AzAAAHLr1OEAoKCcwggAAAAAdIP+BFBc+hMAAHlmAAYAQC6l07nGnc4FUFhOYQQAAAAAOu3iqP4EUGT6EwAAeWYABgBALo0cDQAKzimMAAAAAEAnDbv6F0Dh6U8AAOSVARgAALkzPWEABlAG6RTG9JwPAAAAANBu+hNAOehPAADklQEYAAC5c8KJXACl4Q0XAAAAAEAn6E8A5aE/AQCQRwZgAADkyvxs7UQuAMpheLDy3D8TAAAAAABtoz8BlIv+BABAHhmAAQCQK+eGIqYnAoCSSG+8GHk2AAAAAADaRn8CKBf9CQCAPDIAAwAgV04cCgBK5swzAQAAAADQNvoTQPnoTwAA5I0BGAAAuTE+7PRFgDK6eDbijeEAAAAAAGg5/QmgnPQnAADyxgAMAIDcGDkaAJTUSSfwAgAAAABtoD8BlJf+BABAnhiAAQCQC+nkRQEOoLzSKbzzMwEAAAAA0DL6E0C56U8AAOSJARgAALmQXngFoNyGDwcAAAAAQMvoTwDoTwAA5IUBGAAAuXDiUABQcsODAQAAAADQMvoTAPoTAAB5YQAGAEDmpdMXpycCgJKbn414w4m8AAAAAEAL6E8AJPoTAAB5YQAGAEDmjRwNAKh61c8EAAAAAKAF9CcAFuhPAADkgQEYAACZlk7bEuAAWHBuqPKzYSYAAAAAAFZMfwLg/fQnAADywAAMAIBMSy+0AsCC6hszng0AAAAAgBXTnwB4P/0JAIA8MAADACDTnL4IwNW8OQMAAAAAWA39CYCr6U8AAGSdARgAAJk1PRExPhwA8AHpZ8P8TAAAAAAALJv+BEA9+hMAAFlnAAYAQGaJbwA0Mnw4AAAAAACWTX8CoBH9CQCALDMAAwAgs055cRWABrxJAwAAAABYCf0JgEb0JwAAsswADACATJqeiJgaDQCoKwW4mbcCAAAAAKBp+hMAi9GfAADIMgMwAAAy6fUXAwAWdeaZAAAAAABomv4EwFL0JwAAssoADACATBo5GgCwqHQKIwAAAABAs/QnAJaiPwEAkFUGYAAAZM70RMTUaADAolKAm3krAAAAAACWpD8B0Az9CQCArDIAAwAgc5yoBUCzzg0FAAAAAMCS9CcAmqU/AQCQRQZgAABkzsjRAICmCHAAAAAAQDP0JwCapT8BAJBFBmAAAGTK9IQTGAFoXvqZMT8TAAAAAAAN6U8ALIf+BABAFhmAAQCQKeIbAMt17sUAAAAAAGhIfwJgufQnAACyxgAMAIBMed2LqAAskzdvAAAAAACL0Z8AWC79CQCArDEAAwAgU97wIioAy3RuKAAAAAAAGtKfAFgu/QkAgKwxAAMAIDPSCVrzMwEAyzI/6w0cAAAAAEB9+hMAK6E/AQCQNQZgAABkxusvBgCsyJsCHAAAAABQh/4EwErpTwAAZIkBGAAAmTE1GgCwIuMCHAAAAABQh/4EwErpTwAAZIkBGAAAmTA/68VTAFYu/QyZnwkAAAAAgPfoTwCshv4EAECWGIABAJAJb/w8AGBV3jgVAAAAAADv0Z8AWC39CQCArDAAAwAgE970oikAq/SmN3MAAAAAAO+jPwGwWvoTAABZYQAGAEAmjA8HAKzKG36WAAAAAADvoz8BsFr6EwAAWWEABgBA183PRkyNBgCsysWzlZ8pMwEAAAAAoD8B0BL6EwAAWWEABgBA173x8wCAlnjjVAAAAAAA6E8AtIz+BABAFhiAAQDQdW96sRSAFnnTmzoAAAAAgNCfAGgd/QkAgCwwAAMAoOumRgMAWmLqbAAAAAAA6E8AtIz+BABAFhiAAQDQdePDAQAtkX6mzM8EAAAAAFBy+hMAraI/AQCQBQZgAAB0lfgGQKtNOoURAAAAAEpNfwKg1fQnAAC6zQAMAICuuuhFUgBa7J/9bAEAAACAUtOfAGg1/QkAgG4zAAMAoKucwAhAq02NBgAAAABQYvoTAK2mPwEA0G0GYAAAdNX0RABAS3lzBwAAAACUm/4EQKvpTwAAdJsBGAAAXTM/65QsAFovvbljfiYAAAAAgBLSnwBoB/0JAIBuMwADAKBrxDcA2mXybAAAAAAAJaQ/AdAu+hMAAN1kAAYAQNdc9OIoAG3yz37GAAAAAEAp6U8AtIv+BABANxmAAQDQNePDAQBt4ZRfAAAAACgn/QmAdtGfAADoJgMwAAC6ZnoiAKAtBDgAAAAAKCf9CYB20Z8AAOgmAzAAALrGi6MAtIs3eQAAAABAOelPALSL/gQAQDcZgAEA0BUXxTcA2mh+NmLmrQAAAAAASkR/AqCd9CcAALrJAAwAgK5428lYALTZpDd7AAAAAECp6E8AtJv+BABAtxiAAQDQFRfPBgC01Yw3ewAAAABAqehPALSb/gQAQLcYgAEA0BUCHADtNuUERgAAAAAoFf0JgHbTnwAA6BYDMAAAuuKdmQCAthLgAAAAAKBc9CcA2k1/AgCgWwzAAADoiiknMALQZtMTAQAAAACUiP4EQLvpTwAAdMtHAwAAOmx+tnJzAiPUdW1vxIZttdu6GyP6N9W+ft2NVx6TokK6pZNMx09Vbj+PuChqw4cs/LxZuy4AAAAAgILTn6Cx1JlSe+q/5Up/Sq+dpy6VvFP5/pn5Re3jxdFKexquDSoNXeDD9CcAALrFAAwAgI6bGg3gfaqjr9+OuP2+WnxbSop0C4Owm3fUPqYAd+JQLciJcXDF25Xvh34BDgAAAAAKT3+CD0r96fbdVw4eXOqx1757KGF6bPp1SepOI0drN+AK/QkAgG4wAAMAoOPecfoivCcFtDv2XDlhcaXSIOyLD9XGXynCpTEYULs63sKV9AAAAACA4tKfoGZh+JVuq+1PC+Ox1LJSezIEgxr9CQCAbjAAAwCg42beCii9FMvSYGvhSl6tkn6/FOE23x3x5H5XA4P52QAAAAAASkB/gvb2p/T7pgalP4H+BABAd1wTAADQYYIAZZdOXPzKw62Pb++Xfu+v/01tCAZlNv2LAAAAAABKQH+i7DrVn37vryJu/mxAqelPAAB0gwEYAAAdJ8BRZulkxJ17o2PSaYxGYJTZ237mAAAAAEAp6E+UWSf707XrIu75jv5EuelPAAB0gwEYAAAd985MQCml+JZunZZGYBu2BZSSN30AAAAAQDnoT5RVuvKX/gSdpT8BANANHw0AAOgwL4ZSRukUxOXGt/S9Mj4cMXU2Yv7dcL12XcT1vxlxw6blRbUU4f7Hf6gE8NmAUpn33zwAAAAAlIL+RBldd+PyrvyVOtHrQ7X2NDPxweHkQnu6+bNN/3Zxz59G/Pdv6k+Uj/4EAEA3GIABANBxAhxlk+Jbs+OvFMhODUacq8S3i2eb+33TuKyZv8P2b0QMPRpQKn7mAAAAAEA5eC2QMvrKw809bqE/pVujsVY6lDDdn5pSswcbXrsu4gsPRTz9vYBS8TMHAIBuuCYAAKCDvBBKGaVAlmLZUlJYS1fpOnFo6fFXkr6fjh2IePybzX1vbbuvEuJ6A0pn5q0AAAAAAApMf6KM0kirmf6Uvj8W+lMzV+pKj0+PbbY/3byjduUwKBv9CQCATjMAAwCgo+ZnAkpl4ZTEpYwcjXhy/8oidfo16dc2E+1u3x1QOv8yHQAAAABAgelPlFEz/WmhIbW7P9382YDS0Z8AAOg0AzAAADqqmUAARfLJHUs/5uJo7Upeq5Ei3M+a+D2aiYFQNPN+9gAAAABAoelPlM2165q76tZKx18Lmu1Pn9KfKCH9CQCATjMAAwCgo97+RUCpNHPi4ZHvRUucG4oYH178MemKZOkGZbKauA0AAAAAZJ/+RNnccMvSjxk52prXx5vpT2mQ1szfCYpEfwIAoNMMwAAA6KjLcwGlstTpiymatTIOnHtx6cfcsCmgVJzACAAAAADFpj9RNs20nmaaUbOa+b369SdKRn8CAKDTDMAAAOiod2YCSqO/iZMOlzoxcbleH1r6Mdf9ZkCp+NkDAAAAAMXmNUDK5trepR8z3cIr473586Ufc92NAaXiZw8AAJ320QAAgA5yChZls9TVvS6ejZZq5nvs2nUBpTIvwAEAAABAoelPlE0zY6tWNqjptwK4iv4EAECnGYABANBRTsGiTKYqYe3xb0ZH+R6DD3vHmz8AAAAAoNC8Nk7ZLHUAYav5HoMP058AAOi0awIAADrICYzQXs1c3avTURC6TZgGAAAAgGLTnyibZoYn1/ZGyzRzxTGvxVM2/psHAKDTDMAAAOgoL4JCe91wy9KPMQCjbLz5AwAAAACKTX+ibGaaaD3rmhhtNauZAdjFswGloj8BANBpBmAAAAAFsvnupR9zcTQAAAAAAADIqfHhpR9z845omaX6UxphNvN3AgAAYOUMwAAA6CinYEH7pNMXN2xb/DEpvr3j+5CScdU7AAAAACg2/YmyaWZw1cyhgc1opj+9/mJA6ehPAAB0mgEYAAAdlWIE0B7bdtci3GJGjgYAAAAAABSK/kQZnTq8+P2pGd2xJ1ZNfwIAAMgGAzAAAIACSAHv9vsWf0w6hU6AAwAAAAAAyL9zQxEXzy7+mNSPVnMlsGb6U/p7LHU1MgAAAFbPAAwAACDHru2N2Pmt5k5wPHYgAAAAAAAAKIjjjy79mC8+tPSIq57UnpbqT+/MRgwdDAAAADrgowEAAB2UrkAErF4afn3qyxHbKsHuuhuXfvyJQ05fpLz87AEAAACAYvMaIGWV2s/QoxE7vrX449JhgpsrXenk30Wce7Hx41J/umFT5fF7ax+XcuLvfP9RXv7bBwCg0wzAAAAAMubmHRFre+vf139LLbil27W9Tf121fFXugEAAAAAAFAsw4crXWnd0lfrSo3pnu/Urto1/vOImYna50lqTutujNjw28vrT6cOBwAAAB1iAAYAAJAxO/Y2d1WvpaRol05eFN8AAAAAAACKK42x5mcitn9j6QFXuj8dRrhSqT/97AeLX0kMAACA1jMAAwAAKKCRo7XYNz0RAAAAAAAAFFy6ElgaZaUrgW2+O1ouDb9ODdZuC1cOAwAAoHMMwAAAAAri4mjEmWcjXn1GeAMAAAAAACibdDDgsQO1QwI/uSNi595oieMH9ScAAIBuMwADAAAoiLXrIvpviZivBL3xYVf/AgAAAAAAKJNreyNu3x1x82cjbtgULZOGZFu+VLvKmAYFAADQHQZgAAAABXHdjRGb767dkhTg0gmP6SMAAAAAAADFtDD8Srf0eTukQdkXH6qNv0aO1hoUAAAAnXNNAAAAUEgbtkV85eFajEvjMAAAAAAAAIolNaDf+28Rd+xp3/jr6j8v/Vn/7q/0JwAAgE5yBTAAAICMuThaOz3xaimirV23/HiXrgiWxmBHvlv5vc8GAAAAAAAABZCuypUOA1xOO3pn9kqLmp+pfS31p9Sh0u/X7O+18Gc/ub9+1wIAAKC1DMAAAAAy5sj3Fr8/hbcU1RaGXc2crpgesxDhjMAAAAAAAADyLbWfXX/a3GArjb5efSbi3IsR48OLPza1p9Sg0q2Zv4MRGAAAQGd85NcVAQAAHfL4N734D62WAtwde5obgqXvPxGOsknfG/+fvfuNkbu+Dzz+CYmXdP/YufM6DotssM1hu8GLFDvqsYZIjuKAeJDbRZUgint9VMzdqVwV136Qq5reVc0DSE53aVVheJSeUYh0inN5QPlTFSnETk/BnGKc2o4wxOvWlOyiy4K9KXZ7ufnuZMGYmd2Z3Zn5/Xu9pNGsZ367Cw92RvN7z+czX/hGAAAAAAAlpT9RNWno6zf/vLU2lAa+nvta+38j6Wfv2lcfCGvld6T+BFWiPwEA0GvXBAAAAIV2+tmI//kfIl76zuLHzsc6AAAAAAAAimnHb7U2/PXCoaUvBpxfKph+xmLSkNi28QAAAKCLDIABAACUwNsXIo480toQWIpwrWxrBAAAAAAAIF/S4Fcrw1ZpcKuV4a1Wfk4r/WnHnvonkwEAANAdBsAAAABKJA2BnT+++HEpwkFV9AnOAAAAAACURCuN5/SznRn+mpf60xuvLHzMtYMR2yYCKkN/AgCg1wyAAQDQU2kjHdBdrQS91RttYaQ6UnQGAAAAAMpLf6JKRkYXP6aTw1/z0hDYYm4cC6gM/QkAgF4zAAYAAFAy6RPAFvsUsBQkVm8KAAAAAAAACiINfy028Pjq0Yi3Xo+Oa6U/DW80kAkAANAtBsAAAOgpW7CgN179weLHpE8Bgyro82l3AAAAAFBq+hNV0cqnfy02pLUcrfzsVv4boQz0JwAAes0AGAAAPeUkKPTGhRY2Ow77BDAqwps/AAAAAKDc9CeqopVP13rjleiaVn72sAWEVIT+BABArxkAAwCgp5wEhd54+0IAv3KtN38AAAAAQKnpT1RFKwNg3WxErfzsPn+PVIT+BABAr30oAACgh2xgpCrSCf/FAtelWiR7+2IAXSY2AwAAAEC56U/wrksZtyd/j1SF/gQAQK8ZAAMAoKdsYKQqbv5sxM69Cx/z0uGIIwejK1rZAHnJp4RREZ57AAAAAKDcnAOkKlppO6s3Rbz1enRFK39rWQ+gQa947gEAoNeuCQAA6KEV/QGVcKGFsJYCXLeMjC5+zJtdin+QN7aNAgAAAEC56U9UxdstDFcNfTS6ppX+ZAEhVaE/AQDQawbAAADoqZUfC6iE6TOLH5Mi2bVdCAPp07827178uDdeCaiEVj4RDwAAAAAoLv2Jqphuoe1sGIuuufG2xY+Z1p+oCP0JAIBeMwAGAEBPXWsLFhXx1uutbWHc/lvRcTv2tHbcGy0MqUEZ2MAIAAAAAOWmP1EVb7S4gLCVT+pqV1o+2MrAy/njAZWgPwEA0GsGwAAA6Km+wYDK+Mmzix8zOt7ap3W1attEaz/v9LOtDahBGXx4KAAAAACAEtOfqIo0XNVK39m1r7ODkWnwq5UFhOnTv9KSRKgC/QkAgF4zAAYAQE+1shUOyuLVo60dlyLctvFYtjT8tXNva8eebmE4Dcpi8KMBAAAAAJSY/kSVvHR48WPS38TnHurMENj8z2rl76yV/zYoC/0JAIBeMwAGAEDPiXBURdrCmC6t2PlAfRBsKX8f8+GtneGvVv+7oOg85wAAAABANTgXSFW89J3WPgVs9aaI3/zz5f1tjIy2PvyVPvnLAkKqwnMOAABZ+FAAAECPXTtYDwBQBc99rR7XWtmwuHl3/ZKGs+aHtJr9raSokKJbOj5dtyr9vBcOBVSGAAcAAAAA1aA/URVvX4g49j8ixh5Y/Nh0jvwL36h3p3YWBKb2tGNPew1Kf6JK9CcAALJgAAwAgJ5LJ0OnzwRUQorNrUa4eSmmzQe1tMHxwj+8u8kxDZINfqy1gbJGUnwTwKmSviX+rQAAAAAAxaI/USXHv1P/hK+0KLAV80sIU29640z98ubPIi5dqN/fNxix8qP1n5ku7Xao1J98+hdVoj8BAJAFA2AAAPScbVhUTYpwKZylTYntSoHt2k3REeIbVbTScw4AAAAAVIL+RNUcPRgxnAa2Nrb+Pak7XbmIsBNSe/LpX1SN/gQAQBauCQAA6DEBjipK4SvL+JX174esDH0sAAAAAIAK0J+omrcvRHz3QMT545GZNPz13NcCKkd/AgAgCwbAAADouRX9AZWUBrBSBHv7YvRM+l0p/hn+oqoGvekDAAAAACpBf6KK5ofAsuhARx4x/EV16U8AAGThQwEAAD22ZlNAZaVNiGkT4449EZt3R1e9+oOIo7X49tbrAZV17UAAAAAAABWgP1FlaQAs9add+7r/aXjp9xw5GPHGmYDK0p8AAMiCATAAAHpu6GMBlZYGstJGxDQMlgbBRkajo1J4mw99UHXDGwMAAAAAqAD9iapLXejx364vIEz9qdODYPoTvEt/AgAgCwbAAADoub6B2mUw4tKFgEpLgey7B+oBbnQ8YuTWiNVLjAXpZ6VLGirziV9QN/98AwAAAACUn/4EdakVpUtaQJiGwdL1UofBUnNKP2u+QwH6EwAA2TEABgBAJlbWIsO0AAdzUjw7crD+9bW1YLB6U/2y8qP166u9fbEesKdfibhQ+97zP6rfBrzX8KYAAAAAACpEf4J3XTm0lQbA0jnztIgwfd1oIEx/gtboTwAAZMUAGAAAmUhxYfpMAFdJIc0WReiMtIERAAAAAKgO/QkaS8sI0+XVowEsk/4EAEBWrgkAAMiArVgAdJvnGgAAAACoFucEAeg2zzUAAGTFABgAAJkY/GgAQFetFuAAAAAAoFL0JwC6TX8CACArBsAAAMiErVgAdNuQN3sAAAAAQKXoTwB0m/4EAEBWDIABAJCJobURfYMBAF3jzR4AAAAAUC36EwDdpj8BAJAVA2AAAGRm5doAgK5YvTEAAAAAgArSnwDoFv0JAIAsGQADACAzTo4C0C1D3uQBAAAAAJWkPwHQLfoTAABZMgAGAEBmhjcFAHTF9bcGAAAAAFBB+hMA3aI/AQCQJQNgAABkxgZGALrFcwwAAAAAVJNzgwB0i+cYAACyZAAMAIDM2MAIQLcMC3AAAAAAUEn6EwDdoj8BAJAlA2AAAGSmbyBiaG0AQEel7Yt9gwEAAAAAVJD+BEA36E8AAGTNABgAAJkaGQ0A6Chv7gAAAACAatOfAOg0/QkAgKwZAAMAIFPDmwIAOur6WwMAAAAAqDD9CYBO058AAMiaATAAADK1emMAQEd5bgEAAACAanOOEIBO89wCAEDWDIABAJApGxgB6LSR0QAAAAAAKkx/AqDT9CcAALJmAAwAgEz1DThRCkDneE4BAAAAAPQnADrJcwoAAHlgAAwAgMzZwghApwxvDAAAAAAA/QmAjtGfAADIAwNgAABk7rptAQAdcd2tAQAAAACgPwHQMfoTAAB5YAAMAIDMXe9kKQAdcr03dQAAAAAAoT8B0Dn6EwAAeWAADACAzPUNRAxvCgBYltUba88pgwEAAAAAoD8B0BH6EwAAeWEADACAXBgZDQBYlus9lwAAAAAAV9CfAFgu/QkAgLwwAAYAQC5cty0AYFmuuzUAAAAAAN6hPwGwXPoTAAB5YQAMAIBcuN5JUwCW6Xpv5gAAAAAArqA/AbBc+hMAAHlhAAwAgFzoG4gYGQ0AWJL0HNI3GAAAAAAA79CfAFgO/QkAgDwxAAYAQG5cL8ABsETDGwMAAAAA4H30JwCWSn8CACBPDIABAJAb1wlwACzRjWMBAAAAAPA++hMAS6U/AQCQJwbAAADIjZFagOsbDABoS99A/TkEAAAAAOBq+hMAS6E/AQCQNwbAAADIlQ23BQC0RXwDAAAAABaiPwHQLv0JAIC8MQAGAECuXLctAKAtG8YCAAAAAKAp/QmAdulPAADkjQEwAAByZePOAIC22MAIAAAAACxEfwKgXfoTAAB5YwAMAIBc6RtwIhWA1qXnjKG1AQAAAADQlP4EQDv0JwAA8sgAGAAAubNhLACgJZt3BwAAAADAovQnAFqlPwEAkEcGwAAAyJ0bbwsAaImtvQAAAABAK/QnAFqlPwEAkEcGwAAAyJ2htU6oArC41RvrzxkAAAAAAIvRnwBohf4EAEBeGQADACCXrhfgAFjEls8GAAAAAEDL9CcAFqM/AQCQVwbAAADIpZt3BwAs6MbbAgAAAACgZfoTAIvRnwAAyCsDYAAA5NLQ2ogRWxgBaGL1xvpzBQAAAABAq/QnABaiPwEAkGcGwAAAyK3rBTgAmhidCAAAAACAtulPADSjPwEAkGcGwAAAyK1tTq4C0IQtvQAAAADAUuhPADSjPwEAkGcGwAAAyK2+ASdYAXi/9NwwtDYAAAAAANqmPwHQiP4EAEDeGQADACDXNowFALzH5t0BAAAAALBk+hMAV9OfAADIOwNgAADkWjrJ2jcYAPCODbcFAAAAAMCS6U8AXE1/AgAg7wyAAQCQa30DTrQC8C5vzAAAAAAAlkt/AuBK+hMAAEVgAAwAgNxLJ1sBIPGcAAAAAAB0gnONAMzznAAAQBEYAAMAIPdGRm3bAiBiaG39OQEAAAAAYLn0JwAS/QkAgKIwAAYAQCHcOh4AVNyOPQEAAAAA0DH6EwD6EwAARWEADACAQtg2EQBUnO2LAAAAAEAn6U8A6E8AABSFATAAAAqhb8CJV4Aq27w7YmhtAAAAAAB0jP4EUG36EwAARWIADACAwtixJwCoqBTgAAAAAAA6TX8CqC79CQCAIjEABgBAYaQNjMObAoCKSZsXbeEFAAAAALpBfwKoJv0JAICiMQAGAECh2MAFUD028AIAAAAA3aQ/AVSP/gQAQNEYAAMAoFBSgOsbDAAqIm1f3HBbAAAAAAB0jf4EUC36EwAARWQADACAQukbiLh1PACoiJFRb7wAAAAAALpLfwKoFv0JAIAiMgAGAEDh3Lw7AKiIHXsCAAAAAKDr9CeA6tCfAAAoIgNgAAAUztDa+kYuAMpt8+76Yz4AAAAAQLfpTwDVoD8BAFBUBsAAACgkG7kAym+zjbsAAAAAQA/pTwDlpz8BAFBUBsAAACiktIHRFkaA8vI4DwAAAAD0mvOSAOXmcR4AgCIzAAYAQGHZwghQXtsmAgAAAACg5/QngPLSnwAAKDIDYAAAFJbtXADlNLQ2YsNtAQAAAADQc/oTQDnpTwAAFJ0BMAAACs0WRoDy8dgOAAAAAGTJOUqA8vHYDgBA0RkAAwCg0NIGxuFNAUBJpO2Lm3cHAAAAAEBm9CeActGfAAAoAwNgAAAU3i3/JgAoCdsXAQAAAIA80J8AykN/AgCgDAyAAQBQeFs+W9/YBUCx2b4IAAAAAOSF/gRQDvoTAABlYQAMAIBSGNsbABSc7YsAAAAAQJ7oTwDFpz8BAFAWBsAAACiFDWMRI6MBQEHZvggAAAAA5I3+BFBs+hMAAGViAAwAgNKwuQuguDyGAwAAAAB55NwlQHF5DAcAoEwMgAEAUBppA6MtjADFY/siAAAAAJBX+hNAMelPAACUjQEwAABKxQYvgOLZtS8AAAAAAHJLfwIoHv0JAICyMQAGAECp2MIIUCxp86LHbQAAAAAgz/QngGLRnwAAKCMDYAAAlI5NXgDFYXMuAAAAAFAE+hNAcehPAACUkQEwAABKZ2htxOhEAJBzaftieswGAAAAAMg7/QmgGPQnAADKygAYAACllDZ69Q0GADmVwpvtiwAAAABAkehPAPmmPwEAUGYGwAAAKKW+gYhbxwOAnLJ9EQAAAAAoGv0JIN/0JwAAyswAGAAApbVtwsldgDyyfREAAAAAKCr9CSCf9CcAAMrOABgAAKWVtjDu2hcA5Iz4BgAAAAAUlf4EkE/6EwAAZWcADACAUhsZrV8AyIfNu+sXAAAAAICi0p8A8kV/AgCgCgyAAQBQemkLY99gAJADti8CAAAAAGWgPwHkh/4EAEAVGAADAKD0htZG3DoeAGQsxbf0mAwAAAAAUHT6E0A+6E8AAFSFATAAACph24STvgBZSo/Bti8CAAAAAGWiPwFkS38CAKBKDIABAFAJfQMRu/YFABnxGAwAAAAAlI3+BJAtj8EAAFSJATAAACpjZDRidCIA6LHNu+uPwQAAAAAAZaM/AWRDfwIAoGoMgAEAUCk79kT0DQYAPTK0tv7YCwAAAABQVvoTQG/pTwAAVJEBMAAAKqVvIGLXFwOAHknxLUU4AAAAAICy0p8Aekt/AgCgigyAAQBQORvGIm4cCwC6bPPu+gUAAAAAoOz0J4De0J8AAKgqA2AAAFTSp/dF9A0GAF2Sti6m7YsAAAAAAFWhPwF0l/4EAECVGQADAKCS+gYidn0xAOiSFN9ShAMAAAAAqAr9CaC79CcAAKrMABgAAJW1YSzixrEAoMM2765fAAAAAACqRn8C6A79CQCAqjMABgBApX16nw1hAJ2UHlPT9kUAAAAAgKrSnwA6S38CAAADYAAAVFzfQMSufQFAh+zyxgYAAAAAoOL0J4DO0p8AAMAAGAAAxMhoxOhEALBMafNiekwFAAAAAKg6/QmgM/QnAACoMwAGAABRP2k8vCkAWKK0dTE9lgIAAAAAUKc/ASyP/gQAAO8yAAYAADV9AxF3/mHtejAAaFN67PzcQwEAAAAAwBX0J4Cl058AAOC9DIABAMCvzG0P+0IA0KZP7qk/hgIAAAAA8F76E8DS6E8AAPBeBsAAAOAKoxP1CwCtGR2P2DYeAAAAAAA0oT8BtEd/AgCA9zMABgAAV9lhkxhAS+Y21+4JAAAAAAAWoT8BtEZ/AgCAxgyAAQDAVfoGIj73UO16MABoIj1GeqwEAAAAAGiN/gSwOP0JAACaMwAGAAANpK1iO/cGAE180rZaAAAAAIC26E8AC9OfAACgOQNgAADQxObdEaMTAcBVdtTi27bxAAAAAACgTfoTQGP6EwAALMwAGAAALGBsb8TIaADwK8Mb6wEOAAAAAICl0Z8A3kt/AgCAxRkAAwCARezaFzG0NgAqLz0W3vnlAAAAAABgmfQngDr9CQAAWmMADAAAFjF/wrlvMAAqKz0Gfu4hb0gAAAAAAOgE/QlAfwIAgHYYAAMAgBYMb4zYuTcAKuuTe8Q3AAAAAIBO0p+AqtOfAACgdQbAAACgRZt3109AA1TNjtpj37bxAAAAAACgw/QnoKr0JwAAaI8BMAAAaMP22knomz8TAJUxOl4PcAAAAAAAdIf+BFSN/gQAAO0zAAYAAG26/d9FDG8KgNIb3ii+AQAAAAD0gv4EVIX+BAAAS2MADAAA2tQ3EHHnH0YMrQ2A0kqPcXd+ufaYNxgAAAAAAHSZ/gRUgf4EAABLZwAMAACWIJ2Y/txDIhxQTh7jAAAAAAB6z7lZoMw8xgEAwPIYAAMAgCWynQwoo/SYlh7bxDcAAAAAgN7Tn4Ay0p8AAGD5DIABAMAyDG+M2Lk3AEpj1xfrj20AAAAAAGRDfwLKRn8CAIDlMwAGAADLtHl3xJgIB5TAzgciNowFAAAAAAAZ05+AstCfAACgMwyAAQBAB4xORHxyTwAU1o7aY9i28QAAAAAAICf0J6Do9CcAAOgcA2AAANAh2/eIcEAxpfi2w+MXAAAAAEDu6E9AUelPAADQWQbAAACgg0Q4oGjENwAAAACAfNOfgKLRnwAAoPMMgAEAQIelCDc6EQC5J74BAAAAABSD/gQUhf4EAADdYQAMAAC6YGxvxM2fCYDc2rxbfAMAAAAAKBL9Ccg7/QkAALrHABgAAHTJp39fhAPyKcW3XfsCAAAAAICC0Z+AvNKfAACguwyAAQBAF4lwQN6IbwAAAAAAxaY/AXmjPwEAQPcZAAMAgC4T4YC8EN8AAAAAAMpBfwLyQn8CAIDe+MAvawIAAOi6Y4cifngoADIxOh4x9kAAAAAAAFAi+hOQJf0JAAB650MBAAD0xPY99WsRDui1HXvqFwAAAAAAykV/ArKiPwEAQG9dEwAAQM+kCPdJJ8GBHhLfAAAAAADKTX8Cek1/AgCA3jMABgAAPSbCAb0ivgEAAAAAVIP+BPSK/gQAANn4wC9rAgAA6LnjhyOOHgyArtj5QMS28QAAAAAAoEL0J6Cb9CcAAMiOATAAAMjQq0cjnvuvEZcuBEBH9A1G3L434ubdAQAAAABABelPQKfpTwAAkD0DYAAAkLHpVyKe/s8Rb70eAMsytDbizi9HDG8MAAAAAAAqTH8COkV/AgCAfDAABgAAOZDi23cPiHDA0qX49rmH6tcAAAAAAKA/AculPwEAQH5cEwAAQObmT5wPbwqAtqWNi+IbAAAAAABX0p+A5dCfAAAgX3wCGAAA5MilixEvHIo4fjgAWrJ5d8TOvRF9gwEAAAAAAO+jPwHt0p8AACB/DIABAEAOHatFuB8eCoAF7dhTvwAAAAAAwGL0J6AV+hMAAOSTATAAAMiptIXxhccjLl0IgPdI2xZv3xtx8+4AAAAAAICW6U9AM/oTAADkmwEwAADIsbdej/jugfo1QDK0NuLOL0cMbwwAAAAAAGib/gRcTX8CAID8MwAGAAA5l+Lb0/8lYvpMABU3Mhqxa189wgEAAAAAwFLpT8A8/QkAAIrBABgAABTEsUMRPzwUQEWNjkeMPRAAAAAAANAx+hNUm/4EAADFYQAMAAAK5PjhiBcej7h0IYCK6BuMuH1vxM27AwAAAAAAOk5/gurRnwAAoHgMgAEAQMG89XrEdw/Ur4FyG1ob8bmH6tcAAAAAANAt+hNUh/4EAADFZAAMAAAK6NLFiBcO1TcyAuU0Oh6xY099AyMAAAAAAHSb/gTlpz8BAEBxGQADAIACSwHuhcdrQe5CACWRgtsna+Ft23gAAAAAAEDP6U9QPvoTAAAUnwEwAAAouLdej/jugfo1UGzDGyPu/HLE0NoAAAAAAIDM6E9QHvoTAACUgwEwAAAoiWOHIn54KICCGh2P2LGnvoERAAAAAADyQH+CYtOfAACgPAyAAQBAiZw/HvHc12xjhCJJ2xZ37YsYGQ0AAAAAAMgd/QmKR38CAIDyMQAGAAAlk+LbC4ciTj8bQM7dOBbx6S/auggAAAAAQL7pT1Ac+hMAAJSTATAAACipU89EHHvcNkbIoxTcdtXC24axAAAAAACAwtCfIL/0JwAAKDcDYAAAUGK2MUL+2LoIAAAAAECR6U+QP/oTAACUnwEwAACoANsYIXu2LgIAAAAAUCb6E2RPfwIAgOowAAYAABVhGyNkZ3Q8YsceWxcBAAAAACgX/Qmyoz8BAEC1GAADAICKOX884rmv2cYIvTC0NmLXvoiR0QAAAAAAgNLSn6B39CcAAKgmA2AAAFBRxw5F/PBQAF2QNi2mrYvpYusiAAAAAABVoT9B9+hPAABQbQbAAACgwtIWxhdqEe70swF0SNq2mLYupu2LAAAAAABQNfoTdJ7+BAAAGAADAADi1DMRxx6vBzlgaVJwS+EtBTgAAAAAAKg6/QmWT38CAADmGQADAADecexQLcY9K8RBO/oGI0bH65f0NQAAAAAA8C79CdqnPwEAAFczAAYAALxHim8v1ELc6WcDWESKbjv2CG8AAAAAALAQ/Qlapz8BAACNGAADAAAaEuKguZHRiLEHIoY3BgAAAAAA0CL9CZpL/WnXvoihtQEAAPA+BsAAAIAFvXY84q+/Vg9yUHUpvKWNi+kaAAAAAABYGv0J3qU/AQAArTAABgAAtOTUMxHHHhfiqCbhDQAAAAAAOk9/osr0JwAAoB0GwAAAgLYIcVTJ0NqIsb0RG8YCAAAAAADoEv2JKtGfAACApTAABgAALIkQR5kNb4zYNhGxeXcAAAAAAAA9oj9RZvoTAACwHAbAAACAZRHiKJOR0Ygde+rXAAAAAABANvQnykR/AgAAOsEAGAAA0BE//UHE8cMR548HFI7wBgAAAAAA+aM/UWT6EwAA0EkGwAAAgI56rRbgTj0bcfrZgNwT3gAAAAAAIP/0J4pEfwIAALrBABgAANAVb70e8cKh+kbG9DXkRd9gxOh4xObdEUNrAwAAAAAAKAj9ibzSnwAAgG4zAAYAAHTVpQsRrxyNOPa4EEe2hjdG3PzZiC2fqUc4AAAAAACgmPQn8kJ/AgAAesUAGAAA0DOvHY849WzE6WcDemZkNGLHnvo1AAAAAABQLvoTWdCfAACAXjMABgAA9FzaxPj3P7KVke5JGxZHx+sX2xYBAAAAAKD89Ce6TX8CAACyZAAMAADIlK2MdEoKbRtui9i827ZFAAAAAACoMv2JTtGfAACAvDAABgAA5MKlCxGvHI34yV9FnD8e0LIU224ci9jyGdsWAQAAAACAd+lPLJX+BAAA5I0BMAAAIHfeej3i738UceJ/RUyfCXifFN3SZXRcdAMAAAAAABanP7EY/QkAAMgzA2AAAECupRj36g8ifvKsGFd189Fty+6IwbUBAAAAAACwJPoT8/QnAACgKAyAAQAAhTG/mfEnfxVx/nhQASm43TgWsfE20Q0AAAAAAOg8/al69CcAAKCIDIABAACFNB/jfvo39Rh36UJQAn2DERtuq4e3dJ3+DQAAAAAA0Av6UznpTwAAQBkYAAMAAErhtVqEe/VoxPQrtjMWTYptV14AAAAAAADyQH8qLv0JAAAoGwNgAABA6aRtjOdfql1+VL+ePhPkyPCmWmjbVrvcWr+2ZREAAAAAAMg7/Snf9CcAAKDsDIABAACld2WQs6Gx99JWxeGNghsAAAAAAFAe+lO29CcAAKBqDIABAACV9Fotwk39KsZdeN2Wxk4ZWlsPbqs31aNbughuAAAAAABAFehP3aE/AQAAGAADAACYk7Y0vvGKKNeqFNVW1mLb6o1iGwAAAAAAQCP6U3v0JwAAgOYMgAEAACwgRbgLP6tfT79SD3Xz11VwdWhLX6fQNrg2AAAAAAAAWAL9SX8CAABolwEwAACAJZjf2Pj2xYg3X69Fun+oXf+sfvtbr9cvRTBUC2nXDtaD2sqP1q4/Vvv3QD24pdhmoyIAAAAAAEBv6E8AAAA0YwAMAACgSy7UItw/1oLc5V9FuhTrUqBLl/T1/L+TS+nfV2x1bDXgDa1t/O8UzlJIS5f09fy/U1RbUbv+8KAtigAAAAAAAEWjPwEAAFSTATAAAAAAAAAAAAAAAACAnLomAAAAAAAAAAAAAAAAAMglA2AAAAAAAAAAAAAAAAAAOWUADAAAAAAAAAAAAAAAACCnDIABAAAAAAAAAAAAAAAA5NSHAgAAgFx76OS349Ezz8x9/fkb7og/3vaFAAAAAAAAgKXSnwAAAIrFABgAAECO/afjh2rx7el3/v3Iy0/Fyg/1x/6tEwEAAAAAAADt0p8AAACK55oAAAAgt741+fz7bjt45qkAAAAAAACApdCfAAAAiscAGAAAQI7NXJ5t6TYAAAAAAABohf4EAABQPAbAAAAAAAAAAAAAAAAAAHLKABgAAAAAAAAAAAAAAABAThkAAwAAAAAAAAAAAAAAAMgpA2AAAAAAAAAAAAAAAAAAOWUADAAAAAAAAAAAAAAAACCnDIABAAAAAAAAAAAAAAAA5JQBMAAAAAAAAAAAAAAAAICcMgAGAAAAAAAAAAAAAAAAkFMGwAAAAAAAAAAAAAAAAAByygAYAAAAAAAAAAAAAAAAQE4ZAAMAAAAAAAAAAAAAAADIKQNgAAAAAAAAAAAAAAAAADllAAwAAAAAAAAAAAAAAAAgpwyAAQAAAAAAAAAAAAAAAOSUATAAAAAAAAAAAAAAAACAnDIABgAAAAAAAAAAAAAAAJBTBsAAAAAAAAAAAAAAAAAAcsoAGAAAAAAAAAAAAAAAAEBOGQADAAAAAAAAAAAAAAAAyCkDYAAAAAAAAAAAAAAAAAA5ZQAMAAAAAAAAAAAAAAAAIKcMgAEAAAAAAAAAAAAAAADklAEwAAAAAAAAAAAAAAAAgJwyAAYAAAAAAAAAAAAAAACQUwbAAAAAAAAAAAAAAAAAAHLKABgAAAAAAAAAAAAAAABAThkAAwAAAAAAAAAAAAAAAMgpA2AAAAAAAAAAAAAAAAAAOWUADAAAAAAAAAAAAAAAACCnDIABAAAAAAAAAAAAAAAA5JQBMAAAAAAAAAAAAAAAAICcMgAGAAAAAAAAAAAAAAAAkFMGwAAAAAAAAAAAAAAAAAByygAYAAAAAAAAAAAAAAAAQE4ZAAMAAAAAAAAAAAAAAADIKQNgAAAAAAAAAAAAAAAAADllAAwAAAAAAAAAAAAAAAAgpwyAAQAAAAAAAAAAAAAAAOSUATAAAAAAAAAAAAAAAACAnDIABgAAAAAAAAAAAAAAAJBTBsAAAAAAAAAAAAAAAAAAcsoAGAAAQE7NXJ5tft+l2QAAAAAAAIB26E8AAADFZAAMAAAgp95cIMC9+c8CHAAAAAAAAO3RnwAAAIrJABgAAEBOTc5ONb1v5u2LAQAAAAAAAO3QnwAAAIrJABgAAEBOzVxqvmXxxJuTAQAAAAAAAO3QnwAAAIrJABgAAEBO/XiByPbm5dkAAAAAAACAduhPAAAAxWQADAAAIKdOzDQPcC/NnA0AAAAAAABoh/4EAABQTAbAAAAAcmry4lTT+078XIADAAAAAACgPfoTAABAMRkAAwAAyKkTC2xZTNsZZy7NBgAAAAAAALRKfwIAACgmA2AAAAA5dGT65KLHLBToAAAAAAAA4Er6EwAAQHEZAAMAAMihH89MLnrM0elTAQAAAAAAAK3QnwAAAIrLABgAAEAOPfnasUWPaWVLIwAAAAAAACT6EwAAQHEZAAMAAMiZc7PTcWRq8biWAtzMpdkAAAAAAACAhehPAAAAxWYADAAAIGdaiW/zvnXu+QAAAAAAAICF6E8AAADFZgAMAAAgZ55oI6o9ef5YAAAAAAAAwEL0JwAAgGIzAAYAAJAj52an29rAeGT6ZMxcmg0AAAAAAABoRH8CAAAoPgNgAAAAOfLwqcMNb1/XPxyrVvQ3vO/RM08HAAAAAAAANKI/AQAAFJ8BMAAAgBxptn1x5/DW2HvTXQ3vO3jmKVsYAQAAAAAAaEh/AgAAKD4DYAAAADnxxNnnY3J2quF9+7dMxL3rbm9438zlWVsYAQAAAAAAeB/9CQAAoBwMgAEAAOTEw6cON7z97uu2x/qBNXOXnWu2NjzGFkYAAAAAAACupj8BAACUgwEwAACAHDj48lNNty/uvemud75OmxgbsYURAAAAAACAK+lPAAAA5WEADAAAIGPnZqdr8eyZhvftHN4aY8Nb3vNvWxgBAAAAAABYiP4EAABQLgbAAAAAMvbwqcNNty8e2HrP+25baAvjV08fDgAAAAAAAKpNfwIAACgXA2AAAAAZOjJ9Mr559nsN77t6++KVtzfbwvjIy0/FkamTAQAAAAAAQDXpTwAAAOVjAAwAACAjaWPig8cea3r/1z/xO03va7aFMXnwxcdi5tJsAAAAAAAAUC36EwAAQDkZAAMAAMjIQye/HZOzUw3vu2/9HbF+YE3T701bGPduuqvhfelnfvX04QAAAAAAAKBa9CcAAIByMgAGAACQgYMvPxWPnnm64X3r+ocX3LA4b//WibljG3mk9vPT7wAAAAAAAKAa9CcAAIDyMgAGAADQY+dmp+MPXnq86f0Htt6z4PbFeatW9Mefbr+/6f0PnzocJ35+NgAAAAAAACg3/QkAAKDcDIABAAD0UIpv489/pen9ezfdFfetvyNatXN469z3NDJzeTZ++3//97nfCQAAAAAAQDnpTwAAAOVnAAwAAKBH5uPb5OxUw/vX9Q/H/i3j0a79WyfmvreR9LvS7xThAAAAAAAAykd/AgAAqAYDYAAAAD2QtiH+27/5b03j26oV/fGd278Uq/oGol3vfG/tupH0O9Pvnrk0GwAAAAAAAJSD/gQAAFAdBsAAAAC6bH7z4omZs02P+fonfifWD6yJpUrf+/VP3N/0/vS7x79vEyMAAAAAAEAZ6E8AAADVYgAMAACgi1qJbwe23BN3j+yI5bp7ZHsc2HpP0/vnItzzIhwAAAAAAECR6U8AAADV88E/qgkAAAA67sTMZNx39OGYnJ1qekyKb/u3TkSn7BzeGh/4wAfiyPTJhvfPXJ6Nv3ztxblYt2pFfwAAAAAAAFAc+hMAAEA1GQADAADogoMvPxUPvvhY/Oztnzc9ptPxbV4rEe7gmafnAtyOf3lTAAAAAAAAkH/6EwAAQHUZAAMAAOigFLf++MffiodPHY63/9/lpsd1K77NWyzCJX/9s5firX/6RWz/FzfFhz+4IgAAAAAAAMgf/QkAAIAP/LImAAAAWLYUux489lhMzk4teFy349uVUgh86OS3Fzxmff+a+Ponfid2rtkaAAAAAAAA5If+BAAAQGIADAAAYJnS1sUUuR498/Six/Yyvs1rJcIln7/hU7F/y0Ss6x8OAAAAAAAAsqM/AQAAcCUDYAAAAEuUwtvBl5+qhbdnal9fXPDYVSv657Yc3j2yI7Lw5Plj8eCLj879Ny8kbWO8f9NnY+9NdwUAAAAAAAC9pT8BAADQiAEwAACANrUT3pK00fA7t38p1g+siSxNXpyK8e9/Jc7NTi96bApxB7beE/euvz0AAAAAAADoLv0JAACAhRgAAwAAaFG74S3Zu+mu2L9lPFb1DUQepP+Hh08ejoNnnmrp+BTidq7ZWvt/mJgLiQAAAAAAAHSO/qQ/AQAAtMIAGAAAwAJSsPrW5PfjyddeiCNTJ1v+vhSr/mz73hgb3hJ59M2z34uHTx1uaRvjvJ3DW+PzN3xq7v9JjAMAAAAAAFga/eld+hMAAEBrDIABAABcIQW3EzNn52Lb0TdOtRXd5uVt62Izkxen5iLcE5PPR7tSjLt7ZEd8fOW6uQ2NAAAAAAAANKY/tUZ/AgAAaM4AGAAAUDkpss1cvhhvptj288l4859+ES/N/HTu6xTflipFqQNb78nt1sVmUoh78P88tqTYOO+WVTfE+oHhueuPr1wfq1b0x7rav1etGJj7GgAAAAAAoMz0p/fSnwAAADrLABgAlMjk7NTcyeO/+8UbcyeS04nlyYvTc9fzJ5sB6LyihrerpY2TD5389rJCHADNzb8pYV3/8Ny/b/nIDbG+f83cNtv1A2veuR0AAADyRH8CyIb+BEAr9CcAqA4DYABQYGlL2NHp03Fk+m9rJ0tPCWwAPVaW8Ha1FOIOvvxUPHn+WADQOynQ7Vyzpfb88uu155bNc1ttAQAAoNf0J4Bs6U8AdJL+BADlYQAMAArmyPTJ+MvXXownzj4vuAFkIG3O2rvprrh3/e1z27LKbPLiVDx86vDcc8+52ekAoLfSdsada7bGvetun7sGAACAbtGfALKlPwHQK/oTABSXATAAKIB00vObZ78Xj555RnQDyECKbvetvyPuHtlRum2LrUpbGb/50++JcQAZmY9x+7dMxLr+4QAAAIDl0p8AsqU/6U8AWdOfAKBYDIABQI6lk5xzm6+mTgYAvZOCWzrJuXN461xwu2XVDcG7TsycjaPTp+aep9Jz1Mzl2QCgd+4e2R73b7zTVkYAAACWRH8CyIb+tDD9CSBb+hMA5J8BMADIIeENoLtSYFu1YiBW1q7XDwzPXW+rRbZ1/Wvilo+sj3W/ZrNVOyYvTsXf/eMbceLnZ+e+PvHm5Nzt5y5Oz20OFugAuiO9USRtZBTiAAAAaIX+BNBd+lNn6U8A2dCfACC/DIABQI50IrylLWHp5HE6kZxOLn981bpY1Vc7yfzBX5u7BgAAsjFz6WK8+c+/iHOz07WvZ+c22qbL5MXpueulSiHuT7ffH+v6vYEEAACA99OfAACgvPQnAKgOA2AAkANpM9VDJ78dj555OtqVXmzPXdZsjY+vXCeyAQBAQR1949TcNtsnXzu2pDflff6GT81tZBTiAAAASPQnAABAfwKA8jAABgAZS1sXHzz2WEzOTrX8PSm43T2yPe5dd7vgBgAAJTR5cWrutcK3zn2/rRi3vn9NHNh6T9y7/vYAAACguvQnAADgavoTABSbATAAyEi7WxdXreiPvZvuivs3fVZ0AwCACkkx7uFTh+eC3LnZ6Za+54Gb7orf3zxRe+3QHwAAAFSH/gQAALRCfwKA4jEABgAZSC+ax5//SktbF4U3AABg3jfPfm8uxrUS4tI2xu/c8aVY1z8cAAAAlJ/+BAAALIX+BADFYAAMAHrsyfPH4sEXH4uZyxcXPE54AwAAmnnk5afmtrkvFuLS64qvf+L+uHtkewAAAFBe+hMAALBc+hMA5JsBMADooYdOfntuW8piUnjbv2VceAMAAJqavDg19/riicnnFz12/+aJOPDr9wQAAADloz8BAACdoj8BQH4ZAAOAHmklvqWPxv6z7XtjbHhLAAAAtOLI9Mn43WOPLrqNUYQDAAAoH/0JAADoBv0JAPLng39UEwBAV7US39LWxUc/+e/jXw2NBAAAQKvW96+J+274VLz9z/8Ux/7vy02PO/rGqYhfRuxcszUAAAAoPv0JAADoFv0JAPLHABgAdNli8W3Viv74w4/fG/u3TsSHP9gXAAAA7frwB1fEp9eOxsra64vnfvZS0+NEOAAAgHLQnwAAgG7TnwAgXz7wy5oAALpisfi2rn84/uI3fi9u+cgNAQAA0AmTF6di/PtfiXOz002P2b95Ig78+j0BAABA8ehPAABAr+lPAJA9A2AA0CWtxLfv3P6lWD+wJgAAADpJhAMAACgn/QkAAMiK/gQA2bomAICOe/L8sQXj2y2r1otvAABA16TXGuk1xy2rmm97f/j04bnXLgAAABSD/gQAAGRJfwKAbPkEMADosLThZNdf/0HMXL7Y8P75+LaqbyAAAAC6aebybIw//5U4MXO24f2rVvTHc5/+k7kN8QAAAOSX/gQAAOSF/gQA2fAJYADQQfMvbpvFt/Si9hu/8XviGwAA0BMpsH3jN/5j08D2zmuYS7MBAABAPulPAABAnuhPAJANA2AA0EEPnfx2TM5ONbwvveBNmxfTR2EDAAD0SnoNkl6LNItw6TXMV08fDgAAAPJJfwIAAPJGfwKA3jMABgAd8sTZ5+PRM083vV98AwAAspJei/zFv/69uY2MjTzy8lNxZOpkAAAAkC/6EwAAkFf6EwD0lgEwAOiAc7PT8fCp5htL/mTbHvENAADI1C2rbojf3zLR9P4HX3wsZi7NBgAAAPmgPwEAAHmnPwFA7xgAA4AOSPEtfWx1I3s33RX333RnAAAAZO2Bm+6ae43SSHpN89XThwMAAIB80J8AAIAi0J8AoDcMgAHAMqXti988+72G963rH479W8YDAAAgL/ZvnZh7rdLIIy8/FUemTgYAAADZ0p8AAIAi0Z8AoPsMgAHAMv3ui482ve/Ptu+NVX0DAQAAkBerVvTHn26/v+n9acM8AAAA2dKfAACAItGfAKD7DIABwDIcmT7ZdDvJfevviLHhLQEAAJA3O4e3xt5NdzW8b6HXOQAAAHSf/gQAABSR/gQA3WUADACWodlmkvRx1vu3TAQAAEBe7d86MbeNsRFbGAEAALKjPwEAAEWlPwFA9xgAA4AlWmgryQOb7or1A2sCAAAgr1J823uTLYwAAAB5oj8BAABFpj8BQPcYAAOAJXr0zDMNb0/bF++/6c4AAADIu/s33WkLIwAAQI7oTwAAQNHpTwDQHQbAAGAJzs1Ox5PnX2h434Gt9wQAAEARLLaFMb32AQAAoDf0JwAAoAz0JwDoDgNgALAEzTaRpO2L962/IwAAAIpioS2MT5x9PgAAAOgN/QkAACgL/QkAOs8AGAAswZGpkw1v3zm8NQAAAIpkoS2MB888FQAAAPSG/gQAAJSF/gQAnWcADADalD6GenJ2quF9+7dMBAAAQNGkLYyNzFyebfoGRAAAADpHfwIAAMpGfwKAzjIABgBt+tbk9xvenrYvrh9YEwAAAEWTtjDuXNN4o/xfvvZiAAAA0F36EwAAUDb6EwB0lgEwAGhTs+0j991wRwAAABTV3ddtb3j7E5PfCwAAALpLfwIAAMpIfwKAzjEABgBtODEzGZOzUw3vG1u9JQAAAIrq3vWN31Q4c3k2Tvz8bAAAANAd+hMAAFBW+hMAdI4BMABow9HpxtsXdw5vjfUDawIAAKCoVq3oj51rtja87+gbpwIAAIDu0J8AAICy0p8AoHMMgAFAG45MN37ReffI9gAAACi69ObCRo5MnQwAAAC6Q38CAADKTH8CgM4wAAYAbTgy9bcNb79l1Q0BAABQdGPDWxrefmRagAMAAOgW/QkAACgz/QkAOsMAGAC06NzsdMxcnm14X7MXqQAAAEXS7M2F6bXQuV9MBwAAAJ2lPwEAAGWnPwFAZxgAA4AWTc5ONbz9llXrAwAAoAxWrehvGuFO/PxsAAAA0Fn6EwAAUHb6EwB0hgEwAGjRj2cmG96+vn9NAAAAlMW2jzQOcGkrPQAAAJ2lPwEAAFWgPwHA8hkAA4AWTTZ5sXlLkxenAAAARdRsy/xLMzYwAgAAdJr+BAAAVIH+BADLZwAMAFp0osmLzWYvTgEAAIpo5Yf6G97+5qXZAAAAoLP0JwAAoAr0JwBYPgNgALBMq1YMBAAAQFk02zI/OTsVAAAA9Ib+BAD/n737ibHruhM7/2tZLgZNSg0MGcsWMTMSNZAywJBeWAIiChhYg1a3NyNIA2cwgOnx0oZnMUAUaJfulpZCmF27rWUjVBZJIyS0sppCy4sWtRANpIubphCSAgJRppoMELGYhOVFpw6vS6wq1nv3vvfun3Pv+XyAhyqxXhW5UL17v+/e3zkATInrTwCwOgNgANDQf7xzc98//x8PHgkAAICp+L2v778C43/+jRUYAQAA2ub6EwAAUALXnwBgdQbAAKCh//ybO/v++aNf+90AAACYikdnXID70gU4AACA1rn+BAAAlMD1JwBYnQEwAGho1mojv7fmAhwAADAdVmAEAADoj+tPAABACVx/AoDVGQADAAAAAAAAAAAAAAAAyJQBMAAAAAAAAAAAAAAAAIBMGQADAAAAAAAAAAAAAAAAyJQBMAAAAAAAAAAAAAAAAIBMGQADAAAAAAAAAAAAAAAAyJQBMAAAAAAAAAAAAAAAAIBMGQADAAAAAAAAAAAAAAAAyJQBMAAAAAAAAAAAAAAAAIBMGQADAAAAAAAAAAAAAAAAyJQBMAAAAAAAAAAAAAAAAIBMGQADAAAAAAAAAAAAAAAAgjwZAAMAAAAAAAAAAAAAAADIlAEwAAAAAAAAAAAAAAAAgEwZAAMAAAAAAAAAAAAAAADIlAEwAAAAAAAAAAAAAAAAgEwZAAMAAAAAAAAAAAAAAADIlAEwAAAAAAAAAAAAAAAAgEwZAAMAAAAAAAAAAAAAAADIlAEwAAAAAAAAAAAAAAAAgEwZAAMAAAAAAAAAAAAAAADIlAEwAAAAAAAAAAAAAAAAgEwZAAMAAAAAAAAAAAAAAADIlAEwAAAAAAAAAAAAAAAAgEwZAAMAAAAAAAAAAAAAAADIlAEwAAAAAAAAAAAAAAAAgEwZAAMAAAAAAAAAAAAAAADIlAEwAAAAAAAAAAAAAAAAgEwZAAMAAAAAAAAAAAAAAADIlAEwAAAAAAAAAAAAAAAAgEwZAAMAAAAAAAAAAAAAAADIlAEwAAAAAAAAAAAAAAAAgEwZAAMAAAAAAAAAAAAAAADIlAEwAAAAAAAAAAAAAAAAgEwZAAMAAAAAAAAAAAAAAADIlAEwAAAAAAAAAAAAAAAAgEwZAAMAAAAAAAAAAAAAAADIlAEwAAAAAAAAAAAAAAAAgEwZAAMAAAAAAAAAAAAAAADIlAEwAAAAAAAAAAAAAAAAgEwZAAMAAAAAAAAAAAAAAADIlAEwAAAAAAAAAAAAAAAAgEwZAAOAhn7v67/b6M8AAADGTv8AAAD0Q38BAACl0D8AsBoDYADQ0I//l+898Gf/z//0vwcAAMDU6B8AAIB+6C8AAKAU+gcAVvO1P9kSAECtF478r/Hlb/5r/IeN6/EPvvb1+P+f/j/jn/9v/3cAAABMjf4BAADoh/4CAABKoX8AYDW/8/dbAgAAAAAAAAAAAAAAAIDsPBQAAAAAAAAAAAAAAAAAZMkAGAAAAAAAAAAAAAAAAECmDIABAAAAAAAAAAAAAAAAZMoAGAAAAAAAAAAAAAAAAECmHg4AKMDtGxF3N7Yed6rPf3On+u/N3/7Zvc/v3H/u3u9t4pHH7n9+4GDE2qHq87Wtzw8cuv9n6fOvH6yef+C3X9v5vQAAAKvQPwAAAP3QXwAAQCn0DwAM73f+fksAwIiliPxyKxJvXq3C8vavq//euHE/OMcgRWh6pGB9NH3+zYhD36ii9R8eux+0AABAufQPAABAP/QXAABQCv0DAONgAAyA0UghefPKVlh+UX28tfX48osqQEuQAvTIsSpQjzwVcfhYFazpcwAAYFr0j/4BAAD6ob/0FwAAlEL/6B8Axs0AGADZSUGZVhO5dbXM0FxGCtNDWzF69NsR/8MxK5YAAMBY6J/F6R8AAGAZ+mtx+gsAAMZJ/yxO/wAwBgbAABjU3ti8vj6eLaNztzdKj54IAABgQPqnO/oHAADYSX91R38BAEBe9E939A8AuTEABkCvUnB+thWZn69X4ZmCk/48fqIK02+dqILUKiUAANAd/TMs/QMAAOXQX8PSXwAA0B/9Myz9A8CQDIAB0KmdwXn9t9FJPlKMpigVpAAAsDr9kzf9AwAA06G/8qa/AACgPfonb/oHgD4ZAAOgddfXdz8Yj+0VSv7nk7asBgCAJvTPeOkfAAAYF/01XvoLAAAWo3/GS/8A0CUDYACsLK0ycvWjapWRax9V/834pdVIHj8eceyFiG9tfXzksQAAgOLpn2nSPwAAkB/9NU36CwAAHqR/pkn/ANA2A2AALOX2jYhPt2Lz2gWrjJQirU7yj/5AjAIAUB79Ux79AwAAw9Bf5dFfAACUSv+UR/8AsCoDYAA0lqLz8nlbS1NtU/3MVow+8bwYBQBgmvQP2/QPAAB0S3+xTX8BADB1+odt+geAZRgAA2CutJ30+jnRyWwpRk/8X1YmAQBg/PQPdfQPAAC0Q39RR38BADAV+oc6+geApgyAAfCAFJ2X37e9NIvb3qb6iX8csXYoAAAge/qHZekfAABYjP5iWfoLAICx0T8sS/8AMI8BMAC+kmIzbTF97aMqQmEVz7wU8fTW4+iJAACA7Ogf2qR/AABgNv1Fm/QXAAA50z+0Sf8AsJcBMIDCbW8xnR6iky6kbamf+6EtqgEAGJ7+oWv6BwAAKvqLrukvAAByoX/omv4BYJsBMIBCpdVGLp6xxTT9sioJAABD0D8MQf8AAFAi/cUQ9BcAAEPQPwxB/wCUzQAYQEHSCiOX36+2mb55JWAw26uSPPGPI9YOBQAAtE7/kAv9AwDA1OkvcqG/AADomv4hF/oHoEwGwAAKcPtGFZ22mSY3KUQfPxHx7CnbUwMA0A79Q670DwAAU6O/yJX+AgCgbfqHXOkfgLIYAAOYMNtMMya2pwYAYBX6hzHRPwAAjJn+Ykz0FwAAq9A/jIn+AZg+A2AAEyQ8GbO0IsnxVyKePBkAAFBL/zBm+gcAgDHRX4yZ/gIAYBH6hzHTPwDTZQAMYEKEJ1OStqR+7ocRT/9+AADAA/QPU6J/AADImf5iSvQXAADz6B+mRP8ATI8BMIAJuHw+4tK5iJtXAiZHiAIAsJP+Ycr0DwAAOdFfTJn+AgBgJ/3DlOkfgOkwAAYwYp9eiPjw7YjbNwImT4gCAJRN/1AS/QMAwJD0FyXRXwAAZdM/lET/AIyfATCAEbLVNCUTogAAZdE/lEz/AADQJ/1FyfQXAEBZ9A8l0z8A42UADGBEhCfcl0L0u69FHD0RAABMkP6B+/QPAABd0l9wn/4CAJg2/QP36R+A8TEABjACN69GXPi58IT9PPNSxLOnqiAFAGD89A/Mpn8AAGjT7RsRH5zWX7Af/QUAMC2uP8Fs+gdgPAyAAWRscyPi4zMRl84FUEOIAgCMm/6B5vQPAACr0F/QnP4CABg3/QPN6R+A/BkAA8hQCs/1c9UjfQ40k+Lz6a0Qfe5UAAAwEvoHlqN/AABYlP6C5egvAIDx0T+wHP0DkDcDYACZSdtMf3A64vaNAJaUQvS5H27F6O8HAAAZ0z+wOv0DAEAT+gtWp78AAMZB/8Dq9A9AngyAAWQiBWcKzxSgQDtsSw0AkCf9A+3TPwAA7Ed/Qfv0FwBAnvQPtE//AOTFABjAwGw3Dd37zinbUgMA5ED/QPf0DwAAif6C7ukvAIA86B/onv4ByIMBMIAB2W4a+pNWIfnuaxFHTwQAAAPQP9Af/QMAUDb9Bf3RXwAAw9I/0B/9AzA8A2AAA0grjXx8JuLSuQB6ZltqAIB+6R8Yjv4BACiL/oLh6C8AgH7pHxiO/gEYjgEwgJ59eiHir/6l7aZhSCk+n/thxNO/HwAAdEj/wPD0DwBAGfQXDE9/AQD0Q//A8PQPwDAMgAH0JAVnCs8UoEAerEYCANAN/QP50T8AANOkvyA/+gsAoBv6B/KjfwD6ZQAMoAdWHYF8WY0EAKBd+gfypX8AAKZFf0G+9BcAQLv0D+RL/wD0xwAYQIesOgLjYTUSAIDV6B8YD/0DADBu+gvGQ38BAKxG/8B46B+A7hkAA+jI9fWID05H3L4RwEik+PzuaxFHTwQAAAvQPzA++gcAYJz0F4yP/gIAWI7+gfHRPwDdMgAG0LK06sjHZyIunQtgpL5zKuK5UwEAQA39A+OnfwAAxkF/wfjpLwCAZvQPjJ/+AeiGATCAFqXVRt57I+Lm1QBGLq1G8vJbtqQGAJhF/8B06B8AgLzpL5gO/QUAMJ/+genQPwDtMwAG0JL1sxEX36lWIAGmYe1gxLOnIk68GgAA7KB/YHr0DwBAnvQXTI/+AgDYn/6B6dE/AO0yAAawIltOw/Qd3wrQ536wFaSHAgCgaPoHpk//AADkQX/B9OkvAICK/oHp0z8A7TAABrCCtOX0u69XH4FpsyU1AFA6/QPl0D8AAMPSX1AO/QUAlE7/QDn0D8DqDIABLOny+YgP37blNJTEltQAQKn0D5RH/wAADEN/QXn0FwBQKv0D5dE/AKsxAAawhA9/bstpKNl3tiL0uVMBAFAE/QNl0z8AAP3RX1A2/QUAlET/QNn0D8ByDIABLCBtNf3B6Yjr6wEU7sixiD/8Y1tSAwDTpX+AbfoHAKBb+gvYpr8AgKnTP8A2/QOwOANgAA3dvBrx3htVhAIkKT5ffkuEAgDTo3+AvfQPAEA39Bewl/4CAKZK/wB76R+AxRgAA2jg8vmID9+O2NwIgF3WDkY8eyrixKsBADAJ+geYRf8AALRLfwGz6C8AYGr0DzCL/gFozgAYQI2LZ6oHwDzf2YrQ504FAMCo6R+gCf0DALA6/QU0ob8AgCnQP0AT+gegngEwgBnSaiN//XbEJ+cDoJHjr25F6A8i1g4FAMCo6B9gUfoHAGA5+gtYlP4CAMZK/wCL0j8A8xkAA9jH7RsR770RcfNqACzkyLGIP/zjiEceCwCAUdA/wLL0DwDAYvQXsCz9BQCMjf4BlqV/AGYzAAawR4rPd1+vPgIsI8Xny2+JUAAgf/oHWJX+AQBoRn8Bq9JfAMBY6B9gVfoHYH8PBQBfSSuOiE9gVdtvZN28EgAA2dI/QBv0DwBAPf0FtEF/AQBjoH+ANugfgP3ZAQzgty6fj/jw7YjNjQBoxdrBiBdfi3jyZAAAZEX/AG3TPwAA+9NfQNv0FwCQK/0DtE3/AOxmAAxgy/rZiAtvB0AnTv444sSrAQCQBf0DdEn/AADcp7+ALukvACAn+gfokv4BqBgAA4p38Uz1AOjSd05FPHcqAAAGpX+APugfAAD9BfRDfwEAOdA/QB/0D0DE1/5kSwAUSnwCffl8PSJN3R89EQAAg9A/QF/0DwBQOv0F9EV/AQBD0z9AX/QPgAEwoGDiE+ibCAUAhqJ/gL7pHwCgVPoL6Jv+AgCGon+AvukfoHQGwIAiffjziH//bwKgdyIUAOib/gGGon8AgNLoL2Ao+gsA6Jv+AYaif4CS/c7fbwmAgvzV6YhPzgcQDOmZlyJefC0AADqlf4Ac6B8AoAT6C8iB/gIA+qB/gBzoH6BEDwVAQcQnkIvLW69FH5wOAIDO6B8gF/oHAJg6/QXkQn8BAF3TP0Au9A9QIgNgQDHEJ5AbEQoAdEX/ALnRPwDAVOkvIDf6CwDoiv4BcqN/gNIYAAOKID6BXIlQAKBt+gfIlf4BAKZGfwG50l8AQNv0D5Ar/QOUxAAYMHkXz4hPIG8pQj98OwAAVqZ/gNzpHwBgKvQXkDv9BQC0Rf8AudM/QCm+9idbAmCiUnymB0DuvvjbiL/f+nj0RAAALEX/AGOhfwCAsdNfwFjoLwBgVfoHGAv9A5TAABgwWeITGJvP10UoALAc/QOMjf4BAMZKfwFjo78AgGXpH2Bs9A8wdQbAgEkSn8BYiVAAYFH6Bxgr/QMAjI3+AsZKfwEAi9I/wFjpH2DKHgqAiVk/Kz6BcfvVmeq1DACgjv4Bxk7/AABjob+AsdNfAEBT+gcYO/0DTJUBMGBSPr0QceHtABi99Fr2yfsBADCT/gGmQv8AALnTX8BU6C8AoI7+AaZC/wBTZAAMmIybVyP+6l8GwGT89Z9tvbZdCQCAB+gfYGr0DwCQK/0FTI3+AgBm0T/A1OgfYGoMgAGTcPtGxHtvRGxuBMBkbN7Zem17s3qNAwDYpn+AKdI/AECO9BcwRfoLANiP/gGmSP8AU2MADBi9dGL27utO0IBp8hoHAOzk3ACYMq9xAEBOnJsAU+Y1DgDYybkBMGVe44ApMQAGjFpacSStPOLEDJgyqywBAIn+AUqgfwCAHOgvoAT6CwBI9A9QAv0DTIUBMGDUPj4TcfNqAExeeq378O0AAAqmf4BS6B8AYGj6CyiF/gIA9A9QCv0DTIEBMGC0Lm7F56VzAVCMy+erN94AgPLoH6A0+gcAGIr+AkqjvwCgXPoHKI3+AcbOABgwSutnqwAFKM2vtl77Pnk/AICC6B+gVPoHAOib/gJKpb8AoDz6ByiV/gHGzAAYMDq3b2zF5zsBUKy//rOIm1cCACiA/gFKp38AgL7oL6B0+gsAyqF/gNLpH2CsDIABo5Li893XIzY3AqBYm3ci3nuzek0EAKZL/wDoHwCgH/oLQH8BQCn0D4D+AcbLABgwKu+94YQLIEmvhR+cDgBgwvQPQEX/AABd018AFf0FANOnfwAq+gcYIwNgwGhcPBNx82oA8FvX1yM+fDsAgAnSPwC76R8AoCv6C2A3/QUA06V/AHbTP8DYGAADRmH9bBWgAOx2aev18ZP3AwCYEP0DsD/9AwC0TX8B7E9/AcD06B+A/ekfYEwMgAHZS9usXnwnAJjhr/+seq0EAMZP/wDMp38AgLboL4D59BcATIf+AZhP/wBjYQAMyNrmRsS7r1cfAdjf5h2vlQAwBfoHoJ7+AQDaoL8A6ukvAJgG/QNQT/8AY2EADMjax2dM1QM0kV4rP7ZaEwCMmv4BaEb/AACr0l8AzegvABg//QPQjP4BxsAAGJCt9bMRl84FAA1dOlu9dgIA46N/ABajfwCAZekvgMXoLwAYL/0DsBj9A+TOABiQpTRJf9EkPcDCLlq5CQBGR/8ALEf/AACL0l8Ay9FfADA++gdgOfoHyJkBMCBL774esbkRACxo807Ee294DQWAMdE/AMvRPwDAovQXwHL0FwCMj/4BWI7+AXJmAAzIjul5gNXcvBrxsVWcAGAU9A/AavQPANCU/gJYjf4CgPHQPwCr0T9ArgyAAVm5vl4FKACruXQ24rP1AAAypn8A2qF/AIA6+gugHfoLAPKnfwDaoX+AHBkAA7KRVh354HQA0JJfnrYVNQDkSv8AtEv/AACz6C+AdukvAMiX/gFol/4BcmMADMiGracB2pVeU//KG3sAkCX9A9Au/QMAzKK/ANqlvwAgX/oHoF36B8iNATAgC5fPVw8A2vXpRxHXLgQAkBH9A9AN/QMA7KW/ALqhvwAgP/oHoBv6B8iJATBgcGlCPq0+AkA3PrAVNQBkQ/8AdEv/AADb9BdAt/QXAORD/wB0S/8AuTAABgzO1tMA3dq8YytqAMiF/gHolv4BALbpL4Bu6S8AyIf+AeiW/gFyYQAMGJStpwH6YStqABie/gHoh/4BAPQXQD/0FwAMT/8A9EP/ADkwAAYMxtbTAP2yFTUADEf/APRL/wBAufQXQL/0FwAMR/8A9Ev/AEMzAAYMxtbTAP1KW1F//E4AAAPQPwD90j8AUC79BdAv/QUAw9E/AP3SP8DQDIABg7i+butpgCFcOhvx2XoAAD3SPwDD0D8AUB79BTAM/QUA/dM/AMPQP8CQDIABg0jboAIwjF/aihoAeqV/AIajfwCgLPoLYDj6CwD6pX8AhqN/gKEYAAN6Z+tpgGGl1+D1cwEA9ED/AAxL/wBAOfQXwLD0FwD0R/8ADEv/AEMxAAb0Kp30pAAFYFjrZ70ZCABd0z8AedA/ADB9+gsgD/oLALqnfwDyoH+AIRgAA3olPgHysHkn4oPTAQB0SP8A5EH/AMD06S+APOgvAOie/gHIg/4BhmAADOjN5fPVA4A8XF+P+Gw9AIAO6B+AvOgfAJgu/QWQF/0FAN3RPwB50T9A3wyAAb2x+ghAfn55OmJzIwCAlukfgPzoHwCYJv0FkB/9BQDd0D8A+dE/QJ8MgAG9SPF5+0YAkJn02rx+LgCAFukfgDzpHwCYHv0FkCf9BQDt0z8AedI/QJ8MgAGdSyc3tp4GyNf6WauQAEBb9A9A3vQPAEyH/gLIm/4CgPboH4C86R+gLwbAgM5ZfQQgb5t3Ij5+JwCAFugfgLzpHwCYDv0FkDf9BQDt0T8AedM/QF8MgAGdsvoIwDhcOuvNQgBYlf4BGAf9AwDjp78AxkF/AcDq9A/AOOgfoA8GwIBOpdVHABiHD04HALAC/QMwHvoHAMZNfwGMh/4CgNXoH4Dx0D9A1wyAAZ25vm71EYAxSa/bn60HALAE/QMwLvoHAMZLfwGMi/4CgOXpH4Bx0T9A1wyAAZ0xyQ4wPr+ychQALEX/AIyP/gGAcdJfAOOjvwBgOfoHYHz0D9AlA2BAJ9LKI7dvBAAjYxUSAFic/gEYJ/0DAOOjvwDGSX8BwOL0D8A46R+gSwbAgE5cNMEOMFpWIQGAxegfgPHSPwAwLvoLYLz0FwAsRv8AjJf+AbpiAAxondVHAMYtrUJy7UIAAA3oH4Bx0z8AMB76C2Dc9BcANKd/AMZN/wBdMQAGtM7qIwDjd+HtAAAa0D8A46d/AGAc9BfA+OkvAGhG/wCMn/4BumAADGiV1UcApiG9ln/yfgAAc+gfgGnQPwCQP/0FMA36CwDq6R+AadA/QBcMgAGtsvoIwHT8zb8LAGAO/QMwHfoHAPKmvwCmQ38BwHz6B2A69A/QNgNgQGusPgIwLbeuRny2HgDAPvQPwLToHwDIl/4CmBb9BQCz6R+AadE/QNsMgAGtsfoIwPT8yms7AOxL/wBMj/4BgDzpL4Dp0V8AsD/9AzA9+gdokwEwoBXXLlh9BGCKrq9bhQQA9tI/ANOkfwAgP/oLYJr0FwA8SP8ATJP+AdpkAAxoxaVzAcBEWYUEAHbTPwDTpX8AIC/6C2C69BcA7KZ/AKZL/wBtMQAGrOzWlWpCHYBpsgoJANyXjov6B2C69A8A5EN/AUyb/gKA+/QPwLTpH6AtBsCAla1bfQRg8qxCAgCVy+cDgInTPwCQB/0FMH36CwAq+gdg+vQP0AYDYMBKbt8QoAAlSKuQpNd8ACiZ/gEog/4BgOHpL4Ay6C8A0D8ApdA/QBsMgAEruWgiHaAY3nAEoHT6B6Ac+gcAhqW/AMqhvwAonf4BKIf+AVZlAAxY2uadaiIdgDKsn9167d8IACiS/gEoi/4BgOHoL4Cy6C8ASqZ/AMqif4BVGQADlnbtgu1IAUqS3ni8/H4AQJH0D0BZ9A8ADEd/AZRFfwFQMv0DUBb9A6zKABiwNNtPA5Tnb/8yAKBI+gegPPoHAIahvwDKo78AKJX+ASiP/gFWYQAMWEraetrqIwDluXU14rP1AICi6B+AMukfAOif/gIok/4CoET6B6BM+gdYhQEwYCmXzwcAhfqVFagAKIz+ASiX/gGAfukvgHLpLwBKo38AyqV/gGUZAAMWllYeEaAA5UqrUG1uBAAUQf8AlE3/AEB/9BdA2fQXACXRPwBl0z/AsgyAAQu7butRgOKtnwsAKIL+AUD/AEA/9BcA+guAUugfAPQPsAwDYMDCLtp6FKB462cDAIqgfwDQPwDQD/0FgP4CoBT6BwD9AyzDABiwkLT6SNqCGoCybd6J+MyKVABMnP4BINE/ANA9/QVAor8AKIH+ASDRP8AyDIABC7l8PgDgnk8cEwCYOP0DwDb9AwDd0l8AbNNfAEyd/gFgm/4BFmUADGgsTZsLUAC2XbuwdWzYCACYJP0DwE76BwC6o78A2El/ATBl+geAnfQPsCgDYEBj6UQDALbde2Py/QCASdI/AOykfwCgO/oLgJ30FwBTpn8A2En/AIsyAAY0ZvURAPby5iQAU6V/ANhL/wBAN/QXAHvpLwCmSv8AsJf+ARZhAAxo5PaNiOvrAQC7pGODbagBmBr9A8B+9A8AtE9/AbAf/QXAFOkfAPajf4BFGAADGhGfAMyyfi4AYFL0DwCz6B8AaJf+AmAW/QXA1OgfAGbRP0BTBsCARi45uQBgBm9SAjA1+geAWfQPALRLfwEwi/4CYGr0DwCz6B+gKQNgQK20/fTNKwEA+0oBuvFFAMAk6B8A5tE/ANAe/QXAPPoLgCnRPwDMo3+ApgyAAbU+/SgAYK6//csAgEnQPwDU0T8A0A79BUAd/QXAVOgfAOroH6AJA2BArcvnAwDmsg01AFOhfwCoo38AoB36C4A6+guAqdA/ANTRP0ATBsCAuWw/DUATtqEGYAr0DwBN6B8AWJ3+AqAJ/QXAFOgfAJrQP0ATBsCAuUyUA9DUtQsBAKOmfwBoSv8AwGr0FwBN6S8Axk7/ANCU/gHqGAAD5rL9NABNCVAAxk7/ANCU/gGA1egvAJrSXwCMnf4BoCn9A9QxAAbMlLaftgIJAE2lY8bmRgDAKOkfABahfwBgefoLgEXoLwDGTP8AsAj9A9QxAAbMJD4BWNS1jwIARkn/ALAo/QMAy9FfACxKfwEwVvoHgEXpH2AeA2DATJ86iQBgQd68BGCs9A8Ai9I/ALAc/QXAovQXAGOlfwBYlP4B5jEABsz0mZMIABZ07UIAwCjpHwAWpX8AYDn6C4BF6S8Axkr/ALAo/QPMYwAM2FeaIN/cCABYyOYdb2ACMD76B4Bl6B8AWJz+AmAZ+guAMdI/ACxD/wDzGAAD9mX7aQCW9bkABWBk9A8Ay9I/ALAY/QXAsvQXAGOjfwBYlv4BZjEABuzr5pUAgKVcF6AAjIz+AWBZ+gcAFqO/AFiW/gJgbPQPAMvSP8AsBsCAB6TtQ508ALCsdAzZ3AgAGAX9A8Aq9A8ANKe/AFiF/gJgTPQPAKvQP8AsBsCAB3z2NwEAK/nsUgDAKOgfAFalfwCgGf0FwKr0FwBjoX8AWJX+AfZjAAx4wOdOGgBY0efezARgJPQPAKvSPwDQjP4CYFX6C4Cx0D8ArEr/APsxAAY8wPbTAKzqM8cSAEZC/wCwKv0DAM3oLwBWpb8AGAv9A8Cq9A+wHwNgwC6bdyJuXgkAWMmtq1vHlI0AgKzpHwDaoH8AoJ7+AqAN+guAMdA/ALRB/wD7MQAG7PKZLUMBaMlnlwIAsqZ/AGiL/gGA+fQXAG3RXwDkTv8A0Bb9A+xlAAzY5XMnCwC05HNvagKQOf0DQFv0DwDMp78AaIv+AiB3+geAtugfYC8DYMAutp8GoC03rwYAZE3/ANAW/QMA8+kvANqivwDInf4BoC36B9jLABiwy/X1AIBWpGPK5kYAQLb0DwBt0T8AMJ/+AqAt+guA3OkfANqif4C9DIABXxGfALTt76xCAkCm9A8AbdM/ALA//QVA2/QXALnSPwC0Tf8AOxkAA75yy0kCAC37T44tAGRK/wDQNv0DAPvTXwC0TX8BkCv9A0Db9A+wkwEw4CtWIAGgbTevBABkSf8A0Db9AwD7018AtE1/AZAr/QNA2/QPsJMBMOArt28EALTKm5sA5Er/ANA2/QMA+9NfALRNfwGQK/0DQNv0D7CTATDgns07psQBaF96c3NzIwAgK/oHgC7oHwB4kP4CoAv6C4Ac6R8AuqB/gJ0MgAH3iE8AuvJ3VwMAsqJ/AOiK/gGA3fQXAF3RXwDkRv8A0BX9A2wzAAbcc8vJAQAd+U+OMQBkRv8A0BX9AwC76S8AuqK/AMiN/gGgK/oH2GYADLjn+noAQCescgVAbvQPAF3RPwCwm/4CoCv6C4Dc6B8AuqJ/gG0GwIB7bt8IAOiEAAUgN/oHgK7oHwDYTX8B0BX9BUBu9A8AXdE/wDYDYMA9Tg4A6Io3OQHIjf4BoCv6BwB2018AdEV/AZAb/QNAV/QPsM0AGBC3xCcAHdq8E7HxRQBAFvQPAF3SPwBwn/4CoEv6C4Cc6B8AuqR/gG0GwID40mQ4AB37O292ApAJ/QNA1/QPAFT0FwBd018A5EL/ANA1/QMkBsCAuHU1AKBTG97sBCAT+geArukfAKjoLwC6pr8AyIX+AaBr+gdIDIABAhSAzt20AgkAmdA/AHRN/wBARX8B0DX9BUAu9A8AXdM/QGIADIi7GwEAnRKgAORC/wDQNf0DABX9BUDX9BcAudA/AHRN/wCJATAgblqBBICO3bYFNQCZ0D8AdE3/AEBFfwHQNf0FQC70DwBd0z9A8nAARdu8s/WwAgks7JHH5n89/V7dvRPAb20fb9YOBQAMRv/A6upaaCcXISiV/gEA/QVNPH4i4vBTEUeOVY90/rjdXHd/+zuUuurWleqG4uvrOgv20l8A5ED/wP4OHKya58nnIw5ttc6Rp6o/1z2wHP0DJAbAoHC2BIXFpAB98bXqotw8KUbffT2AHb7ceoPmiAAFYED6B1aTeuj7P6su2DXxzo9cpKNc+geA0ukv2F/qqeOvVo95bZW+lh6pw3Zek0rXny6frx5ARX8BMDT9A7ulhnnmpYgnTi7XPWkYbP2cYTDYj/4BDIBB4e5afQQaSxfjnj3V/GZHYLdbV++v5gMAQ9A/sBo9BM3pHwBKp79gt6aDX3XSTZHpkfrs4hmDYJDoLwCGpn+gst0qdQur10m7hqUF2tPwV2qe1D5ARf8ABsCgcBtfBFCj6a5fwHxpG2oAGJL+geWllRrTA2hG/wBQOv0F96WbF7/3R9X1prbsvHaVboa0Kj4l018ADE3/QMQLP4k4/kq0KnVPGihL16d+8UY1+AKl0z+AATAonIsBMJ9dv6A9t38dADAo/QPL2b7ABjSnfwAonf6CSrrO9MKPozPpRsg0BPbu637vKJf+AmBozsMoWbqGlBa8ONzhjkTp7/gnP6sWv7AbGKXTP8BDARRNgML+Uji+/FZ1Uc7wF7TjS8ccAAamf2A5afirzZXqoQT6B4DS6S+oWqrL4a9tqde+/6cRh48FFEl/ATA0/UOptu+v63L4a6fUWBYspHT6BzAABoW7uxHAHikUv/+zasVEoD3e9ARgaPoHFpe6KK0oDyxG/wBQOv1F6dLOX33emHjgUMT3/tjiHZRJfwEwNP1DibaHv/puEENglE7/AA8HUDQnA3BfWo3k//in/a1KAqXZvBMAMCj9A4t78bUAlqB/ACid/qJk6QbIRXf+urt1/rhxY/fNw+l61YGDjX/Evb/3e38U8W//v4Ci6C8AhqZ/KNHJnyw+/HV9PeLWlYgvv9g6h9tqn7VDEY9+o2qfRRZqTwNg6edc+yigOPoHMAAGhROgUF0863slRiiRYw4AQ3MsgsWkRrJ6PCzHMQeA0jkWUqp0zSmtgt9EGvr65C+rmxbTjZD7SU2WboRs2mfpxsn03ItnAorhmAPA0ByLKE1qjiefb/bc1D2XzlaPu3MGV1LvPPNSdQ9fk4UwvvvaVkf9aP7PhClyzAEeCqBYTgSgumj2/Z8tNvw16yIcUG/jiwCAQegfWEy60GaRDFiN/gGgVPqLkj37w2aDWula01/8NOLDt+dfd0q/T5fPR7zzo+ZDXcdfsZgH5dFfAAxF/1Ca1BppSKuJ7e5JLVM3qJV+l9Lz0vNvXY1aBw5Vu5BBifQPlM0AGBQsbaMLJUvDX2kVxqYXwVKIfnA64t3XA1jSf7sdADAI/QOLabpiPTCb/gGgVPqLUt27EfKV+uelmxrTtaZFbxZO39dkCCzdCHmiwb8DpkR/ATAU/UNp0uKBTXboSgtZLNM96fn/9qfV99dJO4al+/+gNPoHymYADApm+1to7tpHEf/6/20Wl8Bsm449AAxE/0BzaeXGuoUyLvw8gBr6B4BS6S9K1WQX5aZDXPO+/9K5+uc9/VKzmzJhKvQXAEPRP5QkXTtKQ1d10n12aZH1VaTvb3KfXpMOg6nRP1A2A2BQsC9/HUCNtKpIWo3kvTe8aQNtWHRlHwBoi/6BZtLFu7qV4tMFt3TxDphP/wBQKv1FiZrcCHnrymrDX9s+/Hn9uWbaBezpBjdmwlToLwCGon8oSZPdttJ5WVuLCF54u/48L/2bLH5BafQPlM0AGBTsN/8lgDkunY34i59GXF8PoCVWIAFgKPoHmkkrJc7b/StdUGjjhkUogf4BoFT6ixI1WXX+F29Ga5qspt/k5kyYCv0FwFD0DyU58Wr9c9I1pLaGU+5uNGuf4w3+XTAl+gfKZgAMCpZOkIEHbe/69eHbdv2Ctjn2ADAUxyCol1arr1uxvs0LdzB1jj0AlMoxkNKk3bb6bqm0eGHdNSwDYJTEsQeAoTgGUYrUPYePzX9Oap7L56NVqX3qFm8//kpAURx7oGwPB1AsU+DwoLTrV7oIZ/ALurEpQAEYiP6B+dKuX3Ur1qeLdm1fuIMp0z8AlEp/UZonnq9/Thctla5p1Q2epdaziAcl0F8ADEX/UIq64a9k/Wx04tpH8xe4SMNp6et1g2IwFfoHymYADApmChzuSxe/0pbRQhC6ZbgSgKHoH5jvxKvVjYGzpPO4tFgG0Jz+AaBU+ovS1A1hpeGvLoawUqPpNKjoLwCGon8oxeGn6p/T1X13n16IeOHH859jAIyS6B8omwEwKJgVSKBi1y/ojzc/ARiK/oHZ0uDX8VfmPyd1k1XjYTH6B4BS6S9KM28l+sROytA9/QXAUPQPpXj0sfrn3LoanUjXp9J9fQcOzn5OXZfBlOgfKJsBMCiYkwBKl+Lw3det/gF98uYnAEPRPzDby2/N/3pqJ6vKw+L0DwCl0l+UpO4mw/T74DoUdE9/ATAU/UMp1g7O/3rXiwhubP38A8dmf/3wnK/B1OgfKNtDAQCFSuHpohsAAFCyZ09VO4DNkxbOAAAA4EF1A2CuQwEAAKyubtjywKH6610AMAUGwKBgpsAB6FvXK/4AwCz6Bx6ULoSlAbB5Lp11DgfL8rsDQKn0FyXpYgAstdr2A2hGfwEwFP0D+Tj8VEAR9A+U7eEAimULagAAoBT6Bx704mvzv54uHlw8EwAAsBD9RUnqbjC8dXX+1w8cjHj6DyKOHKuGyfYb+rp7Z+vnXIm49lHEpxfc6AUAkBP9A5W1g9GpJsNdBzr+NwBADgyAAQAAAEBhnnmpfqX6NPx11+qlAAAA+zpwqP4GwzS4tZ/UY2lH5rouu/f3HKyelx4v/LjaVezy+eoBAADQh7qFKFIfpQUtuliwIv3cJsNddlEGoAQGwAAAAACgIOkCWLrRcB43EwIAAMx3+Fj9c/YuqpFuWvzuP4t48vlY2vYwWFrY44PTdgQDAAC616Q7ntjqnEvnonVNFs5IDIABUIKHAiiWiwEA9M2xB4ChOAbBfWn4a95FsPT7knb/Albj2ANAqRwDKUVa4X6evb8L6abF7/9steGvvT/vB38ecfyVgOI59gAwFMcgSjFrd+OdnjwZnahb1BBK49gDZTMABgAAAACFSCvEp8c8afjLhQMAAID5DtWsLr+zq1KHvfxWNyvSv/ATN0QCAADdunn1wR2O99rerbhNqaWadpQdwAAogQEwAAAAACjAgYP1NwWmFRwvnw8AAABqpMZqIu349eJr0anUeobAAACALn3S4PpRm12SBrp0DgDsZgAMAAAAAApw/NX61Q9/8WYAAADQQF1f3d2onnPyJ9GLdGPk8VcCAACgE9cu1D8n7QDW1tBWaim7egHAbg8HAAAAADBpTVZJvHgm4vaNAAAAoCVp5695NyxeX4+49lH1cePXEXfvVH9++KmIR7e+74nnI555KRp74ScRt65WPw8AAKBNqTPSIw15zbN9PSpdd1pWaqm0mzIAsJsBMAAAAACYuJffmv/1NPi1yoU4AACA0tStRP/kydlfSzdNpgabNah160r1SCvsp+elGyibDoKlGyX/4qf3h8kAAADakvqk7ppTsuwQWOqs1DR1Q2YAUKqHAgAAAACYrHSRre7GxA9OBwAAAD1IN0C++3rzXbrSgh2p2d57s9lQV+q/468GAABA67Z3MW4iXZ/6wZ83W8ziwMHq+d//2ezhL4tcAIAdwAAAAABgsprc+Hf5fPMbDwEAAFheGuRKDbaMtBvYlzeq1fbTzZHzHH8l4tJZN0gCAADt++VW1xz50/rFB5PtHb3ScNfNK1vXoy5FbG7c//qRYxGHn6rf8SstpJF+1rxhsrsbAQCTZwAMAAAAACYqXVCbd2NgWkk+XTQDAACgW6m9lh3+2nbrSnWz5R/+0fznHTgU8cTJ1f8+AACAvdKg1S/ejPgnf9r8e9LwVno8eTIWtn0t63s1HbRpAQwACvBQAAAAAACTk1ZBnLcSYpIumKULZwAAAHQn7brc1uIbaSewJoNddT0IAACwrLQ4RdrhuGvpGta7r1efrx2qfy4ATJ0BMChYky14AaBNjj0ADMUxiNKk/+fT7l/zpBsGrQYP3XHsAaBUjoGUYnOj+XPbvjGyyTDZ4WPzd4SGKXHsAWAojkGULF1jeu/NiLsd7by1PfzVdLDr7gKNBmPm2ANlMwAGAAAAABOThr/mvfmfLsa1tfo8AABAiZre5Jhuimx7Jfr08z69MP85Bw5FHH4qAAAAOpN2KP6Ln7bfPNc+evDn1g293P4iAGDyDIABAAAAwIQ8fiLimZfmP+fS2fYvxgEAAJRks+EAWLpxsQuX369/TtoFDAAAoEvpetM7P6oWHlz12lP6/vfeqB57F92oHQD7dQDA5D0cAADQk7WDAQBAx158bf7X08Uzu39B9/QPAMC03d1o9rzP/yY6cX29/jmPPhZQBP0FADC8dO0p7YCcFip89lT9wNZOqW/S96adjvfbbbnJz9qw8CGF0D9QNgNgULB0Umy1bwD6dOBQAMAg9A+laHJB7d3XA+iB/gGgVPqLUjT5//zm1f1vXmxDGkBLP/vAnBu/1pyTUgj9BcBQ9A/sln4f0iBXehx+qhoGe/Qb1edJ+p1Juyl/ufW8jV9XzZSGv+p+j+qufXXZXpAb/QNlMwAGAAAAABOQLn6lAbB50gU3F6MBAABWd+tK/XM2G+4Stqz08w9Y+RsAAMhQaqYm3dREGiSb5/avAwCKYAAMCmYKHIC+2YIagKHoH0rw4mv1z0krLL78VqysyQ2G8/496SbFX7wZMGn6B4BS6S9KYXV5yIf+AmAo+gf6UTcAlnYRg1LoHyibATAomJMAAPrmzU8AhqJ/oHLkWPRm3sU4u5BRAv0DQKn0F6VIXZOGwOYtkLHW8TnhmnNOuEd/ATAU/QP9qBsAu3U1oBj6B8r2UADFchIAQN8OePMTgIHoHwD6pn8AKJX+oiSf/838rz/yjehM+l2rO+dMuy9DCfQXAEPRP9C9J0/O/3panMMOYJRE/0DZ7AAGBbMCCQB9sxopAEPRPwD0Tf8AUCr9RUk+uxTxxJybEdMNwY881s0uyIcb7PD8pd2XKYT+AmAo+oeS1O3Clbqni/Z55vfnf93wF6XRP1A2A2BQMCuQANA3xx4AhuIYBEDfHHsAKJVjICWp2wEseealiItnonXp59a5dTWgCI49AAzFMYhSpP/XX35r/nPSINa7r0er0oIaT9TsAHbto4CiOPZA2R4KoFhf/90AgF5Z/QqAoegfAPqmfwAolf6iJDev1q9wf/yV6ETd6vuJlfAphf4CYCj6h1Lc3ahvn7RL8YGWz8uePTX/6+nf9OmFgKLoHyibATAo2KPfDADoVVqZBwCGoH8A6Jv+AaBU+ovSXD4//+tpZe62h8DSTZB155vX3ARJQfQXAEPRP5SkboGJe+3zarQmnePV7Xxs0QtKpH+gbA8HUKwDpsAB6JkVSAAYiv6hBNc+ql99sS3pwkLdavPpZsPNO/t/7e6dgMnTPwCUSn9Rmkvnqpsc5/2/nwa2Pm2p2VKP1a2Cn6S/D0qhvwAYiv6hJGnxi7qBrLT4xaWzq18HSr9bL79V/7yLZwKKo3+gbAbAoGBrhwIAevUPHgkAGIT+oQTpglpf0vBX3YW3C2/3N5AGOdI/AJRKf1GauxsRn16YfyNkWgn/e38U8e7rq90I2fQmyNRidTuTwZToLwCGon8oya2rVc/MG3xM7fPd1yLeezNW8t1/Vr/LUWoe16Eokf6Bsj0UQLFsAwpA3w59IwBgEPoHgL7pHwBKpb8oUVp1vm6w6/BT1fDWsr8j6fuafr9V8CmN/gJgKPqHkqTFL5osRvjkyWa7Fu9ne9GLJ5+f/7zUX7qHUukfKJsBMCicCAWgL445AAzNsQiAvjjmAFA6x0JKk1adb3Ij5LJDYNu7MKfvb/JvsfsXJXHMAWBojkWU5NK5ZrsapwGwRdsndc/3f1Z9rP13nLX7F2VyzAEeDqBoactdJ8IA9EGAAjA0/QNAX/QPAKXTX5Qo3Qj5zEv154Lp6z/482pIKz2ur89+brrxMd042eQGyG1Wwac0+guAoekfSpJ2AfvVv4o4+ZP656aO2dk+t648ODyWzuWeOFnt+NW0e9Lvm+6hVPoHMAAGhUsnAzevBAB0bu1gAMCg9A8AfdE/AJROf1GidCPkL96sVrk/0OB8MA2LpUe6ATLdCLnzpuEjxyIOfbPZz9kp3QRp9y9Ko78AGJr+oTTr56qhraYDW9vtk6T+2dyoPl9mkCV107uvBxRL/wAGwKBwpsEB6MujjjkADEz/ANAX/QNA6fQXpUqDXBd+HvHia82/Jw15LbLD1yzXPrIKPmXSXwAMTf9QovfejPj+ny7+/3/qnwNLDrCk4bG06IYd9yiZ/gEeCqBoAhSAvjzyzQCAQekfAPqifwAonf6iZGkHrg9OR6+ur0f88l8EFEl/ATA0/UOJ0g7IaSeuvoax0vBXWmzjlt32KJz+AQyAQeG+/rsBAL045E1PAAamfwDoi/4BoHT6i9KlIbC+boa8dLb6u9INkVAi/QXA0PQPpUq900f3bP89qbOgdPoHMAAGhfuHTwUA9GLZLdwBoC36B4C+6B8ASqe/oNqVK92k+OmF6EQa+HrvjYgP3w4omv4CYGj6h5Kl4ax3fhRx8Ux0Yrur7PwFFf0DPBxA0WwHCkBfjhwLABiU/gGgL/oHgNLpL6ikmyF/8WbEMy9FPHtq63ejhZW60+BX2vUrPez6BfoLgOHpH6gGwNIOXS++FvH4iVhZaqkLP4+49lEAO+gfwAAYFG7t4NbjUMTmRgBAZ7aPNwAwJP0DQB/0DwDoL9gr3QiZHulGyDQMlj4uOgyWVr5PD4NfcJ/+AiAH+gcqaWgr7daVWictgLFs96RhsvQR2E3/AIkBMCAe3TrJvilAYSE//14ACzjyVABAFvQPtCNdeNNFsD/9AwAV/QUP2h7iSg4/Va3cnR6Hvhlx4ODu56abJ7cfn14w9AX70V8A5EL/wH2pYT44XX2euicNgj36jdndc/NqxK0r1UP3wGz6B0gMgAFxeOuiws0rAQCdWTsYAJAF/QNA1/QPAFT0F8y3fYPj5QCWpb8AyIX+gf1tdw+wOv0DJA8FUDxT4QB0zbEGgFw4JgHQNccaAKg4JgLQNccaAHLhmARA1xxrgMQAGBCHvhEA0KnDAhSATOgfALqmfwCgor8A6Jr+AiAX+geArukfIDEABpgKB6Bzj3izE4BM6B8AuqZ/AKCivwDomv4CIBf6B4Cu6R8gMQAGxCOPRawdCgDojDc7AciF/gGga/oHACr6C4Cu6S8AcqF/AOia/gESA2DAPY8+FgDQicPHAgCyon8A6Ir+AYDd9BcAXdFfAORG/wDQFf0DbDMABtzj5ACArjziTU4AMqN/AOiK/gGA3fQXAF3RXwDkRv8A0BX9A2wzAAbcY2tQALpy9NsBAFnRPwB0Rf8AwG76C4Cu6C8AcqN/AOiK/gG2GQAD7rECCQBdcYwBIDeOTQB0xTEGAHZzbASgK44xAOTGsQmArjjGANsMgAH3WIEEgK4cEaAAZEb/ANAV/QMAu+kvALqivwDIjf4BoCv6B9hmAAy4Z+1gxCOPBQC0Kq0+snYoACAr+geALugfAHiQ/gKgC/oLgBzpHwC6oH+AnQyAAV95/EQAQKu8uQlArvQPAG3TPwCwP/0FQNv0FwC50j8AtE3/ADsZAAO+YhtqANp29NsBAFnSPwC0Tf8AwP70FwBt018A5Er/ANA2/QPsZAAM+EraJhQA2uTYAkCuHKMAaJtjCwDszzESgLY5tgCQK8coANrm2ALsZAAM+IoVSABo2+MnAgCypH8AaJv+AYD96S8A2qa/AMiV/gGgbfoH2MkAGPCVtYNOFABoj2MKADnTPwC0yTEFAGbTXwC0yTEFgJzpHwDa5JgC7GUADNjFKiQAtOWI7acByJz+AaAt+gcA5tNfALRFfwGQO/0DQFv0D7CXATBgl28dDwBoxbe+HQCQNf0DQFv0DwDMp78AaIv+AiB3+geAtugfYC8DYMAuR50sANCSo97UBCBz+geAtugfAJhPfwHQFv0FQO70DwBt0T/AXgbAgF3WDtqGGoDVHT62dUw5FACQNf0DQBv0DwDU018AtEF/ATAG+geANugfYD8GwIAHPH4iAGAlRx1LABgJ/QPAqvQPADSjvwBYlf4CYCz0DwCr0j/AfgyAAQ/4li1DAVjRt74dADAK+geAVekfAGhGfwGwKv0FwFjoHwBWpX+A/RgAAx5w1EkDACs66s1MAEZC/wCwKv0DAM3oLwBWpb8AGAv9A8Cq9A+wHwNgwAPWDtqGGoDlpWPI2qEAgFHQPwCsQv8AQHP6C4BV6C8AxkT/ALAK/QPMYgAM2NdRAQrAko4cCwAYFf0DwLL0DwAsRn8BsCz9BcDY6B8AlqV/gFkMgAH7+pYABWBJT5wMABgV/QPAsvQPACxGfwGwLP0FwNjoHwCWpX+AWQyAAfuyfSgAy1g7WB1DAGBM9A8Ay9A/ALA4/QXAMvQXAGOkfwBYhv4B5jEABsz05PMBAAsRnwCMlf4BYFH6BwCWo78AWJT+AmCs9A8Ai9I/wDwGwICZvnU8AGAhT9p+GoCR0j8ALEr/AMBy9BcAi9JfAIyV/gFgUfoHmMcAGDDTsRcCABZiBRIAxkr/ALAo/QMAy9FfACxKfwEwVvoHgEXpH2AeA2DATGsHnUgA0Fw6ZjzyWADAKOkfABahfwBgefoLgEXoLwDGTP8AsAj9A9QxAAbMZStRAJp65qUAgFHTPwA0pX8AYDX6C4Cm9BcAY6d/AGhK/wB1DIABcz3xfABAI1atAmDs9A8ATekfAFiN/gKgKf0FwNjpHwCa0j9AHQNgwFxpK1EnFADUOXzM9tMAjJ/+AaAJ/QMAq9NfADShvwCYAv0DQBP6B2jCABhQ66gABaDGP/qDAIBJ0D8A1NE/ANAO/QVAHf0FwFToHwDq6B+gCQNgQK2nXwoAmOuJ5wMAJkH/AFBH/wBAO/QXAHX0FwBToX8AqKN/gCYMgAG1bEMNwDy2nwZgSvQPAPPoHwBoj/4CYB79BcCU6B8A5tE/QFMGwIBGbEMNwCwnXg0AmBT9A8As+gcA2qW/AJhFfwEwNfoHgFn0D9CUATCgkeNOLgCYwSpVAEyN/gFgFv0DAO3SXwDMor8AmBr9A8As+gdoygAY0MjaQScYADwoHRtsPw3A1OgfAPajfwCgffoLgP3oLwCmSP8AsB/9AyzCABjQ2JMnAwB2eealAIBJ0j8A7KV/AKAb+guAvfQXAFOlfwDYS/8AizAABjSWTjLWDgUAfOXJ5wMAJkn/ALCX/gGAbuiv/87e3fPIeZ13HL5tI5sAXLrxIgxYmSRAqghXhSkEWqmhoTU7ZVmHVRoqrRm4tJyUApw+PVULcWcriDs5gMTCTArZgGU3oSNHaWIaSJjC2aPRRCTFXc7L83Kfc64LGAypD/A886PwPweAp+kvAFqlfwB4mv4B1mEABqysXEPthwYAS/5hEoCW6R8AHqd/AGA8+guAx+kvAFqmfwB4nP4B1mUABqzFVaMALHknANA67zoAlrwTAGBc3rUALHknANA67zoAlrwTgHUZgAFrOb9vbQ5AxNlzi3cCALRM/wBQ6B8AGJ/+AqDQXwD0QP8AUOgfYBMGYMDaXjwKADp37VYAQBf0DwD6BwCmob8A0F8A9EL/AKB/gE0YgAFru3ozAOic00cA6IX+AUD/AMA09BcA+guAXugfAPQPsAkDMGBtO2f88ADo2ZXDxRXUANAD/QPQN/0DANPRXwB9018A9ET/APRN/wCbMgADNuLqUYB+lQAFgJ7oH4B+6R8AmJb+AuiX/gKgN/oHoF/6B9iUARiwkXICyd6lAKAz5eQRp1AB0Bv9A9An/QMA09NfAH3SXwD0SP8A9En/ANswAAM2ZoEO0B8nUAHQK/0D0B/9AwDz0F8A/dFfAPRK/wD0R/8A2zAAAzZWAnRnNwDoRDl95MLLAQBd0j8AfdE/ADAf/QXQF/0FQM/0D0Bf9A+wLQMwYGM7ZyJePAoAOlGunvYPjwD0Sv8A9EX/AMB89BdAX/QXAD3TPwB90T/AtgzAgK1cdg01QDdcPw1A7/QPQD/0DwDMS38B9EN/AdA7/QPQD/0DbMsADNhKuY60LNIBaNuVw8UzHwB6pn8A+qB/AGB++gugD/oLAPQPQC/0DzAEAzBgaxbpAO274sQpAPiU/gFon/4BgBz0F0D79BcALOgfgPbpH2AIBmDA1soJJE4hAWiX5zwAfM57EaBtnvMAkIf3MkDbPOcB4HPeiwBt85wHhmIABgzCKSQA7bp6MwCAx+gfgHbpHwDIRX8BtEt/AcCT9A9Au/QPMBQDMGAQ1ukAbTp7LuLCywEAPEb/ALRJ/wBAPvoLoE36CwC+SP8AtEn/AEMyAAMG4xQSgPZ4tgPAs3lHArTHsx0AcvKOBmiPZzsAPJt3JEB7PNuBIRmAAYMpJ5DsXQoAGlFOH7lyGADAM+gfgLboHwDIS38BtEV/AcDJ9A9AW/QPMDQDMGBQf/rnAUAjnD4CAKfTPwDt0D8AkJv+AmiH/gKA0+kfgHboH2BoBmDAoF741mKxDkDdnD4CAM+nfwDaoH8AID/9BdAG/QUAz6d/ANqgf4AxGIABgzu4HQBUzukjALAa/QNQP/0DAHXQXwD1018AsBr9A1A//QOMwQAMGNyFg4jz+wFApZw+AgCr0z8AddM/AFAP/QVQN/0FAKvTPwB10z/AWAzAgFFYrgPUyzMcANbj3QlQL89wAKiLdzdAvTzDAWA93p0A9fIMB8ZiAAaMopxA4hQSgPo4fQQA1qd/AOqkfwCgPvoLoE76CwDWp38A6qR/gDEZgAGjsWAHqM/1OwEAbED/ANRH/wBAnfQXQH30FwBsRv8A1Ef/AGMyAANG4xQSgLqUk0c8twFgM/oHoC76BwDqpb8A6qK/AGBz+gegLvoHGJsBGDAqS3aAejg5CgC2o38A6qF/AKBu+gugHvoLALajfwDqoX+AsRmAAaM6ey5i/2YAkFw5faQ8swGAzekfgDroHwCon/4CqIP+AoDt6R+AOugfYAoGYMDoyqJ9ZzcASKqEp9NHAGAY+gcgN/0DAO3QXwC56S8AGI7+AchN/wBTMQADRrdzJuLFowAgKaePAMBw9A9AbvoHANqhvwBy018AMBz9A5Cb/gGmYgAGTOLqTT9uADJy+ggADE//AOSkfwCgPfoLICf9BQDD0z8AOekfYEoGYMAkyikk1+8EAMmITwAYnv4ByEn/AEB79BdATvoLAIanfwBy0j/AlAzAgMmc3198AMihXD1dPgDA8PQPQC76BwDapb8ActFfADAe/QOQi/4BpmYABkyqnEKysxsAJOD0EQAYl/4ByEP/AEDb9BdAHvoLAMalfwDy0D/A1AzAgEmdPRfx4lEAMLMSn+WZDACMR/8A5KB/AKB9+gsgB/0FAOPTPwA56B9gDgZgwOSu3vSjB2BO5Rns9BEAmIb+AZiX/gGAfugvgHnpLwCYjv4BmJf+AeZiAAZMbufM4ipqAObhGQwA09E/APPyDAaAfugvgHl5BgPAdPQPwLw8g4G5GIABszi/H7F/MwCY2JXDxTMYAJiO/gGYh/4BgP7oL4B56C8AmJ7+AZiH/gHmZAAGzKZcf7qzGwBMxNXTADAf/QMwLf0DAP3SXwDT0l8AMB/9AzAt/QPMzQAMmM2nV1F/OwCYSInPEqEAwPT0D8C09A8A9Et/AUxLfwHAfPQPwLT0DzA3AzBgVhcOIr5+EACMrFw9XT4AwHz0D8A09A8AoL8ApqG/AGB++gdgGvoHyMAADJjdN++4ihpgTK6eBoA89A/AuPQPALCkvwDGpb8AIA/9AzAu/QNkYQAGzM5V1ADjcvU0AOShfwDGpX8AgCX9BTAu/QUAeegfgHHpHyALAzAgBVdRA4zD1dMAkI/+ARiH/gEAnqa/AMahvwAgH/0DMA79A2RiAAakUa6itpAHGI6rpwEgL/0DMCz9AwCcRH8BDEt/AUBe+gdgWPoHyMYADEjj06uo7wQAA7nuH/YAIC39AzAs/QMAnER/AQxLfwFAXvoHYFj6B8jGAAxI5fx+xP7NAGBL5eSR8kwFAPLSPwDD0D8AwPPoL4Bh6C8AyE//AAxD/wAZGYAB6ZQfTXuXAoANuXoaAOqhfwC2o38AgFXpL4Dt6C8AqIf+AdiO/gGyMgAD0ilXUd/47vH3bgCwpvLsfP2tAAAqoX8ANqd/AIB16C+AzekvAKiL/gHYnP4BMjMAA1L6dD3/FwHAml66tXiGAgD10D8Am9E/AMC69BfAZvQXANRH/wBsRv8AmRmAAWnt31x8AFjN/lHE1aMAACqkfwDWo38AgE3pL4D16C8AqJf+AViP/gGyMwADUrtmSQ+wkk9PbroVAEDF9A/AavQPALAt/QWwGv0FAPXTPwCr0T9ADQzAgNR2zkS8/tbx924AcILyjPSsBID66R+A59M/AMAQ9BfA8+kvAGiD/gF4Pv0D1MIADEivrOpfuR0AnOAlpzUBQDP0D8Dp9A8AMBT9BXA6/QUA7dA/AKfTP0AtDMCAKlw5jNi/GQA8pVw7ffUoAICG6B+AZ9M/AMDQ9BfAs+kvAGiP/gF4Nv0D1MQADKjGwe2I8/sBwGf2Li4CFABoj/4BeJL+AQDGor8AnqS/AKBd+gfgSfoHqI0BGFCV63dcswpQlGfhjTcDAGiY/gFY0D8AwNj0F8CC/gKA9ukfgAX9A9TIAAyoyvIH185uAHSrPANff8s/yAFA6/QPgP4BAKahvwD0FwD0Qv8A6B+gXgZgQHXKlauv3A6Abr10S3wCQC/0D9A7/QMATEV/Ab3TXwDQD/0D9E7/ALUyAAOqdOVw8QMMoDfXjp99V48CAOiI/gF6pX8AgKnpL6BX+gsA+qN/gF7pH6BmBmBAtb5x/CPs8msB0I39o0WAAgD90T9Ab/QPADAX/QX0Rn8BQL/0D9Ab/QPUzgAMqNqrfxWxdykAmrd3UXwCQO/0D9AL/QMAzE1/Ab3QXwCA/gF6oX+AFhiAAVXbORNx47sRZ88FQLPKM+7Gm8fPvN0AADqmf4Ae6B8AIAP9BfRAfwEAhf4BeqB/gFYYgAHVKz/MXn9LhAJt8owDAB7ntwHQMs84ACATv02AlnnGAQCP89sAaJlnHNASAzCgCdb5QIvKM60828QnAPA4/QO0SP8AABnpL6BF+gsAeBb9A7RI/wCtMQADmrF3MeKV2wHQjOvfXjzbAACepn+A1ugfACAr/QW0Rn8BACfRP0Br9A/QGgMwoClXDiMORCjQgFfeiLhwEAAAJ9I/QCv0DwCQnf4CWqG/AIDn0T9AK/QP0CIDMKA5+zcjXroVANW6dvwMu3oUAADPpX+A2ukfAKAW+guonf4CAFalf4Da6R+gVV/53rEAaMz5/YgvHX8/uB8AVSnxec0/ogEAa9A/QK30DwBQG/0F1Ep/AQDr0j9ArfQP0DIDMKBZIhSojfgEADalf4Da6B8AoFb6C6iN/gIANqV/gNroH6B1Xw6Ahn3j1uJKaoDsxCcAsC39A9RC/wAAtdNfQC30FwCwLf0D1EL/AD0wAAOad3A74vJrAZDWlUPxCQAMQ/8A2ekfAKAV+gvITn8BAEPRP0B2+gfohQEY0IVv/rUIBXIq8Xn9TgAADEb/AFnpHwCgNfoLyEp/AQBD0z9AVvoH6IkBGNANEQpkIz4BgLHoHyAb/QMAtEp/AdnoLwBgLPoHyEb/AL0xAAO6IkKBLMQnADA2/QNkoX8AgNbpLyAL/QUAjE3/AFnoH6BHX/r9sQDozL27Ee/fDYBZ7B9FHLwRAACT0D/AnPQPANAT/QXMSX8BAFPSP8Cc9A/Qq69871gAdOb8fsSXjr8f3A+ASV27FfFnfxkAAJPRP8Bc9A8A0Bv9BcxFfwEAU9M/wFz0D9AzAzCgWyIUmFqJz/IBAJia/gGmpn8AgF7pL2Bq+gsAmIv+Aaamf4DeGYABXROhwFTEJwAwN/0DTEX/AAC901/AVPQXADA3/QNMRf8AHP/u+v2xAOjc/Xci3vv7ABjFK29EXD0KAIAU9A8wJv0DAPA5/QWMSX8BAJnoH2BM+gdgwQAM4DO/fC/ix38X8ehhAAxiZzfi1dsRlw8DACAV/QMMTf8AADyb/gKGpr8AgKz0DzA0/QPwJAMwgMd88lHED/8m4rcfB8BWzp6LuPFmxN7FAABISf8AQ9E/AACn01/AUPQXAJCd/gGGon8AvsgADOApJT5/8B0RCmyuxOfrby2+AQAy0z/AtvQPAMBq9BewLf0FANRC/wDb0j8Az/blAOAJyx+Oe5cCYG3lxBHxCQDUQv8A29A/AACr01/ANvQXAFAT/QNsQ/8AnMwNYAAnePS7iA/uRtx/JwBWcuUw4pXbETu7AQBQFf0DrEv/AABsRn8B69JfAECt9A+wLv0DcDoDMIDnuHccoe/fDYBTXbu1+AAA1Ez/AKvQPwAA29NfwCr0FwDQAv0DrEL/ADyfARjACsopJB+8HfHoYQA8oZw28urtiMuHAQDQBP0DnET/AAAMS38BJ9FfAEBr9A9wEv0DsDoDMIAV/fbjiB98Z/ENUJw9F3HjzYi9iwEA0BT9AzxN/wAAjEN/AU/TXwBAq/QP8DT9A7AeAzCANZT4/OHfRnzyiwA6d34/4vqdRYQCALRI/wBL+gcAYFz6C1jSXwBA6/QPsKR/ANZnAAawgXt3I96/G0Cn9o8iDt4IAIAu6B/om/4BAJiO/oK+6S8AoCf6B/qmfwA2YwAGsKH770R88HbEo4cBdGJnN+LV2xGXDwMAoCv6B/qjfwAA5qG/oD/6CwDolf6B/ugfgO0YgAFsoVxJ/YPvLL6BtpWrpl9/y5XTAEC/9A/0Q/8AAMxLf0E/9BcA0Dv9A/3QPwDbMwAD2NKj30V8cHdxIgnQpnLl9LVbixNIAAB6pn+gffoHACAH/QXt018AAAv6B9qnfwCGYQAGMBBXUkN7SnC+dByeV48CAIDH6B9oj/4BAMhJf0F79BcAwLPpH2iP/gEYlgEYwIBcSQ3t2LsYceNNV04DAJxE/0A79A8AQG76C9qhvwAATqd/oB36B2B4BmAAI7h3N+L9uwFUypXTAACr0z9QN/0DAFAP/QV1018AAKvTP1A3/QMwDgMwgJE8uB/x4+87jQRqUk4buX4n4vx+AACwBv0D9dE/AAB10l9QH/0FALAZ/QP10T8A4zIAAxhRic8P7kb87N0Akvv6QcQ3v+3UEQCATekfqIf+AQCom/6CeugvAIDt6B+oh/4BGJ8BGMAEPvxRxL23nUYCGZXgvH4cnhcOAgCAAegfyEv/AAC0RX9BXvoLAGBY+gfy0j8A0zEAA5iI00ggH6eOAACMQ/9APvoHAKBN+gvy0V8AAOPQP5CP/gGYlgEYwMScRgLzc+oIAMA09A/MT/8AAPRBf8H89BcAwDT0D8xP/wDMwwAMYAZOI4H57B9FXLvl1BEAgKnoH5iP/gEA6Iv+gvnoLwCAaekfmI/+AZiPARjAjB7cj/jx951GAlM4ey7i+p2I8/sBAMAM9A9MR/8AAPRNf8F09BcAwLz0D0xH/wDMzwAMIIF7dyPevxvACMpJI+XUkfJx6ggAwPz0D4xH/wAA8Dj9BePRXwAAuegfGI/+AcjDAAwgCddSw/DKaSPl1JFy+ggAAHnoHxie/gEA4Fn0FwxPfwEA5KR/YHj6ByAXAzCAZD78UcS9t11LDdtw3TQAQB30D2xP/wAAsAr9BdvTXwAAddA/sD39A5CTARhAUuVa6g/fFaKwDtdNAwDUSf/A+vQPAACb0F+wPv0FAFAn/QPr0z8AuRmAASTmWmpYXYnOa7eEJwBArfQPrE7/AACwDf0Fq9NfAAB10z+wOv0DkJ8BGEAFhCicrFwzXa6bLtdOAwBQP/0DJ9M/AAAMSX/ByUp/HbwRsXcxAABogP6Bk/n/TwD1MAADqMiv70f80/ddSw1FCc9y4kj5BgCgPfoHPqd/AAAYk/6Cz+kvAIC26R/4nP4BqI8BGECFPvxRxL23hSh9Ep4AAH3RP/RM/wAAMCX9Rc/0FwBAX/QPPdM/APUyAAOomBClJ+WK6YPbERcOAgCADukfeqJ/AACYk/6iJ/oLAKBv+oee6B+A+hmAATRAiNKyvYsRV29GXDkMAADQPzRN/wAAkIn+omX6CwCAx+kfWqZ/ANphAAbQECFKS1w1DQDAafQPLdE/AABkpr9oif4CAOA0+oeW6B+A9hiAATToVz+JuP9OxIP7AdURngAArEP/UDP9AwBATfQXNdNfAACsQ/9QM/0D0C4DMICG/fo4QD98N+Jn7wakJzwBANiG/qEm+gcAgJrpL2qivwAA2Ib+oSb6B6B9BmAAHShXUn9wd3EiieupyWRnN2L/KOLKYcTZcwEAAFvTP2SlfwAAaI3+Iiv9BQDA0PQPWekfgL4YgAF05NHDiI/ei7j3thBlXnsXIy5/K+KF1xYRCgAAQ9M/ZKF/AABonf4iC/0FAMDY9A9Z6B+APhmAAXTK9dTMwTXTAADMQf8wB/0DAECP9Bdz0F8AAMxB/zAH/QPQNwMwgM6Vk0j+7adOJWE8y2umy8dpIwAAzEn/MDb9AwAAC/qLsekvAACy0D+MTf8AsGQABsD/cyoJQymheeHliCuHThsBACAn/cNQ9A8AAJxOfzEU/QUAQHb6h6HoHwCexQAMgC949DDio/cifv6PEQ/uB6ysxObXDyJeeM1pIwAA1EH/sCn9AwAA69FfbEp/AQBQG/3DpvQPAKcxAAPgVMsrqv/1HyI++UXAF5ToLB9XTAMAUDv9w/PoHwAAGIb+4nn0FwAArdA/PI/+AWBVBmAArKzE6C9/EvHzd8Vo75bR+cJhxO65AACA5ugflvQPAACMS3+xpL8AAGid/mFJ/wCwCQMwADayPJnENdX9WF4vffFl0QkAQF/0T3/0DwAAzEN/9Ud/AQDQK/3TH/0DwLYMwADY2jJGf/XPixh99DBoQLlO+sLLi/As366XBgAA/dMq/QMAAPnorzbpLwAA+CL90yb9A8DQDMAAGNyvjyP0l+9FfPKR00lqs7xaevkBAABOp3/qpX8AAKAu+qte+gsAANajf+qlfwAYkwEYAKMqp5E8+Jfjz08X35/8Ikhk79JxaF49/ry4+HbKCAAAbE7/5KZ/AACgHforN/0FAADD0T+56R8ApmQABsCkHg9SJ5RMr5wqsndRcAIAwBT0z7z0DwAA9EN/zUt/AQDAdPTPvPQPAHMyAANgduXK6v/4LEYffuyUkqGcPbcIzq9dWkRn+QhOAACYl/4Zh/4BAACepr/Gob8AACAf/TMO/QNANgZgAKRTTin5z49E6apKVH71ODa/dlFsAgBAbfTPevQPAACwKf21Hv0FAAD10j/r0T8A1MIADIBqlAh9+JvFd7m+uoTq8rsHT4dm+XMJzd1zAQAANEb/6B8AAGAa+kt/AQBAL/SP/gGgbgZgAFRveWLJ//wu4r8+Po7Ufz/+/s3iv//248WnBuXK6D/cXQTlV//4+PtPjv9+ZhGcJTadKAIAAOgfAACAaegvAACgF/oHAOpgAAZAF8o11v99HKT/+1mkllgtgVo+5c/LvxePyt8fO9Vk1YA9e+7Zfy/hWEKyfMqfl38vUfkHx99/tOsUEQAAYDj6BwAAYBr6CwAA6IX+AYD5GYABAAAAAAAAAAAAAAAAJPXlAAAAAAAAAAAAAAAAACAlAzAAAAAAAAAAAAAAAACApAzAAAAAAAAAAAAAAAAAAJIyAAMAAAAAAAAAAAAAAABIygAMAAAAAAAAAAAAAAAAICkDMAAAAAAAAAAAAAAAAICkDMAAAAAAAAAAAAAAAAAAkjIAAwAAAAAAAAAAAAAAAEjKAAwAAAAAAAAAAAAAAAAgKQMwAAAAAAAAAAAAAAAAgKQMwAAAAAAAAAAAAAAAAACSMgADAAAAAAAAAAAAAAAASMoADAAAAAAAAAAAAAAAACApAzAAAAAAAAAAAAAAAACApAzAAAAAAAAAAAAAAAAAAJIyAAMAAAAAAAAAAAAAAABIygAMAAAAAAAAAAAAAAAAICkDMAAAAAAAAAAAAAAAAICkDMAAAAAAAAAAAAAAAAAAkjIAAwAAAAAAAAAAAAAAAEjKAAwAAAAAAAAAAAAAAAAgKQMwAAAAAAAAAAAAAAAAgKQMwAAAAAAAAAAAAAAAAACSMgADAAAAAAAAAAAAAAAASMoADAAAAAAAAAAAAAAAACApAzAAAAAAAAAAAAAAAACApAzAAAAAAAAAAAAAAAAAAJIyAAMAAAAAAAAAAAAAAABIygAMAAAAAAAAAAAAAAAAICkDMAAAAAAAAAAAAAAAAICkDMAAAAAAAAAAAAAAAAAAkjIAAwAAAAAAAAAAAAAAAEjKAAwAAAAAAAAAAAAAAAAgKQMwAAAAAAAAAAAAAAAAgKQMwAAAAAAAAAAAAAAAAACSMgADAAAAAAAAAAAAAAAASMoADAAAAAAAAAAAAAAAACApAzAAAAAAAAAAAAAAAACApAzAAAAAAAAAAAAAAAAAAJIyAAMAAAAAAAAAAAAAAABIygAMAAAAAAAAAAAAAAAAICkDMAAAAAAAAAAAAAAAAICkDMAAAAAAAAAAAAAAAAAAkjIAAwAAAAAAAAAAAAAAAEjKAAwAAAAAAAAAAAAAAAAgKQMwAAAAAAAAAAAAAAAAgKQMwAAAAAAAAAAAAAAAAACSMgADAAAAAAAAAAAAAAAASMoADAAAAAAAAAAAAAAAACApAzAAAAAAAAAAAAAAAACApAzAAAAAAAAAAAAAAAAAAJIyAAMAAAAAAAAAAAAAAABIygAMAAAAAAAAAAAAAAAAICkDMAAAAAAAAAAAAAAAAICkDMAAAAAAAAAAAAAAAAAAkjIAAwAAAAAAAAAAAAAAAEjKAAwAAAAAAAAAAAAAAAAgKQMwAAAAAAAAAAAAAAAAgKQMwAAAAAAAAAAAAAAAAACSMgADAAAAAAAAAAAAAAAASMoADAAAAAAAAAAAAAAAACApAzAAAAAAAAAAAAAAAACApAzAAAAAAAAAAAAAAAAAAJIyAAMAAAAAAAAAAAAAAABIygAMAAAAAAAAAAAAAAAAICkDMAAAAAAAAAAAAAAAAICkDMAAAAAAAAAAAAAAAAAAkjIAAwAAAAAAAAAAAAAAAEjKAAwAAAAAAAAAAAAAAAAgKQMwAAAAAAAAAAAAAAAAgKQMwAAAAAAAAAAAAAAAAACSMgADAAAAAAAAAAAAAAAASMoADAAAAAAAAAAAAAAAACApAzAAAAAAAAAAAAAAAACApAzAAAAAAAAAAAAAAAAAAJIyAAMAAAAAAAAAAAAAAABIygAMAAAAAAAAAAAAAAAAICkDMAAAAAAAAAAAAAAAAICkDMAAAAAAAAAAAAAAAAAAkjIAAwAAAAAAAAAAAAAAAEjKAAwAAAAAAAAAAAAAAAAgKQMwAAAAAAAAAAAAAAAAgKQMwAAAAAAAAAAAAAAAAACSMgADAAAAAAAAAAAAAAAASMoADAAAAAAAAAAAAAAAACApAzAAAAAAAAAAAAAAAACApAzAAAAAAAAAAAAAAAAAAJIyAAMAAAAAAAAAAAAAAABIygAMAAAAAAAAAAAAAAAAICkDMAAAAAAAAAAAAAAAAICkDMAAAAAAAAAAAAAAAAAAkjIAAwAAAAAAAAAAAAAAAEjKAAwAAAAAAAAAAAAAAAAgKQMwAAAAAAAAAAAAAAAAgKQMwAAAAAAAAAAAAAAAAACSMgADAAAAAAAAAAAAAAAASMoADAAAAAAAAAAAAAAAACApAzAAAAAAAAAAAAAAAACApAzAAAAAAAAAAAAAAAAAAJIyAAMAAAAAAAAAAAAAAABIygAMAAAAAAAAAAAAAAAAICkDMAAAAAAAAAAAAAAAAICkDMAAAAAAAAAAAAAAAAAAkjIAAwAAAAAAAAAAAAAAAEjKAAwAAAAAAAAAAAAAAAAgKQMwAAAAAAAAAAAAAAAAgKQMwAAAAAAAAAAAAAAAAACSMgADAAAAAAAAAAAAAAAASMoADAAAAAAAAAAAAAAAACApAzAAAAAAAAAAAAAAAACApAzAAAAAAAAAAAAAAAAAAJIyAAMAAAAAAAAAAAAAAABIygAMAAAAAAAAAAAAAAAAICkDMAAAAAAAAAAAAAAAAICkDMAAAAAAAAAAAAAAAAAAkjIAAwAAAAAAAAAAAAAAAEjKAAwAAAAAAAAAAAAAAAAgKQMwAAAAAAAAAAAAAAAAgKQMwAAAAAAAAAAAAAAAAACSMgADAAAAAAAAAAAAAAAASMoADAAAAAAAAAAAAAAAACApAzAAAAAAAAAAAAAAAACApAzAAAAAAAAAAAAAAAAAAJIyAAMAAAAAAAAAAAAAAABIygAMAAAAAAAAAAAAAAAAICkDMAAAAAAAAAAAAAAAAICkDMAAAAAAAAAAAAAAAAAAkjIAAwAAAAAAAAAAAAAAAEjKAAwAAAAAAAAAAAAAAAAgKQMwAAAAAAAAAAAAAAAAgKQMwAAAAAAAAAAAAAAAAACSMgADAAAAAAAAAAAAAAAASMoADAAAAAAAAAAAAAAAACApAzAAAAAAAAAAAAAAAACApAzAAAAAAAAAAAAAAAAAAJIyAAMAAAAAAAAAAAAAAABIygAMAAAAAAAAAAAAAAAAICkDMAAAAAAAAAAAAAAAAICkDMAAAAAAAAAAAAAAAAAAkjIAAwAAAAAAAAAAAAAAAEjKAAwAAAAAAAAAAAAAAAAgKQMwAAAAAAAAAAAAAAAAgKQMwAAAAAAAAAAAAAAAAACSMgADAAAAAAAAAAAAAAAASMoADAAAAAAAAAAAAAAAACApAzAAAAAAAAAAAAAAAACApAzAAAAAAAAAAAAAAAAAAJIyAAMAAAAAAAAAAAAAAABIygAMAAAAAAAAAAAAAAAAICkDMAAAAAAAAAAAAAAAAICkDMAAAAAAAAAAAAAAAAAAkjIAAwAAAAAAAAAAAAAAAEjKAAwAAAAAAAAAAAAAAAAgKQMwAAAAAAAAAAAAAAAAgKQMwAAAAAAAAAAAAAAAAACSMgADAAAAAAAAAAAAAAAASMoADAAAAAAAAAAAAAAAACApAzAAAAAAAAAAAAAAAACApAzAAAAAAAAAAAAAAAAAAJIyAAMAAAAAAAAAAAAAAABIygAMAAAAAAAAAAAAAAAAICkDMAAAAAAAAAAAAAAAAICkDMAAAAAAAAAAAAAAAAAAkjIAAwAAAAAAAAAAAAAAAEjKAAwAAAAAAAAAAAAAAAAgKQMwAAAAAAAAAAAAAAAAgKQMwAAAAAAAAAAAAAAAAACSMgADAAAAAAAAAAAAAAAASMoADAAAAAAAAAAAAAAAACApAzAAAAAAAAAAAAAAAACApAzAAAAAAAAAAAAAAAAAAJIyAAMAAAAAAAAAAAAAAABIygAMAAAAAAAAAAAAAAAAICkDMAAAAAAAAAAAAAAAAICkDMAAAAAAAAAAAAAAAAAAkjIAAwAAAAAAAAAAAAAAAEjKAAwAAAAAAAAAAAAAAAAgKQMwAAAAAAAAAAAAAAAAgKQMwAAAAAAAAAAAAAAAAACSMgADAAAAAAAAAAAAAAAASMoADAAAAAAAAAAAAAAAACApAzAAAAAAAAAAAAAAAACApAzAAAAAAAAAAAAAAAAAAJIyAAMAAAAAAAAAAAAAAABIygAMAAAAAAAAAAAAAAAAICkDMAAAAAAAAAAAAAAAAICkDMAAAAAAAAAAAAAAAAAAkjIAAwAAAAAAAAAAAAAAAEjKAAwAAAAAAAAAAAAAAAAgKQMwAAAAAAAAAAAAAAAAgKQMwAAAAAAAAAAAAAAAAACSMgADAAAAAAAAAAAAAAAASMoADAAAAAAAAAAAAAAAACApAzAAAAAAAAAAAAAAAACApAzAAAAAAAAAAAAAAAAAAJIyAAMAAAAAAAAAAAAAAABIygAMAAAAAAAAAAAAAAAAICkDMAAAAAAAAAAAAAAAAICkDMAAAAAAAAAAAAAAAAAAkjIAAwAAAAAAAAAAAAAAAEjKAAwAAAAAAAAAAAAAAAAgKQMwAAAAAAAAAAAAAAAAgKQMwAAAAAAAAAAAAAAAAACSMgADAAAAAAAAAAAAAAAASMoADAAAAAAAAAAAAAAAACApAzAAAAAAAAAAAAAAAACApAzAAAAAAAAAAAAAAAAAAJIyAAMAAAAAAAAAAAAAAABIygAMAAAAAAAAAAAAAAAAICkDMAAAAAAAAAAAAAAAAICkDMAAAAAAAAAAAAAAAAAAkjIAAwAAAAAAAAAAAAAAAEjKAAwAAAAAAAAAAAAAAAAgKQMwAAAAAAAAAAAAAAAAgKQMwAAAAAAAAAAAAAAAAACSMgADAAAAAAAAAAAAAAAASMoADAAAAAAAAAAAAAAAACApAzAAAAAAAAAAAAAAAACApAzAAAAAAAAAAAAAAAAAAJIyAAMAAAAAAAAAAAAAAABIygAMAAAAAAAAAAAAAAAAICkDMAAAAAAAAAAAAAAAAICkDMAAAAAAAAAAAAAAAAAAkjIAAwAAAAAAAAAAAAAAAEjKAAwAAAAAAAAAAAAAAAAgKQMwAAAAAAAAAAAAAAAAgKQMwAAAAAAAAAAAAAAAAACSMgADAAAAAAAAAAAAAAAASMoADAAAAAAAAAAAAAAAACApAzAAAAAAAAAAAAAAAACApAzAAAAAAAAAAAAAAAAAAJIyAAMAAAAAAAAAAAAAAABIygAMAAAAAAAAAAAAAAAAICkDMPi/9u1YAAAAAGCQv/U0dpRHAAAAAAAAAAAAAAAAMCWAAQAAAAAAAAAAAAAAAEwJYAAAAAAAAAAAAAAAAABTAhgAAAAAAAAAAAAAAADAlAAGAAAAAAAAAAAAAAAAMCWAAQAAAAAAAAAAAAAAAEwJYAAAAAAAAAAAAAAAAABTAhgAAAAAAAAAAAAAAADAlAAGAAAAAAAAAAAAAAAAMCWAAQAAAAAAAAAAAAAAAEwJYAAAAAAAAAAAAAAAAABTAhgAAAAAAAAAAAAAAADAlAAGAAAAAAAAAAAAAAAAMCWAAQAAAAAAAAAAAAAAAEwJYAAAAAAAAAAAAAAAAABTAhgAAAAAAAAAAAAAAADAlAAGAAAAAAAAAAAAAAAAMCWAAQAAAAAAAAAAAAAAAEwJYAAAAAAAAAAAAAAAAABTAhgAAAAAAAAAAAAAAADAlAAGAAAAAAAAAAAAAAAAMCWAAQAAAAAAAAAAAAAAAEwFWhg8q+g3q20AAAAASUVORK5CYII=)"
      ]
    },
    {
      "cell_type": "code",
      "source": [
        "# 간소화를 한 tree입니다.\n",
        "# linked list와 마찬가지로 완벽한 자료구조를 만드려면 시간이 걸립니다.\n",
        "class Node:\n",
        "    def __init__(self, value):\n",
        "        self.value = value\n",
        "        self.left = None\n",
        "        self.right = None\n",
        "\n",
        "\n",
        "class Tree:\n",
        "    def __init__(self, data):\n",
        "        init = Node(data)\n",
        "        self.root = init\n",
        "        self.count = 1\n",
        "\n",
        "    def __len__(self):\n",
        "        return self.count\n",
        "\n",
        "    def insert(self, data):\n",
        "        new_node = Node(data)\n",
        "        current_node = self.root\n",
        "        while current_node:\n",
        "            if data == current_node.value: # 같은 데이터 만나면 넣어주지 않습니다!\n",
        "                return\n",
        "            elif data < current_node.value:\n",
        "                if not current_node.left: # 왼쪽으로 갔더니 비어있는 경우!\n",
        "                    current_node.left = new_node\n",
        "                    self.count += 1\n",
        "                    return\n",
        "                current_node = current_node.left\n",
        "            elif data > current_node.value:\n",
        "                if not current_node.right: # 오른쪽으로 갔더니 비어있는 경우!\n",
        "                    current_node.right = new_node\n",
        "                    self.count += 1\n",
        "                    return\n",
        "                current_node = current_node.right\n",
        "\n",
        "tree = Tree(5)\n",
        "tree.insert(3)\n",
        "tree.insert(8)\n",
        "tree.insert(1)\n",
        "tree.insert(4)\n",
        "tree.insert(6)\n",
        "tree.insert(9)\n",
        "\n",
        "tree.root.value\n",
        "tree.root.left.value\n",
        "tree.root.right.value\n",
        "tree.root.right.left.value"
      ],
      "metadata": {
        "colab": {
          "base_uri": "https://localhost:8080/"
        },
        "id": "h-z4gknTJePS",
        "outputId": "30e7891b-fa0b-42c6-8467-032b6fd7969b"
      },
      "execution_count": null,
      "outputs": [
        {
          "output_type": "execute_result",
          "data": {
            "text/plain": [
              "6"
            ]
          },
          "metadata": {},
          "execution_count": 155
        }
      ]
    },
    {
      "cell_type": "code",
      "source": [
        "# 간소화를 한 tree입니다.\n",
        "# linked list와 마찬가지로 완벽한 자료구조를 만드려면 시간이 걸립니다.\n",
        "class Node:\n",
        "    def __init__(self, value):\n",
        "        self.value = value\n",
        "        self.left = None\n",
        "        self.right = None\n",
        "\n",
        "\n",
        "class Tree:\n",
        "    def __init__(self, data):\n",
        "        init = Node(data)\n",
        "        self.root = init\n",
        "        self.count = 1\n",
        "\n",
        "    def __len__(self):\n",
        "        return self.count\n",
        "\n",
        "    def insert(self, data):\n",
        "        new_node = Node(data)\n",
        "        current_node = self.root\n",
        "        while current_node:\n",
        "            if data == current_node.value: # 같은 데이터 만나면 넣어주지 않습니다!\n",
        "                return\n",
        "            elif data < current_node.value:\n",
        "                if not current_node.left: # 왼쪽으로 갔더니 비어있는 경우!\n",
        "                    current_node.left = new_node\n",
        "                    self.count += 1\n",
        "                    return\n",
        "                current_node = current_node.left\n",
        "            elif data > current_node.value:\n",
        "                if not current_node.right: # 오른쪽으로 갔더니 비어있는 경우!\n",
        "                    current_node.right = new_node\n",
        "                    self.count += 1\n",
        "                    return\n",
        "                current_node = current_node.right\n",
        "\n",
        "    # 깊스너큐(깊이우선 탐색은 스택, 너비우선 탐색은 큐)\n",
        "    def DFS(self):\n",
        "        # 깊이우선탐색, DFS(Depth First Search)\n",
        "        # Stack 이용!\n",
        "        pass\n",
        "\n",
        "    def BFS(self):\n",
        "        # 너비우선탐색, BFS(Breadth First Search)\n",
        "        # Queue 이용!\n",
        "        pass\n",
        "\n",
        "tree = Tree(5)\n",
        "tree.insert(3)\n",
        "tree.insert(8)\n",
        "tree.insert(1)\n",
        "tree.insert(4)\n",
        "tree.insert(6)\n",
        "tree.insert(9)\n",
        "\n",
        "tree.root.value\n",
        "tree.root.left.value\n",
        "tree.root.right.value\n",
        "tree.root.right.left.value"
      ],
      "metadata": {
        "id": "OXYoyGboNr9V"
      },
      "execution_count": null,
      "outputs": []
    },
    {
      "cell_type": "code",
      "source": [
        "# 간소화를 한 tree입니다.\n",
        "# linked list와 마찬가지로 완벽한 자료구조를 만드려면 시간이 걸립니다.\n",
        "class Node:\n",
        "    def __init__(self, value):\n",
        "        self.value = value\n",
        "        self.left = None\n",
        "        self.right = None\n",
        "\n",
        "\n",
        "class Tree:\n",
        "    def __init__(self, data):\n",
        "        init = Node(data)\n",
        "        self.root = init\n",
        "        self.count = 1\n",
        "\n",
        "    def __len__(self):\n",
        "        return self.count\n",
        "\n",
        "    def insert(self, data):\n",
        "        new_node = Node(data)\n",
        "        current_node = self.root\n",
        "        while current_node:\n",
        "            if data == current_node.value: # 같은 데이터 만나면 넣어주지 않습니다!\n",
        "                return\n",
        "            elif data < current_node.value:\n",
        "                if not current_node.left: # 왼쪽으로 갔더니 비어있는 경우!\n",
        "                    current_node.left = new_node\n",
        "                    self.count += 1\n",
        "                    return\n",
        "                current_node = current_node.left\n",
        "            elif data > current_node.value:\n",
        "                if not current_node.right: # 오른쪽으로 갔더니 비어있는 경우!\n",
        "                    current_node.right = new_node\n",
        "                    self.count += 1\n",
        "                    return\n",
        "                current_node = current_node.right\n",
        "\n",
        "    # 깊스너큐(깊이우선 탐색은 스택, 너비우선 탐색은 큐)\n",
        "    def DFS(self):\n",
        "        # 깊이우선탐색, DFS(Depth First Search)\n",
        "        # Stack 이용!\n",
        "        stack = [self.root]\n",
        "        current = None # 선언하지 않아도 됩니다. 이해를 돕기 위해 선언했습니다.\n",
        "        result = []\n",
        "        while stack:\n",
        "            current = stack.pop()\n",
        "            if current.right:\n",
        "                stack.append(current.right)\n",
        "            if current.left:\n",
        "                stack.append(current.left)\n",
        "            result.append(current.value)\n",
        "        return result\n",
        "\n",
        "    def BFS(self):\n",
        "        # 너비우선탐색, BFS(Breadth First Search)\n",
        "        # Queue 이용!\n",
        "        queue = [self.root]\n",
        "        current = None # 선언하지 않아도 됩니다. 이해를 돕기 위해 선언했습니다.\n",
        "        result = []\n",
        "        while queue:\n",
        "            current = queue.pop(0)\n",
        "            if current.right:\n",
        "                queue.append(current.right)\n",
        "            if current.left:\n",
        "                queue.append(current.left)\n",
        "            result.append(current.value)\n",
        "        return result\n",
        "\n",
        "tree = Tree(5)\n",
        "tree.insert(3)\n",
        "tree.insert(8)\n",
        "tree.insert(1)\n",
        "tree.insert(4)\n",
        "tree.insert(6)\n",
        "tree.insert(9)\n",
        "\n",
        "tree.root.value\n",
        "tree.root.left.value\n",
        "tree.root.right.value\n",
        "tree.root.right.left.value"
      ],
      "metadata": {
        "id": "E1SPw4pfCWPZ"
      },
      "execution_count": null,
      "outputs": []
    },
    {
      "cell_type": "code",
      "source": [
        "# 자식이 여러명인 경우\n",
        "class Node:\n",
        "    def __init__(self, data):\n",
        "        self.data = data\n",
        "        self.child = [] # 또는 {}합니다.\n",
        "\n",
        "# 이렇게 만들기도 하는데 이런 경우는 거의 못봤습니다.\n",
        "class Child:\n",
        "    def __init__(self, *args):\n",
        "        self.data = args # 이렇게 하면 튜플이니 언패킹 해서 관리하는 것이 좋을 수 있습니다."
      ],
      "metadata": {
        "id": "Ujd7AB9H9pe_"
      },
      "execution_count": null,
      "outputs": []
    },
    {
      "cell_type": "markdown",
      "metadata": {
        "id": "zfBQz_CR9uo-"
      },
      "source": [
        "### 1.4.4 정렬 알고리즘\n",
        "* 재미있는 사실(재미없을 수도 있습니다. 사례를 말씀드릴게요.)\n",
        "    * JavaScript의 Array의 sort는 알고리즘이 고정이 아닙니다. 각 브라우저마다(벤더사마다) 다른 sort를 사용하고 있어서 같은 값이면 브라우저마다 보여지는 화면이 다를 수 있습니다.\n",
        "    * Google이 Chrome 70 이전에 개수에 따라 다른 알고리즘을 혼합하는 정렬을 사용했다가(InsertionSort & QuickSort 사용) 얼마전에(18년도에) Timsort로 변경했습니다.\n",
        "    * 정렬 알고리즘 중에서 가장 인기있는 알고리즘은 병합정렬(존 폰 노이만 제작)이었습니다.\n",
        "    * Python에서 시작된 Timsort로(팀 피터스) 대동단결하고 있는 모양세입니다. Python 만세!\n",
        "    * Timsort는 삽입정렬과 병합정렬을 적절히 조합한 것이고, 2002년도에 Python을 위해 C로 구현되었습니다.\n",
        "    * 정렬 알고리즘 3대장 비교(Bset, Worst)\n",
        "        * 병합 정렬 : nlogn, nlogn\n",
        "        * 퀵 정렬 : nlogn, n**2\n",
        "        * 팀소트 : n, nlogn"
      ]
    },
    {
      "cell_type": "markdown",
      "metadata": {
        "id": "YjK44BKv9weV"
      },
      "source": [
        "#### 1.4.4.1 선택정렬"
      ]
    },
    {
      "cell_type": "markdown",
      "metadata": {
        "id": "ggu7EwXwbDpO"
      },
      "source": [
        "* step 1\n",
        "```\n",
        "전 = [199, 22, 33, 12, 32, 64, 72, 222, 233]\n",
        "후 = []\n",
        "```\n",
        "* step 2\n",
        "```\n",
        "전 = [199, 22, 33, 32, 64, 72, 222, 233]\n",
        "후 = [12]\n",
        "```\n",
        "* step 3\n",
        "```\n",
        "전 = [199, 33, 32, 64, 72, 222, 233]\n",
        "후 = [12, 22]\n",
        "```\n",
        "* step 4\n",
        "```\n",
        "전 = [199, 33, 64, 72, 222, 233]\n",
        "후 = [12, 22, 32]\n",
        "```"
      ]
    },
    {
      "cell_type": "code",
      "source": [
        "def 최솟값_인덱스_리턴_함수 (리스트):\n",
        "    최솟값인덱스 = 0\n",
        "    for 증가값 in range(0, len(리스트)):\n",
        "        if 리스트[증가값] < 리스트[최솟값인덱스]:\n",
        "            최솟값인덱스 = 증가값\n",
        "    return 최솟값인덱스\n",
        "\n",
        "def 선택정렬(리스트):\n",
        "    최종결과값 = []\n",
        "    while 리스트:\n",
        "        최솟값_인덱스_저장 = 최솟값_인덱스_리턴_함수(리스트)\n",
        "        최솟값 = 리스트.pop(최솟값_인덱스_저장)\n",
        "        최종결과값.append(최솟값)\n",
        "    return 최종결과값\n",
        "\n",
        "주어진리스트 = [199, 22, 33, 12, 32, 64, 72, 222, 233]\n",
        "\n",
        "print(선택정렬(주어진리스트))"
      ],
      "metadata": {
        "id": "01ANI3nXMx2Q"
      },
      "execution_count": null,
      "outputs": []
    },
    {
      "cell_type": "markdown",
      "metadata": {
        "id": "k9GPf6Rn93Yu"
      },
      "source": [
        "#### 1.4.4.2 삽입정렬"
      ]
    },
    {
      "cell_type": "markdown",
      "metadata": {
        "id": "MODBWP9Hb_9-"
      },
      "source": [
        "```\n",
        "전 = [199, 22, 33, 12, 32, 64, 72, 222, 233]\n",
        "후 = []\n",
        "\n",
        "전 = [22, 33, 12, 32, 64, 72, 222, 233]\n",
        "후 = [199]\n",
        "\n",
        "전 = [33, 12, 32, 64, 72, 222, 233]\n",
        "후 = [22, 199]\n",
        "\n",
        "전 = [12, 32, 64, 72, 222, 233]\n",
        "후 = [22, 33, 199]\n",
        "\n",
        "전 = [32, 64, 72, 222, 233]\n",
        "후 = [12, 22, 33, 199]\n",
        "\n",
        "전 = [64, 72, 222, 233]\n",
        "후 = [12, 22, 32, 33, 199]\n",
        "\n",
        "전 = [72, 222, 233]\n",
        "후 = [12, 22, 32, 33, 64, 199]\n",
        "```"
      ]
    },
    {
      "cell_type": "code",
      "source": [
        "def 삽입값이들어갈_인덱스 (결과값, 삽입값):\n",
        "    for 증가값 in range(0, len(결과값)):\n",
        "        if 삽입값 < 결과값[증가값]:\n",
        "            return 증가값\n",
        "    return len(결과값)\n",
        "\n",
        "def 삽입정렬(입력_리스트_하나):\n",
        "    결과값 = []\n",
        "    while 입력_리스트_하나:\n",
        "        삽입값 = 입력_리스트_하나.pop(0)\n",
        "        삽입값_인덱스 = 삽입값이들어갈_인덱스(결과값, 삽입값)\n",
        "        결과값.insert(삽입값_인덱스, 삽입값)\n",
        "    return 결과값\n",
        "\n",
        "주어진리스트 = [199, 22, 33, 12, 32, 64, 72, 222, 233]\n",
        "\n",
        "print(삽입정렬(주어진리스트))"
      ],
      "metadata": {
        "id": "-W2jNv1BOYo_"
      },
      "execution_count": null,
      "outputs": []
    },
    {
      "cell_type": "markdown",
      "metadata": {
        "id": "CAoSEcML99Aa"
      },
      "source": [
        "#### 1.4.4.3 병합정렬"
      ]
    },
    {
      "cell_type": "markdown",
      "metadata": {
        "id": "1rfz63F0cbMw"
      },
      "source": [
        "* Worst와 Best 모두 O(nlogn), 어떤 정렬보다 빠름, 동일 할 수 있음\n",
        "* 분할 정복(Divide and Conquer)"
      ]
    },
    {
      "cell_type": "markdown",
      "metadata": {
        "id": "OadWXUpfcnfK"
      },
      "source": [
        "```python\n",
        "\n",
        "입력값 = [5, 10, 66, 77, 54, 32, 11, 15]\n",
        "정렬된배열 = []\n",
        "\n",
        "# 분할(이해를 돕기 위해 8개로 조정)\n",
        "[5, 10, 66, 77, 54, 32, 11, 15]\n",
        "[5, 10, 66, 77], [54, 32, 11, 15]\n",
        "[5, 10], [66, 77], [54, 32], [11, 15]\n",
        "[5], [10], [66], [77], [54], [32], [11], [15]\n",
        "\n",
        "# 정복(0번째끼리 비교!)\n",
        "[5, 10], [66, 77], [32, 54], [11, 15]\n",
        "[5, 10], [66, 77], [32, 54], [11, 15]\n",
        "[5, 10, 66, 77], [11, 15, 32, 54]\n",
        "[5, 10, 11, 15, 32, 54, 66, 77]\n",
        "```"
      ]
    },
    {
      "cell_type": "code",
      "source": [
        "def 병합정렬(입력리스트):\n",
        "    입력리스트길이 = len(입력리스트)\n",
        "    if 입력리스트길이 <= 1:\n",
        "        return 입력리스트\n",
        "\n",
        "    중간값 = 입력리스트길이 // 2\n",
        "    그룹_하나 = 병합정렬(입력리스트[:중간값])\n",
        "    그룹_둘 = 병합정렬(입력리스트[중간값:])\n",
        "    결과값 = [ ]\n",
        "\n",
        "    while 그룹_하나 and 그룹_둘:\n",
        "        if 그룹_하나[0] < 그룹_둘[0]:\n",
        "            결과값.append(그룹_하나.pop(0))\n",
        "        else:\n",
        "            결과값.append(그룹_둘.pop(0))\n",
        "    while 그룹_하나:\n",
        "        결과값.append(그룹_하나.pop(0))\n",
        "    while 그룹_둘:\n",
        "        결과값.append(그룹_둘.pop(0))\n",
        "    return 결과값\n",
        "\n",
        "주어진리스트 = [199, 22, 33, 12, 32, 64, 72, 222, 233]\n",
        "\n",
        "print(병합정렬(주어진리스트))"
      ],
      "metadata": {
        "id": "EgABFzihRcsC"
      },
      "execution_count": null,
      "outputs": []
    },
    {
      "cell_type": "markdown",
      "metadata": {
        "id": "MKl5EsUT9_jq"
      },
      "source": [
        "#### 1.4.4.4 퀵정렬"
      ]
    },
    {
      "cell_type": "markdown",
      "metadata": {
        "id": "YTvh1mNmdB82"
      },
      "source": [
        "* best - O(nlog2n), worst - O(n**2)\n",
        "* 피봇값(pivot)을 기준으로 정렬(피봇값은 처음값, 중간값, 마지막 값)\n",
        "* 실무에서는 worst일 경우를 피하기 위해 피봇을 랜덤하게 주는 경우나, 피봇을 2개 사용하는 경우도 있음.\n",
        "\n",
        "```python\n",
        "입력값 = [66, 77, 54, 32, 10, 5, 11, 15]\n",
        "\n",
        "# step 1\n",
        "# 피봇값 : 66\n",
        "[54, 32, 10, 5, 11, 15] + [66] + [77]\n",
        "\n",
        "# step 2\n",
        "# 피봇값 : 54 (66과 77은 값이 한 개이기 때문에 더이상 재귀로 호출되지 않음.)\n",
        "[32, 10, 5, 11, 15] + [54] + [66] + [77]\n",
        "\n",
        "# step 3\n",
        "# 피봇값 : 32\n",
        "[10, 5, 11, 15] + [32] + [54] + [66] + [77]\n",
        "\n",
        "# step 4\n",
        "# 피봇값 : 10\n",
        "[5] + [10] + [11, 15] + [32] + [54] + [66] + [77]\n",
        "\n",
        "# step 5\n",
        "# 피봇값 : 11\n",
        "[5] + [10] + [11] + [15] + [32] + [54] + [66] + [77]\n",
        "```"
      ]
    },
    {
      "cell_type": "code",
      "source": [
        "def 퀵정렬(입력리스트):\n",
        "    입력리스트길이 = len(입력리스트)\n",
        "    if 입력리스트길이 <= 1:\n",
        "        return 입력리스트\n",
        "    기준값 = 입력리스트[-1]\n",
        "    그룹_하나 = []\n",
        "    그룹_둘 = []\n",
        "    for 증가값 in range(0 , 입력리스트길이-1):\n",
        "        if 입력리스트[증가값] < 기준값:\n",
        "            그룹_하나.append(입력리스트[증가값])\n",
        "        else:\n",
        "            그룹_둘.append(입력리스트[증가값])\n",
        "    return 퀵정렬(그룹_하나) + [기준값] + 퀵정렬(그룹_둘)\n",
        "\n",
        "주어진리스트 = [66, 77, 54, 32, 10, 5, 11, 15]\n",
        "\n",
        "print(퀵정렬(주어진리스트))"
      ],
      "metadata": {
        "id": "5azSWMvgZI4b"
      },
      "execution_count": null,
      "outputs": []
    },
    {
      "cell_type": "code",
      "source": [
        "# 1회만 해봤습니다.\n",
        "def 퀵정렬([66, 77, 54, 32, 10, 5, 11, 15]):\n",
        "    입력리스트길이 = len(입력리스트)\n",
        "    if 입력리스트길이 <= 1:\n",
        "        return 입력리스트\n",
        "    기준값 = 15\n",
        "    그룹_하나 = [10, 5, 11]\n",
        "    그룹_둘 = [66, 77, 54, 32]\n",
        "    for 증가값 in range(0 , 입력리스트길이-1):\n",
        "        if 입력리스트[증가값] < 기준값:\n",
        "            그룹_하나.append(입력리스트[증가값])\n",
        "        else:\n",
        "            그룹_둘.append(입력리스트[증가값])\n",
        "    return 퀵정렬([10, 5, 11]) + [15] + 퀵정렬([66, 77, 54, 32])\n",
        "# 퀵정렬([10, 5, 11]) == 퀵정렬([10, 5]) + [11] == [5] + 퀵정렬(10) + [11] == [5, 10, 11]"
      ],
      "metadata": {
        "id": "x5Sui1NmZdSY"
      },
      "execution_count": null,
      "outputs": []
    },
    {
      "cell_type": "markdown",
      "metadata": {
        "id": "TQx_qT2B-Co2"
      },
      "source": [
        "### 1.4.5 페이지 교체 알고리즘"
      ]
    },
    {
      "cell_type": "markdown",
      "metadata": {
        "id": "W5PVRfxtdsA_"
      },
      "source": [
        "* https://www.notion.so/paullabworkspace/db83d9c4bbe6410ea208e6dc2daff07e\n",
        "* 페이지 교체 알고리즘 : 메모리를 효율적으로 사용하기 위해서 어떤 데이터를 메모리에 적재할지 결정하는 알고리즘\n",
        "* FIFO 알고리즘 (오래된 녀석이 가장 빨리 나간다)\n",
        "    * 순서 : 0, 4, 6, 5, 4, 7, 8\n",
        "    ```python\n",
        "    []\n",
        "    [0]\n",
        "    [0, 4]\n",
        "    [0, 4, 6]\n",
        "    [4, 6, 5]\n",
        "    [4, 6, 5] # 4가 hit\n",
        "    [6, 5, 7]\n",
        "    [5, 7, 8]\n",
        "    ```\n",
        "* LRU(오랫동안 사용되지 않은 녀석이 삭제)\n",
        "    * 순서 : 0, 4, 6, 5, 4, 7, 8\n",
        "    ```python\n",
        "    []\n",
        "    [0]\n",
        "    [0, 4]\n",
        "    [0, 4, 6]\n",
        "    [4, 6, 5]\n",
        "    [6, 5, 4] # 4가 hit\n",
        "    [5, 4, 7]\n",
        "    [4, 7, 8]\n",
        "    ```\n",
        "\n",
        "* 대표 문제 : https://tech.kakao.com/2017/09/27/kakao-blind-recruitment-round-1/\n",
        "\n",
        "* LRU 알고리즘 : 실행시간을 구하라!\n",
        "    * hit - 1초\n",
        "    * miss - 5초\n",
        "    * 캐시 - 3\n",
        "    ```python\n",
        "    [\"바나나\", \"체리\", \"한라봉\", \"자몽\", \"수박\", \"수박\", \"체리\"]\n",
        "    [바나나] # 5\n",
        "    [바나나, 체리] # 5\n",
        "    [바나나, 체리, 한라봉] # 5\n",
        "    [체리, 한라봉, 자몽] # 5\n",
        "    [한라봉, 자몽, 수박] # 5\n",
        "    [한라봉, 자몽, 수박] # 1 - hit\n",
        "    [자몽, 수박, 체리] # 5\n",
        "    ```\n",
        "\n",
        "\n",
        "* FIFO 알고리즘 : 실행시간을 구하라!\n",
        "    * hit - 1초\n",
        "    * miss - 5초\n",
        "    * 캐시 - 3\n",
        "    ```python\n",
        "    [\"바나나\", \"체리\", \"한라봉\", \"자몽\", \"수박\", \"수박\", \"체리\"]\n",
        "    [바나나] # 5\n",
        "    [바나나, 체리] # 5\n",
        "    [바나나, 체리, 한라봉] # 5\n",
        "    [체리, 한라봉, 자몽] # 5\n",
        "    [한라봉, 자몽, 수박] # 5\n",
        "    [한라봉, 자몽, 수박] # 1 - hit\n",
        "    [자몽, 수박, 체리] # 5\n",
        "    ```"
      ]
    },
    {
      "cell_type": "code",
      "source": [
        "# FIFO\n",
        "# 순서 : 0, 4, 6, 5, 4, 7, 8\n",
        "\n",
        "# [0] # 5\n",
        "# [0, 4] # 5\n",
        "# [0, 4, 6] # 5\n",
        "# [4, 6, 5] # 5\n",
        "# [4, 6, 5] # 1\n",
        "# [6, 5, 7] # 5\n",
        "# [6, 5, 8] # 5\n",
        "\n",
        "순서 = [0, 4, 6, 5, 4, 7, 8]\n",
        "c = []\n",
        "time = 0\n",
        "\n",
        "for i in 순서:\n",
        "    if i not in c:\n",
        "        time += 5\n",
        "        c.append(i)\n",
        "    else:\n",
        "        time += 1\n",
        "    if len(c) > 3:\n",
        "        c.pop(0)\n",
        "    print(c)\n",
        "\n",
        "time"
      ],
      "metadata": {
        "colab": {
          "base_uri": "https://localhost:8080/"
        },
        "id": "PDsGaWk7dEd5",
        "outputId": "6d9c93ab-9360-423c-a63e-91292bac50a4"
      },
      "execution_count": null,
      "outputs": [
        {
          "output_type": "stream",
          "name": "stdout",
          "text": [
            "[0]\n",
            "[0, 4]\n",
            "[0, 4, 6]\n",
            "[4, 6, 5]\n",
            "[4, 6, 5]\n",
            "[6, 5, 7]\n",
            "[5, 7, 8]\n"
          ]
        },
        {
          "output_type": "execute_result",
          "data": {
            "text/plain": [
              "31"
            ]
          },
          "metadata": {},
          "execution_count": 4
        }
      ]
    },
    {
      "cell_type": "code",
      "source": [
        "# LRU\n",
        "# 순서 : 0, 4, 6, 5, 4, 7, 8\n",
        "\n",
        "# [0] # 5\n",
        "# [0, 4] # 5\n",
        "# [0, 4, 6] # 5\n",
        "# [4, 6, 5] # 5\n",
        "# [6, 5, 4] # 1\n",
        "# [5, 4, 7] # 5\n",
        "# [4, 7, 8] # 5\n",
        "\n",
        "순서 = [0, 4, 6, 5, 4, 7, 8]\n",
        "c = []\n",
        "time = 0\n",
        "\n",
        "for i in 순서:\n",
        "    if i not in c:\n",
        "        time += 5\n",
        "        c.append(i)\n",
        "    else:\n",
        "        c.remove(i)\n",
        "        c.append(i)\n",
        "        time += 1\n",
        "    if len(c) > 3:\n",
        "        c.pop(0)\n",
        "    print(c)\n",
        "\n",
        "time"
      ],
      "metadata": {
        "colab": {
          "base_uri": "https://localhost:8080/"
        },
        "id": "FJDOAtnrd9TY",
        "outputId": "3875f129-b8d8-46ba-b95d-8f382e80aca5"
      },
      "execution_count": null,
      "outputs": [
        {
          "output_type": "stream",
          "name": "stdout",
          "text": [
            "[0]\n",
            "[0, 4]\n",
            "[0, 4, 6]\n",
            "[4, 6, 5]\n",
            "[6, 5, 4]\n",
            "[5, 4, 7]\n",
            "[4, 7, 8]\n"
          ]
        },
        {
          "output_type": "execute_result",
          "data": {
            "text/plain": [
              "31"
            ]
          },
          "metadata": {},
          "execution_count": 5
        }
      ]
    },
    {
      "cell_type": "markdown",
      "metadata": {
        "id": "AczwVFp7BFND"
      },
      "source": [
        "### 1.4.6 슬라이딩 윈도우와 투 포인터 알고리즘\n",
        "* 투 포인터 알고리즘 : 두개의 점의 위치(index)를 이용하여 순차적 해결\n",
        "* 슬라이딩 윈도우 알고리즘 : 고정 사이즈의 윈도우가 이동하면서 윈도우 내 데이터를 연산하여 문제 해결"
      ]
    },
    {
      "cell_type": "markdown",
      "metadata": {
        "id": "yKtfHAnHEJsE"
      },
      "source": [
        "![tree만들기 (2).png](data:image/png;base64,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)"
      ]
    },
    {
      "cell_type": "code",
      "source": [
        "data = [3, 2, 5, 7, 6, 4, 2, 2, 5, 3, 8, 5, 4, 6, 3, 4, 5, 1, 1, 2, 3]\n",
        "for i in range(len(data)-3):\n",
        "    if sum(data[i:i+3]) == 10:\n",
        "        print(data[i:i+3])"
      ],
      "metadata": {
        "colab": {
          "base_uri": "https://localhost:8080/"
        },
        "id": "NzA_M86Uf-YP",
        "outputId": "14583b0a-4bc7-4e6b-ab76-1fca1dff0915"
      },
      "execution_count": null,
      "outputs": [
        {
          "output_type": "stream",
          "name": "stdout",
          "text": [
            "[3, 2, 5]\n",
            "[2, 5, 3]\n",
            "[4, 5, 1]\n"
          ]
        }
      ]
    },
    {
      "cell_type": "markdown",
      "metadata": {
        "id": "L1KnCXnnD59f"
      },
      "source": [
        "* 구간합이나 회문(팬린드롬) 등에 사용\n",
        "    * 예시 :\n",
        "    ```\n",
        "    슬라이딩 윈도우 : [1, 5, 4, 6, 4, 6, 7, 6, 4, 3, 1, 2]에서 연속된 2개의 합이 10인 모든 수를 찾아라.\n",
        "    투 포인터 : [1, 5, 4, 6, 4, 6, 7, 6, 4, 3, 1, 2]에서 연속된 배열의 합이 10인 배열의 인덱스를 모두 찾아라.\n",
        "    ```\n",
        "    * 예시가 아닌 것 :\n",
        "    ```\n",
        "    [1, 5, 4, 6, 4, 6, 7, 6, 4, 3, 1, 2]에서 2개의 수 조합으로 10을 만들 수 있는 배열의 인덱스를 찾아라.\n",
        "    ```\n",
        "* 회문 문제 : https://codingdojang.com/search/?q=palindrome"
      ]
    },
    {
      "cell_type": "code",
      "source": [
        "s = '토마토'\n",
        "s == s[::-1]"
      ],
      "metadata": {
        "colab": {
          "base_uri": "https://localhost:8080/"
        },
        "id": "wXM6DO6Lh4t8",
        "outputId": "b61327d5-483a-427e-db64-9116aeeb9fb4"
      },
      "execution_count": null,
      "outputs": [
        {
          "output_type": "execute_result",
          "data": {
            "text/plain": [
              "True"
            ]
          },
          "metadata": {},
          "execution_count": 8
        }
      ]
    },
    {
      "cell_type": "code",
      "source": [
        "# 투포인터 문제\n",
        "def solution(데이터, 연속된합):\n",
        "\n",
        "    startPointer = 0\n",
        "    endPointer = 0\n",
        "    tempSum = 0\n",
        "\n",
        "    길이 = len(데이터)\n",
        "    result = []\n",
        "\n",
        "    for startPointer in range(길이):\n",
        "        while tempSum < 연속된합 and endPointer < 길이:\n",
        "            tempSum += 데이터[endPointer]\n",
        "            endPointer += 1\n",
        "        if tempSum == 연속된합:\n",
        "            result.append([startPointer, endPointer-1])\n",
        "        tempSum -= 데이터[startPointer]\n",
        "    return result\n",
        "\n",
        "solution([1, 5, 4, 6, 4, 6, 7, 6, 4, 3, 1, 2], 10)"
      ],
      "metadata": {
        "colab": {
          "base_uri": "https://localhost:8080/"
        },
        "id": "fKSdC4vmiHSE",
        "outputId": "0ccbe170-b708-4ab8-a492-4950f1d31ad1"
      },
      "execution_count": null,
      "outputs": [
        {
          "output_type": "execute_result",
          "data": {
            "text/plain": [
              "[[0, 2], [2, 3], [3, 4], [4, 5], [7, 8], [8, 11]]"
            ]
          },
          "metadata": {},
          "execution_count": 9
        }
      ]
    },
    {
      "cell_type": "markdown",
      "metadata": {
        "id": "rfccsflrek8L"
      },
      "source": [
        "## 1.5 재귀함수"
      ]
    },
    {
      "cell_type": "markdown",
      "metadata": {
        "id": "Q_26uTHqgXPc"
      },
      "source": [
        "### 1.5.1 회문"
      ]
    },
    {
      "cell_type": "markdown",
      "metadata": {
        "id": "Tq-9BsVKe2YP"
      },
      "source": [
        "* python에 3.5에서 추가된 type hint는 코드리뷰를 엄격하게 하는 회사에서 많이 사용합니다.(실무에서 많이 사용하는 추세입니다.)"
      ]
    },
    {
      "cell_type": "code",
      "source": [
        "# 회문은 글자의 앞 뒤가 같은 문자열\n",
        "# 큐와 스택을 이용한 회문여부 판별\n",
        "def palindrome(string):\n",
        "    queue = []\n",
        "    stack = []\n",
        "    # list(string) # 이해를 돕기 위해 아래와 같이 한 것이지, 이 코드로 간단히 구현됩니다.\n",
        "    # queue = list(string)\n",
        "    # stack = queue[:]\n",
        "\n",
        "    for s in string:\n",
        "        if s.isalpha():\n",
        "            queue.append(s.lower())\n",
        "            stack.append(s.lower())\n",
        "\n",
        "    while queue:\n",
        "        if queue.pop(0) != stack.pop():\n",
        "            return False\n",
        "\n",
        "    return True\n",
        "\n",
        "palindrome('hello world')\n",
        "palindrome('hello')\n",
        "palindrome('heleh')\n",
        "palindrome('오디오')"
      ],
      "metadata": {
        "id": "v3ckQGiJzotZ"
      },
      "execution_count": null,
      "outputs": []
    },
    {
      "cell_type": "code",
      "source": [
        "def f(a = 10, b = []):\n",
        "    b.append(a)\n",
        "    print(b)\n",
        "\n",
        "f(10)\n",
        "f(20)"
      ],
      "metadata": {
        "colab": {
          "base_uri": "https://localhost:8080/"
        },
        "id": "bthsKsN60PN3",
        "outputId": "2a27218e-4199-4cbc-b7a4-57199d17a8dc"
      },
      "execution_count": null,
      "outputs": [
        {
          "output_type": "stream",
          "name": "stdout",
          "text": [
            "[10]\n",
            "[10, 20]\n"
          ]
        }
      ]
    },
    {
      "cell_type": "code",
      "source": [
        "def f(a = 10, b = None):\n",
        "    if isinstance(b, list):\n",
        "        b.append(a)\n",
        "    print(b)\n",
        "\n",
        "f(10)\n",
        "f(20, [])"
      ],
      "metadata": {
        "colab": {
          "base_uri": "https://localhost:8080/"
        },
        "id": "GRHaYat60-Oy",
        "outputId": "b6e99fd8-10c3-49e1-de9b-b00bf3b9f2e0"
      },
      "execution_count": null,
      "outputs": [
        {
          "output_type": "stream",
          "name": "stdout",
          "text": [
            "None\n",
            "[20]\n"
          ]
        }
      ]
    },
    {
      "cell_type": "code",
      "source": [
        "def f(a = 10):\n",
        "    b = []\n",
        "    b.append(a)\n",
        "    print(b)\n",
        "\n",
        "f(10)\n",
        "f(20)"
      ],
      "metadata": {
        "colab": {
          "base_uri": "https://localhost:8080/"
        },
        "id": "9dJuOr6D1bnd",
        "outputId": "08d09a81-daa2-46e8-9eac-e1ef36b6946e"
      },
      "execution_count": null,
      "outputs": [
        {
          "output_type": "stream",
          "name": "stdout",
          "text": [
            "[10]\n",
            "[20]\n"
          ]
        }
      ]
    },
    {
      "cell_type": "code",
      "source": [
        "# 재귀함수를 이용한 회문여부 판별\n",
        "def palindrome(string):\n",
        "    if len(string) < 2:\n",
        "        return True\n",
        "    if string[0] != string[-1]:\n",
        "        return False\n",
        "    return palindrome(string[1:-1])\n",
        "\n",
        "palindrome('hello world')\n",
        "palindrome('hello')\n",
        "palindrome('heleh')\n",
        "palindrome('오디오')"
      ],
      "metadata": {
        "id": "y_JU3YJV19Em"
      },
      "execution_count": null,
      "outputs": []
    },
    {
      "cell_type": "markdown",
      "metadata": {
        "id": "SNv92-6CgeMs"
      },
      "source": [
        "### 1.5.2 재귀를 통한 반복"
      ]
    },
    {
      "cell_type": "code",
      "execution_count": null,
      "metadata": {
        "id": "5U2xE6F7e-tW"
      },
      "outputs": [],
      "source": [
        "# step1 : 반복문\n",
        "# step2 : 재귀함수\n",
        "# step3 : 어려운 방법으로 풀이(피보나치)"
      ]
    },
    {
      "cell_type": "code",
      "source": [
        "# 팩토리얼 5!\n",
        "\n",
        "result = 1\n",
        "for i in range(1, 6): # 1부터 5까지\n",
        "    result *= i\n",
        "\n",
        "result"
      ],
      "metadata": {
        "colab": {
          "base_uri": "https://localhost:8080/",
          "height": 35
        },
        "id": "1r49elop2iCz",
        "outputId": "e7518bef-33cb-44f6-9b44-8024f2d672b6"
      },
      "execution_count": null,
      "outputs": [
        {
          "output_type": "execute_result",
          "data": {
            "text/plain": [
              "'10,000,000'"
            ],
            "application/vnd.google.colaboratory.intrinsic+json": {
              "type": "string"
            }
          },
          "metadata": {},
          "execution_count": 17
        }
      ]
    },
    {
      "cell_type": "code",
      "source": [
        "def factorial(number):\n",
        "    result = 1\n",
        "    for i in range(1, number+1):\n",
        "        result *= i\n",
        "\n",
        "    return result\n",
        "\n",
        "factorial(5)"
      ],
      "metadata": {
        "id": "Qt-9Gi3l2mq6"
      },
      "execution_count": null,
      "outputs": []
    },
    {
      "cell_type": "code",
      "source": [
        "def factorial(number):\n",
        "    if number > 1:\n",
        "        return number * factorial(number - 1)\n",
        "    return 1\n",
        "\n",
        "factorial(5)"
      ],
      "metadata": {
        "id": "Ma3wkXo22t2R"
      },
      "execution_count": null,
      "outputs": []
    },
    {
      "cell_type": "markdown",
      "metadata": {
        "id": "yyysvudDgqal"
      },
      "source": [
        "### 1.5.3 재귀를 이용한 반복 (피보나치)"
      ]
    },
    {
      "cell_type": "code",
      "source": [
        "a = 10\n",
        "b = 20\n",
        "a, b = b, a\n",
        "\n",
        "a, b"
      ],
      "metadata": {
        "colab": {
          "base_uri": "https://localhost:8080/"
        },
        "id": "eTLRyFdw4tZD",
        "outputId": "e96ca693-3d98-4586-bcc5-8195a25b4eb9"
      },
      "execution_count": null,
      "outputs": [
        {
          "output_type": "execute_result",
          "data": {
            "text/plain": [
              "(20, 10)"
            ]
          },
          "metadata": {},
          "execution_count": 23
        }
      ]
    },
    {
      "cell_type": "code",
      "source": [
        "a = 10\n",
        "b = 20\n",
        "\n",
        "temp = a\n",
        "a = b\n",
        "b = temp\n",
        "\n",
        "a, b"
      ],
      "metadata": {
        "colab": {
          "base_uri": "https://localhost:8080/"
        },
        "id": "TXyqYPBl4ybW",
        "outputId": "13d2dfdb-ad97-4418-ce0d-892dbac3ea8c"
      },
      "execution_count": null,
      "outputs": [
        {
          "output_type": "execute_result",
          "data": {
            "text/plain": [
              "(20, 10)"
            ]
          },
          "metadata": {},
          "execution_count": 24
        }
      ]
    },
    {
      "cell_type": "code",
      "source": [
        "%%timeit\n",
        "\n",
        "curr, next = 0, 1\n",
        "for _ in range(30):\n",
        "     curr, next = next, curr + next\n",
        "\n",
        "curr"
      ],
      "metadata": {
        "colab": {
          "base_uri": "https://localhost:8080/"
        },
        "id": "IaGKYXVM4lri",
        "outputId": "cc9e756b-1342-4896-8f67-7f29a60b04f3"
      },
      "execution_count": null,
      "outputs": [
        {
          "output_type": "stream",
          "name": "stdout",
          "text": [
            "2.58 µs ± 1.03 µs per loop (mean ± std. dev. of 7 runs, 100000 loops each)\n"
          ]
        }
      ]
    },
    {
      "cell_type": "code",
      "source": [
        "%%timeit\n",
        "# 피보나치 재귀 풀이\n",
        "def fib(num):\n",
        "    if num == 0:\n",
        "        return 0\n",
        "    if num == 1 or num == 2:\n",
        "        return 1\n",
        "    else:\n",
        "        return fib(num-1) + fib(num-2)\n",
        "\n",
        "fib(30) #11만배 느려지네요"
      ],
      "metadata": {
        "colab": {
          "base_uri": "https://localhost:8080/"
        },
        "id": "NtrwocQK50Od",
        "outputId": "aada8d1e-9702-4312-f77b-d1e8499de092"
      },
      "execution_count": null,
      "outputs": [
        {
          "output_type": "stream",
          "name": "stdout",
          "text": [
            "295 ms ± 12.7 ms per loop (mean ± std. dev. of 7 runs, 1 loop each)\n"
          ]
        }
      ]
    },
    {
      "cell_type": "markdown",
      "metadata": {
        "id": "3gWm1FBVf1Yw"
      },
      "source": [
        "![image.png](data:image/png;base64,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)"
      ]
    },
    {
      "cell_type": "code",
      "source": [
        "# 메모이제이션 기법(계산될 값을 미리 기억하고 꺼내는 기법)\n",
        "dic = {1:1, 2:1}\n",
        "\n",
        "def fib_memo(n):\n",
        "    if n in dic:\n",
        "        return dic[n]\n",
        "\n",
        "    dic[n] = fib_memo(n-1) + fib_memo(n-2)\n",
        "    return dic[n]\n",
        "\n",
        "fib_memo(32)"
      ],
      "metadata": {
        "colab": {
          "base_uri": "https://localhost:8080/"
        },
        "id": "IhRfdRXV6gSW",
        "outputId": "279cf452-da56-4e77-8393-7ff777ac77f5"
      },
      "execution_count": null,
      "outputs": [
        {
          "output_type": "execute_result",
          "data": {
            "text/plain": [
              "2178309"
            ]
          },
          "metadata": {},
          "execution_count": 39
        }
      ]
    },
    {
      "cell_type": "code",
      "source": [
        "from functools import lru_cache\n",
        "\n",
        "@lru_cache(maxsize=None)\n",
        "def fib(num):\n",
        "    if num == 0:\n",
        "        return 0\n",
        "    if num == 1 or num == 2:\n",
        "        return 1\n",
        "    else:\n",
        "        return fib(num-1) + fib(num-2)\n",
        "\n",
        "fib(50)"
      ],
      "metadata": {
        "colab": {
          "base_uri": "https://localhost:8080/"
        },
        "id": "pxdWCy2D7q9m",
        "outputId": "634596cc-22ab-492c-d6d0-138316799ebf"
      },
      "execution_count": null,
      "outputs": [
        {
          "output_type": "execute_result",
          "data": {
            "text/plain": [
              "12586269025"
            ]
          },
          "metadata": {},
          "execution_count": 40
        }
      ]
    },
    {
      "cell_type": "markdown",
      "source": [
        "# 순열, 조합"
      ],
      "metadata": {
        "id": "2ZoLIqML8f4p"
      }
    },
    {
      "cell_type": "code",
      "source": [
        "from itertools import combinations\n",
        "\n",
        "list(combinations([1, 2, 3, 4], 2))"
      ],
      "metadata": {
        "id": "LjuzdqDY8hbc"
      },
      "execution_count": null,
      "outputs": []
    },
    {
      "cell_type": "code",
      "source": [
        "from itertools import permutations\n",
        "\n",
        "list(permutations([1, 2, 3, 4], 2))"
      ],
      "metadata": {
        "id": "86jy_Xqv8s2Z"
      },
      "execution_count": null,
      "outputs": []
    },
    {
      "cell_type": "code",
      "source": [
        "from itertools import combinations\n",
        "\n",
        "for i in combinations([1, 2, 3, 4], 2):\n",
        "    if sum(i) == 6:\n",
        "        print(i)"
      ],
      "metadata": {
        "colab": {
          "base_uri": "https://localhost:8080/"
        },
        "id": "0nLW1IbU9aGe",
        "outputId": "c7d0f446-dcb5-4492-f066-391439764f2d"
      },
      "execution_count": null,
      "outputs": [
        {
          "output_type": "stream",
          "name": "stdout",
          "text": [
            "(2, 4)\n"
          ]
        }
      ]
    },
    {
      "cell_type": "markdown",
      "metadata": {
        "id": "9pLjIKD46LPd"
      },
      "source": [
        "# 실전 대기업 문제 풀이"
      ]
    },
    {
      "cell_type": "markdown",
      "metadata": {
        "id": "rFbImTlt5tv4"
      },
      "source": [
        "* 너무 어려운 문제는 제외하였습니다.\n",
        "* 문제 풀이는 워밍업, 18년, 19년, 20년, 21년 입사문제 풀이 순으로 진행합니다.\n",
        "* 문제는 한 해 전에 공개됩니다. 예를 들어 2020 공채라면 19년에 시험을 보기 때문입니다."
      ]
    },
    {
      "cell_type": "markdown",
      "metadata": {
        "id": "q5CyT2MW5twB"
      },
      "source": [
        "## 카카오 2018 공채 문제 1번\n",
        "* 비밀지도 문제 링크 : https://school.programmers.co.kr/learn/courses/30/lessons/17681"
      ]
    },
    {
      "cell_type": "code",
      "source": [
        "# 11110   # 30\n",
        "#  1001   # 9\n",
        "# -----\n",
        "# 11111   # 31"
      ],
      "metadata": {
        "id": "KSdsmBr9BtjK"
      },
      "execution_count": null,
      "outputs": []
    },
    {
      "cell_type": "code",
      "source": [
        "# 00111  -> '  ###' 공백이 나와야 하는데\n",
        "# bin(7)[2:] -> 111 -> '###' 공백이 안나옵니다!"
      ],
      "metadata": {
        "id": "3jX_aC0rCfYJ"
      },
      "execution_count": null,
      "outputs": []
    },
    {
      "cell_type": "code",
      "source": [
        "'hello'.zfill(30)\n",
        "'10'.zfill(30)\n",
        "'7'.zfill(2)"
      ],
      "metadata": {
        "colab": {
          "base_uri": "https://localhost:8080/",
          "height": 35
        },
        "id": "kQauLjftCufL",
        "outputId": "6d5bb3d1-125f-40a2-e5d7-7f12060014cb"
      },
      "execution_count": null,
      "outputs": [
        {
          "output_type": "execute_result",
          "data": {
            "text/plain": [
              "'07'"
            ],
            "application/vnd.google.colaboratory.intrinsic+json": {
              "type": "string"
            }
          },
          "metadata": {},
          "execution_count": 55
        }
      ]
    },
    {
      "cell_type": "code",
      "source": [
        "def solution(n, arr1, arr2):\n",
        "    answer = []\n",
        "    print(arr1[0] | arr2[0])\n",
        "    print(bin(arr1[0] | arr2[0])[2:].zfill(n).replace('1', '#').replace('0', ' '))\n",
        "    return answer\n",
        "\n",
        "n = 5\n",
        "arr1 = [9, 20, 28, 18, 11]\n",
        "arr2 = [30, 1, 21, 17, 28]\n",
        "\n",
        "solution(n, arr1, arr2)"
      ],
      "metadata": {
        "colab": {
          "base_uri": "https://localhost:8080/"
        },
        "id": "zpYCQs9PBRkv",
        "outputId": "3e631b84-ec8c-40ed-86da-afde4fe6621e"
      },
      "execution_count": null,
      "outputs": [
        {
          "output_type": "stream",
          "name": "stdout",
          "text": [
            "31\n",
            "#####\n"
          ]
        },
        {
          "output_type": "execute_result",
          "data": {
            "text/plain": [
              "[]"
            ]
          },
          "metadata": {},
          "execution_count": 52
        }
      ]
    },
    {
      "cell_type": "code",
      "source": [
        "def solution(n, arr1, arr2):\n",
        "    answer = []\n",
        "    for i, j in zip(arr1, arr2):\n",
        "        answer.append(bin(i | j)[2:].zfill(n).replace('1', '#').replace('0', ' '))\n",
        "    return answer\n",
        "\n",
        "n = 5\n",
        "arr1 = [9, 20, 28, 18, 11]\n",
        "arr2 = [30, 1, 21, 17, 28]\n",
        "\n",
        "solution(n, arr1, arr2)\n",
        "# [\"#####\",\"# # #\", \"### #\", \"#  ##\", \"#####\"]"
      ],
      "metadata": {
        "colab": {
          "base_uri": "https://localhost:8080/"
        },
        "id": "MYSd664qC-wh",
        "outputId": "6ba5c567-ac9e-49bb-d1ef-feb720931a5c"
      },
      "execution_count": null,
      "outputs": [
        {
          "output_type": "execute_result",
          "data": {
            "text/plain": [
              "True"
            ]
          },
          "metadata": {},
          "execution_count": 60
        }
      ]
    },
    {
      "cell_type": "markdown",
      "metadata": {
        "id": "tZzxd6b55twF"
      },
      "source": [
        "## 카카오 2018 공채 문제 2번\n",
        "* 다트게임 문제 링크 : https://school.programmers.co.kr/learn/courses/30/lessons/17682"
      ]
    },
    {
      "cell_type": "code",
      "source": [
        "def solution(dartResult):\n",
        "    result = []\n",
        "    for index, value in enumerate(dartResult):\n",
        "        if value == 'S':\n",
        "            result[-1] **= 1\n",
        "        elif value == 'D':\n",
        "            result[-1] **= 2\n",
        "        elif value == 'T':\n",
        "            result[-1] **= 3\n",
        "        elif value == '*':\n",
        "            result[-1] *= 2\n",
        "            if len(result) >= 2:\n",
        "                result[-2] *= 2\n",
        "        elif value == '#':\n",
        "            result[-1] *= -1\n",
        "        else:\n",
        "            if dartResult[index:index+2] == '10':\n",
        "                result.append(10)\n",
        "            elif dartResult[index-1:index+1] != '10':\n",
        "                result.append(int(value))\n",
        "    print(result)\n",
        "    return sum(result)\n",
        "\n",
        "solution('1S2D*3T')"
      ],
      "metadata": {
        "colab": {
          "base_uri": "https://localhost:8080/"
        },
        "id": "YEOeyR4LEmXc",
        "outputId": "23a520dd-7070-4b15-c102-29a993d49646"
      },
      "execution_count": null,
      "outputs": [
        {
          "output_type": "stream",
          "name": "stdout",
          "text": [
            "[2, 8, 27]\n"
          ]
        },
        {
          "output_type": "execute_result",
          "data": {
            "text/plain": [
              "37"
            ]
          },
          "metadata": {},
          "execution_count": 62
        }
      ]
    },
    {
      "cell_type": "markdown",
      "metadata": {
        "id": "rJ4pRYNo5twH"
      },
      "source": [
        "## 카카오 2018 공채 문제 3번\n",
        "* 캐시 문제 링크 :\n",
        "https://school.programmers.co.kr/learn/courses/30/lessons/17680"
      ]
    },
    {
      "cell_type": "code",
      "execution_count": null,
      "metadata": {
        "id": "z-4chGYd5twH"
      },
      "outputs": [],
      "source": [
        "도시이름 = ['Jeju', 'Pangyo', 'Seoul', 'NewYork', 'LA', 'Jeju', 'Pangyo', 'Seoul', 'NewYork', 'LA']"
      ]
    },
    {
      "cell_type": "code",
      "source": [
        "# 오답\n",
        "도시이름 = ['Jeju', 'Pangyo', 'Seoul', 'NewYork', 'LA', 'Jeju', 'Pangyo', 'Seoul', 'NewYork', 'LA']\n",
        "\n",
        "def solution(cacheSize, cities):\n",
        "    cache = []\n",
        "    time = 0\n",
        "    for city in cities:\n",
        "        city = city.lower()\n",
        "        if city in cache:\n",
        "            time += 1\n",
        "            cache.remove(city)\n",
        "            cache.append(city)\n",
        "        else:\n",
        "            time += 5\n",
        "            if len(cache) >= cacheSize:\n",
        "                cache.pop(0)\n",
        "            cache.append(city)\n",
        "\n",
        "    return time\n",
        "\n",
        "solution(3, [\"Jeju\", \"Pangyo\", \"Seoul\", \"Jeju\", \"Pangyo\", \"Seoul\", \"Jeju\", \"Pangyo\", \"Seoul\"])"
      ],
      "metadata": {
        "colab": {
          "base_uri": "https://localhost:8080/"
        },
        "id": "nFHbq7n4GGT3",
        "outputId": "f4697882-b47b-4028-c32e-5466838b5420"
      },
      "execution_count": null,
      "outputs": [
        {
          "output_type": "execute_result",
          "data": {
            "text/plain": [
              "21"
            ]
          },
          "metadata": {},
          "execution_count": 66
        }
      ]
    },
    {
      "cell_type": "code",
      "source": [
        "# 오답\n",
        "# 테스트 케이스를 테스트 해보는 중\n",
        "# 0일 때, 1일 때\n",
        "\n",
        "def solution(cacheSize, cities):\n",
        "    cache = []\n",
        "    time = 0\n",
        "    for city in cities:\n",
        "        city = city.lower()\n",
        "        if city in cache:\n",
        "            time += 1\n",
        "            cache.remove(city)\n",
        "            cache.append(city)\n",
        "        else:\n",
        "            time += 5\n",
        "            if len(cache) >= cacheSize: # len(cache)도 0이었고, cacheSize도 0이어서 아래 코드 실행\n",
        "                cache.pop(0)\n",
        "            cache.append(city)\n",
        "\n",
        "    return time\n",
        "\n",
        "solution(0, [\"Jeju\", \"Pangyo\", \"Seoul\", \"NewYork\", \"LA\"])"
      ],
      "metadata": {
        "colab": {
          "base_uri": "https://localhost:8080/",
          "height": 359
        },
        "id": "4ZJ6RZOeH9-E",
        "outputId": "998adb8e-3b01-4fcd-86fd-4545eb59479d"
      },
      "execution_count": null,
      "outputs": [
        {
          "output_type": "stream",
          "name": "stdout",
          "text": [
            "[]\n"
          ]
        },
        {
          "output_type": "error",
          "ename": "IndexError",
          "evalue": "ignored",
          "traceback": [
            "\u001b[0;31m---------------------------------------------------------------------------\u001b[0m",
            "\u001b[0;31mIndexError\u001b[0m                                Traceback (most recent call last)",
            "\u001b[0;32m<ipython-input-69-7ea021418d88>\u001b[0m in \u001b[0;36m<cell line: 23>\u001b[0;34m()\u001b[0m\n\u001b[1;32m     21\u001b[0m     \u001b[0;32mreturn\u001b[0m \u001b[0mtime\u001b[0m\u001b[0;34m\u001b[0m\u001b[0;34m\u001b[0m\u001b[0m\n\u001b[1;32m     22\u001b[0m \u001b[0;34m\u001b[0m\u001b[0m\n\u001b[0;32m---> 23\u001b[0;31m \u001b[0msolution\u001b[0m\u001b[0;34m(\u001b[0m\u001b[0;36m0\u001b[0m\u001b[0;34m,\u001b[0m \u001b[0;34m[\u001b[0m\u001b[0;34m\"Jeju\"\u001b[0m\u001b[0;34m,\u001b[0m \u001b[0;34m\"Pangyo\"\u001b[0m\u001b[0;34m,\u001b[0m \u001b[0;34m\"Seoul\"\u001b[0m\u001b[0;34m,\u001b[0m \u001b[0;34m\"NewYork\"\u001b[0m\u001b[0;34m,\u001b[0m \u001b[0;34m\"LA\"\u001b[0m\u001b[0;34m]\u001b[0m\u001b[0;34m)\u001b[0m\u001b[0;34m\u001b[0m\u001b[0;34m\u001b[0m\u001b[0m\n\u001b[0m",
            "\u001b[0;32m<ipython-input-69-7ea021418d88>\u001b[0m in \u001b[0;36msolution\u001b[0;34m(cacheSize, cities)\u001b[0m\n\u001b[1;32m     16\u001b[0m             \u001b[0mprint\u001b[0m\u001b[0;34m(\u001b[0m\u001b[0mcache\u001b[0m\u001b[0;34m)\u001b[0m\u001b[0;34m\u001b[0m\u001b[0;34m\u001b[0m\u001b[0m\n\u001b[1;32m     17\u001b[0m             \u001b[0;32mif\u001b[0m \u001b[0mlen\u001b[0m\u001b[0;34m(\u001b[0m\u001b[0mcache\u001b[0m\u001b[0;34m)\u001b[0m \u001b[0;34m>=\u001b[0m \u001b[0mcacheSize\u001b[0m\u001b[0;34m:\u001b[0m\u001b[0;34m\u001b[0m\u001b[0;34m\u001b[0m\u001b[0m\n\u001b[0;32m---> 18\u001b[0;31m                 \u001b[0mcache\u001b[0m\u001b[0;34m.\u001b[0m\u001b[0mpop\u001b[0m\u001b[0;34m(\u001b[0m\u001b[0;36m0\u001b[0m\u001b[0;34m)\u001b[0m\u001b[0;34m\u001b[0m\u001b[0;34m\u001b[0m\u001b[0m\n\u001b[0m\u001b[1;32m     19\u001b[0m             \u001b[0mcache\u001b[0m\u001b[0;34m.\u001b[0m\u001b[0mappend\u001b[0m\u001b[0;34m(\u001b[0m\u001b[0mcity\u001b[0m\u001b[0;34m)\u001b[0m\u001b[0;34m\u001b[0m\u001b[0;34m\u001b[0m\u001b[0m\n\u001b[1;32m     20\u001b[0m \u001b[0;34m\u001b[0m\u001b[0m\n",
            "\u001b[0;31mIndexError\u001b[0m: pop from empty list"
          ]
        }
      ]
    },
    {
      "cell_type": "code",
      "source": [
        "# 정답\n",
        "도시이름 = ['Jeju', 'Pangyo', 'Seoul', 'NewYork', 'LA', 'Jeju', 'Pangyo', 'Seoul', 'NewYork', 'LA']\n",
        "\n",
        "def solution(cacheSize, cities):\n",
        "    cache = []\n",
        "    time = 0\n",
        "    for city in cities:\n",
        "        city = city.lower()\n",
        "        if city in cache:\n",
        "            time += 1\n",
        "            cache.remove(city)\n",
        "            cache.append(city)\n",
        "        else:\n",
        "            time += 5\n",
        "            cache.append(city)\n",
        "            if len(cache) > cacheSize:\n",
        "                cache.pop(0)\n",
        "\n",
        "    return time\n",
        "\n",
        "solution(3, [\"Jeju\", \"Pangyo\", \"Seoul\", \"Jeju\", \"Pangyo\", \"Seoul\", \"Jeju\", \"Pangyo\", \"Seoul\"])"
      ],
      "metadata": {
        "colab": {
          "base_uri": "https://localhost:8080/"
        },
        "id": "XZRJf5VBH1Dg",
        "outputId": "39912b09-683d-4aad-f41c-497c835c7bd5"
      },
      "execution_count": null,
      "outputs": [
        {
          "output_type": "execute_result",
          "data": {
            "text/plain": [
              "21"
            ]
          },
          "metadata": {},
          "execution_count": 70
        }
      ]
    },
    {
      "cell_type": "code",
      "source": [
        "from collections import deque\n",
        "\n",
        "def solution(cacheSize, cities):\n",
        "    cache = deque([], maxlen=cacheSize)\n",
        "    time = 0\n",
        "    for city in cities:\n",
        "        city = city.lower()\n",
        "        if city in cache:\n",
        "            cache.remove(city)\n",
        "            cache.append(city)\n",
        "            time += 1\n",
        "        else:\n",
        "            cache.append(city)\n",
        "            time += 5\n",
        "    return time"
      ],
      "metadata": {
        "id": "a8gId1EAJBEJ"
      },
      "execution_count": null,
      "outputs": []
    },
    {
      "cell_type": "markdown",
      "metadata": {
        "id": "sPPxTOkA5twO"
      },
      "source": [
        "## 카카오 2019 공채 문제 1번\n",
        "* 카카오 오픈 채팅방 : https://school.programmers.co.kr/learn/courses/30/lessons/42888"
      ]
    },
    {
      "cell_type": "code",
      "source": [
        "def solution(record):\n",
        "    userinfo = {}\n",
        "    answer = []\n",
        "    for text in record:\n",
        "        info = text.split(' ')\n",
        "        if info[0] == 'Enter':\n",
        "            userinfo[info[1]] = info[2]\n",
        "            answer.append([info[1], '님이 들어왔습니다.'])\n",
        "        elif info[0] == 'Leave':\n",
        "            answer.append([info[1], '님이 나갔습니다.'])\n",
        "        elif info[0] == 'Change':\n",
        "            userinfo[info[1]] = info[2]\n",
        "    # print(answer)\n",
        "    # print(userinfo)\n",
        "    return [f'{userinfo[uid]}{text}' for uid, text in answer]\n",
        "\n",
        "record = [\"Enter uid1234 Muzi\", \"Enter uid4567 Prodo\",\"Leave uid1234\",\"Enter uid1234 Prodo\",\"Change uid4567 Ryan\"]\n",
        "solution(record)"
      ],
      "metadata": {
        "colab": {
          "base_uri": "https://localhost:8080/"
        },
        "id": "KtckTBUtO5SW",
        "outputId": "9071cc8d-9433-471d-8e44-0dbf124e6500"
      },
      "execution_count": null,
      "outputs": [
        {
          "output_type": "execute_result",
          "data": {
            "text/plain": [
              "['Prodo님이 들어왔습니다.', 'Ryan님이 들어왔습니다.', 'Prodo님이 나갔습니다.', 'Prodo님이 들어왔습니다.']"
            ]
          },
          "metadata": {},
          "execution_count": 77
        }
      ]
    },
    {
      "cell_type": "code",
      "source": [],
      "metadata": {
        "id": "ftUP6IdOPNzE"
      },
      "execution_count": null,
      "outputs": []
    },
    {
      "cell_type": "markdown",
      "metadata": {
        "id": "LnebP09G5twO"
      },
      "source": [
        "## 카카오 2019 공채 문제 2번\n",
        "* 실패율 링크 : https://school.programmers.co.kr/learn/courses/30/lessons/42889"
      ]
    },
    {
      "cell_type": "code",
      "source": [
        "# [2, 1, 2, 6, 2, 4, 3, 3]\n",
        "\n",
        "# 1번 스테이지 1/8\n",
        "# 2번 스테이지 3/7\n",
        "# 3번 스테이지 2/4"
      ],
      "metadata": {
        "id": "U6c-nQNNZGyz"
      },
      "execution_count": null,
      "outputs": []
    },
    {
      "cell_type": "code",
      "source": [
        "# from collections import Counter\n",
        "# Counter()\n",
        "\n",
        "# import collections\n",
        "# collections.Counter()"
      ],
      "metadata": {
        "id": "oHdTWspfZWHo"
      },
      "execution_count": null,
      "outputs": []
    },
    {
      "cell_type": "code",
      "source": [
        "from collections import Counter\n",
        "\n",
        "s = [2, 1, 2, 6, 2, 4, 3, 3]\n",
        "length = len(s)\n",
        "s = Counter(s)\n",
        "s"
      ],
      "metadata": {
        "colab": {
          "base_uri": "https://localhost:8080/"
        },
        "id": "qAVhWnKVZgrz",
        "outputId": "d14434db-3b6c-4276-be22-4ed13cf44804"
      },
      "execution_count": null,
      "outputs": [
        {
          "output_type": "execute_result",
          "data": {
            "text/plain": [
              "Counter({2: 3, 1: 1, 6: 1, 4: 1, 3: 2})"
            ]
          },
          "metadata": {},
          "execution_count": 83
        }
      ]
    },
    {
      "cell_type": "code",
      "source": [
        "length\n",
        "s[1]\n",
        "s[2]"
      ],
      "metadata": {
        "colab": {
          "base_uri": "https://localhost:8080/"
        },
        "id": "kKZ49WjMcYgy",
        "outputId": "34985b0a-9de6-45b4-962c-abd4c3d68e6c"
      },
      "execution_count": null,
      "outputs": [
        {
          "output_type": "execute_result",
          "data": {
            "text/plain": [
              "3"
            ]
          },
          "metadata": {},
          "execution_count": 85
        }
      ]
    },
    {
      "cell_type": "code",
      "source": [
        "s[1]/length # [2, 1, 2, 6, 2, 4, 3, 3]"
      ],
      "metadata": {
        "colab": {
          "base_uri": "https://localhost:8080/"
        },
        "id": "Yo71PMcecpSI",
        "outputId": "aef6c673-4cc3-43af-b26d-d9cd0b45c642"
      },
      "execution_count": null,
      "outputs": [
        {
          "output_type": "execute_result",
          "data": {
            "text/plain": [
              "0.125"
            ]
          },
          "metadata": {},
          "execution_count": 86
        }
      ]
    },
    {
      "cell_type": "code",
      "source": [
        "length -= s[1] # [2, 2, 6, 2, 4, 3, 3]\n",
        "s[2]/length"
      ],
      "metadata": {
        "colab": {
          "base_uri": "https://localhost:8080/"
        },
        "id": "DNZXYCn7csGd",
        "outputId": "1c062fd1-02ea-46af-86f3-89db0bc93643"
      },
      "execution_count": null,
      "outputs": [
        {
          "output_type": "execute_result",
          "data": {
            "text/plain": [
              "0.42857142857142855"
            ]
          },
          "metadata": {},
          "execution_count": 87
        }
      ]
    },
    {
      "cell_type": "code",
      "source": [
        "length -= s[2] # [6, 4, 3, 3]\n",
        "s[3]/length"
      ],
      "metadata": {
        "colab": {
          "base_uri": "https://localhost:8080/"
        },
        "id": "R2aVl_wfc5WW",
        "outputId": "d8670090-a34b-4da8-a103-162f8dbdcafb"
      },
      "execution_count": null,
      "outputs": [
        {
          "output_type": "execute_result",
          "data": {
            "text/plain": [
              "0.5"
            ]
          },
          "metadata": {},
          "execution_count": 88
        }
      ]
    },
    {
      "cell_type": "code",
      "source": [
        "length -= s[3] # [6, 4]\n",
        "s[4]/length"
      ],
      "metadata": {
        "colab": {
          "base_uri": "https://localhost:8080/"
        },
        "id": "RZujfa7Mc8FW",
        "outputId": "5030743b-3c81-43b1-bace-24f88a671033"
      },
      "execution_count": null,
      "outputs": [
        {
          "output_type": "execute_result",
          "data": {
            "text/plain": [
              "0.5"
            ]
          },
          "metadata": {},
          "execution_count": 89
        }
      ]
    },
    {
      "cell_type": "code",
      "source": [
        "length -= s[4] # [6, 4]\n",
        "s[5]/length"
      ],
      "metadata": {
        "colab": {
          "base_uri": "https://localhost:8080/"
        },
        "id": "BbLbw3mZdOAU",
        "outputId": "9abdc48d-68ca-4a7a-f933-514ee7bcbd79"
      },
      "execution_count": null,
      "outputs": [
        {
          "output_type": "execute_result",
          "data": {
            "text/plain": [
              "0.0"
            ]
          },
          "metadata": {},
          "execution_count": 90
        }
      ]
    },
    {
      "cell_type": "code",
      "source": [
        "from collections import Counter\n",
        "\n",
        "def solution(N, stages):\n",
        "    total_people = len(stages)\n",
        "    count_people = Counter(stages)\n",
        "\n",
        "    answer = {} # 스테이지:실패율\n",
        "\n",
        "    for i in range(1, N+1):\n",
        "        answer[i] = 0\n",
        "\n",
        "    for i in answer:\n",
        "        if count_people[i] != 0 and total_people != 0:\n",
        "            answer[i] = count_people[i]/total_people\n",
        "        total_people -= count_people[i]\n",
        "\n",
        "    print(answer)\n",
        "\n",
        "    return sorted(answer, key=lambda x:answer[x], reverse=True)\n",
        "\n",
        "solution(5, [2, 1, 2, 6, 2, 4, 3, 3])"
      ],
      "metadata": {
        "colab": {
          "base_uri": "https://localhost:8080/"
        },
        "id": "z6ERLicjdaUi",
        "outputId": "0129a469-670a-42ca-b44b-663f932c38a8"
      },
      "execution_count": null,
      "outputs": [
        {
          "output_type": "stream",
          "name": "stdout",
          "text": [
            "{1: 0.125, 2: 0.42857142857142855, 3: 0.5, 4: 0.5, 5: 0}\n"
          ]
        },
        {
          "output_type": "execute_result",
          "data": {
            "text/plain": [
              "[3, 4, 2, 1, 5]"
            ]
          },
          "metadata": {},
          "execution_count": 91
        }
      ]
    },
    {
      "cell_type": "code",
      "source": [
        "from collections import Counter\n",
        "\n",
        "def solution(N, stages):\n",
        "    total_people = len(stages)\n",
        "    count_people = Counter(stages)\n",
        "\n",
        "    answer = [0] * (N+1)  # 스테이지:실패율\n",
        "\n",
        "    for i in range(1, N+1):\n",
        "        print(answer)\n",
        "        if count_people[i] != 0 and total_people != 0:\n",
        "            answer[i] = [i, count_people[i]/total_people]\n",
        "        else:\n",
        "            answer[i] = [i, 0]\n",
        "        total_people -= count_people[i]\n",
        "\n",
        "    print(answer)\n",
        "\n",
        "    # return sorted(answer, key=lambda x:answer[x], reverse=True)\n",
        "\n",
        "solution(5, [2, 1, 2, 6, 2, 4, 3, 3])"
      ],
      "metadata": {
        "colab": {
          "base_uri": "https://localhost:8080/"
        },
        "id": "yMZF3Sg0eN6E",
        "outputId": "67f9fe3a-08e2-433f-8e64-74ddbc22a54a"
      },
      "execution_count": null,
      "outputs": [
        {
          "output_type": "stream",
          "name": "stdout",
          "text": [
            "[0, 0, 0, 0, 0, 0]\n",
            "[0, [1, 0.125], 0, 0, 0, 0]\n",
            "[0, [1, 0.125], [2, 0.42857142857142855], 0, 0, 0]\n",
            "[0, [1, 0.125], [2, 0.42857142857142855], [3, 0.5], 0, 0]\n",
            "[0, [1, 0.125], [2, 0.42857142857142855], [3, 0.5], [4, 0.5], 0]\n",
            "[0, [1, 0.125], [2, 0.42857142857142855], [3, 0.5], [4, 0.5], [5, 0]]\n"
          ]
        }
      ]
    },
    {
      "cell_type": "code",
      "source": [
        "answer = [0] * 5\n",
        "answer"
      ],
      "metadata": {
        "colab": {
          "base_uri": "https://localhost:8080/"
        },
        "id": "UDpviZ2Bensd",
        "outputId": "48830492-732e-459c-9e73-02cb255d06e3"
      },
      "execution_count": null,
      "outputs": [
        {
          "output_type": "execute_result",
          "data": {
            "text/plain": [
              "[0, 0, 0, 0, 0]"
            ]
          },
          "metadata": {},
          "execution_count": 93
        }
      ]
    },
    {
      "cell_type": "code",
      "source": [
        "from collections import Counter\n",
        "\n",
        "\n",
        "def solution(N: int, stages: list[int]):\n",
        "    players = len(stages)\n",
        "    answer = []\n",
        "    counter = Counter(stages)\n",
        "\n",
        "    for i in range(1, N + 1):\n",
        "        fail = counter[i]\n",
        "        print(f\"{fail} / {players}\")\n",
        "        answer.append((i, fail / players))\n",
        "        players -= fail\n",
        "\n",
        "    answer.sort(key=lambda x: x[1], reverse=True)\n",
        "    return list(map(lambda x: x[0], answer))\n",
        "\n",
        "\n",
        "print(solution(5, [2, 1, 2, 6, 2, 4, 3, 3]))"
      ],
      "metadata": {
        "id": "ujaFRwmQf-7d"
      },
      "execution_count": null,
      "outputs": []
    },
    {
      "cell_type": "code",
      "source": [
        "# https://school.programmers.co.kr/learn/courses/30/lessons/120956\n",
        "import re\n",
        "\n",
        "def solution(babbling):\n",
        "    count = 0\n",
        "    p = [\"aya\", \"ye\", \"woo\", \"ma\"]\n",
        "    for i in babbling:\n",
        "        print('------------')\n",
        "        print(i)\n",
        "        for pattern in p:\n",
        "            i = re.sub(pattern, ' ', i)\n",
        "            print(i)\n",
        "        if i.replace(' ', '') == '':\n",
        "            count += 1\n",
        "    return count\n",
        "\n",
        "solution([\"ayaye\", \"uuuma\", \"ye\", \"yemawoo\", \"ayaa\"])"
      ],
      "metadata": {
        "colab": {
          "base_uri": "https://localhost:8080/"
        },
        "id": "WEYuDNpVmTvF",
        "outputId": "ea22c08e-28b2-4076-c4b6-1614477692ef"
      },
      "execution_count": null,
      "outputs": [
        {
          "output_type": "stream",
          "name": "stdout",
          "text": [
            "------------\n",
            "ayaye\n",
            " ye\n",
            "  \n",
            "  \n",
            "  \n",
            "------------\n",
            "uuuma\n",
            "uuuma\n",
            "uuuma\n",
            "uuuma\n",
            "uuu \n",
            "------------\n",
            "ye\n",
            "ye\n",
            " \n",
            " \n",
            " \n",
            "------------\n",
            "yemawoo\n",
            "yemawoo\n",
            " mawoo\n",
            " ma \n",
            "   \n",
            "------------\n",
            "ayaa\n",
            " a\n",
            " a\n",
            " a\n",
            " a\n"
          ]
        },
        {
          "output_type": "execute_result",
          "data": {
            "text/plain": [
              "3"
            ]
          },
          "metadata": {},
          "execution_count": 100
        }
      ]
    },
    {
      "cell_type": "code",
      "source": [
        "# https://school.programmers.co.kr/learn/courses/30/lessons/120835\n",
        "\n",
        "def solution(emergency):\n",
        "    응급순서 = sorted(emergency, reverse=True)\n",
        "    return [응급순서.index(응급도) + 1 for 응급도 in emergency]"
      ],
      "metadata": {
        "id": "X5lSsbw-mT6r"
      },
      "execution_count": null,
      "outputs": []
    }
  ],
  "metadata": {
    "colab": {
      "collapsed_sections": [
        "sPPxTOkA5twO"
      ],
      "provenance": []
    },
    "kernelspec": {
      "display_name": "Python 3",
      "language": "python",
      "name": "python3"
    },
    "language_info": {
      "codemirror_mode": {
        "name": "ipython",
        "version": 3
      },
      "file_extension": ".py",
      "mimetype": "text/x-python",
      "name": "python",
      "nbconvert_exporter": "python",
      "pygments_lexer": "ipython3",
      "version": "3.8.5"
    }
  },
  "nbformat": 4,
  "nbformat_minor": 0
}