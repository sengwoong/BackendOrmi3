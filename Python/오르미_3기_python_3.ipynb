{
  "nbformat": 4,
  "nbformat_minor": 0,
  "metadata": {
    "colab": {
      "provenance": []
    },
    "kernelspec": {
      "name": "python3",
      "display_name": "Python 3"
    },
    "language_info": {
      "name": "python"
    }
  },
  "cells": [
    {
      "cell_type": "markdown",
      "source": [
        "# 리스트"
      ],
      "metadata": {
        "id": "9O2kl36KEHCK"
      }
    },
    {
      "cell_type": "code",
      "execution_count": null,
      "metadata": {
        "colab": {
          "base_uri": "https://localhost:8080/",
          "height": 35
        },
        "id": "qj8ZsL9EEEyI",
        "outputId": "b004f6f7-8d70-434f-e806-e574d2f1d3fd"
      },
      "outputs": [
        {
          "output_type": "execute_result",
          "data": {
            "text/plain": [
              "'hello'"
            ],
            "application/vnd.google.colaboratory.intrinsic+json": {
              "type": "string"
            }
          },
          "metadata": {},
          "execution_count": 2
        }
      ],
      "source": [
        "# 시퀀스형 자료형\n",
        "a = 'hello world'\n",
        "a[0]\n",
        "a[:5]"
      ]
    },
    {
      "cell_type": "code",
      "source": [
        "range(10)[3]"
      ],
      "metadata": {
        "colab": {
          "base_uri": "https://localhost:8080/"
        },
        "id": "yk4SPEDMEihR",
        "outputId": "633283da-5d15-4084-e530-0d4916a410f5"
      },
      "execution_count": null,
      "outputs": [
        {
          "output_type": "execute_result",
          "data": {
            "text/plain": [
              "3"
            ]
          },
          "metadata": {},
          "execution_count": 3
        }
      ]
    },
    {
      "cell_type": "code",
      "source": [
        "range(100, 1000, 10)[3]"
      ],
      "metadata": {
        "colab": {
          "base_uri": "https://localhost:8080/"
        },
        "id": "m1gPkaRx2F7O",
        "outputId": "80d4482f-96b0-4165-bbe0-7bf5e9d0a618"
      },
      "execution_count": 1,
      "outputs": [
        {
          "output_type": "execute_result",
          "data": {
            "text/plain": [
              "130"
            ]
          },
          "metadata": {},
          "execution_count": 1
        }
      ]
    },
    {
      "cell_type": "code",
      "source": [
        "1, 2, 3, 4, 5"
      ],
      "metadata": {
        "colab": {
          "base_uri": "https://localhost:8080/"
        },
        "id": "tI5V-x_b2eZ2",
        "outputId": "6d5db841-2ca1-4813-895f-6ad1e0279934"
      },
      "execution_count": 6,
      "outputs": [
        {
          "output_type": "execute_result",
          "data": {
            "text/plain": [
              "(1, 2, 3, 4, 5)"
            ]
          },
          "metadata": {},
          "execution_count": 6
        }
      ]
    },
    {
      "cell_type": "code",
      "source": [
        "c = 1, 2, 3, 4, 5\n",
        "c"
      ],
      "metadata": {
        "colab": {
          "base_uri": "https://localhost:8080/"
        },
        "id": "OzIlwd6n2gud",
        "outputId": "c2813ec3-71c8-47a5-f302-03346ea5e344"
      },
      "execution_count": 7,
      "outputs": [
        {
          "output_type": "execute_result",
          "data": {
            "text/plain": [
              "(1, 2, 3, 4, 5)"
            ]
          },
          "metadata": {},
          "execution_count": 7
        }
      ]
    },
    {
      "cell_type": "code",
      "source": [
        "list(range(10, 20, 2))"
      ],
      "metadata": {
        "colab": {
          "base_uri": "https://localhost:8080/"
        },
        "id": "hQ_mmORX2Wub",
        "outputId": "8bdc203c-65e2-46bc-f4be-54d01194d85c"
      },
      "execution_count": 4,
      "outputs": [
        {
          "output_type": "execute_result",
          "data": {
            "text/plain": [
              "[10, 12, 14, 16, 18]"
            ]
          },
          "metadata": {},
          "execution_count": 4
        }
      ]
    },
    {
      "cell_type": "code",
      "source": [
        "a, b, c, d, e = range(10, 20, 2)\n",
        "c"
      ],
      "metadata": {
        "colab": {
          "base_uri": "https://localhost:8080/"
        },
        "id": "Ht6ES2Fv2Nts",
        "outputId": "3cabc143-b5cb-4e14-c83a-facd29a88135"
      },
      "execution_count": 5,
      "outputs": [
        {
          "output_type": "execute_result",
          "data": {
            "text/plain": [
              "14"
            ]
          },
          "metadata": {},
          "execution_count": 5
        }
      ]
    },
    {
      "cell_type": "code",
      "source": [
        "a, b, c, d, e, f = 'hello'\n",
        "d"
      ],
      "metadata": {
        "colab": {
          "base_uri": "https://localhost:8080/",
          "height": 199
        },
        "id": "8vZnL1GL2u9-",
        "outputId": "0f657d0c-d4ec-4dcd-8adf-52fce2ff88c0"
      },
      "execution_count": 9,
      "outputs": [
        {
          "output_type": "error",
          "ename": "ValueError",
          "evalue": "ignored",
          "traceback": [
            "\u001b[0;31m---------------------------------------------------------------------------\u001b[0m",
            "\u001b[0;31mValueError\u001b[0m                                Traceback (most recent call last)",
            "\u001b[0;32m<ipython-input-9-ac2944c64f92>\u001b[0m in \u001b[0;36m<cell line: 1>\u001b[0;34m()\u001b[0m\n\u001b[0;32m----> 1\u001b[0;31m \u001b[0ma\u001b[0m\u001b[0;34m,\u001b[0m \u001b[0mb\u001b[0m\u001b[0;34m,\u001b[0m \u001b[0mc\u001b[0m\u001b[0;34m,\u001b[0m \u001b[0md\u001b[0m\u001b[0;34m,\u001b[0m \u001b[0me\u001b[0m\u001b[0;34m,\u001b[0m \u001b[0mf\u001b[0m \u001b[0;34m=\u001b[0m \u001b[0;34m'hello'\u001b[0m\u001b[0;34m\u001b[0m\u001b[0;34m\u001b[0m\u001b[0m\n\u001b[0m\u001b[1;32m      2\u001b[0m \u001b[0md\u001b[0m\u001b[0;34m\u001b[0m\u001b[0;34m\u001b[0m\u001b[0m\n",
            "\u001b[0;31mValueError\u001b[0m: not enough values to unpack (expected 6, got 5)"
          ]
        }
      ]
    },
    {
      "cell_type": "code",
      "source": [
        "a, b, c, d, e = 'hello'\n",
        "d"
      ],
      "metadata": {
        "colab": {
          "base_uri": "https://localhost:8080/",
          "height": 35
        },
        "id": "0WRgyATU2p_L",
        "outputId": "ac1c8f01-e677-4737-b7a8-b0c545c55d2d"
      },
      "execution_count": 8,
      "outputs": [
        {
          "output_type": "execute_result",
          "data": {
            "text/plain": [
              "'l'"
            ],
            "application/vnd.google.colaboratory.intrinsic+json": {
              "type": "string"
            }
          },
          "metadata": {},
          "execution_count": 8
        }
      ]
    },
    {
      "cell_type": "code",
      "source": [
        "for i, j in [[10, 20], [30, 40]]:\n",
        "    print(i, j)"
      ],
      "metadata": {
        "colab": {
          "base_uri": "https://localhost:8080/"
        },
        "id": "WXX0sGWB2x9G",
        "outputId": "874d371c-ceda-42f3-c047-6c3ee2f7ec58"
      },
      "execution_count": 10,
      "outputs": [
        {
          "output_type": "stream",
          "name": "stdout",
          "text": [
            "10 20\n",
            "30 40\n"
          ]
        }
      ]
    },
    {
      "cell_type": "code",
      "source": [
        "range(100)[::5]"
      ],
      "metadata": {
        "colab": {
          "base_uri": "https://localhost:8080/"
        },
        "id": "oQx2NoH2E6rN",
        "outputId": "a7681cca-d6d3-47ac-f076-3e8da669a6af"
      },
      "execution_count": null,
      "outputs": [
        {
          "output_type": "execute_result",
          "data": {
            "text/plain": [
              "range(0, 100, 5)"
            ]
          },
          "metadata": {},
          "execution_count": 5
        }
      ]
    },
    {
      "cell_type": "code",
      "source": [
        "range(10)[3:]"
      ],
      "metadata": {
        "colab": {
          "base_uri": "https://localhost:8080/"
        },
        "id": "IHvFnndfE3Zl",
        "outputId": "020bd3f1-ab1a-46d2-9209-9ff978c27399"
      },
      "execution_count": null,
      "outputs": [
        {
          "output_type": "execute_result",
          "data": {
            "text/plain": [
              "range(3, 10)"
            ]
          },
          "metadata": {},
          "execution_count": 4
        }
      ]
    },
    {
      "cell_type": "code",
      "source": [
        "enumerate([0, 1, 2, 3, 4, 5, 6, 7, 8, 9], 100)"
      ],
      "metadata": {
        "colab": {
          "base_uri": "https://localhost:8080/"
        },
        "id": "5djTX7SDFRis",
        "outputId": "c109a007-d4bb-4c36-f1a7-79066b898801"
      },
      "execution_count": null,
      "outputs": [
        {
          "output_type": "execute_result",
          "data": {
            "text/plain": [
              "<enumerate at 0x790dd2a5d680>"
            ]
          },
          "metadata": {},
          "execution_count": 9
        }
      ]
    },
    {
      "cell_type": "code",
      "source": [
        "enumerate([0, 1, 2, 3, 4, 5, 6, 7, 8, 9], 100)[2]"
      ],
      "metadata": {
        "id": "jaJA_bMBFGmR"
      },
      "execution_count": null,
      "outputs": []
    },
    {
      "cell_type": "code",
      "source": [
        "enumerate([0, 1, 2, 3, 4, 5, 6, 7, 8, 9], 100)[2:]"
      ],
      "metadata": {
        "colab": {
          "base_uri": "https://localhost:8080/",
          "height": 181
        },
        "id": "fOWpzO3NFPRk",
        "outputId": "f071c20a-bc77-428f-fade-28ba48a94fdd"
      },
      "execution_count": null,
      "outputs": [
        {
          "output_type": "error",
          "ename": "TypeError",
          "evalue": "ignored",
          "traceback": [
            "\u001b[0;31m---------------------------------------------------------------------------\u001b[0m",
            "\u001b[0;31mTypeError\u001b[0m                                 Traceback (most recent call last)",
            "\u001b[0;32m<ipython-input-8-8de15ed360f7>\u001b[0m in \u001b[0;36m<cell line: 1>\u001b[0;34m()\u001b[0m\n\u001b[0;32m----> 1\u001b[0;31m \u001b[0menumerate\u001b[0m\u001b[0;34m(\u001b[0m\u001b[0;34m[\u001b[0m\u001b[0;36m0\u001b[0m\u001b[0;34m,\u001b[0m \u001b[0;36m1\u001b[0m\u001b[0;34m,\u001b[0m \u001b[0;36m2\u001b[0m\u001b[0;34m,\u001b[0m \u001b[0;36m3\u001b[0m\u001b[0;34m,\u001b[0m \u001b[0;36m4\u001b[0m\u001b[0;34m,\u001b[0m \u001b[0;36m5\u001b[0m\u001b[0;34m,\u001b[0m \u001b[0;36m6\u001b[0m\u001b[0;34m,\u001b[0m \u001b[0;36m7\u001b[0m\u001b[0;34m,\u001b[0m \u001b[0;36m8\u001b[0m\u001b[0;34m,\u001b[0m \u001b[0;36m9\u001b[0m\u001b[0;34m]\u001b[0m\u001b[0;34m,\u001b[0m \u001b[0;36m100\u001b[0m\u001b[0;34m)\u001b[0m\u001b[0;34m[\u001b[0m\u001b[0;36m2\u001b[0m\u001b[0;34m:\u001b[0m\u001b[0;34m]\u001b[0m\u001b[0;34m\u001b[0m\u001b[0;34m\u001b[0m\u001b[0m\n\u001b[0m",
            "\u001b[0;31mTypeError\u001b[0m: 'enumerate' object is not subscriptable"
          ]
        }
      ]
    },
    {
      "cell_type": "code",
      "source": [
        "b'world'"
      ],
      "metadata": {
        "colab": {
          "base_uri": "https://localhost:8080/"
        },
        "id": "yCY-Lvbe3JhP",
        "outputId": "be62d628-8ffa-43b7-972d-f48ac4d21a5b"
      },
      "execution_count": 11,
      "outputs": [
        {
          "output_type": "execute_result",
          "data": {
            "text/plain": [
              "b'world'"
            ]
          },
          "metadata": {},
          "execution_count": 11
        }
      ]
    },
    {
      "cell_type": "code",
      "source": [
        "b = b'world' # 유니코드표 X, 아스키코드표에서 찾습니다!\n",
        "b[0]"
      ],
      "metadata": {
        "colab": {
          "base_uri": "https://localhost:8080/"
        },
        "id": "Ew2NXIvi3S9k",
        "outputId": "2d6dd882-c0bd-4770-9300-bcbc4e3fb481"
      },
      "execution_count": 12,
      "outputs": [
        {
          "output_type": "execute_result",
          "data": {
            "text/plain": [
              "119"
            ]
          },
          "metadata": {},
          "execution_count": 12
        }
      ]
    },
    {
      "cell_type": "code",
      "source": [
        "# b'' # 바이트\n",
        "# f'' # f-string 용법\n",
        "# r'' # raw값 출력"
      ],
      "metadata": {
        "id": "PLT3FwpI3dx1"
      },
      "execution_count": null,
      "outputs": []
    },
    {
      "cell_type": "code",
      "source": [
        "# 덧셈과 곱셈\n",
        "a = [1, 2, 3, 4, 5]\n",
        "b = [6, 7, 8]\n",
        "\n",
        "print(a + b) # 출력: [1, 2, 3, 4, 5, 6, 7, 8]"
      ],
      "metadata": {
        "colab": {
          "base_uri": "https://localhost:8080/"
        },
        "id": "tqmHYnJ3Fzta",
        "outputId": "6dc4d86d-ec8a-456a-f9fb-8e2b19be79a2"
      },
      "execution_count": null,
      "outputs": [
        {
          "output_type": "stream",
          "name": "stdout",
          "text": [
            "[1, 2, 3, 4, 5, 6, 7, 8]\n"
          ]
        }
      ]
    },
    {
      "cell_type": "code",
      "source": [
        "# 덧셈과 곱셈\n",
        "a = [1, 2, 3, 4, 5]\n",
        "\n",
        "print(a * 3) # 출력: [1, 2, 3, 4, 5, 1, 2, 3, 4, 5, 1, 2, 3, 4, 5]"
      ],
      "metadata": {
        "colab": {
          "base_uri": "https://localhost:8080/"
        },
        "id": "Dh70KEh1F1LU",
        "outputId": "8978fb6d-010c-46a5-d6d4-bf238a3d264a"
      },
      "execution_count": null,
      "outputs": [
        {
          "output_type": "stream",
          "name": "stdout",
          "text": [
            "[1, 2, 3, 4, 5, 1, 2, 3, 4, 5, 1, 2, 3, 4, 5]\n"
          ]
        }
      ]
    },
    {
      "cell_type": "code",
      "source": [
        "a = [1, 2, 3]\n",
        "a = a * 3\n",
        "\n",
        "print(a)\n",
        "id(a[0]), id(a[3])"
      ],
      "metadata": {
        "colab": {
          "base_uri": "https://localhost:8080/"
        },
        "id": "ailsHYPuF-1D",
        "outputId": "52d225af-4a60-4368-c3ca-40baccd47b99"
      },
      "execution_count": null,
      "outputs": [
        {
          "output_type": "stream",
          "name": "stdout",
          "text": [
            "[1, 2, 3, 1, 2, 3, 1, 2, 3]\n"
          ]
        },
        {
          "output_type": "execute_result",
          "data": {
            "text/plain": [
              "(133100684394736, 133100684394736)"
            ]
          },
          "metadata": {},
          "execution_count": 37
        }
      ]
    },
    {
      "cell_type": "code",
      "source": [
        "a = [1, 2, 3]\n",
        "a = [a * 2] * 2 # 리스트 컴프리헨션 사용하셔서 만드시는 것을 권합니다.\n",
        "\n",
        "print(a)\n",
        "id(a[0]), id(a[1])\n",
        "a[0][0] = 10000\n",
        "a"
      ],
      "metadata": {
        "colab": {
          "base_uri": "https://localhost:8080/"
        },
        "id": "ESEc4e-KGS2s",
        "outputId": "39b37d29-f42f-4cb8-9073-3214dd82c697"
      },
      "execution_count": null,
      "outputs": [
        {
          "output_type": "stream",
          "name": "stdout",
          "text": [
            "[[1, 2, 3, 1, 2, 3], [1, 2, 3, 1, 2, 3]]\n"
          ]
        },
        {
          "output_type": "execute_result",
          "data": {
            "text/plain": [
              "[[10000, 2, 3, 1, 2, 3], [10000, 2, 3, 1, 2, 3]]"
            ]
          },
          "metadata": {},
          "execution_count": 22
        }
      ]
    },
    {
      "cell_type": "code",
      "source": [
        "l = [1, 2, 3, 4, 5]\n",
        "print(l[0]) # 출력: 1\n",
        "print(l[3]) # 출력: 4\n",
        "print(l[-1]) # 출력: 5\n",
        "print(l[-3]) # 출력: 3"
      ],
      "metadata": {
        "colab": {
          "base_uri": "https://localhost:8080/"
        },
        "id": "-lO8YsAYGtT5",
        "outputId": "67679c45-83d3-4327-e0ed-eb8b4df74f7e"
      },
      "execution_count": null,
      "outputs": [
        {
          "output_type": "stream",
          "name": "stdout",
          "text": [
            "1\n",
            "4\n",
            "5\n",
            "3\n"
          ]
        }
      ]
    },
    {
      "cell_type": "code",
      "source": [
        "l = [1, 2, 3, 4, 5]\n",
        "print(type(l))\n",
        "print(dir(l))"
      ],
      "metadata": {
        "colab": {
          "base_uri": "https://localhost:8080/"
        },
        "id": "VVbah0BUHd3W",
        "outputId": "6c713f5b-5f18-42d4-9b35-3a21c29ec7c9"
      },
      "execution_count": null,
      "outputs": [
        {
          "output_type": "stream",
          "name": "stdout",
          "text": [
            "<class 'list'>\n",
            "['__add__', '__class__', '__class_getitem__', '__contains__', '__delattr__', '__delitem__', '__dir__', '__doc__', '__eq__', '__format__', '__ge__', '__getattribute__', '__getitem__', '__gt__', '__hash__', '__iadd__', '__imul__', '__init__', '__init_subclass__', '__iter__', '__le__', '__len__', '__lt__', '__mul__', '__ne__', '__new__', '__reduce__', '__reduce_ex__', '__repr__', '__reversed__', '__rmul__', '__setattr__', '__setitem__', '__sizeof__', '__str__', '__subclasshook__', 'append', 'clear', 'copy', 'count', 'extend', 'index', 'insert', 'pop', 'remove', 'reverse', 'sort']\n"
          ]
        }
      ]
    },
    {
      "cell_type": "code",
      "source": [
        "[1, 2, 3] + [1, 2, 3] = [1, 2, 3, 1, 2, 3]\n",
        "# [2, 4, 6] 요소마다 더해지는 것은 아닙니다. 그런데 이러한 코드는 __add__에 구현이 되어 있는 것입니다.\n",
        "# __add__에 요소마다 더하는 것으로 구현이 되어 있었다면 [2, 4, 6]을 출력했을 것입니다."
      ],
      "metadata": {
        "id": "GHEVIMEVHlXa"
      },
      "execution_count": null,
      "outputs": []
    },
    {
      "cell_type": "code",
      "source": [
        "import numpy as np\n",
        "\n",
        "l = [1, 2, 3]\n",
        "l = np.array(l)\n",
        "l * 3\n",
        "l + l\n",
        "# 너무 당연하게 요소를 붙이는 것이다라고 생각하지는 않으셨으면 좋겠습니다."
      ],
      "metadata": {
        "colab": {
          "base_uri": "https://localhost:8080/"
        },
        "id": "0KIohmKwH82G",
        "outputId": "cf280a28-df09-4c79-8ead-dddfc327216d"
      },
      "execution_count": null,
      "outputs": [
        {
          "output_type": "execute_result",
          "data": {
            "text/plain": [
              "array([2, 4, 6])"
            ]
          },
          "metadata": {},
          "execution_count": 25
        }
      ]
    },
    {
      "cell_type": "code",
      "source": [
        "# 문제1: 이 데이터에서 licat을 출력해주세요. 단, 직접 접근은 안됩니다. data[1]로 접근하는 것은 안됩니다.\n",
        "data = [['weniv CTO binky', 2], ['weniv CEO licat', 1], ['weniv COO mura', 2]]"
      ],
      "metadata": {
        "id": "PBaFiobAIrMM"
      },
      "execution_count": null,
      "outputs": []
    },
    {
      "cell_type": "code",
      "source": [
        "s = sorted(data, key=lambda x:x[1])[0][0]\n",
        "s[s.find('licat'):]"
      ],
      "metadata": {
        "colab": {
          "base_uri": "https://localhost:8080/",
          "height": 35
        },
        "id": "lub51puzNGVi",
        "outputId": "04554e96-9a4d-4e3f-a281-da52ea4e8006"
      },
      "execution_count": null,
      "outputs": [
        {
          "output_type": "execute_result",
          "data": {
            "text/plain": [
              "'licat'"
            ],
            "application/vnd.google.colaboratory.intrinsic+json": {
              "type": "string"
            }
          },
          "metadata": {},
          "execution_count": 33
        }
      ]
    },
    {
      "cell_type": "code",
      "source": [
        "s = str(list(data))\n",
        "s[s.find('licat'):s.find('licat') + 5]"
      ],
      "metadata": {
        "colab": {
          "base_uri": "https://localhost:8080/",
          "height": 35
        },
        "id": "xdvXnEu-NfKu",
        "outputId": "623ca8d0-b2cc-4f0b-fc63-058562ec4215"
      },
      "execution_count": null,
      "outputs": [
        {
          "output_type": "execute_result",
          "data": {
            "text/plain": [
              "'licat'"
            ],
            "application/vnd.google.colaboratory.intrinsic+json": {
              "type": "string"
            }
          },
          "metadata": {},
          "execution_count": 35
        }
      ]
    },
    {
      "cell_type": "code",
      "source": [
        "# 문제1: 다음 함수 is_palindrome를 완성하시오.\n",
        "# 이 함수는 하나의 문자열을 인자로 받아, 해당 문자열이 팰린드롬(앞으로 읽으나 뒤로 읽으나 같은 단어나 구)이면\n",
        "# True를, 아니면 False를 반환해야 합니다.\n",
        "def is_palindrome(s):\n",
        "    if list(reversed(s)) == list(s):\n",
        "      return True\n",
        "    return False\n",
        "\n",
        "def is_palindrome(s):\n",
        "    if s == s[::-1]:\n",
        "      return True\n",
        "    return False\n",
        "\n",
        "def is_palindrome(word):\n",
        "    if len(word) < 2:\n",
        "        return True\n",
        "    if word[0] != word[-1]:\n",
        "        return False\n",
        "    return is_palindrome(word[1:-1])\n",
        "\n",
        "is_palindrome('level')\n",
        "is_palindrome('world')"
      ],
      "metadata": {
        "colab": {
          "base_uri": "https://localhost:8080/"
        },
        "id": "eXcT9mZujdAi",
        "outputId": "797c7dce-1d80-47be-8ce7-446730d514dd"
      },
      "execution_count": null,
      "outputs": [
        {
          "output_type": "execute_result",
          "data": {
            "text/plain": [
              "True"
            ]
          },
          "metadata": {},
          "execution_count": 39
        }
      ]
    },
    {
      "cell_type": "code",
      "source": [
        "# 문제2: 리스트 numbers가 주어졌을 때,\n",
        "# 이 리스트 내의 모든 짝수를 제거하는 코드를 작성하시오.\n",
        "numbers = [2, 3, 4, 5, 6, 7, 8, 9, 10]\n",
        "numbers = list(filter(lambda x:x%2==1,numbers))\n",
        "print(numbers)  # 결과: [3, 5, 7, 9]"
      ],
      "metadata": {
        "id": "R6j--LM1juQk"
      },
      "execution_count": null,
      "outputs": []
    },
    {
      "cell_type": "markdown",
      "source": [
        "# 리스트(이어서)"
      ],
      "metadata": {
        "id": "YpdWM8Dx4VA8"
      }
    },
    {
      "cell_type": "code",
      "source": [
        "z = [\n",
        "    10,\n",
        "    20,\n",
        "    30,\n",
        "    40,\n",
        "]\n",
        "print(z[0])"
      ],
      "metadata": {
        "id": "LD6dP8p64W64"
      },
      "execution_count": null,
      "outputs": []
    },
    {
      "cell_type": "code",
      "source": [
        "a = [1, 2, 3, 4, 5]\n",
        "a[0] = 10000\n",
        "print(a)"
      ],
      "metadata": {
        "id": "Fj1BVRrx4xFt"
      },
      "execution_count": null,
      "outputs": []
    },
    {
      "cell_type": "code",
      "source": [
        "a = [1, 2, 3, 4, 5]\n",
        "b = [6, 7, 8]\n",
        "\n",
        "print(a + b) # 출력: [1, 2, 3, 4, 5, 6, 7, 8]"
      ],
      "metadata": {
        "colab": {
          "base_uri": "https://localhost:8080/"
        },
        "id": "rGsvafls5oI0",
        "outputId": "85100070-0b7a-4efa-f28b-ad6e40e1bcb7"
      },
      "execution_count": 13,
      "outputs": [
        {
          "output_type": "stream",
          "name": "stdout",
          "text": [
            "[1, 2, 3, 4, 5, 6, 7, 8]\n"
          ]
        }
      ]
    },
    {
      "cell_type": "code",
      "source": [
        "import numpy as np\n",
        "\n",
        "l = [1, 2, 3]\n",
        "l = np.array(l)\n",
        "l * 3\n",
        "l + l\n",
        "# 너무 당연하게 요소를 붙이는 것이다라고 생각하지 않으셨으면 좋겠습니다."
      ],
      "metadata": {
        "colab": {
          "base_uri": "https://localhost:8080/"
        },
        "id": "58NEsGOF5oaN",
        "outputId": "08a76df5-80dc-4608-8c8c-47e567494b30"
      },
      "execution_count": 14,
      "outputs": [
        {
          "output_type": "execute_result",
          "data": {
            "text/plain": [
              "array([2, 4, 6])"
            ]
          },
          "metadata": {},
          "execution_count": 14
        }
      ]
    },
    {
      "cell_type": "code",
      "source": [
        "l = [1, 2, 3, 4, 5]\n",
        "print(l[0]) # 출력: 1\n",
        "print(l[3]) # 출력: 4\n",
        "print(l[-1]) # 출력: 5\n",
        "print(l[-3]) # 출력: 3"
      ],
      "metadata": {
        "colab": {
          "base_uri": "https://localhost:8080/"
        },
        "id": "nEgnNxRb5qsz",
        "outputId": "4b5145f7-c7cb-42d4-a7f0-a19b51aac63c"
      },
      "execution_count": 15,
      "outputs": [
        {
          "output_type": "stream",
          "name": "stdout",
          "text": [
            "1\n",
            "4\n",
            "5\n",
            "3\n"
          ]
        }
      ]
    },
    {
      "cell_type": "code",
      "source": [
        "print(l[-3:])"
      ],
      "metadata": {
        "colab": {
          "base_uri": "https://localhost:8080/"
        },
        "id": "6iY-zKlV51Lk",
        "outputId": "9881dabc-979f-4844-ca47-d04ce36c053b"
      },
      "execution_count": 16,
      "outputs": [
        {
          "output_type": "stream",
          "name": "stdout",
          "text": [
            "[3, 4, 5]\n"
          ]
        }
      ]
    },
    {
      "cell_type": "code",
      "source": [
        "sum([1, 2, 3, 4])"
      ],
      "metadata": {
        "colab": {
          "base_uri": "https://localhost:8080/"
        },
        "id": "CGR4lnvf6T0c",
        "outputId": "109f44c2-a2f5-4e9f-9b75-215376b894bd"
      },
      "execution_count": 17,
      "outputs": [
        {
          "output_type": "execute_result",
          "data": {
            "text/plain": [
              "10"
            ]
          },
          "metadata": {},
          "execution_count": 17
        }
      ]
    },
    {
      "cell_type": "code",
      "source": [
        "# sum(list(range(101)))과 슬라이싱을 사용해 아래 문제를 풀어주세요.\n",
        "\n",
        "# 문제 1: 짝수를 모두 더해주세요.\n",
        "sum(list(range(101)[::2]))\n",
        "# 문제 2: 3의 배수와 5의 배수를 모두 더해주세요.\n",
        "sum(list(range(101)[::3])) + sum(list(range(101)[::5])) - sum(list(range(101)[::15]))\n",
        "# (슬라이싱 2개 사용) 난이도가 있는 보너스 문제: 1부터 90까지의 짝수를 모두 더해주세요.\n",
        "sum(list(range(101))[0:91][::2])"
      ],
      "metadata": {
        "colab": {
          "base_uri": "https://localhost:8080/"
        },
        "id": "pTImnujb6YPi",
        "outputId": "988bb51b-7f61-4725-e0f4-f944598b20f5"
      },
      "execution_count": 18,
      "outputs": [
        {
          "output_type": "execute_result",
          "data": {
            "text/plain": [
              "2418"
            ]
          },
          "metadata": {},
          "execution_count": 18
        }
      ]
    },
    {
      "cell_type": "code",
      "source": [
        "# 실무에서도 이렇게 2개를 자주 사용합니다.\n",
        "list(range(11))[0:91][::-1]"
      ],
      "metadata": {
        "colab": {
          "base_uri": "https://localhost:8080/"
        },
        "id": "3vPe_yGb8v9f",
        "outputId": "6724e288-df04-42cc-df73-d2046ea8c12d"
      },
      "execution_count": 26,
      "outputs": [
        {
          "output_type": "execute_result",
          "data": {
            "text/plain": [
              "[10, 9, 8, 7, 6, 5, 4, 3, 2, 1, 0]"
            ]
          },
          "metadata": {},
          "execution_count": 26
        }
      ]
    },
    {
      "cell_type": "code",
      "source": [
        "l = [1, 2, 3]\n",
        "dir(l)"
      ],
      "metadata": {
        "id": "yi2u9mKx9ViR"
      },
      "execution_count": null,
      "outputs": []
    },
    {
      "cell_type": "code",
      "source": [
        "#  'append',\n",
        "#  'clear',\n",
        "#  'copy',\n",
        "#  'count',\n",
        "#  'extend',\n",
        "#  'index',\n",
        "#  'insert',\n",
        "#  'pop',\n",
        "#  'remove',\n",
        "#  'reverse',\n",
        "#  'sort'\n",
        "\n",
        "# append\n",
        "l = [1, 2, 3]\n",
        "l.append(100)\n",
        "l"
      ],
      "metadata": {
        "colab": {
          "base_uri": "https://localhost:8080/"
        },
        "id": "6D5HSD1q-dMC",
        "outputId": "ad71f55f-333c-4688-a156-0275f40908e8"
      },
      "execution_count": 29,
      "outputs": [
        {
          "output_type": "execute_result",
          "data": {
            "text/plain": [
              "[1, 2, 3, 100]"
            ]
          },
          "metadata": {},
          "execution_count": 29
        }
      ]
    },
    {
      "cell_type": "code",
      "source": [
        "#  'clear',\n",
        "#  'copy',\n",
        "#  'count',\n",
        "#  'extend',\n",
        "#  'index',\n",
        "#  'insert',\n",
        "#  'pop',\n",
        "#  'remove',\n",
        "#  'reverse',\n",
        "#  'sort'\n",
        "\n",
        "# clear\n",
        "l = [1, 2, 3]\n",
        "l.clear()\n",
        "l"
      ],
      "metadata": {
        "colab": {
          "base_uri": "https://localhost:8080/"
        },
        "id": "CGIT40Uv-tgQ",
        "outputId": "e1a147fb-61ce-4d36-a879-82bd95a85036"
      },
      "execution_count": 31,
      "outputs": [
        {
          "output_type": "execute_result",
          "data": {
            "text/plain": [
              "[]"
            ]
          },
          "metadata": {},
          "execution_count": 31
        }
      ]
    },
    {
      "cell_type": "code",
      "source": [
        "#  'copy',\n",
        "#  'count',\n",
        "#  'extend',\n",
        "#  'index',\n",
        "#  'insert',\n",
        "#  'pop',\n",
        "#  'remove',\n",
        "#  'reverse',\n",
        "#  'sort'\n",
        "\n",
        "# copy\n",
        "l = [10, 20, 30]\n",
        "ll = l\n",
        "l[0] = 1000\n",
        "l"
      ],
      "metadata": {
        "colab": {
          "base_uri": "https://localhost:8080/"
        },
        "id": "cR-TjmdM-7ze",
        "outputId": "43690c85-3857-4678-c2fa-272f70a2b426"
      },
      "execution_count": 32,
      "outputs": [
        {
          "output_type": "execute_result",
          "data": {
            "text/plain": [
              "[1000, 20, 30]"
            ]
          },
          "metadata": {},
          "execution_count": 32
        }
      ]
    },
    {
      "cell_type": "code",
      "source": [
        "l = [10, 20, 30]\n",
        "ll = l\n",
        "print(id(ll), id(l))\n",
        "l[0] = 1000\n",
        "print(l, ll)"
      ],
      "metadata": {
        "colab": {
          "base_uri": "https://localhost:8080/"
        },
        "id": "sGX6GTSq_MSb",
        "outputId": "1d033120-f150-45b5-92fa-887fa0c01928"
      },
      "execution_count": 40,
      "outputs": [
        {
          "output_type": "stream",
          "name": "stdout",
          "text": [
            "132986928549888 132986928549888\n",
            "[1000, 20, 30] [1000, 20, 30]\n"
          ]
        }
      ]
    },
    {
      "cell_type": "code",
      "source": [
        "l = [10, 20, 30]\n",
        "ll = l.copy()\n",
        "print(id(ll), id(l))\n",
        "l[0] = 1000\n",
        "print(l, ll)"
      ],
      "metadata": {
        "colab": {
          "base_uri": "https://localhost:8080/"
        },
        "id": "NZwKyAEN_YIy",
        "outputId": "082a87c8-fa50-4ec3-a4cf-8b303daedbac"
      },
      "execution_count": 39,
      "outputs": [
        {
          "output_type": "stream",
          "name": "stdout",
          "text": [
            "132986697644096 132986697561280\n",
            "[1000, 20, 30] [10, 20, 30]\n"
          ]
        }
      ]
    },
    {
      "cell_type": "code",
      "source": [
        "l = [10, 20, 30]\n",
        "ll = l[:]\n",
        "print(id(ll), id(l))\n",
        "l[0] = 1000\n",
        "print(l, ll)"
      ],
      "metadata": {
        "colab": {
          "base_uri": "https://localhost:8080/"
        },
        "id": "n4Fany1P_40x",
        "outputId": "230d410c-d754-4dfa-f695-5730297df337"
      },
      "execution_count": 38,
      "outputs": [
        {
          "output_type": "stream",
          "name": "stdout",
          "text": [
            "132986928423616 132986697558464\n",
            "[1000, 20, 30] [10, 20, 30]\n"
          ]
        }
      ]
    },
    {
      "cell_type": "code",
      "source": [
        "# 이정도는 알아야 우리에게 충분합니다.\n",
        "a = [10, 20]\n",
        "b = [100, 200]\n",
        "\n",
        "l = [a, b]\n",
        "ll = l.copy()\n",
        "print(id(l), id(ll))\n",
        "l[0][0] = 100000\n",
        "print(l, ll)"
      ],
      "metadata": {
        "colab": {
          "base_uri": "https://localhost:8080/"
        },
        "id": "MFIkFyBJAO32",
        "outputId": "9ae88ae9-dbd1-41f4-9384-f1114fe8db4e"
      },
      "execution_count": 43,
      "outputs": [
        {
          "output_type": "stream",
          "name": "stdout",
          "text": [
            "132986698021312 132986697837504\n",
            "[[100000, 20], [100, 200]] [[100000, 20], [100, 200]]\n"
          ]
        }
      ]
    },
    {
      "cell_type": "code",
      "source": [
        "a = 10\n",
        "b = a\n",
        "c = b\n",
        "b = 20"
      ],
      "metadata": {
        "id": "1m7FvldoFUFP"
      },
      "execution_count": 47,
      "outputs": []
    },
    {
      "cell_type": "code",
      "source": [
        "c"
      ],
      "metadata": {
        "colab": {
          "base_uri": "https://localhost:8080/"
        },
        "id": "8ZmHNNW9FYZU",
        "outputId": "38060a07-9a2b-496e-9072-066c048a8c84"
      },
      "execution_count": 48,
      "outputs": [
        {
          "output_type": "execute_result",
          "data": {
            "text/plain": [
              "10"
            ]
          },
          "metadata": {},
          "execution_count": 48
        }
      ]
    },
    {
      "cell_type": "code",
      "source": [
        "# 오후에 한 번 더 확인해보고 말씀드리겠습니다.\n",
        "import copy\n",
        "\n",
        "aa = [1, 2, 3]\n",
        "bb = [4, 5, 6]\n",
        "\n",
        "k = [10000, [aa, bb]]\n",
        "\n",
        "a = [10, k]\n",
        "b = [100, k]\n",
        "\n",
        "l = [a, b]\n",
        "ll = copy.deepcopy(l)\n",
        "aa[0] = 1000000\n",
        "\n",
        "print(l)\n",
        "print(ll)"
      ],
      "metadata": {
        "colab": {
          "base_uri": "https://localhost:8080/"
        },
        "id": "m8x7Kk_tr0Zd",
        "outputId": "f220e215-2c6f-4712-dfbb-d8c5c2ef260e"
      },
      "execution_count": 131,
      "outputs": [
        {
          "output_type": "stream",
          "name": "stdout",
          "text": [
            "[[10, [10000, [[1000000, 2, 3], [4, 5, 6]]]], [100, [10000, [[1000000, 2, 3], [4, 5, 6]]]]]\n",
            "[[10, [10000, [[1, 2, 3], [4, 5, 6]]]], [100, [10000, [[1, 2, 3], [4, 5, 6]]]]]\n"
          ]
        }
      ]
    },
    {
      "cell_type": "code",
      "source": [
        "# 오후에 한 번 더 확인해보고 말씀드리겠습니다.\n",
        "import copy\n",
        "\n",
        "k = [10000]\n",
        "\n",
        "a = [10, k]\n",
        "b = [100, k]\n",
        "\n",
        "l = [a, b]\n",
        "ll = copy.deepcopy(l)\n",
        "k[0] = 1000000\n",
        "\n",
        "print(l)\n",
        "print(ll)"
      ],
      "metadata": {
        "colab": {
          "base_uri": "https://localhost:8080/"
        },
        "id": "6WSpvtYYF0sz",
        "outputId": "154aadd6-4e35-4dc2-b18f-1aadd412eb56"
      },
      "execution_count": 53,
      "outputs": [
        {
          "output_type": "stream",
          "name": "stdout",
          "text": [
            "[[10, [1000000]], [100, [1000000]]]\n",
            "[[10, [10000]], [100, [10000]]]\n"
          ]
        }
      ]
    },
    {
      "cell_type": "code",
      "source": [
        "[1, 1, 1, 3, 3, 5, 6].count(1)"
      ],
      "metadata": {
        "colab": {
          "base_uri": "https://localhost:8080/"
        },
        "id": "ttng1sCrG9Jl",
        "outputId": "87297c47-0bd8-4eb1-b3d5-ad13dfa21db3"
      },
      "execution_count": 54,
      "outputs": [
        {
          "output_type": "execute_result",
          "data": {
            "text/plain": [
              "3"
            ]
          },
          "metadata": {},
          "execution_count": 54
        }
      ]
    },
    {
      "cell_type": "code",
      "source": [
        "list('1113356').count('1')"
      ],
      "metadata": {
        "colab": {
          "base_uri": "https://localhost:8080/"
        },
        "id": "eyyTQ6EuHOXP",
        "outputId": "aa1c8650-2bc5-48dc-f275-afab2147e640"
      },
      "execution_count": 56,
      "outputs": [
        {
          "output_type": "execute_result",
          "data": {
            "text/plain": [
              "3"
            ]
          },
          "metadata": {},
          "execution_count": 56
        }
      ]
    },
    {
      "cell_type": "code",
      "source": [
        "l = [10, 20, 30]\n",
        "l.append(100)\n",
        "l"
      ],
      "metadata": {
        "colab": {
          "base_uri": "https://localhost:8080/"
        },
        "id": "XLjhxVlMHaZB",
        "outputId": "673c10ba-7f9a-4f09-f6b7-9ea83c8f2601"
      },
      "execution_count": 57,
      "outputs": [
        {
          "output_type": "execute_result",
          "data": {
            "text/plain": [
              "[10, 20, 30, 100]"
            ]
          },
          "metadata": {},
          "execution_count": 57
        }
      ]
    },
    {
      "cell_type": "code",
      "source": [
        "l = [10, 20, 30]\n",
        "l.append([10, 20])\n",
        "l"
      ],
      "metadata": {
        "colab": {
          "base_uri": "https://localhost:8080/"
        },
        "id": "Qu6QkIldHe0X",
        "outputId": "9ec4a9a0-fef2-4df0-8f80-e8a08b3a3b5b"
      },
      "execution_count": 58,
      "outputs": [
        {
          "output_type": "execute_result",
          "data": {
            "text/plain": [
              "[10, 20, 30, [10, 20]]"
            ]
          },
          "metadata": {},
          "execution_count": 58
        }
      ]
    },
    {
      "cell_type": "code",
      "source": [
        "l = [10, 20, 30]\n",
        "l.extend([10, 20])\n",
        "l"
      ],
      "metadata": {
        "colab": {
          "base_uri": "https://localhost:8080/"
        },
        "id": "hEsER23XHmGS",
        "outputId": "055bd65c-6b7b-4590-bf1c-1718b69ef02c"
      },
      "execution_count": 59,
      "outputs": [
        {
          "output_type": "execute_result",
          "data": {
            "text/plain": [
              "[10, 20, 30, 10, 20]"
            ]
          },
          "metadata": {},
          "execution_count": 59
        }
      ]
    },
    {
      "cell_type": "code",
      "source": [
        "l = [10, 20, 30]\n",
        "l.extend('hello')\n",
        "l"
      ],
      "metadata": {
        "colab": {
          "base_uri": "https://localhost:8080/"
        },
        "id": "Z0beiyckHr_Y",
        "outputId": "b9148a7c-7879-415e-df81-e66996bd5483"
      },
      "execution_count": 60,
      "outputs": [
        {
          "output_type": "execute_result",
          "data": {
            "text/plain": [
              "[10, 20, 30, 'h', 'e', 'l', 'l', 'o']"
            ]
          },
          "metadata": {},
          "execution_count": 60
        }
      ]
    },
    {
      "cell_type": "code",
      "source": [
        "# 한 자리씩 잘라서 넣는다라고 생각해볼게요. 예를 들어 자릿수 모두 더하는 문제\n",
        "userinput = input('숫자를 입력하세요:')\n",
        "l = [10, 20, 30]\n",
        "l.extend(map(int, userinput))\n",
        "l"
      ],
      "metadata": {
        "colab": {
          "base_uri": "https://localhost:8080/"
        },
        "id": "EfpUT05PH8TX",
        "outputId": "f1a8f083-8f56-4216-cc61-808de28bd0e6"
      },
      "execution_count": 63,
      "outputs": [
        {
          "name": "stdout",
          "output_type": "stream",
          "text": [
            "숫자를 입력하세요:123\n"
          ]
        },
        {
          "output_type": "execute_result",
          "data": {
            "text/plain": [
              "[10, 20, 30, 1, 2, 3]"
            ]
          },
          "metadata": {},
          "execution_count": 63
        }
      ]
    },
    {
      "cell_type": "code",
      "source": [
        "# 한 자리씩 잘라서 넣는다라고 생각해볼게요. 예를 들어 자릿수 모두 더하는 문제\n",
        "l = [10, 20, 30]\n",
        "l.extend(map(int, input('숫자를 입력하세요:')))"
      ],
      "metadata": {
        "id": "C4Rmf4FDIhl4"
      },
      "execution_count": null,
      "outputs": []
    },
    {
      "cell_type": "code",
      "source": [
        "l = [10, 20, 30, 40, 50]\n",
        "l.index(30)\n",
        "l.index(60)"
      ],
      "metadata": {
        "id": "vL-HOXguIzt9"
      },
      "execution_count": null,
      "outputs": []
    },
    {
      "cell_type": "code",
      "source": [
        "l = [10, 20, 30, 40, 50]\n",
        "# l.find(60) # find 메서드가 없습니다. 저도 간혹 이 실수를 합니다."
      ],
      "metadata": {
        "colab": {
          "base_uri": "https://localhost:8080/",
          "height": 199
        },
        "id": "SRWBbVPwI7-4",
        "outputId": "289e93e9-b10c-41cf-8d07-ada997910791"
      },
      "execution_count": 66,
      "outputs": [
        {
          "output_type": "error",
          "ename": "AttributeError",
          "evalue": "ignored",
          "traceback": [
            "\u001b[0;31m---------------------------------------------------------------------------\u001b[0m",
            "\u001b[0;31mAttributeError\u001b[0m                            Traceback (most recent call last)",
            "\u001b[0;32m<ipython-input-66-ec4ac53f4ba3>\u001b[0m in \u001b[0;36m<cell line: 2>\u001b[0;34m()\u001b[0m\n\u001b[1;32m      1\u001b[0m \u001b[0ml\u001b[0m \u001b[0;34m=\u001b[0m \u001b[0;34m[\u001b[0m\u001b[0;36m10\u001b[0m\u001b[0;34m,\u001b[0m \u001b[0;36m20\u001b[0m\u001b[0;34m,\u001b[0m \u001b[0;36m30\u001b[0m\u001b[0;34m,\u001b[0m \u001b[0;36m40\u001b[0m\u001b[0;34m,\u001b[0m \u001b[0;36m50\u001b[0m\u001b[0;34m]\u001b[0m\u001b[0;34m\u001b[0m\u001b[0;34m\u001b[0m\u001b[0m\n\u001b[0;32m----> 2\u001b[0;31m \u001b[0ml\u001b[0m\u001b[0;34m.\u001b[0m\u001b[0mfind\u001b[0m\u001b[0;34m(\u001b[0m\u001b[0;36m60\u001b[0m\u001b[0;34m)\u001b[0m\u001b[0;34m\u001b[0m\u001b[0;34m\u001b[0m\u001b[0m\n\u001b[0m",
            "\u001b[0;31mAttributeError\u001b[0m: 'list' object has no attribute 'find'"
          ]
        }
      ]
    },
    {
      "cell_type": "code",
      "source": [
        "l = [10, 20, 30]\n",
        "l.insert(2, 25)\n",
        "print(l)  # 출력: [10, 20, 25, 30]"
      ],
      "metadata": {
        "colab": {
          "base_uri": "https://localhost:8080/"
        },
        "id": "j6FnKN_-JVfm",
        "outputId": "f7bcbd85-69f5-47c2-e2b1-dbb8aaa9be27"
      },
      "execution_count": 67,
      "outputs": [
        {
          "output_type": "stream",
          "name": "stdout",
          "text": [
            "[10, 20, 25, 30]\n"
          ]
        }
      ]
    },
    {
      "cell_type": "markdown",
      "source": [
        "# 연습문제"
      ],
      "metadata": {
        "id": "b6kUU-2hJr44"
      }
    },
    {
      "cell_type": "code",
      "source": [
        "# [10, 20, 40, 50, 30]와 같은 리스트에서 20과 30 중간에 25라는 값을 삽입하고 싶습니다.\n",
        "# 현재 리스트는 정렬되어 있지 않은데 이 리스트를 정렬하고 20과 30에 값을 index 메서드로 찾아\n",
        "# insert로 중간에 값을 삽입해주세요.\n",
        "# 정답: [10, 20, 25, 30, 40, 50]\n",
        "# * 다른 정답을 허용합니다.\n",
        "\n",
        "s = sorted([10, 20, 40, 50, 30])\n",
        "s.insert(s.index(30), 25)\n",
        "s\n",
        "\n",
        "s = [10, 20, 40, 50, 30]\n",
        "s.append(25)\n",
        "sorted(s)\n",
        "\n",
        "# sorted([10, 20, 40, 50, 30].append(25)) # error\n",
        "# print(s.append(100))의 값이 None이기 때문에 그렇습니다."
      ],
      "metadata": {
        "colab": {
          "base_uri": "https://localhost:8080/"
        },
        "id": "i9B831xZJtWG",
        "outputId": "66e8f568-c443-4c34-b58d-f0233745841e"
      },
      "execution_count": 71,
      "outputs": [
        {
          "output_type": "stream",
          "name": "stdout",
          "text": [
            "None\n"
          ]
        }
      ]
    },
    {
      "cell_type": "code",
      "source": [
        "# 마지막에서 빼는 것\n",
        "l = [10, 20, 30]\n",
        "print(l.pop())\n",
        "print(l)"
      ],
      "metadata": {
        "colab": {
          "base_uri": "https://localhost:8080/"
        },
        "id": "qQAaLjK4MhVh",
        "outputId": "0d287687-5b44-43c1-e219-aa02da3161b8"
      },
      "execution_count": 73,
      "outputs": [
        {
          "output_type": "stream",
          "name": "stdout",
          "text": [
            "30\n",
            "[10, 20]\n"
          ]
        }
      ]
    },
    {
      "cell_type": "code",
      "source": [
        "# 첫번째에서 빼는 것\n",
        "l = [10, 20, 30]\n",
        "print(l.pop(0))\n",
        "print(l)"
      ],
      "metadata": {
        "colab": {
          "base_uri": "https://localhost:8080/"
        },
        "id": "U26O4wpfMyPP",
        "outputId": "03b15cda-c34c-4e86-86c6-a88be87a9f37"
      },
      "execution_count": 74,
      "outputs": [
        {
          "output_type": "stream",
          "name": "stdout",
          "text": [
            "10\n",
            "[20, 30]\n"
          ]
        }
      ]
    },
    {
      "cell_type": "code",
      "source": [
        "# 첫번째에서 빼는 것\n",
        "l = [10, 20, 30]\n",
        "result = l.pop(0)\n",
        "print(l, result)"
      ],
      "metadata": {
        "colab": {
          "base_uri": "https://localhost:8080/"
        },
        "id": "erBrjAi2NDp1",
        "outputId": "d98fb11d-d341-4260-94ab-64210308a1c9"
      },
      "execution_count": 76,
      "outputs": [
        {
          "output_type": "stream",
          "name": "stdout",
          "text": [
            "[20, 30] 10\n"
          ]
        }
      ]
    },
    {
      "cell_type": "code",
      "source": [
        "l = [1, 2, 3, 4, 5]\n",
        "\n",
        "while l:\n",
        "    print(l.pop())"
      ],
      "metadata": {
        "id": "yC88WaJVNJ9y"
      },
      "execution_count": null,
      "outputs": []
    },
    {
      "cell_type": "code",
      "source": [
        "l = [1, 2, 3, 4, 5]\n",
        "\n",
        "while l:\n",
        "    print(l.pop(0))"
      ],
      "metadata": {
        "id": "__jBI3EkNTE4"
      },
      "execution_count": null,
      "outputs": []
    },
    {
      "cell_type": "code",
      "source": [
        "l = [1, 2, 3, 1, 2, 2, 2, 1, 1]\n",
        "l.remove(2)\n",
        "print(l)  # 출력: [1, 3, 1, 2]"
      ],
      "metadata": {
        "colab": {
          "base_uri": "https://localhost:8080/"
        },
        "id": "_h--tIeMNtsd",
        "outputId": "35116c49-0574-4e64-8d21-3c20dd66b65a"
      },
      "execution_count": 82,
      "outputs": [
        {
          "output_type": "stream",
          "name": "stdout",
          "text": [
            "[1, 3, 1, 2, 2, 2, 1, 1]\n"
          ]
        }
      ]
    },
    {
      "cell_type": "code",
      "source": [
        "l = [1, 2, 3, 1, 2, 2, 2, 1, 1]\n",
        "while l.count(2):\n",
        "    l.remove(2)\n",
        "l"
      ],
      "metadata": {
        "colab": {
          "base_uri": "https://localhost:8080/"
        },
        "id": "QBP2c3UpONvz",
        "outputId": "5a1c2da9-c7b4-4446-d5c8-78821f3b5bff"
      },
      "execution_count": 84,
      "outputs": [
        {
          "output_type": "execute_result",
          "data": {
            "text/plain": [
              "[1, 3, 1, 1, 1]"
            ]
          },
          "metadata": {},
          "execution_count": 84
        }
      ]
    },
    {
      "cell_type": "code",
      "source": [
        "l = [1, 2, 3, 1, 2, 2, 2, 1, 1]\n",
        "list(filter(lambda x: x != 2, l))"
      ],
      "metadata": {
        "colab": {
          "base_uri": "https://localhost:8080/"
        },
        "id": "sNZ9QzWgN-ij",
        "outputId": "ebbd9897-8a16-4350-f9a1-b5f1a9689ec9"
      },
      "execution_count": 83,
      "outputs": [
        {
          "output_type": "execute_result",
          "data": {
            "text/plain": [
              "[1, 3, 1, 1, 1]"
            ]
          },
          "metadata": {},
          "execution_count": 83
        }
      ]
    },
    {
      "cell_type": "code",
      "source": [
        "# reversed와 reverse 차이, sorted와 sort 차이\n",
        "# 원본 수정이 아니냐, 원본수정이냐? 입니다.\n",
        "\n",
        "l = [1, 2, 10, 3, 4]\n",
        "print(list(reversed(l))) # 출력: [4, 3, 10, 2, 1]\n",
        "print(l)                 # 출력: [1, 2, 10, 3, 4] # 원본은 그대로입니다."
      ],
      "metadata": {
        "colab": {
          "base_uri": "https://localhost:8080/"
        },
        "id": "Ag9pEwMBOeQc",
        "outputId": "212f4c5d-381a-43ea-e5b8-3905fb780218"
      },
      "execution_count": 86,
      "outputs": [
        {
          "output_type": "stream",
          "name": "stdout",
          "text": [
            "[4, 3, 10, 2, 1]\n",
            "[1, 2, 10, 3, 4]\n"
          ]
        }
      ]
    },
    {
      "cell_type": "code",
      "source": [
        "# reversed와 reverse 차이, sorted와 sort 차이\n",
        "# 원본 수정이 아니냐, 원본수정이냐? 입니다.\n",
        "\n",
        "l = [1, 2, 10, 3, 4]\n",
        "print(l.reverse()) # 출력: None\n",
        "print(l)           # 출력: [4, 3, 10, 2, 1]"
      ],
      "metadata": {
        "colab": {
          "base_uri": "https://localhost:8080/"
        },
        "id": "vlNE6UveRrcq",
        "outputId": "89b9758d-ee3a-42fb-faf6-152abeaad3d5"
      },
      "execution_count": 88,
      "outputs": [
        {
          "output_type": "stream",
          "name": "stdout",
          "text": [
            "None\n",
            "[4, 3, 10, 2, 1]\n"
          ]
        }
      ]
    },
    {
      "cell_type": "code",
      "source": [
        "# reversed와 reverse 차이, sorted와 sort 차이\n",
        "# 원본 수정이 아니냐, 원본수정이냐? 입니다.\n",
        "\n",
        "l = [1, 2, 10, 3, 4]\n",
        "print(list(sorted(l))) # 출력: [1, 2, 3, 4, 10]\n",
        "print(l)               # 출력: [1, 2, 10, 3, 4] # 원본은 그대로입니다."
      ],
      "metadata": {
        "colab": {
          "base_uri": "https://localhost:8080/"
        },
        "id": "521snrNGSCUG",
        "outputId": "0d3234ff-64b7-4a26-cbfa-6ec425684049"
      },
      "execution_count": 89,
      "outputs": [
        {
          "output_type": "stream",
          "name": "stdout",
          "text": [
            "[1, 2, 3, 4, 10]\n",
            "[1, 2, 10, 3, 4]\n"
          ]
        }
      ]
    },
    {
      "cell_type": "code",
      "source": [
        "# reversed와 reverse 차이, sorted와 sort 차이\n",
        "# 원본 수정이 아니냐, 원본수정이냐? 입니다.\n",
        "\n",
        "l = [1, 2, 10, 3, 4]\n",
        "print(l.sort()) # 출력: None\n",
        "print(l)        # 출력: [1, 2, 3, 4, 10]"
      ],
      "metadata": {
        "colab": {
          "base_uri": "https://localhost:8080/"
        },
        "id": "WKSd0fgkSTl8",
        "outputId": "09db0ba2-bd87-4cf4-ea60-e3f3feb82e8e"
      },
      "execution_count": 90,
      "outputs": [
        {
          "output_type": "stream",
          "name": "stdout",
          "text": [
            "None\n",
            "[1, 2, 3, 4, 10]\n"
          ]
        }
      ]
    },
    {
      "cell_type": "code",
      "source": [
        "# 게시판 = [게시물1, 게시물2, 게시물3, 게시물4]\n",
        "# 게시물1: 오래된 게시물이 저장이 되어 있을겁니다. (append로 게시물 추가했다고 생각해볼게요.)\n",
        "# 그러면 그냥 게시판을 출력했을 때 최상단에 노출되는 게시물은 가장 오래된 게시물일겁니다.\n",
        "# 컴퓨터 입장에서는요.\n",
        "# 그래서 게시판.reverse()해서 출력합니다. 최신게시물이 상단에 오게요.\n",
        "# 그러면 게시물5는 어디에 추가 될까요? 원본을 수정했기 때문에 게시물1 다음에 게시물5가 추가되요.\n",
        "# 게시판[::-1], reversed(게시판)을 사용해서 역순으로 만들었어야 했습니다.\n",
        "# 보이는화면 = 게시판[::-1]\n",
        "# 보이는화면 = reversed(게시판)"
      ],
      "metadata": {
        "id": "z1dq1wibSi4g"
      },
      "execution_count": null,
      "outputs": []
    },
    {
      "cell_type": "markdown",
      "source": [
        "# 튜플"
      ],
      "metadata": {
        "id": "iwU3RbiOT0Ys"
      }
    },
    {
      "cell_type": "code",
      "source": [
        "# 튜플은 안에 있는 값이 변경 불가능한 자료형이 아닙니다.\n",
        "# 튜플은 참조 불변입니다.\n",
        "# 리스트에 비해 처리 속도가 조금 더 빠릅니다.\n",
        "\n",
        "x = (1, 2, 3)\n",
        "# x[0] = 1000"
      ],
      "metadata": {
        "id": "WMopnD-0T2Fi"
      },
      "execution_count": null,
      "outputs": []
    },
    {
      "cell_type": "code",
      "source": [
        "x = [10, 20, 30]\n",
        "y = (1, 2, x)\n",
        "x[0] = 1000\n",
        "y # 출력: (1, 2, [1000, 20, 30])"
      ],
      "metadata": {
        "colab": {
          "base_uri": "https://localhost:8080/"
        },
        "id": "TccSqmqGURyh",
        "outputId": "fe16219e-2ba1-4c6d-9c6a-864f01ef2d2d"
      },
      "execution_count": 92,
      "outputs": [
        {
          "output_type": "execute_result",
          "data": {
            "text/plain": [
              "(1, 2, [1000, 20, 30])"
            ]
          },
          "metadata": {},
          "execution_count": 92
        }
      ]
    },
    {
      "cell_type": "code",
      "source": [
        "# 데이터의 변경이 민감한 곳\n",
        "# 참조의 갯수가 변하면 안되는 곳\n",
        "\n",
        "s = {'one':1, 'two':2}\n",
        "s.items()"
      ],
      "metadata": {
        "colab": {
          "base_uri": "https://localhost:8080/"
        },
        "id": "vvTIdbDiUaQb",
        "outputId": "4abf0059-a6cd-4344-d73c-6de2dc04a813"
      },
      "execution_count": 94,
      "outputs": [
        {
          "output_type": "execute_result",
          "data": {
            "text/plain": [
              "dict_items([('one', 1), ('two', 2)])"
            ]
          },
          "metadata": {},
          "execution_count": 94
        }
      ]
    },
    {
      "cell_type": "code",
      "source": [
        "t = (1, 2, 3, 4, 5)\n",
        "print(t[0])    # 출력: 1\n",
        "print(t[1:4])  # 출력: (2, 3, 4)"
      ],
      "metadata": {
        "id": "-M3QHZwaXycf"
      },
      "execution_count": null,
      "outputs": []
    },
    {
      "cell_type": "code",
      "source": [
        "t = (1, 1, 1, 2, 3, 4)\n",
        "t.count(1)"
      ],
      "metadata": {
        "colab": {
          "base_uri": "https://localhost:8080/"
        },
        "id": "IUCBGLgbYBNi",
        "outputId": "87763771-588b-4f19-9f49-02e05d064b97"
      },
      "execution_count": 95,
      "outputs": [
        {
          "output_type": "execute_result",
          "data": {
            "text/plain": [
              "3"
            ]
          },
          "metadata": {},
          "execution_count": 95
        }
      ]
    },
    {
      "cell_type": "code",
      "source": [
        "t.index(3)"
      ],
      "metadata": {
        "colab": {
          "base_uri": "https://localhost:8080/"
        },
        "id": "n1ouemGWYEiW",
        "outputId": "a76fadfd-ce12-4951-8dab-853139fa5724"
      },
      "execution_count": 97,
      "outputs": [
        {
          "output_type": "execute_result",
          "data": {
            "text/plain": [
              "4"
            ]
          },
          "metadata": {},
          "execution_count": 97
        }
      ]
    },
    {
      "cell_type": "markdown",
      "source": [
        "# 딕셔너리"
      ],
      "metadata": {
        "id": "9d-19dlnYhWt"
      }
    },
    {
      "cell_type": "code",
      "source": [
        "# 파이썬 3.6 버전부터 삽입 순서가 보장\n",
        "# colab, colab에서 불과 1 ~ 2년 전만 하더라도 print로 출력한 것은 정렬 출력,\n",
        "# 맨 마지막 출력은 정렬하지 않고 출력했습니다."
      ],
      "metadata": {
        "id": "izlhcUXzYiyr"
      },
      "execution_count": null,
      "outputs": []
    },
    {
      "cell_type": "code",
      "source": [
        "d = {'bb':100, 'hello':10, 'world':20, 'aa':30}\n",
        "print(d)\n",
        "d"
      ],
      "metadata": {
        "colab": {
          "base_uri": "https://localhost:8080/"
        },
        "id": "n-U-5mejY0uk",
        "outputId": "a9120933-8337-431a-b269-b4f1aab7bd76"
      },
      "execution_count": 100,
      "outputs": [
        {
          "output_type": "stream",
          "name": "stdout",
          "text": [
            "{'bb': 100, 'hello': 10, 'world': 20, 'aa': 30}\n"
          ]
        },
        {
          "output_type": "execute_result",
          "data": {
            "text/plain": [
              "{'bb': 100, 'hello': 10, 'world': 20, 'aa': 30}"
            ]
          },
          "metadata": {},
          "execution_count": 100
        }
      ]
    },
    {
      "cell_type": "code",
      "source": [
        "d = dict([('one' , '하나'), ('two', '둘')])\n",
        "print(d)  # 출력: {'one' : '하나', 'two' : '둘'}"
      ],
      "metadata": {
        "colab": {
          "base_uri": "https://localhost:8080/"
        },
        "id": "N-7iqr1PZOO1",
        "outputId": "b850c5bc-4355-455c-b847-e6760217c952"
      },
      "execution_count": 101,
      "outputs": [
        {
          "output_type": "stream",
          "name": "stdout",
          "text": [
            "{'one': '하나', 'two': '둘'}\n"
          ]
        }
      ]
    },
    {
      "cell_type": "code",
      "source": [
        "d = dict([['one' , '하나'], ['two', '둘']])\n",
        "print(d)  # 출력: {'one' : '하나', 'two' : '둘'}"
      ],
      "metadata": {
        "colab": {
          "base_uri": "https://localhost:8080/"
        },
        "id": "ZQH_iJ1tZPCd",
        "outputId": "ea355b29-f48f-49ce-8afe-a773236c152c"
      },
      "execution_count": 102,
      "outputs": [
        {
          "output_type": "stream",
          "name": "stdout",
          "text": [
            "{'one': '하나', 'two': '둘'}\n"
          ]
        }
      ]
    },
    {
      "cell_type": "code",
      "source": [
        "d = dict([['aa'], ['bb']])\n",
        "print(d)  # error"
      ],
      "metadata": {
        "id": "FxftE-hXZS1X"
      },
      "execution_count": null,
      "outputs": []
    },
    {
      "cell_type": "code",
      "source": [
        "d = dict(name='licat', age=10)\n",
        "print(d)  # 출력: {'name': 'licat', 'age': 10}"
      ],
      "metadata": {
        "colab": {
          "base_uri": "https://localhost:8080/"
        },
        "id": "LfabP6veZlC-",
        "outputId": "fb9e7fc9-765a-4a91-cfcb-ef7ad82f24aa"
      },
      "execution_count": 104,
      "outputs": [
        {
          "output_type": "stream",
          "name": "stdout",
          "text": [
            "{'name': 'licat', 'age': 10}\n"
          ]
        }
      ]
    },
    {
      "cell_type": "code",
      "source": [
        "complex_dict = {\n",
        "    \"numbers\": [1, 2, 3],\n",
        "    42: \"answer\",\n",
        "    (\"x\", \"y\"): [10, 20],\n",
        "    True: [100, 200]\n",
        "}\n",
        "print(complex_dict[\"numbers\"])  # 출력: [1, 2, 3]\n",
        "print(complex_dict[42])         # 출력: answer\n",
        "print(complex_dict[(\"x\", \"y\")]) # 출력: [10, 20]\n",
        "print(complex_dict[True])       # 출력: [10, 20]"
      ],
      "metadata": {
        "colab": {
          "base_uri": "https://localhost:8080/"
        },
        "id": "OFR-DBgCZmE-",
        "outputId": "14391a34-8df4-4b2e-f38b-ae8fc9fd0c4a"
      },
      "execution_count": 105,
      "outputs": [
        {
          "output_type": "stream",
          "name": "stdout",
          "text": [
            "[1, 2, 3]\n",
            "answer\n",
            "[10, 20]\n",
            "[100, 200]\n"
          ]
        }
      ]
    },
    {
      "cell_type": "code",
      "source": [
        "person = {'name': 'licat', 'city': 'Jeju'}\n",
        "person['name'] = 'mura'\n",
        "person['city'] = 'Seoul'\n",
        "\n",
        "print(person)"
      ],
      "metadata": {
        "colab": {
          "base_uri": "https://localhost:8080/"
        },
        "id": "cvJFa6VcZ-mp",
        "outputId": "f2571009-72be-4d90-bd53-316da5a7cd98"
      },
      "execution_count": 106,
      "outputs": [
        {
          "output_type": "stream",
          "name": "stdout",
          "text": [
            "{'name': 'mura', 'city': 'Seoul'}\n"
          ]
        }
      ]
    },
    {
      "cell_type": "code",
      "source": [
        "person['age'] = 10\n",
        "print(person)"
      ],
      "metadata": {
        "colab": {
          "base_uri": "https://localhost:8080/"
        },
        "id": "xw27_5WbZ_1S",
        "outputId": "85a17398-c363-44c4-c9ff-2318b3ea38ff"
      },
      "execution_count": 107,
      "outputs": [
        {
          "output_type": "stream",
          "name": "stdout",
          "text": [
            "{'name': 'mura', 'city': 'Seoul', 'age': 10}\n"
          ]
        }
      ]
    },
    {
      "cell_type": "code",
      "source": [
        "keys = ['name', 'city', 'job']\n",
        "values = ['licat', 'Jeju', 'Developer']\n",
        "\n",
        "new_dict = dict(zip(keys, values))\n",
        "print(new_dict)"
      ],
      "metadata": {
        "colab": {
          "base_uri": "https://localhost:8080/"
        },
        "id": "nbHgvU3WaN1s",
        "outputId": "d4ec351d-af33-4b3e-f5aa-a727a4f8b38a"
      },
      "execution_count": 108,
      "outputs": [
        {
          "output_type": "stream",
          "name": "stdout",
          "text": [
            "{'name': 'licat', 'city': 'Jeju', 'job': 'Developer'}\n"
          ]
        }
      ]
    },
    {
      "cell_type": "code",
      "source": [
        "hero = {'name': 'licat', 'age': 10}\n",
        "dir(hero)"
      ],
      "metadata": {
        "colab": {
          "base_uri": "https://localhost:8080/"
        },
        "id": "Wy99J5bmaazW",
        "outputId": "d26d92dc-b6b4-4f63-baec-0162b69e9705"
      },
      "execution_count": 109,
      "outputs": [
        {
          "output_type": "execute_result",
          "data": {
            "text/plain": [
              "['__class__',\n",
              " '__class_getitem__',\n",
              " '__contains__',\n",
              " '__delattr__',\n",
              " '__delitem__',\n",
              " '__dir__',\n",
              " '__doc__',\n",
              " '__eq__',\n",
              " '__format__',\n",
              " '__ge__',\n",
              " '__getattribute__',\n",
              " '__getitem__',\n",
              " '__gt__',\n",
              " '__hash__',\n",
              " '__init__',\n",
              " '__init_subclass__',\n",
              " '__ior__',\n",
              " '__iter__',\n",
              " '__le__',\n",
              " '__len__',\n",
              " '__lt__',\n",
              " '__ne__',\n",
              " '__new__',\n",
              " '__or__',\n",
              " '__reduce__',\n",
              " '__reduce_ex__',\n",
              " '__repr__',\n",
              " '__reversed__',\n",
              " '__ror__',\n",
              " '__setattr__',\n",
              " '__setitem__',\n",
              " '__sizeof__',\n",
              " '__str__',\n",
              " '__subclasshook__',\n",
              " 'clear',\n",
              " 'copy',\n",
              " 'fromkeys',\n",
              " 'get',\n",
              " 'items',\n",
              " 'keys',\n",
              " 'pop',\n",
              " 'popitem',\n",
              " 'setdefault',\n",
              " 'update',\n",
              " 'values']"
            ]
          },
          "metadata": {},
          "execution_count": 109
        }
      ]
    },
    {
      "cell_type": "code",
      "source": [
        "# 'fromkeys',\n",
        "# 'get',\n",
        "# 'items',\n",
        "# 'keys',\n",
        "# 'pop',\n",
        "# 'popitem',\n",
        "# 'setdefault',\n",
        "# 'update',\n",
        "# 'values'\n",
        "\n",
        "hero = {'name': 'licat', 'age': 10}\n",
        "hero2 = hero.copy()\n",
        "\n",
        "hero2['name'] = 'mura'\n",
        "\n",
        "print(hero, hero2)"
      ],
      "metadata": {
        "colab": {
          "base_uri": "https://localhost:8080/"
        },
        "id": "cNYSQ1Xvaj_H",
        "outputId": "48728d34-fd48-4678-e924-8bee21d2c328"
      },
      "execution_count": 112,
      "outputs": [
        {
          "output_type": "stream",
          "name": "stdout",
          "text": [
            "{'name': 'licat', 'age': 10} {'name': 'mura', 'age': 10}\n"
          ]
        }
      ]
    },
    {
      "cell_type": "code",
      "source": [
        "# 'items',\n",
        "# 'keys',\n",
        "# 'values'\n",
        "# 'fromkeys',\n",
        "# 'get',\n",
        "# 'pop',\n",
        "# 'popitem',\n",
        "# 'setdefault',\n",
        "# 'update',\n",
        "\n",
        "hero = {'name': 'licat', 'age': 10}\n",
        "print(hero2.items())\n",
        "# hero2.items()[0] # error\n",
        "list(hero2.items())[0] # 출력: ('name', 'mura')\n",
        "type(hero2.items())"
      ],
      "metadata": {
        "colab": {
          "base_uri": "https://localhost:8080/"
        },
        "id": "ef8EPzDta64h",
        "outputId": "848a9f88-d5d5-4da0-dc94-f490a4725180"
      },
      "execution_count": 118,
      "outputs": [
        {
          "output_type": "stream",
          "name": "stdout",
          "text": [
            "dict_items([('name', 'mura'), ('age', 10)])\n"
          ]
        },
        {
          "output_type": "execute_result",
          "data": {
            "text/plain": [
              "dict_items"
            ]
          },
          "metadata": {},
          "execution_count": 118
        }
      ]
    },
    {
      "cell_type": "code",
      "source": [
        "# 'items',\n",
        "# 'keys',\n",
        "# 'values'\n",
        "# 'fromkeys',\n",
        "# 'get',\n",
        "# 'pop',\n",
        "# 'popitem',\n",
        "# 'setdefault',\n",
        "# 'update',\n",
        "\n",
        "hero = {'name': 'licat', 'age': 10}\n",
        "print(hero.keys())\n",
        "type(hero.keys())\n",
        "\n",
        "# 이렇게 많이 사용합니다.\n",
        "for i in hero.keys():\n",
        "    print(i)"
      ],
      "metadata": {
        "colab": {
          "base_uri": "https://localhost:8080/"
        },
        "id": "aKvLvrZpbr1G",
        "outputId": "bb032e61-6a94-4fc7-cb46-66bbfb826138"
      },
      "execution_count": 121,
      "outputs": [
        {
          "output_type": "stream",
          "name": "stdout",
          "text": [
            "dict_keys(['name', 'age'])\n",
            "name\n",
            "age\n"
          ]
        }
      ]
    },
    {
      "cell_type": "code",
      "source": [
        "# 'items',\n",
        "# 'keys',\n",
        "# 'values'\n",
        "# 'fromkeys',\n",
        "# 'get',\n",
        "# 'pop',\n",
        "# 'popitem',\n",
        "# 'setdefault',\n",
        "# 'update',\n",
        "\n",
        "hero = {'name': 'licat', 'age': 10}\n",
        "print(hero.values())\n",
        "type(hero.values())"
      ],
      "metadata": {
        "colab": {
          "base_uri": "https://localhost:8080/"
        },
        "id": "Gq4zbP8NcAMu",
        "outputId": "6184ca2e-a440-46b6-8568-80d7d9ad5808"
      },
      "execution_count": 123,
      "outputs": [
        {
          "output_type": "stream",
          "name": "stdout",
          "text": [
            "dict_values(['licat', 10])\n"
          ]
        },
        {
          "output_type": "execute_result",
          "data": {
            "text/plain": [
              "dict_values"
            ]
          },
          "metadata": {},
          "execution_count": 123
        }
      ]
    },
    {
      "cell_type": "code",
      "source": [
        "hero = {'name': 'licat', 'age': 10}\n",
        "\n",
        "# 'licat' in hero # 출력: False\n",
        "# 'name' in hero # 출력: True, 키 값을 찾는 것만 됩니다."
      ],
      "metadata": {
        "id": "joByc1etcIVz"
      },
      "execution_count": 126,
      "outputs": []
    },
    {
      "cell_type": "code",
      "source": [
        "'licat' in hero.values()\n",
        "'mura' in hero.values()"
      ],
      "metadata": {
        "colab": {
          "base_uri": "https://localhost:8080/"
        },
        "id": "n5zMybg0cUh6",
        "outputId": "e54bb824-a84a-4402-f3c4-f634ae26cd2a"
      },
      "execution_count": 129,
      "outputs": [
        {
          "output_type": "execute_result",
          "data": {
            "text/plain": [
              "False"
            ]
          },
          "metadata": {},
          "execution_count": 129
        }
      ]
    },
    {
      "cell_type": "code",
      "source": [
        "# 'fromkeys',\n",
        "# 'get',\n",
        "# 'pop',\n",
        "# 'popitem',\n",
        "# 'setdefault',\n",
        "# 'update',\n",
        "\n",
        "keys = ['name', 'city', 'job']\n",
        "value = ['licat', 'Jeju', 'Developer']\n",
        "print(dict.fromkeys(keys, values))"
      ],
      "metadata": {
        "colab": {
          "base_uri": "https://localhost:8080/"
        },
        "id": "GbiO6OY4zcyb",
        "outputId": "3cc65766-b57e-4eff-a49d-9168c5f64c57"
      },
      "execution_count": 144,
      "outputs": [
        {
          "output_type": "stream",
          "name": "stdout",
          "text": [
            "{'name': ['licat', 'Jeju', 'Developer'], 'city': ['licat', 'Jeju', 'Developer'], 'job': ['licat', 'Jeju', 'Developer']}\n"
          ]
        }
      ]
    },
    {
      "cell_type": "code",
      "source": [
        "keys = ['name', 'city', 'job']\n",
        "value = None\n",
        "print(dict.fromkeys(keys, values))"
      ],
      "metadata": {
        "colab": {
          "base_uri": "https://localhost:8080/"
        },
        "id": "xeGq2kSbzseu",
        "outputId": "5fe808d2-45aa-438e-fe5b-9644f4124bcc"
      },
      "execution_count": 145,
      "outputs": [
        {
          "output_type": "stream",
          "name": "stdout",
          "text": [
            "{'name': None, 'city': None, 'job': None}\n"
          ]
        }
      ]
    },
    {
      "cell_type": "code",
      "source": [
        "d = {'name': 'licat', 'city': 'Jeju'}\n",
        "d['name']\n",
        "d.get('name') # 기억하고 있어야 합니다."
      ],
      "metadata": {
        "colab": {
          "base_uri": "https://localhost:8080/",
          "height": 35
        },
        "id": "LRikKFaaz9gf",
        "outputId": "09ee13a3-311d-4844-e03e-b7f6fed22641"
      },
      "execution_count": 147,
      "outputs": [
        {
          "output_type": "execute_result",
          "data": {
            "text/plain": [
              "'licat'"
            ],
            "application/vnd.google.colaboratory.intrinsic+json": {
              "type": "string"
            }
          },
          "metadata": {},
          "execution_count": 147
        }
      ]
    },
    {
      "cell_type": "code",
      "source": [
        "d = {'name': 'licat', 'city': 'Jeju'}\n",
        "# d['age'] # error, 이거 가볍게 생각하면 안됩니다! 서비스 멈춥니다!\n",
        "d.get('age', '값 없음!')"
      ],
      "metadata": {
        "colab": {
          "base_uri": "https://localhost:8080/",
          "height": 35
        },
        "id": "ny8el_q90JkG",
        "outputId": "6038b2ff-2a85-4ec6-cf38-5b62ff085952"
      },
      "execution_count": 151,
      "outputs": [
        {
          "output_type": "execute_result",
          "data": {
            "text/plain": [
              "'값 없음!'"
            ],
            "application/vnd.google.colaboratory.intrinsic+json": {
              "type": "string"
            }
          },
          "metadata": {},
          "execution_count": 151
        }
      ]
    },
    {
      "cell_type": "code",
      "source": [
        "# 위험한 코드입니다!\n",
        "def 요일변경(n):\n",
        "    return {\n",
        "        1: '월요일',\n",
        "        2: '화요일',\n",
        "        3: '수요일',\n",
        "        4: '목요일',\n",
        "        5: '금요일',\n",
        "        6: '토요일',\n",
        "        7: '일요일',\n",
        "    }[n]\n",
        "\n",
        "요일변경(3)\n",
        "# 요일변경(8) # error, 서비스 멈춥니다!"
      ],
      "metadata": {
        "id": "IfoNTqKU0oa0"
      },
      "execution_count": null,
      "outputs": []
    },
    {
      "cell_type": "code",
      "source": [
        "# 아래와 같이 변경을 해주세요.\n",
        "def 요일변경(n):\n",
        "    return {\n",
        "        1: '월요일',\n",
        "        2: '화요일',\n",
        "        3: '수요일',\n",
        "        4: '목요일',\n",
        "        5: '금요일',\n",
        "        6: '토요일',\n",
        "        7: '일요일',\n",
        "    }.get(n) # 기본이 None입니다.\n",
        "\n",
        "요일변경(3)\n",
        "print(요일변경(8))\n",
        "print(요일변경(8))"
      ],
      "metadata": {
        "colab": {
          "base_uri": "https://localhost:8080/"
        },
        "id": "z-58zjos1Pup",
        "outputId": "c981efb7-1e90-4a7a-ddd6-2f01d76e1d72"
      },
      "execution_count": 155,
      "outputs": [
        {
          "output_type": "stream",
          "name": "stdout",
          "text": [
            "None\n"
          ]
        }
      ]
    },
    {
      "cell_type": "code",
      "source": [
        "# 아래와 같이 변경을 해주세요.\n",
        "def 요일변경(n):\n",
        "    return {\n",
        "        1: '월요일',\n",
        "        2: '화요일',\n",
        "        3: '수요일',\n",
        "        4: '목요일',\n",
        "        5: '금요일',\n",
        "        6: '토요일',\n",
        "        7: '일요일',\n",
        "    }.get(n, '')\n",
        "\n",
        "요일변경(3)\n",
        "print(요일변경(8))"
      ],
      "metadata": {
        "colab": {
          "base_uri": "https://localhost:8080/"
        },
        "id": "d264SQ-N1i_T",
        "outputId": "f4b4017e-cf41-4ef4-e0d4-bf3a1fc90284"
      },
      "execution_count": 157,
      "outputs": [
        {
          "output_type": "stream",
          "name": "stdout",
          "text": [
            "\n"
          ]
        }
      ]
    },
    {
      "cell_type": "code",
      "source": [
        "# 아래와 같이 변경을 해주세요.\n",
        "def f():\n",
        "    return '금금금요일'\n",
        "\n",
        "def 요일변경(w):\n",
        "    return {\n",
        "        '월': '월요일',\n",
        "        '화': '화요일',\n",
        "        '수': '수요일',\n",
        "        '목': '목요일',\n",
        "        '금': '금요일',\n",
        "        '토': '토요일',\n",
        "        '일': '일요일',\n",
        "    }.get(w, f())\n",
        "\n",
        "요일변경('하하')"
      ],
      "metadata": {
        "colab": {
          "base_uri": "https://localhost:8080/",
          "height": 35
        },
        "id": "FrYWh5Ui2l2C",
        "outputId": "685a869d-e7ef-4655-a796-9da8df5df8e8"
      },
      "execution_count": 160,
      "outputs": [
        {
          "output_type": "execute_result",
          "data": {
            "text/plain": [
              "'금금금요일'"
            ],
            "application/vnd.google.colaboratory.intrinsic+json": {
              "type": "string"
            }
          },
          "metadata": {},
          "execution_count": 160
        }
      ]
    },
    {
      "cell_type": "code",
      "source": [
        "numbers = {'one': '하나', 'two': '둘', 'three': '셋'}\n",
        "numbers.pop('one')\n",
        "numbers"
      ],
      "metadata": {
        "colab": {
          "base_uri": "https://localhost:8080/"
        },
        "id": "8Eq_zJjy3WHo",
        "outputId": "7ed79e12-9e56-4fb0-d547-4979394398dc"
      },
      "execution_count": 162,
      "outputs": [
        {
          "output_type": "execute_result",
          "data": {
            "text/plain": [
              "{'two': '둘', 'three': '셋'}"
            ]
          },
          "metadata": {},
          "execution_count": 162
        }
      ]
    },
    {
      "cell_type": "code",
      "source": [
        "numbers = {'one': '하나', 'two': '둘', 'three': '셋'}\n",
        "numbers.pop() # error\n",
        "numbers"
      ],
      "metadata": {
        "id": "wgriNY4m3Z8z"
      },
      "execution_count": null,
      "outputs": []
    },
    {
      "cell_type": "code",
      "source": [
        "numbers = {'one': '하나', 'two': '둘', 'three': '셋'}\n",
        "item = numbers.popitem()\n",
        "print(item)\n",
        "print(numbers)"
      ],
      "metadata": {
        "colab": {
          "base_uri": "https://localhost:8080/"
        },
        "id": "mPc4FmIC3w8t",
        "outputId": "13497c96-7f9d-40f0-fcff-ac4674675a33"
      },
      "execution_count": 165,
      "outputs": [
        {
          "output_type": "stream",
          "name": "stdout",
          "text": [
            "('three', '셋')\n",
            "{'one': '하나', 'two': '둘'}\n"
          ]
        }
      ]
    },
    {
      "cell_type": "code",
      "source": [
        "numbers = {'one': '하나', 'two': '둘', 'three': '셋'}\n",
        "four_value = numbers.setdefault(\"four\", \"넷\")\n",
        "print(four_value)\n",
        "print(numbers)"
      ],
      "metadata": {
        "colab": {
          "base_uri": "https://localhost:8080/"
        },
        "id": "xtZP3EzU7E95",
        "outputId": "72202158-b525-45e6-882e-a8cc7c332e48"
      },
      "execution_count": 166,
      "outputs": [
        {
          "output_type": "stream",
          "name": "stdout",
          "text": [
            "넷\n",
            "{'one': '하나', 'two': '둘', 'three': '셋', 'four': '넷'}\n"
          ]
        }
      ]
    },
    {
      "cell_type": "code",
      "source": [
        "numbers = {'one': '하나', 'two': '둘', 'three': '셋'}\n",
        "four_value = numbers.setdefault(\"three\", 3) # 3이 반영되지 않습니다.\n",
        "print(four_value)\n",
        "print(numbers)"
      ],
      "metadata": {
        "colab": {
          "base_uri": "https://localhost:8080/"
        },
        "id": "DC6voCDK7KDS",
        "outputId": "04066465-768b-4d84-aa03-6d8b6b4e2c62"
      },
      "execution_count": 167,
      "outputs": [
        {
          "output_type": "stream",
          "name": "stdout",
          "text": [
            "셋\n",
            "{'one': '하나', 'two': '둘', 'three': '셋'}\n"
          ]
        }
      ]
    },
    {
      "cell_type": "code",
      "source": [
        "numbers = {'one': '하나', 'two': '둘', 'three': '셋'}\n",
        "numbers.update({'four': '넷', 'five': '다섯'})\n",
        "print(numbers)"
      ],
      "metadata": {
        "colab": {
          "base_uri": "https://localhost:8080/"
        },
        "id": "oKZdmYsX7Xs3",
        "outputId": "0da56c4f-532f-4152-a104-ef043eac1d92"
      },
      "execution_count": 168,
      "outputs": [
        {
          "output_type": "stream",
          "name": "stdout",
          "text": [
            "{'one': '하나', 'two': '둘', 'three': '셋', 'four': '넷', 'five': '다섯'}\n"
          ]
        }
      ]
    },
    {
      "cell_type": "code",
      "source": [
        "numbers = {'one': '하나', 'two': '둘', 'three': '셋'}\n",
        "numbers.update({'three': 3, 'four': 4})\n",
        "print(numbers)"
      ],
      "metadata": {
        "colab": {
          "base_uri": "https://localhost:8080/"
        },
        "id": "QmFSyiKd7dTA",
        "outputId": "aee00d00-6edb-4591-99ee-403d5d76e84a"
      },
      "execution_count": 169,
      "outputs": [
        {
          "output_type": "stream",
          "name": "stdout",
          "text": [
            "{'one': '하나', 'two': '둘', 'three': 3, 'four': 4}\n"
          ]
        }
      ]
    },
    {
      "cell_type": "markdown",
      "source": [
        "# 연습문제"
      ],
      "metadata": {
        "id": "2Qw-8Q1h7v0u"
      }
    },
    {
      "cell_type": "code",
      "source": [
        "국영수 = {'국어': 97, '영어': 38, '수학': 90}\n",
        "# 문제1: 다음 국영수 dict에 점수에 평균을 구하는 코드를 작성하시오.\n",
        "sum(국영수.values())/len(국영수)\n",
        "\n",
        "# 문제2: {'사회':70, '과학':85}가 추가되었습니다. dict에 평균을 구하는 코드를 작성하시오.\n",
        "국영수.update({'사회':70, '과학':85})\n",
        "sum(국영수.values())/len(국영수)\n",
        "\n",
        "# 문제3: 영어와 수학점수가 각각 10점씩 올랐습니다. 점수를 10점 추가하는 코드를 작성하시오.\n",
        "# 국영수['영어'] += 10\n",
        "# 국영수['수학'] += 10\n",
        "국영수.update({'영어': 국영수.get('영어', 0) + 10})\n",
        "국영수.update({'수학': 국영수.get('수학', 0) + 10})\n",
        "국영수 # 영어와 수학이 없었어도 반환해줍니다!\n",
        "\n",
        "# 문제4: 최종 점수에서 가장 높은 점수를 출력하는 코드를 작성하시오.\n",
        "max(국영수.values())\n",
        "\n",
        "# 문제5: 가장 높은 점수에 과목을 출력해주세요.\n",
        "#(https://school.programmers.co.kr/learn/courses/30/lessons/120835 이런문제와 유사합니다.)\n",
        "max(국영수.items(), key=lambda x: x[1])[0] # 강토님 코드\n",
        "max(국영수, key=국영수.get) # 형섭님 코드\n",
        "\n",
        "values = list(국영수.values())\n",
        "list(국영수.keys())[values.index(max(values))] # 병헌님 코드(공을 많이 들인 코드)\n",
        "\n",
        "list(sorted(국영수.items(), key=lambda x:x[1], reverse=True))[0][0] # 찬양님 코드 변경\n",
        "\n",
        "for key in 국영수: # 종훈님 코드\n",
        "    if(국영수.get(key) == max(국영수.values())):\n",
        "        print(key)\n",
        "\n",
        "[i for i, j in 국영수.items() if j == max(국영수.values())] #진경님 코드"
      ],
      "metadata": {
        "colab": {
          "base_uri": "https://localhost:8080/",
          "height": 35
        },
        "id": "HDs5BdN37xcs",
        "outputId": "3eafc442-f403-42f7-924c-9eefb0e24984"
      },
      "execution_count": 183,
      "outputs": [
        {
          "output_type": "execute_result",
          "data": {
            "text/plain": [
              "'수학'"
            ],
            "application/vnd.google.colaboratory.intrinsic+json": {
              "type": "string"
            }
          },
          "metadata": {},
          "execution_count": 183
        }
      ]
    },
    {
      "cell_type": "code",
      "source": [
        "# 여러개의 딕셔너리를 왔다갔다 하면서 key 값으로 value값을 비교할 때에도 사용합니다.\n",
        "\n",
        "local = {'제주': 100, '서울': 977, '부산': 500}\n",
        "강우량 = {'제주': 100, '서울': 97, '부산': 50}\n",
        "max(강우량, key=local.get())"
      ],
      "metadata": {
        "colab": {
          "base_uri": "https://localhost:8080/",
          "height": 35
        },
        "id": "mwg2VqboETdX",
        "outputId": "99542230-e669-4154-ea40-d8897e285c73"
      },
      "execution_count": 185,
      "outputs": [
        {
          "output_type": "execute_result",
          "data": {
            "text/plain": [
              "'서울'"
            ],
            "application/vnd.google.colaboratory.intrinsic+json": {
              "type": "string"
            }
          },
          "metadata": {},
          "execution_count": 185
        }
      ]
    },
    {
      "cell_type": "code",
      "source": [
        "d = {'a': 10, 'bb': 9, 'c': 5, 'd': 6}\n",
        "max(d) # 유니코드가 가장 큰 key값을 출력하겠다."
      ],
      "metadata": {
        "colab": {
          "base_uri": "https://localhost:8080/",
          "height": 35
        },
        "id": "hvvxz1GWFyaA",
        "outputId": "db31573d-da65-461d-9194-74e6787ad691"
      },
      "execution_count": 189,
      "outputs": [
        {
          "output_type": "execute_result",
          "data": {
            "text/plain": [
              "'d'"
            ],
            "application/vnd.google.colaboratory.intrinsic+json": {
              "type": "string"
            }
          },
          "metadata": {},
          "execution_count": 189
        }
      ]
    },
    {
      "cell_type": "code",
      "source": [
        "d = {'a': 10, 'bb': 9, 'c': 5, 'd': 6}\n",
        "max(d, key=len) # 길이가 가장 긴 key값을 출력하겠다."
      ],
      "metadata": {
        "colab": {
          "base_uri": "https://localhost:8080/",
          "height": 35
        },
        "id": "59_SpA2cIbP2",
        "outputId": "19d9ce09-6633-414c-d47f-a2907277c3fd"
      },
      "execution_count": 190,
      "outputs": [
        {
          "output_type": "execute_result",
          "data": {
            "text/plain": [
              "'bb'"
            ],
            "application/vnd.google.colaboratory.intrinsic+json": {
              "type": "string"
            }
          },
          "metadata": {},
          "execution_count": 190
        }
      ]
    },
    {
      "cell_type": "code",
      "source": [
        "d = {'a': 10, 'bb': 9, 'c': 5, 'd': 6}\n",
        "max(d, key=d.get) # d.get에서 반환된 가장 큰값의 key값을 출력하겠다."
      ],
      "metadata": {
        "id": "JF-Pah8WIqhp"
      },
      "execution_count": null,
      "outputs": []
    },
    {
      "cell_type": "markdown",
      "source": [
        "# 얕은 복사와 깊은 복사"
      ],
      "metadata": {
        "id": "rnL4dO42vWe_"
      }
    },
    {
      "cell_type": "code",
      "source": [
        "l = [1, 2, 3]\n",
        "ll = l.copy()\n",
        "l"
      ],
      "metadata": {
        "colab": {
          "base_uri": "https://localhost:8080/"
        },
        "id": "uuj0KwKwvaXJ",
        "outputId": "02cbfe8a-9a98-4247-a443-e18769f16f15"
      },
      "execution_count": 132,
      "outputs": [
        {
          "output_type": "execute_result",
          "data": {
            "text/plain": [
              "[1, 2, 3]"
            ]
          },
          "metadata": {},
          "execution_count": 132
        }
      ]
    },
    {
      "cell_type": "code",
      "source": [
        "import copy\n",
        "\n",
        "a = [1, 2]\n",
        "b = [3, 4]\n",
        "\n",
        "aa = [10, 20, a]\n",
        "bb = [30, 40, b]\n",
        "\n",
        "aaa = [100, 200, aa]\n",
        "bbb = [300, 400, bb]\n",
        "\n",
        "l = [aaa, bbb]\n",
        "ll = copy.deepcopy(l) # 깊은 복사\n",
        "\n",
        "a[0] = 99\n",
        "\n",
        "print(l)\n",
        "print(ll)"
      ],
      "metadata": {
        "colab": {
          "base_uri": "https://localhost:8080/"
        },
        "id": "hR-1nyX0vikA",
        "outputId": "2193129b-90d4-49b7-d968-d92ffdb951cc"
      },
      "execution_count": 133,
      "outputs": [
        {
          "output_type": "stream",
          "name": "stdout",
          "text": [
            "[[100, 200, [10, 20, [99, 2]]], [300, 400, [30, 40, [3, 4]]]]\n",
            "[[100, 200, [10, 20, [1, 2]]], [300, 400, [30, 40, [3, 4]]]]\n"
          ]
        }
      ]
    },
    {
      "cell_type": "code",
      "source": [
        "l = [[1, 2, 3], [4, 5, 6]]\n",
        "ll = [i for i in l]\n",
        "ll[0][0] = 1000\n",
        "print(l)\n",
        "print(ll)"
      ],
      "metadata": {
        "colab": {
          "base_uri": "https://localhost:8080/"
        },
        "id": "Ng45m11WwYFW",
        "outputId": "d80fb73c-10b7-49e6-cda1-def63d54d26c"
      },
      "execution_count": 137,
      "outputs": [
        {
          "output_type": "stream",
          "name": "stdout",
          "text": [
            "[[1000, 2, 3], [4, 5, 6]]\n",
            "[[1000, 2, 3], [4, 5, 6]]\n"
          ]
        }
      ]
    },
    {
      "cell_type": "code",
      "source": [
        "# 리스트 컴프리헨션으로 깊은 복사 구현(완전하진 않습니다.)\n",
        "l = [[1, 2, 3], [4, 5, 6]]\n",
        "ll = [i[:] for i in l]\n",
        "ll[0][0] = 1000\n",
        "print(l)\n",
        "print(ll)"
      ],
      "metadata": {
        "colab": {
          "base_uri": "https://localhost:8080/"
        },
        "id": "40EZIz-Rw5Po",
        "outputId": "c9031d8f-2ed9-4427-c0dc-ebd020d31cdc"
      },
      "execution_count": 136,
      "outputs": [
        {
          "output_type": "stream",
          "name": "stdout",
          "text": [
            "[[1, 2, 3], [4, 5, 6]]\n",
            "[[1000, 2, 3], [4, 5, 6]]\n"
          ]
        }
      ]
    },
    {
      "cell_type": "code",
      "source": [
        "# 위와 같은 방식으로 했을 때 완전하지 않은 코드\n",
        "a = [9, 99]\n",
        "\n",
        "l = [[1, 2, a], [4, 5, 6]]\n",
        "ll = [i[:] for i in l]\n",
        "a[0] = 10000\n",
        "print(l)\n",
        "print(ll)"
      ],
      "metadata": {
        "colab": {
          "base_uri": "https://localhost:8080/"
        },
        "id": "6qcRtZF0xJM5",
        "outputId": "b4cd2256-8743-41f5-d7f5-54d1e141f126"
      },
      "execution_count": 138,
      "outputs": [
        {
          "output_type": "stream",
          "name": "stdout",
          "text": [
            "[[1, 2, [10000, 99]], [4, 5, 6]]\n",
            "[[1, 2, [10000, 99]], [4, 5, 6]]\n"
          ]
        }
      ]
    },
    {
      "cell_type": "code",
      "source": [
        "# 종훈님 Q&A\n",
        "\n",
        "a = [1, 2, 3]\n",
        "b = [4, 5, 6]\n",
        "\n",
        "l = [a, b]\n",
        "ll = [a, b]\n",
        "lll = [[1, 2, 3], [4, 5, 6]]\n",
        "\n",
        "print(id(l), id(ll))\n",
        "print(id(l[0]), id(ll[0]))\n",
        "print(id(l[0]), id(lll[0]))"
      ],
      "metadata": {
        "colab": {
          "base_uri": "https://localhost:8080/"
        },
        "id": "97l_R0dlyHuK",
        "outputId": "e60e43a0-c26f-43bd-9532-404621f96003"
      },
      "execution_count": 142,
      "outputs": [
        {
          "output_type": "stream",
          "name": "stdout",
          "text": [
            "132986698067008 132986698071040\n",
            "132986699583488 132986699583488\n",
            "132986699583488 132986698066432\n"
          ]
        }
      ]
    },
    {
      "cell_type": "code",
      "source": [
        "a = [9999, 9999, 9999]\n",
        "b = copy.deepcopy(a)\n",
        "c = copy.deepcopy(b)\n",
        "print(a, b, c)\n",
        "\n",
        "print(id(a[0]), id(b[0]), id(c[0]))"
      ],
      "metadata": {
        "colab": {
          "base_uri": "https://localhost:8080/"
        },
        "id": "yDSjEkhZxfLk",
        "outputId": "d803ea06-95b1-4eae-aae0-b2ddd4f3c0fc"
      },
      "execution_count": 139,
      "outputs": [
        {
          "output_type": "stream",
          "name": "stdout",
          "text": [
            "[9999, 9999, 9999] [9999, 9999, 9999] [9999, 9999, 9999]\n",
            "132986697808592 132986697808592 132986697808592\n"
          ]
        }
      ]
    },
    {
      "cell_type": "code",
      "source": [
        "c = [9999, 9999, 9999]\n",
        "id(c[0]), id(c[1]), id(c[2])\n",
        "c[0] is c[1]"
      ],
      "metadata": {
        "colab": {
          "base_uri": "https://localhost:8080/"
        },
        "id": "1pVNpw6Wxt8b",
        "outputId": "c1354102-f6a1-46b6-fcb3-f49480c39a4b"
      },
      "execution_count": 140,
      "outputs": [
        {
          "output_type": "execute_result",
          "data": {
            "text/plain": [
              "True"
            ]
          },
          "metadata": {},
          "execution_count": 140
        }
      ]
    },
    {
      "cell_type": "code",
      "source": [
        "test = [9999, 9998, 9999]\n",
        "id(test[0]), id(test[1]), id(test[2])\n",
        "# 같은 컨벤션 내에 지정된 숫자는 동일한 메모리에 저장"
      ],
      "metadata": {
        "id": "MeZDqjnGxzDI"
      },
      "execution_count": null,
      "outputs": []
    },
    {
      "cell_type": "code",
      "source": [
        "test = (9999, 9998, 9999)\n",
        "id(test[0]), id(test[1]), id(test[2])\n",
        "# 같은 컨벤션 내에 지정된 숫자는 동일한 메모리에 저장"
      ],
      "metadata": {
        "id": "k7U43Hd5yCMW"
      },
      "execution_count": null,
      "outputs": []
    },
    {
      "cell_type": "code",
      "source": [
        "test = {'one':9999, 'two':9998, 'three':9999}\n",
        "id(test['one']), id(test['two']), id(test['three'])\n",
        "# 같은 컨벤션 내에 지정된 숫자는 동일한 메모리에 저장"
      ],
      "metadata": {
        "colab": {
          "base_uri": "https://localhost:8080/"
        },
        "id": "_UNNLPTZzKHG",
        "outputId": "c23b3bec-acd0-4858-d497-982a7b077e06"
      },
      "execution_count": 143,
      "outputs": [
        {
          "output_type": "execute_result",
          "data": {
            "text/plain": [
              "(132986699571728, 132986699572208, 132986699571728)"
            ]
          },
          "metadata": {},
          "execution_count": 143
        }
      ]
    },
    {
      "cell_type": "markdown",
      "source": [
        "# Set(집합)"
      ],
      "metadata": {
        "id": "5D8xCcr3JU1O"
      }
    },
    {
      "cell_type": "code",
      "source": [
        "# 1. 중복이 되지 않습니다.\n",
        "# 2. 순서가 없습니다.\n",
        "# 3. 교집합, 차집합, 합집합 등이 가능합니다."
      ],
      "metadata": {
        "id": "BZ3uh6T1JWu6"
      },
      "execution_count": null,
      "outputs": []
    },
    {
      "cell_type": "code",
      "source": [
        "set('hello')\n",
        "s = {'licat', 'licat', 'licat', 'mura', 'binky'} # 게시물에 글 쓴사람은 몇 사람이죠?\n",
        "len(s)"
      ],
      "metadata": {
        "colab": {
          "base_uri": "https://localhost:8080/"
        },
        "id": "NA8e_47MJzeb",
        "outputId": "ec0fc807-8167-4e0e-f3d6-a16c3bd96c18"
      },
      "execution_count": 196,
      "outputs": [
        {
          "output_type": "execute_result",
          "data": {
            "text/plain": [
              "3"
            ]
          },
          "metadata": {},
          "execution_count": 196
        }
      ]
    },
    {
      "cell_type": "code",
      "source": [
        "# 주의\n",
        "t = {} # dict\n",
        "t = () # tuple\n",
        "t = (0) # int\n",
        "t = (0,) # tuple\n",
        "t = {0} # set\n",
        "t = set()\n",
        "type(t)\n",
        "# t = tuple()\n",
        "# type(t)"
      ],
      "metadata": {
        "colab": {
          "base_uri": "https://localhost:8080/"
        },
        "id": "23viEvU6KPrY",
        "outputId": "4a9e9473-e01a-45a6-bec0-72f1f4403fc5"
      },
      "execution_count": 205,
      "outputs": [
        {
          "output_type": "execute_result",
          "data": {
            "text/plain": [
              "set"
            ]
          },
          "metadata": {},
          "execution_count": 205
        }
      ]
    },
    {
      "cell_type": "code",
      "source": [
        "# 합집합\n",
        "s = {1, 1, 1, 2, 3, 4, 4, 4}\n",
        "ss = {4, 5, 6}\n",
        "\n",
        "s | ss"
      ],
      "metadata": {
        "colab": {
          "base_uri": "https://localhost:8080/"
        },
        "id": "USpMicq0K_Xh",
        "outputId": "7221b18a-af4b-45a5-944d-cf882dc938c2"
      },
      "execution_count": 210,
      "outputs": [
        {
          "output_type": "execute_result",
          "data": {
            "text/plain": [
              "{1, 2, 3, 4, 5, 6}"
            ]
          },
          "metadata": {},
          "execution_count": 210
        }
      ]
    },
    {
      "cell_type": "code",
      "source": [
        "# 교집합\n",
        "s = {1, 1, 1, 2, 3, 4, 4, 4}\n",
        "ss = {4, 5, 6}\n",
        "\n",
        "s & ss"
      ],
      "metadata": {
        "colab": {
          "base_uri": "https://localhost:8080/"
        },
        "id": "WuzIRsysLOVF",
        "outputId": "8ed3dfc1-6819-4cd3-da0f-e5e92d4de21b"
      },
      "execution_count": 211,
      "outputs": [
        {
          "output_type": "execute_result",
          "data": {
            "text/plain": [
              "{4}"
            ]
          },
          "metadata": {},
          "execution_count": 211
        }
      ]
    },
    {
      "cell_type": "code",
      "source": [
        "# 차집합\n",
        "s = {1, 1, 1, 2, 3, 4, 4, 4}\n",
        "ss = {4, 5, 6}\n",
        "\n",
        "s - ss"
      ],
      "metadata": {
        "colab": {
          "base_uri": "https://localhost:8080/"
        },
        "id": "lwDi6o2gLPHC",
        "outputId": "42739d71-1832-4c69-a06a-f1152f3d6605"
      },
      "execution_count": 212,
      "outputs": [
        {
          "output_type": "execute_result",
          "data": {
            "text/plain": [
              "{1, 2, 3}"
            ]
          },
          "metadata": {},
          "execution_count": 212
        }
      ]
    },
    {
      "cell_type": "code",
      "source": [
        "# 불만인 것\n",
        "s + ss\n",
        "# 이게 왜 합집합이 아닌가!!!??"
      ],
      "metadata": {
        "id": "JWtx_oMFMJLH"
      },
      "execution_count": null,
      "outputs": []
    },
    {
      "cell_type": "code",
      "source": [
        "s.union(ss)\n",
        "s | ss"
      ],
      "metadata": {
        "colab": {
          "base_uri": "https://localhost:8080/"
        },
        "id": "3aImE8TUMkaZ",
        "outputId": "996efe18-f463-4718-bb81-cdc5008c470e"
      },
      "execution_count": 215,
      "outputs": [
        {
          "output_type": "execute_result",
          "data": {
            "text/plain": [
              "{1, 2, 3, 4, 5, 6}"
            ]
          },
          "metadata": {},
          "execution_count": 215
        }
      ]
    },
    {
      "cell_type": "code",
      "source": [
        "s.add(100)\n",
        "s"
      ],
      "metadata": {
        "colab": {
          "base_uri": "https://localhost:8080/"
        },
        "id": "uGSH6YwSM2JW",
        "outputId": "35546a1a-b90f-4a1e-d180-14602629af36"
      },
      "execution_count": 217,
      "outputs": [
        {
          "output_type": "execute_result",
          "data": {
            "text/plain": [
              "{1, 2, 3, 4, 100}"
            ]
          },
          "metadata": {},
          "execution_count": 217
        }
      ]
    },
    {
      "cell_type": "code",
      "source": [
        "# s.remove(1000) # error 있는 값만 해야 합니다.\n",
        "s.discard(1000) # error가 나진 않습니다.\n",
        "s"
      ],
      "metadata": {
        "colab": {
          "base_uri": "https://localhost:8080/"
        },
        "id": "YgfnO-R2M4gy",
        "outputId": "59a1cba5-7f81-4d4d-a46c-59b098a48c66"
      },
      "execution_count": 222,
      "outputs": [
        {
          "output_type": "execute_result",
          "data": {
            "text/plain": [
              "{1, 2, 3, 4}"
            ]
          },
          "metadata": {},
          "execution_count": 222
        }
      ]
    },
    {
      "cell_type": "code",
      "source": [
        "자유게시판 = {'licat', 'licat', 'licat', 'mura', 'binky'} # 게시물에 글 쓴사람은 몇 사람이죠?\n",
        "공지사항 = {'licat', 'licat'} # 게시물에 글 쓴사람은 몇 사람이죠?\n",
        "len(s)"
      ],
      "metadata": {
        "id": "dYUDdms2NjSk"
      },
      "execution_count": null,
      "outputs": []
    },
    {
      "cell_type": "markdown",
      "source": [
        "# 리스트 컴프리헨션"
      ],
      "metadata": {
        "id": "jH0MoU-EOLMX"
      }
    },
    {
      "cell_type": "code",
      "source": [
        "l = []\n",
        "for i in range(10):\n",
        "    l.append(i)\n",
        "l"
      ],
      "metadata": {
        "colab": {
          "base_uri": "https://localhost:8080/"
        },
        "id": "lKGxDrIvOIP5",
        "outputId": "eac5c8e5-a204-4be3-e183-33b33db0e581"
      },
      "execution_count": 223,
      "outputs": [
        {
          "output_type": "execute_result",
          "data": {
            "text/plain": [
              "[0, 1, 2, 3, 4, 5, 6, 7, 8, 9]"
            ]
          },
          "metadata": {},
          "execution_count": 223
        }
      ]
    },
    {
      "cell_type": "code",
      "source": [
        "l = [i for i in range(10)]\n",
        "l"
      ],
      "metadata": {
        "colab": {
          "base_uri": "https://localhost:8080/"
        },
        "id": "sCE6HUp5OYBK",
        "outputId": "604a4a1e-8ce0-4885-c3c8-a879ecf5dfa7"
      },
      "execution_count": 224,
      "outputs": [
        {
          "output_type": "execute_result",
          "data": {
            "text/plain": [
              "[0, 1, 2, 3, 4, 5, 6, 7, 8, 9]"
            ]
          },
          "metadata": {},
          "execution_count": 224
        }
      ]
    },
    {
      "cell_type": "code",
      "source": [
        "l = []\n",
        "for i in range(10):\n",
        "    l.append(f'{i}입니다!')\n",
        "l"
      ],
      "metadata": {
        "id": "mBYuMN55OvDY"
      },
      "execution_count": null,
      "outputs": []
    },
    {
      "cell_type": "code",
      "source": [
        "l = [f'{i}입니다!' for i in range(10)]\n",
        "l"
      ],
      "metadata": {
        "colab": {
          "base_uri": "https://localhost:8080/"
        },
        "id": "n2p0N8KcPMSq",
        "outputId": "6f63e29a-7c70-4134-f96f-1c14ec522bad"
      },
      "execution_count": 225,
      "outputs": [
        {
          "output_type": "execute_result",
          "data": {
            "text/plain": [
              "['0입니다!',\n",
              " '1입니다!',\n",
              " '2입니다!',\n",
              " '3입니다!',\n",
              " '4입니다!',\n",
              " '5입니다!',\n",
              " '6입니다!',\n",
              " '7입니다!',\n",
              " '8입니다!',\n",
              " '9입니다!']"
            ]
          },
          "metadata": {},
          "execution_count": 225
        }
      ]
    },
    {
      "cell_type": "code",
      "source": [
        "l = []\n",
        "for i in range(2, 10):\n",
        "    for j in range(1, 10):\n",
        "        l.append(f'{i} X {j} = {i*j}')\n",
        "l"
      ],
      "metadata": {
        "id": "4n5r3OK1PT_o"
      },
      "execution_count": null,
      "outputs": []
    },
    {
      "cell_type": "code",
      "source": [
        "l = [f'{i} X {j} = {i*j}' for i in range(2, 10) for j in range(1, 10)]\n",
        "l"
      ],
      "metadata": {
        "id": "iUefomuSPgHJ"
      },
      "execution_count": null,
      "outputs": []
    },
    {
      "cell_type": "code",
      "source": [
        "l = []\n",
        "for i in range(10):\n",
        "    if i % 2 == 0:\n",
        "        l.append(i)\n",
        "l"
      ],
      "metadata": {
        "colab": {
          "base_uri": "https://localhost:8080/"
        },
        "id": "yeHXLD08Pyd5",
        "outputId": "f95285d6-6551-4a85-f6ec-1254279f0ef7"
      },
      "execution_count": 230,
      "outputs": [
        {
          "output_type": "execute_result",
          "data": {
            "text/plain": [
              "[0, 2, 4, 6, 8]"
            ]
          },
          "metadata": {},
          "execution_count": 230
        }
      ]
    },
    {
      "cell_type": "code",
      "source": [
        "l = [i for i in range(10) if i % 2 == 0]\n",
        "l"
      ],
      "metadata": {
        "colab": {
          "base_uri": "https://localhost:8080/"
        },
        "id": "OON-0IxrP7Qd",
        "outputId": "b9904ba5-86d8-4ef1-b1b0-b22408ad5b4f"
      },
      "execution_count": 231,
      "outputs": [
        {
          "output_type": "execute_result",
          "data": {
            "text/plain": [
              "[0, 2, 4, 6, 8]"
            ]
          },
          "metadata": {},
          "execution_count": 231
        }
      ]
    },
    {
      "cell_type": "code",
      "source": [
        "l = []\n",
        "for i in range(10):\n",
        "    if i % 2 == 0:\n",
        "        l.append(i)\n",
        "    else:\n",
        "        l.append(None)\n",
        "l"
      ],
      "metadata": {
        "colab": {
          "base_uri": "https://localhost:8080/"
        },
        "id": "h-7QAvfGQKz9",
        "outputId": "e34e0a13-16fd-4b00-8fb0-e6af30b239a6"
      },
      "execution_count": 232,
      "outputs": [
        {
          "output_type": "execute_result",
          "data": {
            "text/plain": [
              "[0, None, 2, None, 4, None, 6, None, 8, None]"
            ]
          },
          "metadata": {},
          "execution_count": 232
        }
      ]
    },
    {
      "cell_type": "code",
      "source": [
        "# error가 나는 코드\n",
        "# l = [i for i in range(10) if i % 2 == 0 else None]\n",
        "# l"
      ],
      "metadata": {
        "id": "WBgaLUGwQTjS"
      },
      "execution_count": null,
      "outputs": []
    },
    {
      "cell_type": "code",
      "source": [
        "l = [i if i % 2 == 0 else None for i in range(10)]\n",
        "l"
      ],
      "metadata": {
        "colab": {
          "base_uri": "https://localhost:8080/"
        },
        "id": "ADY6yfWSQfAc",
        "outputId": "ef881c64-7a50-4eeb-e8b1-83a84d5015c3"
      },
      "execution_count": 234,
      "outputs": [
        {
          "output_type": "execute_result",
          "data": {
            "text/plain": [
              "[0, None, 2, None, 4, None, 6, None, 8, None]"
            ]
          },
          "metadata": {},
          "execution_count": 234
        }
      ]
    }
  ]
}