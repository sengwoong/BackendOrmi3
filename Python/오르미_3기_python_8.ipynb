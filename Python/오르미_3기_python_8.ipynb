{
  "nbformat": 4,
  "nbformat_minor": 0,
  "metadata": {
    "colab": {
      "provenance": []
    },
    "kernelspec": {
      "name": "python3",
      "display_name": "Python 3"
    },
    "language_info": {
      "name": "python"
    }
  },
  "cells": [
    {
      "cell_type": "code",
      "execution_count": 1,
      "metadata": {
        "id": "swUtdwdjXScH"
      },
      "outputs": [],
      "source": [
        "import requests\n",
        "import bs4"
      ]
    },
    {
      "cell_type": "code",
      "source": [
        "print(requests.__version__)\n",
        "print(bs4.__version__)"
      ],
      "metadata": {
        "colab": {
          "base_uri": "https://localhost:8080/"
        },
        "id": "tQFYyssCgA-A",
        "outputId": "60f3ee13-af1e-4ce8-d699-0384cbe449e5"
      },
      "execution_count": 3,
      "outputs": [
        {
          "output_type": "stream",
          "name": "stdout",
          "text": [
            "2.31.0\n",
            "4.11.2\n"
          ]
        }
      ]
    },
    {
      "cell_type": "code",
      "source": [
        "import requests\n",
        "\n",
        "html = requests.get('https://www.paullab.co.kr/stock.html')\n",
        "html"
      ],
      "metadata": {
        "colab": {
          "base_uri": "https://localhost:8080/"
        },
        "id": "1uGCylmugRIT",
        "outputId": "abd64b42-c1f0-4319-e007-e0b7a2635d20"
      },
      "execution_count": 4,
      "outputs": [
        {
          "output_type": "execute_result",
          "data": {
            "text/plain": [
              "<Response [200]>"
            ]
          },
          "metadata": {},
          "execution_count": 4
        }
      ]
    },
    {
      "cell_type": "code",
      "source": [
        "print(type(html))\n",
        "print(dir(html))\n",
        "print(html.encoding)\n",
        "# html.encoding = 'utf-8' # 한글 깨져 나오면 이 코드를 실행해주세요.\n",
        "# html.headers\n",
        "# html.json\n",
        "# html.raw\n",
        "html.text"
      ],
      "metadata": {
        "id": "7MqyBd3Hgu2Q"
      },
      "execution_count": null,
      "outputs": []
    },
    {
      "cell_type": "code",
      "source": [
        "params = {'pa1': 'val1', 'pa2': 'value2'}\n",
        "response = requests.get('http://www.paullab.co.kr', params=params)\n",
        "# response.text\n",
        "response.url"
      ],
      "metadata": {
        "colab": {
          "base_uri": "https://localhost:8080/",
          "height": 35
        },
        "id": "y_vDimhMh-2v",
        "outputId": "6e7a35ea-4822-415f-b258-ac41026ddd05"
      },
      "execution_count": 16,
      "outputs": [
        {
          "output_type": "execute_result",
          "data": {
            "text/plain": [
              "'https://paullab.co.kr/?pa1=val1&pa2=value2'"
            ],
            "application/vnd.google.colaboratory.intrinsic+json": {
              "type": "string"
            }
          },
          "metadata": {},
          "execution_count": 16
        }
      ]
    },
    {
      "cell_type": "code",
      "source": [
        "import time\n",
        "\n",
        "for i in range(10):\n",
        "    requests.get('https://habitmaker.co.kr/')\n",
        "    time.sleep(1)"
      ],
      "metadata": {
        "id": "fI1dx7-di8IS"
      },
      "execution_count": 19,
      "outputs": []
    },
    {
      "cell_type": "code",
      "source": [
        "import requests\n",
        "from bs4 import BeautifulSoup\n",
        "\n",
        "response = requests.get('http://www.paullab.co.kr/stock.html')\n",
        "# response.encoding = 'utf-8'\n",
        "html = response.text\n",
        "\n",
        "soup = BeautifulSoup(html, 'html.parser') # 원하는 문자열로 잘라줌"
      ],
      "metadata": {
        "id": "2Ju20SbtjIJ4"
      },
      "execution_count": 21,
      "outputs": []
    },
    {
      "cell_type": "code",
      "source": [
        "print(soup.prettify()) # html 문서형식으로 출력"
      ],
      "metadata": {
        "id": "V0F1tUUDlNaZ"
      },
      "execution_count": null,
      "outputs": []
    },
    {
      "cell_type": "code",
      "source": [
        "soup.title"
      ],
      "metadata": {
        "id": "AdKIxtDFlkes"
      },
      "execution_count": null,
      "outputs": []
    },
    {
      "cell_type": "code",
      "source": [
        "soup.head"
      ],
      "metadata": {
        "id": "aHeP1IR0kIF0"
      },
      "execution_count": null,
      "outputs": []
    },
    {
      "cell_type": "code",
      "source": [
        "soup.select('#update')"
      ],
      "metadata": {
        "colab": {
          "base_uri": "https://localhost:8080/"
        },
        "id": "Ps5o_eXnmY1M",
        "outputId": "cdc8f98b-b4e4-404b-ee44-cd830377186e"
      },
      "execution_count": 30,
      "outputs": [
        {
          "output_type": "execute_result",
          "data": {
            "text/plain": [
              "[<span id=\"update\">update : 20.12.30 / 해외 크롤링이 Block되어 있으므로 크롤링이 안되시는 분은 이 URL(http://paullab.synology.me/stock.html)을 사용하세요.</span>]"
            ]
          },
          "metadata": {},
          "execution_count": 30
        }
      ]
    },
    {
      "cell_type": "code",
      "source": [
        "soup.select('#_market_sum')\n",
        "soup.select('#_market_sum')[0]\n",
        "soup.select('#_market_sum')[0].text"
      ],
      "metadata": {
        "colab": {
          "base_uri": "https://localhost:8080/",
          "height": 35
        },
        "id": "hYAM0JeVml87",
        "outputId": "d71995b8-fbcf-4efb-9466-a95f74376a6a"
      },
      "execution_count": 35,
      "outputs": [
        {
          "output_type": "execute_result",
          "data": {
            "text/plain": [
              "'349조 2,323'"
            ],
            "application/vnd.google.colaboratory.intrinsic+json": {
              "type": "string"
            }
          },
          "metadata": {},
          "execution_count": 35
        }
      ]
    },
    {
      "cell_type": "code",
      "source": [
        "# 문제\n",
        "# 2019.10.23 거래량을 출력해보세요."
      ],
      "metadata": {
        "id": "KFHAYjeenLuM"
      },
      "execution_count": null,
      "outputs": []
    },
    {
      "cell_type": "code",
      "source": [
        "soup.select('.table > tbody > tr')[1].select('td')[6].text # 높이 평가합니다."
      ],
      "metadata": {
        "colab": {
          "base_uri": "https://localhost:8080/",
          "height": 35
        },
        "id": "2OOFSiN4ocAG",
        "outputId": "4140ed57-0d5b-41e4-af2f-04d76e025db0"
      },
      "execution_count": 37,
      "outputs": [
        {
          "output_type": "execute_result",
          "data": {
            "text/plain": [
              "'398,421'"
            ],
            "application/vnd.google.colaboratory.intrinsic+json": {
              "type": "string"
            }
          },
          "metadata": {},
          "execution_count": 37
        }
      ]
    },
    {
      "cell_type": "code",
      "source": [
        "soup.select('.num span')[5].text\n",
        "#포털사는 클래스 이름을 주기적으로 변경합니다.\n",
        "# 이거는 곳 실행이 안될 코드입니다."
      ],
      "metadata": {
        "colab": {
          "base_uri": "https://localhost:8080/",
          "height": 35
        },
        "id": "dd0dbjDVoeLv",
        "outputId": "ab41eaa0-2741-4cdf-db49-e3fee3133b96"
      },
      "execution_count": 36,
      "outputs": [
        {
          "output_type": "execute_result",
          "data": {
            "text/plain": [
              "'398,421'"
            ],
            "application/vnd.google.colaboratory.intrinsic+json": {
              "type": "string"
            }
          },
          "metadata": {},
          "execution_count": 36
        }
      ]
    },
    {
      "cell_type": "code",
      "source": [
        "import matplotlib.pyplot as plt\n",
        "\n",
        "plt.plot([10, 20, 30, 20, 25, 45])\n",
        "plt.xticks(rotation = -45 ) # y 축 변수 기울기 설정\n",
        "plt.show()"
      ],
      "metadata": {
        "colab": {
          "base_uri": "https://localhost:8080/",
          "height": 432
        },
        "id": "67lqr-QgpCzo",
        "outputId": "7ed06304-69b4-40be-80cf-b8935c970274"
      },
      "execution_count": 39,
      "outputs": [
        {
          "output_type": "display_data",
          "data": {
            "text/plain": [
              "<Figure size 640x480 with 1 Axes>"
            ],
            "image/png": "[encoded data removed]"
          },
          "metadata": {}
        }
      ]
    }
  ]
}