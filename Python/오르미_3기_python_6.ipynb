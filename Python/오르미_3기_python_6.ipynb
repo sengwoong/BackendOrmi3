{
  "nbformat": 4,
  "nbformat_minor": 0,
  "metadata": {
    "colab": {
      "provenance": []
    },
    "kernelspec": {
      "name": "python3",
      "display_name": "Python 3"
    },
    "language_info": {
      "name": "python"
    }
  },
  "cells": [
    {
      "cell_type": "markdown",
      "source": [
        "# 일급함수와 고차함수"
      ],
      "metadata": {
        "id": "GzwrMtsa6cKM"
      }
    },
    {
      "cell_type": "code",
      "source": [
        "licat = print\n",
        "licat('hello world')"
      ],
      "metadata": {
        "colab": {
          "base_uri": "https://localhost:8080/"
        },
        "id": "OrYK2dqy54W1",
        "outputId": "78deb803-f13c-4b5a-e86b-8f2dc77a0b91"
      },
      "execution_count": null,
      "outputs": [
        {
          "output_type": "stream",
          "name": "stdout",
          "text": [
            "hello world\n"
          ]
        }
      ]
    },
    {
      "cell_type": "code",
      "source": [
        "class Cat:\n",
        "    def sound(self):\n",
        "        print('냐옹')\n",
        "\n",
        "licat = Cat()\n",
        "licat_sound = licat.sound\n",
        "licat_sound() # licat.sound()"
      ],
      "metadata": {
        "colab": {
          "base_uri": "https://localhost:8080/"
        },
        "id": "-PLynYCj6ps9",
        "outputId": "a7b4dd4e-9834-4a12-d877-08b9038db135"
      },
      "execution_count": null,
      "outputs": [
        {
          "output_type": "stream",
          "name": "stdout",
          "text": [
            "냐옹\n"
          ]
        }
      ]
    },
    {
      "cell_type": "code",
      "source": [
        "l = [10, 20, 30]\n",
        "la = l.append\n",
        "la(40) # l.append\n",
        "l"
      ],
      "metadata": {
        "colab": {
          "base_uri": "https://localhost:8080/"
        },
        "id": "h1eUVny87Aju",
        "outputId": "34a45eba-22ba-4433-fd1b-c5133a86e013"
      },
      "execution_count": null,
      "outputs": [
        {
          "output_type": "execute_result",
          "data": {
            "text/plain": [
              "[10, 20, 30, 40]"
            ]
          },
          "metadata": {},
          "execution_count": 8
        }
      ]
    },
    {
      "cell_type": "code",
      "source": [
        "def add(x, y):\n",
        "    return x + y\n",
        "\n",
        "def subtract(x, y):\n",
        "    return x - y\n",
        "\n",
        "funcs = [add, subtract]\n",
        "print(funcs[0](2, 3))  # 출력: 5"
      ],
      "metadata": {
        "id": "CU0LsDOf8oL-"
      },
      "execution_count": null,
      "outputs": []
    },
    {
      "cell_type": "code",
      "source": [
        "class Operator:\n",
        "    def add(self, x, y):\n",
        "        return x + y\n",
        "\n",
        "    def sub(self, x, y):\n",
        "        return x - y\n",
        "\n",
        "    def mul(self, x, y):\n",
        "        return x * y\n",
        "\n",
        "    def div(self, x, y):\n",
        "        return x / y\n",
        "\n",
        "    def _and(self, x, y):\n",
        "        pass\n",
        "\n",
        "    def _or(self, x, y):\n",
        "        pass\n",
        "\n",
        "op = Operator()\n",
        "logical_op = {\n",
        "    'add': op.add,\n",
        "    'sub': op.sub,\n",
        "    'mul': op.mul,\n",
        "    'div': op.div,\n",
        "}\n",
        "arithmetic_op = {\n",
        "    '_and': op._and,\n",
        "    '_or': op._or,\n",
        "}\n",
        "\n",
        "print(logical_op['add'](2, 3)) # 출력: 5\n",
        "print(op.add(2, 3)) # 출력: 5\n",
        "\n",
        "for _, f in logical_op.items():\n",
        "    print(f(2, 3)) # 4칙연산 모두 계산"
      ],
      "metadata": {
        "colab": {
          "base_uri": "https://localhost:8080/"
        },
        "id": "4W6QG1RR8plP",
        "outputId": "cbe13194-62d2-44ab-ba4a-ab4f18ef9bb8"
      },
      "execution_count": null,
      "outputs": [
        {
          "output_type": "stream",
          "name": "stdout",
          "text": [
            "5\n",
            "5\n",
            "5\n",
            "-1\n",
            "6\n",
            "0.6666666666666666\n"
          ]
        }
      ]
    },
    {
      "cell_type": "code",
      "source": [
        "# JavaScript\n",
        "# l = [10, 20, 30]\n",
        "# l.map((v)=>v**2) // [100, 400, 900]"
      ],
      "metadata": {
        "id": "TYM2-czB8qYL"
      },
      "execution_count": null,
      "outputs": []
    },
    {
      "cell_type": "code",
      "source": [
        "# 함수를 인자로 받았음!\n",
        "def licat_sound(p):\n",
        "    # 함수의 기능 10줄이 들어간다 생각하겠습니다.\n",
        "    x = 10\n",
        "    y = 10\n",
        "    z = 10\n",
        "    p('냐옹')\n",
        "\n",
        "licat_sound(print) # licat_sound안에 built-in function인 print를 넣었습니다."
      ],
      "metadata": {
        "id": "y9fNXGnz_Qj1"
      },
      "execution_count": null,
      "outputs": []
    },
    {
      "cell_type": "code",
      "source": [
        "def square(x):\n",
        "    return x ** 2\n",
        "\n",
        "def width_circle(r, s):\n",
        "    return s(r) * 3.14\n",
        "\n",
        "width_circle(10, square)"
      ],
      "metadata": {
        "id": "j9zjoYh__s3V"
      },
      "execution_count": null,
      "outputs": []
    },
    {
      "cell_type": "code",
      "source": [
        "# 함수를 결과로 반환!\n",
        "def create_adder(x):\n",
        "    def adder(y):\n",
        "        return x + y\n",
        "    return adder\n",
        "\n",
        "add_5 = create_adder(5)\n",
        "print(add_5(10))  # 출력: 15"
      ],
      "metadata": {
        "id": "cpN013EFDYD6"
      },
      "execution_count": null,
      "outputs": []
    },
    {
      "cell_type": "code",
      "source": [
        "def create_exponent(x):\n",
        "    def exponent(y):\n",
        "        return y ** x\n",
        "    return exponent\n",
        "\n",
        "exponent_2 = create_exponent(2) # exponent\n",
        "exponent_3 = create_exponent(3) # exponent\n",
        "print(exponent_2(10)) # 출력: 100\n",
        "# print(exponent(10)) => return y ** 2(이 숫자는 상수취급되어 변경시킬 수 없게 됩니다.)\n",
        "print(exponent_3(10)) # 출력: 1000\n",
        "# print(exponent(10)) => return y ** 3(이 숫자는 상수취급되어 변경시킬 수 없게 됩니다.)"
      ],
      "metadata": {
        "colab": {
          "base_uri": "https://localhost:8080/"
        },
        "id": "Nj1YnXBGDe9O",
        "outputId": "448842d0-608b-4b60-d725-5ab0e501dbbd"
      },
      "execution_count": null,
      "outputs": [
        {
          "output_type": "stream",
          "name": "stdout",
          "text": [
            "100\n",
            "1000\n"
          ]
        }
      ]
    },
    {
      "cell_type": "code",
      "source": [
        "def f():\n",
        "    l = [10, 20, 30]\n",
        "    print(id(l))\n",
        "    return l\n",
        "\n",
        "sample = f()\n",
        "id(sample) # 주소가 같네요??\n",
        "# 함수가 끝나면 안에 변수들이 다 휘발되는 것 아니었나요??"
      ],
      "metadata": {
        "colab": {
          "base_uri": "https://localhost:8080/"
        },
        "id": "un1GH424HBSz",
        "outputId": "b195910d-9415-4757-e1f6-690616f7e5b5"
      },
      "execution_count": null,
      "outputs": [
        {
          "output_type": "stream",
          "name": "stdout",
          "text": [
            "136310603510720\n"
          ]
        },
        {
          "output_type": "execute_result",
          "data": {
            "text/plain": [
              "136310603510720"
            ]
          },
          "metadata": {},
          "execution_count": 12
        }
      ]
    },
    {
      "cell_type": "code",
      "source": [
        "import sys\n",
        "\n",
        "def ff():\n",
        "    l = [10, 20, 30]\n",
        "    return l\n",
        "\n",
        "sample_ = ff()\n",
        "sys.getrefcount(sample_) # window, mac, linux의 출력값이 달라요.\n",
        "# 중요한 포인트는 getrefcount의 작동 원리가 아니라\n",
        "# 함수가 종료되어도 참조하는 변수가 있다면\n",
        "# 값이 사라지지 않는다는 것이 포인트입니다!"
      ],
      "metadata": {
        "colab": {
          "base_uri": "https://localhost:8080/"
        },
        "id": "_en4hQ14JHJX",
        "outputId": "89190d5e-c729-4fe0-9b3b-70adef664210"
      },
      "execution_count": null,
      "outputs": [
        {
          "output_type": "execute_result",
          "data": {
            "text/plain": [
              "2"
            ]
          },
          "metadata": {},
          "execution_count": 32
        }
      ]
    },
    {
      "cell_type": "code",
      "source": [
        "import sys\n",
        "\n",
        "def ff():\n",
        "    l = [10, 20, 30]\n",
        "    return l\n",
        "\n",
        "sample_ = ff()"
      ],
      "metadata": {
        "id": "k8Rd2QIyU50q"
      },
      "execution_count": null,
      "outputs": []
    },
    {
      "cell_type": "code",
      "source": [
        "sys.getrefcount(sample_)"
      ],
      "metadata": {
        "colab": {
          "base_uri": "https://localhost:8080/"
        },
        "id": "8R6bcl4CU-TT",
        "outputId": "ad97858a-1ee5-498b-8679-3251980b9bee"
      },
      "execution_count": null,
      "outputs": [
        {
          "output_type": "execute_result",
          "data": {
            "text/plain": [
              "3"
            ]
          },
          "metadata": {},
          "execution_count": 31
        }
      ]
    },
    {
      "cell_type": "code",
      "source": [
        "# 일급 함수: 함수를 일급객체(값, 주소)로 취급\n",
        "# 고차 함수: 함수를 아규먼트로 받거나 return 값으로 반환할 수 있는 함수"
      ],
      "metadata": {
        "id": "r0wG49aKJ-mu"
      },
      "execution_count": null,
      "outputs": []
    },
    {
      "cell_type": "markdown",
      "source": [
        "# 클로저"
      ],
      "metadata": {
        "id": "-dYXAU0HK_3Z"
      }
    },
    {
      "cell_type": "code",
      "source": [
        "# 클로저: 휘발되었어야 하는 메모리 영역에 접근하여 함수나 데이터를 활용하는 일"
      ],
      "metadata": {
        "id": "dXMaOjrBLFF6"
      },
      "execution_count": null,
      "outputs": []
    },
    {
      "cell_type": "code",
      "source": [
        "# 고차함수이며, 일반적인 클로저의 형태는 아닙니다.\n",
        "# 보통 클로저는 outer_function에 은닉할 값을 매개변수로 넘겨줍니다.\n",
        "def outer_function():\n",
        "    def inner_function():\n",
        "        return 100 + 100\n",
        "    return inner_function\n",
        "\n",
        "# 클로저인 경우\n",
        "def outer_function(x):\n",
        "    def inner_function(y):\n",
        "        return x + y\n",
        "    return inner_function\n",
        "\n",
        "inner = outer_function(100)\n",
        "'''\n",
        "def inner(y):\n",
        "    return 100 + y\n",
        "inner(200)\n",
        "'''\n",
        "inner(200) # inner 입장에서 100을 변경할 수 있는 방법이 없습니다."
      ],
      "metadata": {
        "id": "nlbM9YaFLBsR"
      },
      "execution_count": null,
      "outputs": []
    },
    {
      "cell_type": "markdown",
      "source": [
        "# 데코레이터"
      ],
      "metadata": {
        "id": "CuP5lAXQNjaU"
      }
    },
    {
      "cell_type": "code",
      "source": [
        "# 이런 식으로 우린 사용합니다.\n",
        "# login한 사용자만 게시판 읽도록\n",
        "# Django와 같은 프레임웤은 필요한 데코레이터는 미리 구현되어 있습니다.\n",
        "# 걱정하지 않으셔도 됩니다.\n",
        "def login(arg):\n",
        "    pass\n",
        "\n",
        "@login\n",
        "def 게시판읽기():\n",
        "    pass"
      ],
      "metadata": {
        "id": "FIt_8G2LZGCf"
      },
      "execution_count": null,
      "outputs": []
    },
    {
      "cell_type": "code",
      "source": [
        "def simple_decorator(function):\n",
        "    def wrapper():\n",
        "        print(\"Before the function call\")\n",
        "        function()\n",
        "        print(\"After the function call\")\n",
        "    return wrapper\n",
        "\n",
        "@simple_decorator\n",
        "def hello():\n",
        "    print(\"Hello, World!\")\n",
        "\n",
        "hello() # 데코레이터가 없는 상태에서는 simple_decorator(hello)() 와 같습니다."
      ],
      "metadata": {
        "colab": {
          "base_uri": "https://localhost:8080/"
        },
        "id": "7rr65eZ_Nk6B",
        "outputId": "b5a37f6a-c1e9-4d94-d196-f7226f91a003"
      },
      "execution_count": null,
      "outputs": [
        {
          "output_type": "stream",
          "name": "stdout",
          "text": [
            "Before the function call\n",
            "Hello, World!\n",
            "After the function call\n"
          ]
        }
      ]
    },
    {
      "cell_type": "code",
      "source": [
        "def simple_decorator(function):\n",
        "    def wrapper():\n",
        "        print(\"Before the function call\")\n",
        "        function()\n",
        "        print(\"After the function call\")\n",
        "    return wrapper\n",
        "\n",
        "def hello():\n",
        "    print(\"Hello, World!\")\n",
        "\n",
        "simple_decorator(hello)()\n",
        "# simple_decorator(hello) => wrapper\n",
        "# simple_decorator(hello)() => wrapper()"
      ],
      "metadata": {
        "colab": {
          "base_uri": "https://localhost:8080/"
        },
        "id": "DDiZvGPqOX4M",
        "outputId": "de8fd170-76f2-42a0-9290-603bbf6982a7"
      },
      "execution_count": null,
      "outputs": [
        {
          "output_type": "stream",
          "name": "stdout",
          "text": [
            "Before the function call\n",
            "Hello, World!\n",
            "After the function call\n"
          ]
        }
      ]
    },
    {
      "cell_type": "code",
      "source": [
        "def simple_decorator(function):\n",
        "    def wrapper():\n",
        "        print(\"Before the function call\")\n",
        "        function()\n",
        "        print(\"After the function call\")\n",
        "    return wrapper\n",
        "\n",
        "@simple_decorator\n",
        "def hello():\n",
        "    print(\"Hello, World!\")\n",
        "\n",
        "hello() # 이렇게만 하면 simple_decorator에 hello를 아규먼트로 넣어주고 실행하겠다!"
      ],
      "metadata": {
        "colab": {
          "base_uri": "https://localhost:8080/"
        },
        "id": "D1ZxnLT3PE_H",
        "outputId": "5e8d0571-37cd-42b6-881e-f97591fc0be6"
      },
      "execution_count": null,
      "outputs": [
        {
          "output_type": "stream",
          "name": "stdout",
          "text": [
            "Before the function call\n",
            "Hello, World!\n",
            "After the function call\n"
          ]
        }
      ]
    },
    {
      "cell_type": "code",
      "source": [
        "def simple_decorator(function):\n",
        "    def wrapper(a, b):\n",
        "        print('전')\n",
        "        result = function(a, b)\n",
        "        print('후')\n",
        "        return result\n",
        "    return wrapper\n",
        "\n",
        "@simple_decorator\n",
        "def hello(a, b):\n",
        "    return a + b\n",
        "\n",
        "hello(10, 20)\n",
        "# simple_decorator(hello)(10, 20)\n",
        "# step1: simple_decorator(hello) => wrapper\n",
        "# step2: simple_decorator(hello)(a, b) => wrapper(a, b)"
      ],
      "metadata": {
        "colab": {
          "base_uri": "https://localhost:8080/"
        },
        "id": "AQTVJSkIA2Xz",
        "outputId": "f305434a-f4bd-4039-d4f4-8053072831e3"
      },
      "execution_count": null,
      "outputs": [
        {
          "output_type": "stream",
          "name": "stdout",
          "text": [
            "전\n",
            "후\n"
          ]
        },
        {
          "output_type": "execute_result",
          "data": {
            "text/plain": [
              "30"
            ]
          },
          "metadata": {},
          "execution_count": 3
        }
      ]
    },
    {
      "cell_type": "code",
      "source": [
        "# step 1\n",
        "def data_Preprocessing(function):\n",
        "    def wrapper():\n",
        "        pass\n",
        "    return wrapper\n",
        "\n",
        "@data_Preprocessing\n",
        "def mean(data):\n",
        "    return sum(data)/len(data)\n",
        "\n",
        "mean([1, 2, '3', 4, '5']) # TypeError 발생"
      ],
      "metadata": {
        "id": "drA7MrQfPn-q"
      },
      "execution_count": null,
      "outputs": []
    },
    {
      "cell_type": "code",
      "source": [
        "# step 2\n",
        "def data_Preprocessing(function):\n",
        "    def wrapper(data):\n",
        "        print(data)\n",
        "    return wrapper\n",
        "\n",
        "@data_Preprocessing\n",
        "def mean(data):\n",
        "    return sum(data)/len(data)\n",
        "\n",
        "mean([1, 2, '3', 4, '5']) # 데이터만 출력하고 함수는 None을 반환"
      ],
      "metadata": {
        "colab": {
          "base_uri": "https://localhost:8080/"
        },
        "id": "_1dSgMSoQQWu",
        "outputId": "13ff9621-dc7f-437e-d676-7e63c5e5b971"
      },
      "execution_count": null,
      "outputs": [
        {
          "output_type": "stream",
          "name": "stdout",
          "text": [
            "[1, 2, '3', 4, '5']\n"
          ]
        }
      ]
    },
    {
      "cell_type": "code",
      "source": [
        "# step 3\n",
        "def data_Preprocessing(function):\n",
        "    def wrapper(data):\n",
        "        return function(list(map(int, data)))\n",
        "    return wrapper\n",
        "\n",
        "@data_Preprocessing\n",
        "def mean(data):\n",
        "    return sum(data)/len(data)\n",
        "\n",
        "mean([1, 2, '3', 4, '5']) # 출력: 3.0 (정상 작동) # 데코레이터가 붙으면 mean을 실행하는 것이 아닙니다!\n",
        "\n",
        "# data_Preprocessing(mean) => wrapper\n",
        "# data_Preprocessing(mean)([1, 2, '3', 4, '5']) => wrapper([1, 2, '3', 4, '5'])"
      ],
      "metadata": {
        "id": "fLH_As5tQppQ"
      },
      "execution_count": null,
      "outputs": []
    },
    {
      "cell_type": "code",
      "source": [
        "# step 3\n",
        "def data_Preprocessing(function):\n",
        "    def wrapper(a, b, c):\n",
        "        print(a, b, c)\n",
        "        # print(function([a, b, c]))\n",
        "    return wrapper\n",
        "\n",
        "@data_Preprocessing\n",
        "def mean(data):\n",
        "    return sum(data)/len(data)\n",
        "\n",
        "mean(10, 20, 30) # 왜 오류가 없을까요? data인자가 하나고, 10, 20, 30인자가 3개인데요?"
      ],
      "metadata": {
        "colab": {
          "base_uri": "https://localhost:8080/"
        },
        "id": "cdyq7CxWRVge",
        "outputId": "504aa8ea-5063-4d3a-a752-556330ebc207"
      },
      "execution_count": null,
      "outputs": [
        {
          "output_type": "stream",
          "name": "stdout",
          "text": [
            "10 20 30\n",
            "20.0\n"
          ]
        }
      ]
    },
    {
      "cell_type": "code",
      "source": [
        "#### 여기까지 이해하시면 됩니다. ####"
      ],
      "metadata": {
        "id": "xbOzUmJhdGsx"
      },
      "execution_count": null,
      "outputs": []
    },
    {
      "cell_type": "code",
      "source": [
        "# 강성웅님 Q&A\n",
        "# b를 실행시키고 싶은데 어떻게 해야 할까요?\n",
        "def outer(function):\n",
        "    def wrapper():\n",
        "        return 'hello'\n",
        "    return wrapper\n",
        "\n",
        "@outer\n",
        "def a():\n",
        "    def b():\n",
        "        print('hello b')\n",
        "    return b\n",
        "\n",
        "print(a())"
      ],
      "metadata": {
        "colab": {
          "base_uri": "https://localhost:8080/"
        },
        "id": "mKxoP8bcR4xt",
        "outputId": "d9aa8052-356a-4741-e7b6-99151727aedb"
      },
      "execution_count": null,
      "outputs": [
        {
          "output_type": "stream",
          "name": "stdout",
          "text": [
            "hello\n"
          ]
        }
      ]
    },
    {
      "cell_type": "code",
      "source": [
        "# 강성웅님 Q&A\n",
        "# b를 실행시키고 싶은데 어떻게 해야 할까요?\n",
        "def outer(function):\n",
        "    def wrapper():\n",
        "        function()\n",
        "        return 'hello'\n",
        "    return wrapper\n",
        "\n",
        "@outer\n",
        "def a():\n",
        "    def b():\n",
        "        print('hello b')\n",
        "    return b\n",
        "\n",
        "print(a())"
      ],
      "metadata": {
        "colab": {
          "base_uri": "https://localhost:8080/"
        },
        "id": "1U6yPMruX1HO",
        "outputId": "cda3153f-60c0-4f07-b83e-ff5b818afc01"
      },
      "execution_count": null,
      "outputs": [
        {
          "output_type": "stream",
          "name": "stdout",
          "text": [
            "hello\n"
          ]
        }
      ]
    },
    {
      "cell_type": "code",
      "source": [
        "# 강성웅님 Q&A\n",
        "# b를 실행시키고 싶은데 어떻게 해야 할까요?\n",
        "def outer(function):\n",
        "    def wrapper():\n",
        "        function()\n",
        "        return 'hello'\n",
        "    return wrapper\n",
        "\n",
        "@outer\n",
        "def a():\n",
        "    def b():\n",
        "        print('hello b')\n",
        "    return b\n",
        "\n",
        "print(a())"
      ],
      "metadata": {
        "colab": {
          "base_uri": "https://localhost:8080/"
        },
        "id": "yYMqtkRbYFl1",
        "outputId": "94a427fa-7dd7-49f2-de6b-67d3d1467f39"
      },
      "execution_count": null,
      "outputs": [
        {
          "output_type": "stream",
          "name": "stdout",
          "text": [
            "hello\n"
          ]
        }
      ]
    },
    {
      "cell_type": "code",
      "source": [
        "# 강성웅님 Q&A\n",
        "# b를 실행시키고 싶은데 어떻게 해야 할까요?\n",
        "def outer(function):\n",
        "    def wrapper():\n",
        "        function()()\n",
        "        return 'hello'\n",
        "    return wrapper\n",
        "\n",
        "@outer\n",
        "def a():\n",
        "    def b():\n",
        "        print('hello b')\n",
        "    return b\n",
        "\n",
        "print(a())"
      ],
      "metadata": {
        "colab": {
          "base_uri": "https://localhost:8080/"
        },
        "id": "Xxkeclr_YNDv",
        "outputId": "f0c0b8a9-d4fe-4a4c-9343-12163e32a7de"
      },
      "execution_count": null,
      "outputs": [
        {
          "output_type": "stream",
          "name": "stdout",
          "text": [
            "hello b\n",
            "hello\n"
          ]
        }
      ]
    },
    {
      "cell_type": "code",
      "source": [
        "# 여기서부터는 실무에서 보실일이 없을겁니다.\n",
        "def add_exclamation(function):\n",
        "    def wrapper(text):\n",
        "        print(f'add_exclamation 데코레이터 시작')\n",
        "        result = function(text) + \"!\"\n",
        "        print(f'add_exclamation 데코레이터 종료')\n",
        "        return result\n",
        "    return wrapper\n",
        "\n",
        "def add_question_mark(function):\n",
        "    def wrapper(text):\n",
        "        print(f'add_question_mark 데코레이터 시작')\n",
        "        result = function(text) + \"?\"\n",
        "        print(f'add_question_mark 데코레이터 종료')\n",
        "        return result\n",
        "    return wrapper\n",
        "\n",
        "def add_dot(function):\n",
        "    def wrapper(text):\n",
        "        print(f'add_dot 데코레이터 시작')\n",
        "        result = function(text) + \".\"\n",
        "        print(f'add_dot 데코레이터 종료')\n",
        "        return result\n",
        "    return wrapper\n",
        "\n",
        "@add_exclamation\n",
        "@add_question_mark\n",
        "@add_dot\n",
        "def greet(message):\n",
        "    print('함수실행!')\n",
        "    return message\n",
        "\n",
        "result = greet(\"Hello\")\n",
        "print(result)  # 출력: \"Hello.!?\""
      ],
      "metadata": {
        "colab": {
          "base_uri": "https://localhost:8080/"
        },
        "id": "QJSJfKvYYt8H",
        "outputId": "2b7a32df-daba-4915-a691-0e542eb9e00f"
      },
      "execution_count": null,
      "outputs": [
        {
          "output_type": "stream",
          "name": "stdout",
          "text": [
            "add_exclamation 데코레이터 시작\n",
            "add_question_mark 데코레이터 시작\n",
            "add_dot 데코레이터 시작\n",
            "함수실행!\n",
            "add_dot 데코레이터 종료\n",
            "add_question_mark 데코레이터 종료\n",
            "add_exclamation 데코레이터 종료\n",
            "Hello.?!\n"
          ]
        }
      ]
    },
    {
      "cell_type": "code",
      "source": [
        "class Debug:\n",
        "    def __init__(self, function):\n",
        "        self.function = function\n",
        "\n",
        "    def __call__(self):\n",
        "        print(f'{self.function.__name__} 함수 시작')\n",
        "        result = self.function()  # 인자 없이 원래 함수 호출\n",
        "        print(f'{self.function.__name__} 함수 끝')\n",
        "        return result  # 함수의 결과를 반환\n",
        "\n",
        "def f1():\n",
        "    print('안녕하세요')\n",
        "\n",
        "Debug(f1)()"
      ],
      "metadata": {
        "colab": {
          "base_uri": "https://localhost:8080/"
        },
        "id": "7M1V1lvJGLJh",
        "outputId": "5f645530-5b5c-45f0-a4fb-369d03ba79d9"
      },
      "execution_count": null,
      "outputs": [
        {
          "output_type": "stream",
          "name": "stdout",
          "text": [
            "f1 함수 시작\n",
            "안녕하세요\n",
            "f1 함수 끝\n"
          ]
        }
      ]
    },
    {
      "cell_type": "code",
      "source": [
        "def add(n): # 데코레이터를 감싸는 하나의 함수를 더 만들어서 아규먼트를 받는 방법입니다.\n",
        "    def decorator(function):\n",
        "        def new_function(a, b):\n",
        "            print(f'plus 함수가 {n}만큼 증가시키는 데코레이터가 시작됩니다.')\n",
        "            result = function(a, b)\n",
        "            print(f'plus 함수가 {n}만큼 증가시키는 데코레이터가 종료됩니다.')\n",
        "            return result + n\n",
        "        return new_function\n",
        "    return decorator\n",
        "\n",
        "@add(1000)\n",
        "def plus(a, b):\n",
        "    print('plus 함수가 호출되었습니다.')\n",
        "    return a + b\n",
        "\n",
        "result = plus(10, 20)\n",
        "print(f'result : {result}')"
      ],
      "metadata": {
        "colab": {
          "base_uri": "https://localhost:8080/"
        },
        "id": "F8cNYMKZa5mJ",
        "outputId": "3f9d8dcc-f827-4a01-bce5-61b5405d565b"
      },
      "execution_count": null,
      "outputs": [
        {
          "output_type": "stream",
          "name": "stdout",
          "text": [
            "plus 함수가 1000만큼 증가시키는 데코레이터가 시작됩니다.\n",
            "plus 함수가 호출되었습니다.\n",
            "plus 함수가 1000만큼 증가시키는 데코레이터가 종료됩니다.\n",
            "result : 1030\n"
          ]
        }
      ]
    },
    {
      "cell_type": "code",
      "source": [
        "def add(n): # 데코레이터를 감싸는 하나의 함수를 더 만들어서 아규먼트를 받는 방법입니다.\n",
        "    def decorator(function): # 여기서부터의 기능은 같습니다.\n",
        "        def wrapper(a, b):\n",
        "            print(f'plus 함수가 {n}만큼 증가시키는 데코레이터가 시작됩니다.')\n",
        "            result = function(a, b)\n",
        "            print(result)\n",
        "            print(f'plus 함수가 {n}만큼 증가시키는 데코레이터가 종료됩니다.')\n",
        "            return result + n\n",
        "        return wrapper\n",
        "    return decorator\n",
        "\n",
        "@add(1000)\n",
        "def plus(a, b):\n",
        "    print('plus 함수가 호출되었습니다.')\n",
        "    return a + b\n",
        "\n",
        "result = plus(10, 20)\n",
        "print(f'result : {result}')"
      ],
      "metadata": {
        "colab": {
          "base_uri": "https://localhost:8080/"
        },
        "id": "w_xCfXJJbXgZ",
        "outputId": "c07c2492-11a4-42cc-c2a9-94003b87bf69"
      },
      "execution_count": null,
      "outputs": [
        {
          "output_type": "stream",
          "name": "stdout",
          "text": [
            "plus 함수가 1000만큼 증가시키는 데코레이터가 시작됩니다.\n",
            "plus 함수가 호출되었습니다.\n",
            "30\n",
            "plus 함수가 1000만큼 증가시키는 데코레이터가 종료됩니다.\n",
            "result : 1030\n"
          ]
        }
      ]
    },
    {
      "cell_type": "code",
      "source": [
        "# plus(10, 20) == add(n)(plus)(10,20)\n",
        "\n",
        "def plus(a, b):\n",
        "    print('plus 함수가 호출되었습니다.')\n",
        "    return a + b\n",
        "\n",
        "def add(n):\n",
        "    def decorator(f):\n",
        "        def wrapper(a, b):\n",
        "            print(f'plus 함수가 {n}만큼 증가시키는 데코레이터가 시작됩니다.')\n",
        "            result = f(a, b)\n",
        "            print(result)\n",
        "            print(f'plus 함수가 {n}만큼 증가시키는 데코레이터가 종료됩니다.')\n",
        "            return result + n\n",
        "        return wrapper\n",
        "    return decorator\n",
        "\n",
        "# add(n)(plus)(10,20), add(1000) == decorator\n",
        "# decorator(plus)(10,20), decorator(plus) == wrapper\n",
        "# wrapper(10, 20)\n",
        "\n",
        "# decorator(plus(10, 20))() (X)\n",
        "# add(1000)(plus)(10, 20)() (X)\n",
        "# add(1000)(plus)(10, 20)"
      ],
      "metadata": {
        "id": "3ZTGdfkKcB3S"
      },
      "execution_count": null,
      "outputs": []
    },
    {
      "cell_type": "code",
      "source": [
        "def plus(a, b):\n",
        "    print('plus 함수가 호출되었습니다.')\n",
        "    return a + b\n",
        "\n",
        "def add(n):\n",
        "    def decorator(f):\n",
        "        def wrapper(a, b):\n",
        "            print(f'plus 함수가 {n}만큼 증가시키는 데코레이터가 시작됩니다.')\n",
        "            result = f(a, b)\n",
        "            print(result)\n",
        "            print(f'plus 함수가 {n}만큼 증가시키는 데코레이터가 종료됩니다.')\n",
        "            return result + n\n",
        "        return wrapper\n",
        "    return decorator\n",
        "\n",
        "# d = add(1000)\n",
        "# w = d(plus)\n",
        "# w(10, 20)\n",
        "\n",
        "add(1000)(plus)(10, 20)"
      ],
      "metadata": {
        "colab": {
          "base_uri": "https://localhost:8080/"
        },
        "id": "detXaPKMwR2h",
        "outputId": "219cdf18-a95a-4d02-d53d-6c7174c414ea"
      },
      "execution_count": null,
      "outputs": [
        {
          "output_type": "stream",
          "name": "stdout",
          "text": [
            "plus 함수가 1000만큼 증가시키는 데코레이터가 시작됩니다.\n",
            "plus 함수가 호출되었습니다.\n",
            "30\n",
            "plus 함수가 1000만큼 증가시키는 데코레이터가 종료됩니다.\n"
          ]
        },
        {
          "output_type": "execute_result",
          "data": {
            "text/plain": [
              "1030"
            ]
          },
          "metadata": {},
          "execution_count": 53
        }
      ]
    },
    {
      "cell_type": "markdown",
      "source": [
        "# 연습문제"
      ],
      "metadata": {
        "id": "clxwiixrAWqd"
      }
    },
    {
      "cell_type": "markdown",
      "source": [
        "![image.png](data:image/png;base64,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)"
      ],
      "metadata": {
        "id": "o8GxtRx8AvcA"
      }
    },
    {
      "cell_type": "code",
      "source": [
        "def find_hypotenuse(a, b, s, r):\n",
        "    return r(s(a) + s(b))\n",
        "\n",
        "def square(value):\n",
        "    return value ** 2\n",
        "\n",
        "def root(value):\n",
        "    return value ** 0.5\n",
        "\n",
        "find_hypotenuse(6, 8, square, root)"
      ],
      "metadata": {
        "colab": {
          "base_uri": "https://localhost:8080/"
        },
        "id": "GzB68y4DAUi8",
        "outputId": "544a068e-3df3-4404-9e03-9729590c1bfb"
      },
      "execution_count": null,
      "outputs": [
        {
          "output_type": "execute_result",
          "data": {
            "text/plain": [
              "10.0"
            ]
          },
          "metadata": {},
          "execution_count": 3
        }
      ]
    },
    {
      "cell_type": "markdown",
      "source": [
        "# lambda"
      ],
      "metadata": {
        "id": "9EXiMbFEdrWq"
      }
    },
    {
      "cell_type": "code",
      "source": [
        "square = lambda x: x*x\n",
        "print(square(5))  # 출력: 25"
      ],
      "metadata": {
        "colab": {
          "base_uri": "https://localhost:8080/"
        },
        "id": "OW6V0sT6DCuV",
        "outputId": "07aa8265-9dc1-4334-fc49-69d46dbed71a"
      },
      "execution_count": null,
      "outputs": [
        {
          "output_type": "stream",
          "name": "stdout",
          "text": [
            "25\n"
          ]
        }
      ]
    },
    {
      "cell_type": "code",
      "source": [
        "# 재사용되는 코드\n",
        "def 제곱(x):\n",
        "    return x ** 2\n",
        "\n",
        "list(map(제곱, [1, 2, 3])) + list(map(제곱, [4, 5, 6]))"
      ],
      "metadata": {
        "colab": {
          "base_uri": "https://localhost:8080/"
        },
        "id": "BkmVSZ8Hd37c",
        "outputId": "55f1e22b-2590-4a11-d3b6-90f505f4d159"
      },
      "execution_count": null,
      "outputs": [
        {
          "output_type": "execute_result",
          "data": {
            "text/plain": [
              "[1, 4, 9, 16, 25, 36]"
            ]
          },
          "metadata": {},
          "execution_count": 47
        }
      ]
    },
    {
      "cell_type": "code",
      "source": [
        "# 재사용되지 않는 코드\n",
        "\n",
        "list(map(lambda x:x**2, [1, 2, 3]))"
      ],
      "metadata": {
        "colab": {
          "base_uri": "https://localhost:8080/"
        },
        "id": "t1zF2RyOClMI",
        "outputId": "16e04f39-b0d5-4f79-c43e-0c65b5a2abd6"
      },
      "execution_count": null,
      "outputs": [
        {
          "output_type": "execute_result",
          "data": {
            "text/plain": [
              "[1, 4, 9]"
            ]
          },
          "metadata": {},
          "execution_count": 48
        }
      ]
    },
    {
      "cell_type": "code",
      "source": [
        "# 이런 형태는 오늘 보고 끝입니다.\n",
        "result = lambda x : x ** 2\n",
        "print(result(3))\n",
        "\n",
        "result = (lambda x : x ** 2)(3)\n",
        "print(result)  # 출력: 9"
      ],
      "metadata": {
        "colab": {
          "base_uri": "https://localhost:8080/"
        },
        "id": "lsSM_5FrfJJB",
        "outputId": "bc94c4fd-ee07-45e9-e790-5e8ce70b51cc"
      },
      "execution_count": null,
      "outputs": [
        {
          "output_type": "stream",
          "name": "stdout",
          "text": [
            "9\n",
            "9\n"
          ]
        }
      ]
    },
    {
      "cell_type": "markdown",
      "source": [
        "# args, kargs"
      ],
      "metadata": {
        "id": "3fdYmzk3xu75"
      }
    },
    {
      "cell_type": "code",
      "source": [
        "a, b, *c = 10, 20, 30, 40, 50\n",
        "c"
      ],
      "metadata": {
        "colab": {
          "base_uri": "https://localhost:8080/"
        },
        "id": "v78H5ec6xwWI",
        "outputId": "16f68880-463e-46b6-9558-8c53fdce28c7"
      },
      "execution_count": null,
      "outputs": [
        {
          "output_type": "execute_result",
          "data": {
            "text/plain": [
              "[30, 40, 50]"
            ]
          },
          "metadata": {},
          "execution_count": 7
        }
      ]
    },
    {
      "cell_type": "code",
      "source": [
        "def print_args(a, b, *args):\n",
        "    print(args)\n",
        "    for x in args:\n",
        "        print(x)\n",
        "\n",
        "print_args(100, True, 'Licat', 'hello', 10)"
      ],
      "metadata": {
        "colab": {
          "base_uri": "https://localhost:8080/"
        },
        "id": "oOwH7zS9yDMr",
        "outputId": "b1440649-4251-42e1-9c96-2e657c925b12"
      },
      "execution_count": null,
      "outputs": [
        {
          "output_type": "stream",
          "name": "stdout",
          "text": [
            "('Licat', 'hello', 10)\n",
            "Licat\n",
            "hello\n",
            "10\n"
          ]
        }
      ]
    },
    {
      "cell_type": "code",
      "source": [
        "def print_args(a, b, *args, c): # *args뒤에 일반 변수를 선언하지 못합니다.\n",
        "    print(args)\n",
        "    for x in args:\n",
        "        print(x)\n",
        "\n",
        "print_args(100, True, 'Licat', 'hello', 10)"
      ],
      "metadata": {
        "colab": {
          "base_uri": "https://localhost:8080/",
          "height": 216
        },
        "id": "vHuvjR_nyZDH",
        "outputId": "953c06e2-88e9-43bc-88cb-2d89a6b3895e"
      },
      "execution_count": null,
      "outputs": [
        {
          "output_type": "error",
          "ename": "TypeError",
          "evalue": "ignored",
          "traceback": [
            "\u001b[0;31m---------------------------------------------------------------------------\u001b[0m",
            "\u001b[0;31mTypeError\u001b[0m                                 Traceback (most recent call last)",
            "\u001b[0;32m<ipython-input-58-d9c3cb4321b5>\u001b[0m in \u001b[0;36m<cell line: 6>\u001b[0;34m()\u001b[0m\n\u001b[1;32m      4\u001b[0m         \u001b[0mprint\u001b[0m\u001b[0;34m(\u001b[0m\u001b[0mx\u001b[0m\u001b[0;34m)\u001b[0m\u001b[0;34m\u001b[0m\u001b[0;34m\u001b[0m\u001b[0m\n\u001b[1;32m      5\u001b[0m \u001b[0;34m\u001b[0m\u001b[0m\n\u001b[0;32m----> 6\u001b[0;31m \u001b[0mprint_args\u001b[0m\u001b[0;34m(\u001b[0m\u001b[0;36m100\u001b[0m\u001b[0;34m,\u001b[0m \u001b[0;32mTrue\u001b[0m\u001b[0;34m,\u001b[0m \u001b[0;34m'Licat'\u001b[0m\u001b[0;34m,\u001b[0m \u001b[0;34m'hello'\u001b[0m\u001b[0;34m,\u001b[0m \u001b[0;36m10\u001b[0m\u001b[0;34m)\u001b[0m\u001b[0;34m\u001b[0m\u001b[0;34m\u001b[0m\u001b[0m\n\u001b[0m",
            "\u001b[0;31mTypeError\u001b[0m: print_args() missing 1 required keyword-only argument: 'c'"
          ]
        }
      ]
    },
    {
      "cell_type": "code",
      "source": [
        "def print_args(a, b, *args, *c): # *args뒤에 또다른 가변 아규먼트를 넣지 못합니다.\n",
        "    print(args)\n",
        "    for x in args:\n",
        "        print(x)\n",
        "\n",
        "print_args(100, True, 'Licat', 'hello', 10)"
      ],
      "metadata": {
        "colab": {
          "base_uri": "https://localhost:8080/",
          "height": 145
        },
        "id": "JKDR4uYVyk86",
        "outputId": "51d9d2c9-021d-4829-e8e1-b0256d42f1fd"
      },
      "execution_count": null,
      "outputs": [
        {
          "output_type": "error",
          "ename": "SyntaxError",
          "evalue": "ignored",
          "traceback": [
            "\u001b[0;36m  File \u001b[0;32m\"<ipython-input-59-b30f4200e3ee>\"\u001b[0;36m, line \u001b[0;32m1\u001b[0m\n\u001b[0;31m    def print_args(a, b, *args, *c): # *args뒤에 일반 변수를 선언하지 못합니다.\u001b[0m\n\u001b[0m                                ^\u001b[0m\n\u001b[0;31mSyntaxError\u001b[0m\u001b[0;31m:\u001b[0m invalid syntax\n"
          ]
        }
      ]
    },
    {
      "cell_type": "code",
      "source": [
        "def print_kwargs(a, **kwargs):\n",
        "    print(a)\n",
        "    print(kwargs)\n",
        "    for i in kwargs:\n",
        "        print(i)\n",
        "\n",
        "print_kwargs(100, name='Licat', age='10')"
      ],
      "metadata": {
        "colab": {
          "base_uri": "https://localhost:8080/"
        },
        "id": "9C1v8F-Hy2vz",
        "outputId": "e01ec65e-1427-4227-d121-0e9411dc85c2"
      },
      "execution_count": null,
      "outputs": [
        {
          "output_type": "stream",
          "name": "stdout",
          "text": [
            "100\n",
            "{'name': 'Licat', 'age': '10'}\n",
            "name\n",
            "age\n"
          ]
        }
      ]
    },
    {
      "cell_type": "code",
      "source": [
        "# 눈속임입니다.\n",
        "# *kwargs 이렇게 사용하시면 관습에 어긋납니다.\n",
        "def print_kwargs(*kwargs):\n",
        "    print(kwargs)\n",
        "    for i in kwargs:\n",
        "        print(i)\n",
        "\n",
        "value = {'one':10, 'two':20}\n",
        "print_kwargs(*value)"
      ],
      "metadata": {
        "colab": {
          "base_uri": "https://localhost:8080/"
        },
        "id": "7VDP-gQHzUbu",
        "outputId": "a136cf03-7167-427e-8dc8-0ab0d7f194bd"
      },
      "execution_count": null,
      "outputs": [
        {
          "output_type": "stream",
          "name": "stdout",
          "text": [
            "('one', 'two')\n",
            "one\n",
            "two\n"
          ]
        }
      ]
    },
    {
      "cell_type": "code",
      "source": [
        "def print_kwargs(*args):\n",
        "    print(args)\n",
        "    for i in args:\n",
        "        print(i)\n",
        "\n",
        "value = {'one':10, 'two':20}\n",
        "print_kwargs(*value)"
      ],
      "metadata": {
        "colab": {
          "base_uri": "https://localhost:8080/"
        },
        "id": "t1qIwyLbzWOg",
        "outputId": "5d84442c-74d4-486b-b742-cf884aefaa3d"
      },
      "execution_count": null,
      "outputs": [
        {
          "output_type": "stream",
          "name": "stdout",
          "text": [
            "('one', 'two')\n",
            "one\n",
            "two\n"
          ]
        }
      ]
    },
    {
      "cell_type": "code",
      "source": [
        "def print_kwargs(**kwargs):\n",
        "    print(kwargs)\n",
        "    for i in kwargs:\n",
        "        print(i)\n",
        "\n",
        "value = {'one':10, 'two':20}\n",
        "print_kwargs(**value)"
      ],
      "metadata": {
        "colab": {
          "base_uri": "https://localhost:8080/"
        },
        "id": "BXa9-lVKz3GW",
        "outputId": "248f470a-6cb8-46b0-adc7-5eb110de822e"
      },
      "execution_count": null,
      "outputs": [
        {
          "output_type": "stream",
          "name": "stdout",
          "text": [
            "{'one': 10, 'two': 20}\n",
            "one\n",
            "two\n"
          ]
        }
      ]
    },
    {
      "cell_type": "code",
      "source": [
        "def func(a, b, *, c, d):\n",
        "    print(a, b, c, d)\n",
        "\n",
        "# func(1, 2, c = 3, d = 4)  # 올바른 예시\n",
        "# func(1, 2, 3, d = 4)  # 잘못된 예시\n",
        "# func(1, 2, 3, 4)    # 잘못된 예시"
      ],
      "metadata": {
        "id": "2n7mhq9q2H8p"
      },
      "execution_count": null,
      "outputs": []
    },
    {
      "cell_type": "code",
      "source": [
        "def func(a, b, c):\n",
        "    print(a, b, c)\n",
        "\n",
        "args = (1, 2, 3)\n",
        "func(*args)\n",
        "print(args, *args)\n",
        "\n",
        "kwargs = {'a': 1, 'b': 2, 'c': 3}\n",
        "func(**kwargs)\n",
        "print(kwargs, **kwargs) # error"
      ],
      "metadata": {
        "id": "eSthoOPP2ddB"
      },
      "execution_count": null,
      "outputs": []
    },
    {
      "cell_type": "code",
      "source": [
        "kwargs = {'a': 1, 'b': 2, 'c': 3}\n",
        "print(kwargs, *kwargs)\n",
        "# print(kwargs, **kwargs) # 왜 에스터리스크가 2개일 때 error가 날까요?\n",
        "# print(kwargs, a=1, b=2, c=3) # 이 코드가 바로 위의 코드와 같습니다."
      ],
      "metadata": {
        "id": "Oz62kgaY3FTs"
      },
      "execution_count": null,
      "outputs": []
    },
    {
      "cell_type": "code",
      "source": [
        "def func(d=100, c=200, b=300, a=400):\n",
        "    print(d, c, b, a)\n",
        "\n",
        "kwargs = {'a': 1, 'b': 2, 'c': 3}\n",
        "func(**kwargs)\n",
        "# func(kwargs, a=1, b=2, c=3) 로 입력이 되었다는 것을 확인할 수 있습니다.\n",
        "# {'a': 1, 'b': 2, 'c': 3} => **kwargs => a=1, b=2, c=3"
      ],
      "metadata": {
        "colab": {
          "base_uri": "https://localhost:8080/"
        },
        "id": "LYKZKeOd3mSQ",
        "outputId": "67a53a8a-b8fe-4793-96bc-879ffa219ee0"
      },
      "execution_count": null,
      "outputs": [
        {
          "output_type": "stream",
          "name": "stdout",
          "text": [
            "100 3 2 1\n"
          ]
        }
      ]
    },
    {
      "cell_type": "code",
      "source": [
        "# a=1, b=2, c=3 => **kwargs => {'a': 1, 'b': 2, 'c': 3}\n",
        "def func(a=100, **kargs):\n",
        "    print(a, kargs)\n",
        "\n",
        "func(1000, i=1, j=2, k=3)"
      ],
      "metadata": {
        "colab": {
          "base_uri": "https://localhost:8080/"
        },
        "id": "1kp9tvPR4Gqm",
        "outputId": "56dd0153-e066-41a7-f0a6-f34e93f5065f"
      },
      "execution_count": null,
      "outputs": [
        {
          "output_type": "stream",
          "name": "stdout",
          "text": [
            "1000 {'i': 1, 'j': 2, 'k': 3}\n"
          ]
        }
      ]
    },
    {
      "cell_type": "code",
      "source": [
        "def func(*args):\n",
        "    print(args)\n",
        "\n",
        "func(10, 20, 30)\n",
        "# func(kwargs, a=1, b=2, c=3) 로 입력이 되었다는 것을 확인할 수 있습니다.\n",
        "# 10, 20, 30 => *args => (10, 20, 30)"
      ],
      "metadata": {
        "colab": {
          "base_uri": "https://localhost:8080/"
        },
        "id": "H5zBgGmy4rPf",
        "outputId": "700b7a1a-b7c8-4342-ac56-6369ec370361"
      },
      "execution_count": null,
      "outputs": [
        {
          "output_type": "stream",
          "name": "stdout",
          "text": [
            "(10, 20, 30)\n"
          ]
        }
      ]
    },
    {
      "cell_type": "code",
      "source": [
        "def func(a, b, c):\n",
        "    print(a, b, c)\n",
        "\n",
        "args = (10, 20, 30)\n",
        "func(*args)\n",
        "# func(kwargs, a=1, b=2, c=3) 로 입력이 되었다는 것을 확인할 수 있습니다.\n",
        "# (10, 20, 30) => *args => 10, 20, 30"
      ],
      "metadata": {
        "colab": {
          "base_uri": "https://localhost:8080/"
        },
        "id": "PzwkpQfF4_y3",
        "outputId": "8c1c8bc3-dc39-4fbb-9ab0-f1ab900a110b"
      },
      "execution_count": null,
      "outputs": [
        {
          "output_type": "stream",
          "name": "stdout",
          "text": [
            "10 20 30\n"
          ]
        }
      ]
    },
    {
      "cell_type": "code",
      "source": [
        "a, b, *c = 'hello world'\n",
        "c # 출력: ['l', 'l', 'o', ' ', 'w', 'o', 'r', 'l', 'd']"
      ],
      "metadata": {
        "colab": {
          "base_uri": "https://localhost:8080/"
        },
        "id": "UFHPmC3vNm-K",
        "outputId": "343569c9-f179-469e-adf1-f42f686d8cba"
      },
      "execution_count": null,
      "outputs": [
        {
          "output_type": "execute_result",
          "data": {
            "text/plain": [
              "['l', 'l', 'o', ' ', 'w', 'o', 'r', 'l', 'd']"
            ]
          },
          "metadata": {},
          "execution_count": 8
        }
      ]
    },
    {
      "cell_type": "code",
      "source": [
        "a, b, c = range(3)\n",
        "a"
      ],
      "metadata": {
        "colab": {
          "base_uri": "https://localhost:8080/"
        },
        "id": "DlbvxeRI5VXF",
        "outputId": "5812a249-0ec4-4f42-be32-427b1dfbb830"
      },
      "execution_count": null,
      "outputs": [
        {
          "output_type": "execute_result",
          "data": {
            "text/plain": [
              "0"
            ]
          },
          "metadata": {},
          "execution_count": 82
        }
      ]
    },
    {
      "cell_type": "code",
      "source": [
        "a, b, c = range(10, 31, 10)\n",
        "a"
      ],
      "metadata": {
        "colab": {
          "base_uri": "https://localhost:8080/"
        },
        "id": "l2cKNgtq5nJ1",
        "outputId": "6df06192-4977-4ff9-c72c-15c5af0eac6b"
      },
      "execution_count": null,
      "outputs": [
        {
          "output_type": "execute_result",
          "data": {
            "text/plain": [
              "10"
            ]
          },
          "metadata": {},
          "execution_count": 87
        }
      ]
    },
    {
      "cell_type": "markdown",
      "source": [
        "# 이터레이터"
      ],
      "metadata": {
        "id": "r8ZztMziBEQd"
      }
    },
    {
      "cell_type": "code",
      "source": [
        "class MyIterator:\n",
        "    def __init__(self, stop):\n",
        "        self.current_value = 0  # 현재 값\n",
        "        self.stop = stop  # 순회를 멈출 값\n",
        "\n",
        "    def __iter__(self):\n",
        "        return self\n",
        "\n",
        "    def __next__(self):\n",
        "        if self.current_value >= self.stop:\n",
        "            raise StopIteration\n",
        "        result = self.current_value\n",
        "        self.current_value += 1\n",
        "        return result\n",
        "\n",
        "my_iterator = MyIterator(5)\n",
        "\n",
        "for i in my_iterator:\n",
        "    print(i)\n",
        "\n",
        "'''\n",
        "for를 만나면 __iter__가 실행이 되고, 반복이 시작되면 __next__를 호출합니다.\n",
        "'''"
      ],
      "metadata": {
        "colab": {
          "base_uri": "https://localhost:8080/",
          "height": 124
        },
        "id": "d4QLEkyE6GmM",
        "outputId": "4e0246cc-07f1-4489-b152-4c0d201628c2"
      },
      "execution_count": null,
      "outputs": [
        {
          "output_type": "stream",
          "name": "stdout",
          "text": [
            "0\n",
            "1\n",
            "2\n",
            "3\n",
            "4\n"
          ]
        },
        {
          "output_type": "execute_result",
          "data": {
            "text/plain": [
              "'\\nfor를 만나면 __iter__가 실행이 되고, 반복이 시작되면 __next__를 호출합니다.\\n'"
            ],
            "application/vnd.google.colaboratory.intrinsic+json": {
              "type": "string"
            }
          },
          "metadata": {},
          "execution_count": 88
        }
      ]
    },
    {
      "cell_type": "code",
      "source": [
        "class MyIterator:\n",
        "    def __init__(self, stop):\n",
        "        self.current_value = 0  # 현재 값\n",
        "        self.stop = stop  # 순회를 멈출 값\n",
        "\n",
        "    def __iter__(self):\n",
        "        return self\n",
        "\n",
        "    def __next__(self):\n",
        "        if self.current_value >= self.stop:\n",
        "            raise StopIteration\n",
        "        result = self.current_value\n",
        "        self.current_value += 1\n",
        "        return result\n",
        "\n",
        "my_iterator = MyIterator(5)\n",
        "\n",
        "for i in my_iterator:\n",
        "    print(i)\n",
        "\n",
        "for i in my_iterator:\n",
        "    print(i)"
      ],
      "metadata": {
        "colab": {
          "base_uri": "https://localhost:8080/"
        },
        "id": "JHmutTu59x9Z",
        "outputId": "00225ce2-45d5-4016-b147-a3eb412c0c9f"
      },
      "execution_count": null,
      "outputs": [
        {
          "output_type": "stream",
          "name": "stdout",
          "text": [
            "0\n",
            "1\n",
            "2\n",
            "3\n",
            "4\n"
          ]
        }
      ]
    },
    {
      "cell_type": "code",
      "source": [
        "class MyIterator:\n",
        "    def __init__(self, stop):\n",
        "        self.current_value = 0  # 현재 값\n",
        "        self.stop = stop  # 순회를 멈출 값\n",
        "\n",
        "    def __iter__(self):\n",
        "        return self\n",
        "\n",
        "    def __next__(self):\n",
        "        if self.current_value >= self.stop:\n",
        "            raise StopIteration\n",
        "        result = self.current_value\n",
        "        self.current_value += 1\n",
        "        return result\n",
        "\n",
        "my_iterator = MyIterator(5)\n",
        "\n",
        "for i in my_iterator:\n",
        "    print(i)\n",
        "\n",
        "for i in my_iterator:\n",
        "    print(i)"
      ],
      "metadata": {
        "id": "KLFe6x4E-USX"
      },
      "execution_count": null,
      "outputs": []
    },
    {
      "cell_type": "code",
      "source": [
        "class MyIterator:\n",
        "    def __init__(self, stop):\n",
        "        self.stop = stop  # 순회를 멈출 값\n",
        "\n",
        "    def __iter__(self):\n",
        "        self.current_value = 0  # 현재 값\n",
        "        return self\n",
        "\n",
        "    def __next__(self):\n",
        "        if self.current_value >= self.stop:\n",
        "            raise StopIteration\n",
        "        result = self.current_value\n",
        "        self.current_value += 1\n",
        "        return result\n",
        "\n",
        "my_iterator = MyIterator(5)\n",
        "\n",
        "for i in my_iterator:\n",
        "    print(i)\n",
        "\n",
        "for i in my_iterator:\n",
        "    print(i)"
      ],
      "metadata": {
        "colab": {
          "base_uri": "https://localhost:8080/"
        },
        "id": "6NZs_V4z-f9k",
        "outputId": "8edb8321-b0ac-4c5d-84e3-b37ef9f5c78e"
      },
      "execution_count": null,
      "outputs": [
        {
          "output_type": "stream",
          "name": "stdout",
          "text": [
            "0\n",
            "1\n",
            "2\n",
            "3\n",
            "4\n",
            "0\n",
            "1\n",
            "2\n",
            "3\n",
            "4\n"
          ]
        }
      ]
    },
    {
      "cell_type": "code",
      "source": [
        "class MyIterator:\n",
        "    def __init__(self, stop):\n",
        "        self.stop = stop  # 순회를 멈출 값\n",
        "\n",
        "    def __iter__(self):\n",
        "        self.current_value = 0  # 현재 값\n",
        "        return self\n",
        "\n",
        "    def __next__(self):\n",
        "        if self.current_value >= self.stop:\n",
        "            raise StopIteration\n",
        "        result = self.current_value\n",
        "        self.current_value += 1\n",
        "        return result\n",
        "\n",
        "my_iterator = MyIterator(5)\n",
        "i = iter(my_iterator) # 여기서부터\n",
        "print(next(i))\n",
        "print(next(i))\n",
        "print(next(i))\n",
        "print(next(i))\n",
        "print(next(i))\n",
        "print(next(i)) # 여기까지가 for에 작동 원리 입니다."
      ],
      "metadata": {
        "colab": {
          "base_uri": "https://localhost:8080/",
          "height": 431
        },
        "id": "siPSop4Y-ux3",
        "outputId": "fd4c4e67-83f1-4ffc-e9c7-5b5cff7c28c8"
      },
      "execution_count": null,
      "outputs": [
        {
          "output_type": "stream",
          "name": "stdout",
          "text": [
            "0\n",
            "1\n",
            "2\n",
            "3\n",
            "4\n"
          ]
        },
        {
          "output_type": "error",
          "ename": "StopIteration",
          "evalue": "ignored",
          "traceback": [
            "\u001b[0;31m---------------------------------------------------------------------------\u001b[0m",
            "\u001b[0;31mStopIteration\u001b[0m                             Traceback (most recent call last)",
            "\u001b[0;32m<ipython-input-96-6d1d6049ea2b>\u001b[0m in \u001b[0;36m<cell line: 23>\u001b[0;34m()\u001b[0m\n\u001b[1;32m     21\u001b[0m \u001b[0mprint\u001b[0m\u001b[0;34m(\u001b[0m\u001b[0mnext\u001b[0m\u001b[0;34m(\u001b[0m\u001b[0mi\u001b[0m\u001b[0;34m)\u001b[0m\u001b[0;34m)\u001b[0m\u001b[0;34m\u001b[0m\u001b[0;34m\u001b[0m\u001b[0m\n\u001b[1;32m     22\u001b[0m \u001b[0mprint\u001b[0m\u001b[0;34m(\u001b[0m\u001b[0mnext\u001b[0m\u001b[0;34m(\u001b[0m\u001b[0mi\u001b[0m\u001b[0;34m)\u001b[0m\u001b[0;34m)\u001b[0m\u001b[0;34m\u001b[0m\u001b[0;34m\u001b[0m\u001b[0m\n\u001b[0;32m---> 23\u001b[0;31m \u001b[0mprint\u001b[0m\u001b[0;34m(\u001b[0m\u001b[0mnext\u001b[0m\u001b[0;34m(\u001b[0m\u001b[0mi\u001b[0m\u001b[0;34m)\u001b[0m\u001b[0;34m)\u001b[0m\u001b[0;34m\u001b[0m\u001b[0;34m\u001b[0m\u001b[0m\n\u001b[0m",
            "\u001b[0;32m<ipython-input-96-6d1d6049ea2b>\u001b[0m in \u001b[0;36m__next__\u001b[0;34m(self)\u001b[0m\n\u001b[1;32m      9\u001b[0m     \u001b[0;32mdef\u001b[0m \u001b[0m__next__\u001b[0m\u001b[0;34m(\u001b[0m\u001b[0mself\u001b[0m\u001b[0;34m)\u001b[0m\u001b[0;34m:\u001b[0m\u001b[0;34m\u001b[0m\u001b[0;34m\u001b[0m\u001b[0m\n\u001b[1;32m     10\u001b[0m         \u001b[0;32mif\u001b[0m \u001b[0mself\u001b[0m\u001b[0;34m.\u001b[0m\u001b[0mcurrent_value\u001b[0m \u001b[0;34m>=\u001b[0m \u001b[0mself\u001b[0m\u001b[0;34m.\u001b[0m\u001b[0mstop\u001b[0m\u001b[0;34m:\u001b[0m\u001b[0;34m\u001b[0m\u001b[0;34m\u001b[0m\u001b[0m\n\u001b[0;32m---> 11\u001b[0;31m             \u001b[0;32mraise\u001b[0m \u001b[0mStopIteration\u001b[0m\u001b[0;34m\u001b[0m\u001b[0;34m\u001b[0m\u001b[0m\n\u001b[0m\u001b[1;32m     12\u001b[0m         \u001b[0mresult\u001b[0m \u001b[0;34m=\u001b[0m \u001b[0mself\u001b[0m\u001b[0;34m.\u001b[0m\u001b[0mcurrent_value\u001b[0m\u001b[0;34m\u001b[0m\u001b[0;34m\u001b[0m\u001b[0m\n\u001b[1;32m     13\u001b[0m         \u001b[0mself\u001b[0m\u001b[0;34m.\u001b[0m\u001b[0mcurrent_value\u001b[0m \u001b[0;34m+=\u001b[0m \u001b[0;36m1\u001b[0m\u001b[0;34m\u001b[0m\u001b[0;34m\u001b[0m\u001b[0m\n",
            "\u001b[0;31mStopIteration\u001b[0m: "
          ]
        }
      ]
    },
    {
      "cell_type": "code",
      "source": [
        "class MyIterator:\n",
        "    def __init__(self, stop):\n",
        "        self.stop = stop  # 순회를 멈출 값\n",
        "\n",
        "    def __iter__(self):\n",
        "        self.current_value = 0  # 현재 값\n",
        "        return [10, 20, 30] # error\n",
        "\n",
        "    def __next__(self):\n",
        "        if self.current_value >= self.stop:\n",
        "            raise StopIteration\n",
        "        result = self.current_value\n",
        "        self.current_value += 1\n",
        "        return result\n",
        "\n",
        "my_iterator = MyIterator(5)\n",
        "\n",
        "for i in my_iterator:\n",
        "    print(i)"
      ],
      "metadata": {
        "colab": {
          "base_uri": "https://localhost:8080/"
        },
        "id": "HFRvvDiXAnHD",
        "outputId": "3f70c58b-0186-499c-c20b-5ffac951d8c9"
      },
      "execution_count": null,
      "outputs": [
        {
          "output_type": "stream",
          "name": "stdout",
          "text": [
            "0\n",
            "1\n",
            "2\n",
            "3\n",
            "4\n"
          ]
        }
      ]
    },
    {
      "cell_type": "markdown",
      "source": [
        "# 제너레이터"
      ],
      "metadata": {
        "id": "3tDjInQqBGdn"
      }
    },
    {
      "cell_type": "code",
      "source": [
        "def my_generator(data):\n",
        "    for i in data:\n",
        "        yield i\n",
        "\n",
        "my_list = [1, 2, 3, 4, 5]\n",
        "my_iterator = my_generator(my_list)\n",
        "\n",
        "for i in my_iterator: # my_iterator는 함수의 return값이어야 하는데?\n",
        "    print(i)"
      ],
      "metadata": {
        "colab": {
          "base_uri": "https://localhost:8080/"
        },
        "id": "x9kHQ0JBB9cV",
        "outputId": "7ab2ad46-69d4-4b12-e660-c2d3ab1568b9"
      },
      "execution_count": null,
      "outputs": [
        {
          "output_type": "stream",
          "name": "stdout",
          "text": [
            "1\n",
            "2\n",
            "3\n",
            "4\n",
            "5\n"
          ]
        }
      ]
    },
    {
      "cell_type": "code",
      "source": [
        "# 이것이 좀 더 이해하기 좋으실겁니다.\n",
        "\n",
        "def my_generator(data):\n",
        "    for i in data:\n",
        "        yield i * 10\n",
        "\n",
        "for i in my_generator([1, 2, 3]):\n",
        "    print(i)"
      ],
      "metadata": {
        "colab": {
          "base_uri": "https://localhost:8080/"
        },
        "id": "sW_1nHIlCLDd",
        "outputId": "e7a14cfc-7397-4479-effc-bb3fe7e0d2bd"
      },
      "execution_count": null,
      "outputs": [
        {
          "output_type": "stream",
          "name": "stdout",
          "text": [
            "10\n",
            "20\n",
            "30\n"
          ]
        }
      ]
    },
    {
      "cell_type": "code",
      "source": [
        "# 이것이 좀 더 이해하기 좋으실겁니다.\n",
        "\n",
        "def my_generator():\n",
        "    x = 10\n",
        "    yield x\n",
        "    x = 20\n",
        "    yield x\n",
        "    x = 30\n",
        "    yield x\n",
        "    return\n",
        "    x = 40\n",
        "    yield x\n",
        "\n",
        "for i in my_generator():\n",
        "    print(i)"
      ],
      "metadata": {
        "colab": {
          "base_uri": "https://localhost:8080/"
        },
        "id": "Ch1xByPBCpyu",
        "outputId": "f17e7038-b22b-4e04-b176-115d49719700"
      },
      "execution_count": null,
      "outputs": [
        {
          "output_type": "stream",
          "name": "stdout",
          "text": [
            "10\n",
            "20\n",
            "30\n"
          ]
        }
      ]
    },
    {
      "cell_type": "code",
      "source": [
        "# 이럴때 많이 사용합니다.\n",
        "def my_generator():\n",
        "    l = ['짝', '홀']\n",
        "    t = False\n",
        "    while True:\n",
        "        yield l[t]\n",
        "        t = True\n",
        "        yield l[t]\n",
        "        t = False\n",
        "\n",
        "list(zip([0, 1, 2, 3, 4, 5, 6], my_generator()))"
      ],
      "metadata": {
        "colab": {
          "base_uri": "https://localhost:8080/"
        },
        "id": "LbSWYh7WDJOz",
        "outputId": "52690c3c-09cd-4cda-8139-6a813e34635b"
      },
      "execution_count": null,
      "outputs": [
        {
          "output_type": "execute_result",
          "data": {
            "text/plain": [
              "[(0, '짝'), (1, '홀'), (2, '짝'), (3, '홀'), (4, '짝'), (5, '홀'), (6, '짝')]"
            ]
          },
          "metadata": {},
          "execution_count": 108
        }
      ]
    },
    {
      "cell_type": "code",
      "source": [
        "# 이럴때 많이 사용합니다.\n",
        "def my_generator():\n",
        "    l = ['짝', '홀']\n",
        "    while True:\n",
        "        yield l[t := False]\n",
        "        yield l[t := True]\n",
        "\n",
        "list(zip([0, 1, 2, 3, 4, 5, 6], my_generator()))"
      ],
      "metadata": {
        "colab": {
          "base_uri": "https://localhost:8080/"
        },
        "id": "96N99ubQEZna",
        "outputId": "af1cbd56-d9e8-4773-a7bd-b740575d2756"
      },
      "execution_count": null,
      "outputs": [
        {
          "output_type": "execute_result",
          "data": {
            "text/plain": [
              "[(0, '짝'), (1, '홀'), (2, '짝'), (3, '홀'), (4, '짝'), (5, '홀'), (6, '짝')]"
            ]
          },
          "metadata": {},
          "execution_count": 110
        }
      ]
    },
    {
      "cell_type": "code",
      "source": [
        "def my_generator():\n",
        "    count = 1\n",
        "    while True:\n",
        "        yield count\n",
        "        count += 1\n",
        "list(zip(['A', 'B', 'C'], my_generator())) # 마치 enumerate처럼"
      ],
      "metadata": {
        "colab": {
          "base_uri": "https://localhost:8080/"
        },
        "id": "BREhsR9WEkAF",
        "outputId": "97492aca-08aa-431d-ebeb-5f54628c8ee1"
      },
      "execution_count": null,
      "outputs": [
        {
          "output_type": "execute_result",
          "data": {
            "text/plain": [
              "[('A', 1), ('B', 2), ('C', 3)]"
            ]
          },
          "metadata": {},
          "execution_count": 112
        }
      ]
    },
    {
      "cell_type": "code",
      "source": [
        "def my_generator():\n",
        "    count = 0\n",
        "    while True:\n",
        "        yield count\n",
        "        count += 2\n",
        "list(zip(['A', 'B', 'C'], my_generator())) # 마치 enumerate처럼"
      ],
      "metadata": {
        "colab": {
          "base_uri": "https://localhost:8080/"
        },
        "id": "FQEhouK_FBcY",
        "outputId": "dee6f765-c841-49b7-879a-c6317a0e4025"
      },
      "execution_count": null,
      "outputs": [
        {
          "output_type": "execute_result",
          "data": {
            "text/plain": [
              "[('A', 0), ('B', 2), ('C', 4)]"
            ]
          },
          "metadata": {},
          "execution_count": 113
        }
      ]
    },
    {
      "cell_type": "code",
      "source": [
        "def my_generator():\n",
        "    count = 0\n",
        "    while True:\n",
        "        yield count\n",
        "        count += 2\n",
        "list(zip([1, 2, 3, 4, 5, 6, 7, 8, 9], 'hello world', my_generator())) # 마치 enumerate처럼"
      ],
      "metadata": {
        "colab": {
          "base_uri": "https://localhost:8080/"
        },
        "id": "MUDqbtBZFE6V",
        "outputId": "4d616ad9-efc8-4ff7-a813-0bc0471424a1"
      },
      "execution_count": null,
      "outputs": [
        {
          "output_type": "execute_result",
          "data": {
            "text/plain": [
              "[(1, 'h', 0),\n",
              " (2, 'e', 2),\n",
              " (3, 'l', 4),\n",
              " (4, 'l', 6),\n",
              " (5, 'o', 8),\n",
              " (6, ' ', 10),\n",
              " (7, 'w', 12),\n",
              " (8, 'o', 14),\n",
              " (9, 'r', 16)]"
            ]
          },
          "metadata": {},
          "execution_count": 114
        }
      ]
    },
    {
      "cell_type": "code",
      "source": [
        "def my_generator():\n",
        "    count = 0\n",
        "    while True:\n",
        "        yield count\n",
        "        count += 2\n",
        "print(list(zip(['A', 'B', 'C'], my_generator())))\n",
        "print(list(zip(['A', 'B', 'C'], my_generator())))\n",
        "# 여기서는 6을 호출해야 하지 않을까요? 왜 다시 초기화가 되었죠?"
      ],
      "metadata": {
        "colab": {
          "base_uri": "https://localhost:8080/"
        },
        "id": "XIHVMihoF23T",
        "outputId": "53287b39-1870-4b12-e5ba-8f617125185f"
      },
      "execution_count": null,
      "outputs": [
        {
          "output_type": "stream",
          "name": "stdout",
          "text": [
            "[('A', 0), ('B', 2), ('C', 4)]\n",
            "[('A', 0), ('B', 2), ('C', 4)]\n"
          ]
        }
      ]
    },
    {
      "cell_type": "code",
      "source": [
        "gen = (i for i in range(2, 11, 2))\n",
        "for i in gen:\n",
        "    print(i)"
      ],
      "metadata": {
        "colab": {
          "base_uri": "https://localhost:8080/"
        },
        "id": "XOnW2ihnGPF_",
        "outputId": "d340e1a8-6530-430b-f556-4ba046076c93"
      },
      "execution_count": null,
      "outputs": [
        {
          "output_type": "stream",
          "name": "stdout",
          "text": [
            "2\n",
            "4\n",
            "6\n",
            "8\n",
            "10\n"
          ]
        }
      ]
    },
    {
      "cell_type": "markdown",
      "source": [
        "# 연습문제"
      ],
      "metadata": {
        "id": "3FHHQir7HT1o"
      }
    },
    {
      "cell_type": "code",
      "source": [
        "# 회전초밥집에 들어갔습니다. 초밥은 아래와 같은 양식으로 나옵니다.\n",
        "# [['광어초밥', 1000], ['연어초밥', 2000], ['계란초밥', 3000]]\n",
        "# * 각 초밥은 몇 개 나올지 알 수 없습니다.\n",
        "# * 각 초밥은 1000원씩 비싸집니다.\n",
        "# * 초밥에 '어'가 나오는 초밥만 먹습니다.\n",
        "# * 선택사항: 제너레이터를 사용해주세요!\n",
        "# 내가 먹은 초밥의 비용을 계산하는 코드를 작성해 주세요.\n",
        "\n",
        "def solution(data):\n",
        "    pass\n",
        "\n",
        "solution([['광어초밥', 1000], ['연어초밥', 2000], ['계란초밥', 3000], ['문어초밥', 4000], ['장어초밥', 5000]])"
      ],
      "metadata": {
        "id": "yMWxzCQkHTX_"
      },
      "execution_count": null,
      "outputs": []
    },
    {
      "cell_type": "code",
      "source": [
        "def gen(data):\n",
        "    for name, price in data:\n",
        "        if '어' in name:\n",
        "            yield price\n",
        "\n",
        "def solution(data):\n",
        "    return sum(gen(data))\n",
        "\n",
        "solution([['광어초밥', 1000], ['연어초밥', 2000], ['계란초밥', 3000], ['문어초밥', 4000], ['장어초밥', 5000]])"
      ],
      "metadata": {
        "colab": {
          "base_uri": "https://localhost:8080/"
        },
        "id": "XK7qAY1OOv4X",
        "outputId": "c77bc8b9-14e3-4b6f-ac8f-c37d0d66acd5"
      },
      "execution_count": null,
      "outputs": [
        {
          "output_type": "execute_result",
          "data": {
            "text/plain": [
              "12000"
            ]
          },
          "metadata": {},
          "execution_count": 120
        }
      ]
    },
    {
      "cell_type": "markdown",
      "source": [
        "# nonlocal"
      ],
      "metadata": {
        "id": "OfVpRcbpRs9_"
      }
    },
    {
      "cell_type": "code",
      "source": [
        "x = 100\n",
        "def outer():\n",
        "    x = 1\n",
        "    def inner():\n",
        "        nonlocal x\n",
        "        x += 1\n",
        "        print(x) # 출력: 2\n",
        "    inner()\n",
        "    print(x) # 출력: 2\n",
        "\n",
        "outer()\n",
        "print(x) # 출력: 100"
      ],
      "metadata": {
        "colab": {
          "base_uri": "https://localhost:8080/"
        },
        "id": "G47LhaefPgPr",
        "outputId": "f0501687-64a3-4979-f6f3-0b5998bf93fd"
      },
      "execution_count": null,
      "outputs": [
        {
          "output_type": "stream",
          "name": "stdout",
          "text": [
            "2\n",
            "2\n",
            "100\n"
          ]
        }
      ]
    },
    {
      "cell_type": "code",
      "source": [
        "x = 100\n",
        "def outer():\n",
        "    x = 1\n",
        "    def inner():\n",
        "        global x\n",
        "        x += 1\n",
        "        print(x) # 출력: 101\n",
        "    inner()\n",
        "    print(x) # 출력: 1\n",
        "\n",
        "outer()\n",
        "print(x) # 출력: 101"
      ],
      "metadata": {
        "colab": {
          "base_uri": "https://localhost:8080/"
        },
        "id": "wYnMeZuWSM-5",
        "outputId": "a73d321a-d90f-41de-c954-e51b9e40efca"
      },
      "execution_count": null,
      "outputs": [
        {
          "output_type": "stream",
          "name": "stdout",
          "text": [
            "101\n",
            "1\n",
            "101\n"
          ]
        }
      ]
    },
    {
      "cell_type": "code",
      "source": [
        "x = 100\n",
        "def outer():\n",
        "    x = 1\n",
        "    def inner():\n",
        "        x += 1 # error\n",
        "        print(x) # 출력: 2\n",
        "    inner()\n",
        "    print(x) # 출력: 2\n",
        "\n",
        "outer()\n",
        "print(x) # 출력: 100"
      ],
      "metadata": {
        "colab": {
          "base_uri": "https://localhost:8080/",
          "height": 383
        },
        "id": "1iOeHTh5Seiu",
        "outputId": "cb8038f7-c213-4094-a73d-2cfc72281dbb"
      },
      "execution_count": null,
      "outputs": [
        {
          "output_type": "error",
          "ename": "UnboundLocalError",
          "evalue": "ignored",
          "traceback": [
            "\u001b[0;31m---------------------------------------------------------------------------\u001b[0m",
            "\u001b[0;31mUnboundLocalError\u001b[0m                         Traceback (most recent call last)",
            "\u001b[0;32m<ipython-input-123-6005e9cae79c>\u001b[0m in \u001b[0;36m<cell line: 10>\u001b[0;34m()\u001b[0m\n\u001b[1;32m      8\u001b[0m     \u001b[0mprint\u001b[0m\u001b[0;34m(\u001b[0m\u001b[0mx\u001b[0m\u001b[0;34m)\u001b[0m \u001b[0;31m# 출력: 2\u001b[0m\u001b[0;34m\u001b[0m\u001b[0;34m\u001b[0m\u001b[0m\n\u001b[1;32m      9\u001b[0m \u001b[0;34m\u001b[0m\u001b[0m\n\u001b[0;32m---> 10\u001b[0;31m \u001b[0mouter\u001b[0m\u001b[0;34m(\u001b[0m\u001b[0;34m)\u001b[0m\u001b[0;34m\u001b[0m\u001b[0;34m\u001b[0m\u001b[0m\n\u001b[0m\u001b[1;32m     11\u001b[0m \u001b[0mprint\u001b[0m\u001b[0;34m(\u001b[0m\u001b[0mx\u001b[0m\u001b[0;34m)\u001b[0m \u001b[0;31m# 출력: 100\u001b[0m\u001b[0;34m\u001b[0m\u001b[0;34m\u001b[0m\u001b[0m\n",
            "\u001b[0;32m<ipython-input-123-6005e9cae79c>\u001b[0m in \u001b[0;36mouter\u001b[0;34m()\u001b[0m\n\u001b[1;32m      5\u001b[0m         \u001b[0mx\u001b[0m \u001b[0;34m+=\u001b[0m \u001b[0;36m1\u001b[0m\u001b[0;34m\u001b[0m\u001b[0;34m\u001b[0m\u001b[0m\n\u001b[1;32m      6\u001b[0m         \u001b[0mprint\u001b[0m\u001b[0;34m(\u001b[0m\u001b[0mx\u001b[0m\u001b[0;34m)\u001b[0m \u001b[0;31m# 출력: 2\u001b[0m\u001b[0;34m\u001b[0m\u001b[0;34m\u001b[0m\u001b[0m\n\u001b[0;32m----> 7\u001b[0;31m     \u001b[0minner\u001b[0m\u001b[0;34m(\u001b[0m\u001b[0;34m)\u001b[0m\u001b[0;34m\u001b[0m\u001b[0;34m\u001b[0m\u001b[0m\n\u001b[0m\u001b[1;32m      8\u001b[0m     \u001b[0mprint\u001b[0m\u001b[0;34m(\u001b[0m\u001b[0mx\u001b[0m\u001b[0;34m)\u001b[0m \u001b[0;31m# 출력: 2\u001b[0m\u001b[0;34m\u001b[0m\u001b[0;34m\u001b[0m\u001b[0m\n\u001b[1;32m      9\u001b[0m \u001b[0;34m\u001b[0m\u001b[0m\n",
            "\u001b[0;32m<ipython-input-123-6005e9cae79c>\u001b[0m in \u001b[0;36minner\u001b[0;34m()\u001b[0m\n\u001b[1;32m      3\u001b[0m     \u001b[0mx\u001b[0m \u001b[0;34m=\u001b[0m \u001b[0;36m1\u001b[0m\u001b[0;34m\u001b[0m\u001b[0;34m\u001b[0m\u001b[0m\n\u001b[1;32m      4\u001b[0m     \u001b[0;32mdef\u001b[0m \u001b[0minner\u001b[0m\u001b[0;34m(\u001b[0m\u001b[0;34m)\u001b[0m\u001b[0;34m:\u001b[0m\u001b[0;34m\u001b[0m\u001b[0;34m\u001b[0m\u001b[0m\n\u001b[0;32m----> 5\u001b[0;31m         \u001b[0mx\u001b[0m \u001b[0;34m+=\u001b[0m \u001b[0;36m1\u001b[0m\u001b[0;34m\u001b[0m\u001b[0;34m\u001b[0m\u001b[0m\n\u001b[0m\u001b[1;32m      6\u001b[0m         \u001b[0mprint\u001b[0m\u001b[0;34m(\u001b[0m\u001b[0mx\u001b[0m\u001b[0;34m)\u001b[0m \u001b[0;31m# 출력: 2\u001b[0m\u001b[0;34m\u001b[0m\u001b[0;34m\u001b[0m\u001b[0m\n\u001b[1;32m      7\u001b[0m     \u001b[0minner\u001b[0m\u001b[0;34m(\u001b[0m\u001b[0;34m)\u001b[0m\u001b[0;34m\u001b[0m\u001b[0;34m\u001b[0m\u001b[0m\n",
            "\u001b[0;31mUnboundLocalError\u001b[0m: local variable 'x' referenced before assignment"
          ]
        }
      ]
    },
    {
      "cell_type": "markdown",
      "source": [
        "# zip이 사라지는 이유"
      ],
      "metadata": {
        "id": "hgY7To9gTRGS"
      }
    },
    {
      "cell_type": "code",
      "source": [
        "a = [1, 2, 3]\n",
        "b = ['a', 'b', 'c']\n",
        "\n",
        "z = zip(a, b)\n",
        "print(list(z)) # [(1, 'a'), (2, 'b'), (3, 'c')]\n",
        "\n",
        "# zip 객체는 한 번 사용되었으므로 빈 리스트가 반환됩니다.\n",
        "print(list(z)) # []"
      ],
      "metadata": {
        "colab": {
          "base_uri": "https://localhost:8080/"
        },
        "id": "GNEXyW3ETSiB",
        "outputId": "3c22b560-7f50-4613-b823-45b46c612b5c"
      },
      "execution_count": null,
      "outputs": [
        {
          "output_type": "stream",
          "name": "stdout",
          "text": [
            "[(1, 'a'), (2, 'b'), (3, 'c')]\n",
            "[]\n"
          ]
        }
      ]
    },
    {
      "cell_type": "code",
      "source": [
        "x = [1, 2, 3]\n",
        "y = sorted(x)\n",
        "\n",
        "for i in y:\n",
        "    print(i)\n",
        "\n",
        "for i in y:\n",
        "    print(i)\n",
        "\n",
        "y # 심지어 리스트로 나옵니다!? zip, map 너무 차별하는 것 아닐까요?"
      ],
      "metadata": {
        "colab": {
          "base_uri": "https://localhost:8080/"
        },
        "id": "JoHijG5kTTKG",
        "outputId": "118677c7-8cc6-4e60-d505-4954efa3ff92"
      },
      "execution_count": null,
      "outputs": [
        {
          "output_type": "stream",
          "name": "stdout",
          "text": [
            "1\n",
            "2\n",
            "3\n",
            "1\n",
            "2\n",
            "3\n"
          ]
        },
        {
          "output_type": "execute_result",
          "data": {
            "text/plain": [
              "[1, 2, 3]"
            ]
          },
          "metadata": {},
          "execution_count": 126
        }
      ]
    },
    {
      "cell_type": "code",
      "source": [
        "x = [1, 2, 3]\n",
        "y = reversed(x)\n",
        "\n",
        "for i in y:\n",
        "    print(i)\n",
        "\n",
        "for i in y:\n",
        "    print(i)\n",
        "\n",
        "y\n",
        "# sorted와 다르게 reversed는 한 번만 실행이 되었고,\n",
        "# 반환되는 값도 리스트로 주지 않았습니다."
      ],
      "metadata": {
        "colab": {
          "base_uri": "https://localhost:8080/"
        },
        "id": "pryr4ULeT_xL",
        "outputId": "e8953b7e-948c-4540-cb83-9314f261be7f"
      },
      "execution_count": null,
      "outputs": [
        {
          "output_type": "stream",
          "name": "stdout",
          "text": [
            "3\n",
            "2\n",
            "1\n"
          ]
        },
        {
          "output_type": "execute_result",
          "data": {
            "text/plain": [
              "<list_reverseiterator at 0x7bf94908a170>"
            ]
          },
          "metadata": {},
          "execution_count": 128
        }
      ]
    },
    {
      "cell_type": "code",
      "source": [
        "sorted(range(20)) # 메모리 부하가 큰 작업입니다."
      ],
      "metadata": {
        "colab": {
          "base_uri": "https://localhost:8080/"
        },
        "id": "jtrBHJiwUtiT",
        "outputId": "1e0ca6cd-54d5-4184-8cf6-0b6ccaaf8a63"
      },
      "execution_count": null,
      "outputs": [
        {
          "output_type": "execute_result",
          "data": {
            "text/plain": [
              "[0, 1, 2, 3, 4, 5, 6, 7, 8, 9, 10, 11, 12, 13, 14, 15, 16, 17, 18, 19]"
            ]
          },
          "metadata": {},
          "execution_count": 129
        }
      ]
    },
    {
      "cell_type": "code",
      "source": [
        "range(2000000)"
      ],
      "metadata": {
        "colab": {
          "base_uri": "https://localhost:8080/"
        },
        "id": "u9P6KHDqU2_5",
        "outputId": "2c9b876e-035c-44c3-ac16-14f1d4e73272"
      },
      "execution_count": null,
      "outputs": [
        {
          "output_type": "execute_result",
          "data": {
            "text/plain": [
              "range(0, 2000000)"
            ]
          },
          "metadata": {},
          "execution_count": 130
        }
      ]
    },
    {
      "cell_type": "code",
      "source": [
        "reversed(range(2000000))"
      ],
      "metadata": {
        "colab": {
          "base_uri": "https://localhost:8080/"
        },
        "id": "XrrIO0dTU9wF",
        "outputId": "c4ba67ef-2d33-4788-a9c8-9e177b215495"
      },
      "execution_count": null,
      "outputs": [
        {
          "output_type": "execute_result",
          "data": {
            "text/plain": [
              "<range_iterator at 0x7bf94924af70>"
            ]
          },
          "metadata": {},
          "execution_count": 132
        }
      ]
    },
    {
      "cell_type": "code",
      "source": [
        "sorted(range(2000000)) # 메모리 부하가 걸립니다."
      ],
      "metadata": {
        "id": "pw0v_0r8VFXO"
      },
      "execution_count": null,
      "outputs": []
    },
    {
      "cell_type": "code",
      "source": [
        "[1, 2, 3] == [1, 2, 3]"
      ],
      "metadata": {
        "id": "yjDuA_C0TqCw"
      },
      "execution_count": null,
      "outputs": []
    },
    {
      "cell_type": "markdown",
      "source": [
        "# 연습문제"
      ],
      "metadata": {
        "id": "jlL4lFoyaIGe"
      }
    },
    {
      "cell_type": "code",
      "source": [
        "# 문제1\n",
        "# 다음과 같이 동작하는 제너레이터 함수 fibonacci(n)를 완성하세요.\n",
        "# 주어진 숫자 n까지의 피보나치 수열을 반환합니다.\n",
        "# 인터넷에서 피보나치 순열 Python 코드를 검색해보셔도 좋습니다.\n",
        "\n",
        "def fib(n):\n",
        "    pass\n",
        "\n",
        "for i in fib(5):\n",
        "    print(i)\n",
        "\n",
        "'''\n",
        "출력\n",
        "1\n",
        "1\n",
        "2\n",
        "3\n",
        "5\n",
        "'''\n",
        "\n",
        "# 문제2\n",
        "# 주어진 함수의 실행 시간을 측정하여 출력하는 데코레이터 time_it를 작성하세요.\n",
        "# (힌트: time 모듈의 time() 함수를 사용하세요.)"
      ],
      "metadata": {
        "colab": {
          "base_uri": "https://localhost:8080/"
        },
        "id": "9A8456IVaMS1",
        "outputId": "12275402-58af-4dec-f098-6a64e11702d5"
      },
      "execution_count": null,
      "outputs": [
        {
          "output_type": "stream",
          "name": "stdout",
          "text": [
            "1\n",
            "1\n",
            "2\n",
            "3\n",
            "5\n"
          ]
        }
      ]
    },
    {
      "cell_type": "code",
      "source": [
        "# value swap\n",
        "# pre, next = next, temp\n",
        "# 다른언어\n",
        "temp = a\n",
        "a = b\n",
        "b = temp\n",
        "# 파이썬\n",
        "a, b = b, a"
      ],
      "metadata": {
        "id": "-jODhEVBz5aA"
      },
      "execution_count": null,
      "outputs": []
    },
    {
      "cell_type": "code",
      "source": [
        "# 문제1\n",
        "# 다음과 같이 동작하는 제너레이터 함수 fibonacci(n)를 완성하세요.\n",
        "# 주어진 숫자 n까지의 피보나치 수열을 반환합니다.\n",
        "\n",
        "def fib(n):\n",
        "    pre = 1\n",
        "    next = 1\n",
        "    count = 0\n",
        "    while True:\n",
        "        temp = pre + next\n",
        "        yield pre\n",
        "        pre, next = next, temp\n",
        "        count += 1\n",
        "        if count == n:\n",
        "            break\n",
        "\n",
        "for i in fib(5):\n",
        "    print(i)\n",
        "\n",
        "'''\n",
        "출력\n",
        "1\n",
        "1\n",
        "2\n",
        "3\n",
        "5\n",
        "'''\n",
        "\n",
        "# 문제2\n",
        "# 주어진 함수의 실행 시간을 측정하여 출력하는 데코레이터 time_it를 작성하세요.\n",
        "# (힌트: time 모듈의 time() 함수를 사용하세요.)\n",
        "\n",
        "import time\n",
        "\n",
        "def time_it(func):\n",
        "    def wrapper():\n",
        "        start_time = time.time()\n",
        "        func()\n",
        "        end_time = time.time()\n",
        "        print(f\"{end_time - start_time:.4f}s\")\n",
        "    return wrapper\n",
        "\n",
        "@time_it\n",
        "def main():\n",
        "    def fib(n):\n",
        "        pre = 1\n",
        "        next = 1\n",
        "        count = 0\n",
        "        while True:\n",
        "            temp = pre + next\n",
        "            yield pre\n",
        "            pre, next = next, temp\n",
        "            count += 1\n",
        "            if count == n:\n",
        "                break\n",
        "\n",
        "    for i in fib(20):\n",
        "        print(i)\n",
        "\n",
        "main()"
      ],
      "metadata": {
        "colab": {
          "base_uri": "https://localhost:8080/"
        },
        "id": "cqcHkGNMcwgS",
        "outputId": "a9e884e5-9b51-4d75-808a-e58d0769f56f"
      },
      "execution_count": null,
      "outputs": [
        {
          "output_type": "stream",
          "name": "stdout",
          "text": [
            "1\n",
            "1\n",
            "2\n",
            "3\n",
            "5\n",
            "1\n",
            "1\n",
            "2\n",
            "3\n",
            "5\n",
            "8\n",
            "13\n",
            "21\n",
            "34\n",
            "55\n",
            "89\n",
            "144\n",
            "233\n",
            "377\n",
            "610\n",
            "987\n",
            "1597\n",
            "2584\n",
            "4181\n",
            "6765\n",
            "0.0029s\n"
          ]
        }
      ]
    },
    {
      "cell_type": "markdown",
      "source": [
        "# 파이썬 버전별 문법"
      ],
      "metadata": {
        "id": "wEYNHxagHSSa"
      }
    },
    {
      "cell_type": "code",
      "source": [
        "# 3.6\n",
        "def greet(name: str) -> str:\n",
        "    return f'Hello, {name}'\n",
        "\n",
        "greet(10)"
      ],
      "metadata": {
        "colab": {
          "base_uri": "https://localhost:8080/",
          "height": 35
        },
        "id": "CeSuPZ06HW9o",
        "outputId": "95786717-b453-4bb8-95e2-1914c78dddbf"
      },
      "execution_count": null,
      "outputs": [
        {
          "output_type": "execute_result",
          "data": {
            "text/plain": [
              "'Hello, 10'"
            ],
            "application/vnd.google.colaboratory.intrinsic+json": {
              "type": "string"
            }
          },
          "metadata": {},
          "execution_count": 2
        }
      ]
    },
    {
      "cell_type": "code",
      "source": [
        "# 3.6\n",
        "def greet(name):\n",
        "    '''\n",
        "    인사를 하는 함수입니다.\n",
        "\n",
        "    이 함수는 name 인자로 받아 name과 함께 인사를 하는 함수입니다~~\n",
        "\n",
        "    Args:\n",
        "        a(str): 블라블라\n",
        "        b(int): 블라블라\n",
        "\n",
        "    Returns:\n",
        "        리턴은 이런식입니다.\n",
        "        example: [1, 2, 3]\n",
        "\n",
        "    Raises:\n",
        "        IOError: 애러 블라블라\n",
        "    '''\n",
        "    return f'Hello, {name}'\n",
        "\n",
        "greet(10)"
      ],
      "metadata": {
        "colab": {
          "base_uri": "https://localhost:8080/",
          "height": 35
        },
        "id": "xgWw0W6DHneI",
        "outputId": "2b0b08da-4d45-4f4a-8978-5d0be2c7f655"
      },
      "execution_count": null,
      "outputs": [
        {
          "output_type": "execute_result",
          "data": {
            "text/plain": [
              "'Hello, 10'"
            ],
            "application/vnd.google.colaboratory.intrinsic+json": {
              "type": "string"
            }
          },
          "metadata": {},
          "execution_count": 4
        }
      ]
    },
    {
      "cell_type": "code",
      "source": [
        "greet.__doc__"
      ],
      "metadata": {
        "colab": {
          "base_uri": "https://localhost:8080/",
          "height": 88
        },
        "id": "UGKJoVQYIjgO",
        "outputId": "e29da52b-0236-486d-8d60-fd7675b2432d"
      },
      "execution_count": null,
      "outputs": [
        {
          "output_type": "execute_result",
          "data": {
            "text/plain": [
              "'\\n    인사를 하는 함수입니다.\\n\\n    이 함수는 name 인자로 받아 name과 함께 인사를 하는 함수입니다~~\\n\\n    Args:\\n        a(str): 블라블라\\n        b(int): 블라블라\\n\\n    Returns:\\n        리턴은 이런식입니다.\\n        example: [1, 2, 3]\\n\\n    Raises:\\n        IOError: 애러 블라블라\\n    '"
            ],
            "application/vnd.google.colaboratory.intrinsic+json": {
              "type": "string"
            }
          },
          "metadata": {},
          "execution_count": 5
        }
      ]
    },
    {
      "cell_type": "code",
      "source": [
        "# 3.6\n",
        "# 이 함수는 블라블라\n",
        "def greet(name):\n",
        "    return f'Hello, {name}'\n",
        "\n",
        "greet(10)\n",
        "greet.__doc__"
      ],
      "metadata": {
        "id": "2SR3DOqGIs_X"
      },
      "execution_count": null,
      "outputs": []
    },
    {
      "cell_type": "code",
      "source": [
        "# 3.6\n",
        "name = 'Alice'\n",
        "print(f'Hello, {name}')"
      ],
      "metadata": {
        "colab": {
          "base_uri": "https://localhost:8080/"
        },
        "id": "LSfz8uvZHYia",
        "outputId": "b5c20ec0-3505-4215-f842-efd4ca72536c"
      },
      "execution_count": null,
      "outputs": [
        {
          "output_type": "stream",
          "name": "stdout",
          "text": [
            "Hello, Alice\n"
          ]
        }
      ]
    },
    {
      "cell_type": "code",
      "source": [
        "# 3.7\n",
        "from dataclasses import dataclass\n",
        "\n",
        "@dataclass\n",
        "class User:\n",
        "    id: int\n",
        "    name: str\n",
        "    email : str\n",
        "\n",
        "user = User(123, 'hojun', 'hojun@gmail')\n",
        "user"
      ],
      "metadata": {
        "colab": {
          "base_uri": "https://localhost:8080/"
        },
        "id": "bFU-T_NYHVHh",
        "outputId": "f0fa0eaf-057f-470d-831b-b18611a15dab"
      },
      "execution_count": null,
      "outputs": [
        {
          "output_type": "execute_result",
          "data": {
            "text/plain": [
              "User(id=123, name='hojun', email='hojun@gmail')"
            ]
          },
          "metadata": {},
          "execution_count": 7
        }
      ]
    },
    {
      "cell_type": "code",
      "source": [
        "# 3.8\n",
        "(x := 10) * 3"
      ],
      "metadata": {
        "colab": {
          "base_uri": "https://localhost:8080/"
        },
        "id": "YjztBNTBKBUN",
        "outputId": "bbbb0de9-8d67-4a2f-e6fb-9f91aca4e835"
      },
      "execution_count": null,
      "outputs": [
        {
          "output_type": "execute_result",
          "data": {
            "text/plain": [
              "30"
            ]
          },
          "metadata": {},
          "execution_count": 8
        }
      ]
    },
    {
      "cell_type": "code",
      "source": [
        "x"
      ],
      "metadata": {
        "colab": {
          "base_uri": "https://localhost:8080/"
        },
        "id": "JzXA6hzsKIW8",
        "outputId": "d623672f-f66e-4728-cecb-118c0df5bdaa"
      },
      "execution_count": null,
      "outputs": [
        {
          "output_type": "execute_result",
          "data": {
            "text/plain": [
              "10"
            ]
          },
          "metadata": {},
          "execution_count": 9
        }
      ]
    },
    {
      "cell_type": "code",
      "source": [
        "# 3.9\n",
        "# 딕셔너리 결합 이제 됩니다!\n",
        "x = {\"key1\": \"value1\"}\n",
        "y = {\"key2\": \"value2\"}\n",
        "z = x | y\n",
        "z"
      ],
      "metadata": {
        "colab": {
          "base_uri": "https://localhost:8080/"
        },
        "id": "gYEfGy2aKY2o",
        "outputId": "81f41544-5181-48df-ea53-5ee61bce48b3"
      },
      "execution_count": null,
      "outputs": [
        {
          "output_type": "execute_result",
          "data": {
            "text/plain": [
              "{'key1': 'value1', 'key2': 'value2'}"
            ]
          },
          "metadata": {},
          "execution_count": 10
        }
      ]
    },
    {
      "cell_type": "code",
      "source": [
        "# {\"key1\": \"value1\"} + {\"key2\": \"value2\"}\n",
        "# {\"key1\": \"value1\"}.append({\"key2\": \"value2\"})\n",
        "x = {\"key1\": \"value1\"}\n",
        "x.update({\"key2\": \"value2\"})\n",
        "x"
      ],
      "metadata": {
        "colab": {
          "base_uri": "https://localhost:8080/"
        },
        "id": "-79mtB5PKiVL",
        "outputId": "dfee71aa-e774-4d31-ed89-2bc11d6ee812"
      },
      "execution_count": null,
      "outputs": [
        {
          "output_type": "execute_result",
          "data": {
            "text/plain": [
              "{'key1': 'value1', 'key2': 'value2'}"
            ]
          },
          "metadata": {},
          "execution_count": 15
        }
      ]
    },
    {
      "cell_type": "code",
      "source": [
        "# 3.5\n",
        "x = {\"key1\": \"value1\"}\n",
        "y = {\"key2\": \"value2\"}\n",
        "z = {**x, **y}\n",
        "z"
      ],
      "metadata": {
        "colab": {
          "base_uri": "https://localhost:8080/"
        },
        "id": "ag9mZhv9LHgs",
        "outputId": "6d45f4c3-114d-4ba7-afa0-509e3e7ae958"
      },
      "execution_count": null,
      "outputs": [
        {
          "output_type": "execute_result",
          "data": {
            "text/plain": [
              "{'key1': 'value1', 'key2': 'value2'}"
            ]
          },
          "metadata": {},
          "execution_count": 16
        }
      ]
    },
    {
      "cell_type": "code",
      "source": [
        "!python --version"
      ],
      "metadata": {
        "colab": {
          "base_uri": "https://localhost:8080/"
        },
        "id": "yhXFWrPaLIhe",
        "outputId": "bf7df9a3-26be-4423-c3ef-3a60abb84361"
      },
      "execution_count": null,
      "outputs": [
        {
          "output_type": "stream",
          "name": "stdout",
          "text": [
            "Python 3.10.12\n"
          ]
        }
      ]
    },
    {
      "cell_type": "code",
      "source": [
        "# 3.10\n",
        "str_test = \"good\"\n",
        "\n",
        "match str_test:\n",
        "    case \"happy\":\n",
        "        print(\"happy\")\n",
        "\n",
        "    case \"good\":\n",
        "        print(\"good\")"
      ],
      "metadata": {
        "colab": {
          "base_uri": "https://localhost:8080/"
        },
        "id": "tCqEe8vdLbvW",
        "outputId": "348eb995-75ec-455e-8c12-ff9ffc6217bb"
      },
      "execution_count": null,
      "outputs": [
        {
          "output_type": "stream",
          "name": "stdout",
          "text": [
            "good\n"
          ]
        }
      ]
    },
    {
      "cell_type": "markdown",
      "source": [
        "# 파일 입출력"
      ],
      "metadata": {
        "id": "ttQuNOIFM0BN"
      }
    },
    {
      "cell_type": "code",
      "source": [
        "# open(파일이름, 파일모드)\n",
        "f = open('python.txt', 'w')\n",
        "# 파일모드 :\n",
        "# r(읽기모드)\n",
        "# w(쓰기모드, 파일이 없으면 생성합니다, 내용이 있어도 w모드면 덮어씁니다.)\n",
        "# a(추가모드)\n",
        "f.close()"
      ],
      "metadata": {
        "id": "-anyEtAOMzLZ"
      },
      "execution_count": null,
      "outputs": []
    },
    {
      "cell_type": "code",
      "source": [
        "f = open('python.txt', 'w')\n",
        "s = ''\n",
        "for i in range(1, 6):\n",
        "\ts += f'{i}명 참여 중입니다.\\n'\n",
        "f.write(s[:-1])\n",
        "f.close()"
      ],
      "metadata": {
        "id": "vPvpKC4mNMbC"
      },
      "execution_count": null,
      "outputs": []
    },
    {
      "cell_type": "code",
      "source": [
        "f = open('python.txt', 'r')\n",
        "while True:\n",
        "\tline = f.readline()\n",
        "\tif not line:\n",
        "\t\tbreak\n",
        "\tprint(line)\n",
        "f.close()"
      ],
      "metadata": {
        "colab": {
          "base_uri": "https://localhost:8080/"
        },
        "id": "Ascw42DTROpY",
        "outputId": "4dacd964-847e-4dc3-f176-a50546b55a3a"
      },
      "execution_count": null,
      "outputs": [
        {
          "output_type": "stream",
          "name": "stdout",
          "text": [
            "1명 참여 중입니다.\n",
            "\n",
            "2명 참여 중입니다.\n",
            "\n",
            "3명 참여 중입니다.\n",
            "\n",
            "4명 참여 중입니다.\n",
            "\n",
            "5명 참여 중입니다.\n"
          ]
        }
      ]
    },
    {
      "cell_type": "code",
      "source": [
        "f = open('python.txt', 'r')\n",
        "lines = f.readlines()\n",
        "# for line in lines:\n",
        "#     print(line)\n",
        "print(lines)\n",
        "f.close()"
      ],
      "metadata": {
        "colab": {
          "base_uri": "https://localhost:8080/"
        },
        "id": "QZFONgY3Rnuf",
        "outputId": "45633f99-e5f2-481f-e3c7-e20ab8185573"
      },
      "execution_count": null,
      "outputs": [
        {
          "output_type": "stream",
          "name": "stdout",
          "text": [
            "['1명 참여 중입니다.\\n', '2명 참여 중입니다.\\n', '3명 참여 중입니다.\\n', '4명 참여 중입니다.\\n', '5명 참여 중입니다.']\n"
          ]
        }
      ]
    },
    {
      "cell_type": "code",
      "source": [
        "f = open('python.txt', 'r')\n",
        "data = f.read()\n",
        "print(data)\n",
        "f.close()"
      ],
      "metadata": {
        "colab": {
          "base_uri": "https://localhost:8080/"
        },
        "id": "binyvS0_RpuJ",
        "outputId": "c9e2cc86-96c0-46fd-d436-6ece327605ee"
      },
      "execution_count": null,
      "outputs": [
        {
          "output_type": "stream",
          "name": "stdout",
          "text": [
            "1명 참여 중입니다.\n",
            "2명 참여 중입니다.\n",
            "3명 참여 중입니다.\n",
            "4명 참여 중입니다.\n",
            "5명 참여 중입니다.\n"
          ]
        }
      ]
    },
    {
      "cell_type": "code",
      "source": [
        "data"
      ],
      "metadata": {
        "colab": {
          "base_uri": "https://localhost:8080/",
          "height": 53
        },
        "id": "TR479CRESW4n",
        "outputId": "c162464a-b571-41dc-f8b7-12e7e6c349cf"
      },
      "execution_count": null,
      "outputs": [
        {
          "output_type": "execute_result",
          "data": {
            "text/plain": [
              "'1명 참여 중입니다.\\n2명 참여 중입니다.\\n3명 참여 중입니다.\\n4명 참여 중입니다.\\n5명 참여 중입니다.'"
            ],
            "application/vnd.google.colaboratory.intrinsic+json": {
              "type": "string"
            }
          },
          "metadata": {},
          "execution_count": 27
        }
      ]
    },
    {
      "cell_type": "code",
      "source": [
        "f = open('python.txt', 'r')\n",
        "lines = f.readlines()\n",
        "for line in lines:\n",
        "\tprint(line, end='')\n",
        "f.close()"
      ],
      "metadata": {
        "colab": {
          "base_uri": "https://localhost:8080/"
        },
        "id": "AT2Nw-0lSoxn",
        "outputId": "6b4a5f78-cd7d-4a3c-c9b7-d61866e9aa3e"
      },
      "execution_count": null,
      "outputs": [
        {
          "output_type": "stream",
          "name": "stdout",
          "text": [
            "1명 참여 중입니다.\n",
            "2명 참여 중입니다.\n",
            "3명 참여 중입니다.\n",
            "4명 참여 중입니다.\n",
            "5명 참여 중입니다."
          ]
        }
      ]
    },
    {
      "cell_type": "code",
      "source": [
        "# 쉬운예제\n",
        "f = open('python.html', 'w')\n",
        "s = '''<html>\n",
        "<head>\n",
        "</head>\n",
        "<body>\n",
        "<h1>hello world</h1>\n",
        "</body>\n",
        "</html>\n",
        "'''\n",
        "f.write(s)\n",
        "f.close()"
      ],
      "metadata": {
        "id": "mEj0O5DuSySH"
      },
      "execution_count": null,
      "outputs": []
    },
    {
      "cell_type": "code",
      "source": [
        "# 쉬운예제\n",
        "f = open('python.csv', 'w')\n",
        "s = '''제목,평점,이미지,줄거리\n",
        "무빙,5.0,img,줄거리\n",
        "무빙,5.0,img,줄거리\n",
        "무빙,5.0,img,줄거리\n",
        "'''\n",
        "f.write(s)\n",
        "f.close()"
      ],
      "metadata": {
        "id": "frl0ffJ6TR_b"
      },
      "execution_count": null,
      "outputs": []
    },
    {
      "cell_type": "code",
      "source": [
        "# 쉬운예제\n",
        "f = open('student.csv', 'w')\n",
        "s = '''학년,반,번,이름\n",
        "1,3,1,licat\n",
        "1,3,2,mura\n",
        "1,3,3,binky\n",
        "'''\n",
        "f.write(s)\n",
        "f.close()"
      ],
      "metadata": {
        "id": "hMql-MgNt6LC"
      },
      "execution_count": null,
      "outputs": []
    },
    {
      "cell_type": "code",
      "source": [
        "# 쉬운예제\n",
        "# colab에선 잘 열리지만, 대신 window 엑셀에서 깨집니다.\n",
        "f = open('python.csv', 'w', encoding='utf-8')\n",
        "s = '''제목,평점,이미지,줄거리\n",
        "무빙,5.0,img,줄거리\n",
        "무빙,5.0,img,줄거리\n",
        "무빙,5.0,img,줄거리\n",
        "'''\n",
        "f.write(s)\n",
        "f.close()"
      ],
      "metadata": {
        "id": "kyHPM7hiea7f"
      },
      "execution_count": null,
      "outputs": []
    },
    {
      "cell_type": "code",
      "source": [
        "# 쉬운예제\n",
        "# window 엑셀에서는 잘열리지만, 대신 colab에서 깨집니다.\n",
        "f = open('python.csv', 'w', encoding='cp949') # window인코딩입니다.\n",
        "s = '''제목,평점,이미지,줄거리\n",
        "무빙,5.0,img,줄거리\n",
        "무빙,5.0,img,줄거리\n",
        "무빙,5.0,img,줄거리\n",
        "'''\n",
        "f.write(s)\n",
        "f.close()"
      ],
      "metadata": {
        "id": "_oxIrD0Felxx"
      },
      "execution_count": null,
      "outputs": []
    },
    {
      "cell_type": "code",
      "source": [
        "# 어려운 예제\n",
        "# django의 동작원리와도 관련이 있습니다.\n",
        "import requests\n",
        "from bs4 import BeautifulSoup\n",
        "\n",
        "paullab_url = 'http://paullab.co.kr/bookservice/'\n",
        "response = requests.get(paullab_url)\n",
        "response.encoding = 'utf-8'\n",
        "html = response.text\n",
        "\n",
        "soup = BeautifulSoup(html, 'html.parser')\n",
        "\n",
        "bookservices = soup.select('.col-lg-6 > h2')     # col-lg-6 클래스 안의 h2 태그 탐색\n",
        "for no, book in enumerate(bookservices, 1):\n",
        "    print(no, book.text)\n",
        "\n",
        "\n",
        "# 이미지 양식: https://paullab.co.kr/bookservice/img/notion.jpg\n",
        "f = open('python.html', 'w')\n",
        "s = '''<html>\n",
        "<head>\n",
        "</head>\n",
        "<body>\n",
        "<section>\n",
        "<h2>제목</h2>\n",
        "<img src=''>\n",
        "</section>\n",
        "</body>\n",
        "</html>\n",
        "'''\n",
        "f.write(s)\n",
        "f.close()"
      ],
      "metadata": {
        "colab": {
          "base_uri": "https://localhost:8080/"
        },
        "id": "GTqRiTkCUiSH",
        "outputId": "6f72c25e-27e8-44b6-fafb-d19af6b0e56d"
      },
      "execution_count": null,
      "outputs": [
        {
          "output_type": "stream",
          "name": "stdout",
          "text": [
            "1 메모혁신 Notion(노션) 활용 가이드\n",
            "2 제주코딩베이스캠프 Code Festival: Python 100제 1부\n",
            "3 튜토리얼로 배우는 HTML&CSS\n",
            "4 코딩도장 튜토리얼로 배우는 Python 1편 object\n",
            "5 코딩도장 튜토리얼로 배우는 python 2편 제어문\n",
            "6 코딩도장 튜토리얼로 배우는 Python 문제풀이\n",
            "7 타노스의 건틀릿 알고리즘 With Python\n",
            "8 xlsxwriter 튜토리얼로 배우는 Python 엑셀 프로그래밍\n",
            "9 러플 튜토리얼로 배우는 Python\n",
            "10 인공지능을 활용한 업무자동화 With Google Developers Group JEJU\n",
            "11 2017 제주 코딩 해커톤 Django 트랙 상편 1권\n"
          ]
        }
      ]
    },
    {
      "cell_type": "code",
      "source": [
        "f = open('student.txt', 'w')\n",
        "l = ['licat', 'mura', 'binky']\n",
        "s = ''\n",
        "for i, j in enumerate(l, 1):\n",
        "    s += f'{i}번 {j}입니다.\\n'\n",
        "f.write(s)\n",
        "f.close()"
      ],
      "metadata": {
        "id": "oDAUBttws9Zt"
      },
      "execution_count": null,
      "outputs": []
    },
    {
      "cell_type": "code",
      "source": [
        "f = open('student.txt', 'r')\n",
        "while True:\n",
        "    line = f.readline()\n",
        "    if not line:\n",
        "        break\n",
        "    print(line)\n",
        "f.close()"
      ],
      "metadata": {
        "colab": {
          "base_uri": "https://localhost:8080/"
        },
        "id": "bcHfYq--yFZV",
        "outputId": "1a0d0529-c91c-487e-becc-47a770b38820"
      },
      "execution_count": null,
      "outputs": [
        {
          "output_type": "stream",
          "name": "stdout",
          "text": [
            "1번 licat입니다.\n",
            "\n",
            "2번 mura입니다.\n",
            "\n",
            "3번 binky입니다.\n",
            "\n"
          ]
        }
      ]
    },
    {
      "cell_type": "code",
      "source": [
        "f = open('student.txt', 'r')\n",
        "lines = f.readlines()\n",
        "for line in lines:\n",
        "    print(line)\n",
        "f.close()"
      ],
      "metadata": {
        "colab": {
          "base_uri": "https://localhost:8080/"
        },
        "id": "nI_l5tZVzaog",
        "outputId": "34ae4d0d-ab92-4a64-c366-84ca9a5c38cb"
      },
      "execution_count": null,
      "outputs": [
        {
          "output_type": "stream",
          "name": "stdout",
          "text": [
            "1번 licat입니다.\n",
            "\n",
            "2번 mura입니다.\n",
            "\n",
            "3번 binky입니다.\n",
            "\n"
          ]
        }
      ]
    },
    {
      "cell_type": "code",
      "source": [
        "f = open('student.txt', 'a')\n",
        "s = 'hello world!'\n",
        "f.write(s)\n",
        "f.close()"
      ],
      "metadata": {
        "id": "4eLbbg5uz8yi"
      },
      "execution_count": null,
      "outputs": []
    },
    {
      "cell_type": "code",
      "source": [
        "f = open('student.txt', 'r')\n",
        "lines = f.readlines()\n",
        "for line in lines:\n",
        "    print(line, end='')\n",
        "f.close()"
      ],
      "metadata": {
        "colab": {
          "base_uri": "https://localhost:8080/"
        },
        "id": "tZvYjeOOx9io",
        "outputId": "f7e2d51d-bd87-4214-d15a-e587ddb4b06d"
      },
      "execution_count": null,
      "outputs": [
        {
          "output_type": "stream",
          "name": "stdout",
          "text": [
            "1번 licat입니다.\n",
            "2번 mura입니다.\n",
            "3번 binky입니다.\n"
          ]
        }
      ]
    },
    {
      "cell_type": "code",
      "source": [
        "# 어려운 예제\n",
        "# django의 동작원리와도 관련이 있습니다.\n",
        "import requests\n",
        "from bs4 import BeautifulSoup\n",
        "\n",
        "paullab_url = 'http://paullab.co.kr/bookservice/'\n",
        "response = requests.get(paullab_url)\n",
        "response.encoding = 'utf-8'\n",
        "html = response.text\n",
        "\n",
        "soup = BeautifulSoup(html, 'html.parser')\n",
        "\n",
        "bookservices = soup.select('.col-lg-6 > h2')     # col-lg-6 클래스 안의 h2 태그 탐색\n",
        "contents = ''\n",
        "\n",
        "for no, (book, img) in enumerate(zip(bookservices, soup.select('img')[2:]), 1):\n",
        "    contents += f'''\n",
        "                <section>\n",
        "                <h2>{no}. {book.text}</h2>\n",
        "                <img src='https://paullab.co.kr/bookservice/{img[\"src\"]}'>\n",
        "                </section>\n",
        "                '''\n",
        "\n",
        "# 이미지 양식: https://paullab.co.kr/bookservice/img/notion.jpg\n",
        "f = open('python.html', 'w')\n",
        "s = f'''<html>\n",
        "<head>\n",
        "</head>\n",
        "<body>\n",
        "{contents}\n",
        "</body>\n",
        "</html>\n",
        "'''\n",
        "f.write(s)\n",
        "f.close()"
      ],
      "metadata": {
        "id": "4_IlCV4jVh22"
      },
      "execution_count": null,
      "outputs": []
    },
    {
      "cell_type": "code",
      "source": [
        "for i in soup.select('img')[2:]:\n",
        "    print(i['src'])"
      ],
      "metadata": {
        "colab": {
          "base_uri": "https://localhost:8080/"
        },
        "id": "aJfHoVaoXSGe",
        "outputId": "0a78d7f0-6264-44d6-c52a-d9527037c43a"
      },
      "execution_count": null,
      "outputs": [
        {
          "output_type": "stream",
          "name": "stdout",
          "text": [
            "img/notion.jpg\n",
            "img/cofe.jpg\n",
            "img/HTMLCSS.jpg\n",
            "img/python1.jpg\n",
            "img/python2.jpg\n",
            "img/python3.jpg\n",
            "img/tanos.jpg\n",
            "img/xlsx.jpg\n",
            "img/ruple.jpg\n",
            "img/auto.jpg\n",
            "img/django.jpg\n"
          ]
        }
      ]
    },
    {
      "cell_type": "code",
      "source": [
        "f = open('python.txt', 'a')\n",
        "s = ''\n",
        "for i in range(6, 11):\n",
        "    s += f'{i}명 참여 중입니다. \\n'\n",
        "f.write(s)\n",
        "f.close()"
      ],
      "metadata": {
        "id": "-dYHvd36YYH1"
      },
      "execution_count": null,
      "outputs": []
    },
    {
      "cell_type": "code",
      "source": [
        "with open('test.txt', 'w') as f:\n",
        "    f.write('Life is too short, you need python')"
      ],
      "metadata": {
        "id": "1-TYU8kzY77v"
      },
      "execution_count": null,
      "outputs": []
    },
    {
      "cell_type": "code",
      "source": [
        "## 파일 입출력은 이 위까지만 공부하시면 됩니다. ##"
      ],
      "metadata": {
        "id": "Sw1TrCLGIxos"
      },
      "execution_count": null,
      "outputs": []
    },
    {
      "cell_type": "code",
      "source": [
        "with open('test.txt', 'w') as f:\n",
        "    f.write('hello world')"
      ],
      "metadata": {
        "id": "dIBLBMQyJF_l"
      },
      "execution_count": null,
      "outputs": []
    },
    {
      "cell_type": "code",
      "source": [
        "with open('test.txt', 'w') as f:\n",
        "    f.write('hello world')\n",
        "\n",
        "f = open('test.txt', 'r+') # 읽기 쓰기(기존에 있던 내용을 읽을 수 있고, 최종적으로는 덮어씀)\n",
        "# f.seek(0)  # 파일의 시작 위치로 이동, r모드는 이렇게 하지 않아도 포인터가 맨 앞으로 가 있습니다.\n",
        "print(f.read())\n",
        "f.write('\\nr+모드입니다!\\n')\n",
        "print('-----')\n",
        "# f.seek(0)  # 파일의 시작 위치로 이동, 주석처리 해보세요.\n",
        "print(f.read())\n",
        "f.close()"
      ],
      "metadata": {
        "colab": {
          "base_uri": "https://localhost:8080/"
        },
        "id": "q1DCrsrh1I4V",
        "outputId": "c3eec0ac-f7e2-4676-d507-aee5ef877dbf"
      },
      "execution_count": null,
      "outputs": [
        {
          "output_type": "stream",
          "name": "stdout",
          "text": [
            "hello world\n",
            "-----\n",
            "\n"
          ]
        }
      ]
    },
    {
      "cell_type": "code",
      "source": [
        "f = open('python.txt', 'r+') # 읽기 쓰기(기존에 있던 내용을 읽을 수 있고, 최종적으로는 덮어씀)\n",
        "# f.seek(0)  # 파일의 시작 위치로 이동, r모드는 이렇게 하지 않아도 포인터가 맨 앞으로 가 있습니다.\n",
        "print(f.read())\n",
        "f.write('\\nr+모드입니다!\\n')\n",
        "print('-----')\n",
        "f.seek(0)  # 파일의 시작 위치로 이동, 주석처리 해보세요.\n",
        "print(f.read())\n",
        "f.close()"
      ],
      "metadata": {
        "colab": {
          "base_uri": "https://localhost:8080/"
        },
        "id": "l1sYHUWsBaZD",
        "outputId": "57658fba-dde8-4273-8a92-fe03ef7bb3c7"
      },
      "execution_count": null,
      "outputs": [
        {
          "output_type": "stream",
          "name": "stdout",
          "text": [
            "Life is too short, you need python\n",
            "-----\n",
            "Life is too short, you need python\n",
            "r+모드입니다!\n",
            "\n"
          ]
        }
      ]
    },
    {
      "cell_type": "code",
      "source": [
        "f = open('python.txt', 'w+') # 읽기 쓰기(기존에 있던 내용은 덮어쓰기)\n",
        "f.seek(0) # 커서를 앞으로 보냈음에도 기존에 텍스트를 읽지 못합니다.\n",
        "print(f.read())\n",
        "f.write('\\nw+모드입니다!') # 그냥 덮어 써버림\n",
        "f.seek(0) # 쓴 내용을 읽을 수는 있음!\n",
        "print(f.read())\n",
        "f.close()\n",
        "# 차이:\n",
        "# r+ 모드는 파일을 열 때 기존의 내용을 보존\n",
        "# w+ 모드는 파일을 열 때 기존의 내용을 삭제"
      ],
      "metadata": {
        "colab": {
          "base_uri": "https://localhost:8080/"
        },
        "id": "dQyuoaOYBwtW",
        "outputId": "e306ebc8-9a46-4cb8-a1bf-19d8ae6fa866"
      },
      "execution_count": null,
      "outputs": [
        {
          "output_type": "stream",
          "name": "stdout",
          "text": [
            "\n",
            "\n",
            "w+모드입니다!\n"
          ]
        }
      ]
    },
    {
      "cell_type": "code",
      "source": [
        "with open('test.txt', 'w') as f:\n",
        "    f.write('hello world')\n",
        "\n",
        "f = open('test.txt', 'a+')\n",
        "f.seek(0)\n",
        "print(f.read())\n",
        "f.write('\\na+모드입니다!')\n",
        "print('-----')\n",
        "f.seek(0)\n",
        "print(f.read())\n",
        "f.close()"
      ],
      "metadata": {
        "colab": {
          "base_uri": "https://localhost:8080/"
        },
        "id": "mg2Z6qNTCBxR",
        "outputId": "a95232e0-7f3a-45bb-ff89-080dd392316b"
      },
      "execution_count": null,
      "outputs": [
        {
          "output_type": "stream",
          "name": "stdout",
          "text": [
            "hello world\n",
            "-----\n",
            "hello world\n",
            "a+모드입니다!\n"
          ]
        }
      ]
    },
    {
      "cell_type": "code",
      "source": [
        "f = open('python.txt', 'r+') # 포인터가 처음\n",
        "print(f.read())\n",
        "f.close()"
      ],
      "metadata": {
        "colab": {
          "base_uri": "https://localhost:8080/"
        },
        "id": "mYiLRONiC_zy",
        "outputId": "9c8f56da-71b4-4787-8793-05557c1a9675"
      },
      "execution_count": null,
      "outputs": [
        {
          "output_type": "stream",
          "name": "stdout",
          "text": [
            "\n",
            "w+모드입니다!\n",
            "a+모드입니다!\n",
            "a+모드입니다!\n"
          ]
        }
      ]
    },
    {
      "cell_type": "code",
      "source": [
        "f = open('python.txt', 'a+') # 포인터가 끝\n",
        "print(f.read())\n",
        "f.close()"
      ],
      "metadata": {
        "colab": {
          "base_uri": "https://localhost:8080/"
        },
        "id": "jNxmbrFKDDib",
        "outputId": "3af323d0-f1ab-4f67-e974-a88bd32c0f65"
      },
      "execution_count": null,
      "outputs": [
        {
          "output_type": "stream",
          "name": "stdout",
          "text": [
            "\n"
          ]
        }
      ]
    },
    {
      "cell_type": "markdown",
      "source": [
        "# 비트연산"
      ],
      "metadata": {
        "id": "LLsu72I0bSaC"
      }
    },
    {
      "cell_type": "code",
      "source": [
        "5 & 12 # bit and 연산\n",
        "\n",
        "# 00000101 == 5\n",
        "# 00001100 == 12\n",
        "# --------\n",
        "# 00000100"
      ],
      "metadata": {
        "colab": {
          "base_uri": "https://localhost:8080/"
        },
        "id": "VLOJZNlkbBJ9",
        "outputId": "7e46a2d8-888d-4cd4-c8ca-a93d3d97864c"
      },
      "execution_count": null,
      "outputs": [
        {
          "output_type": "execute_result",
          "data": {
            "text/plain": [
              "4"
            ]
          },
          "metadata": {},
          "execution_count": 54
        }
      ]
    },
    {
      "cell_type": "code",
      "source": [
        "5 | 12 # bit and 연산\n",
        "\n",
        "# 00000101 == 5\n",
        "# 00001100 == 12\n",
        "# --------\n",
        "# 00001101 == 13"
      ],
      "metadata": {
        "id": "YNLY7Y_Nf6Vv"
      },
      "execution_count": null,
      "outputs": []
    },
    {
      "cell_type": "code",
      "source": [
        "# 10 => 2\n",
        "# 11 => 3\n",
        "# 1000 => 8"
      ],
      "metadata": {
        "id": "jX8pAIfwgLKu"
      },
      "execution_count": null,
      "outputs": []
    },
    {
      "cell_type": "code",
      "source": [
        "7 << 2\n",
        "# 00000111\n",
        "# 00011100 (16 + 8 + 4)"
      ],
      "metadata": {
        "colab": {
          "base_uri": "https://localhost:8080/"
        },
        "id": "sGXtkWXtgaXD",
        "outputId": "953f3e4f-e1b5-4075-89e8-a00c84176248"
      },
      "execution_count": null,
      "outputs": [
        {
          "output_type": "execute_result",
          "data": {
            "text/plain": [
              "28"
            ]
          },
          "metadata": {},
          "execution_count": 59
        }
      ]
    },
    {
      "cell_type": "code",
      "source": [
        "16 >> 2\n",
        "# 00010000\n",
        "# 00000100 (4)"
      ],
      "metadata": {
        "colab": {
          "base_uri": "https://localhost:8080/"
        },
        "id": "jW_tLH5ngu1I",
        "outputId": "115b4f43-e1f1-4efe-bf71-30922e921308"
      },
      "execution_count": null,
      "outputs": [
        {
          "output_type": "execute_result",
          "data": {
            "text/plain": [
              "4"
            ]
          },
          "metadata": {},
          "execution_count": 60
        }
      ]
    },
    {
      "cell_type": "code",
      "source": [
        "~0 # 2의 보수(보수를 취하려는 숫자에서 +1 음수를 취하면 됩니다.)"
      ],
      "metadata": {
        "colab": {
          "base_uri": "https://localhost:8080/"
        },
        "id": "xkeQkqL6hKrT",
        "outputId": "2ffe6ef8-ce05-4535-98dc-b9ad68b63076"
      },
      "execution_count": null,
      "outputs": [
        {
          "output_type": "execute_result",
          "data": {
            "text/plain": [
              "-1"
            ]
          },
          "metadata": {},
          "execution_count": 61
        }
      ]
    },
    {
      "cell_type": "code",
      "source": [
        "~5"
      ],
      "metadata": {
        "colab": {
          "base_uri": "https://localhost:8080/"
        },
        "id": "YAI-NaNRiJrk",
        "outputId": "b95d7088-6697-47b5-90aa-e3a4fd75ea76"
      },
      "execution_count": null,
      "outputs": [
        {
          "output_type": "execute_result",
          "data": {
            "text/plain": [
              "-6"
            ]
          },
          "metadata": {},
          "execution_count": 62
        }
      ]
    },
    {
      "cell_type": "code",
      "source": [
        "~~5 # ~(-6) => -(-6 + 1) => 5"
      ],
      "metadata": {
        "colab": {
          "base_uri": "https://localhost:8080/"
        },
        "id": "dUQAvrCLiwx3",
        "outputId": "407068a5-2a4f-45dd-85ef-c71ea2a569d1"
      },
      "execution_count": null,
      "outputs": [
        {
          "output_type": "execute_result",
          "data": {
            "text/plain": [
              "5"
            ]
          },
          "metadata": {},
          "execution_count": 63
        }
      ]
    },
    {
      "cell_type": "code",
      "source": [
        "# ~~3.14"
      ],
      "metadata": {
        "colab": {
          "base_uri": "https://localhost:8080/",
          "height": 181
        },
        "id": "3ZbU_SQ5iyeh",
        "outputId": "45149e9d-f425-4ce6-a71e-40a280128cfa"
      },
      "execution_count": null,
      "outputs": [
        {
          "output_type": "error",
          "ename": "TypeError",
          "evalue": "ignored",
          "traceback": [
            "\u001b[0;31m---------------------------------------------------------------------------\u001b[0m",
            "\u001b[0;31mTypeError\u001b[0m                                 Traceback (most recent call last)",
            "\u001b[0;32m<ipython-input-64-70ff29b6c36e>\u001b[0m in \u001b[0;36m<cell line: 1>\u001b[0;34m()\u001b[0m\n\u001b[0;32m----> 1\u001b[0;31m \u001b[0;34m~\u001b[0m\u001b[0;34m~\u001b[0m\u001b[0;36m3.14\u001b[0m\u001b[0;34m\u001b[0m\u001b[0;34m\u001b[0m\u001b[0m\n\u001b[0m",
            "\u001b[0;31mTypeError\u001b[0m: bad operand type for unary ~: 'float'"
          ]
        }
      ]
    },
    {
      "cell_type": "markdown",
      "source": [
        "# f-string"
      ],
      "metadata": {
        "id": "5uNUDsAgkFav"
      }
    },
    {
      "cell_type": "code",
      "source": [
        "# 중괄호가 2개씩 증가할 때마다 출력은 1개씩 증가\n",
        "value = 'hello'\n",
        "print(f'{value}') # 중괄호 X\n",
        "print(f'{{value}}') # 중괄호 1\n",
        "print(f'{{{value}}}') # 중괄호 1\n",
        "print(f'{{{{value}}}}') # 중괄호 2\n",
        "print(f'{{{{{value}}}}}') # 중괄호 2\n",
        "print(f'{{{{{{value}}}}}}') # 중괄호 3"
      ],
      "metadata": {
        "colab": {
          "base_uri": "https://localhost:8080/"
        },
        "id": "GbHVtVLHkg4Q",
        "outputId": "348f4769-03e5-4998-af62-942ba1f41cd1"
      },
      "execution_count": null,
      "outputs": [
        {
          "output_type": "stream",
          "name": "stdout",
          "text": [
            "hello\n",
            "{value}\n",
            "{hello}\n",
            "{{value}}\n",
            "{{hello}}\n",
            "{{{value}}}\n"
          ]
        }
      ]
    },
    {
      "cell_type": "code",
      "source": [
        "value = 'hello'\n",
        "print(f'{10 + 10}') # 중괄호 안에서 연산을 하는 것을 저는 권하지 않습니다.\n",
        "# print(f'{value + 'world'}') # error\n",
        "# print(f'{value + \\' world\\'}') # 이스케이프 문자를 허용하지 않습니다.\n",
        "print(f'{value + \" world\"}')\n",
        "print(f\"{value + ' world'}\")"
      ],
      "metadata": {
        "colab": {
          "base_uri": "https://localhost:8080/"
        },
        "id": "c4ghEBZJlMyz",
        "outputId": "4a52b23b-fbc3-41a6-9d0c-b8a03c895bcc"
      },
      "execution_count": null,
      "outputs": [
        {
          "output_type": "stream",
          "name": "stdout",
          "text": [
            "20\n",
            "hello world\n",
            "hello world\n"
          ]
        }
      ]
    },
    {
      "cell_type": "code",
      "source": [
        "a = 10\n",
        "b = 20\n",
        "\n",
        "# case1\n",
        "two_numbers_mul = a * b # 굳이 변수 1개를 더 생성할 필요가 있을까?\n",
        "print(f'{two_numbers_mul}')\n",
        "\n",
        "# case2\n",
        "print(f'{a * b}') # 간단하니까 이걸로 사용하자!\n",
        "# 코드가 복잡해지면 가독성에서 차이가 납니다."
      ],
      "metadata": {
        "id": "AtVDmQ4vmAxC"
      },
      "execution_count": null,
      "outputs": []
    },
    {
      "cell_type": "code",
      "source": [
        "a = 10\n",
        "b = 20\n",
        "\n",
        "# case1\n",
        "two_numbers_mul = a * b # 굳이 변수 1개를 더 생성할 필요가 있을까?\n",
        "two_numbers_add = a + b\n",
        "two_numbers_mul_add = two_numbers_mul * two_numbers_add\n",
        "print(f'{two_numbers_mul_add}') # 이 변수명을 보고 의도를 파악할 수 있습니다.\n",
        "\n",
        "# case2\n",
        "print(f'{(a * b) * (a + b)}') # 이 값이 무엇을 의미하는지 모릅니다.\n",
        "# 코드가 복잡해지면 가독성에서 차이가 납니다."
      ],
      "metadata": {
        "id": "hivTNljomkHZ"
      },
      "execution_count": null,
      "outputs": []
    },
    {
      "cell_type": "code",
      "source": [
        "# 포멧팅 지정자는 {변수이름:포멧팅_양식}\n",
        "num = 3.14159\n",
        "print(f\"{num:.2f}\")  # 출력: 3.14\n",
        "\n",
        "name = \"Alice\"\n",
        "print(f\"{name:>10}\")  # 출력:      Alice # 포멧팅 지정자, format 용법과 동일"
      ],
      "metadata": {
        "id": "_FEdz035jiG6"
      },
      "execution_count": null,
      "outputs": []
    },
    {
      "cell_type": "code",
      "source": [
        "# 파이썬(Python) 3 포맷팅 방식\n",
        "print('나의 이름은 {}입니다'.format('한사람'))\n",
        "print('나의 이름은 {0}입니다. 나이는 {1}세이고 성별은 {2}입니다.'.format('한사람',33,'남성'))\n",
        "print('나이는 {1}세이고 성별은 {2}입니다. 나의 이름은 {0}입니다. '.format('한사람',33,'남성'))\n",
        "print('나이는 {age}세이고 성별은 {gender}입니다. 나의 이름은 {name}입니다.'.format(name='한사람',age=33,gender='남성'))\n",
        "print('만세삼창 :  {0}!!! {0}!!! {0}!!! '.format('만세'))\n",
        "print('삼삼칠 박수 :  {0}!!! {0}!!! {1}!!! '.format('짝'*3,'짝'*7))\n",
        "print('-' * 40)\n",
        "\n",
        "print('나의 이름은 {0:.2f}입니다'.format(3.141592))\n",
        "print('나의 이름은 {0:>20}입니다'.format(3.141592))"
      ],
      "metadata": {
        "colab": {
          "base_uri": "https://localhost:8080/"
        },
        "id": "tYKEqRoqnSuI",
        "outputId": "0a18d5a1-025a-42b2-9356-9767a9c59491"
      },
      "execution_count": null,
      "outputs": [
        {
          "output_type": "stream",
          "name": "stdout",
          "text": [
            "나의 이름은 한사람입니다\n",
            "나의 이름은 한사람입니다. 나이는 33세이고 성별은 남성입니다.\n",
            "나이는 33세이고 성별은 남성입니다. 나의 이름은 한사람입니다. \n",
            "나이는 33세이고 성별은 남성입니다. 나의 이름은 한사람입니다.\n",
            "만세삼창 :  만세!!! 만세!!! 만세!!! \n",
            "삼삼칠 박수 :  짝짝짝!!! 짝짝짝!!! 짝짝짝짝짝짝짝!!! \n",
            "----------------------------------------\n",
            "나의 이름은 3.14입니다\n",
            "나의 이름은             3.141592입니다\n"
          ]
        }
      ]
    },
    {
      "cell_type": "code",
      "source": [
        "# 파이썬(Python) 3.6 f-string 방식\n",
        "something = '볼펜'\n",
        "EA = 2\n",
        "one_length = 5.343\n",
        "scale = 'cm'\n",
        "\n",
        "print(f'{something} {EA}개의 길이는 {one_length*EA}{scale} 입니다.')\n",
        "print(f'{something} {EA}개의 길이는 {one_length*EA:.1f}{scale} 입니다.')"
      ],
      "metadata": {
        "id": "QMJSiQN1nwrl"
      },
      "execution_count": null,
      "outputs": []
    },
    {
      "cell_type": "code",
      "source": [
        "print('Python is [{:15}]'.format('good')) # 양식 같음, 자료형만 다름\n",
        "print('Python is [{:<15}]'.format('good'))\n",
        "print('Python is [{:>15}]'.format('good'))\n",
        "print('Python is [{:^15}]'.format('good'))\n",
        "print('Python is [{:-^15}]'.format('good'))\n",
        "print('당신의 나이는 [{:15}]세'.format(22)) # 양식 같음, 자료형만 다름\n",
        "print('당신의 나이는 [{:<15}]세'.format(22))\n",
        "print('당신의 나이는 [{:>15}]세'.format(22))\n",
        "print('당신의 나이는 [{:^15}]세'.format(22))\n",
        "print('-' * 40)"
      ],
      "metadata": {
        "colab": {
          "base_uri": "https://localhost:8080/"
        },
        "id": "Mcjykb14o35D",
        "outputId": "e0bddb2c-d279-4f41-f168-597196d51443"
      },
      "execution_count": null,
      "outputs": [
        {
          "output_type": "stream",
          "name": "stdout",
          "text": [
            "Python is [good           ]\n",
            "Python is [good           ]\n",
            "Python is [           good]\n",
            "Python is [     good      ]\n",
            "Python is [-----good------]\n",
            "당신의 나이는 [             22]세\n",
            "당신의 나이는 [22             ]세\n",
            "당신의 나이는 [             22]세\n",
            "당신의 나이는 [      22       ]세\n",
            "----------------------------------------\n"
          ]
        }
      ]
    },
    {
      "cell_type": "code",
      "source": [
        "print('[{:15}]'.format('10')) # 양식 같음, 자료형만 다름\n",
        "print('[{:15}]'.format(10))   # 양식 같음, 자료형만 다름"
      ],
      "metadata": {
        "colab": {
          "base_uri": "https://localhost:8080/"
        },
        "id": "h_G9ReV4qxWC",
        "outputId": "09cca6fa-8a59-4454-ac1e-be15bf9df206"
      },
      "execution_count": null,
      "outputs": [
        {
          "output_type": "stream",
          "name": "stdout",
          "text": [
            "[10             ]\n",
            "[             10]\n"
          ]
        }
      ]
    },
    {
      "cell_type": "code",
      "source": [
        "char_a = '5'\n",
        "int_a = 5\n",
        "sample = 1234567890\n",
        "\n",
        "print(1234567890)\n",
        "print(f'{sample:>5}') # >는 오른쪽정렬\n",
        "print(f'{char_a:>5}') # >는 오른쪽정렬\n",
        "print(f'{char_a:<5}') # <는 왼쪽정렬\n",
        "print(f'{char_a:^5}') # ^는 가운데정렬\n",
        "print(f'{int_a:0<5}')# <는 왼쪽정렬, 빈자리를 0으로 채울수도 있음\n",
        "print(f'{int_a:^10.2f}') # ^ 가운데 정렬하면서 float 타입지정"
      ],
      "metadata": {
        "colab": {
          "base_uri": "https://localhost:8080/"
        },
        "id": "dEz4LwUY8bJM",
        "outputId": "fbf24751-7ac1-41af-f7e7-371162b721ef"
      },
      "execution_count": null,
      "outputs": [
        {
          "output_type": "stream",
          "name": "stdout",
          "text": [
            "1234567890\n",
            "1234567890\n",
            "    5\n",
            "5    \n",
            "  5  \n",
            "50000\n",
            "   5.00   \n"
          ]
        }
      ]
    },
    {
      "cell_type": "code",
      "source": [
        "int_a = 5\n",
        "print(f'{int_a:0<5}') # <는 왼쪽정렬, 빈자리를 0으로 채울수도 있음\n",
        "print(f'{int_a:0>5}') # <는 왼쪽정렬, 빈자리를 0으로 채울수도 있음\n",
        "\n",
        "'12345'.zfill(10)"
      ],
      "metadata": {
        "colab": {
          "base_uri": "https://localhost:8080/",
          "height": 71
        },
        "id": "sJTTqGbT9tYe",
        "outputId": "4f864b00-a50c-4770-9fbf-18e085707106"
      },
      "execution_count": null,
      "outputs": [
        {
          "output_type": "stream",
          "name": "stdout",
          "text": [
            "50000\n",
            "00005\n"
          ]
        },
        {
          "output_type": "execute_result",
          "data": {
            "text/plain": [
              "'0000012345'"
            ],
            "application/vnd.google.colaboratory.intrinsic+json": {
              "type": "string"
            }
          },
          "metadata": {},
          "execution_count": 91
        }
      ]
    },
    {
      "cell_type": "code",
      "source": [
        "# 문제1: 1 ~ 9 까지 더하는 프로그램\n",
        "sum(list(range(10))) # list로 형변환 하는 것은 데이터가 클수록 부하가 큽니다.\n",
        "sum([i for i in range(1, 10)]) # 일반 list로 형변환 하는 것보다는 빠르지만 이것도 역시나 부하가 있습니다.\n",
        "sum(range(1, 10))\n",
        "(9 * (1 + 9)) / 2\n",
        "\n",
        "# 문제2: 1 ~ 9 까지 홀수의 합\n",
        "sum([i for i in range(1, 10, 2)])\n",
        "sum([i for i in range(10) if i % 2 == 1])\n",
        "sum(filter(lambda x:x%2==1, range(10)))\n",
        "sum(range(1, 10, 2))\n",
        "s = 0\n",
        "for i in range(10):\n",
        "    if i % 2 == 1:\n",
        "        s += i\n",
        "\n",
        "# 문제3: 1000 미만의 자연수에서 3의 배수와 5의 배수의 총합을 구하는 프로그램을 작성\n",
        "sum(range(0, 1000, 3)) + sum(range(0, 1000, 5)) - sum(range(0, 1000, 15))\n",
        "s = 0\n",
        "for i in range(1000):\n",
        "    if i % 3 == 0 or i % 5 == 0:\n",
        "        s += i\n",
        "s"
      ],
      "metadata": {
        "colab": {
          "base_uri": "https://localhost:8080/"
        },
        "id": "T36Ol38o_iia",
        "outputId": "9b7c1900-f310-4d8c-e35b-2f9abdef0c20"
      },
      "execution_count": null,
      "outputs": [
        {
          "output_type": "execute_result",
          "data": {
            "text/plain": [
              "233168"
            ]
          },
          "metadata": {},
          "execution_count": 104
        }
      ]
    },
    {
      "cell_type": "code",
      "source": [
        "# 문제4: 아래 메트릭스를 모두 더해주세요.\n",
        "m = [[1, 2, 3], [4, 5, 6], [7, 8, 9]]\n",
        "# sum(m)\n",
        "sum(sum(m, []))"
      ],
      "metadata": {
        "colab": {
          "base_uri": "https://localhost:8080/"
        },
        "id": "DFoKea3NEWOL",
        "outputId": "860944eb-8329-4490-cfdf-7debf2fc5ecf"
      },
      "execution_count": null,
      "outputs": [
        {
          "output_type": "execute_result",
          "data": {
            "text/plain": [
              "45"
            ]
          },
          "metadata": {},
          "execution_count": 128
        }
      ]
    },
    {
      "cell_type": "code",
      "source": [
        "sum([1, 2, 3], 100)\n",
        "sum([[1, 2, 3], [4, 5, 6], [7, 8, 9]], [])\n",
        "# [1, 2, 3] + [] == [1, 2, 3]\n",
        "# [4, 5, 6] + [1, 2, 3] == [4, 5, 6, 1, 2, 3]\n",
        "# [7, 8, 9] + [4, 5, 6, 1, 2, 3] == [7, 8, 9, 4, 5, 6, 1, 2, 3]"
      ],
      "metadata": {
        "colab": {
          "base_uri": "https://localhost:8080/"
        },
        "id": "vg8b7f5RLdFe",
        "outputId": "cbd92507-0308-494a-a5d5-0f935b72390e"
      },
      "execution_count": null,
      "outputs": [
        {
          "output_type": "execute_result",
          "data": {
            "text/plain": [
              "106"
            ]
          },
          "metadata": {},
          "execution_count": 129
        }
      ]
    },
    {
      "cell_type": "code",
      "source": [
        "import numpy as np\n",
        "# 수학 수식에 막강한 성능을 자랑합니다.\n",
        "# 수학 수식 관련해서 파이썬보다 속도도 훨~~~~씬 빠르고 기능도 많아요.\n",
        "\n",
        "np.sum([[1, 2, 3], [4, 5, 6], [7, 8, 9]])"
      ],
      "metadata": {
        "colab": {
          "base_uri": "https://localhost:8080/"
        },
        "id": "UXMs5P3dEWIW",
        "outputId": "02bbb9b1-9211-40c4-a3a5-746cf92aae33"
      },
      "execution_count": null,
      "outputs": [
        {
          "output_type": "execute_result",
          "data": {
            "text/plain": [
              "45"
            ]
          },
          "metadata": {},
          "execution_count": 130
        }
      ]
    },
    {
      "cell_type": "code",
      "source": [
        "# 문제5: 자주 나오는 알파벳과 알파벳 갯수를 많이 나오는 순서대로 출력하세요.\n",
        "import collections\n",
        "\n",
        "s = \"Hello, World! This is a sample string for testing purposes.\"\n",
        "# 방법1\n",
        "# s = s.replace(',', '').replace('!', '').replace('.', '').replace(' ', '')\n",
        "\n",
        "# 방법2\n",
        "# table = str.maketrans(',!.', '   ')\n",
        "# s = s.translate(table).replace(' ', '')\n",
        "\n",
        "# 방법3\n",
        "table = str.maketrans('', '', ',!. ')\n",
        "s = s.translate(table)\n",
        "\n",
        "c = collections.Counter(s)\n",
        "c.most_common"
      ],
      "metadata": {
        "colab": {
          "base_uri": "https://localhost:8080/"
        },
        "id": "xn-NCr8SMfCq",
        "outputId": "aa01b1ff-fba8-4162-eeb5-fd9a6f759369"
      },
      "execution_count": null,
      "outputs": [
        {
          "output_type": "execute_result",
          "data": {
            "text/plain": [
              "<bound method Counter.most_common of Counter({'s': 7, 'e': 4, 'l': 4, 'o': 4, 'r': 4, 'i': 4, 'p': 3, 't': 3, 'a': 2, 'n': 2, 'g': 2, 'H': 1, 'W': 1, 'd': 1, 'T': 1, 'h': 1, 'm': 1, 'f': 1, 'u': 1})>"
            ]
          },
          "metadata": {},
          "execution_count": 145
        }
      ]
    },
    {
      "cell_type": "code",
      "source": [
        "d = {}\n",
        "s = \"Hello, World! This is a sample string for testing purposes.\"\n",
        "s = s.replace(',', '').replace('!', '').replace('.', '').replace(' ', '')\n",
        "\n",
        "# 풀이1, 순회를 돌면서 dict에 있으면 += 1, 없으면 =1 대입하면서 푼다\n",
        "for i in s:\n",
        "    if i in d:\n",
        "        d[i] += 1\n",
        "    else:\n",
        "        d[i] = 1\n",
        "d\n",
        "\n",
        "# 풀이2, set으로 만들어서 count를 한다.\n",
        "s = \"Hello, World! This is a sample string for testing purposes.\"\n",
        "for i in set(s):\n",
        "    d[i] = s.count(i)\n",
        "d"
      ],
      "metadata": {
        "colab": {
          "base_uri": "https://localhost:8080/"
        },
        "id": "7j-Qf4scOV7f",
        "outputId": "449f39e9-2c3f-4de3-eb88-75595f1920c9"
      },
      "execution_count": null,
      "outputs": [
        {
          "output_type": "execute_result",
          "data": {
            "text/plain": [
              "{'H': 1,\n",
              " 'e': 4,\n",
              " 'l': 4,\n",
              " 'o': 4,\n",
              " 'W': 1,\n",
              " 'r': 4,\n",
              " 'd': 1,\n",
              " 'T': 1,\n",
              " 'h': 1,\n",
              " 'i': 4,\n",
              " 's': 7,\n",
              " 'a': 2,\n",
              " 'm': 1,\n",
              " 'p': 3,\n",
              " 't': 3,\n",
              " 'n': 2,\n",
              " 'g': 2,\n",
              " 'f': 1,\n",
              " 'u': 1,\n",
              " ' ': 9,\n",
              " ',': 1,\n",
              " '!': 1,\n",
              " '.': 1}"
            ]
          },
          "metadata": {},
          "execution_count": 152
        }
      ]
    },
    {
      "cell_type": "code",
      "source": [
        "# 문제6 트리만들기\n",
        "for i in range(1, 10):\n",
        "    print('*' * (2 * i - 1))"
      ],
      "metadata": {
        "colab": {
          "base_uri": "https://localhost:8080/"
        },
        "id": "rrD7Cz0SQjnb",
        "outputId": "2963723a-eff3-457f-80ea-f9892e14e8da"
      },
      "execution_count": null,
      "outputs": [
        {
          "output_type": "stream",
          "name": "stdout",
          "text": [
            "*\n",
            "***\n",
            "*****\n",
            "*******\n",
            "*********\n",
            "***********\n",
            "*************\n",
            "***************\n",
            "*****************\n"
          ]
        }
      ]
    },
    {
      "cell_type": "code",
      "source": [
        "# 문제6 트리만들기\n",
        "for i in range(1, 10):\n",
        "    print((' ' * (10 - i + 1)) + ('*' * (2 * i - 1)))\n",
        "\n",
        "\n",
        "\n",
        "#         *\n",
        "#        ***\n",
        "#       *****\n",
        "#      *******\n",
        "#     *********\n",
        "#    ***********\n",
        "#   *************\n",
        "#  ***************\n",
        "# *****************"
      ],
      "metadata": {
        "colab": {
          "base_uri": "https://localhost:8080/"
        },
        "id": "nIQtdmBNRRmb",
        "outputId": "029ff2f5-447e-4b95-c933-0f180928fc61"
      },
      "execution_count": null,
      "outputs": [
        {
          "output_type": "stream",
          "name": "stdout",
          "text": [
            "          *\n",
            "         ***\n",
            "        *****\n",
            "       *******\n",
            "      *********\n",
            "     ***********\n",
            "    *************\n",
            "   ***************\n",
            "  *****************\n"
          ]
        }
      ]
    },
    {
      "cell_type": "code",
      "source": [
        "for i in range(1, 10):\n",
        "    print(f\"{'*' * ((2 * i) - 1):^18}\")"
      ],
      "metadata": {
        "colab": {
          "base_uri": "https://localhost:8080/"
        },
        "id": "diEtci1LR3a4",
        "outputId": "e5111f52-2fef-4ecc-bef5-72ee49d0cbc2"
      },
      "execution_count": null,
      "outputs": [
        {
          "output_type": "stream",
          "name": "stdout",
          "text": [
            "        *         \n",
            "       ***        \n",
            "      *****       \n",
            "     *******      \n",
            "    *********     \n",
            "   ***********    \n",
            "  *************   \n",
            " ***************  \n",
            "***************** \n"
          ]
        }
      ]
    },
    {
      "cell_type": "code",
      "source": [
        "for i in range(1, 10):\n",
        "    print(f\"{' ' * (10 - i + 1)}{'*' * ((2 * i) - 1)}\")"
      ],
      "metadata": {
        "colab": {
          "base_uri": "https://localhost:8080/"
        },
        "id": "0yi90jmzR_t9",
        "outputId": "8b894bad-291c-43de-8fc4-27426bf433be"
      },
      "execution_count": null,
      "outputs": [
        {
          "output_type": "stream",
          "name": "stdout",
          "text": [
            "          *\n",
            "         ***\n",
            "        *****\n",
            "       *******\n",
            "      *********\n",
            "     ***********\n",
            "    *************\n",
            "   ***************\n",
            "  *****************\n"
          ]
        }
      ]
    },
    {
      "cell_type": "code",
      "source": [
        "data = 18\n",
        "for i in range(1, 10):\n",
        "    print(f\"{'*' * ((2 * i) - 1):^{data}}\")"
      ],
      "metadata": {
        "colab": {
          "base_uri": "https://localhost:8080/"
        },
        "id": "XIwtDxgiSNvU",
        "outputId": "17d2e09b-d9cb-4080-e035-d342d23ffdcc"
      },
      "execution_count": null,
      "outputs": [
        {
          "output_type": "stream",
          "name": "stdout",
          "text": [
            "        *         \n",
            "       ***        \n",
            "      *****       \n",
            "     *******      \n",
            "    *********     \n",
            "   ***********    \n",
            "  *************   \n",
            " ***************  \n",
            "***************** \n"
          ]
        }
      ]
    },
    {
      "cell_type": "code",
      "source": [
        "class OperList:\n",
        "    def __init__(self, *args):\n",
        "        self.operlist = list(args)\n",
        "\n",
        "    def __str__(self):\n",
        "        return  f'<{str(self.operlist)[1:-1]}>'\n",
        "\n",
        "    def __len__(self):\n",
        "        return self.operlist.__len__()\n",
        "\n",
        "    def __add__(self, other):\n",
        "        if len(self.operlist) != len(other):\n",
        "            raise\n",
        "        for i in range(len(self.operlist)):\n",
        "            self.operlist[i] += other.operlist[i]\n",
        "        return f'<{str(self.operlist)[1:-1]}>'\n",
        "\n",
        "    def __sub__(self, other):\n",
        "        if len(self.operlist) != len(other):\n",
        "            raise\n",
        "        for i in range(len(self.operlist)):\n",
        "            self.operlist[i] -= other.operlist[i]\n",
        "        return f'<{str(self.operlist)[1:-1]}>'\n",
        "\n",
        "    def __mul__(self, other):\n",
        "        if not isinstance(other, int):\n",
        "            raise\n",
        "        for i in range(len(self.operlist)):\n",
        "            self.operlist[i] *= other\n",
        "        return f'<{str(self.operlist)[1:-1]}>'\n",
        "\n",
        "    def append(self, data):\n",
        "        self.operlist.append(data)\n",
        "\n",
        "    def remove(self, data):\n",
        "        self.operlist.remove(data)\n",
        "\n",
        "\n",
        "\n",
        "l = OperList(1, 2, 3, 4)\n",
        "ll = OperList(1, 2, 3, 4)\n",
        "lll = OperList()\n",
        "l.append(5)\n",
        "print(l)\n",
        "print(lll)\n",
        "print(l - l)\n",
        "# print(l + l) # 출력: <2, 4, 6, 8, 10>"
      ],
      "metadata": {
        "colab": {
          "base_uri": "https://localhost:8080/"
        },
        "id": "tLagrCnEX4zF",
        "outputId": "4e803f2f-54ac-4221-8da9-857f50db84f3"
      },
      "execution_count": null,
      "outputs": [
        {
          "output_type": "stream",
          "name": "stdout",
          "text": [
            "<1, 2, 3, 4, 5>\n",
            "<>\n",
            "<0, 0, 0, 0, 0>\n"
          ]
        }
      ]
    },
    {
      "cell_type": "code",
      "source": [
        "# 다음 자료구조 클래스를 만들어주세요.\n",
        "# list를 상속받지는 마세요!\n",
        "# 데이터는 <1, 2, 3, 4> 형식으로 숫자만 저장됩니다.\n",
        "# print()를 하면 <1, 2, 3, 4>와 같이 출력이 되어야 합니다.\n",
        "# 메서드는 append, remove가 있습니다.\n",
        "# 아래 연산은 길이가 다르면 error가 납니다.\n",
        "# 나누기 연산은 지원하지 않습니다.\n",
        "# <1, 2, 3, 4> + <1, 2, 3 ,4> == <2, 4, 6, 8>와 같이 같은 순서에 요소를 더합니다.\n",
        "# <1, 2, 3, 4> - <1, 2, 1 ,2> == <0, 0, 2, 2>와 같이 같은 순서에 요소를 뺍니다.\n",
        "# <1, 2, 3, 4> * 3 == <3, 6, 9, 12>가 됩니다.\n",
        "\n",
        "class OperList:\n",
        "    pass\n",
        "\n",
        "l = OperList(1, 2, 3, 4)\n",
        "l.append(5)\n",
        "print(l + l) # 출력: <2, 4, 6, 8, 10>"
      ],
      "metadata": {
        "id": "RlHr-PV-Vcn_"
      },
      "execution_count": null,
      "outputs": []
    },
    {
      "cell_type": "code",
      "source": [
        "class OperList:\n",
        "    def __init__(self, *args):\n",
        "        self.__operlist = list(args)\n",
        "\n",
        "    def __str__(self):\n",
        "        return f'<{str(self.__operlist)[1:-1]}>'\n",
        "\n",
        "    def __repr__(self):\n",
        "        return f'<{str(self.__operlist)[1:-1]}>'\n",
        "\n",
        "l = OperList(1, 2, 3, 4)\n",
        "l\n",
        "# l.append(5)\n",
        "# print(l + l) # 출력: <2, 4, 6, 8, 10>"
      ],
      "metadata": {
        "colab": {
          "base_uri": "https://localhost:8080/"
        },
        "id": "DjhRms7RcDRO",
        "outputId": "88cd3034-2c8b-49d2-d6eb-4ad3686aeab4"
      },
      "execution_count": null,
      "outputs": [
        {
          "output_type": "execute_result",
          "data": {
            "text/plain": [
              "<>"
            ]
          },
          "metadata": {},
          "execution_count": 189
        }
      ]
    },
    {
      "cell_type": "code",
      "source": [
        "class OperList:\n",
        "    def __init__(self, *args):\n",
        "        self.__operlist = list(args)\n",
        "\n",
        "    def __str__(self):\n",
        "        return f'<{str(self.__operlist)[1:-1]}>'\n",
        "\n",
        "    def __repr__(self):\n",
        "        return f'<{str(self.__operlist)[1:-1]}>'\n",
        "\n",
        "    def __len__(self):\n",
        "        return self.__operlist.__len__()\n",
        "\n",
        "    def __add__(self, other):\n",
        "        if len(self.__operlist) != len(other.__operlist):\n",
        "            raise\n",
        "        for i in range(len(self.__operlist)):\n",
        "            self.__operlist[i] += other.__operlist[i]\n",
        "        return self.__operlist\n",
        "\n",
        "    def __sub__(self, other):\n",
        "        if len(self.__operlist) != len(other.__operlist):\n",
        "            raise\n",
        "        for i in range(len(self.__operlist)):\n",
        "            self.__operlist[i] -= other.__operlist[i]\n",
        "        return self.__operlist\n",
        "\n",
        "    def __mul__(self, other):\n",
        "        if not isinstance(other, int):\n",
        "            raise\n",
        "        for i in range(len(self.__operlist)):\n",
        "            self.__operlist[i] *= other\n",
        "        return self.__operlist\n",
        "\n",
        "    def append(self, data):\n",
        "        self.__operlist.append(data)\n",
        "\n",
        "    def remove(self, data):\n",
        "        self.__operlist.remove(data)\n",
        "\n",
        "\n",
        "l = OperList(1, 2, 3, 4)\n",
        "ll = OperList(3, 4, 6, 7)\n",
        "l * 2"
      ],
      "metadata": {
        "colab": {
          "base_uri": "https://localhost:8080/"
        },
        "id": "LrUdnvxydTEH",
        "outputId": "7a38d5ec-f23b-468f-9bda-a619cbd5c551"
      },
      "execution_count": null,
      "outputs": [
        {
          "output_type": "execute_result",
          "data": {
            "text/plain": [
              "[2, 4, 6, 8]"
            ]
          },
          "metadata": {},
          "execution_count": 193
        }
      ]
    },
    {
      "cell_type": "code",
      "source": [
        "# 과제1:\n",
        "# 마지막 문제 손코딩(만약 여유가 되시면 좀 더 고도화 한 다음 손코딩 해주세요.)\n",
        "\n",
        "# 과제2:\n",
        "# student.csv에는 아래와 같은 텍스트가 담겨있습니다.\n",
        "# '''\n",
        "# 학년,반,번,이름,국어,영어,수학,사회\n",
        "# 3,3,1,licat,90,80,30,40\n",
        "# 3,3,2,mura,80,70,60,30\n",
        "# 3,3,3,binky,30,80,70,30\n",
        "# '''\n",
        "# 학생들의 평균을 구해 아래와 같이 student.csv출력되게 해주세요.(xx이라 표기된 곳에 평균 값이 들어가야 합니다.)\n",
        "# '''\n",
        "# 학년,반,번,이름,국어,영어,수학,사회,평균\n",
        "# 3,3,1,licat,90,80,30,40,xx\n",
        "# 3,3,2,mura,80,70,60,30,xx\n",
        "# 3,3,3,binky,30,80,70,30,xx\n",
        "# '''"
      ],
      "metadata": {
        "id": "9It6fUUdk6Q8"
      },
      "execution_count": null,
      "outputs": []
    },
    {
      "cell_type": "code",
      "source": [
        "s = ''\n",
        "with open('student.csv', 'r') as f:\n",
        "    lines = f.readlines()\n",
        "    s += lines[0][:-1] + ',평균'\n",
        "    for i in lines[1:]:\n",
        "        data = i.split(',')\n",
        "        s += f'\\n{i.strip()},{sum(map(int, data[4:])) / 4}'\n",
        "\n",
        "with open('student.csv', 'w') as f:\n",
        "    f.write(s)"
      ],
      "metadata": {
        "id": "QCSCySR85b8O"
      },
      "execution_count": null,
      "outputs": []
    }
  ]
}