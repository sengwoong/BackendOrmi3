{
  "nbformat": 4,
  "nbformat_minor": 0,
  "metadata": {
    "colab": {
      "provenance": []
    },
    "kernelspec": {
      "name": "python3",
      "display_name": "Python 3"
    },
    "language_info": {
      "name": "python"
    }
  },
  "cells": [
    {
      "cell_type": "markdown",
      "source": [
        "# 연산과 구문"
      ],
      "metadata": {
        "id": "k-60dSkzvil3"
      }
    },
    {
      "cell_type": "markdown",
      "source": [
        "# 산술 연산자"
      ],
      "metadata": {
        "id": "Xy97-m9gvmv7"
      }
    },
    {
      "cell_type": "code",
      "execution_count": null,
      "metadata": {
        "id": "W6RUjIWgvgwD"
      },
      "outputs": [],
      "source": [
        "{'one':1} + {'two':2} # error\n",
        "{5} + {6} # error"
      ]
    },
    {
      "cell_type": "code",
      "source": [
        "7 - 4"
      ],
      "metadata": {
        "colab": {
          "base_uri": "https://localhost:8080/"
        },
        "id": "4KvE3YyywF6r",
        "outputId": "9ad354aa-c5cb-4581-a1ea-c5666f486b63"
      },
      "execution_count": null,
      "outputs": [
        {
          "output_type": "execute_result",
          "data": {
            "text/plain": [
              "3"
            ]
          },
          "metadata": {},
          "execution_count": 1
        }
      ]
    },
    {
      "cell_type": "code",
      "source": [
        "7 -- 4"
      ],
      "metadata": {
        "colab": {
          "base_uri": "https://localhost:8080/"
        },
        "id": "-zm1jA_3wUjV",
        "outputId": "eac44d30-2a48-4b1f-8137-26c4bfa7a76d"
      },
      "execution_count": null,
      "outputs": [
        {
          "output_type": "execute_result",
          "data": {
            "text/plain": [
              "11"
            ]
          },
          "metadata": {},
          "execution_count": 2
        }
      ]
    },
    {
      "cell_type": "code",
      "source": [
        "7 --- 4"
      ],
      "metadata": {
        "colab": {
          "base_uri": "https://localhost:8080/"
        },
        "id": "6C1hnR6vwXJp",
        "outputId": "3da35f73-9464-49a5-faed-83f7b2822bcb"
      },
      "execution_count": null,
      "outputs": [
        {
          "output_type": "execute_result",
          "data": {
            "text/plain": [
              "3"
            ]
          },
          "metadata": {},
          "execution_count": 3
        }
      ]
    },
    {
      "cell_type": "code",
      "source": [
        "7 ---- 4"
      ],
      "metadata": {
        "colab": {
          "base_uri": "https://localhost:8080/"
        },
        "id": "XSdE6KZFwb5x",
        "outputId": "384f17ee-e6d0-4fa2-97cc-9561023a47c1"
      },
      "execution_count": null,
      "outputs": [
        {
          "output_type": "execute_result",
          "data": {
            "text/plain": [
              "11"
            ]
          },
          "metadata": {},
          "execution_count": 4
        }
      ]
    },
    {
      "cell_type": "code",
      "source": [
        "-2 * 2"
      ],
      "metadata": {
        "colab": {
          "base_uri": "https://localhost:8080/"
        },
        "id": "kHzmJ5jjwe4T",
        "outputId": "bb105ee5-f8e5-4da7-e967-3c76a121b17c"
      },
      "execution_count": null,
      "outputs": [
        {
          "output_type": "execute_result",
          "data": {
            "text/plain": [
              "-4"
            ]
          },
          "metadata": {},
          "execution_count": 5
        }
      ]
    },
    {
      "cell_type": "code",
      "source": [
        "-2 ** 2 # 주의 매우주의!"
      ],
      "metadata": {
        "colab": {
          "base_uri": "https://localhost:8080/"
        },
        "id": "z4oHG8TbwmDg",
        "outputId": "f5fa1a5f-ed1a-4b6d-c625-d70ab81eed3d"
      },
      "execution_count": null,
      "outputs": [
        {
          "output_type": "execute_result",
          "data": {
            "text/plain": [
              "-4"
            ]
          },
          "metadata": {},
          "execution_count": 6
        }
      ]
    },
    {
      "cell_type": "code",
      "source": [
        "result = \"Ha\" * 3\n",
        "print(result) # 결과: \"HaHaHa\""
      ],
      "metadata": {
        "colab": {
          "base_uri": "https://localhost:8080/"
        },
        "id": "wZ-ldz-_wqLM",
        "outputId": "70ea0a97-f487-4cd4-9d85-e73e14dfb337"
      },
      "execution_count": null,
      "outputs": [
        {
          "output_type": "stream",
          "name": "stdout",
          "text": [
            "HaHaHa\n"
          ]
        }
      ]
    },
    {
      "cell_type": "code",
      "source": [
        "result = [1, 2, 3] * 2\n",
        "print(result) # 출력: [1, 2, 3, 1, 2, 3]"
      ],
      "metadata": {
        "colab": {
          "base_uri": "https://localhost:8080/"
        },
        "id": "O0swKjvyxEe7",
        "outputId": "23ad6339-0c30-414f-c917-1a059b694534"
      },
      "execution_count": null,
      "outputs": [
        {
          "output_type": "stream",
          "name": "stdout",
          "text": [
            "[1, 2, 3, 1, 2, 3]\n"
          ]
        }
      ]
    },
    {
      "cell_type": "code",
      "source": [
        "a = 10\n",
        "b = 2\n",
        "print(a / b) # 결과 5.0\n",
        "print(a // b) # 결과 5 (JavaScript에서 //는 주석이라 이 연산이 없습니다.)"
      ],
      "metadata": {
        "id": "KOehybEzxjTx"
      },
      "execution_count": null,
      "outputs": []
    },
    {
      "cell_type": "code",
      "source": [
        "# python에 //는 몫이 아닙니다!\n",
        "# 내림입니다!\n",
        "a = -5\n",
        "b = 2\n",
        "print(a // b)"
      ],
      "metadata": {
        "colab": {
          "base_uri": "https://localhost:8080/"
        },
        "id": "xHStiRVdxxsz",
        "outputId": "ab1e1dcd-04b6-4633-953c-20de4bc19328"
      },
      "execution_count": null,
      "outputs": [
        {
          "output_type": "stream",
          "name": "stdout",
          "text": [
            "-3\n"
          ]
        }
      ]
    },
    {
      "cell_type": "code",
      "source": [
        "10 / 0 # ZeroDivisionError"
      ],
      "metadata": {
        "colab": {
          "base_uri": "https://localhost:8080/",
          "height": 181
        },
        "id": "pQRh2SHNyXSd",
        "outputId": "036a719e-a3dd-4088-f1d8-5667c350fea7"
      },
      "execution_count": null,
      "outputs": [
        {
          "output_type": "error",
          "ename": "ZeroDivisionError",
          "evalue": "ignored",
          "traceback": [
            "\u001b[0;31m---------------------------------------------------------------------------\u001b[0m",
            "\u001b[0;31mZeroDivisionError\u001b[0m                         Traceback (most recent call last)",
            "\u001b[0;32m<ipython-input-10-cd759d3fcf39>\u001b[0m in \u001b[0;36m<cell line: 1>\u001b[0;34m()\u001b[0m\n\u001b[0;32m----> 1\u001b[0;31m \u001b[0;36m10\u001b[0m \u001b[0;34m/\u001b[0m \u001b[0;36m0\u001b[0m\u001b[0;34m\u001b[0m\u001b[0;34m\u001b[0m\u001b[0m\n\u001b[0m",
            "\u001b[0;31mZeroDivisionError\u001b[0m: division by zero"
          ]
        }
      ]
    },
    {
      "cell_type": "code",
      "source": [
        "10.123 // 1"
      ],
      "metadata": {
        "colab": {
          "base_uri": "https://localhost:8080/"
        },
        "id": "x5Ho8rmG0-jO",
        "outputId": "c2563b27-dfa7-4f60-eff3-c4928367fb13"
      },
      "execution_count": null,
      "outputs": [
        {
          "output_type": "execute_result",
          "data": {
            "text/plain": [
              "10.0"
            ]
          },
          "metadata": {},
          "execution_count": 11
        }
      ]
    },
    {
      "cell_type": "code",
      "source": [
        "-10.123 // 1"
      ],
      "metadata": {
        "colab": {
          "base_uri": "https://localhost:8080/"
        },
        "id": "C0qf3CwO1BRq",
        "outputId": "eb931d2b-64de-47d7-ac98-790598a7d138"
      },
      "execution_count": null,
      "outputs": [
        {
          "output_type": "execute_result",
          "data": {
            "text/plain": [
              "-11.0"
            ]
          },
          "metadata": {},
          "execution_count": 12
        }
      ]
    },
    {
      "cell_type": "code",
      "source": [
        "a = 10\n",
        "b = 3\n",
        "divide = a / b\n",
        "print(f'{a} ÷ {b} = {divide:.2f}')  # 결과: 10 ÷ 3 = 3.33"
      ],
      "metadata": {
        "colab": {
          "base_uri": "https://localhost:8080/"
        },
        "id": "iQdxUBpaykdx",
        "outputId": "be73591c-6cb2-4f83-a2f1-439b4e3c64fc"
      },
      "execution_count": null,
      "outputs": [
        {
          "output_type": "stream",
          "name": "stdout",
          "text": [
            "10 ÷ 3 = 3.33\n"
          ]
        }
      ]
    },
    {
      "cell_type": "code",
      "source": [
        "a = 10\n",
        "b = 3\n",
        "divide = a / b\n",
        "print(f'{a} ÷ {b} = {divide:.3f}')  # 결과: 10 ÷ 3 = 3.33"
      ],
      "metadata": {
        "colab": {
          "base_uri": "https://localhost:8080/"
        },
        "id": "NZw8Axpe1gdt",
        "outputId": "35e3a229-57d1-491d-9414-3d814bb94009"
      },
      "execution_count": null,
      "outputs": [
        {
          "output_type": "stream",
          "name": "stdout",
          "text": [
            "10 ÷ 3 = 3.333\n"
          ]
        }
      ]
    },
    {
      "cell_type": "code",
      "source": [
        "10 % 3.3"
      ],
      "metadata": {
        "colab": {
          "base_uri": "https://localhost:8080/"
        },
        "id": "BAoeC6yE1obq",
        "outputId": "a5551fae-4d96-4da2-a34e-f4f90e586f44"
      },
      "execution_count": null,
      "outputs": [
        {
          "output_type": "execute_result",
          "data": {
            "text/plain": [
              "0.10000000000000053"
            ]
          },
          "metadata": {},
          "execution_count": 17
        }
      ]
    },
    {
      "cell_type": "code",
      "source": [
        "(100 % 33) / 10 # 소숫점 1자리까지 출력해야 한다"
      ],
      "metadata": {
        "colab": {
          "base_uri": "https://localhost:8080/"
        },
        "id": "rngnPyf31rBp",
        "outputId": "c8200610-a645-4169-a298-8e65958d05a5"
      },
      "execution_count": null,
      "outputs": [
        {
          "output_type": "execute_result",
          "data": {
            "text/plain": [
              "0.1"
            ]
          },
          "metadata": {},
          "execution_count": 19
        }
      ]
    },
    {
      "cell_type": "code",
      "source": [
        "(1000 % 331) / 100 # 소숫점 1자리까지 출력해야 한다"
      ],
      "metadata": {
        "colab": {
          "base_uri": "https://localhost:8080/"
        },
        "id": "oj3347yM12IE",
        "outputId": "14606ba4-f05f-4b7b-c94d-a49f47f05972"
      },
      "execution_count": null,
      "outputs": [
        {
          "output_type": "execute_result",
          "data": {
            "text/plain": [
              "0.07"
            ]
          },
          "metadata": {},
          "execution_count": 22
        }
      ]
    },
    {
      "cell_type": "code",
      "source": [
        "10 % 0"
      ],
      "metadata": {
        "colab": {
          "base_uri": "https://localhost:8080/",
          "height": 181
        },
        "id": "wvt5rDAV2G-U",
        "outputId": "485dd8f1-f86a-4be0-cb79-7428ceb93f10"
      },
      "execution_count": null,
      "outputs": [
        {
          "output_type": "error",
          "ename": "ZeroDivisionError",
          "evalue": "ignored",
          "traceback": [
            "\u001b[0;31m---------------------------------------------------------------------------\u001b[0m",
            "\u001b[0;31mZeroDivisionError\u001b[0m                         Traceback (most recent call last)",
            "\u001b[0;32m<ipython-input-23-b4eaad6685bc>\u001b[0m in \u001b[0;36m<cell line: 1>\u001b[0;34m()\u001b[0m\n\u001b[0;32m----> 1\u001b[0;31m \u001b[0;36m10\u001b[0m \u001b[0;34m%\u001b[0m \u001b[0;36m0\u001b[0m\u001b[0;34m\u001b[0m\u001b[0;34m\u001b[0m\u001b[0m\n\u001b[0m",
            "\u001b[0;31mZeroDivisionError\u001b[0m: integer division or modulo by zero"
          ]
        }
      ]
    },
    {
      "cell_type": "code",
      "source": [
        "5 == '5' # False"
      ],
      "metadata": {
        "colab": {
          "base_uri": "https://localhost:8080/"
        },
        "id": "uh-HUn3g2lBu",
        "outputId": "5934bf90-892b-4bfc-a905-155a04a9b278"
      },
      "execution_count": null,
      "outputs": [
        {
          "output_type": "execute_result",
          "data": {
            "text/plain": [
              "False"
            ]
          },
          "metadata": {},
          "execution_count": 24
        }
      ]
    },
    {
      "cell_type": "code",
      "source": [
        "print('apple' < 'banana')"
      ],
      "metadata": {
        "colab": {
          "base_uri": "https://localhost:8080/"
        },
        "id": "oQdn4Y3g2swQ",
        "outputId": "2ac74981-6077-4fba-f04c-3b85250c1835"
      },
      "execution_count": null,
      "outputs": [
        {
          "output_type": "stream",
          "name": "stdout",
          "text": [
            "True\n"
          ]
        }
      ]
    },
    {
      "cell_type": "code",
      "source": [
        "print('한' < '후')"
      ],
      "metadata": {
        "colab": {
          "base_uri": "https://localhost:8080/"
        },
        "id": "NLIXm18d29wI",
        "outputId": "33f4da67-c6cc-4ce1-bbcc-fe7022609b3e"
      },
      "execution_count": null,
      "outputs": [
        {
          "output_type": "stream",
          "name": "stdout",
          "text": [
            "True\n"
          ]
        }
      ]
    },
    {
      "cell_type": "code",
      "source": [
        "print('apple' < 'applee')"
      ],
      "metadata": {
        "colab": {
          "base_uri": "https://localhost:8080/"
        },
        "id": "cwwpZ-yp3B7U",
        "outputId": "83daaa67-2497-4056-a198-ef43f2674cca"
      },
      "execution_count": null,
      "outputs": [
        {
          "output_type": "stream",
          "name": "stdout",
          "text": [
            "True\n"
          ]
        }
      ]
    },
    {
      "cell_type": "code",
      "source": [
        "print([10, 20, 30, 35] < [10, 20, 30, 40])"
      ],
      "metadata": {
        "colab": {
          "base_uri": "https://localhost:8080/"
        },
        "id": "AnJI5O503Gz2",
        "outputId": "b6c40aaf-413a-46da-a9d3-e52085a198e0"
      },
      "execution_count": null,
      "outputs": [
        {
          "output_type": "stream",
          "name": "stdout",
          "text": [
            "True\n"
          ]
        }
      ]
    },
    {
      "cell_type": "code",
      "source": [
        "print([10, 20, 30] < [10, 20, 30, 40])\n",
        "print([10, 20, 35] < [10, 20, 30, 40])"
      ],
      "metadata": {
        "colab": {
          "base_uri": "https://localhost:8080/"
        },
        "id": "kqaYPONq3S8J",
        "outputId": "2663039b-a2fc-4728-e1e7-092867a976c0"
      },
      "execution_count": null,
      "outputs": [
        {
          "output_type": "stream",
          "name": "stdout",
          "text": [
            "True\n",
            "False\n"
          ]
        }
      ]
    },
    {
      "cell_type": "code",
      "source": [
        "x = 10\n",
        "5 < x < 15"
      ],
      "metadata": {
        "colab": {
          "base_uri": "https://localhost:8080/"
        },
        "id": "n1DZr4Om4AgL",
        "outputId": "2d6a0083-f66a-4c2e-c1a2-a1823e522949"
      },
      "execution_count": null,
      "outputs": [
        {
          "output_type": "execute_result",
          "data": {
            "text/plain": [
              "True"
            ]
          },
          "metadata": {},
          "execution_count": 35
        }
      ]
    },
    {
      "cell_type": "code",
      "source": [
        "x = 20\n",
        "10 < x < 11"
      ],
      "metadata": {
        "colab": {
          "base_uri": "https://localhost:8080/"
        },
        "id": "GVtvsmi-4A0l",
        "outputId": "9b1a4853-9b4d-45b9-fec6-39ee7caec4ce"
      },
      "execution_count": null,
      "outputs": [
        {
          "output_type": "execute_result",
          "data": {
            "text/plain": [
              "False"
            ]
          },
          "metadata": {},
          "execution_count": 36
        }
      ]
    },
    {
      "cell_type": "markdown",
      "source": [
        "# 논리연산자"
      ],
      "metadata": {
        "id": "t49jwkMt4df8"
      }
    },
    {
      "cell_type": "code",
      "source": [
        "# and(곱), or(합), not(부정)\n",
        "x = True # 1\n",
        "y = False # 0\n",
        "\n",
        "print(True and False) # False\n",
        "print(True and True) # True\n",
        "print(True or False) # True\n",
        "print(True or True) # True"
      ],
      "metadata": {
        "colab": {
          "base_uri": "https://localhost:8080/"
        },
        "id": "kg6y8vY-4fDJ",
        "outputId": "4692655f-8206-4bbb-97fd-44f2c653354c"
      },
      "execution_count": null,
      "outputs": [
        {
          "output_type": "stream",
          "name": "stdout",
          "text": [
            "False\n",
            "True\n"
          ]
        }
      ]
    },
    {
      "cell_type": "code",
      "source": [
        "for i in range(101):\n",
        "    if i % 3 == 0 and i % 5 == 0:\n",
        "        print(i)"
      ],
      "metadata": {
        "id": "_OiqqVxX5KTb"
      },
      "execution_count": null,
      "outputs": []
    },
    {
      "cell_type": "code",
      "source": [
        "for i in range(101):\n",
        "    if i % 3 == 0:\n",
        "        if i % 5 == 0:\n",
        "            print(i)\n",
        "\n",
        "for i in range(101):\n",
        "    if i % 3 == 0 and i % 5 == 0:\n",
        "        print(i)"
      ],
      "metadata": {
        "id": "sZK9UxGU5Xiw"
      },
      "execution_count": null,
      "outputs": []
    },
    {
      "cell_type": "code",
      "source": [
        "# https://codingdojang.com/scode/350?answer_mode=hide\n",
        "for i in range(101):\n",
        "    if i % 3 == 0 or i % 5 == 0:\n",
        "        print(i)"
      ],
      "metadata": {
        "id": "QgTCchBg57hp"
      },
      "execution_count": null,
      "outputs": []
    },
    {
      "cell_type": "code",
      "source": [
        "print(not True)  # 결과: False\n",
        "print(not False) # 결과: True"
      ],
      "metadata": {
        "colab": {
          "base_uri": "https://localhost:8080/"
        },
        "id": "4BI0nkk06Qep",
        "outputId": "e1761d9c-603b-4612-fe37-dd0e08a18ff0"
      },
      "execution_count": null,
      "outputs": [
        {
          "output_type": "stream",
          "name": "stdout",
          "text": [
            "False\n",
            "True\n"
          ]
        }
      ]
    },
    {
      "cell_type": "code",
      "source": [
        "a = True\n",
        "b = False\n",
        "\n",
        "print(a and b)\n",
        "print(a and b and aa and bb) # 디버깅 할 때 조심"
      ],
      "metadata": {
        "colab": {
          "base_uri": "https://localhost:8080/"
        },
        "id": "hjVJaXWE6ahu",
        "outputId": "72bcbfc6-dd66-4609-fa3b-120e83407d6f"
      },
      "execution_count": null,
      "outputs": [
        {
          "output_type": "stream",
          "name": "stdout",
          "text": [
            "False\n",
            "False\n"
          ]
        }
      ]
    },
    {
      "cell_type": "code",
      "source": [
        "a = True\n",
        "b = False\n",
        "\n",
        "print(a or b)\n",
        "print(a or b or aa or bb)"
      ],
      "metadata": {
        "colab": {
          "base_uri": "https://localhost:8080/"
        },
        "id": "guHFXauM60TB",
        "outputId": "3091f202-3bb7-4215-d9ab-1ebc38e6b8cf"
      },
      "execution_count": null,
      "outputs": [
        {
          "output_type": "stream",
          "name": "stdout",
          "text": [
            "True\n",
            "True\n"
          ]
        }
      ]
    },
    {
      "cell_type": "code",
      "source": [
        "# 이건 왜 True이죠???\n",
        "# 헷갈리시면 괄호 써주세요.\n",
        "#                                                                   우선순위\n",
        "# x OR y (또는 연산자)\t    if x is FALSE, then y, else x\t        1\n",
        "# x AND y (그리고 연산자)\tif x is FALSE, then x, else y\t        2\n",
        "# NOT x (부정 연산자)\t    if x if FALSE, then True, else FALSE\t3\n",
        "a = True\n",
        "b = False\n",
        "c = False\n",
        "\n",
        "a or b and c"
      ],
      "metadata": {
        "colab": {
          "base_uri": "https://localhost:8080/"
        },
        "id": "IJk_cPYm7B09",
        "outputId": "f89f710e-60d0-4f53-c43f-14214bd22cfa"
      },
      "execution_count": null,
      "outputs": [
        {
          "output_type": "execute_result",
          "data": {
            "text/plain": [
              "True"
            ]
          },
          "metadata": {},
          "execution_count": 49
        }
      ]
    },
    {
      "cell_type": "code",
      "source": [
        "a = True\n",
        "b = False\n",
        "c = False\n",
        "d = True\n",
        "\n",
        "a and b or c and d"
      ],
      "metadata": {
        "colab": {
          "base_uri": "https://localhost:8080/"
        },
        "id": "45pBomyC8V68",
        "outputId": "9d7793e8-4668-4e62-d40d-0db0f304c907"
      },
      "execution_count": null,
      "outputs": [
        {
          "output_type": "execute_result",
          "data": {
            "text/plain": [
              "False"
            ]
          },
          "metadata": {},
          "execution_count": 50
        }
      ]
    },
    {
      "cell_type": "code",
      "source": [
        "a = True\n",
        "b = False\n",
        "c = False\n",
        "d = True\n",
        "\n",
        "a and not b or c and d\n",
        "(a and (not b)) or (c and d)"
      ],
      "metadata": {
        "colab": {
          "base_uri": "https://localhost:8080/"
        },
        "id": "Ze_PAjyh8e2k",
        "outputId": "46ed51f0-325d-49c0-a6f9-745454e2efaa"
      },
      "execution_count": null,
      "outputs": [
        {
          "output_type": "execute_result",
          "data": {
            "text/plain": [
              "True"
            ]
          },
          "metadata": {},
          "execution_count": 52
        }
      ]
    },
    {
      "cell_type": "code",
      "source": [
        "# 단락평가\n",
        "a = 'hello'\n",
        "b = ''\n",
        "\n",
        "a or b"
      ],
      "metadata": {
        "colab": {
          "base_uri": "https://localhost:8080/",
          "height": 35
        },
        "id": "eeVfvl217JEZ",
        "outputId": "0a3eb9f8-fb85-4b2a-b8ec-a48959fdc6f2"
      },
      "execution_count": null,
      "outputs": [
        {
          "output_type": "execute_result",
          "data": {
            "text/plain": [
              "'hello'"
            ],
            "application/vnd.google.colaboratory.intrinsic+json": {
              "type": "string"
            }
          },
          "metadata": {},
          "execution_count": 53
        }
      ]
    },
    {
      "cell_type": "code",
      "source": [
        "# 단락평가\n",
        "a = 'hello'\n",
        "b = 'world'\n",
        "\n",
        "a or b"
      ],
      "metadata": {
        "colab": {
          "base_uri": "https://localhost:8080/",
          "height": 35
        },
        "id": "A1tLQEeD9M5s",
        "outputId": "296df1cb-bd78-4414-b600-b79ca4c78174"
      },
      "execution_count": null,
      "outputs": [
        {
          "output_type": "execute_result",
          "data": {
            "text/plain": [
              "'hello'"
            ],
            "application/vnd.google.colaboratory.intrinsic+json": {
              "type": "string"
            }
          },
          "metadata": {},
          "execution_count": 54
        }
      ]
    },
    {
      "cell_type": "code",
      "source": [
        "# 단락평가\n",
        "a = ''\n",
        "b = 'world'\n",
        "\n",
        "a or b"
      ],
      "metadata": {
        "colab": {
          "base_uri": "https://localhost:8080/",
          "height": 35
        },
        "id": "jShLyBy59XiG",
        "outputId": "bde18581-4c9f-4777-a42e-fc808f15dba6"
      },
      "execution_count": null,
      "outputs": [
        {
          "output_type": "execute_result",
          "data": {
            "text/plain": [
              "'world'"
            ],
            "application/vnd.google.colaboratory.intrinsic+json": {
              "type": "string"
            }
          },
          "metadata": {},
          "execution_count": 55
        }
      ]
    },
    {
      "cell_type": "code",
      "source": [
        "username = ''\n",
        "\n",
        "username = username or '이름을 정하지 않았습니다.'\n",
        "username"
      ],
      "metadata": {
        "colab": {
          "base_uri": "https://localhost:8080/",
          "height": 35
        },
        "id": "pTVx4MJA9cb8",
        "outputId": "d803a608-0d3c-4a33-cd3d-13b42a65d295"
      },
      "execution_count": null,
      "outputs": [
        {
          "output_type": "execute_result",
          "data": {
            "text/plain": [
              "'이름을 정하지 않았습니다.'"
            ],
            "application/vnd.google.colaboratory.intrinsic+json": {
              "type": "string"
            }
          },
          "metadata": {},
          "execution_count": 56
        }
      ]
    },
    {
      "cell_type": "code",
      "source": [
        "username = 'licat'\n",
        "\n",
        "username = username or '이름을 정하지 않았습니다.'\n",
        "username"
      ],
      "metadata": {
        "colab": {
          "base_uri": "https://localhost:8080/",
          "height": 35
        },
        "id": "5a3xlLGO9meX",
        "outputId": "bec51989-a4c0-4794-c626-d6d4787b1371"
      },
      "execution_count": null,
      "outputs": [
        {
          "output_type": "execute_result",
          "data": {
            "text/plain": [
              "'licat'"
            ],
            "application/vnd.google.colaboratory.intrinsic+json": {
              "type": "string"
            }
          },
          "metadata": {},
          "execution_count": 57
        }
      ]
    },
    {
      "cell_type": "code",
      "source": [
        "# result = functionA() or functionB()\n",
        "# 앞에 값이 None이나 0이 아니라면 뒤에 값으로 result를 만들겠다는 얘기입니다."
      ],
      "metadata": {
        "id": "lq5ROCyl91HN"
      },
      "execution_count": null,
      "outputs": []
    },
    {
      "cell_type": "code",
      "source": [
        "a = ''\n",
        "b = 'world'\n",
        "\n",
        "a and b # 출력: ''"
      ],
      "metadata": {
        "colab": {
          "base_uri": "https://localhost:8080/",
          "height": 35
        },
        "id": "IZO0yb-mU1Zl",
        "outputId": "76387225-3c24-4168-a3b3-46a22816d047"
      },
      "execution_count": null,
      "outputs": [
        {
          "output_type": "execute_result",
          "data": {
            "text/plain": [
              "''"
            ],
            "application/vnd.google.colaboratory.intrinsic+json": {
              "type": "string"
            }
          },
          "metadata": {},
          "execution_count": 81
        }
      ]
    },
    {
      "cell_type": "code",
      "source": [
        "def test1():\n",
        "    print(\"test1 함수 호출!\")\n",
        "    return False\n",
        "\n",
        "def test2():\n",
        "    print(\"test2 함수 호출!\")\n",
        "    return True\n",
        "\n",
        "result = test1() and test2()\n",
        "print(result) # 결과: False"
      ],
      "metadata": {
        "colab": {
          "base_uri": "https://localhost:8080/"
        },
        "id": "a3vq9f_dVT9V",
        "outputId": "e33b3c58-1a3f-42cd-b946-8b9bf727d3bb"
      },
      "execution_count": null,
      "outputs": [
        {
          "output_type": "stream",
          "name": "stdout",
          "text": [
            "test1 함수 호출!\n",
            "False\n"
          ]
        }
      ]
    },
    {
      "cell_type": "markdown",
      "source": [
        "# 할당연산"
      ],
      "metadata": {
        "id": "3pLoAQ9R-a44"
      }
    },
    {
      "cell_type": "code",
      "source": [
        "x = 10\n",
        "y = 20"
      ],
      "metadata": {
        "id": "JpfBeUj1-b_2"
      },
      "execution_count": null,
      "outputs": []
    },
    {
      "cell_type": "code",
      "source": [
        "x = x + 1"
      ],
      "metadata": {
        "id": "WjBsow4q-_12"
      },
      "execution_count": null,
      "outputs": []
    },
    {
      "cell_type": "markdown",
      "source": [
        "* 복합 할당 연산자"
      ],
      "metadata": {
        "id": "hILWlCCVv9gs"
      }
    },
    {
      "cell_type": "code",
      "source": [
        "x += 1\n",
        "x -= 1"
      ],
      "metadata": {
        "id": "tAdTl4i0_DQO"
      },
      "execution_count": null,
      "outputs": []
    },
    {
      "cell_type": "code",
      "source": [
        "x /= 1\n",
        "x //= 1\n",
        "x **= 1\n",
        "x *= 1\n",
        "x %= 1"
      ],
      "metadata": {
        "id": "MG0uSbGT_O7n"
      },
      "execution_count": null,
      "outputs": []
    },
    {
      "cell_type": "markdown",
      "source": [
        "# id 연산자, is 연산자, is not 연산자"
      ],
      "metadata": {
        "id": "wrPjTvX4_ttG"
      }
    },
    {
      "cell_type": "code",
      "source": [
        "a = 10000\n",
        "b = 10000\n",
        "a is b"
      ],
      "metadata": {
        "colab": {
          "base_uri": "https://localhost:8080/"
        },
        "id": "62Xeclrw_y8_",
        "outputId": "0a06ec7a-010a-499d-c2a9-4415b1159795"
      },
      "execution_count": null,
      "outputs": [
        {
          "output_type": "execute_result",
          "data": {
            "text/plain": [
              "False"
            ]
          },
          "metadata": {},
          "execution_count": 62
        }
      ]
    },
    {
      "cell_type": "code",
      "source": [
        "id(a), id(b)"
      ],
      "metadata": {
        "colab": {
          "base_uri": "https://localhost:8080/"
        },
        "id": "ESH8GRNz_7_x",
        "outputId": "9cb9e9ab-64e2-4d51-d7ae-16386d5e547d"
      },
      "execution_count": null,
      "outputs": [
        {
          "output_type": "execute_result",
          "data": {
            "text/plain": [
              "(138499741619888, 138499741618480)"
            ]
          },
          "metadata": {},
          "execution_count": 63
        }
      ]
    },
    {
      "cell_type": "code",
      "source": [
        "a = [1, 2, 3]\n",
        "b = [1, 2, 3]\n",
        "a is b"
      ],
      "metadata": {
        "colab": {
          "base_uri": "https://localhost:8080/"
        },
        "id": "tADYF1nE__lp",
        "outputId": "7467f05b-707d-4bdc-ca18-51d79038026e"
      },
      "execution_count": null,
      "outputs": [
        {
          "output_type": "execute_result",
          "data": {
            "text/plain": [
              "False"
            ]
          },
          "metadata": {},
          "execution_count": 64
        }
      ]
    },
    {
      "cell_type": "code",
      "source": [
        "# 질의응답\n",
        "print([10, 20, 30] < [10, 20, 100])\n",
        "# 이것이 왜 순서대로 비교를 할까?\n",
        "# 10과 10을 비교했을 때 False가 나왔다면 그대로 False 출력하면 되는 것 아닐까?\n",
        "# [1, 2, 3] == [1, 2, 3]과 같이 사용자 편의를 고려한 것입니다.\n",
        "# print([10, 20, 30] < [10, 20, 100])\n",
        "# print(x[0] > y[0])"
      ],
      "metadata": {
        "id": "beSjLU4db-tD"
      },
      "execution_count": null,
      "outputs": []
    },
    {
      "cell_type": "code",
      "source": [
        "coffee_employee = \"Brand\"\n",
        "orange_employee = \"Brand\"\n",
        "\n",
        "coffee_employee is orange_employee"
      ],
      "metadata": {
        "colab": {
          "base_uri": "https://localhost:8080/"
        },
        "id": "2ewvwH5DwG6D",
        "outputId": "615f52c5-2111-42fe-934a-2f66ce9f35ea"
      },
      "execution_count": 1,
      "outputs": [
        {
          "output_type": "execute_result",
          "data": {
            "text/plain": [
              "True"
            ]
          },
          "metadata": {},
          "execution_count": 1
        }
      ]
    },
    {
      "cell_type": "code",
      "source": [
        "coffee_employee = \"Brandleafjalwiefjxdv.@#felawfkelcxkvlxjfweljfwei\"\n",
        "orange_employee = \"Brandleafjalwiefjxdv.@#felawfkelcxkvlxjfweljfwei\"\n",
        "\n",
        "coffee_employee is orange_employee"
      ],
      "metadata": {
        "colab": {
          "base_uri": "https://localhost:8080/"
        },
        "id": "PoIpFGGQwb0R",
        "outputId": "29090093-cae8-4813-bba2-ace19b49cc67"
      },
      "execution_count": 3,
      "outputs": [
        {
          "output_type": "execute_result",
          "data": {
            "text/plain": [
              "False"
            ]
          },
          "metadata": {},
          "execution_count": 3
        }
      ]
    },
    {
      "cell_type": "markdown",
      "source": [
        "# 연습문제"
      ],
      "metadata": {
        "id": "cWAaXb2aEOCb"
      }
    },
    {
      "cell_type": "code",
      "source": [
        "# 문제1\n",
        "\n",
        "x = 3\n",
        "y = 5\n",
        "result = (isinstance(x, int) and isinstance(y, int)) and (x + y)\n",
        "print(result)"
      ],
      "metadata": {
        "colab": {
          "base_uri": "https://localhost:8080/"
        },
        "id": "q65XDo3BaXDA",
        "outputId": "1b20ce09-b92b-4234-f521-a906300462ec"
      },
      "execution_count": null,
      "outputs": [
        {
          "output_type": "stream",
          "name": "stdout",
          "text": [
            "8\n"
          ]
        }
      ]
    },
    {
      "cell_type": "code",
      "source": [
        "x = 0\n",
        "y = 0\n",
        "result = (isinstance(x, int) and isinstance(y, int)) and (x + y)\n",
        "print(result)"
      ],
      "metadata": {
        "colab": {
          "base_uri": "https://localhost:8080/"
        },
        "id": "RO78RwcAc7oW",
        "outputId": "c1804592-4ab1-4334-ebf5-056897ac55b7"
      },
      "execution_count": null,
      "outputs": [
        {
          "output_type": "stream",
          "name": "stdout",
          "text": [
            "0\n"
          ]
        }
      ]
    },
    {
      "cell_type": "code",
      "source": [
        "lst = [10]\n",
        "if lst and lst[0] > 3:\n",
        "        print(\"리스트의 첫 번째 원소는 3보다 큽니다.\")"
      ],
      "metadata": {
        "colab": {
          "base_uri": "https://localhost:8080/"
        },
        "id": "YGgIsraRdKZv",
        "outputId": "76bd9004-49c9-45f0-ff40-39ed748d23c6"
      },
      "execution_count": null,
      "outputs": [
        {
          "output_type": "stream",
          "name": "stdout",
          "text": [
            "리스트의 첫 번째 원소는 3보다 큽니다.\n"
          ]
        }
      ]
    },
    {
      "cell_type": "code",
      "source": [
        "# 문제2\n",
        "\n",
        "print('hello' < 'hell o')\n",
        "# 'o' 와 ' '의 유니코드 비교('o' > ' ', True)\n",
        "# ('hello' < 'hell o') == False\n",
        "\n",
        "print([10, 20, 30] < [10, 19, 100]) # 순서대로 비교\n",
        "print(10 % 3.3 == 0.1) # 양쪽에 10읍 곱하고 계산 후 10을 나눠주면 해결할 수 있습니다."
      ],
      "metadata": {
        "colab": {
          "base_uri": "https://localhost:8080/"
        },
        "id": "9F8x343qabKD",
        "outputId": "fb572f0d-2c0c-45ca-941f-0ed4690a5e8f"
      },
      "execution_count": null,
      "outputs": [
        {
          "output_type": "stream",
          "name": "stdout",
          "text": [
            "False\n",
            "False\n",
            "False\n"
          ]
        }
      ]
    },
    {
      "cell_type": "code",
      "source": [
        "# 문제3\n",
        "\n",
        "email1 = 'abc@gmail.com' # gmail\n",
        "email2 = 'abc@naver.com' # naver\n",
        "email3 = 'abc@weniv.co.kr' # weniv\n",
        "email4 = 'li.cat@weniv.co.kr' # weniv\n",
        "\n",
        "email4.split('@')[1].split('.')[0]"
      ],
      "metadata": {
        "colab": {
          "base_uri": "https://localhost:8080/",
          "height": 35
        },
        "id": "g2x830Vsat_f",
        "outputId": "3f150cd8-7001-4f8f-987c-1870d797816f"
      },
      "execution_count": null,
      "outputs": [
        {
          "output_type": "execute_result",
          "data": {
            "text/plain": [
              "'weniv'"
            ],
            "application/vnd.google.colaboratory.intrinsic+json": {
              "type": "string"
            }
          },
          "metadata": {},
          "execution_count": 88
        }
      ]
    },
    {
      "cell_type": "markdown",
      "source": [
        "# in 구문"
      ],
      "metadata": {
        "id": "zGZtLPLPxCt-"
      }
    },
    {
      "cell_type": "code",
      "source": [
        "# is는 is not이고 in은 not in입니다.\n",
        "10 in [10, 20, 30]"
      ],
      "metadata": {
        "colab": {
          "base_uri": "https://localhost:8080/"
        },
        "id": "J2rpoy4Sw75f",
        "outputId": "39cd4507-a80d-4ad3-92e4-692614b2eee9"
      },
      "execution_count": 4,
      "outputs": [
        {
          "output_type": "execute_result",
          "data": {
            "text/plain": [
              "True"
            ]
          },
          "metadata": {},
          "execution_count": 4
        }
      ]
    },
    {
      "cell_type": "code",
      "source": [
        "'h' in 'hello world'"
      ],
      "metadata": {
        "colab": {
          "base_uri": "https://localhost:8080/"
        },
        "id": "u4yV8iQyx3q9",
        "outputId": "a9433d2e-8523-45a5-c91c-e71218985184"
      },
      "execution_count": 5,
      "outputs": [
        {
          "output_type": "execute_result",
          "data": {
            "text/plain": [
              "True"
            ]
          },
          "metadata": {},
          "execution_count": 5
        }
      ]
    },
    {
      "cell_type": "code",
      "source": [
        "'world' in 'hello world'"
      ],
      "metadata": {
        "colab": {
          "base_uri": "https://localhost:8080/"
        },
        "id": "XXfhRKczx-fK",
        "outputId": "e67d96dc-96b3-414f-eabf-f6a86f5bb7b5"
      },
      "execution_count": 6,
      "outputs": [
        {
          "output_type": "execute_result",
          "data": {
            "text/plain": [
              "True"
            ]
          },
          "metadata": {},
          "execution_count": 6
        }
      ]
    },
    {
      "cell_type": "code",
      "source": [
        "'hell' not in 'hello world'"
      ],
      "metadata": {
        "colab": {
          "base_uri": "https://localhost:8080/"
        },
        "id": "C1Ok4lvGyNF7",
        "outputId": "36008f82-0bf4-461e-fe48-cb0f3df34ad3"
      },
      "execution_count": 7,
      "outputs": [
        {
          "output_type": "execute_result",
          "data": {
            "text/plain": [
              "False"
            ]
          },
          "metadata": {},
          "execution_count": 7
        }
      ]
    },
    {
      "cell_type": "code",
      "source": [
        "'wolf' not in 'hello world'"
      ],
      "metadata": {
        "colab": {
          "base_uri": "https://localhost:8080/"
        },
        "id": "hUMk-6WkyQAi",
        "outputId": "cf5f825e-956e-499a-943d-a8208ccbe6e4"
      },
      "execution_count": 8,
      "outputs": [
        {
          "output_type": "execute_result",
          "data": {
            "text/plain": [
              "True"
            ]
          },
          "metadata": {},
          "execution_count": 8
        }
      ]
    },
    {
      "cell_type": "code",
      "source": [
        "a = {'key1': 'value1', 'key2': 'value2'} #딕셔너리\n",
        "b = {10, 10, 20}\n",
        "10 in b # 출력: True\n",
        "{10} in b # 출력: False, 주의\n",
        "{10, 20} in b # 출력: False, 주의\n",
        "\n",
        "'key1' in a # 출력: True\n",
        "'value1' in a # 출력: False\n",
        "('key1', 'key2') in a # 출력: False\n",
        "# {'key1':'value1'} in a # error"
      ],
      "metadata": {
        "colab": {
          "base_uri": "https://localhost:8080/"
        },
        "id": "LUrOw8bryTTf",
        "outputId": "82022089-ae59-4d45-b3f1-5b1e432e9bd3"
      },
      "execution_count": 14,
      "outputs": [
        {
          "output_type": "execute_result",
          "data": {
            "text/plain": [
              "False"
            ]
          },
          "metadata": {},
          "execution_count": 14
        }
      ]
    },
    {
      "cell_type": "code",
      "source": [
        "'value1' in a.values()"
      ],
      "metadata": {
        "colab": {
          "base_uri": "https://localhost:8080/"
        },
        "id": "7PcIK6SPyky1",
        "outputId": "61b52d22-8a02-4e8a-8e15-019ef3f90282"
      },
      "execution_count": 15,
      "outputs": [
        {
          "output_type": "execute_result",
          "data": {
            "text/plain": [
              "True"
            ]
          },
          "metadata": {},
          "execution_count": 15
        }
      ]
    },
    {
      "cell_type": "markdown",
      "source": [
        "# 연산자 우선순위"
      ],
      "metadata": {
        "id": "y9YCSv--zhtZ"
      }
    },
    {
      "cell_type": "code",
      "source": [
        "-2 ** 2"
      ],
      "metadata": {
        "colab": {
          "base_uri": "https://localhost:8080/"
        },
        "id": "qwea5gI5zjCM",
        "outputId": "ea4999a7-fb03-4ff1-fe67-480d6717ef61"
      },
      "execution_count": 16,
      "outputs": [
        {
          "output_type": "execute_result",
          "data": {
            "text/plain": [
              "-4"
            ]
          },
          "metadata": {},
          "execution_count": 16
        }
      ]
    },
    {
      "cell_type": "code",
      "source": [
        "True * True and True + False"
      ],
      "metadata": {
        "colab": {
          "base_uri": "https://localhost:8080/"
        },
        "id": "JfaTU_RXz4l3",
        "outputId": "377a3d7e-74b4-48ee-aa98-5f09788d26d1"
      },
      "execution_count": 17,
      "outputs": [
        {
          "output_type": "execute_result",
          "data": {
            "text/plain": [
              "1"
            ]
          },
          "metadata": {},
          "execution_count": 17
        }
      ]
    },
    {
      "cell_type": "code",
      "source": [
        "((True * True) and (True + False))"
      ],
      "metadata": {
        "id": "SazWCXqB0Qer"
      },
      "execution_count": null,
      "outputs": []
    },
    {
      "cell_type": "code",
      "source": [
        "a = 10\n",
        "a += 10 * 100\n",
        "a"
      ],
      "metadata": {
        "colab": {
          "base_uri": "https://localhost:8080/"
        },
        "id": "ySlpXJVR0R7d",
        "outputId": "cd5823c2-87f6-44a3-a8c9-34291ab0cdda"
      },
      "execution_count": 18,
      "outputs": [
        {
          "output_type": "execute_result",
          "data": {
            "text/plain": [
              "1010"
            ]
          },
          "metadata": {},
          "execution_count": 18
        }
      ]
    },
    {
      "cell_type": "code",
      "source": [
        "# 복합 할당 연산자가 가장 나중입니다!\n",
        "a = 10\n",
        "a *= 10 + 100\n",
        "a"
      ],
      "metadata": {
        "colab": {
          "base_uri": "https://localhost:8080/"
        },
        "id": "DB9z2eWv0dqR",
        "outputId": "58f2ee1d-9615-4766-a1df-2d96aec25d3a"
      },
      "execution_count": 20,
      "outputs": [
        {
          "output_type": "execute_result",
          "data": {
            "text/plain": [
              "1100"
            ]
          },
          "metadata": {},
          "execution_count": 20
        }
      ]
    },
    {
      "cell_type": "code",
      "source": [
        "# a가 30이 될 것 같지만\n",
        "# 오류가 나는 문법입니다!\n",
        "a = 10\n",
        "a = a += 20"
      ],
      "metadata": {
        "colab": {
          "base_uri": "https://localhost:8080/",
          "height": 145
        },
        "id": "gB4YWYRq03gz",
        "outputId": "d1658730-302f-497a-e108-222a603593e5"
      },
      "execution_count": 22,
      "outputs": [
        {
          "output_type": "error",
          "ename": "SyntaxError",
          "evalue": "ignored",
          "traceback": [
            "\u001b[0;36m  File \u001b[0;32m\"<ipython-input-22-ff0a0e90b9ba>\"\u001b[0;36m, line \u001b[0;32m2\u001b[0m\n\u001b[0;31m    a = a += 20\u001b[0m\n\u001b[0m          ^\u001b[0m\n\u001b[0;31mSyntaxError\u001b[0m\u001b[0;31m:\u001b[0m invalid syntax\n"
          ]
        }
      ]
    },
    {
      "cell_type": "markdown",
      "source": [
        "# 연습문제"
      ],
      "metadata": {
        "id": "-ZFoaJhB1Qtt"
      }
    },
    {
      "cell_type": "code",
      "source": [
        "# 배우신 분들\n",
        "# 그리디 알고리즘입니다.\n",
        "# 10000원짜리를 들고가서 1500원짜리 월드콘을 사먹었습니다. 거스름돈을 가장 적게 줄 수 있는 코드를 작성하세요.\n",
        "\n",
        "거스름돈 = 10000 - 1500\n",
        "print(거스름돈 // 5000, '5000원')\n",
        "거스름돈 = 거스름돈 % 5000\n",
        "\n",
        "print(거스름돈 // 1000, '1000원')\n",
        "거스름돈 = 거스름돈 % 1000\n",
        "\n",
        "print(거스름돈 // 500, '500원')\n",
        "거스름돈 = 거스름돈 % 500\n",
        "\n",
        "print(거스름돈 // 100, '100원')\n",
        "거스름돈 = 거스름돈 % 100"
      ],
      "metadata": {
        "colab": {
          "base_uri": "https://localhost:8080/"
        },
        "id": "XH3PFQ5U1Roz",
        "outputId": "2d85d0a8-7f5d-4408-e3a7-5e92f7f0d09f"
      },
      "execution_count": 23,
      "outputs": [
        {
          "output_type": "stream",
          "name": "stdout",
          "text": [
            "1 5000원\n",
            "3 1000원\n",
            "1 500원\n",
            "0 100원\n"
          ]
        }
      ]
    },
    {
      "cell_type": "markdown",
      "source": [
        "# 함수"
      ],
      "metadata": {
        "id": "2rHnOoGC3au5"
      }
    },
    {
      "cell_type": "code",
      "source": [
        "def 부지매입():\n",
        "    pass\n",
        "\n",
        "def 설계도면작성():\n",
        "    pass\n",
        "\n",
        "def 인력모집():\n",
        "    pass\n",
        "\n",
        "def 벽돌쌓기():\n",
        "    pass\n",
        "\n",
        "def 지붕올리기():\n",
        "    pass\n",
        "\n",
        "부지매입()\n",
        "설계도면작성()\n",
        "인력모집()\n",
        "벽돌쌓기()\n",
        "지붕올리기()"
      ],
      "metadata": {
        "id": "vhar8hww3aAO"
      },
      "execution_count": null,
      "outputs": []
    },
    {
      "cell_type": "code",
      "source": [
        "# 들여쓰기\n",
        "# print와 return은 헷갈리시면 안됩니다.\n",
        "def printnum(): # 함수의 정의\n",
        "    print('1')\n",
        "    print('2')\n",
        "    print('3')\n",
        "\n",
        "a = printnum() # 함수의 호출\n",
        "print(a)"
      ],
      "metadata": {
        "colab": {
          "base_uri": "https://localhost:8080/"
        },
        "id": "bU3iYNRH6MFK",
        "outputId": "741fa274-a4ec-47f5-8664-ec8647d5d944"
      },
      "execution_count": 24,
      "outputs": [
        {
          "output_type": "stream",
          "name": "stdout",
          "text": [
            "1\n",
            "2\n",
            "3\n",
            "None\n"
          ]
        }
      ]
    },
    {
      "cell_type": "code",
      "source": [
        "# 들여쓰기\n",
        "# print와 return은 헷갈리시면 안됩니다.\n",
        "def printnum(): # 함수의 정의\n",
        "    print('1')\n",
        "    print('2')\n",
        "    print('3')\n",
        "    return None\n",
        "\n",
        "a = printnum() # 함수의 호출\n",
        "print(a)"
      ],
      "metadata": {
        "id": "_obq9OvE6frT"
      },
      "execution_count": null,
      "outputs": []
    },
    {
      "cell_type": "code",
      "source": [
        "def printnum():\n",
        "    print('1')\n",
        "    print('2')\n",
        "print('3')\n",
        "printnum()"
      ],
      "metadata": {
        "colab": {
          "base_uri": "https://localhost:8080/"
        },
        "id": "PxIULLpg60gj",
        "outputId": "4882bab7-43d1-4b20-add7-bdd0c37819f0"
      },
      "execution_count": 25,
      "outputs": [
        {
          "output_type": "stream",
          "name": "stdout",
          "text": [
            "3\n",
            "1\n",
            "2\n"
          ]
        }
      ]
    },
    {
      "cell_type": "code",
      "source": [
        "# 함수의 종료 구분은 들여쓰기 기준이며\n",
        "# return으로도 구분이 됩니다.\n",
        "def printnum():\n",
        "    print('1')\n",
        "    print('2')\n",
        "print('3')\n",
        "print(printnum())"
      ],
      "metadata": {
        "colab": {
          "base_uri": "https://localhost:8080/"
        },
        "id": "j4EnjV2M7LG1",
        "outputId": "b8259357-c0a7-4225-eb7e-b40af9ba16fb"
      },
      "execution_count": 26,
      "outputs": [
        {
          "output_type": "stream",
          "name": "stdout",
          "text": [
            "3\n",
            "1\n",
            "2\n",
            "None\n"
          ]
        }
      ]
    },
    {
      "cell_type": "code",
      "source": [
        "# 함수의 종료 구분은 들여쓰기 기준이며\n",
        "# return으로도 구분이 됩니다.\n",
        "def printnum():\n",
        "    print('1')\n",
        "    return\n",
        "    print('2')\n",
        "print('3')\n",
        "print(printnum())"
      ],
      "metadata": {
        "colab": {
          "base_uri": "https://localhost:8080/"
        },
        "id": "jae7t3b-_SPe",
        "outputId": "c12a972f-1b65-410a-9655-6f3c9c637faf"
      },
      "execution_count": 39,
      "outputs": [
        {
          "output_type": "stream",
          "name": "stdout",
          "text": [
            "3\n",
            "1\n",
            "None\n"
          ]
        }
      ]
    },
    {
      "cell_type": "code",
      "source": [
        "# 출력값이 다르다는 것은 꼭 기억해주세요!\n",
        "print(type(printnum)) # __str__\n",
        "type(printnum) # __repr__"
      ],
      "metadata": {
        "colab": {
          "base_uri": "https://localhost:8080/"
        },
        "id": "6_QX7oSN7SJ7",
        "outputId": "17ee0fb2-e674-49c4-d347-84fed85d09ed"
      },
      "execution_count": 30,
      "outputs": [
        {
          "output_type": "stream",
          "name": "stdout",
          "text": [
            "<class 'function'>\n"
          ]
        },
        {
          "output_type": "execute_result",
          "data": {
            "text/plain": [
              "['__annotations__',\n",
              " '__builtins__',\n",
              " '__call__',\n",
              " '__class__',\n",
              " '__closure__',\n",
              " '__code__',\n",
              " '__defaults__',\n",
              " '__delattr__',\n",
              " '__dict__',\n",
              " '__dir__',\n",
              " '__doc__',\n",
              " '__eq__',\n",
              " '__format__',\n",
              " '__ge__',\n",
              " '__get__',\n",
              " '__getattribute__',\n",
              " '__globals__',\n",
              " '__gt__',\n",
              " '__hash__',\n",
              " '__init__',\n",
              " '__init_subclass__',\n",
              " '__kwdefaults__',\n",
              " '__le__',\n",
              " '__lt__',\n",
              " '__module__',\n",
              " '__name__',\n",
              " '__ne__',\n",
              " '__new__',\n",
              " '__qualname__',\n",
              " '__reduce__',\n",
              " '__reduce_ex__',\n",
              " '__repr__',\n",
              " '__setattr__',\n",
              " '__sizeof__',\n",
              " '__str__',\n",
              " '__subclasshook__']"
            ]
          },
          "metadata": {},
          "execution_count": 30
        }
      ]
    },
    {
      "cell_type": "code",
      "source": [
        "# None은 출력되지 않습니다.\n",
        "a = None\n",
        "a"
      ],
      "metadata": {
        "id": "7xDOUn97S_zN"
      },
      "execution_count": 14,
      "outputs": []
    },
    {
      "cell_type": "code",
      "source": [
        "# 파선아실\n",
        "def function(x, y):\n",
        "    z = x + y\n",
        "    return z\n",
        "print('function(5, 7) = ', function(5, 7))"
      ],
      "metadata": {
        "colab": {
          "base_uri": "https://localhost:8080/"
        },
        "id": "l_nw8v_H7511",
        "outputId": "70da8271-d1c4-4710-c6ba-aee2cf3dc863"
      },
      "execution_count": 33,
      "outputs": [
        {
          "output_type": "stream",
          "name": "stdout",
          "text": [
            "function(5, 7)= 12\n"
          ]
        }
      ]
    },
    {
      "cell_type": "code",
      "source": [
        "# 함수 안에 함수\n",
        "def f():\n",
        "    def ff():\n",
        "        return 100\n",
        "    x = ff()\n",
        "    return x\n",
        "\n",
        "f()\n",
        "# ff() # 함수 내부에서 선언한 변수와 함수 내부에서 선언된 함수는 밖에서 호출할 수 없습니다."
      ],
      "metadata": {
        "colab": {
          "base_uri": "https://localhost:8080/"
        },
        "id": "B-8FJ6pS8C3p",
        "outputId": "a4db83aa-5f4a-4e4e-80c3-618bed7e1cee"
      },
      "execution_count": 36,
      "outputs": [
        {
          "output_type": "execute_result",
          "data": {
            "text/plain": [
              "100"
            ]
          },
          "metadata": {},
          "execution_count": 36
        }
      ]
    },
    {
      "cell_type": "code",
      "source": [
        "# 함수를 아규먼트로 전달\n",
        "def f(a, b):\n",
        "    return a + b\n",
        "\n",
        "def ff(a):\n",
        "    return a(10, 20)\n",
        "\n",
        "ff(f)"
      ],
      "metadata": {
        "id": "x1AsP0dm89Kx"
      },
      "execution_count": null,
      "outputs": []
    },
    {
      "cell_type": "code",
      "source": [
        "# def f():\n",
        "#     pass\n",
        "\n",
        "# def f():\n",
        "#     pass\n",
        "#     return None\n",
        "\n",
        "def f():\n",
        "    pass # pass는 종료가 아니라 없는 것으로 취급합니다. 그럼 pass를 왜 쓰죠?\n",
        "    print(10)\n",
        "\n",
        "f()"
      ],
      "metadata": {
        "colab": {
          "base_uri": "https://localhost:8080/"
        },
        "id": "PG3qWi2K9m1a",
        "outputId": "bc5262dd-6d41-4ed6-9ad4-cb7f74cb5df7"
      },
      "execution_count": 37,
      "outputs": [
        {
          "output_type": "stream",
          "name": "stdout",
          "text": [
            "10\n"
          ]
        }
      ]
    },
    {
      "cell_type": "code",
      "source": [
        "# 이게 error기 때문에 pass를 사용합니다.\n",
        "# def hit():\n",
        "\n",
        "# def move():\n",
        "\n",
        "# def heal():"
      ],
      "metadata": {
        "id": "XxOGgJ8t-Om9"
      },
      "execution_count": null,
      "outputs": []
    },
    {
      "cell_type": "code",
      "source": [
        "# 이게 error기 때문에 pass를 사용합니다.\n",
        "def hit():\n",
        "    pass\n",
        "\n",
        "def move():\n",
        "    pass\n",
        "\n",
        "def heal():\n",
        "    pass"
      ],
      "metadata": {
        "id": "gr9li_2e-g2e"
      },
      "execution_count": null,
      "outputs": []
    },
    {
      "cell_type": "code",
      "source": [
        "# return을 사용해도 되는데 왜 pass죠?\n",
        "# pass를 사용했을 때 나중에 개발될 것이라는 표시를 해놓는 것과 같습니다.\n",
        "# 글자수도 2자가 더 짧고 타이핑이 빠릅니다.(속도감이 있습니다. 속도감 무시하지 마세요. python에서 속도감 중요합니다.)\n",
        "def hit():\n",
        "    return\n",
        "\n",
        "def move():\n",
        "    return\n",
        "\n",
        "def heal():\n",
        "    return"
      ],
      "metadata": {
        "id": "CotqP8BL-lUr"
      },
      "execution_count": null,
      "outputs": []
    },
    {
      "cell_type": "code",
      "source": [
        "def f(a, b, c):\n",
        "    print(a, b, c)\n",
        "\n",
        "# f() # error\n",
        "# f(100, 10) # error\n",
        "f(a=100, b=200, c=300)\n",
        "f(c=300, a=100, b=200)"
      ],
      "metadata": {
        "colab": {
          "base_uri": "https://localhost:8080/"
        },
        "id": "Bs3qGLxn_Kzq",
        "outputId": "ae010ade-ab12-46fc-d3d1-d9801e123c91"
      },
      "execution_count": 40,
      "outputs": [
        {
          "output_type": "stream",
          "name": "stdout",
          "text": [
            "100 200 300\n",
            "100 200 300\n"
          ]
        }
      ]
    },
    {
      "cell_type": "code",
      "source": [
        "def f(a=10, b=20, c=30):\n",
        "    print(a, b, c)\n",
        "\n",
        "f()\n",
        "f(100, 10)\n",
        "f(a=100, b=200, c=300)\n",
        "f(c=300, a=100, b=200)"
      ],
      "metadata": {
        "id": "Ylv42R-O892p"
      },
      "execution_count": null,
      "outputs": []
    },
    {
      "cell_type": "code",
      "source": [
        "# 기본값이 없는 것들은 앞에 배치해야 합니다!\n",
        "def f(a=10, b=20, c): # 이 코드는 가능하지 않습니다.\n",
        "    print(a, b, c)\n",
        "\n",
        "def f(a, b=20, c=30): # 이 코드는 가능합니다.\n",
        "    print(a, b, c)"
      ],
      "metadata": {
        "id": "9yQ4DNhdA2ey"
      },
      "execution_count": 42,
      "outputs": []
    },
    {
      "cell_type": "code",
      "source": [
        "def f(a, b=20, c=30): # 이 코드는 가능합니다.\n",
        "    print(a, b, c)\n",
        "\n",
        "# f() # error\n",
        "# f(100, 10)\n",
        "# f(a=100, b=200, c=300)\n",
        "# f(c=300, a=100, b=200)\n",
        "# f(c=300) # error"
      ],
      "metadata": {
        "id": "JesFFPQsA_iN"
      },
      "execution_count": null,
      "outputs": []
    },
    {
      "cell_type": "code",
      "source": [
        "# a와 b를 더한 값과 a와 b를 뺀 값을 곱하는 함수를 만들어주세요.\n",
        "a = 2\n",
        "b = 3\n",
        "# (2 + 3) * (2 - 3) = -5가 출력이 되어야 합니다.\n",
        "# 조건1: a가 입력되지 않으면 0이 입력됩니다.\n",
        "# 조건2: b가 입력되지 않으면 0이 입력됩니다."
      ],
      "metadata": {
        "id": "0d42gK5NB57X"
      },
      "execution_count": 47,
      "outputs": []
    },
    {
      "cell_type": "code",
      "source": [
        "a = 2\n",
        "b = 3\n",
        "\n",
        "def multiple (x=0, y=0):\n",
        "    return x * y\n",
        "\n",
        "def plus (x=0, y=0):\n",
        "    return x + y\n",
        "\n",
        "def minus (x=0, y=0):\n",
        "    return x - y\n",
        "\n",
        "multiple(plus(a,b), minus(a,b))"
      ],
      "metadata": {
        "id": "yyYXkDXXCNQi"
      },
      "execution_count": null,
      "outputs": []
    },
    {
      "cell_type": "code",
      "source": [
        "# 지역변수와 전역변수\n",
        "def f():\n",
        "    inner_value = 100\n",
        "\n",
        "print(inner_value)"
      ],
      "metadata": {
        "id": "yrJdtUktD5Mr"
      },
      "execution_count": null,
      "outputs": []
    },
    {
      "cell_type": "code",
      "source": [
        "x = 100\n",
        "def f():\n",
        "    print(x)\n",
        "\n",
        "f()"
      ],
      "metadata": {
        "colab": {
          "base_uri": "https://localhost:8080/"
        },
        "id": "Z085ESW2EBGc",
        "outputId": "f589b994-7126-4f9b-cd20-5e60bc327100"
      },
      "execution_count": 49,
      "outputs": [
        {
          "output_type": "stream",
          "name": "stdout",
          "text": [
            "100\n"
          ]
        }
      ]
    },
    {
      "cell_type": "code",
      "source": [
        "x = 100\n",
        "def f():\n",
        "    y = x + x\n",
        "    return y\n",
        "\n",
        "f()"
      ],
      "metadata": {
        "colab": {
          "base_uri": "https://localhost:8080/"
        },
        "id": "dePJtNOcEPY8",
        "outputId": "c20562c7-657d-4517-d2da-db04a97a5a98"
      },
      "execution_count": 56,
      "outputs": [
        {
          "output_type": "execute_result",
          "data": {
            "text/plain": [
              "200"
            ]
          },
          "metadata": {},
          "execution_count": 56
        }
      ]
    },
    {
      "cell_type": "code",
      "source": [
        "x = 100\n",
        "def f():\n",
        "    x = 200\n",
        "    return x\n",
        "\n",
        "f()\n",
        "print(x)"
      ],
      "metadata": {
        "colab": {
          "base_uri": "https://localhost:8080/"
        },
        "id": "jfd7jiw6ETbp",
        "outputId": "33fd9b27-344c-4375-bc6c-08b96b962b0b"
      },
      "execution_count": 51,
      "outputs": [
        {
          "output_type": "stream",
          "name": "stdout",
          "text": [
            "100\n"
          ]
        }
      ]
    },
    {
      "cell_type": "code",
      "source": [
        "# global 사용후\n",
        "a = 100\n",
        "def f():\n",
        "    global a\n",
        "    a = a + 1\n",
        "f()"
      ],
      "metadata": {
        "id": "aC0kFmsWE4QF"
      },
      "execution_count": 52,
      "outputs": []
    },
    {
      "cell_type": "code",
      "source": [
        "a"
      ],
      "metadata": {
        "colab": {
          "base_uri": "https://localhost:8080/"
        },
        "id": "JjJ0xQ_kFQVv",
        "outputId": "649f7d2f-102b-4edb-fe2c-f286d7eebca4"
      },
      "execution_count": 53,
      "outputs": [
        {
          "output_type": "execute_result",
          "data": {
            "text/plain": [
              "101"
            ]
          },
          "metadata": {},
          "execution_count": 53
        }
      ]
    },
    {
      "cell_type": "code",
      "source": [
        "a = 100\n",
        "def f():\n",
        "    a = a + 1 # error\n",
        "    return a\n",
        "f()"
      ],
      "metadata": {
        "id": "3rJgCGuqIBte"
      },
      "execution_count": null,
      "outputs": []
    },
    {
      "cell_type": "code",
      "source": [
        "a = 100\n",
        "def f():\n",
        "    b = a + 1 # 실행됩니다.\n",
        "    return b\n",
        "f()"
      ],
      "metadata": {
        "colab": {
          "base_uri": "https://localhost:8080/"
        },
        "id": "wjFD18ufIXDP",
        "outputId": "1e80b6fd-f1ad-4074-da96-1dc8ef0b74b8"
      },
      "execution_count": 57,
      "outputs": [
        {
          "output_type": "execute_result",
          "data": {
            "text/plain": [
              "101"
            ]
          },
          "metadata": {},
          "execution_count": 57
        }
      ]
    },
    {
      "cell_type": "code",
      "source": [
        "a = 10\n",
        "def f():\n",
        "    a = 100\n",
        "    print(a)\n",
        "    def ff():\n",
        "        a = 1000\n",
        "        print(a)\n",
        "        def fff():\n",
        "            a = 10000\n",
        "            print(a)\n",
        "        fff()\n",
        "    ff()\n",
        "f()\n",
        "print(a)"
      ],
      "metadata": {
        "colab": {
          "base_uri": "https://localhost:8080/"
        },
        "id": "mXYr6uf-Ifcq",
        "outputId": "9bcae042-92a3-4ea1-818f-0129ac555e24"
      },
      "execution_count": 59,
      "outputs": [
        {
          "output_type": "stream",
          "name": "stdout",
          "text": [
            "100\n",
            "1000\n",
            "10000\n",
            "10\n"
          ]
        }
      ]
    },
    {
      "cell_type": "code",
      "source": [
        "# global을 하면 함수가 얼만큼 중첩되어 있건 최상단에 있는 a를 바라봅니다.\n",
        "a = 10\n",
        "def f():\n",
        "    a = 100\n",
        "    print(a)\n",
        "    def ff():\n",
        "        a = 1000\n",
        "        print(a)\n",
        "        def fff():\n",
        "            global a\n",
        "            print(a)\n",
        "        fff()\n",
        "    ff()\n",
        "f()\n",
        "print(a)"
      ],
      "metadata": {
        "colab": {
          "base_uri": "https://localhost:8080/"
        },
        "id": "zQauXI87I-R0",
        "outputId": "7389e955-e4c3-45de-c5b3-c67ecbd34cde"
      },
      "execution_count": 60,
      "outputs": [
        {
          "output_type": "stream",
          "name": "stdout",
          "text": [
            "100\n",
            "1000\n",
            "10\n",
            "10\n"
          ]
        }
      ]
    },
    {
      "cell_type": "code",
      "source": [
        "# global을 사용하지 않고 중첩된 함수 내에서 a를 출력하게 되면 바로 위 함수의 a를 출력합니다.\n",
        "a = 10\n",
        "def f():\n",
        "    a = 100\n",
        "    print(a)\n",
        "    def ff():\n",
        "        a = 1000\n",
        "        print(a)\n",
        "        def fff():\n",
        "            print(a)\n",
        "        fff()\n",
        "    ff()\n",
        "f()\n",
        "print(a)"
      ],
      "metadata": {
        "colab": {
          "base_uri": "https://localhost:8080/"
        },
        "id": "yTFbQHihJPwF",
        "outputId": "5f541006-ee01-438a-dca4-d6dcbc49bd4f"
      },
      "execution_count": 61,
      "outputs": [
        {
          "output_type": "stream",
          "name": "stdout",
          "text": [
            "100\n",
            "1000\n",
            "1000\n",
            "10\n"
          ]
        }
      ]
    },
    {
      "cell_type": "code",
      "source": [
        "# nonlocal\n",
        "a = 10\n",
        "def f():\n",
        "    a = 100\n",
        "    print(f'f a: {a}')\n",
        "    def ff():\n",
        "        a = 1000\n",
        "        print(f'ff a: {a}')\n",
        "        def fff():\n",
        "            nonlocal a\n",
        "            a = 100\n",
        "            print(f'fff a: {a}')\n",
        "        fff()\n",
        "        print(f'ff a: {a}')\n",
        "    ff()\n",
        "f()\n",
        "print(f'global a: {a}')"
      ],
      "metadata": {
        "colab": {
          "base_uri": "https://localhost:8080/"
        },
        "id": "wzg99Yu8JkCM",
        "outputId": "993a06e6-d821-4851-b8de-95e878941c73"
      },
      "execution_count": 65,
      "outputs": [
        {
          "output_type": "stream",
          "name": "stdout",
          "text": [
            "f a: 100\n",
            "ff a: 1000\n",
            "fff a: 100\n",
            "ff a: 100\n",
            "global a: 10\n"
          ]
        }
      ]
    },
    {
      "cell_type": "code",
      "source": [
        "# sys.setrecursionlimit -> 제한을 늘릴 수 있음\n",
        "# 실행하지 마세요! 저만 실행합니다!\n",
        "def 숫자출력():\n",
        "    print(1)\n",
        "    return 숫자출력()\n",
        "숫자출력()"
      ],
      "metadata": {
        "id": "O9w64hbTKLso"
      },
      "execution_count": null,
      "outputs": []
    },
    {
      "cell_type": "code",
      "source": [
        "#sys.setrecursionlimit -> 제한을 늘릴 수 있음\n",
        "def 숫자출력(count):\n",
        "    if count > 100:\n",
        "        return\n",
        "    print(count)\n",
        "    return 숫자출력(count+1) #값을 1부터 반복횟수 까지의 값을 출력\n",
        "\n",
        "숫자출력(1)"
      ],
      "metadata": {
        "id": "ZFHNxEJ0KpYO"
      },
      "execution_count": null,
      "outputs": []
    },
    {
      "cell_type": "code",
      "source": [
        "# 재귀함수는 사용하지 마세요!(주니어때)\n",
        "# 위험하고 일부 효율이 좋지 않습니다.\n",
        "# 반복문 <-> 재귀는 서로 상호 호환이 가능합니다.\n",
        "# 반복문 사용하세요!"
      ],
      "metadata": {
        "id": "AKyCHpvfK3Vr"
      },
      "execution_count": null,
      "outputs": []
    },
    {
      "cell_type": "code",
      "source": [
        "# 상식 수준에서 다음 재귀는 외우셨으면 좋겠습니다.\n",
        "# 1. 팩토리얼\n",
        "# 2. 문자열 뒤집기"
      ],
      "metadata": {
        "id": "4MTAA8HxLN6N"
      },
      "execution_count": null,
      "outputs": []
    },
    {
      "cell_type": "code",
      "source": [
        "def factorial(n):\n",
        "    if n <= 1:\n",
        "        return 1\n",
        "    return n * factorial(n-1)\n",
        "\n",
        "factorial(5)\n",
        "\n",
        "'''\n",
        "함수 호출       return\n",
        "factorial(n)    n * factorial(n-1)\n",
        "factorial(5)    5 * factorial(4)    == 5 * 24\n",
        "factorial(4)    4 * factorial(3)    == 4 * 6\n",
        "factorial(3)    3 * factorial(2)    == 3 * 2\n",
        "factorial(2)    2 * factorial(1)    == 2 * 1\n",
        "factorial(1)    1\n",
        "'''"
      ],
      "metadata": {
        "colab": {
          "base_uri": "https://localhost:8080/"
        },
        "id": "3ucI5AaQLZD4",
        "outputId": "51db82eb-1f01-49d1-b9b8-8742d10b54db"
      },
      "execution_count": 2,
      "outputs": [
        {
          "output_type": "execute_result",
          "data": {
            "text/plain": [
              "120"
            ]
          },
          "metadata": {},
          "execution_count": 2
        }
      ]
    },
    {
      "cell_type": "code",
      "source": [
        "s = 'hello world'\n",
        "print(s[1:] + s[0])\n",
        "s = s[1:]"
      ],
      "metadata": {
        "colab": {
          "base_uri": "https://localhost:8080/"
        },
        "id": "J5qyRvHaOch6",
        "outputId": "eb207b2c-2cb4-4ec0-f923-9298b64913db"
      },
      "execution_count": 7,
      "outputs": [
        {
          "output_type": "stream",
          "name": "stdout",
          "text": [
            "ello worldh\n",
            "llo worlde\n",
            "lo worldl\n",
            "o worldl\n"
          ]
        }
      ]
    },
    {
      "cell_type": "code",
      "source": [
        "def reversed_str(s):\n",
        "    if len(s) <= 1:\n",
        "        return s\n",
        "    return reversed_str(s[1:]) + s[0]\n",
        "\n",
        "reversed_str('hello')\n",
        "\n",
        "'''\n",
        "함수 호출               return\n",
        "reversed_str(s)         reversed_str(s[1:]) + s[0]\n",
        "reversed_str('hello')   reversed_str('ello') + 'h'  == 'olle' + 'h'\n",
        "reversed_str('ello')    reversed_str('llo') + 'e'   == 'oll' + 'e'\n",
        "reversed_str('llo')     reversed_str('lo') + 'l'    == 'ol' + 'l'\n",
        "reversed_str('lo')      reversed_str('o') + 'l'     == 'o' + 'l'\n",
        "reversed_str('o')       'o'                         == 'o'\n",
        "'''"
      ],
      "metadata": {
        "colab": {
          "base_uri": "https://localhost:8080/",
          "height": 35
        },
        "id": "Z8SjutS1OKcK",
        "outputId": "217ef821-f0bd-4cd9-828d-c3fba7a53a67"
      },
      "execution_count": 9,
      "outputs": [
        {
          "output_type": "execute_result",
          "data": {
            "text/plain": [
              "'dlrow olleh'"
            ],
            "application/vnd.google.colaboratory.intrinsic+json": {
              "type": "string"
            }
          },
          "metadata": {},
          "execution_count": 9
        }
      ]
    },
    {
      "cell_type": "code",
      "source": [
        "# 반복문을 아직 안배웠지만 간단하게 된다는 것을 보여드리기 위함입니다!\n",
        "n = 5\n",
        "result = 1\n",
        "for i in range(1, n+1):\n",
        "    result *= i\n",
        "result"
      ],
      "metadata": {
        "colab": {
          "base_uri": "https://localhost:8080/"
        },
        "id": "m0bV-J4gSAZl",
        "outputId": "93f1dad8-5950-4165-aaaf-586866aa1f65"
      },
      "execution_count": 10,
      "outputs": [
        {
          "output_type": "execute_result",
          "data": {
            "text/plain": [
              "120"
            ]
          },
          "metadata": {},
          "execution_count": 10
        }
      ]
    },
    {
      "cell_type": "code",
      "source": [
        "# 문자열 뒤집기\n",
        "s = 'hello'\n",
        "result = ''\n",
        "\n",
        "for i in s:\n",
        "    result = i + result\n",
        "    print(result)\n",
        "\n",
        "result"
      ],
      "metadata": {
        "colab": {
          "base_uri": "https://localhost:8080/",
          "height": 124
        },
        "id": "G2v3OW1YSMQT",
        "outputId": "8ce42515-2127-4580-c25f-939e26ee049a"
      },
      "execution_count": 12,
      "outputs": [
        {
          "output_type": "stream",
          "name": "stdout",
          "text": [
            "h\n",
            "eh\n",
            "leh\n",
            "lleh\n",
            "olleh\n"
          ]
        },
        {
          "output_type": "execute_result",
          "data": {
            "text/plain": [
              "'olleh'"
            ],
            "application/vnd.google.colaboratory.intrinsic+json": {
              "type": "string"
            }
          },
          "metadata": {},
          "execution_count": 12
        }
      ]
    },
    {
      "cell_type": "markdown",
      "source": [
        "# 함수 나아가기"
      ],
      "metadata": {
        "id": "O9WabXaUSmm-"
      }
    },
    {
      "cell_type": "code",
      "source": [
        "'hello world'    .upper()      .replace(' ', '')     .lower()"
      ],
      "metadata": {
        "colab": {
          "base_uri": "https://localhost:8080/",
          "height": 35
        },
        "id": "ixIV_CsUmiHY",
        "outputId": "9a4b30b1-66df-474b-ec83-8c3444b444db"
      },
      "execution_count": 18,
      "outputs": [
        {
          "output_type": "execute_result",
          "data": {
            "text/plain": [
              "'helloworld'"
            ],
            "application/vnd.google.colaboratory.intrinsic+json": {
              "type": "string"
            }
          },
          "metadata": {},
          "execution_count": 18
        }
      ]
    },
    {
      "cell_type": "code",
      "source": [
        "'hello world'\\\n",
        "        .upper()\\\n",
        "        .replace(' ', '')\\\n",
        "        .lower()"
      ],
      "metadata": {
        "id": "ibOI4lrcnI4j"
      },
      "execution_count": null,
      "outputs": []
    },
    {
      "cell_type": "code",
      "source": [
        "def f():\n",
        "    x = 'hello world'\\\n",
        ".upper()\\\n",
        ".replace(' ', '')\\\n",
        ".lower()\n",
        "    return x\n",
        "\n",
        "f()"
      ],
      "metadata": {
        "colab": {
          "base_uri": "https://localhost:8080/",
          "height": 35
        },
        "id": "RN06cX3Cmutm",
        "outputId": "60aef963-29cf-47d4-9c59-90c1e89ca8c0"
      },
      "execution_count": 21,
      "outputs": [
        {
          "output_type": "execute_result",
          "data": {
            "text/plain": [
              "'helloworld'"
            ],
            "application/vnd.google.colaboratory.intrinsic+json": {
              "type": "string"
            }
          },
          "metadata": {},
          "execution_count": 21
        }
      ]
    },
    {
      "cell_type": "code",
      "source": [
        "def f():\n",
        "    x = 'hello world'\\\n",
        "                .upper()\\\n",
        "                .replace(' ', '')\\\n",
        "                .lower()\n",
        "    return x\n",
        "\n",
        "f()"
      ],
      "metadata": {
        "id": "zkuYNKsVnGJG"
      },
      "execution_count": null,
      "outputs": []
    },
    {
      "cell_type": "code",
      "source": [
        "# 여러개의 값 반환하기\n",
        "\n",
        "def f():\n",
        "    a = 10\n",
        "    b = 20\n",
        "    c = 30\n",
        "    return a, b, c\n",
        "\n",
        "f()"
      ],
      "metadata": {
        "colab": {
          "base_uri": "https://localhost:8080/"
        },
        "id": "gBFpPfHPSoeI",
        "outputId": "3f4787d8-9d9c-4086-9a2f-493e4531a831"
      },
      "execution_count": 15,
      "outputs": [
        {
          "output_type": "execute_result",
          "data": {
            "text/plain": [
              "(10, 20, 30)"
            ]
          },
          "metadata": {},
          "execution_count": 15
        }
      ]
    },
    {
      "cell_type": "code",
      "source": [
        "print() # built-in function\n",
        "\n",
        "def f(): # function\n",
        "    pass\n",
        "\n",
        "# 여기서 print와 f는 변수입니다.\n",
        "# 변수는 가리키는 것입니다.\n",
        "leehojun = print\n",
        "leehojun('hello world')"
      ],
      "metadata": {
        "colab": {
          "base_uri": "https://localhost:8080/"
        },
        "id": "PaOdnuMynOpc",
        "outputId": "9ca53568-f52f-4a44-cac6-468306e9862b"
      },
      "execution_count": 22,
      "outputs": [
        {
          "output_type": "stream",
          "name": "stdout",
          "text": [
            "\n",
            "hello world\n"
          ]
        }
      ]
    },
    {
      "cell_type": "code",
      "source": [
        "# 변수처럼 아래처럼 관리할 수 있습니다.\n",
        "x = 10\n",
        "y = 20\n",
        "l = [x, y]\n",
        "\n",
        "def add(x, y):\n",
        "    return x + y\n",
        "\n",
        "def sub(x, y):\n",
        "    return x - y\n",
        "\n",
        "ll = [add, sub]\n",
        "ll[0](10, 20) # add(10, 20)과 같습니다."
      ],
      "metadata": {
        "colab": {
          "base_uri": "https://localhost:8080/"
        },
        "id": "4Rl6_uDbnem4",
        "outputId": "f76bec11-60a1-44a5-fa64-5196a6c28345"
      },
      "execution_count": 23,
      "outputs": [
        {
          "output_type": "execute_result",
          "data": {
            "text/plain": [
              "30"
            ]
          },
          "metadata": {},
          "execution_count": 23
        }
      ]
    },
    {
      "cell_type": "code",
      "source": [
        "test = lambda x:x**2\n",
        "test(10)\n",
        "\n",
        "def test2(x):\n",
        "    return x ** 2"
      ],
      "metadata": {
        "colab": {
          "base_uri": "https://localhost:8080/"
        },
        "id": "3zpxPumponDP",
        "outputId": "73a4939e-8c93-4144-c721-e70b583f4173"
      },
      "execution_count": 25,
      "outputs": [
        {
          "output_type": "execute_result",
          "data": {
            "text/plain": [
              "100"
            ]
          },
          "metadata": {},
          "execution_count": 25
        }
      ]
    },
    {
      "cell_type": "code",
      "source": [
        "# 매우 중요!\n",
        "add2 = lambda x, y:x + y\n",
        "sub2 = lambda x, y:x + y\n",
        "add2(10, 20)"
      ],
      "metadata": {
        "colab": {
          "base_uri": "https://localhost:8080/"
        },
        "id": "nul76Rrgn6K3",
        "outputId": "7f6be4ac-a929-4267-ec7f-970260ecbb39"
      },
      "execution_count": 24,
      "outputs": [
        {
          "output_type": "execute_result",
          "data": {
            "text/plain": [
              "30"
            ]
          },
          "metadata": {},
          "execution_count": 24
        }
      ]
    },
    {
      "cell_type": "code",
      "source": [
        "x = map(int, '1234')\n",
        "\n",
        "for i in x:\n",
        "    print(i)\n",
        "\n",
        "for i in x: # 더이상 순회가 안됩니다! 이 이유에 대해서는 뒤에서 진행하겠습니다.\n",
        "    print(i)"
      ],
      "metadata": {
        "colab": {
          "base_uri": "https://localhost:8080/"
        },
        "id": "YVj8SnRGoXAX",
        "outputId": "16484f3c-534e-4416-d659-689e069f0182"
      },
      "execution_count": 27,
      "outputs": [
        {
          "output_type": "stream",
          "name": "stdout",
          "text": [
            "1\n",
            "2\n",
            "3\n",
            "4\n"
          ]
        }
      ]
    },
    {
      "cell_type": "code",
      "source": [
        "x = map(int, '1234')\n",
        "# 1번째 수행 int('1')\n",
        "# 2번째 수행 int('2')\n",
        "# 3번째 수행 int('3')\n",
        "# 4번째 수행 int('4')"
      ],
      "metadata": {
        "id": "ukFQe5jZpQzJ"
      },
      "execution_count": null,
      "outputs": []
    },
    {
      "cell_type": "code",
      "source": [
        "list(map(int, '1234'))"
      ],
      "metadata": {
        "colab": {
          "base_uri": "https://localhost:8080/"
        },
        "id": "vG5-X78JpnQg",
        "outputId": "26a8aa52-0d2c-4621-fe44-71cd9345751b"
      },
      "execution_count": 28,
      "outputs": [
        {
          "output_type": "execute_result",
          "data": {
            "text/plain": [
              "[1, 2, 3, 4]"
            ]
          },
          "metadata": {},
          "execution_count": 28
        }
      ]
    },
    {
      "cell_type": "code",
      "source": [
        "def f(x):\n",
        "    return x * 2\n",
        "\n",
        "list(map(f, '1234'))"
      ],
      "metadata": {
        "colab": {
          "base_uri": "https://localhost:8080/"
        },
        "id": "3T6Frm1xpwAJ",
        "outputId": "a429154c-2769-4026-f72f-f9a1f0ed5490"
      },
      "execution_count": 29,
      "outputs": [
        {
          "output_type": "execute_result",
          "data": {
            "text/plain": [
              "['11', '22', '33', '44']"
            ]
          },
          "metadata": {},
          "execution_count": 29
        }
      ]
    },
    {
      "cell_type": "code",
      "source": [
        "list(map(lambda x:x*2, '1234'))"
      ],
      "metadata": {
        "colab": {
          "base_uri": "https://localhost:8080/"
        },
        "id": "XT0PZXHFqFV4",
        "outputId": "f8650bc0-026d-47c2-8470-e7b493060a0d"
      },
      "execution_count": 30,
      "outputs": [
        {
          "output_type": "execute_result",
          "data": {
            "text/plain": [
              "['11', '22', '33', '44']"
            ]
          },
          "metadata": {},
          "execution_count": 30
        }
      ]
    },
    {
      "cell_type": "markdown",
      "source": [
        "# built-in function 총집합"
      ],
      "metadata": {
        "id": "4yGSu7uFsHTX"
      }
    },
    {
      "cell_type": "code",
      "source": [
        "all\n",
        "any\n",
        "\n",
        "#이 2개는 알고리즘 문제 풀이용\n",
        "chr\n",
        "ord\n",
        "\n",
        "map\n",
        "filter\n",
        "zip\n",
        "\n",
        "format\n",
        "\n",
        "len\n",
        "\n",
        "max\n",
        "min\n",
        "sum\n",
        "\n",
        "repr\n",
        "print\n",
        "\n",
        "enumerate\n",
        "range\n",
        "\n",
        "reversed\n",
        "sorted"
      ],
      "metadata": {
        "id": "DlR8PoKNqWOV"
      },
      "execution_count": null,
      "outputs": []
    },
    {
      "cell_type": "code",
      "source": [
        "# 모두 다 True여야 True 반환\n",
        "all([True, True, True])\n",
        "all([True, True, False])\n",
        "all([1, 1, 1, 0])\n",
        "all([1, 0, 1, 1])\n",
        "all([1, 100, 10, -1])"
      ],
      "metadata": {
        "colab": {
          "base_uri": "https://localhost:8080/"
        },
        "id": "PdikyWFfsTI3",
        "outputId": "6b55e6ac-958b-429d-ecd6-719fc912f28f"
      },
      "execution_count": 37,
      "outputs": [
        {
          "output_type": "execute_result",
          "data": {
            "text/plain": [
              "True"
            ]
          },
          "metadata": {},
          "execution_count": 37
        }
      ]
    },
    {
      "cell_type": "code",
      "source": [
        "# 하나라도 True이면 True이다.\n",
        "any([True, False, False])\n",
        "any([False, False, False])"
      ],
      "metadata": {
        "colab": {
          "base_uri": "https://localhost:8080/"
        },
        "id": "spsu50O_sn_5",
        "outputId": "65963a89-9bb8-4ad2-e6a9-dc3a6af4c54d"
      },
      "execution_count": 39,
      "outputs": [
        {
          "output_type": "execute_result",
          "data": {
            "text/plain": [
              "False"
            ]
          },
          "metadata": {},
          "execution_count": 39
        }
      ]
    },
    {
      "cell_type": "code",
      "source": [
        "# 10진수로 유니코드표에서 찾아 대응되는 값을 줍니다.\n",
        "chr(65)\n",
        "chr(97)\n",
        "chr(54616)"
      ],
      "metadata": {
        "colab": {
          "base_uri": "https://localhost:8080/",
          "height": 35
        },
        "id": "NTgwANc3tC4Q",
        "outputId": "5bae66d1-85f6-46d0-83cf-b652582daddc"
      },
      "execution_count": 45,
      "outputs": [
        {
          "output_type": "execute_result",
          "data": {
            "text/plain": [
              "'하'"
            ],
            "application/vnd.google.colaboratory.intrinsic+json": {
              "type": "string"
            }
          },
          "metadata": {},
          "execution_count": 45
        }
      ]
    },
    {
      "cell_type": "code",
      "source": [
        "# 문자를 입력하면 유니코드에서 숫자로 출력합니다.\n",
        "ord('a')\n",
        "ord('하')"
      ],
      "metadata": {
        "colab": {
          "base_uri": "https://localhost:8080/"
        },
        "id": "tgR0mot2t2Fq",
        "outputId": "8710dc7a-e09c-4727-b684-227d85d8b6a1"
      },
      "execution_count": 44,
      "outputs": [
        {
          "output_type": "execute_result",
          "data": {
            "text/plain": [
              "54616"
            ]
          },
          "metadata": {},
          "execution_count": 44
        }
      ]
    },
    {
      "cell_type": "code",
      "source": [
        "# 유니코드 표에서 값 확인\n",
        "int('D558', 16)"
      ],
      "metadata": {
        "colab": {
          "base_uri": "https://localhost:8080/"
        },
        "id": "J4uWIEMWuKU9",
        "outputId": "e8d32634-bb8f-461f-b617-0e82dcd6f42b"
      },
      "execution_count": 46,
      "outputs": [
        {
          "output_type": "execute_result",
          "data": {
            "text/plain": [
              "54616"
            ]
          },
          "metadata": {},
          "execution_count": 46
        }
      ]
    },
    {
      "cell_type": "code",
      "source": [
        "# 대문자는 소문자로, 소문자는 대문자로 바꾸는 코드를 만들어주세요.\n",
        "# 'weniv CEO licat' -> 'WENIV ceo LICAT'"
      ],
      "metadata": {
        "id": "EQO8dRgatW-6"
      },
      "execution_count": null,
      "outputs": []
    },
    {
      "cell_type": "code",
      "source": [
        "map(lambda x: x**2, [1, 2, 3, 4]) # 계산 되기 전 object"
      ],
      "metadata": {
        "colab": {
          "base_uri": "https://localhost:8080/"
        },
        "id": "5FUzyqaXw2Hq",
        "outputId": "5a65b066-d960-40b2-f890-fa14617b3092"
      },
      "execution_count": 47,
      "outputs": [
        {
          "output_type": "execute_result",
          "data": {
            "text/plain": [
              "<map at 0x79b8046c3c70>"
            ]
          },
          "metadata": {},
          "execution_count": 47
        }
      ]
    },
    {
      "cell_type": "code",
      "source": [
        "list(map(lambda x: x**2, [1, 2, 3, 4])) # 계산된 후 object"
      ],
      "metadata": {
        "colab": {
          "base_uri": "https://localhost:8080/"
        },
        "id": "XAT-Id7wxJYV",
        "outputId": "409c0709-8782-4413-fdc2-78e212a17ebd"
      },
      "execution_count": 48,
      "outputs": [
        {
          "output_type": "execute_result",
          "data": {
            "text/plain": [
              "[1, 4, 9, 16]"
            ]
          },
          "metadata": {},
          "execution_count": 48
        }
      ]
    },
    {
      "cell_type": "code",
      "source": [
        "list(filter(lambda x: x>10, [1, 2, 11, 12, 9, 6, 13]))"
      ],
      "metadata": {
        "colab": {
          "base_uri": "https://localhost:8080/"
        },
        "id": "0CYyDWjXxRCR",
        "outputId": "9abbc524-e87a-4120-e488-6cf848f8e084"
      },
      "execution_count": 50,
      "outputs": [
        {
          "output_type": "execute_result",
          "data": {
            "text/plain": [
              "[11, 12, 13]"
            ]
          },
          "metadata": {},
          "execution_count": 50
        }
      ]
    },
    {
      "cell_type": "code",
      "source": [
        "def filter_function(x):\n",
        "    return x > 10\n",
        "\n",
        "list(filter(filter_function, [1, 2, 11, 12, 9, 6, 13]))"
      ],
      "metadata": {
        "colab": {
          "base_uri": "https://localhost:8080/"
        },
        "id": "YjtA51zdxdiA",
        "outputId": "08717359-d880-4679-a05d-3d5b1078f56d"
      },
      "execution_count": 51,
      "outputs": [
        {
          "output_type": "execute_result",
          "data": {
            "text/plain": [
              "[11, 12, 13]"
            ]
          },
          "metadata": {},
          "execution_count": 51
        }
      ]
    },
    {
      "cell_type": "code",
      "source": [
        "list(zip('abc', '123'))"
      ],
      "metadata": {
        "colab": {
          "base_uri": "https://localhost:8080/"
        },
        "id": "KQHlSTEpyCoz",
        "outputId": "08c583e5-a900-42aa-ce42-6fee26967adf"
      },
      "execution_count": 53,
      "outputs": [
        {
          "output_type": "execute_result",
          "data": {
            "text/plain": [
              "[('a', '1'), ('b', '2'), ('c', '3')]"
            ]
          },
          "metadata": {},
          "execution_count": 53
        }
      ]
    },
    {
      "cell_type": "code",
      "source": [
        "list(zip('abc', '123', [10, 20, 30]))"
      ],
      "metadata": {
        "colab": {
          "base_uri": "https://localhost:8080/"
        },
        "id": "l3rRO7JyyLq1",
        "outputId": "a7a108f3-3544-4ce7-8aad-bccb245bc321"
      },
      "execution_count": 54,
      "outputs": [
        {
          "output_type": "execute_result",
          "data": {
            "text/plain": [
              "[('a', '1', 10), ('b', '2', 20), ('c', '3', 30)]"
            ]
          },
          "metadata": {},
          "execution_count": 54
        }
      ]
    },
    {
      "cell_type": "code",
      "source": [
        "list(zip('abc', '1234567', [10, 20, 30]))"
      ],
      "metadata": {
        "colab": {
          "base_uri": "https://localhost:8080/"
        },
        "id": "gGeD0DQ6yPtN",
        "outputId": "4b1b4ad5-06a7-4beb-f561-3db4dbdac949"
      },
      "execution_count": 55,
      "outputs": [
        {
          "output_type": "execute_result",
          "data": {
            "text/plain": [
              "[('a', '1', 10), ('b', '2', 20), ('c', '3', 30)]"
            ]
          },
          "metadata": {},
          "execution_count": 55
        }
      ]
    },
    {
      "cell_type": "code",
      "source": [
        "# zip은 좌표계에서 자주 응용됩니다.\n",
        "# https://codingdojang.com/scode/408?answer_mode=hide\n",
        "\n",
        "s = [1, 3, 4, 8, 13, 17, 20]\n",
        "list(zip(s, s[1:]))"
      ],
      "metadata": {
        "colab": {
          "base_uri": "https://localhost:8080/"
        },
        "id": "nnM1HJHcyXgQ",
        "outputId": "9de95dff-487e-4bb9-c6cb-055657a40fb2"
      },
      "execution_count": 56,
      "outputs": [
        {
          "output_type": "execute_result",
          "data": {
            "text/plain": [
              "[(1, 3), (3, 4), (4, 8), (8, 13), (13, 17), (17, 20)]"
            ]
          },
          "metadata": {},
          "execution_count": 56
        }
      ]
    },
    {
      "cell_type": "code",
      "source": [
        "# sorted는 지금 단계에서 하지 않아요. 바로 뒤에 있으니 지금 이해하려 하지 마세요.\n",
        "# 지금은 zip에 집중해주세요.\n",
        "sorted(zip(s, s[1:]), key=lambda x:x[1]-x[0])\n",
        "# sorted(zip(s, s[1:]), key=lambda x:x[1]-x[0])[0] # 정답 코드"
      ],
      "metadata": {
        "colab": {
          "base_uri": "https://localhost:8080/"
        },
        "id": "MJyV8xi2zD80",
        "outputId": "e20d6d67-78c1-41cc-b6ac-0ca74e98d1ae"
      },
      "execution_count": 57,
      "outputs": [
        {
          "output_type": "execute_result",
          "data": {
            "text/plain": [
              "[(3, 4), (1, 3), (17, 20), (4, 8), (13, 17), (8, 13)]"
            ]
          },
          "metadata": {},
          "execution_count": 57
        }
      ]
    },
    {
      "cell_type": "code",
      "source": [
        "format(1000000000, ',')"
      ],
      "metadata": {
        "colab": {
          "base_uri": "https://localhost:8080/",
          "height": 35
        },
        "id": "XKfkfjge0BQK",
        "outputId": "d2cef01e-68c8-4603-e201-73b6b8f9ab82"
      },
      "execution_count": 59,
      "outputs": [
        {
          "output_type": "execute_result",
          "data": {
            "text/plain": [
              "'1,000,000,000'"
            ],
            "application/vnd.google.colaboratory.intrinsic+json": {
              "type": "string"
            }
          },
          "metadata": {},
          "execution_count": 59
        }
      ]
    },
    {
      "cell_type": "code",
      "source": [
        "len('hello world')"
      ],
      "metadata": {
        "colab": {
          "base_uri": "https://localhost:8080/"
        },
        "id": "U6xKtzUd0O4X",
        "outputId": "14190f97-f4ff-4435-ae32-14fcc51ed05d"
      },
      "execution_count": 60,
      "outputs": [
        {
          "output_type": "execute_result",
          "data": {
            "text/plain": [
              "11"
            ]
          },
          "metadata": {},
          "execution_count": 60
        }
      ]
    },
    {
      "cell_type": "code",
      "source": [
        "max([1, 2, 3, 4, 5])"
      ],
      "metadata": {
        "colab": {
          "base_uri": "https://localhost:8080/"
        },
        "id": "ady7_P3T0UXJ",
        "outputId": "0730440a-3eff-48bd-87d5-ba56fe0e73de"
      },
      "execution_count": 61,
      "outputs": [
        {
          "output_type": "execute_result",
          "data": {
            "text/plain": [
              "5"
            ]
          },
          "metadata": {},
          "execution_count": 61
        }
      ]
    },
    {
      "cell_type": "code",
      "source": [
        "min([1, 2, 3, 4, 5])"
      ],
      "metadata": {
        "colab": {
          "base_uri": "https://localhost:8080/"
        },
        "id": "NHUKFr_q0W6d",
        "outputId": "33c795e5-f91f-4e90-a668-7bf86bb16f84"
      },
      "execution_count": 62,
      "outputs": [
        {
          "output_type": "execute_result",
          "data": {
            "text/plain": [
              "1"
            ]
          },
          "metadata": {},
          "execution_count": 62
        }
      ]
    },
    {
      "cell_type": "code",
      "source": [
        "sum([1, 2, 3, 4, 5])"
      ],
      "metadata": {
        "colab": {
          "base_uri": "https://localhost:8080/"
        },
        "id": "-G1PkBTR0YGZ",
        "outputId": "8b8f5d24-5cad-44ee-d7e2-f63a425ce929"
      },
      "execution_count": 63,
      "outputs": [
        {
          "output_type": "execute_result",
          "data": {
            "text/plain": [
              "15"
            ]
          },
          "metadata": {},
          "execution_count": 63
        }
      ]
    },
    {
      "cell_type": "code",
      "source": [
        "max([(1, 2), (3, 101), (1, 20), (3, 100)])\n",
        "max(['hello', 'world', 'world1'])"
      ],
      "metadata": {
        "colab": {
          "base_uri": "https://localhost:8080/",
          "height": 35
        },
        "id": "MPWpGkHZ0hK9",
        "outputId": "79a9d9ed-4e57-4b20-f2dc-e4f0e9c436f5"
      },
      "execution_count": 68,
      "outputs": [
        {
          "output_type": "execute_result",
          "data": {
            "text/plain": [
              "'world1'"
            ],
            "application/vnd.google.colaboratory.intrinsic+json": {
              "type": "string"
            }
          },
          "metadata": {},
          "execution_count": 68
        }
      ]
    },
    {
      "cell_type": "code",
      "source": [
        "sum([1, 2, 3], 10)"
      ],
      "metadata": {
        "colab": {
          "base_uri": "https://localhost:8080/"
        },
        "id": "QUiFj3701NMe",
        "outputId": "1cb913c2-1672-478b-fdfc-edab35e9231a"
      },
      "execution_count": 73,
      "outputs": [
        {
          "output_type": "execute_result",
          "data": {
            "text/plain": [
              "16"
            ]
          },
          "metadata": {},
          "execution_count": 73
        }
      ]
    },
    {
      "cell_type": "code",
      "source": [
        "sum([[1, 2], [3, 101], [1, 20], [3, 100]], [])"
      ],
      "metadata": {
        "colab": {
          "base_uri": "https://localhost:8080/"
        },
        "id": "uCV_A4PX05MR",
        "outputId": "01623b28-e49a-4e33-ccd6-636a9e63844f"
      },
      "execution_count": 72,
      "outputs": [
        {
          "output_type": "execute_result",
          "data": {
            "text/plain": [
              "[1, 2, 3, 101, 1, 20, 3, 100]"
            ]
          },
          "metadata": {},
          "execution_count": 72
        }
      ]
    },
    {
      "cell_type": "code",
      "source": [
        "[] + [1, 2]\n",
        "[1, 2] + [3, 101]\n",
        "[1, 2, 3, 101] + [1, 20]\n",
        "[1, 2, 3, 101, 1, 20] + [3, 100]"
      ],
      "metadata": {
        "colab": {
          "base_uri": "https://localhost:8080/"
        },
        "id": "51y1T9Ry1ULt",
        "outputId": "f8bcd6e4-b5e7-4125-8b1e-b3b7db3250c1"
      },
      "execution_count": 77,
      "outputs": [
        {
          "output_type": "execute_result",
          "data": {
            "text/plain": [
              "[1, 2, 3, 101, 1, 20, 3, 100]"
            ]
          },
          "metadata": {},
          "execution_count": 77
        }
      ]
    },
    {
      "cell_type": "code",
      "source": [
        "sum([[1, 2], [3, 101], [1, 20], [3, 100]]) # numpy나 pandas 사용하셔야 합니다."
      ],
      "metadata": {
        "id": "rpuwBs7G1kwx"
      },
      "execution_count": null,
      "outputs": []
    },
    {
      "cell_type": "code",
      "source": [
        "class Charactor:\n",
        "    def __repr__(self):\n",
        "        return 'hello'\n",
        "    def __str__(self):\n",
        "        return 'world'\n",
        "\n",
        "hero = Charactor()\n",
        "print(hero)\n",
        "hero"
      ],
      "metadata": {
        "colab": {
          "base_uri": "https://localhost:8080/"
        },
        "id": "WHHoj-fC1uWp",
        "outputId": "77977122-c93c-4083-ece9-d44f033a531f"
      },
      "execution_count": 80,
      "outputs": [
        {
          "output_type": "stream",
          "name": "stdout",
          "text": [
            "world\n"
          ]
        },
        {
          "output_type": "execute_result",
          "data": {
            "text/plain": [
              "hello"
            ]
          },
          "metadata": {},
          "execution_count": 80
        }
      ]
    },
    {
      "cell_type": "code",
      "source": [
        "repr(hero)"
      ],
      "metadata": {
        "colab": {
          "base_uri": "https://localhost:8080/",
          "height": 35
        },
        "id": "xRxr0dJE19NP",
        "outputId": "0c0e9445-2785-464d-edf5-5b8fb079107e"
      },
      "execution_count": 81,
      "outputs": [
        {
          "output_type": "execute_result",
          "data": {
            "text/plain": [
              "'hello'"
            ],
            "application/vnd.google.colaboratory.intrinsic+json": {
              "type": "string"
            }
          },
          "metadata": {},
          "execution_count": 81
        }
      ]
    },
    {
      "cell_type": "code",
      "source": [
        "가수 = ['뉴진스', '르세라핌', '에스파', '아이브']\n",
        "print(list(enumerate(가수)))\n",
        "print(list(enumerate(가수, 1)))\n",
        "print(list(enumerate(가수, 100)))\n",
        "\n",
        "for i, j in enumerate(가수, 1):\n",
        "    print(i, j)"
      ],
      "metadata": {
        "colab": {
          "base_uri": "https://localhost:8080/"
        },
        "id": "Uu45HheX2Mj8",
        "outputId": "14b6a5ba-efe8-416f-bd6b-c1033cf50580"
      },
      "execution_count": 87,
      "outputs": [
        {
          "output_type": "stream",
          "name": "stdout",
          "text": [
            "1 뉴진스\n",
            "2 르세라핌\n",
            "3 에스파\n",
            "4 아이브\n"
          ]
        }
      ]
    },
    {
      "cell_type": "code",
      "source": [
        "type(print)"
      ],
      "metadata": {
        "colab": {
          "base_uri": "https://localhost:8080/"
        },
        "id": "N79HVwZD28Mr",
        "outputId": "2e62e2e4-b4cb-46d8-d130-5eff0f20ccc7"
      },
      "execution_count": 88,
      "outputs": [
        {
          "output_type": "execute_result",
          "data": {
            "text/plain": [
              "builtin_function_or_method"
            ]
          },
          "metadata": {},
          "execution_count": 88
        }
      ]
    },
    {
      "cell_type": "code",
      "source": [
        "type(enumerate)"
      ],
      "metadata": {
        "colab": {
          "base_uri": "https://localhost:8080/"
        },
        "id": "MCsV_d2F3AjO",
        "outputId": "cf9f5a07-8069-4278-9dcf-34792b456e4e"
      },
      "execution_count": 89,
      "outputs": [
        {
          "output_type": "execute_result",
          "data": {
            "text/plain": [
              "type"
            ]
          },
          "metadata": {},
          "execution_count": 89
        }
      ]
    },
    {
      "cell_type": "code",
      "source": [
        "type(max)"
      ],
      "metadata": {
        "colab": {
          "base_uri": "https://localhost:8080/"
        },
        "id": "s8jg1nqe3EQm",
        "outputId": "d00d653a-482c-44dc-8b23-bc40b93321bf"
      },
      "execution_count": 90,
      "outputs": [
        {
          "output_type": "execute_result",
          "data": {
            "text/plain": [
              "builtin_function_or_method"
            ]
          },
          "metadata": {},
          "execution_count": 90
        }
      ]
    },
    {
      "cell_type": "code",
      "source": [
        "type(len)"
      ],
      "metadata": {
        "colab": {
          "base_uri": "https://localhost:8080/"
        },
        "id": "3X1dXb_n3Gzc",
        "outputId": "8ad338e5-7f7c-4b56-b4d0-57ddc6e3f133"
      },
      "execution_count": 91,
      "outputs": [
        {
          "output_type": "execute_result",
          "data": {
            "text/plain": [
              "builtin_function_or_method"
            ]
          },
          "metadata": {},
          "execution_count": 91
        }
      ]
    },
    {
      "cell_type": "code",
      "source": [
        "type(format)"
      ],
      "metadata": {
        "colab": {
          "base_uri": "https://localhost:8080/"
        },
        "id": "zo_pIHlY3Kz1",
        "outputId": "f8c4a63e-79a9-4a28-b284-73eef4440415"
      },
      "execution_count": 92,
      "outputs": [
        {
          "output_type": "execute_result",
          "data": {
            "text/plain": [
              "builtin_function_or_method"
            ]
          },
          "metadata": {},
          "execution_count": 92
        }
      ]
    },
    {
      "cell_type": "code",
      "source": [
        "type(range)"
      ],
      "metadata": {
        "colab": {
          "base_uri": "https://localhost:8080/"
        },
        "id": "Mum_4A2h25-z",
        "outputId": "9cd3153b-0d5f-4531-fd78-c775c6aa9536"
      },
      "execution_count": 93,
      "outputs": [
        {
          "output_type": "execute_result",
          "data": {
            "text/plain": [
              "type"
            ]
          },
          "metadata": {},
          "execution_count": 93
        }
      ]
    },
    {
      "cell_type": "code",
      "source": [
        "type(zip)"
      ],
      "metadata": {
        "colab": {
          "base_uri": "https://localhost:8080/"
        },
        "id": "lb0S4H723Qaw",
        "outputId": "3138e6a2-f470-4a45-ce93-8727845aa590"
      },
      "execution_count": 94,
      "outputs": [
        {
          "output_type": "execute_result",
          "data": {
            "text/plain": [
              "type"
            ]
          },
          "metadata": {},
          "execution_count": 94
        }
      ]
    },
    {
      "cell_type": "code",
      "source": [
        "type(map)"
      ],
      "metadata": {
        "colab": {
          "base_uri": "https://localhost:8080/"
        },
        "id": "pmQUwOOF3Rsz",
        "outputId": "0e97b9d7-a30f-45fd-931a-984504252470"
      },
      "execution_count": 95,
      "outputs": [
        {
          "output_type": "execute_result",
          "data": {
            "text/plain": [
              "type"
            ]
          },
          "metadata": {},
          "execution_count": 95
        }
      ]
    },
    {
      "cell_type": "code",
      "source": [
        "type(filter)"
      ],
      "metadata": {
        "colab": {
          "base_uri": "https://localhost:8080/"
        },
        "id": "ZnXQTHO33S_R",
        "outputId": "3ae7340a-9423-4212-947d-c23817f2bd65"
      },
      "execution_count": 96,
      "outputs": [
        {
          "output_type": "execute_result",
          "data": {
            "text/plain": [
              "type"
            ]
          },
          "metadata": {},
          "execution_count": 96
        }
      ]
    },
    {
      "cell_type": "code",
      "source": [
        "type(int)"
      ],
      "metadata": {
        "colab": {
          "base_uri": "https://localhost:8080/"
        },
        "id": "h4e95oJS3Vid",
        "outputId": "9c4073c4-5bb2-4e92-a419-add1b5d90fa2"
      },
      "execution_count": 97,
      "outputs": [
        {
          "output_type": "execute_result",
          "data": {
            "text/plain": [
              "type"
            ]
          },
          "metadata": {},
          "execution_count": 97
        }
      ]
    },
    {
      "cell_type": "code",
      "source": [
        "type(str)"
      ],
      "metadata": {
        "colab": {
          "base_uri": "https://localhost:8080/"
        },
        "id": "iBEgp0Qi3bx0",
        "outputId": "0ecde224-75a7-483e-b0a8-b492c392ebae"
      },
      "execution_count": 98,
      "outputs": [
        {
          "output_type": "execute_result",
          "data": {
            "text/plain": [
              "type"
            ]
          },
          "metadata": {},
          "execution_count": 98
        }
      ]
    },
    {
      "cell_type": "code",
      "source": [
        "# range(start, stop, step) # 슬라이싱과 비슷한 형태를 지니고 있습니다.\n",
        "print(range(10)) # 값을 가지고 있지 않습니다.\n",
        "print(list(range(10)))\n",
        "x = range(10)\n",
        "print(type(x))\n",
        "print(list(range(0, 10, 2)))\n",
        "print(list(range(10, 0, -2)))\n",
        "# print(list(range(10, 0, 2.1))) # error, numpy 모듈 사용하면 가능합니다.\n",
        "# print(list(range(10.1, 2.0, 2))) # error, numpy 모듈 사용하면 가능합니다.\n",
        "print(list(range(0, 10, -2)))"
      ],
      "metadata": {
        "colab": {
          "base_uri": "https://localhost:8080/"
        },
        "id": "rPTIu1-O3v-y",
        "outputId": "610f75cb-d411-4dda-e3fb-f894b6caf2a3"
      },
      "execution_count": 107,
      "outputs": [
        {
          "output_type": "stream",
          "name": "stdout",
          "text": [
            "range(0, 10)\n",
            "[0, 1, 2, 3, 4, 5, 6, 7, 8, 9]\n",
            "<class 'range'>\n",
            "[0, 2, 4, 6, 8]\n",
            "[10, 8, 6, 4, 2]\n",
            "[]\n"
          ]
        }
      ]
    },
    {
      "cell_type": "code",
      "source": [
        "# 2.x에서 range와 그 외 값들에 대한 히스토리\n",
        "# print(range(10)) # 출력: [0, 1, 2, 3, 4, 5, 6, 7, 8, 9]\n",
        "# 메모리를 모두 차지해야 합니다.\n",
        "\n",
        "# print(range(100000000000000000000000000000000000000))\n",
        "# 메모리의 효율이 극도로 안좋아짐\n",
        "\n",
        "# 그런데 3.x에서 range(10000000000000000000000000000)는 메모리 효율이 안좋나요?\n",
        "# 시작과, 끝, 스텝값만 가지고 있기 때문에 메모리 낭비가 전혀 없습니다.\n",
        "\n",
        "# 2.x에서도 3.x와 같은 range타입이 있었습니다. xrange문법입니다. xrange문법이 3.x되면서 range가 된겁니다.\n",
        "# 2.x에서 사용가능 문법\n",
        "# print(xrange(10)) # 출력: xrange(10)\n",
        "# for i in xrange(10): # 출력: 순회 가능\n",
        "#     print(i)"
      ],
      "metadata": {
        "id": "rixQWP-75pEV"
      },
      "execution_count": null,
      "outputs": []
    },
    {
      "cell_type": "code",
      "source": [
        "list(reversed('hello world'))\n",
        "list(reversed([1, 2, 3, 10, 5, 4])) # 역 정렬 아닙니다! 역순입니다."
      ],
      "metadata": {
        "colab": {
          "base_uri": "https://localhost:8080/"
        },
        "id": "DXd5wiqY7BLu",
        "outputId": "12851025-f38c-402b-ad76-9af989753b08"
      },
      "execution_count": 112,
      "outputs": [
        {
          "output_type": "execute_result",
          "data": {
            "text/plain": [
              "[4, 5, 10, 3, 2, 1]"
            ]
          },
          "metadata": {},
          "execution_count": 112
        }
      ]
    },
    {
      "cell_type": "code",
      "source": [
        "list(reversed(sorted([1, 2, 3, 10, 5, 4])))"
      ],
      "metadata": {
        "colab": {
          "base_uri": "https://localhost:8080/"
        },
        "id": "-BnMzShv7unc",
        "outputId": "af6d2fea-9be0-4ce8-b516-de78467a3da9"
      },
      "execution_count": 113,
      "outputs": [
        {
          "output_type": "execute_result",
          "data": {
            "text/plain": [
              "[10, 5, 4, 3, 2, 1]"
            ]
          },
          "metadata": {},
          "execution_count": 113
        }
      ]
    },
    {
      "cell_type": "code",
      "source": [
        "# 매우 중요합니다.\n",
        "# 알고리즘 문제에 단골 built-in function\n",
        "sorted([1, 2, 100, 200, 3, 4, 10, 20])\n",
        "sorted([1, 2, 100, 200, 3, 4, 10, 20], reverse=True)"
      ],
      "metadata": {
        "colab": {
          "base_uri": "https://localhost:8080/"
        },
        "id": "IbbdZ_yf75L-",
        "outputId": "e3dccc4f-9cd8-46f0-c481-f8e540b2a465"
      },
      "execution_count": 116,
      "outputs": [
        {
          "output_type": "execute_result",
          "data": {
            "text/plain": [
              "[200, 100, 20, 10, 4, 3, 2, 1]"
            ]
          },
          "metadata": {},
          "execution_count": 116
        }
      ]
    },
    {
      "cell_type": "code",
      "source": [
        "sorted(['hello', 'l', 'hllo', 'hel', 'heo', 'a'])\n",
        "['a', 'hel', 'hello', 'heo', 'hllo', 'l']\n",
        "\n",
        "sorted(['hello', 'l', 'hllo', 'hel', 'heo', 'a'], key=len)\n",
        "['a', 'hel', 'hello', 'heo', 'hllo', 'l']\n",
        "# 위 코드는 sorted([5, 1, 4, 3, 3, 1])와 같습니다."
      ],
      "metadata": {
        "colab": {
          "base_uri": "https://localhost:8080/"
        },
        "id": "_jcRsNbE_Pgy",
        "outputId": "0a3cf636-b40a-4ce2-dc41-9f6ab115f461"
      },
      "execution_count": 117,
      "outputs": [
        {
          "output_type": "execute_result",
          "data": {
            "text/plain": [
              "['a', 'hel', 'hello', 'heo', 'hllo', 'l']"
            ]
          },
          "metadata": {},
          "execution_count": 117
        }
      ]
    },
    {
      "cell_type": "code",
      "source": [
        "sorted(['hello', 'l', 'hllo', 'hel', 'heo', 'a'], key=len)"
      ],
      "metadata": {
        "colab": {
          "base_uri": "https://localhost:8080/"
        },
        "id": "ycRDtoFGAAZW",
        "outputId": "5849a621-1a3c-48cd-9372-c792088ae11d"
      },
      "execution_count": 118,
      "outputs": [
        {
          "output_type": "execute_result",
          "data": {
            "text/plain": [
              "['l', 'a', 'hel', 'heo', 'hllo', 'hello']"
            ]
          },
          "metadata": {},
          "execution_count": 118
        }
      ]
    },
    {
      "cell_type": "code",
      "source": [
        "data = [\n",
        "    [2, 'hello world', 30],\n",
        "    [3, 'hworl', 33],\n",
        "    [5, 'hello wo', 35],\n",
        "    [4, 'hello w', 31],\n",
        "    [6, 'hello w', 39]\n",
        "]\n",
        "\n",
        "# 1번째 문제: 첫 번째 요소의 값을 정렬하세요.\n",
        "sorted(data)\n",
        "\n",
        "# 2번째 문제: 두 번째 요소의 문자열 길이를 기준으로 정렬하세요.\n",
        "sorted(data, key=lambda x:len(x[1]))\n",
        "# sorted([11, 5, 7, 8, 7])를 정렬하는 것과 같습니다. 다만 숫자 값으로 반환하는 것이 아니라 object로 반환하죠.'\n",
        "\n",
        "# 3번째 문제: 세 번째 요소 기준으로 정렬하세요.\n",
        "sorted(data, key=lambda x:x[2])\n",
        "\n",
        "# 4번째 문제: 첫번째 요소와 세 번째 요소의 차가 큰 순으로 출력해주세요.\n",
        "# 예를 들어 [2, 'hello world', 30]의 경우 30 - 2 == 28입니다. 이런 차 순서대로 출력하시면 됩니다.\n",
        "sorted(data, key=lambda x:x[2])\n",
        "sorted(data, key=lambda x:x[0]-x[2])\n",
        "sorted(data, key=lambda x:x[2]-x[0], reverse=True)"
      ],
      "metadata": {
        "colab": {
          "base_uri": "https://localhost:8080/"
        },
        "id": "_6H8reLbAEUW",
        "outputId": "f36360d9-1f89-485e-9105-dd8ee7d01d2c"
      },
      "execution_count": 126,
      "outputs": [
        {
          "output_type": "execute_result",
          "data": {
            "text/plain": [
              "[[6, 'hello w', 39],\n",
              " [3, 'hworl', 33],\n",
              " [5, 'hello wo', 35],\n",
              " [2, 'hello world', 30],\n",
              " [4, 'hello w', 31]]"
            ]
          },
          "metadata": {},
          "execution_count": 126
        }
      ]
    }
  ]
}