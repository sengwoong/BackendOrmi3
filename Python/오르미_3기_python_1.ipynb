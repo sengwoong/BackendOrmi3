{
  "nbformat": 4,
  "nbformat_minor": 0,
  "metadata": {
    "colab": {
      "provenance": []
    },
    "kernelspec": {
      "name": "python3",
      "display_name": "Python 3"
    },
    "language_info": {
      "name": "python"
    }
  },
  "cells": [
    {
      "cell_type": "markdown",
      "source": [
        "# 주석"
      ],
      "metadata": {
        "id": "wmPyRstBKdAA"
      }
    },
    {
      "cell_type": "code",
      "execution_count": null,
      "metadata": {
        "colab": {
          "base_uri": "https://localhost:8080/"
        },
        "id": "Sr4mbZ6yGlKA",
        "outputId": "c322314f-0be0-4245-fc41-46ac29f79598"
      },
      "outputs": [
        {
          "output_type": "stream",
          "name": "stdout",
          "text": [
            "Hello, World 1!\n",
            "Hello, World 2!\n"
          ]
        }
      ],
      "source": [
        "# 이것은 주석입니다.\n",
        "print('Hello, World 1!') # 이것도 주석입니다.\n",
        "print('Hello, World 2!')"
      ]
    },
    {
      "cell_type": "code",
      "source": [
        "'''\n",
        "이것은 주석입니다.\n",
        "이렇게 여러줄 주석을 넣을 수 있습니다.\n",
        "'''\n",
        "print(\"Hello, World!\")"
      ],
      "metadata": {
        "id": "CiS3K9UFJ-t3"
      },
      "execution_count": null,
      "outputs": []
    },
    {
      "cell_type": "code",
      "source": [
        "\"\"\"\n",
        "이것은 주석입니다.\n",
        "이렇게 여러줄 주석을 넣을 수 있습니다.\n",
        "\"\"\"\n",
        "print(\"Hello, World!\")"
      ],
      "metadata": {
        "id": "-ENRnOAIKzc6"
      },
      "execution_count": null,
      "outputs": []
    },
    {
      "cell_type": "markdown",
      "source": [
        "# 입력과 출력"
      ],
      "metadata": {
        "id": "imFk29LHLuXq"
      }
    },
    {
      "cell_type": "code",
      "source": [
        "x = input('입력해 주세요:') # 문자 열로 받는다!\n",
        "x + x"
      ],
      "metadata": {
        "colab": {
          "base_uri": "https://localhost:8080/",
          "height": 53
        },
        "id": "HIyXk8w0LxEn",
        "outputId": "e2a2c525-2331-43e0-84a8-661d08e82d67"
      },
      "execution_count": null,
      "outputs": [
        {
          "name": "stdout",
          "output_type": "stream",
          "text": [
            "입력해 주세요:10\n"
          ]
        },
        {
          "output_type": "execute_result",
          "data": {
            "text/plain": [
              "'1010'"
            ],
            "application/vnd.google.colaboratory.intrinsic+json": {
              "type": "string"
            }
          },
          "metadata": {},
          "execution_count": 5
        }
      ]
    },
    {
      "cell_type": "code",
      "source": [
        "print('hello world')"
      ],
      "metadata": {
        "colab": {
          "base_uri": "https://localhost:8080/"
        },
        "id": "5Ulhd5MQMvMN",
        "outputId": "d134b548-9344-4571-e91a-3ea24acc14bb"
      },
      "execution_count": null,
      "outputs": [
        {
          "output_type": "stream",
          "name": "stdout",
          "text": [
            "hello world\n"
          ]
        }
      ]
    },
    {
      "cell_type": "code",
      "source": [
        "x = 'hello'\n",
        "print(x)"
      ],
      "metadata": {
        "colab": {
          "base_uri": "https://localhost:8080/"
        },
        "id": "STlVyLmlM-BN",
        "outputId": "4061ffd8-1159-4932-ccec-21b70790b7ca"
      },
      "execution_count": null,
      "outputs": [
        {
          "output_type": "stream",
          "name": "stdout",
          "text": [
            "hello\n"
          ]
        }
      ]
    },
    {
      "cell_type": "code",
      "source": [
        "print(x, x)"
      ],
      "metadata": {
        "colab": {
          "base_uri": "https://localhost:8080/"
        },
        "id": "hv2nWneNNFNR",
        "outputId": "1d43a77a-b4d3-4455-c7eb-f5bf904df6cf"
      },
      "execution_count": null,
      "outputs": [
        {
          "output_type": "stream",
          "name": "stdout",
          "text": [
            "hello hello\n"
          ]
        }
      ]
    },
    {
      "cell_type": "code",
      "source": [
        "print(x, x, sep='-')"
      ],
      "metadata": {
        "colab": {
          "base_uri": "https://localhost:8080/"
        },
        "id": "i8i540A6NlFw",
        "outputId": "b6de09d6-a92a-4e3c-cc7c-02223410c298"
      },
      "execution_count": null,
      "outputs": [
        {
          "output_type": "stream",
          "name": "stdout",
          "text": [
            "hello-hello\n"
          ]
        }
      ]
    },
    {
      "cell_type": "code",
      "source": [
        "print('010', '0000', '1000', sep='-')"
      ],
      "metadata": {
        "colab": {
          "base_uri": "https://localhost:8080/"
        },
        "id": "c_Vt0DS6Noip",
        "outputId": "00bb9e66-1604-473c-aa30-59b80a46a189"
      },
      "execution_count": null,
      "outputs": [
        {
          "output_type": "stream",
          "name": "stdout",
          "text": [
            "010-0000-1000\n"
          ]
        }
      ]
    },
    {
      "cell_type": "code",
      "source": [
        "print('hello world', end='!')\n",
        "print('hello world', end='~')"
      ],
      "metadata": {
        "colab": {
          "base_uri": "https://localhost:8080/"
        },
        "id": "KssZfG3yN2Uz",
        "outputId": "d1a377f8-c3c1-4cea-dcb0-38c872ed05aa"
      },
      "execution_count": null,
      "outputs": [
        {
          "output_type": "stream",
          "name": "stdout",
          "text": [
            "hello world!hello world~"
          ]
        }
      ]
    },
    {
      "cell_type": "code",
      "source": [
        "class Character:\n",
        "    def __str__(self):\n",
        "        return 'a'\n",
        "\n",
        "    def __repr__(self):\n",
        "        return 'b'\n",
        "\n",
        "hero = Character()\n",
        "print(hero)\n",
        "hero"
      ],
      "metadata": {
        "colab": {
          "base_uri": "https://localhost:8080/"
        },
        "id": "h0FBSmddaR-8",
        "outputId": "c8a4b144-df8c-4da4-dc35-eae20c033615"
      },
      "execution_count": 1,
      "outputs": [
        {
          "output_type": "stream",
          "name": "stdout",
          "text": [
            "a\n"
          ]
        },
        {
          "output_type": "execute_result",
          "data": {
            "text/plain": [
              "b"
            ]
          },
          "metadata": {},
          "execution_count": 1
        }
      ]
    },
    {
      "cell_type": "markdown",
      "source": [
        "# 변수\n",
        "* python에서 변수는 포스트잇이다. 값을 담는 것이 아니라 가리킨다!"
      ],
      "metadata": {
        "id": "rNg_bSnzOrN6"
      }
    },
    {
      "cell_type": "code",
      "source": [
        "x = 10\n",
        "y = x\n",
        "z = y\n",
        "\n",
        "# 오답\n",
        "# z -> y -> x -> 10\n",
        "\n",
        "# 정답\n",
        "# x ┐\n",
        "# y -> 10\n",
        "# z ┘"
      ],
      "metadata": {
        "id": "iXrPmOeMPTOL"
      },
      "execution_count": null,
      "outputs": []
    },
    {
      "cell_type": "code",
      "source": [
        "x = 10\n",
        "y = x\n",
        "z = y\n",
        "y = 20\n",
        "\n",
        "# 오답\n",
        "# x -> 10\n",
        "# z -> y -> 20\n",
        "\n",
        "# 정답\n",
        "# x -> 10\n",
        "# z ┘ 10\n",
        "# y -> 20\n",
        "x, y, z"
      ],
      "metadata": {
        "colab": {
          "base_uri": "https://localhost:8080/"
        },
        "id": "vcv56HLjPzLD",
        "outputId": "01b4cef3-73de-456e-d7b9-1686ccbd0e22"
      },
      "execution_count": null,
      "outputs": [
        {
          "output_type": "execute_result",
          "data": {
            "text/plain": [
              "(10, 20, 10)"
            ]
          },
          "metadata": {},
          "execution_count": 17
        }
      ]
    },
    {
      "cell_type": "code",
      "source": [
        "x = 10\n",
        "y = x\n",
        "z = y\n",
        "\n",
        "print(id(x), id(y), id(z))"
      ],
      "metadata": {
        "colab": {
          "base_uri": "https://localhost:8080/"
        },
        "id": "LJkM9YA3Qn5d",
        "outputId": "bec3b82f-3d9f-4c02-a9c2-fe2dce91c12f"
      },
      "execution_count": null,
      "outputs": [
        {
          "output_type": "stream",
          "name": "stdout",
          "text": [
            "138208402948624 138208402948624 138208402948624\n"
          ]
        }
      ]
    },
    {
      "cell_type": "code",
      "source": [
        "# 변수 이름\n",
        "\n",
        "# python의 경우 보통 스네이크 표기법으로 변수를 만듭니다.\n",
        "col_sum = 10\n",
        "\n",
        "# _는 사용하지 않는 변수에 할당합니다.\n",
        "for _ in range(5): # 코드의 가독성을 올려줍니다.\n",
        "    print('hello') # _가 for문 안에서 사용이 안됩니다."
      ],
      "metadata": {
        "id": "XAgdMUmIUMPU"
      },
      "execution_count": null,
      "outputs": []
    },
    {
      "cell_type": "code",
      "source": [
        "# 되지만 사용하시면 사회생활이 힘듭니다.\n",
        "π = 100\n",
        "π + π"
      ],
      "metadata": {
        "colab": {
          "base_uri": "https://localhost:8080/"
        },
        "id": "VodM8uY7VIMq",
        "outputId": "fe326e00-778d-49ff-b721-69141d04437e"
      },
      "execution_count": null,
      "outputs": [
        {
          "output_type": "execute_result",
          "data": {
            "text/plain": [
              "200"
            ]
          },
          "metadata": {},
          "execution_count": 22
        }
      ]
    },
    {
      "cell_type": "code",
      "source": [
        "# 변수 타입: 변수들을 어떻게 관리하고 처리할지에 대한 '코드', 이 코드는 우리가 재정의 할 수도 있다!\n",
        "\n",
        "x = 10\n",
        "x + x # 컴퓨터 입장에서는 10도 숫자입니다."
      ],
      "metadata": {
        "colab": {
          "base_uri": "https://localhost:8080/"
        },
        "id": "iH_XkuKlVB72",
        "outputId": "d9071a00-2a52-4e4e-988c-532ee16f35df"
      },
      "execution_count": null,
      "outputs": [
        {
          "output_type": "execute_result",
          "data": {
            "text/plain": [
              "20"
            ]
          },
          "metadata": {},
          "execution_count": 1
        }
      ]
    },
    {
      "cell_type": "code",
      "source": [
        "y = '10'\n",
        "y + y # 컴퓨터 입장에서는 '10'도 숫자입니다."
      ],
      "metadata": {
        "colab": {
          "base_uri": "https://localhost:8080/",
          "height": 35
        },
        "id": "5Fmqr8BTVw2s",
        "outputId": "bf58e867-d869-4b95-b772-da1870e287db"
      },
      "execution_count": null,
      "outputs": [
        {
          "output_type": "execute_result",
          "data": {
            "text/plain": [
              "'1010'"
            ],
            "application/vnd.google.colaboratory.intrinsic+json": {
              "type": "string"
            }
          },
          "metadata": {},
          "execution_count": 24
        }
      ]
    },
    {
      "cell_type": "code",
      "source": [
        "print(type(x))\n",
        "print(type(y))"
      ],
      "metadata": {
        "colab": {
          "base_uri": "https://localhost:8080/"
        },
        "id": "PSELlweBWJ_J",
        "outputId": "4e6b2493-8e45-4d4a-b087-de0585222003"
      },
      "execution_count": null,
      "outputs": [
        {
          "output_type": "stream",
          "name": "stdout",
          "text": [
            "<class 'int'>\n",
            "<class 'str'>\n"
          ]
        }
      ]
    },
    {
      "cell_type": "code",
      "source": [
        "str(10) + str(10)"
      ],
      "metadata": {
        "colab": {
          "base_uri": "https://localhost:8080/",
          "height": 35
        },
        "id": "nUXIDoEdWjaG",
        "outputId": "08512dcc-499d-4be3-d0e5-fc724ee7ef71"
      },
      "execution_count": null,
      "outputs": [
        {
          "output_type": "execute_result",
          "data": {
            "text/plain": [
              "'1010'"
            ],
            "application/vnd.google.colaboratory.intrinsic+json": {
              "type": "string"
            }
          },
          "metadata": {},
          "execution_count": 28
        }
      ]
    },
    {
      "cell_type": "code",
      "source": [
        "# 지금은 이 클래스를 이해하는 것이 중요한 것이 아닙니다.\n",
        "# self가 무엇인지, other가 무엇인지 이해하는 것도 중요한 것이 아닙니다.\n",
        "# 이건 다 뒤에서 배울 것입니다.\n",
        "# 중요한 포인트는 +도 어딘가에 '정의'되어 있다는 것입니다.\n",
        "class str(str):\n",
        "    def __add__(self, other):\n",
        "        return 'hello'"
      ],
      "metadata": {
        "id": "qMqkXn0fW3fo"
      },
      "execution_count": null,
      "outputs": []
    },
    {
      "cell_type": "code",
      "source": [
        "# 그래서 이렇게 덧셈을 했을 때 이상한 값이 출력되게 할 수도 있다는 것입니다.\n",
        "str(10) + str(10)"
      ],
      "metadata": {
        "colab": {
          "base_uri": "https://localhost:8080/",
          "height": 35
        },
        "id": "gEOQ5-5tXCCH",
        "outputId": "41c78246-c0af-4329-8bc5-aa13f49fd855"
      },
      "execution_count": null,
      "outputs": [
        {
          "output_type": "execute_result",
          "data": {
            "text/plain": [
              "'hello'"
            ],
            "application/vnd.google.colaboratory.intrinsic+json": {
              "type": "string"
            }
          },
          "metadata": {},
          "execution_count": 2
        }
      ]
    },
    {
      "cell_type": "code",
      "source": [
        "class int(int):\n",
        "    def __add__(self, a):\n",
        "        return self * a\n",
        "\n",
        "int('10') + int('10')"
      ],
      "metadata": {
        "id": "cioBeCCmsuns",
        "colab": {
          "base_uri": "https://localhost:8080/"
        },
        "outputId": "7caed950-3926-46b2-ebd8-9a1ad09bcd2a"
      },
      "execution_count": null,
      "outputs": [
        {
          "output_type": "execute_result",
          "data": {
            "text/plain": [
              "100"
            ]
          },
          "metadata": {},
          "execution_count": 168
        }
      ]
    },
    {
      "cell_type": "code",
      "source": [
        "# 변수의 삭제\n",
        "del x"
      ],
      "metadata": {
        "id": "4LOrhPO3YGHg"
      },
      "execution_count": null,
      "outputs": []
    },
    {
      "cell_type": "markdown",
      "source": [
        "# 정수 자료형 (int)"
      ],
      "metadata": {
        "id": "adzfyYGzYw1b"
      }
    },
    {
      "cell_type": "code",
      "source": [
        "x = 10\n",
        "y = -5\n",
        "z = 0\n",
        "print(type(x), type(y), type(z))"
      ],
      "metadata": {
        "colab": {
          "base_uri": "https://localhost:8080/"
        },
        "id": "LDpH2FPrYyxe",
        "outputId": "69f37bb5-ce33-40d8-d71c-2c1a9d223fde"
      },
      "execution_count": null,
      "outputs": [
        {
          "output_type": "stream",
          "name": "stdout",
          "text": [
            "<class 'int'> <class 'int'> <class 'int'>\n"
          ]
        }
      ]
    },
    {
      "cell_type": "code",
      "source": [
        "x = 10\n",
        "result  = x * 3\n",
        "result"
      ],
      "metadata": {
        "colab": {
          "base_uri": "https://localhost:8080/"
        },
        "id": "tcE-K4cZaNqH",
        "outputId": "53cdb8e1-d46c-4280-cc59-2471abbd2b9b"
      },
      "execution_count": null,
      "outputs": [
        {
          "output_type": "execute_result",
          "data": {
            "text/plain": [
              "30"
            ]
          },
          "metadata": {},
          "execution_count": 5
        }
      ]
    },
    {
      "cell_type": "code",
      "source": [
        "# 진수: 수를 표현하는 방법\n",
        "# 2진수 : 0 1\n",
        "# 8진수 : 0 1 2 3 4 5 6 7\n",
        "# 16진수: 0 1 2 3 4 5 6 7 8 9 a b c d e f\n",
        "\n",
        "# 10진수 731 = 7 * 10^2 + 3 * 10^1 + 1 * 10^0\n",
        "# 2진수  110 = 1 * 2^2 + 1 * 2^1 + 0 * 2^0\n",
        "\n",
        "# 쉽게 계산하는 법\n",
        "# 10진수 15를 2진수로 표현하면?\n",
        "# 10000 - 1 == 1111"
      ],
      "metadata": {
        "id": "AacV4SVpbE-v"
      },
      "execution_count": null,
      "outputs": []
    },
    {
      "cell_type": "code",
      "source": [
        "# 2진수\n",
        "x = 0b110\n",
        "print(x)\n",
        "print(type(x))"
      ],
      "metadata": {
        "colab": {
          "base_uri": "https://localhost:8080/"
        },
        "id": "5CtrLqxtalhY",
        "outputId": "fe9c5bd2-4c2c-49ef-8c9f-0591b7b33581"
      },
      "execution_count": null,
      "outputs": [
        {
          "output_type": "stream",
          "name": "stdout",
          "text": [
            "6\n",
            "<class 'int'>\n"
          ]
        }
      ]
    },
    {
      "cell_type": "code",
      "source": [
        "# 8진수\n",
        "x = 0o110\n",
        "print(x)\n",
        "print(type(x))"
      ],
      "metadata": {
        "colab": {
          "base_uri": "https://localhost:8080/"
        },
        "id": "GC5WEPQqa137",
        "outputId": "6b4169e3-6f9a-49e0-e8c4-f28c0e72b131"
      },
      "execution_count": null,
      "outputs": [
        {
          "output_type": "stream",
          "name": "stdout",
          "text": [
            "72\n",
            "<class 'int'>\n"
          ]
        }
      ]
    },
    {
      "cell_type": "code",
      "source": [
        "# 16진수\n",
        "x = 0x110\n",
        "print(x)\n",
        "print(type(x))"
      ],
      "metadata": {
        "colab": {
          "base_uri": "https://localhost:8080/"
        },
        "id": "rGDU52Bua65r",
        "outputId": "82e2ba2c-58fc-403b-fd12-30a1e25fa291"
      },
      "execution_count": null,
      "outputs": [
        {
          "output_type": "stream",
          "name": "stdout",
          "text": [
            "272\n",
            "<class 'int'>\n"
          ]
        }
      ]
    },
    {
      "cell_type": "code",
      "source": [
        "bin(15)"
      ],
      "metadata": {
        "colab": {
          "base_uri": "https://localhost:8080/",
          "height": 35
        },
        "id": "91OoWJ9wcHgf",
        "outputId": "b997707b-e043-4e35-83e1-439ab1bb4ea7"
      },
      "execution_count": null,
      "outputs": [
        {
          "output_type": "execute_result",
          "data": {
            "text/plain": [
              "'0b1111'"
            ],
            "application/vnd.google.colaboratory.intrinsic+json": {
              "type": "string"
            }
          },
          "metadata": {},
          "execution_count": 10
        }
      ]
    },
    {
      "cell_type": "code",
      "source": [
        "oct(15)"
      ],
      "metadata": {
        "colab": {
          "base_uri": "https://localhost:8080/",
          "height": 35
        },
        "id": "NN1_NTnscKlH",
        "outputId": "409eecf3-4b6f-46f1-fbeb-3402066ff454"
      },
      "execution_count": null,
      "outputs": [
        {
          "output_type": "execute_result",
          "data": {
            "text/plain": [
              "'0o17'"
            ],
            "application/vnd.google.colaboratory.intrinsic+json": {
              "type": "string"
            }
          },
          "metadata": {},
          "execution_count": 11
        }
      ]
    },
    {
      "cell_type": "code",
      "source": [
        "hex(15)"
      ],
      "metadata": {
        "colab": {
          "base_uri": "https://localhost:8080/",
          "height": 35
        },
        "id": "AdAdRwvMcMaU",
        "outputId": "8be0e761-9708-47b2-85f7-88d3c268b1c5"
      },
      "execution_count": null,
      "outputs": [
        {
          "output_type": "execute_result",
          "data": {
            "text/plain": [
              "'0xf'"
            ],
            "application/vnd.google.colaboratory.intrinsic+json": {
              "type": "string"
            }
          },
          "metadata": {},
          "execution_count": 12
        }
      ]
    },
    {
      "cell_type": "code",
      "source": [
        "b = int('0b11010', 2)\n",
        "o = int('0o32', 8)\n",
        "h = int('0x1a', 16)\n",
        "print(b, o, h)"
      ],
      "metadata": {
        "id": "5aQ6UQ1bcqtY",
        "colab": {
          "base_uri": "https://localhost:8080/"
        },
        "outputId": "efa523b4-f920-4306-fae8-c969eec43296"
      },
      "execution_count": null,
      "outputs": [
        {
          "output_type": "stream",
          "name": "stdout",
          "text": [
            "26 26 26\n"
          ]
        }
      ]
    },
    {
      "cell_type": "code",
      "source": [
        "# 매우 중요한 내용, 새로운 자료형을 만났을 때 2개를 꼭 해보세요.\n",
        "x = 10\n",
        "print(type(x)) # 검색 키워드\n",
        "print(dir(x)) # 대략적인 속성을 알 수 있습니다."
      ],
      "metadata": {
        "colab": {
          "base_uri": "https://localhost:8080/"
        },
        "id": "Kr4u6R4nczdL",
        "outputId": "a3e1ac40-cf84-46b6-9948-1aa246588c50"
      },
      "execution_count": null,
      "outputs": [
        {
          "output_type": "stream",
          "name": "stdout",
          "text": [
            "<class 'int'>\n",
            "['__abs__', '__add__', '__and__', '__bool__', '__ceil__', '__class__', '__delattr__', '__dir__', '__divmod__', '__doc__', '__eq__', '__float__', '__floor__', '__floordiv__', '__format__', '__ge__', '__getattribute__', '__getnewargs__', '__gt__', '__hash__', '__index__', '__init__', '__init_subclass__', '__int__', '__invert__', '__le__', '__lshift__', '__lt__', '__mod__', '__mul__', '__ne__', '__neg__', '__new__', '__or__', '__pos__', '__pow__', '__radd__', '__rand__', '__rdivmod__', '__reduce__', '__reduce_ex__', '__repr__', '__rfloordiv__', '__rlshift__', '__rmod__', '__rmul__', '__ror__', '__round__', '__rpow__', '__rrshift__', '__rshift__', '__rsub__', '__rtruediv__', '__rxor__', '__setattr__', '__sizeof__', '__str__', '__sub__', '__subclasshook__', '__truediv__', '__trunc__', '__xor__', 'as_integer_ratio', 'bit_count', 'bit_length', 'conjugate', 'denominator', 'from_bytes', 'imag', 'numerator', 'real', 'to_bytes']\n"
          ]
        }
      ]
    },
    {
      "cell_type": "code",
      "source": [
        "# 메직 메서드: 이 타입에 속성을 정의합니다.\n",
        "abs(-5) # '__abs__'\n",
        "5 + 5   # '__add__'\n",
        "5 and 5 # '__and__'\n",
        "bool(5) # '__bool__'\n",
        "5 == 5  # '__eq__'\n",
        "\n",
        "# 메서드: 이 타입에서 변수를 다룰 수 있는 여러 기능을 제공합니다.\n",
        "# 'as_integer_ratio',\n",
        "# 'bit_count',\n",
        "# 'bit_length',\n",
        "# 'conjugate',\n",
        "# 'denominator',\n",
        "# 'from_bytes',\n",
        "# 'imag',\n",
        "# 'numerator',\n",
        "# 'real',\n",
        "# 'to_bytes'"
      ],
      "metadata": {
        "colab": {
          "base_uri": "https://localhost:8080/"
        },
        "id": "as15bIvudYmp",
        "outputId": "c08f90d8-2628-4a89-c9ec-a285490b6b21"
      },
      "execution_count": null,
      "outputs": [
        {
          "output_type": "execute_result",
          "data": {
            "text/plain": [
              "5"
            ]
          },
          "metadata": {},
          "execution_count": 15
        }
      ]
    },
    {
      "cell_type": "code",
      "source": [
        "x = 5\n",
        "x.bit_count() # 이걸 사용할 일은 평생에 한 번도 없을 수도 있습니다.\n",
        "# 1001, 2진수로 표현하면 1이 2개다!"
      ],
      "metadata": {
        "colab": {
          "base_uri": "https://localhost:8080/"
        },
        "id": "PGJ4fu5jhVNa",
        "outputId": "0a799f44-5934-4522-dd4c-684ed91e2fcf"
      },
      "execution_count": null,
      "outputs": [
        {
          "output_type": "execute_result",
          "data": {
            "text/plain": [
              "2"
            ]
          },
          "metadata": {},
          "execution_count": 16
        }
      ]
    },
    {
      "cell_type": "code",
      "source": [
        "# 정수의 메모리 미리 적재!\n",
        "# -5 ~ 256\n",
        "x = 256\n",
        "y = 256\n",
        "\n",
        "print(id(x), id(y))"
      ],
      "metadata": {
        "colab": {
          "base_uri": "https://localhost:8080/"
        },
        "id": "jPZP8Vdsh3Tn",
        "outputId": "03d22788-6c9f-4169-f26b-9b206d2b25d2"
      },
      "execution_count": null,
      "outputs": [
        {
          "output_type": "stream",
          "name": "stdout",
          "text": [
            "132284673761488 132284673761488\n"
          ]
        }
      ]
    },
    {
      "cell_type": "code",
      "source": [
        "# 정수의 메모리 미리 적재!\n",
        "# -5 ~ 256\n",
        "x = 257\n",
        "y = 257\n",
        "\n",
        "print(id(x), id(y))"
      ],
      "metadata": {
        "colab": {
          "base_uri": "https://localhost:8080/"
        },
        "id": "QPJ99ei0iHLW",
        "outputId": "b01b120c-6d94-444d-f696-3e549fc55322"
      },
      "execution_count": null,
      "outputs": [
        {
          "output_type": "stream",
          "name": "stdout",
          "text": [
            "132283402112848 132283402112880\n"
          ]
        }
      ]
    },
    {
      "cell_type": "code",
      "source": [
        "# 문제1\n",
        "x = 100\n",
        "y = 100\n",
        "z = x\n",
        "\n",
        "# 다음 화살표를 그려보세요!\n",
        "# z ┐\n",
        "# x -> 100\n",
        "# y ┘"
      ],
      "metadata": {
        "id": "paYrl0Waijmf"
      },
      "execution_count": null,
      "outputs": []
    },
    {
      "cell_type": "code",
      "source": [
        "# 문제1\n",
        "x = 258\n",
        "y = 258\n",
        "z = x\n",
        "\n",
        "# 다음 화살표를 그려보세요!\n",
        "# z ┐\n",
        "# x -> 258\n",
        "# y -> 258\n",
        "print(id(x), id(y), id(z))"
      ],
      "metadata": {
        "colab": {
          "base_uri": "https://localhost:8080/"
        },
        "id": "75VFmFEejBCP",
        "outputId": "e9cf739d-61ce-488c-a954-af4e525c94ff"
      },
      "execution_count": null,
      "outputs": [
        {
          "output_type": "stream",
          "name": "stdout",
          "text": [
            "132283402114064 132283402114096 132283402114064\n"
          ]
        }
      ]
    },
    {
      "cell_type": "markdown",
      "source": [
        "# 실수 자료형 (float)"
      ],
      "metadata": {
        "id": "t41BlTxZkKh9"
      }
    },
    {
      "cell_type": "code",
      "source": [
        "x = 10.0\n",
        "y = 10\n",
        "print(type(x), type(y))"
      ],
      "metadata": {
        "colab": {
          "base_uri": "https://localhost:8080/"
        },
        "id": "-t-7FggHjpI-",
        "outputId": "3a425e18-218b-424b-cfc8-b687ef9e5427"
      },
      "execution_count": null,
      "outputs": [
        {
          "output_type": "stream",
          "name": "stdout",
          "text": [
            "<class 'float'> <class 'int'>\n"
          ]
        }
      ]
    },
    {
      "cell_type": "code",
      "source": [
        "# 산술연산\n",
        "x = 10.0\n",
        "y = 2\n",
        "result = x * y\n",
        "print(result)\n",
        "print(type(result))"
      ],
      "metadata": {
        "colab": {
          "base_uri": "https://localhost:8080/"
        },
        "id": "9XP59X5WkMTA",
        "outputId": "035689f7-390e-4da0-a55c-c270f637da6a"
      },
      "execution_count": null,
      "outputs": [
        {
          "output_type": "stream",
          "name": "stdout",
          "text": [
            "20.0\n",
            "<class 'float'>\n"
          ]
        }
      ]
    },
    {
      "cell_type": "code",
      "source": [
        "# float의 특수값\n",
        "# 이 특수값은 사용을 하니 기억을 해주세요.\n",
        "# 어디서 주로 사용하나요? 정렬과 같은 파트에서 초깃값으로 사용을 많이 합니다.\n",
        "float(\"inf\") > 10000000000000000000000000000\n",
        "float(\"-inf\") < -999999999999999"
      ],
      "metadata": {
        "colab": {
          "base_uri": "https://localhost:8080/"
        },
        "id": "5JHhaclJklVt",
        "outputId": "1ec3444f-c1fb-438b-ee58-35015c9f3ee0"
      },
      "execution_count": null,
      "outputs": [
        {
          "output_type": "execute_result",
          "data": {
            "text/plain": [
              "True"
            ]
          },
          "metadata": {},
          "execution_count": 28
        }
      ]
    },
    {
      "cell_type": "code",
      "source": [
        "print(2e3) # 지수표현, float형\n",
        "print(2E3)\n",
        "\n",
        "2 * (10 ** 3) # int 형"
      ],
      "metadata": {
        "colab": {
          "base_uri": "https://localhost:8080/"
        },
        "id": "sx14U4QWtpDF",
        "outputId": "8a354405-66c3-401c-c1b0-d93d9479fa6e"
      },
      "execution_count": null,
      "outputs": [
        {
          "output_type": "stream",
          "name": "stdout",
          "text": [
            "2000.0\n",
            "2000.0\n"
          ]
        },
        {
          "output_type": "execute_result",
          "data": {
            "text/plain": [
              "2000"
            ]
          },
          "metadata": {},
          "execution_count": 167
        }
      ]
    },
    {
      "cell_type": "code",
      "source": [
        "float(\"inf\") > 10e100 # 계산에 한계인 것 같은데 확인 필요\n",
        "float(\"inf\") > 10e307\n",
        "float(\"inf\") > 10e308\n",
        "# python에서는 IEEE 754 배정밀도 부동 소수점 표현\n",
        "# IEEE 754 배정밀도 부동 소수점 표현에서 가장 큰 (정규화된) 유한 값은 대략 1.8 * (10 ** 308)입니다.\n",
        "# 10e308는 이 근사치보다 큰 값입니다.\n",
        "# int는 메모리 제한 내에서 한계 없이 표현합니다.\n",
        "float(\"inf\") == 10e308, float(\"inf\") == 10e309"
      ],
      "metadata": {
        "colab": {
          "base_uri": "https://localhost:8080/"
        },
        "id": "QWo9TyyflWtL",
        "outputId": "c0bde042-3711-4fb3-f87b-d234769a09e4"
      },
      "execution_count": null,
      "outputs": [
        {
          "output_type": "execute_result",
          "data": {
            "text/plain": [
              "(True, True)"
            ]
          },
          "metadata": {},
          "execution_count": 71
        }
      ]
    },
    {
      "cell_type": "code",
      "source": [
        "print(float('inf') > 10e307)\n",
        "print(float('inf') > 10e308)\n",
        "\n",
        "float('inf') == 10e307, float('inf') == 10e308, float('inf') == 10e309"
      ],
      "metadata": {
        "colab": {
          "base_uri": "https://localhost:8080/"
        },
        "id": "iI5okwcr3AJ8",
        "outputId": "0142b82a-57c8-427e-e149-ae4eca243087"
      },
      "execution_count": null,
      "outputs": [
        {
          "output_type": "stream",
          "name": "stdout",
          "text": [
            "True\n",
            "False\n"
          ]
        },
        {
          "output_type": "execute_result",
          "data": {
            "text/plain": [
              "(False, True, True)"
            ]
          },
          "metadata": {},
          "execution_count": 175
        }
      ]
    },
    {
      "cell_type": "code",
      "source": [
        "!python --version"
      ],
      "metadata": {
        "colab": {
          "base_uri": "https://localhost:8080/"
        },
        "id": "PeDo65LblxJj",
        "outputId": "ea42f79b-1a1c-4f7b-9737-84e48ed6c0f1"
      },
      "execution_count": null,
      "outputs": [
        {
          "output_type": "stream",
          "name": "stdout",
          "text": [
            "Python 3.10.12\n"
          ]
        }
      ]
    },
    {
      "cell_type": "code",
      "source": [
        "# 부동소숫점 문제\n",
        "0.1 + 0.2\n",
        "# 왜 발생하는가? 결국 컴퓨터가 연산하는 것은 10진수가 아니라 2진수인데\n",
        "# 2진수 변환에서 무한수가 발생이 되므로"
      ],
      "metadata": {
        "colab": {
          "base_uri": "https://localhost:8080/"
        },
        "id": "FLqnVB4zlIBs",
        "outputId": "a1365e84-2a58-4842-a95d-ac9b2c18b7d6"
      },
      "execution_count": null,
      "outputs": [
        {
          "output_type": "execute_result",
          "data": {
            "text/plain": [
              "0.30000000000000004"
            ]
          },
          "metadata": {},
          "execution_count": 29
        }
      ]
    },
    {
      "cell_type": "code",
      "source": [
        "import decimal\n",
        "\n",
        "# 각각 모듈 import해서 사용하셔야 합니다.\n",
        "float(decimal.Decimal('.1') + decimal.Decimal('.2'))\n",
        "# float(fractions.Fraction('0.1') + fractions.Fraction('0.2'))"
      ],
      "metadata": {
        "colab": {
          "base_uri": "https://localhost:8080/"
        },
        "id": "coOOGpFkmPiB",
        "outputId": "3a3bf8b4-5ef8-49ee-8d72-71455905f7de"
      },
      "execution_count": null,
      "outputs": [
        {
          "output_type": "execute_result",
          "data": {
            "text/plain": [
              "0.3"
            ]
          },
          "metadata": {},
          "execution_count": 38
        }
      ]
    },
    {
      "cell_type": "code",
      "source": [
        "x = 10.0\n",
        "print(type(x), dir(x))"
      ],
      "metadata": {
        "colab": {
          "base_uri": "https://localhost:8080/"
        },
        "id": "wdS8_r6Em7Cx",
        "outputId": "187fb061-b354-4c25-c64d-e2d5960c878c"
      },
      "execution_count": null,
      "outputs": [
        {
          "output_type": "stream",
          "name": "stdout",
          "text": [
            "<class 'float'> ['__abs__', '__add__', '__bool__', '__ceil__', '__class__', '__delattr__', '__dir__', '__divmod__', '__doc__', '__eq__', '__float__', '__floor__', '__floordiv__', '__format__', '__ge__', '__getattribute__', '__getformat__', '__getnewargs__', '__gt__', '__hash__', '__init__', '__init_subclass__', '__int__', '__le__', '__lt__', '__mod__', '__mul__', '__ne__', '__neg__', '__new__', '__pos__', '__pow__', '__radd__', '__rdivmod__', '__reduce__', '__reduce_ex__', '__repr__', '__rfloordiv__', '__rmod__', '__rmul__', '__round__', '__rpow__', '__rsub__', '__rtruediv__', '__setattr__', '__setformat__', '__sizeof__', '__str__', '__sub__', '__subclasshook__', '__truediv__', '__trunc__', 'as_integer_ratio', 'conjugate', 'fromhex', 'hex', 'imag', 'is_integer', 'real']\n"
          ]
        }
      ]
    },
    {
      "cell_type": "code",
      "source": [
        "# 메서드\n",
        "# 'conjugate',\n",
        "# 'fromhex',\n",
        "# 'hex',\n",
        "# 'imag',\n",
        "# 'is_integer',\n",
        "# 'real'"
      ],
      "metadata": {
        "id": "ToiizBzHngP6"
      },
      "execution_count": null,
      "outputs": []
    },
    {
      "cell_type": "markdown",
      "source": [
        "# 복소수 자료형 (complex)"
      ],
      "metadata": {
        "id": "CBnM8wh8nrHG"
      }
    },
    {
      "cell_type": "code",
      "source": [
        "x = 3 + 4j\n",
        "x"
      ],
      "metadata": {
        "colab": {
          "base_uri": "https://localhost:8080/"
        },
        "id": "hId0QnUWnsV5",
        "outputId": "adde86be-3fc6-48cc-dc12-bcd31ed95a61"
      },
      "execution_count": null,
      "outputs": [
        {
          "output_type": "execute_result",
          "data": {
            "text/plain": [
              "(3+4j)"
            ]
          },
          "metadata": {},
          "execution_count": 40
        }
      ]
    },
    {
      "cell_type": "code",
      "source": [
        "type(x), dir(x)"
      ],
      "metadata": {
        "id": "m3a7bxtony18"
      },
      "execution_count": null,
      "outputs": []
    },
    {
      "cell_type": "code",
      "source": [
        "# 'conjugate',\n",
        "# 'imag',\n",
        "# 'real'"
      ],
      "metadata": {
        "id": "nG0BMqZon8Sl"
      },
      "execution_count": null,
      "outputs": []
    },
    {
      "cell_type": "code",
      "source": [
        "x = 3 + 4j\n",
        "print(x.real)\n",
        "print(x.imag)"
      ],
      "metadata": {
        "colab": {
          "base_uri": "https://localhost:8080/"
        },
        "id": "w-f14PYNoAcW",
        "outputId": "8d10cd6e-52d4-4c24-8459-d08cf7d05488"
      },
      "execution_count": null,
      "outputs": [
        {
          "output_type": "stream",
          "name": "stdout",
          "text": [
            "3.0\n",
            "4.0\n"
          ]
        }
      ]
    },
    {
      "cell_type": "markdown",
      "source": [
        "# 문자열 자료형 (str)"
      ],
      "metadata": {
        "id": "zLarN59ko4_k"
      }
    },
    {
      "cell_type": "code",
      "source": [
        "x = 'hello world'\n",
        "y = \"hello world\"\n",
        "z = '''hello world''' # 여러줄 가능합니다.\n",
        "k = \"\"\"hello world\"\"\" # 여러줄 가능합니다."
      ],
      "metadata": {
        "id": "GhCf5itTo6h9"
      },
      "execution_count": null,
      "outputs": []
    },
    {
      "cell_type": "code",
      "source": [
        "# 회사마다 컨벤션이 다릅니다.\n",
        "a = 'hello world'\n",
        "b = '''hello world'''"
      ],
      "metadata": {
        "id": "y-b0IvZkpQ9G"
      },
      "execution_count": null,
      "outputs": []
    },
    {
      "cell_type": "code",
      "source": [
        "a = '''\n",
        "hello \\n world\n",
        "'''\n",
        "a # 그냥 a를 출력했을 때\n",
        "print(a) # print로 a를 출력했을 때"
      ],
      "metadata": {
        "colab": {
          "base_uri": "https://localhost:8080/"
        },
        "id": "dpjU-BYrpbF2",
        "outputId": "862e79ff-32ea-42f6-dc2a-2dcd833e95d4"
      },
      "execution_count": null,
      "outputs": [
        {
          "output_type": "stream",
          "name": "stdout",
          "text": [
            "\n",
            "hello \n",
            " world\n",
            "\n"
          ]
        }
      ]
    },
    {
      "cell_type": "code",
      "source": [
        "# 참고삼아 알아두세요. 평생에 한 두번 볼 수 있습니다.\n",
        "# 참고로 r표기는 Django 2.x에서 url이 정규표현식을 쓰기 때문에\n",
        "# 자주 볼 수도 있습니다. 3.x에서는 사라졌습니다.\n",
        "a = r'hello \\n world' # r은 raw 날것에 의미를 지니고 있습니다.\n",
        "a\n",
        "print(a)"
      ],
      "metadata": {
        "colab": {
          "base_uri": "https://localhost:8080/"
        },
        "id": "mYvasexIppQ5",
        "outputId": "ff7db869-83c5-4828-84e8-fb70913a9977"
      },
      "execution_count": null,
      "outputs": [
        {
          "output_type": "stream",
          "name": "stdout",
          "text": [
            "hello \\n world\n"
          ]
        }
      ]
    },
    {
      "cell_type": "code",
      "source": [
        "i = '''안녕하세요.\n",
        "저는 위니브의 대표 이호준입니다.\n",
        "파이썬 참 좋아요.\n",
        "여러분 정말 잘 선택하셨어요.\n",
        "'''"
      ],
      "metadata": {
        "id": "E7cQHDUwqeXv"
      },
      "execution_count": null,
      "outputs": []
    },
    {
      "cell_type": "code",
      "source": [
        "i # 이스케이프 문자가 처리안되어 출력\n",
        "print(i) # 이스케이프 문자가 처리되어 출력"
      ],
      "metadata": {
        "colab": {
          "base_uri": "https://localhost:8080/"
        },
        "id": "sDJpTPN3qgrP",
        "outputId": "b5ad7cef-6876-4a03-9b40-941aa57f6875"
      },
      "execution_count": null,
      "outputs": [
        {
          "output_type": "stream",
          "name": "stdout",
          "text": [
            "안녕하세요.\n",
            "저는 위니브의 대표 이호준입니다.\n",
            "파이썬 참 좋아요.\n",
            "여러분 정말 잘 선택하셨어요.\n",
            "\n"
          ]
        }
      ]
    },
    {
      "cell_type": "code",
      "source": [
        "# 문자열에 연산\n",
        "x = 'hello'\n",
        "y = 'world'\n",
        "print(x + y)"
      ],
      "metadata": {
        "colab": {
          "base_uri": "https://localhost:8080/"
        },
        "id": "UYYesUd8q2XE",
        "outputId": "5302bbfe-a44d-4edc-fbc6-87bb4946f7e8"
      },
      "execution_count": null,
      "outputs": [
        {
          "output_type": "stream",
          "name": "stdout",
          "text": [
            "helloworld\n"
          ]
        }
      ]
    },
    {
      "cell_type": "code",
      "source": [
        "x = 'hello'\n",
        "print(x * 3)"
      ],
      "metadata": {
        "colab": {
          "base_uri": "https://localhost:8080/"
        },
        "id": "nTDg7E1Eq4Pl",
        "outputId": "abf0cd15-b134-49a2-a618-37ba481d2179"
      },
      "execution_count": null,
      "outputs": [
        {
          "output_type": "stream",
          "name": "stdout",
          "text": [
            "hellohellohello\n"
          ]
        }
      ]
    },
    {
      "cell_type": "code",
      "source": [
        "# 지금은 리스트는 아니니 기억하지 않으셔도 됩니다.\n",
        "# 이런 연산들은 문자열에서는 문제가 없지만\n",
        "# 다른 자료형들은 아래와 같은 문제가 생깁니다.\n",
        "\n",
        "x = [[100]*3, [10]*2]\n",
        "x"
      ],
      "metadata": {
        "colab": {
          "base_uri": "https://localhost:8080/"
        },
        "id": "y3Wgh4mSq5pP",
        "outputId": "4663dca0-ade5-4151-e6a5-07841cb81ab7"
      },
      "execution_count": null,
      "outputs": [
        {
          "output_type": "execute_result",
          "data": {
            "text/plain": [
              "[[100, 100, 100], [10, 10]]"
            ]
          },
          "metadata": {},
          "execution_count": 55
        }
      ]
    },
    {
      "cell_type": "code",
      "source": [
        "x[0][0] = 1\n",
        "x"
      ],
      "metadata": {
        "colab": {
          "base_uri": "https://localhost:8080/"
        },
        "id": "JWdpqGGzrP07",
        "outputId": "f2506308-d140-442e-b692-d2f0b38a09ae"
      },
      "execution_count": null,
      "outputs": [
        {
          "output_type": "execute_result",
          "data": {
            "text/plain": [
              "[[1, 100, 100], [10, 10]]"
            ]
          },
          "metadata": {},
          "execution_count": 57
        }
      ]
    },
    {
      "cell_type": "code",
      "source": [
        "x = [[[]*2]*3]*2\n",
        "x[0][0] = 10\n",
        "x\n",
        "# 종훈님 훌륭합니다.\n",
        "# id를 찍어보시면 됩니다.\n",
        "# 가리키고 있는 주소가 복사되었습니다."
      ],
      "metadata": {
        "colab": {
          "base_uri": "https://localhost:8080/"
        },
        "id": "iL53jm58rWLA",
        "outputId": "314db9e0-375a-45a3-a0b8-d73ad177b8d0"
      },
      "execution_count": null,
      "outputs": [
        {
          "output_type": "execute_result",
          "data": {
            "text/plain": [
              "[[10, [], []], [10, [], []]]"
            ]
          },
          "metadata": {},
          "execution_count": 61
        }
      ]
    },
    {
      "cell_type": "markdown",
      "source": [
        "## 문자열 인덱싱"
      ],
      "metadata": {
        "id": "zjJWTT9Wr7IB"
      }
    },
    {
      "cell_type": "code",
      "source": [
        "s = 'hello world'\n",
        "s[0]"
      ],
      "metadata": {
        "colab": {
          "base_uri": "https://localhost:8080/",
          "height": 35
        },
        "id": "F6xN_LYSr9NE",
        "outputId": "115c8692-1c07-42c1-cbfb-2261d630eb61"
      },
      "execution_count": null,
      "outputs": [
        {
          "output_type": "execute_result",
          "data": {
            "text/plain": [
              "'h'"
            ],
            "application/vnd.google.colaboratory.intrinsic+json": {
              "type": "string"
            }
          },
          "metadata": {},
          "execution_count": 62
        }
      ]
    },
    {
      "cell_type": "code",
      "source": [
        "s[-1]"
      ],
      "metadata": {
        "colab": {
          "base_uri": "https://localhost:8080/",
          "height": 35
        },
        "id": "_fyRwaY8sE_N",
        "outputId": "9b44d753-ed7e-47f6-9adc-25e7403cba2d"
      },
      "execution_count": null,
      "outputs": [
        {
          "output_type": "execute_result",
          "data": {
            "text/plain": [
              "'d'"
            ],
            "application/vnd.google.colaboratory.intrinsic+json": {
              "type": "string"
            }
          },
          "metadata": {},
          "execution_count": 63
        }
      ]
    },
    {
      "cell_type": "code",
      "source": [
        "s[-11]"
      ],
      "metadata": {
        "colab": {
          "base_uri": "https://localhost:8080/",
          "height": 35
        },
        "id": "pFMf3vXesMfQ",
        "outputId": "de1ab377-edcd-46d6-cdc0-8efac9cb97c3"
      },
      "execution_count": null,
      "outputs": [
        {
          "output_type": "execute_result",
          "data": {
            "text/plain": [
              "'h'"
            ],
            "application/vnd.google.colaboratory.intrinsic+json": {
              "type": "string"
            }
          },
          "metadata": {},
          "execution_count": 65
        }
      ]
    },
    {
      "cell_type": "code",
      "source": [
        "# 이거 중요합니다. 햇갈려요!\n",
        "# 양수와 음수로는 한 번만 갈 수 있습니다.\n",
        "s[-12] # error\n",
        "s[100] # error"
      ],
      "metadata": {
        "id": "zevBL0rwsWFq"
      },
      "execution_count": null,
      "outputs": []
    },
    {
      "cell_type": "code",
      "source": [
        "s = 'weniv CEO leehojun'\n",
        "# s[start:stop:step]\n",
        "# ':step'은 통으로 생략이 가능합니다\n",
        "# start와 stop은 숫자만 생략이 가능합니다.\n",
        "# 중요: slicing은 error 발생시키지 않습니다."
      ],
      "metadata": {
        "id": "v3UG_dIT99rU"
      },
      "execution_count": null,
      "outputs": []
    },
    {
      "cell_type": "code",
      "source": [
        "s[0:5]\n",
        "# s[5:0]\n",
        "s[:5]\n",
        "s[6:]\n",
        "s[0:5:2]\n",
        "# 2칸씩 건너 띄는 코드는 거의 작성하지 않고(알고리즘 문제에서는 많이 사용합니다.)\n",
        "# step 값으로는 -1을 많이 사용합니다.\n",
        "s[::-1]\n",
        "s[5:0:-1] # ????, 왜 의도한 바대로 안나왔을까요? 5부터 1까지이기 때문에 그렇습니다!\n",
        "# 'weniv CEO leehojun' 여기서 5부터 시작해보세요!"
      ],
      "metadata": {
        "colab": {
          "base_uri": "https://localhost:8080/",
          "height": 35
        },
        "id": "hyvbE8mn-St-",
        "outputId": "73eb47d6-7a5c-41e4-9e60-aee59e00504f"
      },
      "execution_count": null,
      "outputs": [
        {
          "output_type": "execute_result",
          "data": {
            "text/plain": [
              "' vine'"
            ],
            "application/vnd.google.colaboratory.intrinsic+json": {
              "type": "string"
            }
          },
          "metadata": {},
          "execution_count": 80
        }
      ]
    },
    {
      "cell_type": "code",
      "source": [
        "s = 'leehojun.png'\n",
        "# 자주쓰지만 햇갈리는 것\n",
        "\n",
        "# 문제1 : .png를 잘라내서 없애 주세요.\n",
        "s[2:-4] # step값이 음에 값이 아닙니다! 양에 값이니 뒤로 가지 않습니다.\n",
        "# -4에 위치를 양에 인덱스로 변환(.에 인덱스로, 8) 후 슬라이싱합니다.\n",
        "\n",
        "# 문제2 : png만 잘라내 주세요.\n",
        "s[-3:] # 정답 (-3을 양에 인덱스로 변환하면 9부터 마지막까지 결국 [9:]와 같습니다.)\n",
        "s[-1:-4] # 오답 (음에 방향으로 가려면 step값을 -로 명시해야 합니다.)\n",
        "# s['g'의 위치:'.의 위치'] => s[11:8]\n",
        "\n",
        "# 슬라이싱에서 알아두어야 할 점\n",
        "# 슬라이싱이 C구현체로 되어 있어 메서드보다 통상 8배 정도 빠릅니다.\n",
        "# 슬라이싱으로 copy한 객체는 얕은 복사가 됩니다.\n",
        "# 애러를 뿜지 않는다."
      ],
      "metadata": {
        "colab": {
          "base_uri": "https://localhost:8080/",
          "height": 35
        },
        "id": "ZxFSLL4P_IQe",
        "outputId": "1ac72a95-eb3b-4094-af5b-e68715e0fd0f"
      },
      "execution_count": null,
      "outputs": [
        {
          "output_type": "execute_result",
          "data": {
            "text/plain": [
              "''"
            ],
            "application/vnd.google.colaboratory.intrinsic+json": {
              "type": "string"
            }
          },
          "metadata": {},
          "execution_count": 103
        }
      ]
    },
    {
      "cell_type": "code",
      "source": [
        "s[-3:-0]\n",
        "s[-3:0]\n",
        "s[8:12]\n",
        "s[-3:]"
      ],
      "metadata": {
        "colab": {
          "base_uri": "https://localhost:8080/",
          "height": 35
        },
        "id": "oPylNPCwLTci",
        "outputId": "08d2c971-c97c-4b56-f990-17d4062aad4c"
      },
      "execution_count": null,
      "outputs": [
        {
          "output_type": "execute_result",
          "data": {
            "text/plain": [
              "'png'"
            ],
            "application/vnd.google.colaboratory.intrinsic+json": {
              "type": "string"
            }
          },
          "metadata": {},
          "execution_count": 109
        }
      ]
    },
    {
      "cell_type": "code",
      "source": [
        "# 아래처럼 되면 x와 y는 같은 곳을 가리키게 됩니다.\n",
        "x = [10, 20, 30]\n",
        "y = x\n",
        "print(id(x), id(y))\n",
        "\n",
        "# 아래처럼 되면 x와 y는 다른 곳을 가리키게 됩니다.\n",
        "# 아래와 같이 화살표를 전혀 다른 곳을 가리키게 할 때 사용\n",
        "x = [10, 20, 30]\n",
        "y = x[:]\n",
        "print(id(x), id(y))"
      ],
      "metadata": {
        "colab": {
          "base_uri": "https://localhost:8080/"
        },
        "id": "fEZ5E_Y7C7KR",
        "outputId": "abab0fb2-96f1-45e6-c1b1-ec087af28fee"
      },
      "execution_count": null,
      "outputs": [
        {
          "output_type": "stream",
          "name": "stdout",
          "text": [
            "132283402360192 132283400644224\n",
            "132283400677248 132283400677248\n"
          ]
        }
      ]
    },
    {
      "cell_type": "code",
      "source": [
        "s[:-4]"
      ],
      "metadata": {
        "colab": {
          "base_uri": "https://localhost:8080/",
          "height": 35
        },
        "id": "ko7c320HB4o9",
        "outputId": "4a51a2d3-681a-4f3d-ad9d-4982a4d04288"
      },
      "execution_count": null,
      "outputs": [
        {
          "output_type": "execute_result",
          "data": {
            "text/plain": [
              "'leehojun'"
            ],
            "application/vnd.google.colaboratory.intrinsic+json": {
              "type": "string"
            }
          },
          "metadata": {},
          "execution_count": 84
        }
      ]
    },
    {
      "cell_type": "markdown",
      "source": [
        "## 문자열에 메서드"
      ],
      "metadata": {
        "id": "whe_c3nrEVGh"
      }
    },
    {
      "cell_type": "code",
      "source": [
        "s = 'weniv CEO licat'\n",
        "type(s), dir(s)"
      ],
      "metadata": {
        "colab": {
          "base_uri": "https://localhost:8080/"
        },
        "id": "xQaA5mdnEoDl",
        "outputId": "01e637f4-0686-4fae-e1ce-067bdaae830b"
      },
      "execution_count": null,
      "outputs": [
        {
          "output_type": "execute_result",
          "data": {
            "text/plain": [
              "(str,\n",
              " ['__add__',\n",
              "  '__class__',\n",
              "  '__contains__',\n",
              "  '__delattr__',\n",
              "  '__dir__',\n",
              "  '__doc__',\n",
              "  '__eq__',\n",
              "  '__format__',\n",
              "  '__ge__',\n",
              "  '__getattribute__',\n",
              "  '__getitem__',\n",
              "  '__getnewargs__',\n",
              "  '__gt__',\n",
              "  '__hash__',\n",
              "  '__init__',\n",
              "  '__init_subclass__',\n",
              "  '__iter__',\n",
              "  '__le__',\n",
              "  '__len__',\n",
              "  '__lt__',\n",
              "  '__mod__',\n",
              "  '__mul__',\n",
              "  '__ne__',\n",
              "  '__new__',\n",
              "  '__reduce__',\n",
              "  '__reduce_ex__',\n",
              "  '__repr__',\n",
              "  '__rmod__',\n",
              "  '__rmul__',\n",
              "  '__setattr__',\n",
              "  '__sizeof__',\n",
              "  '__str__',\n",
              "  '__subclasshook__',\n",
              "  'capitalize',\n",
              "  'casefold',\n",
              "  'center',\n",
              "  'count',\n",
              "  'encode',\n",
              "  'endswith',\n",
              "  'expandtabs',\n",
              "  'find',\n",
              "  'format',\n",
              "  'format_map',\n",
              "  'index',\n",
              "  'isalnum',\n",
              "  'isalpha',\n",
              "  'isascii',\n",
              "  'isdecimal',\n",
              "  'isdigit',\n",
              "  'isidentifier',\n",
              "  'islower',\n",
              "  'isnumeric',\n",
              "  'isprintable',\n",
              "  'isspace',\n",
              "  'istitle',\n",
              "  'isupper',\n",
              "  'join',\n",
              "  'ljust',\n",
              "  'lower',\n",
              "  'lstrip',\n",
              "  'maketrans',\n",
              "  'partition',\n",
              "  'removeprefix',\n",
              "  'removesuffix',\n",
              "  'replace',\n",
              "  'rfind',\n",
              "  'rindex',\n",
              "  'rjust',\n",
              "  'rpartition',\n",
              "  'rsplit',\n",
              "  'rstrip',\n",
              "  'split',\n",
              "  'splitlines',\n",
              "  'startswith',\n",
              "  'strip',\n",
              "  'swapcase',\n",
              "  'title',\n",
              "  'translate',\n",
              "  'upper',\n",
              "  'zfill'])"
            ]
          },
          "metadata": {},
          "execution_count": 88
        }
      ]
    },
    {
      "cell_type": "code",
      "source": [
        "s = 'weniv CEO licat'\n",
        "s.lower() #전체를 소문자로 바꿔주는 method\n",
        "s.upper() #전체를 대문자로 바꿔주는 method"
      ],
      "metadata": {
        "colab": {
          "base_uri": "https://localhost:8080/",
          "height": 35
        },
        "id": "T6jhSQKGEeLi",
        "outputId": "62f5b2c4-434e-45e3-aa3f-c9ef7ab1673c"
      },
      "execution_count": null,
      "outputs": [
        {
          "output_type": "execute_result",
          "data": {
            "text/plain": [
              "'WENIV CEO LICAT'"
            ],
            "application/vnd.google.colaboratory.intrinsic+json": {
              "type": "string"
            }
          },
          "metadata": {},
          "execution_count": 90
        }
      ]
    },
    {
      "cell_type": "code",
      "source": [
        "s = 'weniv CEO licat'\n",
        "s.find('CEO'), s.index('CEO')"
      ],
      "metadata": {
        "colab": {
          "base_uri": "https://localhost:8080/"
        },
        "id": "okEQipGgEnas",
        "outputId": "3331cff4-11f3-4f26-ee18-28f9d95b111c"
      },
      "execution_count": null,
      "outputs": [
        {
          "output_type": "execute_result",
          "data": {
            "text/plain": [
              "(6, 6)"
            ]
          },
          "metadata": {},
          "execution_count": 92
        }
      ]
    },
    {
      "cell_type": "code",
      "source": [
        "s = 'weniv CEO licat'\n",
        "s.find('CTO')"
      ],
      "metadata": {
        "colab": {
          "base_uri": "https://localhost:8080/"
        },
        "id": "8EVcsyoxFI41",
        "outputId": "452e1d28-6d05-499a-efbe-bcb4296e0408"
      },
      "execution_count": null,
      "outputs": [
        {
          "output_type": "execute_result",
          "data": {
            "text/plain": [
              "-1"
            ]
          },
          "metadata": {},
          "execution_count": 93
        }
      ]
    },
    {
      "cell_type": "code",
      "source": [
        "s = 'weniv CEO licat'\n",
        "s.index('CTO')"
      ],
      "metadata": {
        "colab": {
          "base_uri": "https://localhost:8080/",
          "height": 199
        },
        "id": "UaaFdxCkFL_a",
        "outputId": "4a8c3dc0-4b22-4a52-b737-9def208d77cf"
      },
      "execution_count": null,
      "outputs": [
        {
          "output_type": "error",
          "ename": "ValueError",
          "evalue": "ignored",
          "traceback": [
            "\u001b[0;31m---------------------------------------------------------------------------\u001b[0m",
            "\u001b[0;31mValueError\u001b[0m                                Traceback (most recent call last)",
            "\u001b[0;32m<ipython-input-94-97c2ec309699>\u001b[0m in \u001b[0;36m<cell line: 2>\u001b[0;34m()\u001b[0m\n\u001b[1;32m      1\u001b[0m \u001b[0ms\u001b[0m \u001b[0;34m=\u001b[0m \u001b[0;34m'weniv CEO licat'\u001b[0m\u001b[0;34m\u001b[0m\u001b[0;34m\u001b[0m\u001b[0m\n\u001b[0;32m----> 2\u001b[0;31m \u001b[0ms\u001b[0m\u001b[0;34m.\u001b[0m\u001b[0mindex\u001b[0m\u001b[0;34m(\u001b[0m\u001b[0;34m'CTO'\u001b[0m\u001b[0;34m)\u001b[0m\u001b[0;34m\u001b[0m\u001b[0;34m\u001b[0m\u001b[0m\n\u001b[0m",
            "\u001b[0;31mValueError\u001b[0m: substring not found"
          ]
        }
      ]
    },
    {
      "cell_type": "code",
      "source": [
        "# 의도에 맞게 둘 다 사용합니다.\n",
        "s = 'weniv CEO licat'\n",
        "bool(s.find('CTO')) # 또 -1이 python에서는 index도 있기 때문에 주의해야 합니다.\n",
        "bool(s.find('CTO') == -1)\n",
        "\n",
        "# 애러가 나지 않는 코드가 좋은 코드다? X\n",
        "# 애러가 적절한 곳에서 나고, 예외처리가 견고히 되어있는 코드가 좋은 코드입니다."
      ],
      "metadata": {
        "colab": {
          "base_uri": "https://localhost:8080/"
        },
        "id": "vPCrFNLUFaxk",
        "outputId": "0a9a7130-4b31-4464-9df6-7caab12d0b11"
      },
      "execution_count": null,
      "outputs": [
        {
          "output_type": "execute_result",
          "data": {
            "text/plain": [
              "True"
            ]
          },
          "metadata": {},
          "execution_count": 95
        }
      ]
    },
    {
      "cell_type": "code",
      "source": [
        "s = 'weniv CEO licat'\n",
        "s.count('i')"
      ],
      "metadata": {
        "colab": {
          "base_uri": "https://localhost:8080/"
        },
        "id": "lTwRk7PQGFo2",
        "outputId": "ef5c5d2d-c290-49b4-fdef-2c6cdbfd0e89"
      },
      "execution_count": null,
      "outputs": [
        {
          "output_type": "execute_result",
          "data": {
            "text/plain": [
              "2"
            ]
          },
          "metadata": {},
          "execution_count": 96
        }
      ]
    },
    {
      "cell_type": "code",
      "source": [
        "'[1, 2, 3, 4, 5, 6, 7, 8, 9, 10, 11]'.count('1')"
      ],
      "metadata": {
        "colab": {
          "base_uri": "https://localhost:8080/"
        },
        "id": "2CGtfFoFGo0G",
        "outputId": "9ffbae4f-dc97-4dea-d839-676f67fc0b67"
      },
      "execution_count": null,
      "outputs": [
        {
          "output_type": "execute_result",
          "data": {
            "text/plain": [
              "9"
            ]
          },
          "metadata": {},
          "execution_count": 97
        }
      ]
    },
    {
      "cell_type": "code",
      "source": [
        "s = '    weniv CEO licat     '\n",
        "s.strip() #양쪽 공백을 제거하는 method"
      ],
      "metadata": {
        "colab": {
          "base_uri": "https://localhost:8080/",
          "height": 35
        },
        "id": "jXS2XK70Hici",
        "outputId": "d2d6c00e-fc39-470d-834c-e790d93d3b12"
      },
      "execution_count": null,
      "outputs": [
        {
          "output_type": "execute_result",
          "data": {
            "text/plain": [
              "'weniv CEO licat'"
            ],
            "application/vnd.google.colaboratory.intrinsic+json": {
              "type": "string"
            }
          },
          "metadata": {},
          "execution_count": 99
        }
      ]
    },
    {
      "cell_type": "code",
      "source": [
        "'    ,!!  hello world   '.strip(' ,!')\n",
        "#양쪽의 공백과 ',!'을 제거해주는 method"
      ],
      "metadata": {
        "colab": {
          "base_uri": "https://localhost:8080/",
          "height": 35
        },
        "id": "dKuM_yx3HtaE",
        "outputId": "6dee8c98-e9c7-41f3-ae51-3df63864c6f8"
      },
      "execution_count": null,
      "outputs": [
        {
          "output_type": "execute_result",
          "data": {
            "text/plain": [
              "'hello world'"
            ],
            "application/vnd.google.colaboratory.intrinsic+json": {
              "type": "string"
            }
          },
          "metadata": {},
          "execution_count": 98
        }
      ]
    },
    {
      "cell_type": "code",
      "source": [
        "s = 'weniv CEO licat'\n",
        "s.replace('CEO', 'CTO') #원하는 문자열을 다른 문자열로 대체할 때 사용하는 method"
      ],
      "metadata": {
        "colab": {
          "base_uri": "https://localhost:8080/",
          "height": 35
        },
        "id": "pIumD2KVHwS8",
        "outputId": "fb7bd35b-a528-49d6-9b2c-d2deed9bc519"
      },
      "execution_count": null,
      "outputs": [
        {
          "output_type": "execute_result",
          "data": {
            "text/plain": [
              "'weniv CTO licat'"
            ],
            "application/vnd.google.colaboratory.intrinsic+json": {
              "type": "string"
            }
          },
          "metadata": {},
          "execution_count": 100
        }
      ]
    },
    {
      "cell_type": "code",
      "source": [
        "s = 'weniv CEO licat CEO'\n",
        "s.replace('CEO', 'CTO') #원하는 문자열을 다른 문자열로 대체할 때 사용하는 method\n",
        "# JavaScript와 다른 점\n",
        "# 1. 정규표현식이 안됩니다.\n",
        "# 2. replaceAll과 같습니다."
      ],
      "metadata": {
        "colab": {
          "base_uri": "https://localhost:8080/",
          "height": 35
        },
        "id": "JhUERmV3H9-b",
        "outputId": "08755d7d-16b7-4948-8585-b3b447110e48"
      },
      "execution_count": null,
      "outputs": [
        {
          "output_type": "execute_result",
          "data": {
            "text/plain": [
              "'weniv CTO licat CTO'"
            ],
            "application/vnd.google.colaboratory.intrinsic+json": {
              "type": "string"
            }
          },
          "metadata": {},
          "execution_count": 101
        }
      ]
    },
    {
      "cell_type": "code",
      "source": [
        "'hello world'.split(' ')"
      ],
      "metadata": {
        "colab": {
          "base_uri": "https://localhost:8080/"
        },
        "id": "whRdCx8PMG5Q",
        "outputId": "88e476c1-ce77-4b0c-9a2a-aac15c2d73e7"
      },
      "execution_count": null,
      "outputs": [
        {
          "output_type": "execute_result",
          "data": {
            "text/plain": [
              "['hello', 'world']"
            ]
          },
          "metadata": {},
          "execution_count": 110
        }
      ]
    },
    {
      "cell_type": "code",
      "source": [
        "# 문제: '010-1000-2000'을 입력받아 01010002000 출력해주세요.\n",
        "'010-1000-2000'.split('-') # 01010002000"
      ],
      "metadata": {
        "colab": {
          "base_uri": "https://localhost:8080/"
        },
        "id": "lir_kHDcMML1",
        "outputId": "aab5b428-d006-4980-85a4-3ccab20735b9"
      },
      "execution_count": null,
      "outputs": [
        {
          "output_type": "execute_result",
          "data": {
            "text/plain": [
              "['010', '1000', '2000']"
            ]
          },
          "metadata": {},
          "execution_count": 111
        }
      ]
    },
    {
      "cell_type": "code",
      "source": [
        "''.join('010-1000-2000'.split('-'))"
      ],
      "metadata": {
        "colab": {
          "base_uri": "https://localhost:8080/",
          "height": 35
        },
        "id": "8dtEkVmUM_j_",
        "outputId": "92a97d7c-5144-40ac-bc37-a340061f2949"
      },
      "execution_count": null,
      "outputs": [
        {
          "output_type": "execute_result",
          "data": {
            "text/plain": [
              "'01010002000'"
            ],
            "application/vnd.google.colaboratory.intrinsic+json": {
              "type": "string"
            }
          },
          "metadata": {},
          "execution_count": 112
        }
      ]
    },
    {
      "cell_type": "code",
      "source": [
        "name = 'leehojun'\n",
        "age = 10\n",
        "\n",
        "print('제 이름은', name, '제 나이는', age)\n",
        "print('제 이름은 %s 제 나이는 %d' % (name, age)) # 이제 사용하지 않는 문법입니다.\n",
        "print('제 이름은 {} 제 나이는 {}')\n",
        "print('제 이름은 {0} 제 나이는 {1}'.replace('{0}', name).replace('{1}', str(age)))\n",
        "print('제 이름은 {} 제 나이는 {}'.format(name, age)) # format은 str에 메서드!\n",
        "print(f'제 이름은 {name} 제 나이는 {age}') # 권고합니다."
      ],
      "metadata": {
        "colab": {
          "base_uri": "https://localhost:8080/"
        },
        "id": "_E7mAlkgNKsD",
        "outputId": "7e49e9d3-54c3-4fcf-b791-504dc362c91d"
      },
      "execution_count": null,
      "outputs": [
        {
          "output_type": "stream",
          "name": "stdout",
          "text": [
            "제 이름은 leehojun 제 나이는 10\n",
            "제 이름은 leehojun 제 나이는 10\n",
            "제 이름은 {} 제 나이는 {}\n",
            "제 이름은 leehojun 제 나이는 10\n",
            "제 이름은 leehojun 제 나이는 10\n",
            "제 이름은 leehojun 제 나이는 10\n"
          ]
        }
      ]
    },
    {
      "cell_type": "code",
      "source": [
        "'abcd1234'.isalnum()\n",
        "'안녕'.isalnum() # 유니코드에도 적용\n",
        "'こんにちは'.isalnum()\n",
        "'你好'.isalnum()\n",
        "\n",
        "# '안녕'.isascii()\n",
        "# 'hello'.isascii()"
      ],
      "metadata": {
        "colab": {
          "base_uri": "https://localhost:8080/"
        },
        "id": "OIgSqnxWP6j9",
        "outputId": "5631bd6d-9a11-4270-9294-bf07964dc8b5"
      },
      "execution_count": null,
      "outputs": [
        {
          "output_type": "execute_result",
          "data": {
            "text/plain": [
              "True"
            ]
          },
          "metadata": {},
          "execution_count": 149
        }
      ]
    },
    {
      "cell_type": "code",
      "source": [
        "'hello world'.isdigit()\n",
        "'안녕'.isdigit()\n",
        "'12.3'.isdigit() # 점을 찍으면 문자라고 인식합니다.\n",
        "'10e10'.isdigit() # 지수표현 안됩니다.\n",
        "'123'.isdigit()"
      ],
      "metadata": {
        "colab": {
          "base_uri": "https://localhost:8080/"
        },
        "id": "u_2kolmCQifD",
        "outputId": "fb6138bc-4a02-4e92-cdd9-f513a7b1b7b5"
      },
      "execution_count": null,
      "outputs": [
        {
          "output_type": "execute_result",
          "data": {
            "text/plain": [
              "False"
            ]
          },
          "metadata": {},
          "execution_count": 136
        }
      ]
    },
    {
      "cell_type": "code",
      "source": [
        "'hello world'.isalpha()\n",
        "'helloworld'.isalpha()"
      ],
      "metadata": {
        "colab": {
          "base_uri": "https://localhost:8080/"
        },
        "id": "d8_rdRHmQ5I7",
        "outputId": "8b15c9c4-0b2b-4608-9330-e4777a49e6ea"
      },
      "execution_count": null,
      "outputs": [
        {
          "output_type": "execute_result",
          "data": {
            "text/plain": [
              "True"
            ]
          },
          "metadata": {},
          "execution_count": 138
        }
      ]
    },
    {
      "cell_type": "code",
      "source": [
        "print('abcd1234'.isalpha())\n",
        "print('안녕'.isalpha())\n",
        "print('こんにちは'.isalpha())\n",
        "print('你好'.isalpha())"
      ],
      "metadata": {
        "colab": {
          "base_uri": "https://localhost:8080/"
        },
        "id": "dYaYZvCM7oBX",
        "outputId": "47f85243-ec9b-4c8e-fbb9-647f4300eefd"
      },
      "execution_count": null,
      "outputs": [
        {
          "output_type": "stream",
          "name": "stdout",
          "text": [
            "False\n",
            "True\n",
            "True\n",
            "True\n"
          ]
        }
      ]
    },
    {
      "cell_type": "code",
      "source": [
        "print('안녕'.isascii())\n",
        "print('!@ ()+'.isascii())\n",
        "print('hello'.isascii())\n",
        "print('hello world'.isascii())"
      ],
      "metadata": {
        "colab": {
          "base_uri": "https://localhost:8080/"
        },
        "id": "hNkRfy1b9BG2",
        "outputId": "3b8f20bb-6071-4418-d3a1-3dc5748a0abf"
      },
      "execution_count": null,
      "outputs": [
        {
          "output_type": "stream",
          "name": "stdout",
          "text": [
            "False\n",
            "True\n",
            "True\n",
            "True\n"
          ]
        }
      ]
    },
    {
      "cell_type": "code",
      "source": [
        "name = 'licat'\n",
        "age = 10\n",
        "\n",
        "print('제 이름은 %s, 제 나이는 %d입니다. ' % (name, age))"
      ],
      "metadata": {
        "colab": {
          "base_uri": "https://localhost:8080/"
        },
        "id": "Y6gG0FWx94oj",
        "outputId": "9de5ceda-87fe-4727-b89b-c9145a0d3dcd"
      },
      "execution_count": null,
      "outputs": [
        {
          "output_type": "stream",
          "name": "stdout",
          "text": [
            "제 이름은 licat, 제 나이는 10입니다. \n"
          ]
        }
      ]
    },
    {
      "cell_type": "code",
      "source": [
        "s = 'licat'\n",
        "s.center(11, '-') #문자열을 지정한 길이로 맞추고, 양쪽을 '-'로 채우는 method"
      ],
      "metadata": {
        "colab": {
          "base_uri": "https://localhost:8080/",
          "height": 35
        },
        "id": "W3j-hZ8JTC-p",
        "outputId": "29c62755-76b4-44eb-f9f4-edaed061924e"
      },
      "execution_count": null,
      "outputs": [
        {
          "output_type": "execute_result",
          "data": {
            "text/plain": [
              "'---licat---'"
            ],
            "application/vnd.google.colaboratory.intrinsic+json": {
              "type": "string"
            }
          },
          "metadata": {},
          "execution_count": 139
        }
      ]
    },
    {
      "cell_type": "code",
      "source": [
        "s = ' licat '\n",
        "s.center(13, '-') #문자열을 지정한 길이로 맞추고, 양쪽을 '-'로 채우는 method"
      ],
      "metadata": {
        "colab": {
          "base_uri": "https://localhost:8080/",
          "height": 35
        },
        "id": "87NO9zupTDTa",
        "outputId": "8191d1ce-000d-40b0-e50f-f74d6bbf0239"
      },
      "execution_count": null,
      "outputs": [
        {
          "output_type": "execute_result",
          "data": {
            "text/plain": [
              "'--- licat ---'"
            ],
            "application/vnd.google.colaboratory.intrinsic+json": {
              "type": "string"
            }
          },
          "metadata": {},
          "execution_count": 140
        }
      ]
    },
    {
      "cell_type": "code",
      "source": [
        "s = 'hello world'\n",
        "s.center(5, '-') #문자열을 지정한 길이로 맞추고, 양쪽을 '-'로 채우는 method"
      ],
      "metadata": {
        "colab": {
          "base_uri": "https://localhost:8080/",
          "height": 35
        },
        "id": "hhwDLz8cTXen",
        "outputId": "2ad32954-42aa-4979-9c71-60852fb5fe08"
      },
      "execution_count": null,
      "outputs": [
        {
          "output_type": "execute_result",
          "data": {
            "text/plain": [
              "'hello world'"
            ],
            "application/vnd.google.colaboratory.intrinsic+json": {
              "type": "string"
            }
          },
          "metadata": {},
          "execution_count": 141
        }
      ]
    },
    {
      "cell_type": "code",
      "source": [
        "x = \"42\"\n",
        "result = x.zfill(5)\n",
        "print(result)  # 00042"
      ],
      "metadata": {
        "colab": {
          "base_uri": "https://localhost:8080/"
        },
        "id": "Drff6UU6TdQH",
        "outputId": "6d330c21-63d4-493c-8cf2-f050207b2252"
      },
      "execution_count": null,
      "outputs": [
        {
          "output_type": "stream",
          "name": "stdout",
          "text": [
            "00042\n"
          ]
        }
      ]
    },
    {
      "cell_type": "code",
      "source": [
        "filename = '1'.zfill(3) + \".jpg\"\n",
        "print(filename)"
      ],
      "metadata": {
        "colab": {
          "base_uri": "https://localhost:8080/"
        },
        "id": "7DOunAulTqHv",
        "outputId": "6e912762-4317-471f-fe0a-14ad1390d26c"
      },
      "execution_count": null,
      "outputs": [
        {
          "output_type": "stream",
          "name": "stdout",
          "text": [
            "001.jpg\n"
          ]
        }
      ]
    },
    {
      "cell_type": "code",
      "source": [
        "년 = '23'\n",
        "월 = '9'\n",
        "일 = '8'\n",
        "오늘날짜 = f'{년}/{월}/{일}'\n",
        "print(오늘날짜)\n",
        "오늘날짜 = f'{년}/{월.zfill(2)}/{일.zfill(2)}' #원하는 양식 23/09/08\n",
        "print(오늘날짜)"
      ],
      "metadata": {
        "colab": {
          "base_uri": "https://localhost:8080/"
        },
        "id": "tENNJacKT88d",
        "outputId": "8dfd9f51-1a94-4961-9f5c-b84e9cd3ec2a"
      },
      "execution_count": null,
      "outputs": [
        {
          "output_type": "stream",
          "name": "stdout",
          "text": [
            "23/9/08\n"
          ]
        }
      ]
    },
    {
      "cell_type": "code",
      "source": [
        "table = str.maketrans(\"abc\", \"123\")\n",
        "'akbkckdkek'.translate(table)"
      ],
      "metadata": {
        "colab": {
          "base_uri": "https://localhost:8080/",
          "height": 35
        },
        "id": "Y7GZf5_Ohb-r",
        "outputId": "c7bbed47-52ac-4736-e333-8730dae4f682"
      },
      "execution_count": null,
      "outputs": [
        {
          "output_type": "execute_result",
          "data": {
            "text/plain": [
              "'1k2k3kdkek'"
            ],
            "application/vnd.google.colaboratory.intrinsic+json": {
              "type": "string"
            }
          },
          "metadata": {},
          "execution_count": 160
        }
      ]
    },
    {
      "cell_type": "code",
      "source": [
        "table = str.maketrans('b', 'k', 'de')\n",
        "'abcde'.translate(table)"
      ],
      "metadata": {
        "colab": {
          "base_uri": "https://localhost:8080/",
          "height": 35
        },
        "id": "ti6hIhUxhyUN",
        "outputId": "8941f125-c8d8-47a7-ffcd-242fe5aa0c4d"
      },
      "execution_count": null,
      "outputs": [
        {
          "output_type": "execute_result",
          "data": {
            "text/plain": [
              "'akc'"
            ],
            "application/vnd.google.colaboratory.intrinsic+json": {
              "type": "string"
            }
          },
          "metadata": {},
          "execution_count": 162
        }
      ]
    },
    {
      "cell_type": "code",
      "source": [
        "table = str.maketrans('\\n\\t', '  ') # 똑같은 길이를 가지고 있어야 함\n",
        "'weniv \\n\\n\\n CEO \\t\\t\\t licat'.translate(table)"
      ],
      "metadata": {
        "colab": {
          "base_uri": "https://localhost:8080/",
          "height": 35
        },
        "id": "fCZIWxFHiSQm",
        "outputId": "19464de7-59fd-45d4-ccfa-8df1ec5df427"
      },
      "execution_count": null,
      "outputs": [
        {
          "output_type": "execute_result",
          "data": {
            "text/plain": [
              "'weniv     CEO     licat'"
            ],
            "application/vnd.google.colaboratory.intrinsic+json": {
              "type": "string"
            }
          },
          "metadata": {},
          "execution_count": 163
        }
      ]
    },
    {
      "cell_type": "code",
      "source": [
        "table = str.maketrans('\\n\\t', ' 1') # 똑같은 길이를 가지고 있어야 함\n",
        "'weniv \\n\\n\\n CEO \\t\\t\\t licat'.translate(table)"
      ],
      "metadata": {
        "colab": {
          "base_uri": "https://localhost:8080/",
          "height": 35
        },
        "id": "HNOFwMbsibtz",
        "outputId": "6b757b48-b4d1-4d24-9112-7e792d7f7b1e"
      },
      "execution_count": null,
      "outputs": [
        {
          "output_type": "execute_result",
          "data": {
            "text/plain": [
              "'weniv     CEO 111 licat'"
            ],
            "application/vnd.google.colaboratory.intrinsic+json": {
              "type": "string"
            }
          },
          "metadata": {},
          "execution_count": 164
        }
      ]
    },
    {
      "cell_type": "markdown",
      "source": [
        "# 연습문제 풀이"
      ],
      "metadata": {
        "id": "kXQOmxfeaAav"
      }
    },
    {
      "cell_type": "code",
      "source": [
        "# 카카오 코딩테스트 비밀지도\n",
        "n = 5\n",
        "arr1 = [9, 20, 28, 18, 11]\n",
        "arr2 = [30, 1, 21, 17, 28]"
      ],
      "metadata": {
        "id": "MFxPw8bVaC-9"
      },
      "execution_count": null,
      "outputs": []
    },
    {
      "cell_type": "code",
      "source": [
        "# keep해야할 포인트\n",
        "# 1. 2진수는 정수형이다\n",
        "# 2. 다만 bin()은 문자열이다"
      ],
      "metadata": {
        "id": "lyjRTA_EaM0Q"
      },
      "execution_count": null,
      "outputs": []
    },
    {
      "cell_type": "code",
      "source": [
        "# bin(arr1[0]) # 01001\n",
        "# bin(arr2[0]) # 11110\n",
        "\n",
        "bin(arr1[0] | arr2[0])\n",
        "bin(arr1[0] | arr2[0])[2:].replace('1', '#').replace('0', ' ')"
      ],
      "metadata": {
        "colab": {
          "base_uri": "https://localhost:8080/",
          "height": 35
        },
        "id": "zeOamURRah-W",
        "outputId": "c37b33c8-60b4-4d47-e03c-e9c1e375fa6a"
      },
      "execution_count": null,
      "outputs": [
        {
          "output_type": "execute_result",
          "data": {
            "text/plain": [
              "'11111'"
            ],
            "application/vnd.google.colaboratory.intrinsic+json": {
              "type": "string"
            }
          },
          "metadata": {},
          "execution_count": 155
        }
      ]
    },
    {
      "cell_type": "code",
      "source": [
        "# 다 오늘 배운 것이니 위에 것은 잊으셔도 아래 것은 기억해주세요!\n",
        "bin(31)[2:].replace('1', '#').replace('0', ' ')\n",
        "bin(3)[2:].zfill(5).replace('1', '#').replace('0', ' ')"
      ],
      "metadata": {
        "colab": {
          "base_uri": "https://localhost:8080/",
          "height": 35
        },
        "id": "-y9vJzy7bkmc",
        "outputId": "c31b6574-6a71-462c-b20e-bfb7574488ea"
      },
      "execution_count": null,
      "outputs": [
        {
          "output_type": "execute_result",
          "data": {
            "text/plain": [
              "'   ##'"
            ],
            "application/vnd.google.colaboratory.intrinsic+json": {
              "type": "string"
            }
          },
          "metadata": {},
          "execution_count": 157
        }
      ]
    },
    {
      "cell_type": "code",
      "source": [
        "# 연습문제 369 게임\n",
        "# '336699' => 6번\n",
        "# '123123' => 2번\n",
        "# '36913699'와 같은 문자열이 입력되었을 때 박수를 몇 번 치는지 코드를 작성해주세요.\n",
        "# 세팅\n",
        "s = '36913699'\n",
        "# 정답\n",
        "s.count('3') + s.count('6') + s.count('9')"
      ],
      "metadata": {
        "colab": {
          "base_uri": "https://localhost:8080/"
        },
        "id": "pnGQGnGNczUK",
        "outputId": "08c6ce71-c410-4415-adbe-0a7bc5aa2158"
      },
      "execution_count": null,
      "outputs": [
        {
          "output_type": "execute_result",
          "data": {
            "text/plain": [
              "7"
            ]
          },
          "metadata": {},
          "execution_count": 158
        }
      ]
    },
    {
      "cell_type": "code",
      "source": [
        "# 심화문제\n",
        "# '36913699'여기까지 오는동안 박수는 몇번 쳤을까요?\n",
        "# 숫자가 너무 크니 숫자를 줄여 드리도록 하겠습니다. 숫자는 100입니다.\n",
        "# 세팅\n",
        "s = str(list(range(101)))\n",
        "# 정답\n",
        "s.count('3') + s.count('6') + s.count('9')"
      ],
      "metadata": {
        "colab": {
          "base_uri": "https://localhost:8080/",
          "height": 89
        },
        "id": "AhxliNVyfpeb",
        "outputId": "da40b55f-ccf3-4536-9306-05102a422482"
      },
      "execution_count": null,
      "outputs": [
        {
          "output_type": "execute_result",
          "data": {
            "text/plain": [
              "'[0, 1, 2, 3, 4, 5, 6, 7, 8, 9, 10, 11, 12, 13, 14, 15, 16, 17, 18, 19, 20, 21, 22, 23, 24, 25, 26, 27, 28, 29, 30, 31, 32, 33, 34, 35, 36, 37, 38, 39, 40, 41, 42, 43, 44, 45, 46, 47, 48, 49, 50, 51, 52, 53, 54, 55, 56, 57, 58, 59, 60, 61, 62, 63, 64, 65, 66, 67, 68, 69, 70, 71, 72, 73, 74, 75, 76, 77, 78, 79, 80, 81, 82, 83, 84, 85, 86, 87, 88, 89, 90, 91, 92, 93, 94, 95, 96, 97, 98, 99, 100]'"
            ],
            "application/vnd.google.colaboratory.intrinsic+json": {
              "type": "string"
            }
          },
          "metadata": {},
          "execution_count": 159
        }
      ]
    },
    {
      "cell_type": "markdown",
      "source": [
        "# 연습문제 풀이\n",
        "```\n",
        "문제1 문자열 s에 마지막에 있는 문자열을 2번 더 붙이는 코드를 작성해주세요.\n",
        "예) s = 'jun'\n",
        "정답) s = 'junnn'\n",
        "\n",
        "문제2 대문자는 소문자로 치환하는 코드를 작성해주세요.\n",
        "예)  s = 'Jun'\n",
        "정답) s = 'jun'\n",
        "\n",
        "문제3 'abcde', 숫자, 대쉬(-), 언더스코어(_)를 모두 제거해주세요.\n",
        "얘) s = 'hello_world123'\n",
        "정답 s = 'hlloworl'\n",
        "\n",
        "```"
      ],
      "metadata": {
        "id": "0MzLRhkG-ER6"
      }
    },
    {
      "cell_type": "code",
      "source": [
        "s = 'jun'\n",
        "s = s + s[-1] * 2\n",
        "print(s)"
      ],
      "metadata": {
        "colab": {
          "base_uri": "https://localhost:8080/"
        },
        "id": "IStqG-2u-MIh",
        "outputId": "b0bb2a7e-953c-4205-9e02-65e0048b14e2"
      },
      "execution_count": null,
      "outputs": [
        {
          "output_type": "stream",
          "name": "stdout",
          "text": [
            "junnn\n"
          ]
        }
      ]
    },
    {
      "cell_type": "code",
      "source": [
        "s = 'Jun'\n",
        "s = s.lower()\n",
        "print(s)"
      ],
      "metadata": {
        "colab": {
          "base_uri": "https://localhost:8080/"
        },
        "id": "_buyMKt5-UFc",
        "outputId": "e1832c2a-d339-4ab5-c714-e98117ec218d"
      },
      "execution_count": null,
      "outputs": [
        {
          "output_type": "stream",
          "name": "stdout",
          "text": [
            "jun\n"
          ]
        }
      ]
    },
    {
      "cell_type": "code",
      "source": [
        "s = 'hello_world123'\n",
        "table = str.maketrans('', '', 'abcde0123456789-_')\n",
        "s.translate(table)"
      ],
      "metadata": {
        "colab": {
          "base_uri": "https://localhost:8080/",
          "height": 35
        },
        "id": "Kt0s8u27-Xgw",
        "outputId": "42b3857d-4eed-4b15-bdd2-aae7815180bb"
      },
      "execution_count": null,
      "outputs": [
        {
          "output_type": "execute_result",
          "data": {
            "text/plain": [
              "'hlloworl'"
            ],
            "application/vnd.google.colaboratory.intrinsic+json": {
              "type": "string"
            }
          },
          "metadata": {},
          "execution_count": 188
        }
      ]
    },
    {
      "cell_type": "markdown",
      "source": [
        "# 논리 자료형 (bool)"
      ],
      "metadata": {
        "id": "9z6mbRO1i4Pi"
      }
    },
    {
      "cell_type": "code",
      "source": [
        "x = True\n",
        "y = False\n",
        "z = 10 > 3\n",
        "print(x, y, z)"
      ],
      "metadata": {
        "id": "ekwFv1KLi8Kg"
      },
      "execution_count": null,
      "outputs": []
    },
    {
      "cell_type": "code",
      "source": [
        "print(True / False)"
      ],
      "metadata": {
        "colab": {
          "base_uri": "https://localhost:8080/",
          "height": 181
        },
        "id": "c4vNKosTaoo4",
        "outputId": "03de5b31-11f7-4c4d-e538-1faddf93f721"
      },
      "execution_count": 2,
      "outputs": [
        {
          "output_type": "error",
          "ename": "ZeroDivisionError",
          "evalue": "ignored",
          "traceback": [
            "\u001b[0;31m---------------------------------------------------------------------------\u001b[0m",
            "\u001b[0;31mZeroDivisionError\u001b[0m                         Traceback (most recent call last)",
            "\u001b[0;32m<ipython-input-2-89a2cd47f04e>\u001b[0m in \u001b[0;36m<cell line: 1>\u001b[0;34m()\u001b[0m\n\u001b[0;32m----> 1\u001b[0;31m \u001b[0mprint\u001b[0m\u001b[0;34m(\u001b[0m\u001b[0;32mTrue\u001b[0m \u001b[0;34m/\u001b[0m \u001b[0;32mFalse\u001b[0m\u001b[0;34m)\u001b[0m\u001b[0;34m\u001b[0m\u001b[0;34m\u001b[0m\u001b[0m\n\u001b[0m",
            "\u001b[0;31mZeroDivisionError\u001b[0m: division by zero"
          ]
        }
      ]
    },
    {
      "cell_type": "code",
      "source": [
        "x = True\n",
        "dir(x)"
      ],
      "metadata": {
        "colab": {
          "base_uri": "https://localhost:8080/"
        },
        "id": "t6r73mKxav3p",
        "outputId": "753f9468-1090-48be-f290-cbeda6db86c3"
      },
      "execution_count": 3,
      "outputs": [
        {
          "output_type": "execute_result",
          "data": {
            "text/plain": [
              "['__abs__',\n",
              " '__add__',\n",
              " '__and__',\n",
              " '__bool__',\n",
              " '__ceil__',\n",
              " '__class__',\n",
              " '__delattr__',\n",
              " '__dir__',\n",
              " '__divmod__',\n",
              " '__doc__',\n",
              " '__eq__',\n",
              " '__float__',\n",
              " '__floor__',\n",
              " '__floordiv__',\n",
              " '__format__',\n",
              " '__ge__',\n",
              " '__getattribute__',\n",
              " '__getnewargs__',\n",
              " '__gt__',\n",
              " '__hash__',\n",
              " '__index__',\n",
              " '__init__',\n",
              " '__init_subclass__',\n",
              " '__int__',\n",
              " '__invert__',\n",
              " '__le__',\n",
              " '__lshift__',\n",
              " '__lt__',\n",
              " '__mod__',\n",
              " '__mul__',\n",
              " '__ne__',\n",
              " '__neg__',\n",
              " '__new__',\n",
              " '__or__',\n",
              " '__pos__',\n",
              " '__pow__',\n",
              " '__radd__',\n",
              " '__rand__',\n",
              " '__rdivmod__',\n",
              " '__reduce__',\n",
              " '__reduce_ex__',\n",
              " '__repr__',\n",
              " '__rfloordiv__',\n",
              " '__rlshift__',\n",
              " '__rmod__',\n",
              " '__rmul__',\n",
              " '__ror__',\n",
              " '__round__',\n",
              " '__rpow__',\n",
              " '__rrshift__',\n",
              " '__rshift__',\n",
              " '__rsub__',\n",
              " '__rtruediv__',\n",
              " '__rxor__',\n",
              " '__setattr__',\n",
              " '__sizeof__',\n",
              " '__str__',\n",
              " '__sub__',\n",
              " '__subclasshook__',\n",
              " '__truediv__',\n",
              " '__trunc__',\n",
              " '__xor__',\n",
              " 'as_integer_ratio',\n",
              " 'bit_count',\n",
              " 'bit_length',\n",
              " 'conjugate',\n",
              " 'denominator',\n",
              " 'from_bytes',\n",
              " 'imag',\n",
              " 'numerator',\n",
              " 'real',\n",
              " 'to_bytes']"
            ]
          },
          "metadata": {},
          "execution_count": 3
        }
      ]
    },
    {
      "cell_type": "markdown",
      "source": [
        "# None"
      ],
      "metadata": {
        "id": "gW6LDOyDb8ud"
      }
    },
    {
      "cell_type": "code",
      "source": [
        "# None + 5\n",
        "# None + None\n",
        "# None = 10"
      ],
      "metadata": {
        "id": "LynqN61wb-aD"
      },
      "execution_count": null,
      "outputs": []
    },
    {
      "cell_type": "code",
      "source": [
        "# x = [10, 20, None, 30, 40]\n",
        "# x[0] + x[1] + x[2]\n",
        "# None이 수치연산이 안됩니다."
      ],
      "metadata": {
        "colab": {
          "base_uri": "https://localhost:8080/",
          "height": 216
        },
        "id": "Hu7DGZ1-c9cM",
        "outputId": "d29dec98-7937-49c7-8a93-e61bb0bd2add"
      },
      "execution_count": 10,
      "outputs": [
        {
          "output_type": "error",
          "ename": "TypeError",
          "evalue": "ignored",
          "traceback": [
            "\u001b[0;31m---------------------------------------------------------------------------\u001b[0m",
            "\u001b[0;31mTypeError\u001b[0m                                 Traceback (most recent call last)",
            "\u001b[0;32m<ipython-input-10-4b9e44fc26ae>\u001b[0m in \u001b[0;36m<cell line: 2>\u001b[0;34m()\u001b[0m\n\u001b[1;32m      1\u001b[0m \u001b[0;31m# x = [10, 20, None, 30, 40]\u001b[0m\u001b[0;34m\u001b[0m\u001b[0;34m\u001b[0m\u001b[0m\n\u001b[0;32m----> 2\u001b[0;31m \u001b[0mx\u001b[0m\u001b[0;34m[\u001b[0m\u001b[0;36m0\u001b[0m\u001b[0;34m]\u001b[0m \u001b[0;34m+\u001b[0m \u001b[0mx\u001b[0m\u001b[0;34m[\u001b[0m\u001b[0;36m1\u001b[0m\u001b[0;34m]\u001b[0m \u001b[0;34m+\u001b[0m \u001b[0mx\u001b[0m\u001b[0;34m[\u001b[0m\u001b[0;36m2\u001b[0m\u001b[0;34m]\u001b[0m\u001b[0;34m\u001b[0m\u001b[0;34m\u001b[0m\u001b[0m\n\u001b[0m\u001b[1;32m      3\u001b[0m \u001b[0;31m# None이 수치연산이 안됩니다.\u001b[0m\u001b[0;34m\u001b[0m\u001b[0;34m\u001b[0m\u001b[0m\n",
            "\u001b[0;31mTypeError\u001b[0m: 'bool' object is not subscriptable"
          ]
        }
      ]
    },
    {
      "cell_type": "code",
      "source": [
        "x = None\n",
        "y = None\n",
        "print(id(x), id(y))"
      ],
      "metadata": {
        "colab": {
          "base_uri": "https://localhost:8080/"
        },
        "id": "z9oEWYj3dcem",
        "outputId": "e90c81c5-6f0a-4052-d26a-bcb3cf22a477"
      },
      "execution_count": 11,
      "outputs": [
        {
          "output_type": "stream",
          "name": "stdout",
          "text": [
            "97656489739232 97656489739232\n"
          ]
        }
      ]
    },
    {
      "cell_type": "code",
      "source": [
        "x = None\n",
        "\n",
        "print(x == None)    # True, 하지만 이 방식은 권장되지 않습니다.\n",
        "print(x is None)    # True, 이 방식을 사용하여 None을 확인하는 것이 좋습니다."
      ],
      "metadata": {
        "colab": {
          "base_uri": "https://localhost:8080/"
        },
        "id": "V6JH7LdXdrWB",
        "outputId": "369c6217-4ee1-4a2b-8b11-926518e0d837"
      },
      "execution_count": 12,
      "outputs": [
        {
          "output_type": "stream",
          "name": "stdout",
          "text": [
            "True\n",
            "True\n"
          ]
        }
      ]
    },
    {
      "cell_type": "code",
      "source": [
        "class Character:\n",
        "    def __init__(self, hp, mp):\n",
        "        self.hp = hp\n",
        "        self.mp = mp\n",
        "\n",
        "    def __eq__(self, other):\n",
        "        return True\n",
        "\n",
        "주인공 = Character(100, 100)\n",
        "\n",
        "print(주인공 == None)\n",
        "print(주인공 is None) # is는 id 값을 기준으로 판단\n",
        "\n",
        "id(주인공)"
      ],
      "metadata": {
        "colab": {
          "base_uri": "https://localhost:8080/"
        },
        "id": "zKv77Y35dtqX",
        "outputId": "388b3afa-24bb-458e-8d40-c34bd196419d"
      },
      "execution_count": 17,
      "outputs": [
        {
          "output_type": "stream",
          "name": "stdout",
          "text": [
            "True\n",
            "False\n"
          ]
        },
        {
          "output_type": "execute_result",
          "data": {
            "text/plain": [
              "137777350725248"
            ]
          },
          "metadata": {},
          "execution_count": 17
        }
      ]
    },
    {
      "cell_type": "code",
      "source": [
        "class Character:\n",
        "    def __init__(self, hp, mp):\n",
        "        self.hp = hp\n",
        "        self.mp = mp\n",
        "\n",
        "    def __eq__(self, other):\n",
        "        return 'hello'\n",
        "\n",
        "    def __gt__(self, other):\n",
        "        return 'world'\n",
        "\n",
        "주인공 = Character(100, 100)\n",
        "\n",
        "print(주인공 == None)\n",
        "print(주인공 > None)"
      ],
      "metadata": {
        "colab": {
          "base_uri": "https://localhost:8080/"
        },
        "id": "_NlvYdFZfUhu",
        "outputId": "c74c5ef9-9be0-4c4b-a883-dbb5b52c069a"
      },
      "execution_count": 21,
      "outputs": [
        {
          "output_type": "stream",
          "name": "stdout",
          "text": [
            "hello\n",
            "world\n"
          ]
        }
      ]
    },
    {
      "cell_type": "code",
      "source": [
        "dir(3)"
      ],
      "metadata": {
        "colab": {
          "base_uri": "https://localhost:8080/"
        },
        "id": "xB9aucoffFk1",
        "outputId": "fe1c79f4-b81f-4fc9-bfb2-3f42b3b93bf2"
      },
      "execution_count": 19,
      "outputs": [
        {
          "output_type": "execute_result",
          "data": {
            "text/plain": [
              "['__abs__',\n",
              " '__add__',\n",
              " '__and__',\n",
              " '__bool__',\n",
              " '__ceil__',\n",
              " '__class__',\n",
              " '__delattr__',\n",
              " '__dir__',\n",
              " '__divmod__',\n",
              " '__doc__',\n",
              " '__eq__',\n",
              " '__float__',\n",
              " '__floor__',\n",
              " '__floordiv__',\n",
              " '__format__',\n",
              " '__ge__',\n",
              " '__getattribute__',\n",
              " '__getnewargs__',\n",
              " '__gt__',\n",
              " '__hash__',\n",
              " '__index__',\n",
              " '__init__',\n",
              " '__init_subclass__',\n",
              " '__int__',\n",
              " '__invert__',\n",
              " '__le__',\n",
              " '__lshift__',\n",
              " '__lt__',\n",
              " '__mod__',\n",
              " '__mul__',\n",
              " '__ne__',\n",
              " '__neg__',\n",
              " '__new__',\n",
              " '__or__',\n",
              " '__pos__',\n",
              " '__pow__',\n",
              " '__radd__',\n",
              " '__rand__',\n",
              " '__rdivmod__',\n",
              " '__reduce__',\n",
              " '__reduce_ex__',\n",
              " '__repr__',\n",
              " '__rfloordiv__',\n",
              " '__rlshift__',\n",
              " '__rmod__',\n",
              " '__rmul__',\n",
              " '__ror__',\n",
              " '__round__',\n",
              " '__rpow__',\n",
              " '__rrshift__',\n",
              " '__rshift__',\n",
              " '__rsub__',\n",
              " '__rtruediv__',\n",
              " '__rxor__',\n",
              " '__setattr__',\n",
              " '__sizeof__',\n",
              " '__str__',\n",
              " '__sub__',\n",
              " '__subclasshook__',\n",
              " '__truediv__',\n",
              " '__trunc__',\n",
              " '__xor__',\n",
              " 'as_integer_ratio',\n",
              " 'bit_count',\n",
              " 'bit_length',\n",
              " 'conjugate',\n",
              " 'denominator',\n",
              " 'from_bytes',\n",
              " 'imag',\n",
              " 'numerator',\n",
              " 'real',\n",
              " 'to_bytes']"
            ]
          },
          "metadata": {},
          "execution_count": 19
        }
      ]
    },
    {
      "cell_type": "markdown",
      "source": [
        "# 메서드 채이닝"
      ],
      "metadata": {
        "id": "UbIfIRPjflL1"
      }
    },
    {
      "cell_type": "code",
      "source": [
        "sentence = \"  Hello, World!  \"\n",
        "result = sentence.strip().lower().replace(\"world\", \"python\")\n",
        "print(result)  # \"hello, python!\""
      ],
      "metadata": {
        "colab": {
          "base_uri": "https://localhost:8080/"
        },
        "id": "6_muJ3VFfm24",
        "outputId": "07a676c4-39ab-4751-cc5c-cdae7faa1d6b"
      },
      "execution_count": 22,
      "outputs": [
        {
          "output_type": "stream",
          "name": "stdout",
          "text": [
            "hello, python!\n"
          ]
        }
      ]
    },
    {
      "cell_type": "code",
      "source": [
        "sentence = \"  Hello, World!  \"\n",
        "result = sentence.strip().lower().replace(\"world\", \"python\")\n",
        "# 1번 스탭 : sentence.strip() == 'Hello, World!'\n",
        "# 2번 스탭 : 'Hello, World!'.lower() == 'hello, world!'\n",
        "# 3번 스탭 : 'hello, world!'.replace(\"world\", \"python\")\n",
        "print(result)  # \"hello, python!\""
      ],
      "metadata": {
        "id": "FBsW_2z4fyiA"
      },
      "execution_count": null,
      "outputs": []
    },
    {
      "cell_type": "code",
      "source": [
        "\"  Hello, World!  \".split()"
      ],
      "metadata": {
        "colab": {
          "base_uri": "https://localhost:8080/"
        },
        "id": "jusM0IQTgX9R",
        "outputId": "28d51c31-b1e4-42a5-9a32-14a0706f8e5a"
      },
      "execution_count": 28,
      "outputs": [
        {
          "output_type": "execute_result",
          "data": {
            "text/plain": [
              "['Hello,', 'World!']"
            ]
          },
          "metadata": {},
          "execution_count": 28
        }
      ]
    },
    {
      "cell_type": "code",
      "source": [
        "sentence = \"  Hello, World!  \"\n",
        "result = sentence.split(' ').lower().replace(\"world\", \"python\")\n",
        "# 1번 스탭 : sentence.strip() == ['Hello,', 'World!']\n",
        "# 2번 스탭 : ['Hello,', 'World!'].lower() # error\n",
        "print(result)  # \"hello, python!\""
      ],
      "metadata": {
        "id": "ATf-sOAWgR_c"
      },
      "execution_count": null,
      "outputs": []
    },
    {
      "cell_type": "code",
      "source": [
        "# 어떻게든 개행해 쓰고 싶다! 백슬러쉬 사용해서 개행을 할 수 있습니다.\n",
        "sentence = \"  Hello, World!  \"\n",
        "result = sentence\\\n",
        ".strip()\\\n",
        ".lower()\\\n",
        ".replace(\"world\", \"python\")\n",
        "\n",
        "print(result)  # \"hello, python!\""
      ],
      "metadata": {
        "colab": {
          "base_uri": "https://localhost:8080/"
        },
        "id": "cMB9DDhGglTV",
        "outputId": "61b845d8-b0b5-40cb-e202-91f4ae8878d8"
      },
      "execution_count": 29,
      "outputs": [
        {
          "output_type": "stream",
          "name": "stdout",
          "text": [
            "hello, python!\n"
          ]
        }
      ]
    },
    {
      "cell_type": "code",
      "source": [
        "# 백슬러쉬를 사용하여 개행을 하는 것은 권장하는 방법은 아닙니다.\n",
        "# 회색 bar가 생긴 것 보이시나요?                                              =>\n",
        "'hello worldhello worldhello worldhello worldhello worldhello worldhello worldhello worldhello worldhello worldhello worldhello worldhello worldhello worldhello worldhello worldhello worldhello worldhello worldhello worldhello worldhello worldhello worldhello world'\n",
        "'hello worldhello worldhello worldhello worldhello worldhello worldhello worldhello worldhello worldhello worldhello worldhello worldhello worldhello worldhello worldhello worldhello worldhello worldhello worldhello worldhello worldhello worldhello worldhello world'\n",
        "'hello worldhello worldhello worldhello worldhello worldhello worldhello worldhello worldhello worldhello worldhello worldhello worldhello worldhello worldhello worldhello worldhello worldhello worldhello worldhello worldhello worldhello worldhello worldhello world'\n",
        "'hello worldhello worldhello worldhello worldhello worldhello worldhello worldhello worldhello worldhello worldhello worldhello worldhello worldhello worldhello worldhello worldhello worldhello worldhello worldhello worldhello worldhello worldhello worldhello world'\n",
        "'hello worldhello worldhello worldhello worldhello worldhello worldhello worldhello worldhello worldhello worldhello worldhello worldhello worldhello worldhello worldhello worldhello worldhello worldhello worldhello worldhello worldhello worldhello worldhello world'\n",
        "'hello worldhello worldhello worldhello worldhello worldhello worldhello worldhello worldhello worldhello worldhello worldhello worldhello worldhello worldhello worldhello worldhello worldhello worldhello worldhello worldhello worldhello worldhello worldhello world'\n",
        "'hello worldhello worldhello worldhello worldhello worldhello worldhello worldhello worldhello worldhello worldhello worldhello worldhello worldhello worldhello worldhello worldhello worldhello worldhello worldhello worldhello worldhello worldhello worldhello world'\n",
        "'hello worldhello worldhello worldhello worldhello worldhello worldhello worldhello worldhello worldhello worldhello worldhello worldhello worldhello worldhello worldhello worldhello worldhello worldhello worldhello worldhello worldhello worldhello worldhello world'\n",
        "'hello worldhello worldhello worldhello worldhello worldhello worldhello worldhello worldhello worldhello worldhello worldhello worldhello worldhello worldhello worldhello worldhello worldhello worldhello worldhello worldhello worldhello worldhello worldhello world'\n",
        "'hello worldhello worldhello worldhello worldhello worldhello worldhello worldhello worldhello worldhello worldhello worldhello worldhello worldhello worldhello worldhello worldhello worldhello worldhello worldhello worldhello worldhello worldhello worldhello world'\n",
        "'hello worldhello worldhello worldhello worldhello worldhello worldhello worldhello worldhello worldhello worldhello worldhello worldhello worldhello worldhello worldhello worldhello worldhello worldhello worldhello worldhello worldhello worldhello worldhello world'"
      ],
      "metadata": {
        "id": "6Kl4IgNVg3_e"
      },
      "execution_count": null,
      "outputs": []
    },
    {
      "cell_type": "code",
      "source": [
        "gugudan = [f'{i} X {j} = {i*j}' for i in range(2, 10) for j in range(1, 10)]"
      ],
      "metadata": {
        "id": "_xD2Bpi3hOFS"
      },
      "execution_count": null,
      "outputs": []
    },
    {
      "cell_type": "code",
      "source": [
        "# http://pythonstudy.xyz/python/article/511-%ED%8C%8C%EC%9D%B4%EC%8D%AC-%EC%BD%94%EB%94%A9-%EC%8A%A4%ED%83%80%EC%9D%BC\n",
        "x = 'hellohellohellohellohellohellohellohellohellohellohellohellohellohellohellohell'\n",
        "len(x)"
      ],
      "metadata": {
        "colab": {
          "base_uri": "https://localhost:8080/"
        },
        "id": "96P-xcq0iB5p",
        "outputId": "0212fa5a-db82-414a-a6a3-171af4730ef0"
      },
      "execution_count": 31,
      "outputs": [
        {
          "output_type": "execute_result",
          "data": {
            "text/plain": [
              "79"
            ]
          },
          "metadata": {},
          "execution_count": 31
        }
      ]
    },
    {
      "cell_type": "markdown",
      "source": [
        "# 형변환"
      ],
      "metadata": {
        "id": "e-xVAnerkVyf"
      }
    },
    {
      "cell_type": "code",
      "source": [
        "월급 = input(\"월급을 입력하세요:\")\n",
        "연봉 = 월급 * 12\n",
        "print(연봉)"
      ],
      "metadata": {
        "colab": {
          "base_uri": "https://localhost:8080/"
        },
        "id": "KgjphZRLic3i",
        "outputId": "2fdba067-2e6b-488c-a222-6af56d3affd0"
      },
      "execution_count": 33,
      "outputs": [
        {
          "output_type": "stream",
          "name": "stdout",
          "text": [
            "월급을 입력하세요:100\n",
            "100100100100100100100100100100100100\n"
          ]
        }
      ]
    },
    {
      "cell_type": "code",
      "source": [
        "월급 = input(\"월급을 입력하세요:\")\n",
        "연봉 = int(월급) * 12\n",
        "print(연봉)"
      ],
      "metadata": {
        "id": "SsLkYdmJkiw9"
      },
      "execution_count": null,
      "outputs": []
    },
    {
      "cell_type": "code",
      "source": [
        "월급 = int(input(\"월급을 입력하세요:\"))\n",
        "연봉 = 월급 * 12\n",
        "print(연봉)"
      ],
      "metadata": {
        "colab": {
          "base_uri": "https://localhost:8080/"
        },
        "id": "_ICW_Xk9ktG6",
        "outputId": "bd803bf1-cdc8-447d-97a1-821982e0296e"
      },
      "execution_count": 34,
      "outputs": [
        {
          "output_type": "stream",
          "name": "stdout",
          "text": [
            "월급을 입력하세요:100\n",
            "1200\n"
          ]
        }
      ]
    },
    {
      "cell_type": "code",
      "source": [
        "# 어렵지만 자주 사용하는 문법이니 기억해주세요.\n",
        "list(map(int, ['10', '20', '30']))"
      ],
      "metadata": {
        "colab": {
          "base_uri": "https://localhost:8080/"
        },
        "id": "QOnjlx2sk0N_",
        "outputId": "61a6b090-a422-4505-e8c0-1b1e68bf4255"
      },
      "execution_count": 36,
      "outputs": [
        {
          "output_type": "execute_result",
          "data": {
            "text/plain": [
              "[10, 20, 30]"
            ]
          },
          "metadata": {},
          "execution_count": 36
        }
      ]
    },
    {
      "cell_type": "code",
      "source": [
        "list(map(int, '12345'))"
      ],
      "metadata": {
        "colab": {
          "base_uri": "https://localhost:8080/"
        },
        "id": "SyvzPalynaYD",
        "outputId": "c53fe26c-d2da-4d95-b63b-e20d5147dc7b"
      },
      "execution_count": 37,
      "outputs": [
        {
          "output_type": "execute_result",
          "data": {
            "text/plain": [
              "[1, 2, 3, 4, 5]"
            ]
          },
          "metadata": {},
          "execution_count": 37
        }
      ]
    },
    {
      "cell_type": "code",
      "source": [
        "#다음 숫자에 모든 자릿수를 다 더한 값을 출력하세요\n",
        "sum(map(int, '1112312311113334'))"
      ],
      "metadata": {
        "colab": {
          "base_uri": "https://localhost:8080/"
        },
        "id": "7PHR1FGunc6b",
        "outputId": "171bd7d0-1f37-4810-e0fa-aaf2f9b4c4bc"
      },
      "execution_count": 38,
      "outputs": [
        {
          "output_type": "execute_result",
          "data": {
            "text/plain": [
              "31"
            ]
          },
          "metadata": {},
          "execution_count": 38
        }
      ]
    },
    {
      "cell_type": "code",
      "source": [
        "true_int = int(True)\n",
        "false_int = int(False)\n",
        "\n",
        "print(true_int)  # 출력: 1\n",
        "print(false_int)  # 출력: 0"
      ],
      "metadata": {
        "colab": {
          "base_uri": "https://localhost:8080/"
        },
        "id": "9cUc25-Tn5qY",
        "outputId": "0ee02734-78a9-4284-e069-41ab51ac2b38"
      },
      "execution_count": 39,
      "outputs": [
        {
          "output_type": "stream",
          "name": "stdout",
          "text": [
            "1\n",
            "0\n"
          ]
        }
      ]
    },
    {
      "cell_type": "code",
      "source": [
        "n = 123\n",
        "print(type(n))\n",
        "\n",
        "m = 123.4\n",
        "print(type(n))\n",
        "\n",
        "n = str(n)\n",
        "print(type(n))\n",
        "\n",
        "m = str(m)\n",
        "print(type(m))"
      ],
      "metadata": {
        "colab": {
          "base_uri": "https://localhost:8080/"
        },
        "id": "MZCFVIKTogOn",
        "outputId": "df4e34f2-d2bf-445c-c956-48ac6b929cfc"
      },
      "execution_count": 40,
      "outputs": [
        {
          "output_type": "stream",
          "name": "stdout",
          "text": [
            "<class 'int'>\n",
            "<class 'int'>\n",
            "<class 'str'>\n",
            "<class 'str'>\n"
          ]
        }
      ]
    },
    {
      "cell_type": "code",
      "source": [
        "m"
      ],
      "metadata": {
        "colab": {
          "base_uri": "https://localhost:8080/",
          "height": 35
        },
        "id": "vUSa8Pf-oveU",
        "outputId": "c318c48f-f6a1-4bd7-800f-20f5fdaa1d37"
      },
      "execution_count": 41,
      "outputs": [
        {
          "output_type": "execute_result",
          "data": {
            "text/plain": [
              "'123.4'"
            ],
            "application/vnd.google.colaboratory.intrinsic+json": {
              "type": "string"
            }
          },
          "metadata": {},
          "execution_count": 41
        }
      ]
    },
    {
      "cell_type": "code",
      "source": [
        "# 소숫점을 float형으로 변환하는 것은 가능하지만\n",
        "float(m)"
      ],
      "metadata": {
        "colab": {
          "base_uri": "https://localhost:8080/"
        },
        "id": "d7DUcWPHozG8",
        "outputId": "79c8843f-9a32-433b-d64c-40f6a9a83bed"
      },
      "execution_count": 42,
      "outputs": [
        {
          "output_type": "execute_result",
          "data": {
            "text/plain": [
              "123.4"
            ]
          },
          "metadata": {},
          "execution_count": 42
        }
      ]
    },
    {
      "cell_type": "code",
      "source": [
        "# int형으로 변환하는 것은 가능하지 않습니다.\n",
        "int(m)"
      ],
      "metadata": {
        "colab": {
          "base_uri": "https://localhost:8080/",
          "height": 181
        },
        "id": "tZPoBrcTo86R",
        "outputId": "209f4885-b555-4faa-8977-9663e69f4af5"
      },
      "execution_count": 43,
      "outputs": [
        {
          "output_type": "error",
          "ename": "ValueError",
          "evalue": "ignored",
          "traceback": [
            "\u001b[0;31m---------------------------------------------------------------------------\u001b[0m",
            "\u001b[0;31mValueError\u001b[0m                                Traceback (most recent call last)",
            "\u001b[0;32m<ipython-input-43-0e3835252ffd>\u001b[0m in \u001b[0;36m<cell line: 1>\u001b[0;34m()\u001b[0m\n\u001b[0;32m----> 1\u001b[0;31m \u001b[0mint\u001b[0m\u001b[0;34m(\u001b[0m\u001b[0mm\u001b[0m\u001b[0;34m)\u001b[0m\u001b[0;34m\u001b[0m\u001b[0;34m\u001b[0m\u001b[0m\n\u001b[0m",
            "\u001b[0;31mValueError\u001b[0m: invalid literal for int() with base 10: '123.4'"
          ]
        }
      ]
    },
    {
      "cell_type": "code",
      "source": [
        "# 여러분이 자주하는 실수\n",
        "x = 1.0\n",
        "x = str(x)\n",
        "print(int(x))"
      ],
      "metadata": {
        "id": "VIgiZonmpII3"
      },
      "execution_count": null,
      "outputs": []
    },
    {
      "cell_type": "code",
      "source": [
        "x = 1.0\n",
        "x = str(x)\n",
        "if x.find('.') == -1:\n",
        "    print(int(x))\n",
        "else:\n",
        "    print(float(x))"
      ],
      "metadata": {
        "id": "nRgaQTompTFY"
      },
      "execution_count": null,
      "outputs": []
    },
    {
      "cell_type": "code",
      "source": [
        "print(\"bool('test'):\", bool('test'))\n",
        "print(\"bool(' '):\", bool(' '))\n",
        "print(\"bool(''):\", bool(''))\n",
        "print(\"bool(100):\", bool(100))\n",
        "print(\"bool(1):\", bool(1))\n",
        "print(\"bool(0):\", bool(0))\n",
        "print(\"bool(-1):\", bool(-1))\n",
        "\n",
        "\n",
        "print(\"bool(None):\", bool(None))\n",
        "print(\"bool([]):\", bool([])) # 주의(JavaScript에서는 true, Python False)\n",
        "print(\"bool(tuple()):\", bool(tuple())) # 주의\n",
        "print(\"bool({}):\", bool({})) # 주의\n",
        "print(\"bool(set()):\", bool(set())) # 주의"
      ],
      "metadata": {
        "id": "tFtw651WqmFa"
      },
      "execution_count": null,
      "outputs": []
    },
    {
      "cell_type": "code",
      "source": [
        "# 실무에서 많이 사용하는 코드\n",
        "x = [1, 2, 3]\n",
        "while x:\n",
        "    print(x.pop())"
      ],
      "metadata": {
        "colab": {
          "base_uri": "https://localhost:8080/"
        },
        "id": "ll64FYBoq99H",
        "outputId": "44654370-0451-4c76-b041-3ab9ee5216ec"
      },
      "execution_count": 52,
      "outputs": [
        {
          "output_type": "stream",
          "name": "stdout",
          "text": [
            "3\n",
            "2\n",
            "1\n"
          ]
        }
      ]
    },
    {
      "cell_type": "code",
      "source": [
        "s = '10'\n",
        "print(list(s))\n",
        "\n",
        "name = 'licat'\n",
        "print(list(name))"
      ],
      "metadata": {
        "colab": {
          "base_uri": "https://localhost:8080/"
        },
        "id": "bfvbAlG6sNyb",
        "outputId": "80651ed1-7394-4be6-a839-356ec6de3d39"
      },
      "execution_count": 54,
      "outputs": [
        {
          "output_type": "stream",
          "name": "stdout",
          "text": [
            "['1', '0']\n",
            "['l', 'i', 'c', 'a', 't']\n"
          ]
        }
      ]
    },
    {
      "cell_type": "code",
      "source": [
        "name = 'licat'\n",
        "tuple(name)"
      ],
      "metadata": {
        "colab": {
          "base_uri": "https://localhost:8080/"
        },
        "id": "Tor7_xvmsOYJ",
        "outputId": "a3408fc7-d3cd-4551-8472-c77fd0a82557"
      },
      "execution_count": 55,
      "outputs": [
        {
          "output_type": "execute_result",
          "data": {
            "text/plain": [
              "('l', 'i', 'c', 'a', 't')"
            ]
          },
          "metadata": {},
          "execution_count": 55
        }
      ]
    },
    {
      "cell_type": "code",
      "source": [
        "data = [('name','licat'),('age',10)]\n",
        "d = dict(data)\n",
        "d"
      ],
      "metadata": {
        "colab": {
          "base_uri": "https://localhost:8080/"
        },
        "id": "ALLHXXerstOo",
        "outputId": "0a99025d-a527-4a51-f251-35af99bcdf47"
      },
      "execution_count": 56,
      "outputs": [
        {
          "output_type": "execute_result",
          "data": {
            "text/plain": [
              "{'name': 'licat', 'age': 10}"
            ]
          },
          "metadata": {},
          "execution_count": 56
        }
      ]
    },
    {
      "cell_type": "code",
      "source": [
        "s = 'weniv CEO licat'\n",
        "print(set(s)) #중복을 허락하지 않고 순서가 없습니다.\n",
        "print(len(set(s))) #중복을 제거한 상태로의 길이를 알려줍니다.\n",
        "print(len(s))"
      ],
      "metadata": {
        "colab": {
          "base_uri": "https://localhost:8080/"
        },
        "id": "iSDWFpbbs2t5",
        "outputId": "ae41cb83-71d8-44b8-d216-6846f1e101c3"
      },
      "execution_count": 57,
      "outputs": [
        {
          "output_type": "stream",
          "name": "stdout",
          "text": [
            "{'v', 'a', 'c', 'l', 't', 'O', 'i', ' ', 'C', 'w', 'e', 'n', 'E'}\n",
            "13\n",
            "15\n"
          ]
        }
      ]
    },
    {
      "cell_type": "markdown",
      "source": [
        "# 연습문제"
      ],
      "metadata": {
        "id": "C2km7LputVL4"
      }
    },
    {
      "cell_type": "code",
      "source": [
        "# 항상 확장자만 나오게 해주세요!\n",
        "s = 'licat.jpeg'\n",
        "s = 'li.cat.jpeg'"
      ],
      "metadata": {
        "id": "xcVEl9UDsuUq"
      },
      "execution_count": 61,
      "outputs": []
    },
    {
      "cell_type": "code",
      "source": [
        "print(s.split('.')[-1])"
      ],
      "metadata": {
        "colab": {
          "base_uri": "https://localhost:8080/"
        },
        "id": "2_B3PJdktZ-E",
        "outputId": "93b1e307-46a8-4535-f50c-2d1107a1bcae"
      },
      "execution_count": 62,
      "outputs": [
        {
          "output_type": "stream",
          "name": "stdout",
          "text": [
            "jpeg\n"
          ]
        }
      ]
    },
    {
      "cell_type": "code",
      "source": [
        "s = 'li.cat.jpeg'\n",
        "s[s.index('.')+1:]"
      ],
      "metadata": {
        "colab": {
          "base_uri": "https://localhost:8080/",
          "height": 35
        },
        "id": "-kiUIctqty21",
        "outputId": "dd29f1ce-1a33-453f-c181-1d0d99d498bb"
      },
      "execution_count": 63,
      "outputs": [
        {
          "output_type": "execute_result",
          "data": {
            "text/plain": [
              "'cat.jpeg'"
            ],
            "application/vnd.google.colaboratory.intrinsic+json": {
              "type": "string"
            }
          },
          "metadata": {},
          "execution_count": 63
        }
      ]
    },
    {
      "cell_type": "code",
      "source": [
        "s[::-1].split('.')[0][::-1]"
      ],
      "metadata": {
        "colab": {
          "base_uri": "https://localhost:8080/",
          "height": 35
        },
        "id": "BeKnQngPuEpb",
        "outputId": "a37a7966-72cb-49ff-bd4e-a448c1222d4b"
      },
      "execution_count": 64,
      "outputs": [
        {
          "output_type": "execute_result",
          "data": {
            "text/plain": [
              "'jpeg'"
            ],
            "application/vnd.google.colaboratory.intrinsic+json": {
              "type": "string"
            }
          },
          "metadata": {},
          "execution_count": 64
        }
      ]
    },
    {
      "cell_type": "code",
      "source": [
        "s = 'li.cat.jpeg'\n",
        "s.split('.')[-1]"
      ],
      "metadata": {
        "colab": {
          "base_uri": "https://localhost:8080/",
          "height": 35
        },
        "id": "30PtP2G-uM2v",
        "outputId": "0f172e92-7afd-4a88-e896-878772252284"
      },
      "execution_count": 65,
      "outputs": [
        {
          "output_type": "execute_result",
          "data": {
            "text/plain": [
              "'jpeg'"
            ],
            "application/vnd.google.colaboratory.intrinsic+json": {
              "type": "string"
            }
          },
          "metadata": {},
          "execution_count": 65
        }
      ]
    },
    {
      "cell_type": "code",
      "source": [
        "s = 'li.cat.jpeg'\n",
        "# s[s.index('.')+1:]\n",
        "s.rindex('.')\n",
        "s[s.rindex('.')+1:]"
      ],
      "metadata": {
        "colab": {
          "base_uri": "https://localhost:8080/",
          "height": 35
        },
        "id": "hcNFl32YuZyc",
        "outputId": "dde1c946-9599-4a17-c602-1614b7c8271b"
      },
      "execution_count": 68,
      "outputs": [
        {
          "output_type": "execute_result",
          "data": {
            "text/plain": [
              "'jpeg'"
            ],
            "application/vnd.google.colaboratory.intrinsic+json": {
              "type": "string"
            }
          },
          "metadata": {},
          "execution_count": 68
        }
      ]
    },
    {
      "cell_type": "code",
      "source": [
        "dir(s)"
      ],
      "metadata": {
        "colab": {
          "base_uri": "https://localhost:8080/"
        },
        "id": "BbVptTS6ub14",
        "outputId": "915480bb-1882-4c83-8143-2ef5b3057ef8"
      },
      "execution_count": 66,
      "outputs": [
        {
          "output_type": "execute_result",
          "data": {
            "text/plain": [
              "['__add__',\n",
              " '__class__',\n",
              " '__contains__',\n",
              " '__delattr__',\n",
              " '__dir__',\n",
              " '__doc__',\n",
              " '__eq__',\n",
              " '__format__',\n",
              " '__ge__',\n",
              " '__getattribute__',\n",
              " '__getitem__',\n",
              " '__getnewargs__',\n",
              " '__gt__',\n",
              " '__hash__',\n",
              " '__init__',\n",
              " '__init_subclass__',\n",
              " '__iter__',\n",
              " '__le__',\n",
              " '__len__',\n",
              " '__lt__',\n",
              " '__mod__',\n",
              " '__mul__',\n",
              " '__ne__',\n",
              " '__new__',\n",
              " '__reduce__',\n",
              " '__reduce_ex__',\n",
              " '__repr__',\n",
              " '__rmod__',\n",
              " '__rmul__',\n",
              " '__setattr__',\n",
              " '__sizeof__',\n",
              " '__str__',\n",
              " '__subclasshook__',\n",
              " 'capitalize',\n",
              " 'casefold',\n",
              " 'center',\n",
              " 'count',\n",
              " 'encode',\n",
              " 'endswith',\n",
              " 'expandtabs',\n",
              " 'find',\n",
              " 'format',\n",
              " 'format_map',\n",
              " 'index',\n",
              " 'isalnum',\n",
              " 'isalpha',\n",
              " 'isascii',\n",
              " 'isdecimal',\n",
              " 'isdigit',\n",
              " 'isidentifier',\n",
              " 'islower',\n",
              " 'isnumeric',\n",
              " 'isprintable',\n",
              " 'isspace',\n",
              " 'istitle',\n",
              " 'isupper',\n",
              " 'join',\n",
              " 'ljust',\n",
              " 'lower',\n",
              " 'lstrip',\n",
              " 'maketrans',\n",
              " 'partition',\n",
              " 'removeprefix',\n",
              " 'removesuffix',\n",
              " 'replace',\n",
              " 'rfind',\n",
              " 'rindex',\n",
              " 'rjust',\n",
              " 'rpartition',\n",
              " 'rsplit',\n",
              " 'rstrip',\n",
              " 'split',\n",
              " 'splitlines',\n",
              " 'startswith',\n",
              " 'strip',\n",
              " 'swapcase',\n",
              " 'title',\n",
              " 'translate',\n",
              " 'upper',\n",
              " 'zfill']"
            ]
          },
          "metadata": {},
          "execution_count": 66
        }
      ]
    }
  ]
}