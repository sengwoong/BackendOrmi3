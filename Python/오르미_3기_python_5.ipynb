{
  "nbformat": 4,
  "nbformat_minor": 0,
  "metadata": {
    "colab": {
      "provenance": []
    },
    "kernelspec": {
      "name": "python3",
      "display_name": "Python 3"
    },
    "language_info": {
      "name": "python"
    }
  },
  "cells": [
    {
      "cell_type": "markdown",
      "source": [
        "# 클래스 변수와 인스턴스 변수"
      ],
      "metadata": {
        "id": "jF1BaqTDggVD"
      }
    },
    {
      "cell_type": "code",
      "execution_count": null,
      "metadata": {
        "colab": {
          "base_uri": "https://localhost:8080/"
        },
        "id": "lZjpOk_mgQIW",
        "outputId": "a7b1e818-1898-44aa-c5b9-0f006b696bb1"
      },
      "outputs": [
        {
          "output_type": "stream",
          "name": "stdout",
          "text": [
            "300\n",
            "300\n",
            "500\n"
          ]
        }
      ],
      "source": [
        "class Car:\n",
        "    # 클래스 변수의 위치\n",
        "    max_speed = 300\n",
        "    max_people = 5\n",
        "    car_gear = ['P', 'D', 'R', 'N']\n",
        "\n",
        "modelx = Car()\n",
        "modely = Car()\n",
        "\n",
        "modely.max_speed = 500\n",
        "\n",
        "print(Car.max_speed) # 출력: 300\n",
        "print(modelx.max_speed) # 출력: 300\n",
        "print(modely.max_speed) # 출력: 500(인스턴스 변수를 출력한 것입니다.)"
      ]
    },
    {
      "cell_type": "code",
      "source": [
        "class Car:\n",
        "    # 클래스 변수의 위치\n",
        "    max_speed = 1000\n",
        "    max_people = 5\n",
        "    car_gear = ['P', 'D', 'R', 'N']\n",
        "\n",
        "modelx = Car()\n",
        "modely = Car()\n",
        "\n",
        "modely.max_speed = 1000\n",
        "\n",
        "print(id(Car.max_speed)) # 출력: 139932765819248\n",
        "print(id(modelx.max_speed)) # 출력: 139932765819248\n",
        "print(id(modely.max_speed)) # 출력: 139932765819280"
      ],
      "metadata": {
        "colab": {
          "base_uri": "https://localhost:8080/"
        },
        "id": "mSRYmw4Cg0sS",
        "outputId": "7bd151f4-d833-455f-b8c2-816770f443b9"
      },
      "execution_count": null,
      "outputs": [
        {
          "output_type": "stream",
          "name": "stdout",
          "text": [
            "139932765819248\n",
            "139932765819248\n",
            "139932765819280\n"
          ]
        }
      ]
    },
    {
      "cell_type": "code",
      "source": [
        "class Car:\n",
        "    kinds = []\n",
        "    speed = 300\n",
        "\n",
        "    def add_kinds(self, name):\n",
        "        self.kinds.append(name)\n",
        "\n",
        "    def change_speed(self, speed):\n",
        "        self.speed = speed\n",
        "\n",
        "modelx = Car()\n",
        "modely = Car()\n",
        "\n",
        "modelx.add_kinds('x')\n",
        "modely.add_kinds('y')\n",
        "\n",
        "Car.speed = 100\n",
        "\n",
        "# modelx.change_speed(500)\n",
        "# modely.change_speed(250)\n",
        "\n",
        "print(f'modelx.kinds: {modelx.kinds}') # ['x', 'y']일까요? ['x']일까요?\n",
        "print(f'modely.kinds: {modely.kinds}') # ['x', 'y']일까요? ['y']일까요?\n",
        "print(f'modelx.speed: {modelx.speed}') # 300일까요? 100일까요?\n",
        "print(f'modely.speed: {modely.speed}') # 300일까요? 100일까요?"
      ],
      "metadata": {
        "colab": {
          "base_uri": "https://localhost:8080/"
        },
        "id": "32NXM9YxhYj5",
        "outputId": "7a0a0f50-44fd-45e1-a047-de483fea1a6e"
      },
      "execution_count": null,
      "outputs": [
        {
          "output_type": "stream",
          "name": "stdout",
          "text": [
            "modelx.kinds: ['x', 'y']\n",
            "modely.kinds: ['x', 'y']\n",
            "modelx.speed: 100\n",
            "modely.speed: 100\n"
          ]
        }
      ]
    },
    {
      "cell_type": "code",
      "source": [
        "# 일부러 혼란을 드리려고 어렵게 낸 문제입니다.\n",
        "# 이런 문제는 실무에서 거의 발생하지 않습니다.\n",
        "class Car:\n",
        "    kinds = []\n",
        "    speed = 300\n",
        "\n",
        "    def add_kinds(self, name):\n",
        "        self.kinds.append(name)\n",
        "\n",
        "    def change_speed(self, speed):\n",
        "        self.speed = speed\n",
        "\n",
        "modelx = Car()\n",
        "modely = Car()\n",
        "\n",
        "# Car.speed = 100\n",
        "\n",
        "modelx.change_speed(500)\n",
        "modely.change_speed(250)\n",
        "\n",
        "print(f'modelx.speed: {modelx.speed}')\n",
        "print(f'modely.speed: {modely.speed}')"
      ],
      "metadata": {
        "id": "IrdDRNvwjsO2"
      },
      "execution_count": null,
      "outputs": []
    },
    {
      "cell_type": "code",
      "source": [
        "x = 100\n",
        "def test():\n",
        "    print(x) # 내 메모리 영역에 x가 없네? 그러면 찾아 올라갑니다.\n",
        "\n",
        "test()"
      ],
      "metadata": {
        "colab": {
          "base_uri": "https://localhost:8080/"
        },
        "id": "7FxHeUapkiR3",
        "outputId": "c3d3f73c-f90b-486e-82af-baf0d6b6dfd6"
      },
      "execution_count": null,
      "outputs": [
        {
          "output_type": "stream",
          "name": "stdout",
          "text": [
            "100\n"
          ]
        }
      ]
    },
    {
      "cell_type": "code",
      "source": [
        "x = 100\n",
        "def test():\n",
        "    x = 200 # 값을 읽어올 수 있지만 변경은 안됩니다!\n",
        "    # x는 전역변수는 건드리지 않고 지역변수 200을 선언했을 뿐입니다.\n",
        "\n",
        "test()\n",
        "x"
      ],
      "metadata": {
        "colab": {
          "base_uri": "https://localhost:8080/"
        },
        "id": "aF8-zIcFkzPq",
        "outputId": "c7576ce8-acd2-4d4e-c674-a77910ecb43a"
      },
      "execution_count": null,
      "outputs": [
        {
          "output_type": "execute_result",
          "data": {
            "text/plain": [
              "100"
            ]
          },
          "metadata": {},
          "execution_count": 7
        }
      ]
    },
    {
      "cell_type": "code",
      "source": [
        "x = 100\n",
        "def test():\n",
        "    global x\n",
        "    x = 200 # 전역변수 x를 수정할 수 있게 됩니다!\n",
        "\n",
        "test()\n",
        "x"
      ],
      "metadata": {
        "colab": {
          "base_uri": "https://localhost:8080/"
        },
        "id": "dlglNIRDlM9b",
        "outputId": "d9273521-84dc-4b45-b2c7-548d74efa500"
      },
      "execution_count": null,
      "outputs": [
        {
          "output_type": "execute_result",
          "data": {
            "text/plain": [
              "200"
            ]
          },
          "metadata": {},
          "execution_count": 8
        }
      ]
    },
    {
      "cell_type": "code",
      "source": [
        "x = 100\n",
        "def test():\n",
        "    x += 100 # x = x + 100\n",
        "\n",
        "test()"
      ],
      "metadata": {
        "id": "NSLf8Ky7lU8_"
      },
      "execution_count": null,
      "outputs": []
    },
    {
      "cell_type": "code",
      "source": [
        "x = 100\n",
        "def test():\n",
        "    global x\n",
        "    x += 100\n",
        "\n",
        "test()\n",
        "x"
      ],
      "metadata": {
        "colab": {
          "base_uri": "https://localhost:8080/"
        },
        "id": "oc-dla29mSY9",
        "outputId": "77c0c29c-ba75-40ac-ec47-13ba34789c36"
      },
      "execution_count": null,
      "outputs": [
        {
          "output_type": "execute_result",
          "data": {
            "text/plain": [
              "200"
            ]
          },
          "metadata": {},
          "execution_count": 11
        }
      ]
    },
    {
      "cell_type": "code",
      "source": [
        "x = []\n",
        "def test():\n",
        "    x.append(100)\n",
        "\n",
        "test()\n",
        "x"
      ],
      "metadata": {
        "id": "koBU4FgXmYt4"
      },
      "execution_count": null,
      "outputs": []
    },
    {
      "cell_type": "code",
      "source": [
        "# 매우 중요합니다.\n",
        "l = [10, 20, 30]\n",
        "def test(ll):\n",
        "    ll.append(40)\n",
        "\n",
        "test(l)\n",
        "l"
      ],
      "metadata": {
        "colab": {
          "base_uri": "https://localhost:8080/"
        },
        "id": "31cqCztum7yk",
        "outputId": "3cb97d2b-5b4a-4d46-8dae-c6109074b9b3"
      },
      "execution_count": null,
      "outputs": [
        {
          "output_type": "execute_result",
          "data": {
            "text/plain": [
              "[10, 20, 30, 40]"
            ]
          },
          "metadata": {},
          "execution_count": 12
        }
      ]
    },
    {
      "cell_type": "code",
      "source": [
        "# 매우 중요합니다.\n",
        "# 화살표 그릴 수 있어야 합니다.\n",
        "i = 100\n",
        "def test(ii):\n",
        "    ii = 300\n",
        "\n",
        "test(i)\n",
        "i"
      ],
      "metadata": {
        "colab": {
          "base_uri": "https://localhost:8080/"
        },
        "id": "CTYn0t9dqbG6",
        "outputId": "fe923629-ed5f-40d9-efbe-f3ca38022eb8"
      },
      "execution_count": null,
      "outputs": [
        {
          "output_type": "execute_result",
          "data": {
            "text/plain": [
              "100"
            ]
          },
          "metadata": {},
          "execution_count": 13
        }
      ]
    },
    {
      "cell_type": "code",
      "source": [
        "# 매우 중요합니다.\n",
        "l = [10, 20, 30]\n",
        "def test(ll):\n",
        "    ll = 100\n",
        "\n",
        "test(l)\n",
        "l"
      ],
      "metadata": {
        "colab": {
          "base_uri": "https://localhost:8080/"
        },
        "id": "E_slY9nIrgYo",
        "outputId": "a658b506-fe03-4ea4-c187-637bd769f1c9"
      },
      "execution_count": null,
      "outputs": [
        {
          "output_type": "execute_result",
          "data": {
            "text/plain": [
              "[10, 20, 30]"
            ]
          },
          "metadata": {},
          "execution_count": 14
        }
      ]
    },
    {
      "cell_type": "code",
      "source": [
        "kinds = [] # 전역변수 speed 300\n",
        "\n",
        "def add_kinds(value):\n",
        "    kinds.append(value) # 지역에 해당 변수가 없으므로 전역변수 kinds에 append\n",
        "\n",
        "add_kinds(100)\n",
        "kinds"
      ],
      "metadata": {
        "colab": {
          "base_uri": "https://localhost:8080/"
        },
        "id": "mt_IWuQqkWle",
        "outputId": "99159b4c-bd57-4088-9e72-ecd674deb92c"
      },
      "execution_count": null,
      "outputs": [
        {
          "output_type": "execute_result",
          "data": {
            "text/plain": [
              "[100]"
            ]
          },
          "metadata": {},
          "execution_count": 4
        }
      ]
    },
    {
      "cell_type": "code",
      "source": [
        "kinds = [] # 전역변수 speed 300\n",
        "\n",
        "def add_kinds(value):\n",
        "    kinds = []\n",
        "    kinds.append(value) # 지역에 해당 변수가 없으므로 전역변수 kinds에 append\n",
        "\n",
        "add_kinds(100)\n",
        "kinds"
      ],
      "metadata": {
        "colab": {
          "base_uri": "https://localhost:8080/"
        },
        "id": "GZKt0t-bkYSa",
        "outputId": "d0652239-9b90-404a-a15a-600052597ca0"
      },
      "execution_count": null,
      "outputs": [
        {
          "output_type": "execute_result",
          "data": {
            "text/plain": [
              "[]"
            ]
          },
          "metadata": {},
          "execution_count": 5
        }
      ]
    },
    {
      "cell_type": "code",
      "source": [
        "def hello():\n",
        "    print('hello world')\n",
        "\n",
        "print(type(hello)) # 출력: <class 'function'>"
      ],
      "metadata": {
        "colab": {
          "base_uri": "https://localhost:8080/"
        },
        "id": "BBDyFttFsmX_",
        "outputId": "977840cf-e146-4a24-886b-4b95f4bb8c97"
      },
      "execution_count": null,
      "outputs": [
        {
          "output_type": "stream",
          "name": "stdout",
          "text": [
            "<class 'function'>\n"
          ]
        }
      ]
    },
    {
      "cell_type": "code",
      "source": [
        "class Point:\n",
        "\n",
        "    def __init__(self, x, y):\n",
        "        self.x = x\n",
        "        self.y = y\n",
        "\n",
        "    def __add__(self, other):\n",
        "        if isinstance(other, Point):\n",
        "            return Point((self.x + other.x), (self.y + other.y))\n",
        "        elif isinstance(other, int) or isinstance(other, float):\n",
        "            return Point((self.x + other), (self.y + other))\n",
        "\n",
        "    def distance(self, other):\n",
        "        dx = self.x - other.x\n",
        "        dy = self.y - other.y\n",
        "        return (dx**2 + dy**2)**0.5\n",
        "\n",
        "dot1 = Point(10, 20)\n",
        "dot2 = Point(20, 30)\n",
        "\n",
        "dot3 = dot1 + 10\n",
        "print(dot1.x, dot1.y) # 출력: 10 20\n",
        "print(dot3.x, dot3.y) # 출력: 20 30\n",
        "\n",
        "dot4 = dot1 + dot2\n",
        "print(dot4.x, dot4.y) # 출력: 30 50\n",
        "print(dot4.distance(dot1)) # 출력: 36.05551275463989"
      ],
      "metadata": {
        "id": "mhIU1EGvvqgD"
      },
      "execution_count": null,
      "outputs": []
    },
    {
      "cell_type": "code",
      "source": [
        "class Counter:\n",
        "\n",
        "    def __init__(self):\n",
        "        self.num = 0\n",
        "\n",
        "    def __len__(self):\n",
        "        return 100\n",
        "\n",
        "    def __call__(self):\n",
        "        return 'hello'\n",
        "\n",
        "    def __getitem__(self, key):\n",
        "        return key*10\n",
        "\n",
        "    def __str__(self):\n",
        "        return 'hello'\n",
        "\n",
        "    def __repr__(self):\n",
        "        return 'world'\n",
        "\n",
        "c = Counter()\n",
        "len(c)\n",
        "c()\n",
        "c[10]\n",
        "print(c) # print(str(c)) # __str__\n",
        "c # __repr__"
      ],
      "metadata": {
        "colab": {
          "base_uri": "https://localhost:8080/"
        },
        "id": "R_YMxlH3xIpl",
        "outputId": "31033a6f-a306-428b-f82c-6749f2fb6321"
      },
      "execution_count": null,
      "outputs": [
        {
          "output_type": "stream",
          "name": "stdout",
          "text": [
            "hello\n"
          ]
        },
        {
          "output_type": "execute_result",
          "data": {
            "text/plain": [
              "world"
            ]
          },
          "metadata": {},
          "execution_count": 23
        }
      ]
    },
    {
      "cell_type": "markdown",
      "source": [
        "# 상속"
      ],
      "metadata": {
        "id": "uk3hgKh76NTX"
      }
    },
    {
      "cell_type": "code",
      "source": [
        "class A:\n",
        "    def hello(self):\n",
        "        return 'hello'\n",
        "\n",
        "class B(A):\n",
        "    def world(self):\n",
        "        return 'world'\n",
        "\n",
        "b = B()\n",
        "b.hello()\n",
        "b.world()"
      ],
      "metadata": {
        "colab": {
          "base_uri": "https://localhost:8080/",
          "height": 35
        },
        "id": "xg1iLKpPzD8x",
        "outputId": "73e72303-62a8-4271-82fa-0bf1f48faaa3"
      },
      "execution_count": null,
      "outputs": [
        {
          "output_type": "execute_result",
          "data": {
            "text/plain": [
              "'world'"
            ],
            "application/vnd.google.colaboratory.intrinsic+json": {
              "type": "string"
            }
          },
          "metadata": {},
          "execution_count": 25
        }
      ]
    },
    {
      "cell_type": "code",
      "source": [
        "class A:\n",
        "    def hello(self):\n",
        "        return 'hello'\n",
        "\n",
        "class B(A):\n",
        "    def __init__(self, a):\n",
        "        print(a, b)\n",
        "\n",
        "    def world(self):\n",
        "        return 'world'\n",
        "\n",
        "b = B(10) # A에서 처리하는 것 아니고 a에서 처리합니다.\n",
        "b.hello()\n",
        "b.world()"
      ],
      "metadata": {
        "colab": {
          "base_uri": "https://localhost:8080/",
          "height": 53
        },
        "id": "CfpSDYvtz-lt",
        "outputId": "b1371293-011b-4af5-e943-69b3eed690ed"
      },
      "execution_count": null,
      "outputs": [
        {
          "output_type": "stream",
          "name": "stdout",
          "text": [
            "10 20\n"
          ]
        },
        {
          "output_type": "execute_result",
          "data": {
            "text/plain": [
              "'world'"
            ],
            "application/vnd.google.colaboratory.intrinsic+json": {
              "type": "string"
            }
          },
          "metadata": {},
          "execution_count": 28
        }
      ]
    },
    {
      "cell_type": "code",
      "source": [
        "class A(object):\n",
        "    def hello(self):\n",
        "        return 'hello'\n",
        "\n",
        "class B(A):\n",
        "    def __init__(self, a):\n",
        "        print(a, b)\n",
        "\n",
        "    def world(self):\n",
        "        return 'world'\n",
        "\n",
        "b = B(10) # A에서 처리하는 것 아니고 a에서 처리합니다.\n",
        "b.hello()\n",
        "b.world()\n",
        "dir(b)"
      ],
      "metadata": {
        "colab": {
          "base_uri": "https://localhost:8080/"
        },
        "id": "Y-bE67k10bVQ",
        "outputId": "c36daf3a-7782-490b-a05a-4000e008e06a"
      },
      "execution_count": null,
      "outputs": [
        {
          "output_type": "stream",
          "name": "stdout",
          "text": [
            "10 <__main__.B object at 0x7f44707b0d60>\n"
          ]
        },
        {
          "output_type": "execute_result",
          "data": {
            "text/plain": [
              "['__class__',\n",
              " '__delattr__',\n",
              " '__dict__',\n",
              " '__dir__',\n",
              " '__doc__',\n",
              " '__eq__',\n",
              " '__format__',\n",
              " '__ge__',\n",
              " '__getattribute__',\n",
              " '__gt__',\n",
              " '__hash__',\n",
              " '__init__',\n",
              " '__init_subclass__',\n",
              " '__le__',\n",
              " '__lt__',\n",
              " '__module__',\n",
              " '__ne__',\n",
              " '__new__',\n",
              " '__reduce__',\n",
              " '__reduce_ex__',\n",
              " '__repr__',\n",
              " '__setattr__',\n",
              " '__sizeof__',\n",
              " '__str__',\n",
              " '__subclasshook__',\n",
              " '__weakref__',\n",
              " 'hello',\n",
              " 'world']"
            ]
          },
          "metadata": {},
          "execution_count": 29
        }
      ]
    },
    {
      "cell_type": "code",
      "source": [
        "class A(object):\n",
        "    def hello(self):\n",
        "        return 'hello'\n",
        "\n",
        "class B(A):\n",
        "    def __init__(self, a):\n",
        "        print(a, b)\n",
        "\n",
        "    def hello(self):\n",
        "        return 'hello world'\n",
        "\n",
        "b = B(10)\n",
        "b.hello() # B에 hello가 A에 hello를 덮습니다."
      ],
      "metadata": {
        "colab": {
          "base_uri": "https://localhost:8080/",
          "height": 53
        },
        "id": "kFVMXuY606H5",
        "outputId": "c3d7849d-8cdd-4f75-b449-80c11195aaed"
      },
      "execution_count": null,
      "outputs": [
        {
          "output_type": "stream",
          "name": "stdout",
          "text": [
            "10 <__main__.B object at 0x7f44707b1f30>\n"
          ]
        },
        {
          "output_type": "execute_result",
          "data": {
            "text/plain": [
              "'hello world'"
            ],
            "application/vnd.google.colaboratory.intrinsic+json": {
              "type": "string"
            }
          },
          "metadata": {},
          "execution_count": 30
        }
      ]
    },
    {
      "cell_type": "code",
      "source": [
        "class A(object):\n",
        "    def one(self):\n",
        "        return 'one'\n",
        "\n",
        "class B(A):\n",
        "    def two(self):\n",
        "        return 'two'\n",
        "\n",
        "class C(B):\n",
        "    def three(self):\n",
        "        return 'three'\n",
        "\n",
        "c = C()\n",
        "c.one()\n",
        "c.two()\n",
        "c.three()"
      ],
      "metadata": {
        "colab": {
          "base_uri": "https://localhost:8080/",
          "height": 35
        },
        "id": "BLbwBSOF1oE1",
        "outputId": "76d4b6b6-bed7-43d1-cf79-0dfcb19effe4"
      },
      "execution_count": null,
      "outputs": [
        {
          "output_type": "execute_result",
          "data": {
            "text/plain": [
              "'three'"
            ],
            "application/vnd.google.colaboratory.intrinsic+json": {
              "type": "string"
            }
          },
          "metadata": {},
          "execution_count": 32
        }
      ]
    },
    {
      "cell_type": "code",
      "source": [
        "class A(object):\n",
        "    test = 0\n",
        "    def one(self):\n",
        "        return 'one'\n",
        "\n",
        "class B(A):\n",
        "    def two(self):\n",
        "        return 'two'\n",
        "\n",
        "class C(B):\n",
        "    def three(self):\n",
        "        return 'three'\n",
        "\n",
        "c = C()\n",
        "A.test = 300\n",
        "c.test # 상속을 받을 때 내 메모리 영역의 값(보유하고 있는 값)은 아닙니다! 참조 값입니다."
      ],
      "metadata": {
        "colab": {
          "base_uri": "https://localhost:8080/"
        },
        "id": "BsyCoDPD4j9e",
        "outputId": "ca7bca14-fb0b-4a83-8227-d0c7fdfefed5"
      },
      "execution_count": null,
      "outputs": [
        {
          "output_type": "execute_result",
          "data": {
            "text/plain": [
              "300"
            ]
          },
          "metadata": {},
          "execution_count": 33
        }
      ]
    },
    {
      "cell_type": "markdown",
      "source": [
        "# 다중상속"
      ],
      "metadata": {
        "id": "CF5BCpgS6JAN"
      }
    },
    {
      "cell_type": "code",
      "source": [
        "class A:\n",
        "    def hello(self):\n",
        "        print('hello A')\n",
        "\n",
        "class B:\n",
        "    def hello(self):\n",
        "        print('hello B')\n",
        "\n",
        "class C(A, B):\n",
        "    pass\n",
        "\n",
        "c = C()\n",
        "c.hello() # 주의! python의 코드의 특성상 hello B라고 오해할만합니다. 2.x와 3.x가 상속에 순서가 다릅니다."
      ],
      "metadata": {
        "colab": {
          "base_uri": "https://localhost:8080/"
        },
        "id": "n_mUMQZ259bl",
        "outputId": "b7b47f21-fded-48c4-fa9f-8ae343b2c7eb"
      },
      "execution_count": null,
      "outputs": [
        {
          "output_type": "stream",
          "name": "stdout",
          "text": [
            "hello A\n"
          ]
        }
      ]
    },
    {
      "cell_type": "code",
      "source": [
        "# 주의! python의 2.x와 3.x가 아래 다이아몬드 상속에 순서가 다릅니다.\n",
        "# 3.x에서는 hello C가, 2.x에서는 hello A가 출력됩니다.\n",
        "# 다만 2.x에서 A => class A(object)로 바꾸면 실행 순서는 같아집니다.\n",
        "class A:\n",
        "    def hello(self):\n",
        "        print('hello A')\n",
        "\n",
        "class B(A):\n",
        "    pass\n",
        "\n",
        "class C(A):\n",
        "    def hello(self):\n",
        "        print('hello C')\n",
        "\n",
        "class D(B, C):\n",
        "    pass\n",
        "\n",
        "d = D()\n",
        "d.hello()"
      ],
      "metadata": {
        "colab": {
          "base_uri": "https://localhost:8080/"
        },
        "id": "mJ24temrP-zx",
        "outputId": "c7ccdc8b-9835-4440-ebdc-e536bb988781"
      },
      "execution_count": null,
      "outputs": [
        {
          "output_type": "stream",
          "name": "stdout",
          "text": [
            "hello C\n"
          ]
        }
      ]
    },
    {
      "cell_type": "code",
      "source": [
        "# 다중 상속을 했을 때 상속에서 error가 나는 경우 - 정상실행\n",
        "class A:\n",
        "    def hello(self):\n",
        "        print('hello A')\n",
        "\n",
        "class B(A):\n",
        "    def hello(self):\n",
        "        print('hello B')\n",
        "\n",
        "class C(B):\n",
        "    def hello(self):\n",
        "        print('hello C')\n",
        "\n",
        "class D(C, B):\n",
        "    pass\n",
        "\n",
        "d = D()\n",
        "d.hello()"
      ],
      "metadata": {
        "colab": {
          "base_uri": "https://localhost:8080/"
        },
        "id": "nWgUZNgl8jux",
        "outputId": "b8b9d9ff-3098-4784-d506-aace6ab0aea4"
      },
      "execution_count": null,
      "outputs": [
        {
          "output_type": "stream",
          "name": "stdout",
          "text": [
            "hello C\n"
          ]
        }
      ]
    },
    {
      "cell_type": "code",
      "source": [
        "# 다중 상속을 했을 때 상속에서 error가 나는 경우 - error\n",
        "class A:\n",
        "    def hello(self):\n",
        "        print('hello A')\n",
        "\n",
        "class B(A):\n",
        "    def hello(self):\n",
        "        print('hello B')\n",
        "\n",
        "class C(B):\n",
        "    def hello(self):\n",
        "        print('hello C')\n",
        "\n",
        "class D(B, C):\n",
        "    pass\n",
        "\n",
        "d = D()\n",
        "d.hello()"
      ],
      "metadata": {
        "colab": {
          "base_uri": "https://localhost:8080/",
          "height": 270
        },
        "id": "oGfF8_9G8xe1",
        "outputId": "e02a1028-5ee1-400c-e39a-d8e99b169dfe"
      },
      "execution_count": null,
      "outputs": [
        {
          "output_type": "error",
          "ename": "TypeError",
          "evalue": "ignored",
          "traceback": [
            "\u001b[0;31m---------------------------------------------------------------------------\u001b[0m",
            "\u001b[0;31mTypeError\u001b[0m                                 Traceback (most recent call last)",
            "\u001b[0;32m<ipython-input-39-718e32a4f214>\u001b[0m in \u001b[0;36m<cell line: 13>\u001b[0;34m()\u001b[0m\n\u001b[1;32m     11\u001b[0m         \u001b[0mprint\u001b[0m\u001b[0;34m(\u001b[0m\u001b[0;34m'hello C'\u001b[0m\u001b[0;34m)\u001b[0m\u001b[0;34m\u001b[0m\u001b[0;34m\u001b[0m\u001b[0m\n\u001b[1;32m     12\u001b[0m \u001b[0;34m\u001b[0m\u001b[0m\n\u001b[0;32m---> 13\u001b[0;31m \u001b[0;32mclass\u001b[0m \u001b[0mD\u001b[0m\u001b[0;34m(\u001b[0m\u001b[0mB\u001b[0m\u001b[0;34m,\u001b[0m \u001b[0mC\u001b[0m\u001b[0;34m)\u001b[0m\u001b[0;34m:\u001b[0m\u001b[0;34m\u001b[0m\u001b[0;34m\u001b[0m\u001b[0m\n\u001b[0m\u001b[1;32m     14\u001b[0m     \u001b[0;32mpass\u001b[0m\u001b[0;34m\u001b[0m\u001b[0;34m\u001b[0m\u001b[0m\n\u001b[1;32m     15\u001b[0m \u001b[0;34m\u001b[0m\u001b[0m\n",
            "\u001b[0;31mTypeError\u001b[0m: Cannot create a consistent method resolution\norder (MRO) for bases B, C"
          ]
        }
      ]
    },
    {
      "cell_type": "code",
      "source": [
        "class Car(object):\n",
        "    pass\n",
        "\n",
        "class HybridCar(Car):\n",
        "    pass\n",
        "\n",
        "class ElectricCar(HybridCar):\n",
        "    pass\n",
        "\n",
        "class HybridElectricCar(HybridCar, ElectricCar):\n",
        "    pass\n",
        "\n",
        "modelz = HybridElectricCar()"
      ],
      "metadata": {
        "colab": {
          "base_uri": "https://localhost:8080/",
          "height": 270
        },
        "id": "ZJ7iymPjZKKj",
        "outputId": "168d59d0-1e1e-438b-d862-0188c8b121ed"
      },
      "execution_count": null,
      "outputs": [
        {
          "output_type": "error",
          "ename": "TypeError",
          "evalue": "ignored",
          "traceback": [
            "\u001b[0;31m---------------------------------------------------------------------------\u001b[0m",
            "\u001b[0;31mTypeError\u001b[0m                                 Traceback (most recent call last)",
            "\u001b[0;32m<ipython-input-50-dcf2ea0558ff>\u001b[0m in \u001b[0;36m<cell line: 10>\u001b[0;34m()\u001b[0m\n\u001b[1;32m      8\u001b[0m     \u001b[0;32mpass\u001b[0m\u001b[0;34m\u001b[0m\u001b[0;34m\u001b[0m\u001b[0m\n\u001b[1;32m      9\u001b[0m \u001b[0;34m\u001b[0m\u001b[0m\n\u001b[0;32m---> 10\u001b[0;31m \u001b[0;32mclass\u001b[0m \u001b[0mHybridElectricCar\u001b[0m\u001b[0;34m(\u001b[0m\u001b[0mHybridCar\u001b[0m\u001b[0;34m,\u001b[0m \u001b[0mElectricCar\u001b[0m\u001b[0;34m)\u001b[0m\u001b[0;34m:\u001b[0m\u001b[0;34m\u001b[0m\u001b[0;34m\u001b[0m\u001b[0m\n\u001b[0m\u001b[1;32m     11\u001b[0m     \u001b[0;32mpass\u001b[0m\u001b[0;34m\u001b[0m\u001b[0;34m\u001b[0m\u001b[0m\n\u001b[1;32m     12\u001b[0m \u001b[0;34m\u001b[0m\u001b[0m\n",
            "\u001b[0;31mTypeError\u001b[0m: Cannot create a consistent method resolution\norder (MRO) for bases HybridCar, ElectricCar"
          ]
        }
      ]
    },
    {
      "cell_type": "markdown",
      "source": [
        "# 연습문제\n",
        "\n",
        "게임에서 케릭터를 구현할 예정입니다. 아래 클래스를 적절하게 조합하여 hero 인스턴스와 villain 인스턴스를 만들어주세요.\n",
        "* 명시된 class외 다른 클래스를 더 추가할 수 있습니다.\n",
        "* 안에 들어가는 멤버나 메서드는 자유롭게 작성할 수 있습니다.\n",
        "\n",
        "1. class Body(능력치)\n",
        "2. class Weapon(무기)\n",
        "3. class WeaponEnhancement(무기강화)\n",
        "4. class Skill(기술)\n",
        "5. class Equipment(장비)\n",
        "6. class Role(히어로인지, 빌런인지, 몹인지)\n"
      ],
      "metadata": {
        "id": "XuL_61Ol9akc"
      }
    },
    {
      "cell_type": "code",
      "source": [
        "class Weapon:\n",
        "    def setDamage(self, damage):\n",
        "        self.damage = damage\n",
        "\n",
        "\n",
        "class WeaponEnhancement(Weapon):\n",
        "    def setEnhance(self, success):\n",
        "        if success == True:\n",
        "            self.damage *= 5\n",
        "        else:\n",
        "            self.damage = 0\n",
        "\n",
        "\n",
        "class Equipment(WeaponEnhancement):\n",
        "    pass\n",
        "\n",
        "\n",
        "class Role:\n",
        "    def setRole(self, role):\n",
        "        self.role = role\n",
        "\n",
        "\n",
        "class Skill:\n",
        "    def jarvis(self):\n",
        "        return '자비스! 도와줘!'\n",
        "\n",
        "    def beam(self):\n",
        "        return '나가라 빔!'\n",
        "\n",
        "\n",
        "class Body(Role, Skill, Equipment):\n",
        "    def __init__(self, role, hp, mp, power):\n",
        "        self.setRole(role)\n",
        "\n",
        "ironman = Body('hero', 100, 100, 100)\n",
        "thanos = Body('villain', 100, 100, 80)\n",
        "ironman.role\n",
        "ironman.jarvis()\n",
        "ironman.setDamage(1000)\n",
        "ironman.damage\n",
        "ironman.setEnhance(True)\n",
        "ironman.setEnhance(True)\n",
        "ironman.damage"
      ],
      "metadata": {
        "colab": {
          "base_uri": "https://localhost:8080/"
        },
        "id": "JYu6tACBDGaR",
        "outputId": "b342886e-8626-4d4e-e543-24a6c90fb64d"
      },
      "execution_count": null,
      "outputs": [
        {
          "output_type": "execute_result",
          "data": {
            "text/plain": [
              "25000"
            ]
          },
          "metadata": {},
          "execution_count": 46
        }
      ]
    },
    {
      "cell_type": "markdown",
      "source": [
        "```\n",
        "문제 1:\n",
        "동물 클래스 Animal을 만들고 어주세요. Dog와 Cat 클래스를 각각 정의하십시오.\n",
        "\n",
        "Animal 클래스는 name 속성을 가집니다. 이 클래스는 make_sound 메서드를 갖고 있습니다.\n",
        "\n",
        "Dog와 Cat 클래스는 Animal 클래스를 상속받는 클래스입니다.Dog 클래스의 make_sound 메서드는 \"멍멍!\"을, Cat 클래스의 make_sound 메서드는 \"야옹!\"을 출력하도록 재정의하세요.\n",
        "\n",
        "* 더 완성도 높은 클래스를 만들어보세요. 추가 속성이나 메서드 작성 가능합니다.\n",
        "\n",
        "문제 2:\n",
        "Person이라는 기본 클래스를 만들어주세요. Person 클래스는 `이름`과 `나이`라는 두 개의 속성과 `소개하기`라는 메서드를 가지며, 이 메서드는 \"Hello World!, 제 이름은 [이름]이고 제 나이는 [나이]살 입니다.\"라는 메시지를 출력합니다.\n",
        "\n",
        "Person 클래스를 상속받는 Student 클래스를 정의하십시오. Student 클래스는 추가적으로 `학년` 속성을 가집니다. Student 클래스에서 `소개하기` 메서드를 오버라이드하여 \"Hello World!, 제 이름은 [이름]이고 제 나이는 [나이]살 입니다. 그리고 저는 [학년]학년입니다. \"라는 메시지를 출력하도록 만드세요.\n",
        "```"
      ],
      "metadata": {
        "id": "pdNBSKzZKIgl"
      }
    },
    {
      "cell_type": "code",
      "source": [
        " # 1번\n",
        "class Animal:\n",
        "    def __init__(self, name):\n",
        "        self.name = name\n",
        "\n",
        "    def make_sound(self):\n",
        "        pass\n",
        "\n",
        "\n",
        "class Dog(Animal):\n",
        "    def make_sound(self):\n",
        "        return \"멍멍!\"\n",
        "\n",
        "\n",
        "class Cat(Animal):\n",
        "    def make_sound(self):\n",
        "        return \"야옹!\"\n",
        "\n",
        "# 2번\n",
        "class Person:\n",
        "    def __init__(self, name, age):\n",
        "        self.name = name\n",
        "        self.age = age\n",
        "\n",
        "    def introduce(self):\n",
        "        return f'안녕하세요! 제 이름은 {self.name}이고 제 나이는 {self.age}입니다'\n",
        "\n",
        "\n",
        "class Student(Person):\n",
        "    def __init__(self, name, age, grade):\n",
        "        super().__init__(name, age)\n",
        "        self.grade = grade\n",
        "\n",
        "    def introduce(self):\n",
        "        return f'안녕하세요! 제 이름은 {self.name}이고 제 나이는 {self.age}입니다. {self.grade}학년 입니다.'\n",
        "\n",
        "\n",
        "s = Student('jun', 10, 3)\n",
        "s.introduce()"
      ],
      "metadata": {
        "colab": {
          "base_uri": "https://localhost:8080/",
          "height": 35
        },
        "id": "VQPWmt7MAfv4",
        "outputId": "f5601c96-ac8e-4adb-8bf7-0caa720c7de6"
      },
      "execution_count": null,
      "outputs": [
        {
          "output_type": "execute_result",
          "data": {
            "text/plain": [
              "'안녕하세요! 제 이름은 jun이고 제 나이는 10입니다. 3학년 입니다.'"
            ],
            "application/vnd.google.colaboratory.intrinsic+json": {
              "type": "string"
            }
          },
          "metadata": {},
          "execution_count": 51
        }
      ]
    },
    {
      "cell_type": "markdown",
      "source": [
        "# 클래스 메서드와 정적 메서드"
      ],
      "metadata": {
        "id": "Wt3Bac2Fw0hr"
      }
    },
    {
      "cell_type": "code",
      "source": [
        "# 클래스 메서드\n",
        "class MyClass:\n",
        "    count = 0\n",
        "\n",
        "    @classmethod\n",
        "    def increment(cls):\n",
        "        cls.count += 1\n",
        "\n",
        "a = MyClass()\n",
        "b = MyClass()\n",
        "\n",
        "MyClass.increment()\n",
        "print(MyClass.count) # 출력: 1\n",
        "\n",
        "print(a.count, b.count)\n",
        "\n",
        "MyClass.increment()\n",
        "\n",
        "print(a.count, b.count)"
      ],
      "metadata": {
        "id": "kHEgQfRx9XlA",
        "colab": {
          "base_uri": "https://localhost:8080/"
        },
        "outputId": "36e77582-df43-4a36-a01f-b670deb8208e"
      },
      "execution_count": null,
      "outputs": [
        {
          "output_type": "stream",
          "name": "stdout",
          "text": [
            "1\n"
          ]
        },
        {
          "output_type": "execute_result",
          "data": {
            "text/plain": [
              "(2, 2)"
            ]
          },
          "metadata": {},
          "execution_count": 3
        }
      ]
    },
    {
      "cell_type": "code",
      "source": [
        "# 클래스 메서드\n",
        "class MyClass:\n",
        "    count = 0\n",
        "\n",
        "    def increment(self):\n",
        "        self.count += 1\n",
        "\n",
        "a = MyClass()\n",
        "b = MyClass()\n",
        "\n",
        "# MyClass.increment() # error\n",
        "a.increment()\n",
        "\n",
        "print(a.count, b.count)\n",
        "\n",
        "a.increment()\n",
        "\n",
        "print(a.count, b.count)"
      ],
      "metadata": {
        "colab": {
          "base_uri": "https://localhost:8080/"
        },
        "id": "_wy9nwfDyqqr",
        "outputId": "3338d610-824c-40d6-b284-e38f2f7b271f"
      },
      "execution_count": null,
      "outputs": [
        {
          "output_type": "stream",
          "name": "stdout",
          "text": [
            "1 0\n",
            "2 0\n"
          ]
        }
      ]
    },
    {
      "cell_type": "code",
      "source": [
        "class MyClass:\n",
        "    @staticmethod\n",
        "    def my_method(x, y):\n",
        "        return x + y\n",
        "\n",
        "print(MyClass.my_method(5, 3))  # 출력: 8"
      ],
      "metadata": {
        "id": "5_IyUcM40GbT"
      },
      "execution_count": null,
      "outputs": []
    },
    {
      "cell_type": "code",
      "source": [
        "class MyClass:\n",
        "    count = 10\n",
        "\n",
        "    @staticmethod\n",
        "    def my_method(x, y):\n",
        "        # print(count) # 읽는 것 조차 접근이 안됩니다.\n",
        "        return x + y + count\n",
        "\n",
        "print(MyClass.my_method(5, 3))  # 출력: 8"
      ],
      "metadata": {
        "id": "8I_Yxn1ezQDL"
      },
      "execution_count": null,
      "outputs": []
    },
    {
      "cell_type": "code",
      "source": [
        "class 학사정보시스템:\n",
        "    학점총점 = 120\n",
        "\n",
        "    def __init__(self):\n",
        "        self.학기점수 = []\n",
        "\n",
        "    def 학점추가(self, 이번학기점수):\n",
        "        self.학기점수.append(이번학기점수)\n",
        "\n",
        "    def 학점평균(self):\n",
        "        return sum(self.학기점수)/len(self.학기점수)\n",
        "\n",
        "    def 졸업장출력(self):\n",
        "        return f'총학점 {self.학점총점}학점, {self.학점평균()}으로 졸업하셨습니다.'\n",
        "\n",
        "피카츄 = 학사정보시스템()\n",
        "꼬부기 = 학사정보시스템()\n",
        "\n",
        "# 8학기\n",
        "피카츄.학점추가(3.2)\n",
        "피카츄.학점추가(3.5)\n",
        "피카츄.학점추가(3.0)\n",
        "피카츄.학점추가(3.2)\n",
        "피카츄.학점추가(3.0)\n",
        "피카츄.학점추가(3.3)\n",
        "피카츄.학점추가(3.1)\n",
        "피카츄.학점추가(2.8)\n",
        "\n",
        "피카츄.학점평균()\n",
        "피카츄.졸업장출력()"
      ],
      "metadata": {
        "colab": {
          "base_uri": "https://localhost:8080/",
          "height": 35
        },
        "id": "LQloWHUUztun",
        "outputId": "8f9dadf5-0314-459c-9c5e-08d10bb1e59f"
      },
      "execution_count": null,
      "outputs": [
        {
          "output_type": "execute_result",
          "data": {
            "text/plain": [
              "'총학점 120학점, 3.125으로 졸업하셨습니다.'"
            ],
            "application/vnd.google.colaboratory.intrinsic+json": {
              "type": "string"
            }
          },
          "metadata": {},
          "execution_count": 12
        }
      ]
    },
    {
      "cell_type": "code",
      "source": [
        "# 스토리 : 중간에 총학점이 120학점에서 60학점으로 바뀌어서 조기졸업을 할 수 있게 되었습니다!\n",
        "class 학사정보시스템:\n",
        "    학점총점 = 120\n",
        "\n",
        "    def __init__(self):\n",
        "        self.학기점수 = []\n",
        "\n",
        "    def 학점추가(self, 이번학기점수):\n",
        "        self.학기점수.append(이번학기점수)\n",
        "\n",
        "    def 학점평균(self):\n",
        "        return sum(self.학기점수)/len(self.학기점수)\n",
        "\n",
        "    def 졸업장출력(self):\n",
        "        return f'총학점 {self.학점총점}학점, {self.학점평균()}으로 졸업하셨습니다.'\n",
        "\n",
        "피카츄 = 학사정보시스템()\n",
        "꼬부기 = 학사정보시스템()\n",
        "\n",
        "피카츄.학점추가(3.2)\n",
        "피카츄.학점추가(3.5)\n",
        "# 총학점 변경\n",
        "피카츄.학점총점 = 60 # 이렇게 해버리면 꼬부기는요?\n",
        "피카츄.학점추가(3.0)\n",
        "피카츄.학점추가(2.8)\n",
        "\n",
        "피카츄.학점평균()\n",
        "피카츄.졸업장출력()"
      ],
      "metadata": {
        "colab": {
          "base_uri": "https://localhost:8080/",
          "height": 35
        },
        "id": "6uy6lCCk2juR",
        "outputId": "5ca1d004-f514-4b96-ec99-58df6f7661fc"
      },
      "execution_count": null,
      "outputs": [
        {
          "output_type": "execute_result",
          "data": {
            "text/plain": [
              "'총학점 60학점, 3.125으로 졸업하셨습니다.'"
            ],
            "application/vnd.google.colaboratory.intrinsic+json": {
              "type": "string"
            }
          },
          "metadata": {},
          "execution_count": 13
        }
      ]
    },
    {
      "cell_type": "code",
      "source": [
        "# 꼬부기의 졸업장은 변하지 않았습니다!\n",
        "꼬부기.학점추가(3.2)\n",
        "꼬부기.학점추가(3.5)\n",
        "꼬부기.학점추가(3.0)\n",
        "꼬부기.학점추가(2.8)\n",
        "\n",
        "꼬부기.졸업장출력()"
      ],
      "metadata": {
        "colab": {
          "base_uri": "https://localhost:8080/",
          "height": 35
        },
        "id": "BwwNCsJd2_8-",
        "outputId": "011f5644-901e-4a1c-bb96-7be3cbcfce71"
      },
      "execution_count": null,
      "outputs": [
        {
          "output_type": "execute_result",
          "data": {
            "text/plain": [
              "'총학점 120학점, 3.125으로 졸업하셨습니다.'"
            ],
            "application/vnd.google.colaboratory.intrinsic+json": {
              "type": "string"
            }
          },
          "metadata": {},
          "execution_count": 14
        }
      ]
    },
    {
      "cell_type": "code",
      "source": [
        "# 스토리 : 중간에 총학점이 120학점에서 60학점으로 바뀌어서 조기졸업을 할 수 있게 되었습니다!\n",
        "class 학사정보시스템:\n",
        "    학점총점 = 120\n",
        "\n",
        "    def __init__(self):\n",
        "        self.학기점수 = []\n",
        "\n",
        "    def 학점추가(self, 이번학기점수):\n",
        "        self.학기점수.append(이번학기점수)\n",
        "\n",
        "    def 학점평균(self):\n",
        "        return sum(self.학기점수)/len(self.학기점수)\n",
        "\n",
        "    def 졸업장출력(self):\n",
        "        return f'총학점 {self.학점총점}학점, {self.학점평균()}으로 졸업하셨습니다.'\n",
        "\n",
        "피카츄 = 학사정보시스템()\n",
        "꼬부기 = 학사정보시스템()\n",
        "\n",
        "피카츄.학점추가(3.2)\n",
        "피카츄.학점추가(3.5)\n",
        "학사정보시스템.학점총점 = 60 # 이 코드가 변경이 된 것입니다. 이 방법을 저는 많이 사용하는데요.\n",
        "# 저는 이 코드의 위험성을 알고 있습니다. 제가 실수하지 않을 것을 알고 있기 때문에 이코드를 사용합니다.\n",
        "# 협업을 하거나 안정성을 더 확보하고 싶다면 클래스 메서드로 수정을 해주세요.\n",
        "피카츄.학점추가(3.0)\n",
        "피카츄.학점추가(2.8)\n",
        "\n",
        "피카츄.학점평균()\n",
        "print(피카츄.졸업장출력())\n",
        "\n",
        "꼬부기.학점추가(3.0)\n",
        "print(꼬부기.졸업장출력()) # 둘 다 변한 것을 확인할 수 있습니다."
      ],
      "metadata": {
        "colab": {
          "base_uri": "https://localhost:8080/"
        },
        "id": "7iTXR6Lf3Q3K",
        "outputId": "02a168b9-2f75-4555-d851-1f339861e677"
      },
      "execution_count": null,
      "outputs": [
        {
          "output_type": "stream",
          "name": "stdout",
          "text": [
            "총학점 60학점, 3.125으로 졸업하셨습니다.\n",
            "총학점 60학점, 3.0으로 졸업하셨습니다.\n"
          ]
        }
      ]
    },
    {
      "cell_type": "code",
      "source": [
        "# 스토리 : 중간에 총학점이 120학점에서 60학점으로 바뀌어서 조기졸업을 할 수 있게 되었습니다!\n",
        "class 학사정보시스템:\n",
        "    학점총점 = 120\n",
        "\n",
        "    def __init__(self):\n",
        "        self.학기점수 = []\n",
        "\n",
        "    def 학점추가(self, 이번학기점수):\n",
        "        self.학기점수.append(이번학기점수)\n",
        "\n",
        "    def 학점평균(self):\n",
        "        return sum(self.학기점수)/len(self.학기점수)\n",
        "\n",
        "    def 졸업장출력(self):\n",
        "        return f'총학점 {self.학점총점}학점, {self.학점평균()}으로 졸업하셨습니다.'\n",
        "\n",
        "피카츄 = 학사정보시스템()\n",
        "꼬부기 = 학사정보시스템()\n",
        "\n",
        "피카츄.학점추가(3.2)\n",
        "피카츄.학점추가(3.5)\n",
        "학사정보시스템.학점총점 = '60' # 위험한 상황, 숫자가 들어가야 하는데 문자가 들어갔습니다.\n",
        "# 만약에 학점총점으로 들어가는 산술 연산되는 메서드가 있었다면 이제 그 메서드는 오류를 냅니다.\n",
        "피카츄.학점추가(3.0)\n",
        "피카츄.학점추가(2.8)\n",
        "\n",
        "피카츄.학점평균()\n",
        "print(피카츄.졸업장출력())\n",
        "\n",
        "꼬부기.학점추가(3.0)\n",
        "print(꼬부기.졸업장출력()) # 둘 다 변한 것을 확인할 수 있습니다."
      ],
      "metadata": {
        "colab": {
          "base_uri": "https://localhost:8080/"
        },
        "id": "ivNod-Y_4DbF",
        "outputId": "afbcd0bb-6e9f-446f-c4fc-325dbff69d0f"
      },
      "execution_count": null,
      "outputs": [
        {
          "output_type": "stream",
          "name": "stdout",
          "text": [
            "총학점 60학점, 3.125으로 졸업하셨습니다.\n",
            "총학점 60학점, 3.0으로 졸업하셨습니다.\n"
          ]
        }
      ]
    },
    {
      "cell_type": "code",
      "source": [
        "# 스토리 : 중간에 총학점이 120학점에서 60학점으로 바뀌어서 조기졸업을 할 수 있게 되었습니다!\n",
        "class 학사정보시스템:\n",
        "    학점총점 = 120\n",
        "\n",
        "    def __init__(self):\n",
        "        self.학기점수 = []\n",
        "\n",
        "    def 학점추가(self, 이번학기점수):\n",
        "        self.학기점수.append(이번학기점수)\n",
        "\n",
        "    def 학점평균(self):\n",
        "        return sum(self.학기점수)/len(self.학기점수)\n",
        "\n",
        "    def 졸업장출력(self):\n",
        "        return f'총학점 {self.학점총점}학점, {self.학점평균()}으로 졸업하셨습니다.'\n",
        "\n",
        "    @classmethod\n",
        "    def 학점총점변경(cls, 총점):\n",
        "        if isinstance(총점, int):\n",
        "            cls.학점총점 = 총점\n",
        "            return '변경됨'\n",
        "        return '변경안됨'\n",
        "\n",
        "피카츄 = 학사정보시스템()\n",
        "꼬부기 = 학사정보시스템()\n",
        "\n",
        "피카츄.학점추가(3.2)\n",
        "피카츄.학점추가(3.5)\n",
        "학사정보시스템.학점총점변경(60)\n",
        "학사정보시스템.학점총점변경(120.5) # 무시\n",
        "학사정보시스템.학점총점변경('60') # 무시\n",
        "피카츄.학점추가(3.0)\n",
        "피카츄.학점추가(2.8)\n",
        "\n",
        "피카츄.학점평균()\n",
        "print(피카츄.졸업장출력())\n",
        "\n",
        "꼬부기.학점추가(3.0)\n",
        "print(꼬부기.졸업장출력()) # 둘 다 변한 것을 확인할 수 있습니다."
      ],
      "metadata": {
        "colab": {
          "base_uri": "https://localhost:8080/"
        },
        "id": "rEik5s0b4zIZ",
        "outputId": "5eb61362-832c-4676-868e-8ffca77bbd70"
      },
      "execution_count": null,
      "outputs": [
        {
          "output_type": "stream",
          "name": "stdout",
          "text": [
            "총학점 60학점, 3.125으로 졸업하셨습니다.\n",
            "총학점 60학점, 3.0으로 졸업하셨습니다.\n"
          ]
        }
      ]
    },
    {
      "cell_type": "code",
      "source": [
        "class 학사정보시스템:\n",
        "    학점총점 = 120\n",
        "\n",
        "    def __init__(self):\n",
        "        self.학기점수 = []\n",
        "\n",
        "    def 학점추가(self, 이번학기점수):\n",
        "        self.학기점수.append(이번학기점수)\n",
        "\n",
        "    def 학점평균(self):\n",
        "        return sum(self.학기점수)/len(self.학기점수)\n",
        "\n",
        "    def 졸업장출력(self):\n",
        "        return f'총학점 {self.학점총점}학점, {self.학점평균()}으로 졸업하셨습니다.'\n",
        "\n",
        "    @staticmethod\n",
        "    def 학사경고(이번학기점수):\n",
        "        '''\n",
        "        내부에서 클래스 변수, 인스턴스 변수 수정하는 것이 가능하지 않습니다.\n",
        "\t\t'''\n",
        "        if 이번학기점수 - 1.5 > 0:\n",
        "            return '학사경고 아님!'\n",
        "        return '학사경고임!'\n",
        "\n",
        "    @classmethod\n",
        "    def 학점총점변경(cls, 총점):\n",
        "        if isinstance(총점, int):\n",
        "            cls.학점총점 = 총점\n",
        "            return '변경됨'\n",
        "        return '변경안됨'\n",
        "\n",
        "학사정보시스템.학사경고(1.4)\n",
        "학사정보시스템.학사경고(1.6)"
      ],
      "metadata": {
        "colab": {
          "base_uri": "https://localhost:8080/",
          "height": 35
        },
        "id": "Y1tngpyk6BK5",
        "outputId": "cb4bd4cc-65d6-4cb9-f8f3-ef38b5e40582"
      },
      "execution_count": null,
      "outputs": [
        {
          "output_type": "execute_result",
          "data": {
            "text/plain": [
              "'학사경고 아님!'"
            ],
            "application/vnd.google.colaboratory.intrinsic+json": {
              "type": "string"
            }
          },
          "metadata": {},
          "execution_count": 25
        }
      ]
    },
    {
      "cell_type": "markdown",
      "source": [
        "# 속성 접근자와 덕타이핑"
      ],
      "metadata": {
        "id": "0TDvUb-F9imz"
      }
    },
    {
      "cell_type": "code",
      "source": [
        "class Person:\n",
        "    def __init__(self, first_name, last_name):\n",
        "        self._first_name = first_name\n",
        "        self._last_name = last_name\n",
        "\n",
        "    @property\n",
        "    def full_name(self):\n",
        "        return f'{self._first_name}{self._last_name}'\n",
        "\n",
        "licat = Person('li', 'cat')\n",
        "print(licat._first_name)\n",
        "print(licat._last_name)\n",
        "print(licat.full_name)\n",
        "# print(licat.full_name())"
      ],
      "metadata": {
        "colab": {
          "base_uri": "https://localhost:8080/"
        },
        "id": "Svd_IH_b9lCY",
        "outputId": "7690c7bc-2cef-4aa8-f28e-3a5768ed9079"
      },
      "execution_count": null,
      "outputs": [
        {
          "output_type": "stream",
          "name": "stdout",
          "text": [
            "li\n",
            "cat\n",
            "licat\n"
          ]
        }
      ]
    },
    {
      "cell_type": "code",
      "source": [
        "class Person:\n",
        "    def __init__(self, first_name, last_name):\n",
        "        self._first_name = first_name\n",
        "        self._last_name = last_name\n",
        "\n",
        "    @property\n",
        "    def full_name(self):\n",
        "        return f'{self._first_name}{self._last_name}'\n",
        "\n",
        "licat = Person('li', 'cat')\n",
        "mura = Person('mu', 'ra')\n",
        "print(licat._first_name)\n",
        "print(licat._last_name)\n",
        "print(licat.full_name) # 클래스 변수였다면 둘 다 같은 값을 출력했었어야 합니다.\n",
        "print(mura.full_name) # 클래스 변수였다면 둘 다 같은 값을 출력했었어야 합니다."
      ],
      "metadata": {
        "colab": {
          "base_uri": "https://localhost:8080/"
        },
        "id": "j75x0sl9-B95",
        "outputId": "784a8540-77a5-4924-e9e0-f68f6a75a32b"
      },
      "execution_count": null,
      "outputs": [
        {
          "output_type": "stream",
          "name": "stdout",
          "text": [
            "li\n",
            "cat\n",
            "licat\n",
            "mura\n"
          ]
        }
      ]
    },
    {
      "cell_type": "code",
      "source": [
        "class Person:\n",
        "    def __init__(self, first_name, last_name):\n",
        "        self._first_name = first_name\n",
        "        self._last_name = last_name\n",
        "\n",
        "    @property\n",
        "    def full_name(self):\n",
        "        return f'{self._first_name}{self._last_name}'\n",
        "\n",
        "    def namemul(self):\n",
        "        return self.full_name * 2 # 클래스 내부에서도 self.full_name, 인스턴스 변수처럼 취급됩니다.\n",
        "\n",
        "licat = Person('li', 'cat')\n",
        "mura = Person('mu', 'ra')\n",
        "print(licat._first_name)\n",
        "print(licat._last_name)\n",
        "print(licat.full_name) # 클래스 변수였다면 둘 다 같은 값을 출력했었어야 합니다.\n",
        "print(mura.full_name) # 클래스 변수였다면 둘 다 같은 값을 출력했었어야 합니다.\n",
        "print(mura.namemul())"
      ],
      "metadata": {
        "colab": {
          "base_uri": "https://localhost:8080/"
        },
        "id": "XM5HFpBF-M2s",
        "outputId": "b6c7d9f5-e66c-466f-faf8-e1add73ae062"
      },
      "execution_count": null,
      "outputs": [
        {
          "output_type": "stream",
          "name": "stdout",
          "text": [
            "li\n",
            "cat\n",
            "licat\n",
            "mura\n",
            "muramura\n"
          ]
        }
      ]
    },
    {
      "cell_type": "code",
      "source": [
        "class Duck:\n",
        "    def introduce(self):\n",
        "        print('꽥꽥!')\n",
        "\n",
        "class Person:\n",
        "    def introduce(self):\n",
        "        print(\"안녕하세요!\")\n",
        "\n",
        "def introduce(obj):\n",
        "    print('인사시작')\n",
        "    obj.introduce()\n",
        "    print('인사끝')\n",
        "\n",
        "duck = Duck()\n",
        "person = Person()\n",
        "\n",
        "introduce(duck)  # 출력: 꽥꽥!\n",
        "introduce(person)  # 출력: 안녕하세요!\n",
        "\n",
        "# 장점1. 코드의 가독성이 좋아집니다. duck.introduce() 이렇게 사용하지 않고 intoduce(duck)로 사용하게 되면\n",
        "# dock에 object 안을 들여다보지 않고, 어느정도 기능을 유추할 수 있게 됩니다.\n",
        "# 장점2. 여러가지 obj를 하나의 함수에서 실행하며 커스터마이징도 가능합니다."
      ],
      "metadata": {
        "colab": {
          "base_uri": "https://localhost:8080/"
        },
        "id": "mJIkvPaQ_ENZ",
        "outputId": "50693f81-f56a-454b-d521-feca30640e78"
      },
      "execution_count": null,
      "outputs": [
        {
          "output_type": "stream",
          "name": "stdout",
          "text": [
            "인사시작\n",
            "꽥꽥!\n",
            "인사끝\n",
            "인사시작\n",
            "안녕하세요!\n",
            "인사끝\n"
          ]
        }
      ]
    },
    {
      "cell_type": "code",
      "source": [
        "class Hero:\n",
        "    def move(self):\n",
        "        print('h 움직임')\n",
        "\n",
        "class Villain:\n",
        "    def move(self):\n",
        "        print('v 움직임')\n",
        "\n",
        "class Mob:\n",
        "    def move(self):\n",
        "        print('m 움직임')\n",
        "\n",
        "def move(obj):\n",
        "    obj.move()\n",
        "\n",
        "a = Hero()\n",
        "b = Villain()\n",
        "c = Mob()\n",
        "\n",
        "등장인물 = [a, b, c]\n",
        "\n",
        "for person in 등장인물:\n",
        "    move(person) # 강요도 아니고 권고도 아니고, 취향에 따라 선택하시면 됩니다.\n",
        "    person.move() # 나는 이렇게 사용해야겠다 하시면 사용하시면 됩니다."
      ],
      "metadata": {
        "colab": {
          "base_uri": "https://localhost:8080/"
        },
        "id": "iqKvjbPlBRmK",
        "outputId": "98c93c06-406c-49f5-8be9-468df2ae830d"
      },
      "execution_count": null,
      "outputs": [
        {
          "output_type": "stream",
          "name": "stdout",
          "text": [
            "h 움직임\n",
            "h 움직임\n",
            "v 움직임\n",
            "v 움직임\n",
            "m 움직임\n",
            "m 움직임\n"
          ]
        }
      ]
    },
    {
      "cell_type": "code",
      "source": [
        "class Hero:\n",
        "    def move(self):\n",
        "        pass\n",
        "\n",
        "class Villain:\n",
        "    def move(self):\n",
        "        pass\n",
        "\n",
        "class Mob:\n",
        "    def move(self):\n",
        "        pass\n",
        "\n",
        "def move(obj):\n",
        "    obj.move()\n",
        "\n",
        "a = Hero()\n",
        "b = Villain()\n",
        "c = Mob\n",
        "\n",
        "introduce(duck)  # 출력: 꽥꽥!\n",
        "introduce(person)  # 출력: 안녕하세요!"
      ],
      "metadata": {
        "id": "MdTIm1lPAfk-"
      },
      "execution_count": null,
      "outputs": []
    },
    {
      "cell_type": "markdown",
      "source": [
        "# 추상 클래스"
      ],
      "metadata": {
        "id": "FTO8qiIDDocC"
      }
    },
    {
      "cell_type": "code",
      "source": [
        "from abc import ABC, abstractmethod\n",
        "\n",
        "class Person:\n",
        "    def move(self):\n",
        "        pass\n",
        "\n",
        "\n",
        "class Hero(Person):\n",
        "    pass\n",
        "\n",
        "\n",
        "ironman = Hero()\n",
        "ironman.move()"
      ],
      "metadata": {
        "id": "Ki4Xv-MfDpxS"
      },
      "execution_count": null,
      "outputs": []
    },
    {
      "cell_type": "code",
      "source": [
        "from abc import ABC, abstractmethod\n",
        "\n",
        "class Person(ABC): # ABC를 상속받고\n",
        "\n",
        "    @abstractmethod # abstractmethod라고 선언을 하면\n",
        "    def move(self):\n",
        "        pass\n",
        "\n",
        "\n",
        "class Hero(Person): # 상속받은 자식에서 반드시 메서드 오버라이딩이 일어나야 합니다.\n",
        "    pass\n",
        "\n",
        "ironman = Hero()\n",
        "ironman.move()"
      ],
      "metadata": {
        "colab": {
          "base_uri": "https://localhost:8080/",
          "height": 234
        },
        "id": "okN5bL_GEU9v",
        "outputId": "d4ce3bb5-9a21-4b41-83c4-a1f2976ebb08"
      },
      "execution_count": null,
      "outputs": [
        {
          "output_type": "error",
          "ename": "TypeError",
          "evalue": "ignored",
          "traceback": [
            "\u001b[0;31m---------------------------------------------------------------------------\u001b[0m",
            "\u001b[0;31mTypeError\u001b[0m                                 Traceback (most recent call last)",
            "\u001b[0;32m<ipython-input-39-b94f54c8f9e1>\u001b[0m in \u001b[0;36m<cell line: 13>\u001b[0;34m()\u001b[0m\n\u001b[1;32m     11\u001b[0m     \u001b[0;32mpass\u001b[0m\u001b[0;34m\u001b[0m\u001b[0;34m\u001b[0m\u001b[0m\n\u001b[1;32m     12\u001b[0m \u001b[0;34m\u001b[0m\u001b[0m\n\u001b[0;32m---> 13\u001b[0;31m \u001b[0mironman\u001b[0m \u001b[0;34m=\u001b[0m \u001b[0mHero\u001b[0m\u001b[0;34m(\u001b[0m\u001b[0;34m)\u001b[0m\u001b[0;34m\u001b[0m\u001b[0;34m\u001b[0m\u001b[0m\n\u001b[0m\u001b[1;32m     14\u001b[0m \u001b[0mironman\u001b[0m\u001b[0;34m.\u001b[0m\u001b[0m숨쉬기\u001b[0m\u001b[0;34m(\u001b[0m\u001b[0;34m)\u001b[0m\u001b[0;34m\u001b[0m\u001b[0;34m\u001b[0m\u001b[0m\n",
            "\u001b[0;31mTypeError\u001b[0m: Can't instantiate abstract class Hero with abstract method move"
          ]
        }
      ]
    },
    {
      "cell_type": "code",
      "source": [
        "from abc import ABC, abstractmethod\n",
        "\n",
        "class Person(ABC): # ABC를 상속받고\n",
        "\n",
        "    @abstractmethod # abstractmethod라고 선언을 하면\n",
        "    def move(self):\n",
        "        pass\n",
        "\n",
        "\n",
        "class Hero(Person): # 상속받은 자식에서 반드시 메서드 오버라이딩이 일어나야 합니다.\n",
        "    def move(self):\n",
        "        print('날아다님!')\n",
        "\n",
        "ironman = Hero()\n",
        "ironman.move()"
      ],
      "metadata": {
        "colab": {
          "base_uri": "https://localhost:8080/"
        },
        "id": "uyKcDeZZFMIg",
        "outputId": "cbd4557c-a1d3-4cc4-d8b1-438b9c40bedc"
      },
      "execution_count": null,
      "outputs": [
        {
          "output_type": "stream",
          "name": "stdout",
          "text": [
            "날아다님!\n"
          ]
        }
      ]
    },
    {
      "cell_type": "markdown",
      "source": [
        "# 비공개 속성"
      ],
      "metadata": {
        "id": "KzhBEP82Hokq"
      }
    },
    {
      "cell_type": "code",
      "source": [
        "# 비공개 속성이 조작 불가능한게 아닙니다!\n",
        "class MyClass:\n",
        "    __a = 10\n",
        "    _a = 100\n",
        "    b = 20\n",
        "\n",
        "    def __init__(self, c, d):\n",
        "        self.__c = c\n",
        "        self.d = d\n",
        "\n",
        "# MyClass.__a\n",
        "test = MyClass(30, 40)\n",
        "# test.__a # 오!? 접근이 가능하지 않네 => 오해입니다.\n",
        "print(test._MyClass__a)\n",
        "print(test._MyClass__c)"
      ],
      "metadata": {
        "colab": {
          "base_uri": "https://localhost:8080/"
        },
        "id": "i-dmLJsYGSur",
        "outputId": "d6ac6d04-23af-487a-9435-d78b947f85ff"
      },
      "execution_count": null,
      "outputs": [
        {
          "output_type": "stream",
          "name": "stdout",
          "text": [
            "10\n",
            "30\n"
          ]
        }
      ]
    },
    {
      "cell_type": "code",
      "source": [
        "# 비공개 속성이 조작 불가능한게 아닙니다!\n",
        "class MyClass:\n",
        "    __a = 10\n",
        "    _a = 100\n",
        "    b = 20\n",
        "\n",
        "    def __init__(self, c, d):\n",
        "        self.__c = c\n",
        "        self.d = d\n",
        "\n",
        "# MyClass.__a\n",
        "test = MyClass(30, 40)\n",
        "# test.__a # 오!? 접근이 가능하지 않네 => 오해입니다.\n",
        "test._a\n",
        "test._MyClass__a = 9000\n",
        "test._MyClass__c = 90000\n",
        "\n",
        "print(test._MyClass__a)\n",
        "print(test._MyClass__c)"
      ],
      "metadata": {
        "colab": {
          "base_uri": "https://localhost:8080/"
        },
        "id": "0_IX7pwkIAgf",
        "outputId": "c46c6409-c050-4d52-92b5-2ef0d03cbef1"
      },
      "execution_count": null,
      "outputs": [
        {
          "output_type": "stream",
          "name": "stdout",
          "text": [
            "9000\n",
            "90000\n"
          ]
        }
      ]
    },
    {
      "cell_type": "markdown",
      "source": [
        "# 모듈\n",
        "\n",
        "* jun.py파일 작성 후 아래와 같이 입력해주세요.\n",
        "\n",
        "    ```python\n",
        "    name = 'leehojun'\n",
        "    age = 10\n",
        "    def hello():\n",
        "        return 'hello world'\n",
        "    ```"
      ],
      "metadata": {
        "id": "lcPfoVSpLj3H"
      }
    },
    {
      "cell_type": "code",
      "source": [
        "import jun # 여기서 jun이 모듈입니다!\n",
        "\n",
        "jun.name # 변수를 호출할 수도 있고\n",
        "jun.hello() # 함수를 호출할 수도 있습니다."
      ],
      "metadata": {
        "colab": {
          "base_uri": "https://localhost:8080/",
          "height": 35
        },
        "id": "HPLSRmZKLlRV",
        "outputId": "0121aef7-36bb-4723-fb91-d1c04fbc575b"
      },
      "execution_count": null,
      "outputs": [
        {
          "output_type": "execute_result",
          "data": {
            "text/plain": [
              "'hello world'"
            ],
            "application/vnd.google.colaboratory.intrinsic+json": {
              "type": "string"
            }
          },
          "metadata": {},
          "execution_count": 50
        }
      ]
    },
    {
      "cell_type": "code",
      "source": [
        "from jun import name, age # 이것도 많이 사용합니다.\n",
        "from juni import name, age\n",
        "\n",
        "# 그러나 저는 이 문법을 좋아하지 않습니다.\n",
        "# 그러나 이 문법은 정말 많이사용되는 문법입니다!\n",
        "\n",
        "print(name) # 여기에 이름은 누구인가요? juni!\n",
        "print(age) # 여기에 나이는 누구이죠? juni!"
      ],
      "metadata": {
        "colab": {
          "base_uri": "https://localhost:8080/"
        },
        "id": "URBc3AarNAIH",
        "outputId": "9160df06-72e6-407e-df66-e5deaa1e33e8"
      },
      "execution_count": null,
      "outputs": [
        {
          "output_type": "stream",
          "name": "stdout",
          "text": [
            "juni\n",
            "20\n"
          ]
        }
      ]
    },
    {
      "cell_type": "code",
      "source": [
        "from jun import name as n # 이렇게도 사용 가능하고\n",
        "\n",
        "print(n)"
      ],
      "metadata": {
        "colab": {
          "base_uri": "https://localhost:8080/"
        },
        "id": "1xKFicVZNvw0",
        "outputId": "6caf6b26-31c1-455a-86cd-3213d8c8cd16"
      },
      "execution_count": null,
      "outputs": [
        {
          "output_type": "stream",
          "name": "stdout",
          "text": [
            "leehojun\n"
          ]
        }
      ]
    },
    {
      "cell_type": "code",
      "source": [
        "import jun as j # 이렇게도 사용 가능합니다.\n",
        "\n",
        "j.name"
      ],
      "metadata": {
        "colab": {
          "base_uri": "https://localhost:8080/",
          "height": 35
        },
        "id": "cICubM7fOBgU",
        "outputId": "27323445-6203-4dcc-a052-c9aa234727fe"
      },
      "execution_count": null,
      "outputs": [
        {
          "output_type": "execute_result",
          "data": {
            "text/plain": [
              "'leehojun'"
            ],
            "application/vnd.google.colaboratory.intrinsic+json": {
              "type": "string"
            }
          },
          "metadata": {},
          "execution_count": 54
        }
      ]
    },
    {
      "cell_type": "code",
      "source": [
        "import pandas as pd # 데이터 분석 모듈\n",
        "import numpy as np # 수학 관련 모듈"
      ],
      "metadata": {
        "id": "v4e-0iWDOKRn"
      },
      "execution_count": null,
      "outputs": []
    },
    {
      "cell_type": "markdown",
      "source": [
        "![image.png](data:image/png;base64,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)"
      ],
      "metadata": {
        "id": "WgIA9gUgOyzk"
      }
    },
    {
      "cell_type": "code",
      "source": [
        "import a # 폴더가 있기 때문에 애러가 안난겁니다!\n",
        "\n",
        "print(a)\n",
        "print(a.b.c) # 이렇게 접근할 수는 없습니다!"
      ],
      "metadata": {
        "id": "tNkzgojfOiQL"
      },
      "execution_count": null,
      "outputs": []
    },
    {
      "cell_type": "code",
      "source": [
        "import a.b.c.licat\n",
        "\n",
        "# print(licat)\n",
        "print(a.b.c.licat)\n",
        "print(a.b.c.licat.name)\n",
        "print(a.b.c.licat.age)"
      ],
      "metadata": {
        "colab": {
          "base_uri": "https://localhost:8080/"
        },
        "id": "-lG_zaU-P6fC",
        "outputId": "879e001f-271c-4d15-ee5e-fa6edc2d6f90"
      },
      "execution_count": null,
      "outputs": [
        {
          "output_type": "stream",
          "name": "stdout",
          "text": [
            "<module 'a.b.c.licat' from '/content/a/b/c/licat.py'>\n",
            "licat\n",
            "3\n"
          ]
        }
      ]
    },
    {
      "cell_type": "code",
      "source": [
        "import a.b.c.licat as cat\n",
        "\n",
        "print(cat)\n",
        "print(cat.name)\n",
        "print(cat.age)"
      ],
      "metadata": {
        "colab": {
          "base_uri": "https://localhost:8080/"
        },
        "id": "UN_MQezSPsDb",
        "outputId": "86abb455-f18f-4695-9111-15f08ff6e37a"
      },
      "execution_count": null,
      "outputs": [
        {
          "output_type": "stream",
          "name": "stdout",
          "text": [
            "<module 'a.b.c.licat' from '/content/a/b/c/licat.py'>\n",
            "licat\n",
            "3\n"
          ]
        }
      ]
    },
    {
      "cell_type": "code",
      "source": [
        "# 일반적으로 아래와 같이 사용합니다.\n",
        "# from은 폴더 import는 모듈\n",
        "from a.b.c import licat\n",
        "\n",
        "print(licat)\n",
        "print(licat.name)\n",
        "print(licat.age)"
      ],
      "metadata": {
        "colab": {
          "base_uri": "https://localhost:8080/"
        },
        "id": "LM_i_n-OQZIL",
        "outputId": "4f1ab83e-5b2f-487b-c19d-a2e37e7c074f"
      },
      "execution_count": null,
      "outputs": [
        {
          "output_type": "stream",
          "name": "stdout",
          "text": [
            "<module 'a.b.c.licat' from '/content/a/b/c/licat.py'>\n"
          ]
        }
      ]
    },
    {
      "cell_type": "code",
      "source": [
        "!mkdir leehojun"
      ],
      "metadata": {
        "id": "OXNDBu7iSuLF"
      },
      "execution_count": null,
      "outputs": []
    },
    {
      "cell_type": "code",
      "source": [
        "!pip list # colab이 정말 많은 모듈이 설치되어 있습니다. 그래서 정말 좋습니다."
      ],
      "metadata": {
        "id": "8VJRdMobSa4k"
      },
      "execution_count": null,
      "outputs": []
    },
    {
      "cell_type": "markdown",
      "source": [
        "# 연습문제"
      ],
      "metadata": {
        "id": "ATt7FbBXUiiq"
      }
    },
    {
      "cell_type": "code",
      "source": [
        "# 아래와 같은 기능을 하는 모듈 또는 패키지를 만들어주세요.\n",
        "# 파일 또는 폴더로 만드셔야 합니다!\n",
        "# add(a, b), sub(a, b), mul(a, b), div(a, b)\n",
        "# _and(a, b), _or(a, b) # 다 하신 분 중 시간이 조금 남으신 분은 요것도 해보세요. :)"
      ],
      "metadata": {
        "id": "i6mR2l44U4Fz"
      },
      "execution_count": null,
      "outputs": []
    },
    {
      "cell_type": "markdown",
      "source": [
        "![image.png](data:image/png;base64,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)"
      ],
      "metadata": {
        "id": "Ac2naCInpt0f"
      }
    },
    {
      "cell_type": "code",
      "source": [
        "# 구분해서 저장하는 것이 왜 중요하냐면\n",
        "# 유지보수 좀 더 편리하게 할 수 있습니다.\n",
        "# operation > arithmetic_operation.py\n",
        "def add(a, b):\n",
        "    return a + b\n",
        "\n",
        "def sub(a, b):\n",
        "    return a - b\n",
        "\n",
        "def mul(a, b):\n",
        "    return a * b\n",
        "\n",
        "def div(a, b):\n",
        "    return a / b\n",
        "\n",
        "# operation > logical_operation.py\n",
        "def _and(a, b):\n",
        "    return a and b\n",
        "\n",
        "def _or(a, b):\n",
        "    return a or b"
      ],
      "metadata": {
        "id": "Ee6xP9xypY2v"
      },
      "execution_count": null,
      "outputs": []
    },
    {
      "cell_type": "code",
      "source": [
        "from operation import arithmetic_operation as ao, logical_operation as lo"
      ],
      "metadata": {
        "id": "_orI6nOtqu2s"
      },
      "execution_count": null,
      "outputs": []
    },
    {
      "cell_type": "code",
      "source": [
        "ao.add(3, 4)"
      ],
      "metadata": {
        "colab": {
          "base_uri": "https://localhost:8080/"
        },
        "id": "ZOEjEos1q6UX",
        "outputId": "4b5eb216-0a69-40de-f91b-3f56d2c60797"
      },
      "execution_count": null,
      "outputs": [
        {
          "output_type": "execute_result",
          "data": {
            "text/plain": [
              "7"
            ]
          },
          "metadata": {},
          "execution_count": 2
        }
      ]
    },
    {
      "cell_type": "code",
      "source": [
        "lo._and(True, False)"
      ],
      "metadata": {
        "colab": {
          "base_uri": "https://localhost:8080/"
        },
        "id": "BkXEw_CWq9Kj",
        "outputId": "9073dd4c-3f18-47d2-b871-9aff7f45a290"
      },
      "execution_count": null,
      "outputs": [
        {
          "output_type": "execute_result",
          "data": {
            "text/plain": [
              "False"
            ]
          },
          "metadata": {},
          "execution_count": 3
        }
      ]
    },
    {
      "cell_type": "code",
      "source": [
        "# 450,000개 이상의 Python 패키지, 45만개의 바퀴\n",
        "# PyPI(Python Package Index)\n",
        "# https://pypi.org/search/?q=pandas&o="
      ],
      "metadata": {
        "id": "1nkO_DrNrPsB"
      },
      "execution_count": null,
      "outputs": []
    },
    {
      "cell_type": "code",
      "source": [
        "import sys\n",
        "\n",
        "sys.path.append('/content/a/b/c')"
      ],
      "metadata": {
        "id": "p87RfW_Vud_m"
      },
      "execution_count": null,
      "outputs": []
    },
    {
      "cell_type": "code",
      "source": [
        "import licat\n",
        "\n",
        "licat.name"
      ],
      "metadata": {
        "colab": {
          "base_uri": "https://localhost:8080/",
          "height": 35
        },
        "id": "ytNDzCwWs3qu",
        "outputId": "b32cca55-c9e5-44a3-ee20-b6863ee41e43"
      },
      "execution_count": null,
      "outputs": [
        {
          "output_type": "execute_result",
          "data": {
            "text/plain": [
              "'licat'"
            ],
            "application/vnd.google.colaboratory.intrinsic+json": {
              "type": "string"
            }
          },
          "metadata": {},
          "execution_count": 3
        }
      ]
    },
    {
      "cell_type": "markdown",
      "source": [
        "# 부록 - 많이 사용하는 모듈"
      ],
      "metadata": {
        "id": "IMtpew_6vtWE"
      }
    },
    {
      "cell_type": "code",
      "source": [
        "import glob\n",
        "\n",
        "glob.glob('/content/*.py')\n",
        "glob.glob('./*/*.py')\n",
        "glob.glob('./???.py')\n",
        "glob.glob('./ju??.py')\n",
        "glob.glob('*.py')"
      ],
      "metadata": {
        "colab": {
          "base_uri": "https://localhost:8080/"
        },
        "id": "H4rQTB9U09LT",
        "outputId": "05f83d69-95f6-4b13-c163-dc82589faefa"
      },
      "execution_count": null,
      "outputs": [
        {
          "output_type": "execute_result",
          "data": {
            "text/plain": [
              "['jun.py', 'juni.py']"
            ]
          },
          "metadata": {},
          "execution_count": 36
        }
      ]
    },
    {
      "cell_type": "code",
      "source": [
        "import os\n",
        "\n",
        "os.getcwd()\n",
        "# glob라는 모듈이 폴더 찾고, 파일찾고 하는 것에는 더 좋습니다."
      ],
      "metadata": {
        "colab": {
          "base_uri": "https://localhost:8080/",
          "height": 35
        },
        "id": "wXH9W7pfvwLI",
        "outputId": "30a42541-1142-4101-d05b-46fdc4c7e02d"
      },
      "execution_count": null,
      "outputs": [
        {
          "output_type": "execute_result",
          "data": {
            "text/plain": [
              "'/content'"
            ],
            "application/vnd.google.colaboratory.intrinsic+json": {
              "type": "string"
            }
          },
          "metadata": {},
          "execution_count": 9
        }
      ]
    },
    {
      "cell_type": "code",
      "source": [
        "for current_directory, dirs, files in os.walk('/content'):\n",
        "    for f in files:\n",
        "        print(os.path.join(current_directory, f))"
      ],
      "metadata": {
        "colab": {
          "base_uri": "https://localhost:8080/"
        },
        "id": "mxBNqypMwFiq",
        "outputId": "1577efd4-5d5d-41ba-e1cd-afec30ede365"
      },
      "execution_count": null,
      "outputs": [
        {
          "output_type": "stream",
          "name": "stdout",
          "text": [
            "/content/jun.py\n",
            "/content/juni.py\n",
            "/content/.config/.last_update_check.json\n",
            "/content/.config/default_configs.db\n",
            "/content/.config/.last_opt_in_prompt.yaml\n",
            "/content/.config/active_config\n",
            "/content/.config/config_sentinel\n",
            "/content/.config/gce\n",
            "/content/.config/.last_survey_prompt.yaml\n",
            "/content/.config/logs/2023.09.15/13.22.10.131489.log\n",
            "/content/.config/logs/2023.09.15/13.22.09.324179.log\n",
            "/content/.config/logs/2023.09.15/13.21.32.854551.log\n",
            "/content/.config/logs/2023.09.15/13.21.41.882195.log\n",
            "/content/.config/logs/2023.09.15/13.20.39.626976.log\n",
            "/content/.config/logs/2023.09.15/13.21.06.946322.log\n",
            "/content/.config/configurations/config_default\n",
            "/content/sample_data/anscombe.json\n",
            "/content/sample_data/README.md\n",
            "/content/sample_data/mnist_train_small.csv\n",
            "/content/sample_data/mnist_test.csv\n",
            "/content/sample_data/california_housing_test.csv\n",
            "/content/sample_data/california_housing_train.csv\n",
            "/content/operation/logical_operation.py\n",
            "/content/operation/arithmetic_operation.py\n",
            "/content/operation/__pycache__/arithmetic_operation.cpython-310.pyc\n",
            "/content/operation/__pycache__/logical_operation.cpython-310.pyc\n",
            "/content/__pycache__/jun.cpython-310.pyc\n",
            "/content/__pycache__/juni.cpython-310.pyc\n",
            "/content/a/b/c/licat.py\n",
            "/content/a/b/c/__pycache__/licat.cpython-310.pyc\n"
          ]
        }
      ]
    },
    {
      "cell_type": "code",
      "source": [
        "import os\n",
        "# os.mkdir()\n",
        "# os.rename()\n",
        "# os.remove()\n",
        "os.open('a.txt', os.O_CREAT | os.O_WRONLY)"
      ],
      "metadata": {
        "colab": {
          "base_uri": "https://localhost:8080/"
        },
        "id": "w6CZ1DEhwewj",
        "outputId": "09971058-88a1-4659-b1bf-dbfc7a2e6169"
      },
      "execution_count": null,
      "outputs": [
        {
          "output_type": "execute_result",
          "data": {
            "text/plain": [
              "45"
            ]
          },
          "metadata": {},
          "execution_count": 12
        }
      ]
    },
    {
      "cell_type": "code",
      "source": [
        "import sys\n",
        "\n",
        "a = [1, 2, 3]\n",
        "b = a\n",
        "c = a\n",
        "# sys.getsizeof()\n",
        "# sys.path\n",
        "sys.getrefcount(a)"
      ],
      "metadata": {
        "colab": {
          "base_uri": "https://localhost:8080/"
        },
        "id": "MDm2aWMzwzax",
        "outputId": "ae309fe7-807d-4f2e-e923-fa84177901cb"
      },
      "execution_count": null,
      "outputs": [
        {
          "output_type": "execute_result",
          "data": {
            "text/plain": [
              "4"
            ]
          },
          "metadata": {},
          "execution_count": 17
        }
      ]
    },
    {
      "cell_type": "code",
      "source": [
        "a = [1, 2, 3, 4]\n",
        "sys.getrefcount(a)"
      ],
      "metadata": {
        "colab": {
          "base_uri": "https://localhost:8080/"
        },
        "id": "ZbMgJLjOxKDk",
        "outputId": "5983bd97-22b0-4fff-fb11-018a974506bd"
      },
      "execution_count": null,
      "outputs": [
        {
          "output_type": "execute_result",
          "data": {
            "text/plain": [
              "2"
            ]
          },
          "metadata": {},
          "execution_count": 18
        }
      ]
    },
    {
      "cell_type": "code",
      "source": [
        "import datetime\n",
        "\n",
        "s = datetime.datetime(2023, 9, 19, 14, 10)\n",
        "print(s)"
      ],
      "metadata": {
        "colab": {
          "base_uri": "https://localhost:8080/"
        },
        "id": "qF8g7JdtvEQj",
        "outputId": "65dc6649-3266-496f-e225-05654ee1d8c5"
      },
      "execution_count": null,
      "outputs": [
        {
          "output_type": "stream",
          "name": "stdout",
          "text": [
            "2023-09-19 14:10:00\n"
          ]
        }
      ]
    },
    {
      "cell_type": "code",
      "source": [
        "s.year, s.month, s.day, s.hour, s.minute"
      ],
      "metadata": {
        "colab": {
          "base_uri": "https://localhost:8080/"
        },
        "id": "rFfvjRBH2fI0",
        "outputId": "e8a102b7-31d5-439b-9728-18448d02c566"
      },
      "execution_count": null,
      "outputs": [
        {
          "output_type": "execute_result",
          "data": {
            "text/plain": [
              "(2023, 9, 19, 14, 10)"
            ]
          },
          "metadata": {},
          "execution_count": 44
        }
      ]
    },
    {
      "cell_type": "code",
      "source": [
        "s = datetime.datetime(2023, 9, 18, 14, 10)\n",
        "s.weekday() # 월요일0, 화요일1, 수요일2 ... 일요일6"
      ],
      "metadata": {
        "colab": {
          "base_uri": "https://localhost:8080/"
        },
        "id": "0TbZmuM62tIS",
        "outputId": "a2fbc1c9-b3e4-4ffc-f319-ea49c6c8b570"
      },
      "execution_count": null,
      "outputs": [
        {
          "output_type": "execute_result",
          "data": {
            "text/plain": [
              "0"
            ]
          },
          "metadata": {},
          "execution_count": 48
        }
      ]
    },
    {
      "cell_type": "code",
      "source": [
        "today = datetime.date.today()\n",
        "today"
      ],
      "metadata": {
        "colab": {
          "base_uri": "https://localhost:8080/"
        },
        "id": "amFhRJuT3D5i",
        "outputId": "8f90ba22-edb6-4e1e-d8ad-15315c4eca7f"
      },
      "execution_count": null,
      "outputs": [
        {
          "output_type": "execute_result",
          "data": {
            "text/plain": [
              "datetime.date(2023, 9, 19)"
            ]
          },
          "metadata": {},
          "execution_count": 49
        }
      ]
    },
    {
      "cell_type": "code",
      "source": [
        "graduation_date = datetime.datetime(2023, 12, 29, 18, 00)\n",
        "today = datetime.date.today()\n",
        "days = datetime.timedelta(days=100)\n",
        "today + days"
      ],
      "metadata": {
        "colab": {
          "base_uri": "https://localhost:8080/"
        },
        "id": "BF8KcXhP3ho_",
        "outputId": "003c966a-3708-487b-b78c-4e0459864f00"
      },
      "execution_count": null,
      "outputs": [
        {
          "output_type": "execute_result",
          "data": {
            "text/plain": [
              "datetime.date(2023, 12, 28)"
            ]
          },
          "metadata": {},
          "execution_count": 54
        }
      ]
    },
    {
      "cell_type": "code",
      "source": [
        "type(today), type(graduation_date)"
      ],
      "metadata": {
        "colab": {
          "base_uri": "https://localhost:8080/"
        },
        "id": "avtrADuB4hNl",
        "outputId": "81ad7769-c117-4fcf-ffe2-e81ad14565c8"
      },
      "execution_count": null,
      "outputs": [
        {
          "output_type": "execute_result",
          "data": {
            "text/plain": [
              "(datetime.date, datetime.datetime)"
            ]
          },
          "metadata": {},
          "execution_count": 56
        }
      ]
    },
    {
      "cell_type": "code",
      "source": [
        "import datetime\n",
        "\n",
        "graduation_date = datetime.date(2023, 12, 29)\n",
        "today = datetime.date.today()\n",
        "\n",
        "graduation_date - today"
      ],
      "metadata": {
        "colab": {
          "base_uri": "https://localhost:8080/"
        },
        "id": "UgZs1cMomz9p",
        "outputId": "234c331e-7ade-49a7-ad08-507bb9d01ca3"
      },
      "execution_count": null,
      "outputs": [
        {
          "output_type": "execute_result",
          "data": {
            "text/plain": [
              "datetime.timedelta(days=101)"
            ]
          },
          "metadata": {},
          "execution_count": 16
        }
      ]
    },
    {
      "cell_type": "code",
      "source": [
        "today = datetime.datetime.combine(datetime.date.today(), datetime.datetime.min.time())\n",
        "type(today)"
      ],
      "metadata": {
        "colab": {
          "base_uri": "https://localhost:8080/"
        },
        "id": "eiV0Hx0P4k2s",
        "outputId": "8b51e5ae-c41c-4daf-902a-6622ac50acef"
      },
      "execution_count": null,
      "outputs": [
        {
          "output_type": "execute_result",
          "data": {
            "text/plain": [
              "datetime.datetime"
            ]
          },
          "metadata": {},
          "execution_count": 59
        }
      ]
    },
    {
      "cell_type": "code",
      "source": [
        "graduation_date - today"
      ],
      "metadata": {
        "colab": {
          "base_uri": "https://localhost:8080/"
        },
        "id": "EyAWtqrj4-UH",
        "outputId": "9c161255-1ba6-4d0c-fac2-35b13f5365c4"
      },
      "execution_count": null,
      "outputs": [
        {
          "output_type": "execute_result",
          "data": {
            "text/plain": [
              "datetime.timedelta(days=101, seconds=64800)"
            ]
          },
          "metadata": {},
          "execution_count": 61
        }
      ]
    },
    {
      "cell_type": "code",
      "source": [
        "import json\n",
        "\n",
        "d = {\n",
        "    'one': 1,\n",
        "    'two': 2,\n",
        "    'three': 3\n",
        "}\n",
        "\n",
        "s = json.dumps(d)\n",
        "type(s)\n",
        "s[:3]"
      ],
      "metadata": {
        "colab": {
          "base_uri": "https://localhost:8080/",
          "height": 35
        },
        "id": "v2WV2Zb95PDW",
        "outputId": "2c93e5e8-d63c-48f5-83f4-81e6331a643a"
      },
      "execution_count": null,
      "outputs": [
        {
          "output_type": "execute_result",
          "data": {
            "text/plain": [
              "'{\"o'"
            ],
            "application/vnd.google.colaboratory.intrinsic+json": {
              "type": "string"
            }
          },
          "metadata": {},
          "execution_count": 65
        }
      ]
    },
    {
      "cell_type": "code",
      "source": [
        "dd = json.loads(s)\n",
        "type(dd)"
      ],
      "metadata": {
        "colab": {
          "base_uri": "https://localhost:8080/"
        },
        "id": "97_NfFde5zKk",
        "outputId": "56d087ee-50c9-4a81-cd4d-d75fd6c9c8ce"
      },
      "execution_count": null,
      "outputs": [
        {
          "output_type": "execute_result",
          "data": {
            "text/plain": [
              "dict"
            ]
          },
          "metadata": {},
          "execution_count": 68
        }
      ]
    },
    {
      "cell_type": "code",
      "source": [
        "class Human:\n",
        "    def __init__(self, x, y):\n",
        "        self.x = x\n",
        "        self.y = y\n",
        "\n",
        "jun = Human(10, 20)\n",
        "json.dumps(jun)\n",
        "\n",
        "# TypeError: Object of type Human is not JSON serializable(직렬화가 가능하지 않다!)\n",
        "# 일반 인스턴스는 직렬화가 가능하지 않습니다!\n",
        "# 직렬화: \"데이터 구조나 오브젝트 상태를 동일하거나 다른 컴퓨터 환경에 저장\n",
        "# (이를테면 파일이나 메모리 버퍼에서, 또는 네트워크 연결 링크 간 전송)하고,\n",
        "# 나중에 재구성할 수 있는 포맷으로 변환하는 과정\""
      ],
      "metadata": {
        "id": "pT5LhXoG6C9f"
      },
      "execution_count": null,
      "outputs": []
    },
    {
      "cell_type": "code",
      "source": [
        "import collections\n",
        "\n",
        "d = collections.deque([1, 2, 3, 4])\n",
        "d.rotate(1) # 회전초밥 문제\n",
        "d"
      ],
      "metadata": {
        "colab": {
          "base_uri": "https://localhost:8080/"
        },
        "id": "LTav5Lfp62q8",
        "outputId": "169c654d-4af8-45c7-a2d1-2fa6f39a5851"
      },
      "execution_count": null,
      "outputs": [
        {
          "output_type": "execute_result",
          "data": {
            "text/plain": [
              "deque([4, 1, 2, 3])"
            ]
          },
          "metadata": {},
          "execution_count": 73
        }
      ]
    },
    {
      "cell_type": "code",
      "source": [
        "d.rotate(1) # 회전초밥 문제\n",
        "d"
      ],
      "metadata": {
        "colab": {
          "base_uri": "https://localhost:8080/"
        },
        "id": "enXHMTsp7jiB",
        "outputId": "414ca1e7-c31c-40ce-b9a9-d18de1048cf7"
      },
      "execution_count": null,
      "outputs": [
        {
          "output_type": "execute_result",
          "data": {
            "text/plain": [
              "deque([3, 4, 1, 2])"
            ]
          },
          "metadata": {},
          "execution_count": 75
        }
      ]
    },
    {
      "cell_type": "code",
      "source": [
        "d.rotate(1) # 회전초밥 문제\n",
        "d"
      ],
      "metadata": {
        "colab": {
          "base_uri": "https://localhost:8080/"
        },
        "id": "YqX6BGfo7pWX",
        "outputId": "badd7a36-7dfe-4d96-b6bc-441aec4e142d"
      },
      "execution_count": null,
      "outputs": [
        {
          "output_type": "execute_result",
          "data": {
            "text/plain": [
              "deque([2, 3, 4, 1])"
            ]
          },
          "metadata": {},
          "execution_count": 76
        }
      ]
    },
    {
      "cell_type": "code",
      "source": [
        "c = collections.Counter('hello world')\n",
        "c"
      ],
      "metadata": {
        "colab": {
          "base_uri": "https://localhost:8080/"
        },
        "id": "ahurDlmS7b3C",
        "outputId": "1a42cf0c-169c-4a7e-f015-dcf9d6b15315"
      },
      "execution_count": null,
      "outputs": [
        {
          "output_type": "execute_result",
          "data": {
            "text/plain": [
              "Counter({'h': 1, 'e': 1, 'l': 3, 'o': 2, ' ': 1, 'w': 1, 'r': 1, 'd': 1})"
            ]
          },
          "metadata": {},
          "execution_count": 77
        }
      ]
    },
    {
      "cell_type": "code",
      "source": [
        "c.most_common()"
      ],
      "metadata": {
        "colab": {
          "base_uri": "https://localhost:8080/"
        },
        "id": "MX70oOOD78no",
        "outputId": "06a54631-0d34-4481-bd30-f9f4b6ba6a2b"
      },
      "execution_count": null,
      "outputs": [
        {
          "output_type": "execute_result",
          "data": {
            "text/plain": [
              "[('l', 3),\n",
              " ('o', 2),\n",
              " ('h', 1),\n",
              " ('e', 1),\n",
              " (' ', 1),\n",
              " ('w', 1),\n",
              " ('r', 1),\n",
              " ('d', 1)]"
            ]
          },
          "metadata": {},
          "execution_count": 78
        }
      ]
    },
    {
      "cell_type": "code",
      "source": [
        "# 지금부터 실습하는 것은 저 혼자만 하겠습니다.\n",
        "# 여러분은 이 코드만 가지고 있어주세요.\n",
        "import requests\n",
        "from bs4 import BeautifulSoup\n",
        "\n",
        "paullab_url = 'https://paullab.co.kr/bookservice/'\n",
        "response = requests.get(paullab_url)\n",
        "response.encoding = 'utf-8'\n",
        "html = response.text\n",
        "\n",
        "soup = BeautifulSoup(html, 'html.parser')\n",
        "\n",
        "bookservices = soup.select('.col-lg-6 > h2')     # col-lg-6 클래스 안의 h2 태그 탐색\n",
        "for no, book in enumerate(bookservices, 1):\n",
        "    print(no, book.text)"
      ],
      "metadata": {
        "colab": {
          "base_uri": "https://localhost:8080/"
        },
        "id": "Pcmzoj668Sd2",
        "outputId": "8e3c8489-5775-40a4-8bff-b0c7f8acc397"
      },
      "execution_count": null,
      "outputs": [
        {
          "output_type": "stream",
          "name": "stdout",
          "text": [
            "1 메모혁신 Notion(노션) 활용 가이드\n",
            "2 제주코딩베이스캠프 Code Festival: Python 100제 1부\n",
            "3 튜토리얼로 배우는 HTML&CSS\n",
            "4 코딩도장 튜토리얼로 배우는 Python 1편 object\n",
            "5 코딩도장 튜토리얼로 배우는 python 2편 제어문\n",
            "6 코딩도장 튜토리얼로 배우는 Python 문제풀이\n",
            "7 타노스의 건틀릿 알고리즘 With Python\n",
            "8 xlsxwriter 튜토리얼로 배우는 Python 엑셀 프로그래밍\n",
            "9 러플 튜토리얼로 배우는 Python\n",
            "10 인공지능을 활용한 업무자동화 With Google Developers Group JEJU\n",
            "11 2017 제주 코딩 해커톤 Django 트랙 상편 1권\n"
          ]
        }
      ]
    },
    {
      "cell_type": "code",
      "source": [
        "# 지금부터 실습하는 것은 저 혼자만 하겠습니다.\n",
        "# 여러분은 이 코드만 가지고 있어주세요.\n",
        "import requests # 이거 하고 있습니다!\n",
        "from bs4 import BeautifulSoup\n",
        "\n",
        "paullab_url = 'https://search.naver.com/search.naver?where=nexearch&sm=top_hty&fbm=0&ie=utf8&query=%EC%B5%9C%EC%8B%A0%EC%98%81%ED%99%94' #이거\n",
        "response = requests.get(paullab_url)\n",
        "response.encoding = 'utf-8'\n",
        "html = response.text\n",
        "\n",
        "soup = BeautifulSoup(html, 'html.parser')\n",
        "\n",
        "bookservices = soup.select('.this_text') # 이거\n",
        "for no, book in enumerate(bookservices, 1):\n",
        "    print(no, book.text)"
      ],
      "metadata": {
        "colab": {
          "base_uri": "https://localhost:8080/"
        },
        "id": "gV3A3eUx9uTO",
        "outputId": "78cbc02e-94a8-4e07-d48a-83fe942061af"
      },
      "execution_count": null,
      "outputs": [
        {
          "output_type": "stream",
          "name": "stdout",
          "text": [
            "1 베니스 유령 살인사건\n",
            "2 잠\n",
            "3 오펜하이머\n",
            "4 달짝지근해: 7510\n",
            "5 콘크리트 유토피아\n",
            "6 닌자터틀: 뮤턴트 대소동\n",
            "7 타겟\n",
            "8 여름을 향한 터널, 이별의 출구\n",
            "9 새로고침\n"
          ]
        }
      ]
    },
    {
      "cell_type": "markdown",
      "source": [
        "# 예외처리"
      ],
      "metadata": {
        "id": "kt-_IgvRB6-0"
      }
    },
    {
      "cell_type": "code",
      "source": [
        "# SyntaxError\n",
        "# for i in range(10)\n",
        "#     print(i)\n",
        "if False:\n",
        "    raise SyntaxError\n",
        "if True:\n",
        "    raise SyntaxError('hello world') #여러분의 의도에 맞게 적절한 애러를 주실 필요가 있습니다."
      ],
      "metadata": {
        "colab": {
          "base_uri": "https://localhost:8080/",
          "height": 252
        },
        "id": "WSySwU4LBads",
        "outputId": "ba0da4dc-6fb8-4a36-8f1b-66191396a66b"
      },
      "execution_count": null,
      "outputs": [
        {
          "output_type": "error",
          "ename": "SyntaxError",
          "evalue": "ignored",
          "traceback": [
            "Traceback \u001b[0;36m(most recent call last)\u001b[0m:\n",
            "  File \u001b[1;32m\"/usr/local/lib/python3.10/dist-packages/IPython/core/interactiveshell.py\"\u001b[0m, line \u001b[1;32m3553\u001b[0m, in \u001b[1;35mrun_code\u001b[0m\n    exec(code_obj, self.user_global_ns, self.user_ns)\n",
            "\u001b[0;36m  File \u001b[0;32m\"<ipython-input-86-ec4226183ded>\"\u001b[0;36m, line \u001b[0;32m5\u001b[0;36m, in \u001b[0;35m<cell line: 4>\u001b[0;36m\u001b[0m\n\u001b[0;31m    raise SyntaxError('hello world') #여러분의 의도에 맞게 적절한 애러를 주실 필요가 있습니다.\u001b[0m\n",
            "\u001b[0;36m  File \u001b[0;32m\"<string>\"\u001b[0;36m, line \u001b[0;32munknown\u001b[0m\n\u001b[0;31mSyntaxError\u001b[0m\u001b[0;31m:\u001b[0m hello world\n"
          ]
        }
      ]
    },
    {
      "cell_type": "code",
      "source": [
        "# Name Error\n",
        "print(x)"
      ],
      "metadata": {
        "colab": {
          "base_uri": "https://localhost:8080/",
          "height": 199
        },
        "id": "H9Aovc4QClI-",
        "outputId": "1462d0db-a91f-4156-e8c6-ce2d3429122c"
      },
      "execution_count": null,
      "outputs": [
        {
          "output_type": "error",
          "ename": "NameError",
          "evalue": "ignored",
          "traceback": [
            "\u001b[0;31m---------------------------------------------------------------------------\u001b[0m",
            "\u001b[0;31mNameError\u001b[0m                                 Traceback (most recent call last)",
            "\u001b[0;32m<ipython-input-87-e9e3baa318b0>\u001b[0m in \u001b[0;36m<cell line: 2>\u001b[0;34m()\u001b[0m\n\u001b[1;32m      1\u001b[0m \u001b[0;31m# Name Error\u001b[0m\u001b[0;34m\u001b[0m\u001b[0;34m\u001b[0m\u001b[0m\n\u001b[0;32m----> 2\u001b[0;31m \u001b[0mprint\u001b[0m\u001b[0;34m(\u001b[0m\u001b[0mx\u001b[0m\u001b[0;34m)\u001b[0m\u001b[0;34m\u001b[0m\u001b[0;34m\u001b[0m\u001b[0m\n\u001b[0m",
            "\u001b[0;31mNameError\u001b[0m: name 'x' is not defined"
          ]
        }
      ]
    },
    {
      "cell_type": "code",
      "source": [
        "# Type Error\n",
        "x = 10\n",
        "y = '20'\n",
        "print(x + y)"
      ],
      "metadata": {
        "colab": {
          "base_uri": "https://localhost:8080/",
          "height": 216
        },
        "id": "h8PVCjphCpDV",
        "outputId": "f9f7026c-635b-4f60-f1c3-2187bce8b77c"
      },
      "execution_count": null,
      "outputs": [
        {
          "output_type": "error",
          "ename": "TypeError",
          "evalue": "ignored",
          "traceback": [
            "\u001b[0;31m---------------------------------------------------------------------------\u001b[0m",
            "\u001b[0;31mTypeError\u001b[0m                                 Traceback (most recent call last)",
            "\u001b[0;32m<ipython-input-88-62c7d5a446c2>\u001b[0m in \u001b[0;36m<cell line: 4>\u001b[0;34m()\u001b[0m\n\u001b[1;32m      2\u001b[0m \u001b[0mx\u001b[0m \u001b[0;34m=\u001b[0m \u001b[0;36m10\u001b[0m\u001b[0;34m\u001b[0m\u001b[0;34m\u001b[0m\u001b[0m\n\u001b[1;32m      3\u001b[0m \u001b[0my\u001b[0m \u001b[0;34m=\u001b[0m \u001b[0;34m'20'\u001b[0m\u001b[0;34m\u001b[0m\u001b[0;34m\u001b[0m\u001b[0m\n\u001b[0;32m----> 4\u001b[0;31m \u001b[0mprint\u001b[0m\u001b[0;34m(\u001b[0m\u001b[0mx\u001b[0m \u001b[0;34m+\u001b[0m \u001b[0my\u001b[0m\u001b[0;34m)\u001b[0m\u001b[0;34m\u001b[0m\u001b[0;34m\u001b[0m\u001b[0m\n\u001b[0m",
            "\u001b[0;31mTypeError\u001b[0m: unsupported operand type(s) for +: 'int' and 'str'"
          ]
        }
      ]
    },
    {
      "cell_type": "code",
      "source": [
        "# Index Error\n",
        "my_list = [1, 2, 3]\n",
        "print(my_list[3]) # 슬라이싱은 애러를 내지 않습니다. 기억해주세요. 많이 사용합니다."
      ],
      "metadata": {
        "colab": {
          "base_uri": "https://localhost:8080/",
          "height": 216
        },
        "id": "3pD_3RZvCwCt",
        "outputId": "3b2ce84b-9726-462b-8975-2c4a64b4aa07"
      },
      "execution_count": null,
      "outputs": [
        {
          "output_type": "error",
          "ename": "IndexError",
          "evalue": "ignored",
          "traceback": [
            "\u001b[0;31m---------------------------------------------------------------------------\u001b[0m",
            "\u001b[0;31mIndexError\u001b[0m                                Traceback (most recent call last)",
            "\u001b[0;32m<ipython-input-89-f79f21f7e49e>\u001b[0m in \u001b[0;36m<cell line: 3>\u001b[0;34m()\u001b[0m\n\u001b[1;32m      1\u001b[0m \u001b[0;31m# Index Error\u001b[0m\u001b[0;34m\u001b[0m\u001b[0;34m\u001b[0m\u001b[0m\n\u001b[1;32m      2\u001b[0m \u001b[0mmy_list\u001b[0m \u001b[0;34m=\u001b[0m \u001b[0;34m[\u001b[0m\u001b[0;36m1\u001b[0m\u001b[0;34m,\u001b[0m \u001b[0;36m2\u001b[0m\u001b[0;34m,\u001b[0m \u001b[0;36m3\u001b[0m\u001b[0;34m]\u001b[0m\u001b[0;34m\u001b[0m\u001b[0;34m\u001b[0m\u001b[0m\n\u001b[0;32m----> 3\u001b[0;31m \u001b[0mprint\u001b[0m\u001b[0;34m(\u001b[0m\u001b[0mmy_list\u001b[0m\u001b[0;34m[\u001b[0m\u001b[0;36m3\u001b[0m\u001b[0;34m]\u001b[0m\u001b[0;34m)\u001b[0m\u001b[0;34m\u001b[0m\u001b[0;34m\u001b[0m\u001b[0m\n\u001b[0m",
            "\u001b[0;31mIndexError\u001b[0m: list index out of range"
          ]
        }
      ]
    },
    {
      "cell_type": "code",
      "source": [
        "# python에서는 안됩니다.\n",
        "my_list = [1, 2, 3]\n",
        "my_list.__len__ = 100"
      ],
      "metadata": {
        "colab": {
          "base_uri": "https://localhost:8080/",
          "height": 199
        },
        "id": "tCcE83y3DfIj",
        "outputId": "b1b2be76-1bac-4868-ef35-6ccef1eae095"
      },
      "execution_count": null,
      "outputs": [
        {
          "output_type": "error",
          "ename": "AttributeError",
          "evalue": "ignored",
          "traceback": [
            "\u001b[0;31m---------------------------------------------------------------------------\u001b[0m",
            "\u001b[0;31mAttributeError\u001b[0m                            Traceback (most recent call last)",
            "\u001b[0;32m<ipython-input-90-ee8c80029694>\u001b[0m in \u001b[0;36m<cell line: 2>\u001b[0;34m()\u001b[0m\n\u001b[1;32m      1\u001b[0m \u001b[0mmy_list\u001b[0m \u001b[0;34m=\u001b[0m \u001b[0;34m[\u001b[0m\u001b[0;36m1\u001b[0m\u001b[0;34m,\u001b[0m \u001b[0;36m2\u001b[0m\u001b[0;34m,\u001b[0m \u001b[0;36m3\u001b[0m\u001b[0;34m]\u001b[0m\u001b[0;34m\u001b[0m\u001b[0;34m\u001b[0m\u001b[0m\n\u001b[0;32m----> 2\u001b[0;31m \u001b[0mmy_list\u001b[0m\u001b[0;34m.\u001b[0m\u001b[0m__len__\u001b[0m \u001b[0;34m=\u001b[0m \u001b[0;36m100\u001b[0m\u001b[0;34m\u001b[0m\u001b[0;34m\u001b[0m\u001b[0m\n\u001b[0m",
            "\u001b[0;31mAttributeError\u001b[0m: 'list' object attribute '__len__' is read-only"
          ]
        }
      ]
    },
    {
      "cell_type": "code",
      "source": [
        "# Key Error\n",
        "my_dict = {'a': 1, 'b': 2}\n",
        "print(my_dict['c']) # key error를 피하기 위해서는 get을 사용합니다."
      ],
      "metadata": {
        "colab": {
          "base_uri": "https://localhost:8080/",
          "height": 216
        },
        "id": "UtgfU55YD6TL",
        "outputId": "900e0237-1b63-42f9-d109-359dc2d9df20"
      },
      "execution_count": null,
      "outputs": [
        {
          "output_type": "error",
          "ename": "KeyError",
          "evalue": "ignored",
          "traceback": [
            "\u001b[0;31m---------------------------------------------------------------------------\u001b[0m",
            "\u001b[0;31mKeyError\u001b[0m                                  Traceback (most recent call last)",
            "\u001b[0;32m<ipython-input-92-418318ba1873>\u001b[0m in \u001b[0;36m<cell line: 3>\u001b[0;34m()\u001b[0m\n\u001b[1;32m      1\u001b[0m \u001b[0;31m# Key Error\u001b[0m\u001b[0;34m\u001b[0m\u001b[0;34m\u001b[0m\u001b[0m\n\u001b[1;32m      2\u001b[0m \u001b[0mmy_dict\u001b[0m \u001b[0;34m=\u001b[0m \u001b[0;34m{\u001b[0m\u001b[0;34m'a'\u001b[0m\u001b[0;34m:\u001b[0m \u001b[0;36m1\u001b[0m\u001b[0;34m,\u001b[0m \u001b[0;34m'b'\u001b[0m\u001b[0;34m:\u001b[0m \u001b[0;36m2\u001b[0m\u001b[0;34m}\u001b[0m\u001b[0;34m\u001b[0m\u001b[0;34m\u001b[0m\u001b[0m\n\u001b[0;32m----> 3\u001b[0;31m \u001b[0mprint\u001b[0m\u001b[0;34m(\u001b[0m\u001b[0mmy_dict\u001b[0m\u001b[0;34m[\u001b[0m\u001b[0;34m'c'\u001b[0m\u001b[0;34m]\u001b[0m\u001b[0;34m)\u001b[0m \u001b[0;31m# key error를 피하기 위해서는 get을 사용합니다.\u001b[0m\u001b[0;34m\u001b[0m\u001b[0;34m\u001b[0m\u001b[0m\n\u001b[0m",
            "\u001b[0;31mKeyError\u001b[0m: 'c'"
          ]
        }
      ]
    },
    {
      "cell_type": "code",
      "source": [
        "# Value Error\n",
        "int('a')"
      ],
      "metadata": {
        "colab": {
          "base_uri": "https://localhost:8080/",
          "height": 199
        },
        "id": "o7HcKeX7EE-v",
        "outputId": "fa3c1329-e962-48b6-db91-4625c02880b3"
      },
      "execution_count": null,
      "outputs": [
        {
          "output_type": "error",
          "ename": "ValueError",
          "evalue": "ignored",
          "traceback": [
            "\u001b[0;31m---------------------------------------------------------------------------\u001b[0m",
            "\u001b[0;31mValueError\u001b[0m                                Traceback (most recent call last)",
            "\u001b[0;32m<ipython-input-91-b8f9f0574b88>\u001b[0m in \u001b[0;36m<cell line: 2>\u001b[0;34m()\u001b[0m\n\u001b[1;32m      1\u001b[0m \u001b[0;31m# Value Error\u001b[0m\u001b[0;34m\u001b[0m\u001b[0;34m\u001b[0m\u001b[0m\n\u001b[0;32m----> 2\u001b[0;31m \u001b[0mint\u001b[0m\u001b[0;34m(\u001b[0m\u001b[0;34m'a'\u001b[0m\u001b[0;34m)\u001b[0m\u001b[0;34m\u001b[0m\u001b[0;34m\u001b[0m\u001b[0m\n\u001b[0m",
            "\u001b[0;31mValueError\u001b[0m: invalid literal for int() with base 10: 'a'"
          ]
        }
      ]
    },
    {
      "cell_type": "code",
      "source": [
        "# ZeroDivision Error\n",
        "x = 10\n",
        "y = 0\n",
        "print(x / y)"
      ],
      "metadata": {
        "colab": {
          "base_uri": "https://localhost:8080/",
          "height": 216
        },
        "id": "ux1XdsafEF_I",
        "outputId": "de16ddd8-52ff-4e4f-e6fa-104f840f0f1c"
      },
      "execution_count": null,
      "outputs": [
        {
          "output_type": "error",
          "ename": "ZeroDivisionError",
          "evalue": "ignored",
          "traceback": [
            "\u001b[0;31m---------------------------------------------------------------------------\u001b[0m",
            "\u001b[0;31mZeroDivisionError\u001b[0m                         Traceback (most recent call last)",
            "\u001b[0;32m<ipython-input-93-f17cbf29a9a4>\u001b[0m in \u001b[0;36m<cell line: 4>\u001b[0;34m()\u001b[0m\n\u001b[1;32m      2\u001b[0m \u001b[0mx\u001b[0m \u001b[0;34m=\u001b[0m \u001b[0;36m10\u001b[0m\u001b[0;34m\u001b[0m\u001b[0;34m\u001b[0m\u001b[0m\n\u001b[1;32m      3\u001b[0m \u001b[0my\u001b[0m \u001b[0;34m=\u001b[0m \u001b[0;36m0\u001b[0m\u001b[0;34m\u001b[0m\u001b[0;34m\u001b[0m\u001b[0m\n\u001b[0;32m----> 4\u001b[0;31m \u001b[0mprint\u001b[0m\u001b[0;34m(\u001b[0m\u001b[0mx\u001b[0m \u001b[0;34m/\u001b[0m \u001b[0my\u001b[0m\u001b[0;34m)\u001b[0m\u001b[0;34m\u001b[0m\u001b[0;34m\u001b[0m\u001b[0m\n\u001b[0m",
            "\u001b[0;31mZeroDivisionError\u001b[0m: division by zero"
          ]
        }
      ]
    },
    {
      "cell_type": "code",
      "source": [
        "def f():\n",
        "    return True\n",
        "\n",
        "def ff():\n",
        "    return 1/0\n",
        "\n",
        "f() or ff()"
      ],
      "metadata": {
        "colab": {
          "base_uri": "https://localhost:8080/"
        },
        "id": "rnEtzGT5EOlA",
        "outputId": "d9b0ab5f-2ced-492e-dca6-98ddef2ffb9e"
      },
      "execution_count": null,
      "outputs": [
        {
          "output_type": "execute_result",
          "data": {
            "text/plain": [
              "True"
            ]
          },
          "metadata": {},
          "execution_count": 96
        }
      ]
    },
    {
      "cell_type": "code",
      "source": [
        "# Attribute Error\n",
        "my_list = [1, 2, 3]\n",
        "print(my_list.appeend(4))"
      ],
      "metadata": {
        "colab": {
          "base_uri": "https://localhost:8080/",
          "height": 216
        },
        "id": "iiP8dpoLEgga",
        "outputId": "73910179-4574-4f7e-b5e2-096096c45c2d"
      },
      "execution_count": null,
      "outputs": [
        {
          "output_type": "error",
          "ename": "AttributeError",
          "evalue": "ignored",
          "traceback": [
            "\u001b[0;31m---------------------------------------------------------------------------\u001b[0m",
            "\u001b[0;31mAttributeError\u001b[0m                            Traceback (most recent call last)",
            "\u001b[0;32m<ipython-input-97-dceecff01ea8>\u001b[0m in \u001b[0;36m<cell line: 3>\u001b[0;34m()\u001b[0m\n\u001b[1;32m      1\u001b[0m \u001b[0;31m# Attribute Error\u001b[0m\u001b[0;34m\u001b[0m\u001b[0;34m\u001b[0m\u001b[0m\n\u001b[1;32m      2\u001b[0m \u001b[0mmy_list\u001b[0m \u001b[0;34m=\u001b[0m \u001b[0;34m[\u001b[0m\u001b[0;36m1\u001b[0m\u001b[0;34m,\u001b[0m \u001b[0;36m2\u001b[0m\u001b[0;34m,\u001b[0m \u001b[0;36m3\u001b[0m\u001b[0;34m]\u001b[0m\u001b[0;34m\u001b[0m\u001b[0;34m\u001b[0m\u001b[0m\n\u001b[0;32m----> 3\u001b[0;31m \u001b[0mprint\u001b[0m\u001b[0;34m(\u001b[0m\u001b[0mmy_list\u001b[0m\u001b[0;34m.\u001b[0m\u001b[0mappeend\u001b[0m\u001b[0;34m(\u001b[0m\u001b[0;36m4\u001b[0m\u001b[0;34m)\u001b[0m\u001b[0;34m)\u001b[0m\u001b[0;34m\u001b[0m\u001b[0;34m\u001b[0m\u001b[0m\n\u001b[0m",
            "\u001b[0;31mAttributeError\u001b[0m: 'list' object has no attribute 'appeend'"
          ]
        }
      ]
    },
    {
      "cell_type": "code",
      "source": [
        "# Type Error\n",
        "def add(x, y):\n",
        "    return x + y\n",
        "\n",
        "add(1, 2, 3) # *args, **kargs"
      ],
      "metadata": {
        "colab": {
          "base_uri": "https://localhost:8080/",
          "height": 216
        },
        "id": "fMYGooK6Emw8",
        "outputId": "ccb1919b-8ae9-4c5a-fa1e-b70eb8e7c72a"
      },
      "execution_count": null,
      "outputs": [
        {
          "output_type": "error",
          "ename": "TypeError",
          "evalue": "ignored",
          "traceback": [
            "\u001b[0;31m---------------------------------------------------------------------------\u001b[0m",
            "\u001b[0;31mTypeError\u001b[0m                                 Traceback (most recent call last)",
            "\u001b[0;32m<ipython-input-98-cbb8c8b9d43a>\u001b[0m in \u001b[0;36m<cell line: 5>\u001b[0;34m()\u001b[0m\n\u001b[1;32m      3\u001b[0m     \u001b[0;32mreturn\u001b[0m \u001b[0mx\u001b[0m \u001b[0;34m+\u001b[0m \u001b[0my\u001b[0m\u001b[0;34m\u001b[0m\u001b[0;34m\u001b[0m\u001b[0m\n\u001b[1;32m      4\u001b[0m \u001b[0;34m\u001b[0m\u001b[0m\n\u001b[0;32m----> 5\u001b[0;31m \u001b[0madd\u001b[0m\u001b[0;34m(\u001b[0m\u001b[0;36m1\u001b[0m\u001b[0;34m,\u001b[0m \u001b[0;36m2\u001b[0m\u001b[0;34m,\u001b[0m \u001b[0;36m3\u001b[0m\u001b[0;34m)\u001b[0m\u001b[0;34m\u001b[0m\u001b[0;34m\u001b[0m\u001b[0m\n\u001b[0m",
            "\u001b[0;31mTypeError\u001b[0m: add() takes 2 positional arguments but 3 were given"
          ]
        }
      ]
    },
    {
      "cell_type": "code",
      "source": [
        "def add(x, y, *args):\n",
        "    print(x, y, args)\n",
        "    return x + y\n",
        "\n",
        "add(1, 2, 3, 4, 5, 6, 7, 8, 9, 10)"
      ],
      "metadata": {
        "colab": {
          "base_uri": "https://localhost:8080/"
        },
        "id": "2n1RQE3eEtsJ",
        "outputId": "2ac2d746-d83f-4b21-f824-1eedf497d1f5"
      },
      "execution_count": null,
      "outputs": [
        {
          "output_type": "stream",
          "name": "stdout",
          "text": [
            "1 2 (3, 4, 5, 6, 7, 8, 9, 10)\n"
          ]
        },
        {
          "output_type": "execute_result",
          "data": {
            "text/plain": [
              "3"
            ]
          },
          "metadata": {},
          "execution_count": 100
        }
      ]
    },
    {
      "cell_type": "code",
      "source": [
        "# File I/O Error\n",
        "f = open('non-existent.txt', 'r')\n",
        "f.read()"
      ],
      "metadata": {
        "colab": {
          "base_uri": "https://localhost:8080/",
          "height": 216
        },
        "id": "xWFtAvxXFK3e",
        "outputId": "467f69d3-9128-4648-ef97-12251f1245a3"
      },
      "execution_count": null,
      "outputs": [
        {
          "output_type": "error",
          "ename": "FileNotFoundError",
          "evalue": "ignored",
          "traceback": [
            "\u001b[0;31m---------------------------------------------------------------------------\u001b[0m",
            "\u001b[0;31mFileNotFoundError\u001b[0m                         Traceback (most recent call last)",
            "\u001b[0;32m<ipython-input-101-398bb0f309eb>\u001b[0m in \u001b[0;36m<cell line: 2>\u001b[0;34m()\u001b[0m\n\u001b[1;32m      1\u001b[0m \u001b[0;31m# File I/O Error\u001b[0m\u001b[0;34m\u001b[0m\u001b[0;34m\u001b[0m\u001b[0m\n\u001b[0;32m----> 2\u001b[0;31m \u001b[0mf\u001b[0m \u001b[0;34m=\u001b[0m \u001b[0mopen\u001b[0m\u001b[0;34m(\u001b[0m\u001b[0;34m'non-existent.txt'\u001b[0m\u001b[0;34m,\u001b[0m \u001b[0;34m'r'\u001b[0m\u001b[0;34m)\u001b[0m\u001b[0;34m\u001b[0m\u001b[0;34m\u001b[0m\u001b[0m\n\u001b[0m\u001b[1;32m      3\u001b[0m \u001b[0mf\u001b[0m\u001b[0;34m.\u001b[0m\u001b[0mread\u001b[0m\u001b[0;34m(\u001b[0m\u001b[0;34m)\u001b[0m\u001b[0;34m\u001b[0m\u001b[0;34m\u001b[0m\u001b[0m\n",
            "\u001b[0;31mFileNotFoundError\u001b[0m: [Errno 2] No such file or directory: 'non-existent.txt'"
          ]
        }
      ]
    },
    {
      "cell_type": "code",
      "source": [
        "# 오류가 난 곳을 찾아 유지보수하기가 쉽지 않습니다.\n",
        "try:\n",
        "    pass # 1000줄\n",
        "except:\n",
        "    pass # 100줄"
      ],
      "metadata": {
        "id": "_wxfdMhjFV8r"
      },
      "execution_count": null,
      "outputs": []
    },
    {
      "cell_type": "code",
      "source": [
        "try:\n",
        "    s = 1/1\n",
        "    print(s)\n",
        "    l = [1, 2, 3]\n",
        "    print(l[3])\n",
        "except ZeroDivisionError:\n",
        "    print('0으로 나누어졌습니다!')\n",
        "except:\n",
        "    print('오류가 났습니다!')"
      ],
      "metadata": {
        "colab": {
          "base_uri": "https://localhost:8080/"
        },
        "id": "OmSaUTL0V_1S",
        "outputId": "103ff9e9-a0f6-4646-947e-9f47b4374faa"
      },
      "execution_count": null,
      "outputs": [
        {
          "output_type": "stream",
          "name": "stdout",
          "text": [
            "1.0\n",
            "오류가 났습니다!\n"
          ]
        }
      ]
    },
    {
      "cell_type": "code",
      "source": [
        "def index_print(list, user_input):\n",
        "    if 0 <= user_input < len(list):\n",
        "        return list[user_input]\n",
        "    return print('리스트의 범위를 벗어났습니다.')\n",
        "fruit = [\"apple\", \"banana\", \"cherry\"]\n",
        "\n",
        "user = int(input('인덱스를 입력해주세요. : '))\n",
        "index_print(fruit,user)"
      ],
      "metadata": {
        "colab": {
          "base_uri": "https://localhost:8080/"
        },
        "id": "6su4kOuIYr7u",
        "outputId": "eb16f525-7103-4dfa-b8a6-0fe49bdefbba"
      },
      "execution_count": null,
      "outputs": [
        {
          "output_type": "stream",
          "name": "stdout",
          "text": [
            "인덱스를 입력해주세요. : 5\n",
            "리스트의 범위를 벗어났습니다.\n"
          ]
        }
      ]
    },
    {
      "cell_type": "code",
      "source": [
        "try:\n",
        "    할인율 = 0\n",
        "    치킨값 = 30000 / 할인율\n",
        "    print('치킨주문 되었습니다!')\n",
        "except:\n",
        "    print('결제가 안되었습니다!')"
      ],
      "metadata": {
        "colab": {
          "base_uri": "https://localhost:8080/"
        },
        "id": "BOlrdEozF6Hm",
        "outputId": "b70826b8-5cbf-4a0f-c3e2-36da62e17df0"
      },
      "execution_count": null,
      "outputs": [
        {
          "output_type": "stream",
          "name": "stdout",
          "text": [
            "결제가 안되었습니다!\n"
          ]
        }
      ]
    },
    {
      "cell_type": "code",
      "source": [
        "try:\n",
        "    할인율 = 0\n",
        "    치킨값 = 30000 / 할인율\n",
        "    print('치킨주문 되었습니다!')\n",
        "print('hello')"
      ],
      "metadata": {
        "colab": {
          "base_uri": "https://localhost:8080/",
          "height": 145
        },
        "id": "ONiqSV01G1wT",
        "outputId": "7bfdd727-bb44-4491-caea-bb6f224cea33"
      },
      "execution_count": null,
      "outputs": [
        {
          "output_type": "error",
          "ename": "SyntaxError",
          "evalue": "ignored",
          "traceback": [
            "\u001b[0;36m  File \u001b[0;32m\"<ipython-input-104-597d13708401>\"\u001b[0;36m, line \u001b[0;32m5\u001b[0m\n\u001b[0;31m    print('hello')\u001b[0m\n\u001b[0m    ^\u001b[0m\n\u001b[0;31mSyntaxError\u001b[0m\u001b[0;31m:\u001b[0m expected 'except' or 'finally' block\n"
          ]
        }
      ]
    },
    {
      "cell_type": "code",
      "source": [
        "try:\n",
        "    할인율 = 0\n",
        "    치킨값 = 30000 / 할인율\n",
        "    print('치킨주문 되었습니다!')\n",
        "except:\n",
        "    print('결제가 안되었습니다!')\n",
        "else:\n",
        "    print('else')"
      ],
      "metadata": {
        "colab": {
          "base_uri": "https://localhost:8080/"
        },
        "id": "d8duZgSpG9XR",
        "outputId": "4e072b68-b9e4-4124-adf4-43fd63b015d7"
      },
      "execution_count": null,
      "outputs": [
        {
          "output_type": "stream",
          "name": "stdout",
          "text": [
            "결제가 안되었습니다!\n"
          ]
        }
      ]
    },
    {
      "cell_type": "code",
      "source": [
        "try:\n",
        "    할인율 = 0\n",
        "    # 치킨값 = 30000 / 할인율\n",
        "    print('치킨주문 되었습니다!')\n",
        "except:\n",
        "    print('결제가 안되었습니다!')\n",
        "else: # 애러 없이 실행되면 else를 실행합니다. while, for + else 조합과 비슷합니다.\n",
        "    print('else')"
      ],
      "metadata": {
        "colab": {
          "base_uri": "https://localhost:8080/"
        },
        "id": "usoKbWfzHTzR",
        "outputId": "e321143c-f61b-4a32-d3a8-578b0816be9c"
      },
      "execution_count": null,
      "outputs": [
        {
          "output_type": "stream",
          "name": "stdout",
          "text": [
            "치킨주문 되었습니다!\n",
            "else\n"
          ]
        }
      ]
    },
    {
      "cell_type": "code",
      "source": [
        "try:\n",
        "    할인율 = 0\n",
        "    # 치킨값 = 30000 / 할인율\n",
        "    print('치킨주문 되었습니다!')\n",
        "except:\n",
        "    print('결제가 안되었습니다!')\n",
        "else: # 애러 없이 실행되면 else를 실행합니다. while, for + else 조합과 비슷합니다.\n",
        "    print('else')\n"
      ],
      "metadata": {
        "id": "0CNBihdgHvM-"
      },
      "execution_count": null,
      "outputs": []
    },
    {
      "cell_type": "code",
      "source": [
        "try:\n",
        "    할인율 = 0\n",
        "    # 치킨값 = 30000 / 할인율\n",
        "    print('치킨주문 되었습니다!')\n",
        "except:\n",
        "    print('결제가 안되었습니다!')\n",
        "finally:\n",
        "    print('메인화면으로 이동')"
      ],
      "metadata": {
        "colab": {
          "base_uri": "https://localhost:8080/"
        },
        "id": "Z65nIrplH-1j",
        "outputId": "481b006f-c9be-49e2-d737-76cf92930265"
      },
      "execution_count": null,
      "outputs": [
        {
          "output_type": "stream",
          "name": "stdout",
          "text": [
            "치킨주문 되었습니다!\n",
            "메인화면으로 이동\n"
          ]
        }
      ]
    },
    {
      "cell_type": "code",
      "source": [
        "# 간단하게 error를 만들고 테스트하긴 좋습니다.\n",
        "\n",
        "test = 'hello'\n",
        "\n",
        "# assert test == 'hello', '애러 메시지 1' #1\n",
        "assert test == 'world', '애러 메시지 2' #2\n",
        "# assert test + 3 == 5, '애러 메시지 3' #3"
      ],
      "metadata": {
        "colab": {
          "base_uri": "https://localhost:8080/",
          "height": 234
        },
        "id": "nHwdNif6ISTV",
        "outputId": "18d3733c-2170-4da9-fd5f-07a8ba6535e2"
      },
      "execution_count": null,
      "outputs": [
        {
          "output_type": "error",
          "ename": "AssertionError",
          "evalue": "ignored",
          "traceback": [
            "\u001b[0;31m---------------------------------------------------------------------------\u001b[0m",
            "\u001b[0;31mAssertionError\u001b[0m                            Traceback (most recent call last)",
            "\u001b[0;32m<ipython-input-110-45ac81f3ae9b>\u001b[0m in \u001b[0;36m<cell line: 4>\u001b[0;34m()\u001b[0m\n\u001b[1;32m      2\u001b[0m \u001b[0;34m\u001b[0m\u001b[0m\n\u001b[1;32m      3\u001b[0m \u001b[0;31m# assert test == 'hello', '애러 메시지 1' #1\u001b[0m\u001b[0;34m\u001b[0m\u001b[0;34m\u001b[0m\u001b[0m\n\u001b[0;32m----> 4\u001b[0;31m \u001b[0;32massert\u001b[0m \u001b[0mtest\u001b[0m \u001b[0;34m==\u001b[0m \u001b[0;34m'world'\u001b[0m\u001b[0;34m,\u001b[0m \u001b[0;34m'애러 메시지 2'\u001b[0m \u001b[0;31m#2\u001b[0m\u001b[0;34m\u001b[0m\u001b[0;34m\u001b[0m\u001b[0m\n\u001b[0m\u001b[1;32m      5\u001b[0m \u001b[0;31m# assert test + 3 == 5, '애러 메시지 3' #3\u001b[0m\u001b[0;34m\u001b[0m\u001b[0;34m\u001b[0m\u001b[0m\n",
            "\u001b[0;31mAssertionError\u001b[0m: 애러 메시지 2"
          ]
        }
      ]
    },
    {
      "cell_type": "code",
      "source": [
        "x = 10\n",
        "# raise\n",
        "# raise ValueError\n",
        "# raise ValueError('코드를 잘~~ 만들어주세요.')\n",
        "y = 20"
      ],
      "metadata": {
        "colab": {
          "base_uri": "https://localhost:8080/",
          "height": 234
        },
        "id": "qk88TzJpIwR6",
        "outputId": "eb38dbb3-45ad-45dc-da0d-0fd2d1c17262"
      },
      "execution_count": null,
      "outputs": [
        {
          "output_type": "error",
          "ename": "ValueError",
          "evalue": "ignored",
          "traceback": [
            "\u001b[0;31m---------------------------------------------------------------------------\u001b[0m",
            "\u001b[0;31mValueError\u001b[0m                                Traceback (most recent call last)",
            "\u001b[0;32m<ipython-input-114-bf44f6e2c645>\u001b[0m in \u001b[0;36m<cell line: 4>\u001b[0;34m()\u001b[0m\n\u001b[1;32m      2\u001b[0m \u001b[0;31m# raise\u001b[0m\u001b[0;34m\u001b[0m\u001b[0;34m\u001b[0m\u001b[0m\n\u001b[1;32m      3\u001b[0m \u001b[0;31m# raise ValueError\u001b[0m\u001b[0;34m\u001b[0m\u001b[0;34m\u001b[0m\u001b[0m\n\u001b[0;32m----> 4\u001b[0;31m \u001b[0;32mraise\u001b[0m \u001b[0mValueError\u001b[0m\u001b[0;34m(\u001b[0m\u001b[0;34m'코드를 잘~~ 만들어주세요.'\u001b[0m\u001b[0;34m)\u001b[0m\u001b[0;34m\u001b[0m\u001b[0;34m\u001b[0m\u001b[0m\n\u001b[0m\u001b[1;32m      5\u001b[0m \u001b[0my\u001b[0m \u001b[0;34m=\u001b[0m \u001b[0;36m20\u001b[0m\u001b[0;34m\u001b[0m\u001b[0;34m\u001b[0m\u001b[0m\n",
            "\u001b[0;31mValueError\u001b[0m: 코드를 잘~~ 만들어주세요."
          ]
        }
      ]
    },
    {
      "cell_type": "code",
      "source": [
        "class Leehojun(Exception): #Exception을 상속받으면 됩니다.\n",
        "    def __init__(self):\n",
        "        super().__init__('입력된 값이 leehojun이 아닙니다.')\n",
        "\n",
        "raise Leehojun"
      ],
      "metadata": {
        "colab": {
          "base_uri": "https://localhost:8080/",
          "height": 216
        },
        "id": "BcYddoG_Jjgq",
        "outputId": "1332547e-306c-4b48-f77a-754423c69844"
      },
      "execution_count": null,
      "outputs": [
        {
          "output_type": "error",
          "ename": "Leehojun",
          "evalue": "ignored",
          "traceback": [
            "\u001b[0;31m---------------------------------------------------------------------------\u001b[0m",
            "\u001b[0;31mLeehojun\u001b[0m                                  Traceback (most recent call last)",
            "\u001b[0;32m<ipython-input-115-b11d5076ad8d>\u001b[0m in \u001b[0;36m<cell line: 5>\u001b[0;34m()\u001b[0m\n\u001b[1;32m      3\u001b[0m         \u001b[0msuper\u001b[0m\u001b[0;34m(\u001b[0m\u001b[0;34m)\u001b[0m\u001b[0;34m.\u001b[0m\u001b[0m__init__\u001b[0m\u001b[0;34m(\u001b[0m\u001b[0;34m'입력된 값이 leehojun이 아닙니다.'\u001b[0m\u001b[0;34m)\u001b[0m\u001b[0;34m\u001b[0m\u001b[0;34m\u001b[0m\u001b[0m\n\u001b[1;32m      4\u001b[0m \u001b[0;34m\u001b[0m\u001b[0m\n\u001b[0;32m----> 5\u001b[0;31m \u001b[0;32mraise\u001b[0m \u001b[0mLeehojun\u001b[0m\u001b[0;34m\u001b[0m\u001b[0;34m\u001b[0m\u001b[0m\n\u001b[0m",
            "\u001b[0;31mLeehojun\u001b[0m: 입력된 값이 leehojun이 아닙니다."
          ]
        }
      ]
    },
    {
      "cell_type": "code",
      "source": [
        "import logging\n",
        "\n",
        "# logging.basicConfig(level=logging.DEBUG) # 어느 레벨부터 로깅할지, 기본으로 warning 부터 합니다.\n",
        "# logging.basicConfig(level=logging.CRITICAL)\n",
        "logging.basicConfig(level=logging.CRITICAL, format=f'%(asctime)s - %(message)s')\n",
        "\n",
        "logging.debug(\"This is a debug message\") # 고쳐야 할 코드, 기록 필요\n",
        "logging.info(\"This is an info message\") # 정보성 메시지\n",
        "logging.warning(\"This is a warning message\") # 경고 메시지\n",
        "logging.error(\"This is an error message\") # 애러 메시지(프로그램은 동작)\n",
        "logging.critical(\"This is a critical message\") # 프로그램 중지(애러처리 안된경우)"
      ],
      "metadata": {
        "colab": {
          "base_uri": "https://localhost:8080/"
        },
        "id": "SG8fMNpMKqqy",
        "outputId": "f827544d-166a-4beb-f8c2-96343fcde036"
      },
      "execution_count": null,
      "outputs": [
        {
          "output_type": "stream",
          "name": "stderr",
          "text": [
            "WARNING:root:This is a warning message\n",
            "ERROR:root:This is an error message\n",
            "CRITICAL:root:This is a critical message\n"
          ]
        }
      ]
    },
    {
      "cell_type": "code",
      "source": [
        "import logging.handlers\n",
        "\n",
        "def logger():\n",
        "    log_obj = logging.getLogger(\"log_name\") # log name으로 log 객체 생성\n",
        "    log_obj.setLevel(logging.ERROR) # 어디부터 기록할지 설정\n",
        "\n",
        "    fileHandeler = logging.FileHandler(filename=\"./test.txt\") # 파일로 기록\n",
        "    # streamHandler = logging.StreamHandler() # 콘솔에 출력\n",
        "\n",
        "    fileHandeler.setLevel(logging.ERROR) # 파일 기록 레벨 설정\n",
        "    # streamHandler.setLevel(logging.DEBUG) # 콘솔 기록 레벨 설정\n",
        "\n",
        "    formatter = logging.Formatter(\"%(name)s, %(asctime)s, %(levelname)s, %(message)s\") #포멧 생성\n",
        "\n",
        "    fileHandeler.setFormatter(formatter) # 파일 메시지 포멧 설정\n",
        "    # streamHandler.setFormatter(formatter) # 콘솔 메시지 포멧 설정\n",
        "\n",
        "    log_obj.addHandler(fileHandeler) # log_obj handler에 파일 출력 방식 추가\n",
        "    # log_obj.addHandler(streamHandler) # log_obj handler에 파일 콘솔 방식 추가\n",
        "\n",
        "    return log_obj\n",
        "\n",
        "log = logger()\n",
        "\n",
        "# 아래 코드를 기록하고 싶은 곳에 함께 설정\n",
        "log.debug('debug')\n",
        "log.info('info')\n",
        "log.warning('warning')\n",
        "log.error('error')\n",
        "log.critical('critical')\n",
        "\n",
        "print('---')\n",
        "\n",
        "# 아래와 같이 사용합니다.\n",
        "def f():\n",
        "    try:\n",
        "        x = 1 / 0\n",
        "    except Exception as e:\n",
        "        print(e)\n",
        "        log.error(f'{e} error')\n",
        "\n",
        "f()"
      ],
      "metadata": {
        "colab": {
          "base_uri": "https://localhost:8080/"
        },
        "id": "8b_9PEFCKrHR",
        "outputId": "3252c1a3-b82c-45f8-9a69-6476c6ef3445"
      },
      "execution_count": null,
      "outputs": [
        {
          "output_type": "stream",
          "name": "stderr",
          "text": [
            "ERROR:log_name:error\n",
            "CRITICAL:log_name:critical\n",
            "ERROR:log_name:division by zero error\n"
          ]
        },
        {
          "output_type": "stream",
          "name": "stdout",
          "text": [
            "---\n",
            "division by zero\n"
          ]
        }
      ]
    },
    {
      "cell_type": "markdown",
      "source": [
        "# 연습문제"
      ],
      "metadata": {
        "id": "qyAvFN4sMQPh"
      }
    },
    {
      "cell_type": "code",
      "source": [
        "# 문제1(라운지 쓰레드)\n",
        "# 두 수를 나누는 함수 div(a, b)가 있었을 때\n",
        "# b에 0이 입력되면 예외처리를 하여 정상작동이 되는 함수로 작성을 해주세요.\n",
        "\n",
        "def div(a, b):\n",
        "    try:\n",
        "        return a / b\n",
        "    except ZeroDivisionError:\n",
        "        print('ZeroDivisionError')\n",
        "    except:\n",
        "        print('Error')\n",
        "\n",
        "div(3, '1')\n",
        "div(3, 0)\n",
        "\n",
        "# 문제2(class 쓰레드)\n",
        "# 하나의 숫자에 제곱근을 구하는 함수 sqrt_number(num)이 있었을 때\n",
        "# 자체 예외 NegativeNumberError를 정의하세요. 이 예외는 음수가 입력될 때 발생하도록 합니다.\n",
        "# 사용자로부터 숫자를 입력 받아 그 숫자의 제곱근을 반환하는 함수를 작성하세요.\n",
        "# 입력된 숫자가 음수이면 NegativeNumberError를 발생시키고\n",
        "# \"음수의 제곱근은 계산할 수 없습니다.\"라는 메시지를 출력하세요.\n",
        "\n",
        "class NegativeNumberError(Exception):\n",
        "    pass\n",
        "\n",
        "def sqrt_number(num):\n",
        "    if num >= 0:\n",
        "        return num ** 0.5\n",
        "    else:\n",
        "        print('음수의 제곱근은 계산할 수 없습니다.')\n",
        "        raise NegativeNumberError\n",
        "\n",
        "# 문제3(class 쓰레드)\n",
        "# 사용자로부터 인덱스 값을 입력 받아서 리스트 [\"apple\", \"banana\", \"cherry\"]에서\n",
        "# 해당 인덱스의 값을 출력하는 함수를 작성하세요.\n",
        "# 사용자가 범위를 벗어난 인덱스를 입력하면 \"리스트의 범위를 벗어났습니다.\"라는 메시지를 출력하세요.\n",
        "\n",
        "def get_item(num):\n",
        "    item_list = ['apple', 'banana', 'cherry']\n",
        "    try:\n",
        "        return item_list[num]\n",
        "    except IndexError:\n",
        "        return '리스트의 범위를 벗어났습니다.'\n",
        "    except: # 이런 경우에 대비하시는 것이 좋습니다.\n",
        "        return '예상치 못한 애러입니다.'\n",
        "\n",
        "num = int(input('인덱스 값을 입력해 주세요.: '))\n",
        "get_item(num)"
      ],
      "metadata": {
        "colab": {
          "base_uri": "https://localhost:8080/",
          "height": 71
        },
        "id": "woh2BrygMDym",
        "outputId": "112a23d4-d1d9-411b-b523-30477f881aa8"
      },
      "execution_count": null,
      "outputs": [
        {
          "name": "stdout",
          "output_type": "stream",
          "text": [
            "Error\n",
            "인덱스 값을 입력해 주세요.: 1\n"
          ]
        },
        {
          "output_type": "execute_result",
          "data": {
            "text/plain": [
              "'예상치 못한 애러입니다.'"
            ],
            "application/vnd.google.colaboratory.intrinsic+json": {
              "type": "string"
            }
          },
          "metadata": {},
          "execution_count": 18
        }
      ]
    },
    {
      "cell_type": "code",
      "source": [
        "def div(a, b):\n",
        "    try:\n",
        "        return a / b\n",
        "    except ZeroDivisionError:\n",
        "        print('ZeroDivisionError')\n",
        "    except:\n",
        "        print('Error')\n",
        "\n",
        "div(3, '1')\n",
        "div(3, 0)"
      ],
      "metadata": {
        "colab": {
          "base_uri": "https://localhost:8080/"
        },
        "id": "PiTgKU3mpI57",
        "outputId": "c097f63f-13d1-49f9-cd8b-8a1cf0799023"
      },
      "execution_count": null,
      "outputs": [
        {
          "output_type": "stream",
          "name": "stdout",
          "text": [
            "Error\n",
            "ZeroDivisionError\n"
          ]
        }
      ]
    },
    {
      "cell_type": "code",
      "source": [
        "class NegativeNumberError(Exception):\n",
        "    pass\n",
        "\n",
        "def sqrt_number(num):\n",
        "    if num >= 0:\n",
        "        return num ** 0.5\n",
        "    else:\n",
        "        print('음수의 제곱근은 계산할 수 없습니다.')\n",
        "        raise NegativeNumberError\n",
        "\n",
        "sqrt_number(4)\n",
        "sqrt_number(-4)"
      ],
      "metadata": {
        "id": "0nhJYfH3pibc"
      },
      "execution_count": null,
      "outputs": []
    },
    {
      "cell_type": "code",
      "source": [
        "class NegativeNumberError(Exception):\n",
        "    def __init__(self):\n",
        "        super().__init__('음수의 제곱근은 계산할 수 없습니다.')\n",
        "\n",
        "def sqrt_number(num):\n",
        "    if num >= 0:\n",
        "        return num ** 0.5\n",
        "    else:\n",
        "        print('음수의 제곱근은 계산할 수 없습니다.')\n",
        "        raise NegativeNumberError\n",
        "\n",
        "sqrt_number(4)\n",
        "sqrt_number(-4)"
      ],
      "metadata": {
        "colab": {
          "base_uri": "https://localhost:8080/",
          "height": 359
        },
        "id": "NEsuNxPMppds",
        "outputId": "1e5ff97d-1d6c-4ba1-ef42-91d5e7d10a44"
      },
      "execution_count": null,
      "outputs": [
        {
          "output_type": "stream",
          "name": "stdout",
          "text": [
            "음수의 제곱근은 계산할 수 없습니다.\n"
          ]
        },
        {
          "output_type": "error",
          "ename": "NegativeNumberError",
          "evalue": "ignored",
          "traceback": [
            "\u001b[0;31m---------------------------------------------------------------------------\u001b[0m",
            "\u001b[0;31mNegativeNumberError\u001b[0m                       Traceback (most recent call last)",
            "\u001b[0;32m<ipython-input-26-b5b11ba595af>\u001b[0m in \u001b[0;36m<cell line: 13>\u001b[0;34m()\u001b[0m\n\u001b[1;32m     11\u001b[0m \u001b[0;34m\u001b[0m\u001b[0m\n\u001b[1;32m     12\u001b[0m \u001b[0msqrt_number\u001b[0m\u001b[0;34m(\u001b[0m\u001b[0;36m4\u001b[0m\u001b[0;34m)\u001b[0m\u001b[0;34m\u001b[0m\u001b[0;34m\u001b[0m\u001b[0m\n\u001b[0;32m---> 13\u001b[0;31m \u001b[0msqrt_number\u001b[0m\u001b[0;34m(\u001b[0m\u001b[0;34m-\u001b[0m\u001b[0;36m4\u001b[0m\u001b[0;34m)\u001b[0m\u001b[0;34m\u001b[0m\u001b[0;34m\u001b[0m\u001b[0m\n\u001b[0m",
            "\u001b[0;32m<ipython-input-26-b5b11ba595af>\u001b[0m in \u001b[0;36msqrt_number\u001b[0;34m(num)\u001b[0m\n\u001b[1;32m      8\u001b[0m     \u001b[0;32melse\u001b[0m\u001b[0;34m:\u001b[0m\u001b[0;34m\u001b[0m\u001b[0;34m\u001b[0m\u001b[0m\n\u001b[1;32m      9\u001b[0m         \u001b[0mprint\u001b[0m\u001b[0;34m(\u001b[0m\u001b[0;34m'음수의 제곱근은 계산할 수 없습니다.'\u001b[0m\u001b[0;34m)\u001b[0m\u001b[0;34m\u001b[0m\u001b[0;34m\u001b[0m\u001b[0m\n\u001b[0;32m---> 10\u001b[0;31m         \u001b[0;32mraise\u001b[0m \u001b[0mNegativeNumberError\u001b[0m\u001b[0;34m\u001b[0m\u001b[0;34m\u001b[0m\u001b[0m\n\u001b[0m\u001b[1;32m     11\u001b[0m \u001b[0;34m\u001b[0m\u001b[0m\n\u001b[1;32m     12\u001b[0m \u001b[0msqrt_number\u001b[0m\u001b[0;34m(\u001b[0m\u001b[0;36m4\u001b[0m\u001b[0;34m)\u001b[0m\u001b[0;34m\u001b[0m\u001b[0;34m\u001b[0m\u001b[0m\n",
            "\u001b[0;31mNegativeNumberError\u001b[0m: 음수의 제곱근은 계산할 수 없습니다."
          ]
        }
      ]
    },
    {
      "cell_type": "code",
      "source": [
        "def get_item(num):\n",
        "    item_list = ['apple', 'banana', 'cherry']\n",
        "    try:\n",
        "        return item_list[num]\n",
        "    except IndexError:\n",
        "        return '리스트의 범위를 벗어났습니다.'\n",
        "    except: # 이런 경우에 대비하시는 것이 좋습니다.\n",
        "        return '예상치 못한 애러입니다.'\n",
        "\n",
        "num = int(input('인덱스 값을 입력해 주세요.: '))\n",
        "get_item('1')"
      ],
      "metadata": {
        "colab": {
          "base_uri": "https://localhost:8080/",
          "height": 53
        },
        "id": "t5YY_TcdqKDK",
        "outputId": "2ed3bb00-608b-43b0-e3a5-1e21f2334eb0"
      },
      "execution_count": null,
      "outputs": [
        {
          "name": "stdout",
          "output_type": "stream",
          "text": [
            "인덱스 값을 입력해 주세요.: 1\n"
          ]
        },
        {
          "output_type": "execute_result",
          "data": {
            "text/plain": [
              "'예상치 못한 애러입니다.'"
            ],
            "application/vnd.google.colaboratory.intrinsic+json": {
              "type": "string"
            }
          },
          "metadata": {},
          "execution_count": 31
        }
      ]
    }
  ]
}